{
 "cells": [
  {
   "cell_type": "code",
   "execution_count": 1,
   "id": "3621d3cd",
   "metadata": {},
   "outputs": [
    {
     "name": "stdout",
     "output_type": "stream",
     "text": [
      "!! Sanity check: the result must be zero.\n"
     ]
    },
    {
     "data": {
      "text/html": [
       "<html>\\(\\displaystyle 0\\)</html>"
      ],
      "text/latex": [
       "$\\displaystyle 0$"
      ],
      "text/plain": [
       "0"
      ]
     },
     "metadata": {},
     "output_type": "display_data"
    }
   ],
   "source": [
    "#### Constants in the scheme\n",
    "C = var(\"C\", latex_name=\"\\\\mathcal{C}\") ## Courant number\n",
    "s1 = var(\"s1\", latex_name=\"s_1\")        ## First relaxation parameter (useless)\n",
    "s2 = var(\"s2\", latex_name=\"s_2\")        ## Second relaxation parameter\n",
    "s3 = var(\"s3\", latex_name=\"s_3\")        ## Third relaxation parameter\n",
    "\n",
    "assume(C,'real')\n",
    "assume(C>-1/2)\n",
    "assume(C< 1/2)\n",
    "\n",
    "s2 = 2\n",
    "s3 = 2\n",
    "\n",
    "#### Pieces involved in the scheme\n",
    "q = 3 ## Number of discrete velocities\n",
    "c1 = 0  ## First discrete velocity\n",
    "c2 = 1  ## Second discrete velocity\n",
    "c3 = -1 ## Third discrete velocity\n",
    "r = 1 ## Stencil to the left\n",
    "p = 1 ## Stencil to the right\n",
    "M = matrix([[1,  1,  1], \\\n",
    "            [0,  1, -1], \\\n",
    "            [0,  1,  1]]) ## Moment matrix\n",
    "eps1 = 1              ## First equilibrium coefficient (useless)\n",
    "eps2 = C              ## Second equilibrium coefficient\n",
    "eps3 = 1/3*(1+2*C**2) ## Third equilibrium coefficient\n",
    "\n",
    "#### Construction of the objects involved in the analysis\n",
    "k = var(\"kappa\", latex_name=\"\\\\kappa\") \n",
    "\n",
    "Minv = M.inverse()\n",
    "K = identity_matrix(q)+diagonal_matrix([s1, s2, s3])\\\n",
    "        *(matrix([[eps1], [eps2], [eps3]])*matrix([[1, 0, 0]])-identity_matrix(q))\n",
    "Ehat = M*diagonal_matrix([k**(-c1), k**(-c2), k**(-c3)])*Minv*K #### Bulk matrix scheme \"Fourier\"\n",
    "for i in range(q):\n",
    "    for j in range(q):\n",
    "        Ehat[i, j] = Ehat[i, j].full_simplify().collect(k)\n",
    "    \n",
    "z = var(\"z\", latex_name=\"z\") \n",
    "\n",
    "charEq = (z*identity_matrix(q)-Ehat).determinant().full_simplify().collect(k) #### Characteristic equation\n",
    "dm1 = charEq.coefficient(k, -1).collect(z) ### Coefficient d_{-1} of the characteristic equation\n",
    "d0  = charEq.coefficient(k,  0).collect(z) ### Coefficient d_{0} of the characteristic equation\n",
    "dp1 = charEq.coefficient(k,  1).collect(z) ### Coefficient d_{1} of the characteristic equation\n",
    "\n",
    "Em1 = matrix(SR, q, q) ### Matrix for the point -1\n",
    "E0  = matrix(SR, q, q) ### Matrix for the point 0\n",
    "Ep1 = matrix(SR, q, q) ### Matrix for the point 1\n",
    "for i in range(q):\n",
    "    for j in range(q):\n",
    "        Em1[i, j] = Ehat[i, j].coefficient(k, -1)\n",
    "        E0[i, j]  = Ehat[i, j].coefficient(k,  0)\n",
    "        Ep1[i, j] = Ehat[i, j].coefficient(k,  1)\n",
    "Lz = - Em1 + (z*identity_matrix(q)-E0)*k - Ep1*k**2 ### Matrix polynomial in k\n",
    "print('!! Sanity check: the result must be zero.')\n",
    "pretty_print((Lz.determinant()/k**(r*q)-charEq).full_simplify()) ### Sanity check\n",
    "\n",
    "kplus  = ((-d0+sqrt(d0**2-4*dp1*dm1))/2/dp1).full_simplify() ### Root of the char eq with the plus\n",
    "kminus = ((-d0-sqrt(d0**2-4*dp1*dm1))/2/dp1).full_simplify() ### Root of the char eq with the minus\n",
    "\n",
    "\n",
    "Pi = (dm1/dp1).full_simplify() ### This is the product of the roots in k "
   ]
  },
  {
   "cell_type": "code",
   "execution_count": 2,
   "id": "d2815903",
   "metadata": {},
   "outputs": [],
   "source": [
    "##### Boundary conditions that we analyze for any value of C and s_2 and s_3\n",
    "bdMat_BB = z*identity_matrix(q) - M*matrix([[1, 0, 0], [0, 0, 1], [0, 0, k]])*Minv*K ## Bounce back\n",
    "bdMat_ABB = z*identity_matrix(q) - M*matrix([[1, 0, 0], [0, 0, -1], [0, 0, k]])*Minv*K ## Anti Bounce back\n",
    "bdMat_TwoABB = z*identity_matrix(q) - M*matrix([[1, 0, 0], [-1, 0, -k], [0, 0, k]])*Minv*K ## Two steps Anti Bounce back\n",
    "bdMat_sigma1 = z*identity_matrix(q) - M*matrix([[1, 0, 0], [0, 1, 0], [0, 0, k]])*Minv*K ## Extrapolation sigma = 1\n",
    "bdMat_sigma2 = z*identity_matrix(q) - M*matrix([[1, 0, 0], [0, 2-k, 0], [0, 0, k]])*Minv*K ## Extrapolation sigma = 2\n",
    "bdMat_sigma3 = z*identity_matrix(q) - M*matrix([[1, 0, 0], [0, 3-3*k+k**2, 0], [0, 0, k]])*Minv*K ## Extrapolation sigma = 3\n",
    "bdMat_sigma4 = z*identity_matrix(q) - M*matrix([[1, 0, 0], [0, 4-6*k+4*k**2-k**3, 0], [0, 0, k]])*Minv*K ## Extrapolation sigma = 4\n",
    "bdMat_kinDir = z*identity_matrix(q) - M*matrix([[1, 0, 0], [0, 0, 0], [0, 0, k]])*Minv*K ## Kinetic dirichlet"
   ]
  },
  {
   "cell_type": "code",
   "execution_count": 3,
   "id": "7638f9ca",
   "metadata": {},
   "outputs": [
    {
     "name": "stdout",
     "output_type": "stream",
     "text": [
      "Bounce back\n"
     ]
    },
    {
     "data": {
      "text/html": [
       "<html>\\(\\displaystyle \\left[\\left[{z} = 0, {\\kappa} = 0\\right], \\left[{z} = 1, {\\kappa} = \\left(-1\\right)\\right], \\left[{z} = \\left(-1\\right), {\\kappa} = 1\\right]\\right]\\)</html>"
      ],
      "text/latex": [
       "$\\displaystyle \\left[\\left[{z} = 0, {\\kappa} = 0\\right], \\left[{z} = 1, {\\kappa} = \\left(-1\\right)\\right], \\left[{z} = \\left(-1\\right), {\\kappa} = 1\\right]\\right]$"
      ],
      "text/plain": [
       "[[z == 0, kappa == 0], [z == 1, kappa == -1], [z == -1, kappa == 1]]"
      ]
     },
     "metadata": {},
     "output_type": "display_data"
    },
    {
     "name": "stdout",
     "output_type": "stream",
     "text": [
      "Anti Bounce back\n"
     ]
    },
    {
     "data": {
      "text/html": [
       "<html>\\(\\displaystyle \\left[\\left[{z} = 0, {\\kappa} = 0\\right], \\left[{z} = \\left(-1\\right), {\\kappa} = 1\\right]\\right]\\)</html>"
      ],
      "text/latex": [
       "$\\displaystyle \\left[\\left[{z} = 0, {\\kappa} = 0\\right], \\left[{z} = \\left(-1\\right), {\\kappa} = 1\\right]\\right]$"
      ],
      "text/plain": [
       "[[z == 0, kappa == 0], [z == -1, kappa == 1]]"
      ]
     },
     "metadata": {},
     "output_type": "display_data"
    },
    {
     "name": "stdout",
     "output_type": "stream",
     "text": [
      "Two steps anti Bounce back\n"
     ]
    },
    {
     "data": {
      "text/html": [
       "<html>\\(\\displaystyle \\left[\\left[{z} = 0, {\\kappa} = 0\\right], \\left[{z} = \\left(-1\\right), {\\kappa} = 1\\right], \\left[{z} = 1, {\\kappa} = \\left(-1\\right)\\right]\\right]\\)</html>"
      ],
      "text/latex": [
       "$\\displaystyle \\left[\\left[{z} = 0, {\\kappa} = 0\\right], \\left[{z} = \\left(-1\\right), {\\kappa} = 1\\right], \\left[{z} = 1, {\\kappa} = \\left(-1\\right)\\right]\\right]$"
      ],
      "text/plain": [
       "[[z == 0, kappa == 0], [z == -1, kappa == 1], [z == 1, kappa == -1]]"
      ]
     },
     "metadata": {},
     "output_type": "display_data"
    },
    {
     "name": "stdout",
     "output_type": "stream",
     "text": [
      "Extrapolation sigma = 1\n"
     ]
    },
    {
     "data": {
      "text/html": [
       "<html>\\(\\displaystyle \\left[\\left[{z} = \\left(-1\\right), {\\kappa} = 1\\right], \\left[{z} = 1, {\\kappa} = 1\\right], \\left[{z} = 0, {\\kappa} = 0\\right]\\right]\\)</html>"
      ],
      "text/latex": [
       "$\\displaystyle \\left[\\left[{z} = \\left(-1\\right), {\\kappa} = 1\\right], \\left[{z} = 1, {\\kappa} = 1\\right], \\left[{z} = 0, {\\kappa} = 0\\right]\\right]$"
      ],
      "text/plain": [
       "[[z == -1, kappa == 1], [z == 1, kappa == 1], [z == 0, kappa == 0]]"
      ]
     },
     "metadata": {},
     "output_type": "display_data"
    },
    {
     "name": "stdout",
     "output_type": "stream",
     "text": [
      "Extrapolation sigma = 2\n"
     ]
    },
    {
     "data": {
      "text/html": [
       "<html>\\(\\displaystyle \\left[\\left[{z} = \\left(-1\\right), {\\kappa} = 1\\right], \\left[{z} = 1, {\\kappa} = 1\\right], \\left[{z} = 0, {\\kappa} = 0\\right]\\right]\\)</html>"
      ],
      "text/latex": [
       "$\\displaystyle \\left[\\left[{z} = \\left(-1\\right), {\\kappa} = 1\\right], \\left[{z} = 1, {\\kappa} = 1\\right], \\left[{z} = 0, {\\kappa} = 0\\right]\\right]$"
      ],
      "text/plain": [
       "[[z == -1, kappa == 1], [z == 1, kappa == 1], [z == 0, kappa == 0]]"
      ]
     },
     "metadata": {},
     "output_type": "display_data"
    },
    {
     "name": "stdout",
     "output_type": "stream",
     "text": [
      "Extrapolation sigma = 3\n"
     ]
    },
    {
     "data": {
      "text/html": [
       "<html>\\(\\displaystyle \\left[\\left[{z} = \\left(-1\\right), {\\kappa} = 1\\right], \\left[{z} = 1, {\\kappa} = 1\\right], \\left[{z} = 0, {\\kappa} = 0\\right]\\right]\\)</html>"
      ],
      "text/latex": [
       "$\\displaystyle \\left[\\left[{z} = \\left(-1\\right), {\\kappa} = 1\\right], \\left[{z} = 1, {\\kappa} = 1\\right], \\left[{z} = 0, {\\kappa} = 0\\right]\\right]$"
      ],
      "text/plain": [
       "[[z == -1, kappa == 1], [z == 1, kappa == 1], [z == 0, kappa == 0]]"
      ]
     },
     "metadata": {},
     "output_type": "display_data"
    },
    {
     "name": "stdout",
     "output_type": "stream",
     "text": [
      "Extrapolation sigma = 4\n"
     ]
    },
    {
     "data": {
      "text/html": [
       "<html>\\(\\displaystyle \\left[\\left[{z} = \\left(-1\\right), {\\kappa} = 1\\right], \\left[{z} = 1, {\\kappa} = 1\\right], \\left[{z} = 0, {\\kappa} = 0\\right]\\right]\\)</html>"
      ],
      "text/latex": [
       "$\\displaystyle \\left[\\left[{z} = \\left(-1\\right), {\\kappa} = 1\\right], \\left[{z} = 1, {\\kappa} = 1\\right], \\left[{z} = 0, {\\kappa} = 0\\right]\\right]$"
      ],
      "text/plain": [
       "[[z == -1, kappa == 1], [z == 1, kappa == 1], [z == 0, kappa == 0]]"
      ]
     },
     "metadata": {},
     "output_type": "display_data"
    },
    {
     "name": "stdout",
     "output_type": "stream",
     "text": [
      "Kinetic Dirichlet\n"
     ]
    },
    {
     "data": {
      "text/html": [
       "<html>\\(\\displaystyle \\left[\\left[{z} = 0, {\\kappa} = 0\\right], \\left[{z} = \\left(-1\\right), {\\kappa} = 1\\right]\\right]\\)</html>"
      ],
      "text/latex": [
       "$\\displaystyle \\left[\\left[{z} = 0, {\\kappa} = 0\\right], \\left[{z} = \\left(-1\\right), {\\kappa} = 1\\right]\\right]$"
      ],
      "text/plain": [
       "[[z == 0, kappa == 0], [z == -1, kappa == 1]]"
      ]
     },
     "metadata": {},
     "output_type": "display_data"
    }
   ],
   "source": [
    "##### We find the critical (z, k) eigenvalues between boundary and bulk\n",
    "print(\"Bounce back\")\n",
    "pretty_print(solve([charEq.full_simplify(), bdMat_BB.determinant().full_simplify()], (z, k)))\n",
    "print(\"Anti Bounce back\")\n",
    "pretty_print(solve([charEq.full_simplify(), bdMat_ABB.determinant().full_simplify()], (z, k))) \n",
    "print(\"Two steps anti Bounce back\")\n",
    "pretty_print(solve([charEq.full_simplify(), bdMat_TwoABB.determinant().full_simplify()], (z, k)))\n",
    "print(\"Extrapolation sigma = 1\")\n",
    "pretty_print(solve([charEq.full_simplify(), bdMat_sigma1.determinant().full_simplify()], (z, k)))\n",
    "print(\"Extrapolation sigma = 2\")\n",
    "pretty_print(solve([charEq.full_simplify(), bdMat_sigma2.determinant().full_simplify()], (z, k)))\n",
    "print(\"Extrapolation sigma = 3\")\n",
    "pretty_print(solve([charEq.full_simplify(), bdMat_sigma3.determinant().full_simplify()], (z, k)))\n",
    "print(\"Extrapolation sigma = 4\")\n",
    "pretty_print(solve([charEq.full_simplify(), bdMat_sigma4.determinant().full_simplify()], (z, k)))\n",
    "print(\"Kinetic Dirichlet\")\n",
    "pretty_print(solve([charEq.full_simplify(), bdMat_kinDir.determinant().full_simplify()], (z, k)))"
   ]
  },
  {
   "cell_type": "code",
   "execution_count": 4,
   "id": "97237ef1",
   "metadata": {},
   "outputs": [
    {
     "name": "stdout",
     "output_type": "stream",
     "text": [
      "Bounce back\n"
     ]
    },
    {
     "data": {
      "text/html": [
       "<html>\\(\\displaystyle \\left[\\left[{z} = 0, {\\kappa} = 0\\right], \\left[{z} = 1, {\\kappa} = \\left(-1\\right)\\right], \\left[{z} = \\left(-1\\right), {\\kappa} = 1\\right]\\right]\\)</html>"
      ],
      "text/latex": [
       "$\\displaystyle \\left[\\left[{z} = 0, {\\kappa} = 0\\right], \\left[{z} = 1, {\\kappa} = \\left(-1\\right)\\right], \\left[{z} = \\left(-1\\right), {\\kappa} = 1\\right]\\right]$"
      ],
      "text/plain": [
       "[[z == 0, kappa == 0], [z == 1, kappa == -1], [z == -1, kappa == 1]]"
      ]
     },
     "metadata": {},
     "output_type": "display_data"
    },
    {
     "name": "stdout",
     "output_type": "stream",
     "text": [
      "Anti Bounce back\n"
     ]
    },
    {
     "data": {
      "text/html": [
       "<html>\\(\\displaystyle \\left[\\left[{z} = 0, {\\kappa} = 0\\right], \\left[{z} = \\left(-1\\right), {\\kappa} = 1\\right], \\left[{z} = -\\frac{16}{507} i \\, \\sqrt{935} + \\frac{133}{507}, {\\kappa} = -\\frac{1872}{73529} i \\, \\sqrt{935} - \\frac{46151}{73529}\\right], \\left[{z} = \\frac{16}{507} i \\, \\sqrt{935} + \\frac{133}{507}, {\\kappa} = \\frac{1872}{73529} i \\, \\sqrt{935} - \\frac{46151}{73529}\\right]\\right]\\)</html>"
      ],
      "text/latex": [
       "$\\displaystyle \\left[\\left[{z} = 0, {\\kappa} = 0\\right], \\left[{z} = \\left(-1\\right), {\\kappa} = 1\\right], \\left[{z} = -\\frac{16}{507} i \\, \\sqrt{935} + \\frac{133}{507}, {\\kappa} = -\\frac{1872}{73529} i \\, \\sqrt{935} - \\frac{46151}{73529}\\right], \\left[{z} = \\frac{16}{507} i \\, \\sqrt{935} + \\frac{133}{507}, {\\kappa} = \\frac{1872}{73529} i \\, \\sqrt{935} - \\frac{46151}{73529}\\right]\\right]$"
      ],
      "text/plain": [
       "[[z == 0, kappa == 0], [z == -1, kappa == 1], [z == -16/507*I*sqrt(935) + 133/507, kappa == -1872/73529*I*sqrt(935) - 46151/73529], [z == 16/507*I*sqrt(935) + 133/507, kappa == 1872/73529*I*sqrt(935) - 46151/73529]]"
      ]
     },
     "metadata": {},
     "output_type": "display_data"
    },
    {
     "name": "stdout",
     "output_type": "stream",
     "text": [
      "!!!! We see that the previous computation for any value of C for the anti bounce back condition has missed a couple of complex conjugate roots\n",
      "Two steps anti Bounce back\n"
     ]
    },
    {
     "data": {
      "text/html": [
       "<html>\\(\\displaystyle \\left[\\left[{z} = 0, {\\kappa} = 0\\right], \\left[{z} = \\left(-1\\right), {\\kappa} = 1\\right], \\left[{z} = 1, {\\kappa} = \\left(-1\\right)\\right]\\right]\\)</html>"
      ],
      "text/latex": [
       "$\\displaystyle \\left[\\left[{z} = 0, {\\kappa} = 0\\right], \\left[{z} = \\left(-1\\right), {\\kappa} = 1\\right], \\left[{z} = 1, {\\kappa} = \\left(-1\\right)\\right]\\right]$"
      ],
      "text/plain": [
       "[[z == 0, kappa == 0], [z == -1, kappa == 1], [z == 1, kappa == -1]]"
      ]
     },
     "metadata": {},
     "output_type": "display_data"
    },
    {
     "name": "stdout",
     "output_type": "stream",
     "text": [
      "Extrapolation sigma = 1\n"
     ]
    },
    {
     "data": {
      "text/html": [
       "<html>\\(\\displaystyle \\left[\\left[{z} = \\left(-1\\right), {\\kappa} = 1\\right], \\left[{z} = 1, {\\kappa} = 1\\right], \\left[{z} = 0, {\\kappa} = 0\\right]\\right]\\)</html>"
      ],
      "text/latex": [
       "$\\displaystyle \\left[\\left[{z} = \\left(-1\\right), {\\kappa} = 1\\right], \\left[{z} = 1, {\\kappa} = 1\\right], \\left[{z} = 0, {\\kappa} = 0\\right]\\right]$"
      ],
      "text/plain": [
       "[[z == -1, kappa == 1], [z == 1, kappa == 1], [z == 0, kappa == 0]]"
      ]
     },
     "metadata": {},
     "output_type": "display_data"
    },
    {
     "name": "stdout",
     "output_type": "stream",
     "text": [
      "Extrapolation sigma = 2\n"
     ]
    },
    {
     "data": {
      "text/html": [
       "<html>\\(\\displaystyle \\left[\\left[{z} = \\left(-1\\right), {\\kappa} = 1\\right], \\left[{z} = 1, {\\kappa} = 1\\right], \\left[{z} = 0, {\\kappa} = 0\\right]\\right]\\)</html>"
      ],
      "text/latex": [
       "$\\displaystyle \\left[\\left[{z} = \\left(-1\\right), {\\kappa} = 1\\right], \\left[{z} = 1, {\\kappa} = 1\\right], \\left[{z} = 0, {\\kappa} = 0\\right]\\right]$"
      ],
      "text/plain": [
       "[[z == -1, kappa == 1], [z == 1, kappa == 1], [z == 0, kappa == 0]]"
      ]
     },
     "metadata": {},
     "output_type": "display_data"
    },
    {
     "name": "stdout",
     "output_type": "stream",
     "text": [
      "Extrapolation sigma = 3\n"
     ]
    },
    {
     "data": {
      "text/html": [
       "<html>\\(\\displaystyle \\left[\\left[{z} = \\left(-1\\right), {\\kappa} = 1\\right], \\left[{z} = 1, {\\kappa} = 1\\right], \\left[{z} = 0, {\\kappa} = 0\\right]\\right]\\)</html>"
      ],
      "text/latex": [
       "$\\displaystyle \\left[\\left[{z} = \\left(-1\\right), {\\kappa} = 1\\right], \\left[{z} = 1, {\\kappa} = 1\\right], \\left[{z} = 0, {\\kappa} = 0\\right]\\right]$"
      ],
      "text/plain": [
       "[[z == -1, kappa == 1], [z == 1, kappa == 1], [z == 0, kappa == 0]]"
      ]
     },
     "metadata": {},
     "output_type": "display_data"
    },
    {
     "name": "stdout",
     "output_type": "stream",
     "text": [
      "Extrapolation sigma = 4\n"
     ]
    },
    {
     "data": {
      "text/html": [
       "<html>\\(\\displaystyle \\left[\\left[{z} = \\left(-1\\right), {\\kappa} = 1\\right], \\left[{z} = 1, {\\kappa} = 1\\right], \\left[{z} = 0, {\\kappa} = 0\\right]\\right]\\)</html>"
      ],
      "text/latex": [
       "$\\displaystyle \\left[\\left[{z} = \\left(-1\\right), {\\kappa} = 1\\right], \\left[{z} = 1, {\\kappa} = 1\\right], \\left[{z} = 0, {\\kappa} = 0\\right]\\right]$"
      ],
      "text/plain": [
       "[[z == -1, kappa == 1], [z == 1, kappa == 1], [z == 0, kappa == 0]]"
      ]
     },
     "metadata": {},
     "output_type": "display_data"
    },
    {
     "name": "stdout",
     "output_type": "stream",
     "text": [
      "Kinetic Dirichlet\n"
     ]
    },
    {
     "data": {
      "text/html": [
       "<html>\\(\\displaystyle \\left[\\left[{z} = 0, {\\kappa} = 0\\right], \\left[{z} = \\left(-1\\right), {\\kappa} = 1\\right]\\right]\\)</html>"
      ],
      "text/latex": [
       "$\\displaystyle \\left[\\left[{z} = 0, {\\kappa} = 0\\right], \\left[{z} = \\left(-1\\right), {\\kappa} = 1\\right]\\right]$"
      ],
      "text/plain": [
       "[[z == 0, kappa == 0], [z == -1, kappa == 1]]"
      ]
     },
     "metadata": {},
     "output_type": "display_data"
    }
   ],
   "source": [
    "##### Sanity check : we set some values for C and see if we find more\n",
    "##### Sometimes sagemath does not give all the roots\n",
    "\n",
    "C_val = -3/13\n",
    "\n",
    "print(\"Bounce back\")\n",
    "pretty_print(solve([charEq.subs(C=C_val).full_simplify(), bdMat_BB.subs(C=C_val).determinant().full_simplify()], (z, k)))\n",
    "print(\"Anti Bounce back\")\n",
    "pretty_print(solve([charEq.subs(C=C_val).full_simplify(), bdMat_ABB.subs(C=C_val).determinant().full_simplify()], (z, k)))\n",
    "print(\"!!!! We see that the previous computation for any value of C for the anti bounce back condition has missed a couple of complex conjugate roots\")\n",
    "print(\"Two steps anti Bounce back\")\n",
    "pretty_print(solve([charEq.subs(C=C_val).full_simplify(), bdMat_TwoABB.subs(C=C_val).determinant().full_simplify()], (z, k)))\n",
    "print(\"Extrapolation sigma = 1\")\n",
    "pretty_print(solve([charEq.subs(C=C_val).full_simplify(), bdMat_sigma1.subs(C=C_val).determinant().full_simplify()], (z, k)))\n",
    "print(\"Extrapolation sigma = 2\")\n",
    "pretty_print(solve([charEq.subs(C=C_val).full_simplify(), bdMat_sigma2.subs(C=C_val).determinant().full_simplify()], (z, k)))\n",
    "print(\"Extrapolation sigma = 3\")\n",
    "pretty_print(solve([charEq.subs(C=C_val).full_simplify(), bdMat_sigma3.subs(C=C_val).determinant().full_simplify()], (z, k)))\n",
    "print(\"Extrapolation sigma = 4\")\n",
    "pretty_print(solve([charEq.subs(C=C_val).full_simplify(), bdMat_sigma4.subs(C=C_val).determinant().full_simplify()], (z, k)))\n",
    "print(\"Kinetic Dirichlet\")\n",
    "pretty_print(solve([charEq.subs(C=C_val).full_simplify(), bdMat_kinDir.subs(C=C_val).determinant().full_simplify()], (z, k)))"
   ]
  },
  {
   "cell_type": "code",
   "execution_count": 75,
   "id": "e35d7839",
   "metadata": {},
   "outputs": [
    {
     "name": "stdout",
     "output_type": "stream",
     "text": [
      "Anti Bounce back (now correct)\n"
     ]
    },
    {
     "data": {
      "text/html": [
       "<html>\\(\\displaystyle \\left[{z} = -\\frac{4}{3} \\, {\\mathcal{C}}^{2} - \\frac{2}{3} \\, \\sqrt{4 \\, {\\mathcal{C}}^{4} - 2 \\, {\\mathcal{C}}^{2} - 2} + \\frac{1}{3}, {z} = -\\frac{4}{3} \\, {\\mathcal{C}}^{2} + \\frac{2}{3} \\, \\sqrt{4 \\, {\\mathcal{C}}^{4} - 2 \\, {\\mathcal{C}}^{2} - 2} + \\frac{1}{3}, {z} = \\left(-1\\right)\\right]\\)</html>"
      ],
      "text/latex": [
       "$\\displaystyle \\left[{z} = -\\frac{4}{3} \\, {\\mathcal{C}}^{2} - \\frac{2}{3} \\, \\sqrt{4 \\, {\\mathcal{C}}^{4} - 2 \\, {\\mathcal{C}}^{2} - 2} + \\frac{1}{3}, {z} = -\\frac{4}{3} \\, {\\mathcal{C}}^{2} + \\frac{2}{3} \\, \\sqrt{4 \\, {\\mathcal{C}}^{4} - 2 \\, {\\mathcal{C}}^{2} - 2} + \\frac{1}{3}, {z} = \\left(-1\\right)\\right]$"
      ],
      "text/plain": [
       "[z == -4/3*C^2 - 2/3*sqrt(4*C^4 - 2*C^2 - 2) + 1/3, z == -4/3*C^2 + 2/3*sqrt(4*C^4 - 2*C^2 - 2) + 1/3, z == -1]"
      ]
     },
     "metadata": {},
     "output_type": "display_data"
    },
    {
     "data": {
      "text/html": [
       "<html>\\(\\displaystyle \\left[{\\kappa} = -\\frac{32 \\, {\\mathcal{C}}^{6} + 48 \\, {\\mathcal{C}}^{5} - 36 \\, {\\mathcal{C}}^{4} - 42 \\, {\\mathcal{C}}^{3} - 6 \\, {\\mathcal{C}}^{2} + {\\left(16 \\, {\\mathcal{C}}^{4} + 24 \\, {\\mathcal{C}}^{3} - 14 \\, {\\mathcal{C}}^{2} - 15 \\, {\\mathcal{C}} - 2\\right)} \\sqrt{4 \\, {\\mathcal{C}}^{4} - 2 \\, {\\mathcal{C}}^{2} - 2} - 6 \\, {\\mathcal{C}} + 10}{32 \\, {\\mathcal{C}}^{6} - 48 \\, {\\mathcal{C}}^{5} - 36 \\, {\\mathcal{C}}^{4} + 42 \\, {\\mathcal{C}}^{3} - 6 \\, {\\mathcal{C}}^{2} + {\\left(16 \\, {\\mathcal{C}}^{4} - 24 \\, {\\mathcal{C}}^{3} - 14 \\, {\\mathcal{C}}^{2} + 15 \\, {\\mathcal{C}} - 2\\right)} \\sqrt{4 \\, {\\mathcal{C}}^{4} - 2 \\, {\\mathcal{C}}^{2} - 2} + 6 \\, {\\mathcal{C}} + 10}\\right]\\)</html>"
      ],
      "text/latex": [
       "$\\displaystyle \\left[{\\kappa} = -\\frac{32 \\, {\\mathcal{C}}^{6} + 48 \\, {\\mathcal{C}}^{5} - 36 \\, {\\mathcal{C}}^{4} - 42 \\, {\\mathcal{C}}^{3} - 6 \\, {\\mathcal{C}}^{2} + {\\left(16 \\, {\\mathcal{C}}^{4} + 24 \\, {\\mathcal{C}}^{3} - 14 \\, {\\mathcal{C}}^{2} - 15 \\, {\\mathcal{C}} - 2\\right)} \\sqrt{4 \\, {\\mathcal{C}}^{4} - 2 \\, {\\mathcal{C}}^{2} - 2} - 6 \\, {\\mathcal{C}} + 10}{32 \\, {\\mathcal{C}}^{6} - 48 \\, {\\mathcal{C}}^{5} - 36 \\, {\\mathcal{C}}^{4} + 42 \\, {\\mathcal{C}}^{3} - 6 \\, {\\mathcal{C}}^{2} + {\\left(16 \\, {\\mathcal{C}}^{4} - 24 \\, {\\mathcal{C}}^{3} - 14 \\, {\\mathcal{C}}^{2} + 15 \\, {\\mathcal{C}} - 2\\right)} \\sqrt{4 \\, {\\mathcal{C}}^{4} - 2 \\, {\\mathcal{C}}^{2} - 2} + 6 \\, {\\mathcal{C}} + 10}\\right]$"
      ],
      "text/plain": [
       "[kappa == -(32*C^6 + 48*C^5 - 36*C^4 - 42*C^3 - 6*C^2 + (16*C^4 + 24*C^3 - 14*C^2 - 15*C - 2)*sqrt(4*C^4 - 2*C^2 - 2) - 6*C + 10)/(32*C^6 - 48*C^5 - 36*C^4 + 42*C^3 - 6*C^2 + (16*C^4 - 24*C^3 - 14*C^2 + 15*C - 2)*sqrt(4*C^4 - 2*C^2 - 2) + 6*C + 10)]"
      ]
     },
     "metadata": {},
     "output_type": "display_data"
    },
    {
     "data": {
      "text/html": [
       "<html>\\(\\displaystyle \\left[{\\kappa} = -\\frac{32 \\, {\\mathcal{C}}^{6} + 48 \\, {\\mathcal{C}}^{5} - 36 \\, {\\mathcal{C}}^{4} - 42 \\, {\\mathcal{C}}^{3} - 6 \\, {\\mathcal{C}}^{2} + {\\left(16 \\, {\\mathcal{C}}^{4} + 24 \\, {\\mathcal{C}}^{3} - 14 \\, {\\mathcal{C}}^{2} - 15 \\, {\\mathcal{C}} - 2\\right)} \\sqrt{4 \\, {\\mathcal{C}}^{4} - 2 \\, {\\mathcal{C}}^{2} - 2} - 6 \\, {\\mathcal{C}} + 10}{32 \\, {\\mathcal{C}}^{6} - 48 \\, {\\mathcal{C}}^{5} - 36 \\, {\\mathcal{C}}^{4} + 42 \\, {\\mathcal{C}}^{3} - 6 \\, {\\mathcal{C}}^{2} + {\\left(16 \\, {\\mathcal{C}}^{4} - 24 \\, {\\mathcal{C}}^{3} - 14 \\, {\\mathcal{C}}^{2} + 15 \\, {\\mathcal{C}} - 2\\right)} \\sqrt{4 \\, {\\mathcal{C}}^{4} - 2 \\, {\\mathcal{C}}^{2} - 2} + 6 \\, {\\mathcal{C}} + 10}, {\\kappa} = \\left(-1\\right)\\right]\\)</html>"
      ],
      "text/latex": [
       "$\\displaystyle \\left[{\\kappa} = -\\frac{32 \\, {\\mathcal{C}}^{6} + 48 \\, {\\mathcal{C}}^{5} - 36 \\, {\\mathcal{C}}^{4} - 42 \\, {\\mathcal{C}}^{3} - 6 \\, {\\mathcal{C}}^{2} + {\\left(16 \\, {\\mathcal{C}}^{4} + 24 \\, {\\mathcal{C}}^{3} - 14 \\, {\\mathcal{C}}^{2} - 15 \\, {\\mathcal{C}} - 2\\right)} \\sqrt{4 \\, {\\mathcal{C}}^{4} - 2 \\, {\\mathcal{C}}^{2} - 2} - 6 \\, {\\mathcal{C}} + 10}{32 \\, {\\mathcal{C}}^{6} - 48 \\, {\\mathcal{C}}^{5} - 36 \\, {\\mathcal{C}}^{4} + 42 \\, {\\mathcal{C}}^{3} - 6 \\, {\\mathcal{C}}^{2} + {\\left(16 \\, {\\mathcal{C}}^{4} - 24 \\, {\\mathcal{C}}^{3} - 14 \\, {\\mathcal{C}}^{2} + 15 \\, {\\mathcal{C}} - 2\\right)} \\sqrt{4 \\, {\\mathcal{C}}^{4} - 2 \\, {\\mathcal{C}}^{2} - 2} + 6 \\, {\\mathcal{C}} + 10}, {\\kappa} = \\left(-1\\right)\\right]$"
      ],
      "text/plain": [
       "[kappa == -(32*C^6 + 48*C^5 - 36*C^4 - 42*C^3 - 6*C^2 + (16*C^4 + 24*C^3 - 14*C^2 - 15*C - 2)*sqrt(4*C^4 - 2*C^2 - 2) - 6*C + 10)/(32*C^6 - 48*C^5 - 36*C^4 + 42*C^3 - 6*C^2 + (16*C^4 - 24*C^3 - 14*C^2 + 15*C - 2)*sqrt(4*C^4 - 2*C^2 - 2) + 6*C + 10), kappa == -1]"
      ]
     },
     "metadata": {},
     "output_type": "display_data"
    },
    {
     "data": {
      "text/html": [
       "<html>\\(\\displaystyle \\left[{\\kappa} = -\\frac{32 \\, {\\mathcal{C}}^{6} + 48 \\, {\\mathcal{C}}^{5} - 36 \\, {\\mathcal{C}}^{4} - 42 \\, {\\mathcal{C}}^{3} - 6 \\, {\\mathcal{C}}^{2} - {\\left(16 \\, {\\mathcal{C}}^{4} + 24 \\, {\\mathcal{C}}^{3} - 14 \\, {\\mathcal{C}}^{2} - 15 \\, {\\mathcal{C}} - 2\\right)} \\sqrt{4 \\, {\\mathcal{C}}^{4} - 2 \\, {\\mathcal{C}}^{2} - 2} - 6 \\, {\\mathcal{C}} + 10}{32 \\, {\\mathcal{C}}^{6} - 48 \\, {\\mathcal{C}}^{5} - 36 \\, {\\mathcal{C}}^{4} + 42 \\, {\\mathcal{C}}^{3} - 6 \\, {\\mathcal{C}}^{2} - {\\left(16 \\, {\\mathcal{C}}^{4} - 24 \\, {\\mathcal{C}}^{3} - 14 \\, {\\mathcal{C}}^{2} + 15 \\, {\\mathcal{C}} - 2\\right)} \\sqrt{4 \\, {\\mathcal{C}}^{4} - 2 \\, {\\mathcal{C}}^{2} - 2} + 6 \\, {\\mathcal{C}} + 10}\\right]\\)</html>"
      ],
      "text/latex": [
       "$\\displaystyle \\left[{\\kappa} = -\\frac{32 \\, {\\mathcal{C}}^{6} + 48 \\, {\\mathcal{C}}^{5} - 36 \\, {\\mathcal{C}}^{4} - 42 \\, {\\mathcal{C}}^{3} - 6 \\, {\\mathcal{C}}^{2} - {\\left(16 \\, {\\mathcal{C}}^{4} + 24 \\, {\\mathcal{C}}^{3} - 14 \\, {\\mathcal{C}}^{2} - 15 \\, {\\mathcal{C}} - 2\\right)} \\sqrt{4 \\, {\\mathcal{C}}^{4} - 2 \\, {\\mathcal{C}}^{2} - 2} - 6 \\, {\\mathcal{C}} + 10}{32 \\, {\\mathcal{C}}^{6} - 48 \\, {\\mathcal{C}}^{5} - 36 \\, {\\mathcal{C}}^{4} + 42 \\, {\\mathcal{C}}^{3} - 6 \\, {\\mathcal{C}}^{2} - {\\left(16 \\, {\\mathcal{C}}^{4} - 24 \\, {\\mathcal{C}}^{3} - 14 \\, {\\mathcal{C}}^{2} + 15 \\, {\\mathcal{C}} - 2\\right)} \\sqrt{4 \\, {\\mathcal{C}}^{4} - 2 \\, {\\mathcal{C}}^{2} - 2} + 6 \\, {\\mathcal{C}} + 10}\\right]$"
      ],
      "text/plain": [
       "[kappa == -(32*C^6 + 48*C^5 - 36*C^4 - 42*C^3 - 6*C^2 - (16*C^4 + 24*C^3 - 14*C^2 - 15*C - 2)*sqrt(4*C^4 - 2*C^2 - 2) - 6*C + 10)/(32*C^6 - 48*C^5 - 36*C^4 + 42*C^3 - 6*C^2 - (16*C^4 - 24*C^3 - 14*C^2 + 15*C - 2)*sqrt(4*C^4 - 2*C^2 - 2) + 6*C + 10)]"
      ]
     },
     "metadata": {},
     "output_type": "display_data"
    },
    {
     "data": {
      "text/html": [
       "<html>\\(\\displaystyle \\left[{\\kappa} = -\\frac{32 \\, {\\mathcal{C}}^{6} + 48 \\, {\\mathcal{C}}^{5} - 36 \\, {\\mathcal{C}}^{4} - 42 \\, {\\mathcal{C}}^{3} - 6 \\, {\\mathcal{C}}^{2} - {\\left(16 \\, {\\mathcal{C}}^{4} + 24 \\, {\\mathcal{C}}^{3} - 14 \\, {\\mathcal{C}}^{2} - 15 \\, {\\mathcal{C}} - 2\\right)} \\sqrt{4 \\, {\\mathcal{C}}^{4} - 2 \\, {\\mathcal{C}}^{2} - 2} - 6 \\, {\\mathcal{C}} + 10}{32 \\, {\\mathcal{C}}^{6} - 48 \\, {\\mathcal{C}}^{5} - 36 \\, {\\mathcal{C}}^{4} + 42 \\, {\\mathcal{C}}^{3} - 6 \\, {\\mathcal{C}}^{2} - {\\left(16 \\, {\\mathcal{C}}^{4} - 24 \\, {\\mathcal{C}}^{3} - 14 \\, {\\mathcal{C}}^{2} + 15 \\, {\\mathcal{C}} - 2\\right)} \\sqrt{4 \\, {\\mathcal{C}}^{4} - 2 \\, {\\mathcal{C}}^{2} - 2} + 6 \\, {\\mathcal{C}} + 10}, {\\kappa} = \\left(-1\\right)\\right]\\)</html>"
      ],
      "text/latex": [
       "$\\displaystyle \\left[{\\kappa} = -\\frac{32 \\, {\\mathcal{C}}^{6} + 48 \\, {\\mathcal{C}}^{5} - 36 \\, {\\mathcal{C}}^{4} - 42 \\, {\\mathcal{C}}^{3} - 6 \\, {\\mathcal{C}}^{2} - {\\left(16 \\, {\\mathcal{C}}^{4} + 24 \\, {\\mathcal{C}}^{3} - 14 \\, {\\mathcal{C}}^{2} - 15 \\, {\\mathcal{C}} - 2\\right)} \\sqrt{4 \\, {\\mathcal{C}}^{4} - 2 \\, {\\mathcal{C}}^{2} - 2} - 6 \\, {\\mathcal{C}} + 10}{32 \\, {\\mathcal{C}}^{6} - 48 \\, {\\mathcal{C}}^{5} - 36 \\, {\\mathcal{C}}^{4} + 42 \\, {\\mathcal{C}}^{3} - 6 \\, {\\mathcal{C}}^{2} - {\\left(16 \\, {\\mathcal{C}}^{4} - 24 \\, {\\mathcal{C}}^{3} - 14 \\, {\\mathcal{C}}^{2} + 15 \\, {\\mathcal{C}} - 2\\right)} \\sqrt{4 \\, {\\mathcal{C}}^{4} - 2 \\, {\\mathcal{C}}^{2} - 2} + 6 \\, {\\mathcal{C}} + 10}, {\\kappa} = \\left(-1\\right)\\right]$"
      ],
      "text/plain": [
       "[kappa == -(32*C^6 + 48*C^5 - 36*C^4 - 42*C^3 - 6*C^2 - (16*C^4 + 24*C^3 - 14*C^2 - 15*C - 2)*sqrt(4*C^4 - 2*C^2 - 2) - 6*C + 10)/(32*C^6 - 48*C^5 - 36*C^4 + 42*C^3 - 6*C^2 - (16*C^4 - 24*C^3 - 14*C^2 + 15*C - 2)*sqrt(4*C^4 - 2*C^2 - 2) + 6*C + 10), kappa == -1]"
      ]
     },
     "metadata": {},
     "output_type": "display_data"
    },
    {
     "name": "stdout",
     "output_type": "stream",
     "text": [
      "values of E_R, O_R, E_I and O_I\n"
     ]
    },
    {
     "data": {
      "text/html": [
       "<html>\\(\\displaystyle 2 \\, {\\left(8 \\, {\\mathcal{C}}^{2} - 5\\right)} {\\left(2 \\, {\\mathcal{C}}^{2} + 1\\right)} {\\left({\\mathcal{C}} + 1\\right)} {\\left({\\mathcal{C}} - 1\\right)}\\)</html>"
      ],
      "text/latex": [
       "$\\displaystyle 2 \\, {\\left(8 \\, {\\mathcal{C}}^{2} - 5\\right)} {\\left(2 \\, {\\mathcal{C}}^{2} + 1\\right)} {\\left({\\mathcal{C}} + 1\\right)} {\\left({\\mathcal{C}} - 1\\right)}$"
      ],
      "text/plain": [
       "2*(8*C^2 - 5)*(2*C^2 + 1)*(C + 1)*(C - 1)"
      ]
     },
     "metadata": {},
     "output_type": "display_data"
    },
    {
     "data": {
      "text/html": [
       "<html>\\(\\displaystyle 6 \\, {\\left(8 \\, {\\mathcal{C}}^{2} + 1\\right)} {\\left({\\mathcal{C}} + 1\\right)} {\\left({\\mathcal{C}} - 1\\right)} {\\mathcal{C}}\\)</html>"
      ],
      "text/latex": [
       "$\\displaystyle 6 \\, {\\left(8 \\, {\\mathcal{C}}^{2} + 1\\right)} {\\left({\\mathcal{C}} + 1\\right)} {\\left({\\mathcal{C}} - 1\\right)} {\\mathcal{C}}$"
      ],
      "text/plain": [
       "6*(8*C^2 + 1)*(C + 1)*(C - 1)*C"
      ]
     },
     "metadata": {},
     "output_type": "display_data"
    },
    {
     "data": {
      "text/html": [
       "<html>\\(\\displaystyle 2 \\, {\\left(8 \\, {\\mathcal{C}}^{2} + 1\\right)} {\\left({\\mathcal{C}} + 1\\right)} {\\left({\\mathcal{C}} - 1\\right)}\\)</html>"
      ],
      "text/latex": [
       "$\\displaystyle 2 \\, {\\left(8 \\, {\\mathcal{C}}^{2} + 1\\right)} {\\left({\\mathcal{C}} + 1\\right)} {\\left({\\mathcal{C}} - 1\\right)}$"
      ],
      "text/plain": [
       "2*(8*C^2 + 1)*(C + 1)*(C - 1)"
      ]
     },
     "metadata": {},
     "output_type": "display_data"
    },
    {
     "data": {
      "text/html": [
       "<html>\\(\\displaystyle 3 \\, {\\left(8 \\, {\\mathcal{C}}^{2} - 5\\right)} {\\mathcal{C}}\\)</html>"
      ],
      "text/latex": [
       "$\\displaystyle 3 \\, {\\left(8 \\, {\\mathcal{C}}^{2} - 5\\right)} {\\mathcal{C}}$"
      ],
      "text/plain": [
       "3*(8*C^2 - 5)*C"
      ]
     },
     "metadata": {},
     "output_type": "display_data"
    },
    {
     "name": "stdout",
     "output_type": "stream",
     "text": [
      "Numerator in abs(k)^2\n"
     ]
    },
    {
     "data": {
      "text/html": [
       "<html>\\(\\displaystyle 2916 \\, {\\left(4 \\, {\\mathcal{C}}^{4} - 11 \\, {\\mathcal{C}}^{2} - 2\\right)}^{2} {\\left({\\mathcal{C}} + 1\\right)}^{2} {\\left({\\mathcal{C}} - 1\\right)}^{2}\\)</html>"
      ],
      "text/latex": [
       "$\\displaystyle 2916 \\, {\\left(4 \\, {\\mathcal{C}}^{4} - 11 \\, {\\mathcal{C}}^{2} - 2\\right)}^{2} {\\left({\\mathcal{C}} + 1\\right)}^{2} {\\left({\\mathcal{C}} - 1\\right)}^{2}$"
      ],
      "text/plain": [
       "2916*(4*C^4 - 11*C^2 - 2)^2*(C + 1)^2*(C - 1)^2"
      ]
     },
     "metadata": {},
     "output_type": "display_data"
    },
    {
     "name": "stdout",
     "output_type": "stream",
     "text": [
      "Denominator in abs(k)^2\n"
     ]
    },
    {
     "data": {
      "text/html": [
       "<html>\\(\\displaystyle 2916 \\, {\\left(4 \\, {\\mathcal{C}}^{4} - 11 \\, {\\mathcal{C}}^{2} - 2\\right)}^{2} {\\left({\\mathcal{C}} + 1\\right)}^{2} {\\left({\\mathcal{C}} - 1\\right)}^{2}\\)</html>"
      ],
      "text/latex": [
       "$\\displaystyle 2916 \\, {\\left(4 \\, {\\mathcal{C}}^{4} - 11 \\, {\\mathcal{C}}^{2} - 2\\right)}^{2} {\\left({\\mathcal{C}} + 1\\right)}^{2} {\\left({\\mathcal{C}} - 1\\right)}^{2}$"
      ],
      "text/plain": [
       "2916*(4*C^4 - 11*C^2 - 2)^2*(C + 1)^2*(C - 1)^2"
      ]
     },
     "metadata": {},
     "output_type": "display_data"
    }
   ],
   "source": [
    "print(\"Anti Bounce back (now correct)\")\n",
    "kABB = solve(bdMat_ABB.determinant().full_simplify(), k)[0].rhs().full_simplify()\n",
    "zABB = solve(charEq.full_simplify().subs(k==kABB), z)\n",
    "pretty_print(zABB)\n",
    "\n",
    "zABBMinus = zABB[0].rhs()\n",
    "zABBPlus  = zABB[1].rhs()\n",
    "\n",
    "pretty_print(solve(bdMat_ABB.determinant().full_simplify().subs(z==zABBMinus).full_simplify(), k))\n",
    "pretty_print(solve(charEq.subs(z==zABBMinus).full_simplify(), k))\n",
    "\n",
    "pretty_print(solve(bdMat_ABB.determinant().full_simplify().subs(z==zABBPlus).full_simplify(), k))\n",
    "pretty_print(solve(charEq.subs(z==zABBPlus).full_simplify(), k))\n",
    "\n",
    "#print(solve(bdMat_ABB.determinant().full_simplify().subs(z==zABBMinus).full_simplify(), k))\n",
    "\n",
    "R = -(4*C^4 - 2*C^2 - 2).factor()\n",
    "RealPoly = 32*C^6 + 48*C^5 - 36*C^4 - 42*C^3 - 6*C^2 - 6*C + 10\n",
    "ImagPoly = 16*C^4 + 24*C^3 - 14*C^2 - 15*C - 2\n",
    "ER = (1/2*(RealPoly+RealPoly.subs(C==-C))).factor()\n",
    "OR = (1/2*(RealPoly-RealPoly.subs(C==-C))).factor()\n",
    "EI = (1/2*(ImagPoly+ImagPoly.subs(C==-C))).factor()\n",
    "OI = (1/2*(ImagPoly-ImagPoly.subs(C==-C))).factor()\n",
    "\n",
    "print('values of E_R, O_R, E_I and O_I')\n",
    "pretty_print(ER)\n",
    "pretty_print(OR)\n",
    "pretty_print(EI)\n",
    "pretty_print(OI)\n",
    "\n",
    "er = var(\"er\", latex_name=\"\\\\mathcal{E}_R\") \n",
    "ei = var(\"ei\", latex_name=\"\\\\mathcal{E}_I\") \n",
    "odr = var(\"odr\", latex_name=\"\\\\mathcal{O}_R\") \n",
    "odi = var(\"odi\", latex_name=\"\\\\mathcal{O}_I\") \n",
    "r = var(\"r\", latex_name=\"\\\\mathcal{R}\") \n",
    "assume(er, 'real')\n",
    "assume(ei, 'real')\n",
    "assume(odr, 'real')\n",
    "assume(odi, 'real')\n",
    "assume(r>0)\n",
    "\n",
    "\n",
    "num = (er+odr+I*(ei+odi)*sqrt(r))\n",
    "den = (er-odr+I*(ei-odi)*sqrt(r))\n",
    "\n",
    "numMod = ((num*conjugate(den)).full_simplify())\n",
    "denMod = ((den*conjugate(den)).full_simplify())\n",
    "print('Numerator in abs(k)^2')\n",
    "pretty_print((numMod.real()**2+numMod.imag()**2).full_simplify().factor().subs(er==ER, ei==EI, odr==OR, odi==OI, r==R).full_simplify().factor())\n",
    "print('Denominator in abs(k)^2')\n",
    "pretty_print((denMod.real()**2+denMod.imag()**2).full_simplify().factor().subs(er==ER, ei==EI, odr==OR, odi==OI, r==R).full_simplify().factor())"
   ]
  },
  {
   "cell_type": "code",
   "execution_count": null,
   "id": "0eb86c7b",
   "metadata": {},
   "outputs": [],
   "source": []
  },
  {
   "cell_type": "code",
   "execution_count": null,
   "id": "1d0ccbe9",
   "metadata": {},
   "outputs": [],
   "source": []
  },
  {
   "cell_type": "code",
   "execution_count": null,
   "id": "2fb100fe",
   "metadata": {},
   "outputs": [],
   "source": []
  },
  {
   "cell_type": "code",
   "execution_count": null,
   "id": "a709865c",
   "metadata": {},
   "outputs": [],
   "source": []
  },
  {
   "cell_type": "code",
   "execution_count": null,
   "id": "c612a117",
   "metadata": {},
   "outputs": [],
   "source": []
  },
  {
   "cell_type": "code",
   "execution_count": null,
   "id": "1921e4d4",
   "metadata": {},
   "outputs": [],
   "source": []
  }
 ],
 "metadata": {
  "kernelspec": {
   "display_name": "SageMath 10.0",
   "language": "sage",
   "name": "sagemath"
  },
  "language_info": {
   "codemirror_mode": {
    "name": "ipython",
    "version": 3
   },
   "file_extension": ".py",
   "mimetype": "text/x-python",
   "name": "python",
   "nbconvert_exporter": "python",
   "pygments_lexer": "ipython3",
   "version": "3.11.9"
  }
 },
 "nbformat": 4,
 "nbformat_minor": 5
}
