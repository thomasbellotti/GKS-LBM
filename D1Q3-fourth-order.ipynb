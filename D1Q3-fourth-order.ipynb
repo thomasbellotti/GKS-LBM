{
 "cells": [
  {
   "cell_type": "code",
   "execution_count": 1,
   "id": "3621d3cd",
   "metadata": {},
   "outputs": [
    {
     "name": "stdout",
     "output_type": "stream",
     "text": [
      "!! Sanity check: the result must be zero.\n"
     ]
    },
    {
     "data": {
      "text/html": [
       "<html>\\(\\displaystyle 0\\)</html>"
      ],
      "text/latex": [
       "$\\displaystyle 0$"
      ],
      "text/plain": [
       "0"
      ]
     },
     "metadata": {},
     "output_type": "display_data"
    }
   ],
   "source": [
    "#### Constants in the scheme\n",
    "C = var(\"C\", latex_name=\"\\\\mathcal{C}\") ## Courant number\n",
    "s1 = var(\"s1\", latex_name=\"s_1\")        ## First relaxation parameter (useless)\n",
    "s2 = var(\"s2\", latex_name=\"s_2\")        ## Second relaxation parameter\n",
    "s3 = var(\"s3\", latex_name=\"s_3\")        ## Third relaxation parameter\n",
    "\n",
    "assume(C,'real')\n",
    "assume(C>-1/2)\n",
    "assume(C< 1/2)\n",
    "\n",
    "s2 = 2\n",
    "s3 = 2\n",
    "\n",
    "#### Pieces involved in the scheme\n",
    "q = 3 ## Number of discrete velocities\n",
    "c1 = 0  ## First discrete velocity\n",
    "c2 = 1  ## Second discrete velocity\n",
    "c3 = -1 ## Third discrete velocity\n",
    "r = 1 ## Stencil to the left\n",
    "p = 1 ## Stencil to the right\n",
    "M = matrix([[1,  1,  1], \\\n",
    "            [0,  1, -1], \\\n",
    "            [0,  1,  1]]) ## Moment matrix\n",
    "eps1 = 1              ## First equilibrium coefficient (useless)\n",
    "eps2 = C              ## Second equilibrium coefficient\n",
    "eps3 = 1/3*(1+2*C**2) ## Third equilibrium coefficient\n",
    "\n",
    "#### Construction of the objects involved in the analysis\n",
    "k = var(\"kappa\", latex_name=\"\\\\kappa\") \n",
    "\n",
    "Minv = M.inverse()\n",
    "K = identity_matrix(q)+diagonal_matrix([s1, s2, s3])\\\n",
    "        *(matrix([[eps1], [eps2], [eps3]])*matrix([[1, 0, 0]])-identity_matrix(q))\n",
    "Ehat = M*diagonal_matrix([k**(-c1), k**(-c2), k**(-c3)])*Minv*K #### Bulk matrix scheme \"Fourier\"\n",
    "for i in range(q):\n",
    "    for j in range(q):\n",
    "        Ehat[i, j] = Ehat[i, j].full_simplify().collect(k)\n",
    "    \n",
    "z = var(\"z\", latex_name=\"z\") \n",
    "\n",
    "charEq = (z*identity_matrix(q)-Ehat).determinant().full_simplify().collect(k) #### Characteristic equation\n",
    "dm1 = charEq.coefficient(k, -1).collect(z) ### Coefficient d_{-1} of the characteristic equation\n",
    "d0  = charEq.coefficient(k,  0).collect(z) ### Coefficient d_{0} of the characteristic equation\n",
    "dp1 = charEq.coefficient(k,  1).collect(z) ### Coefficient d_{1} of the characteristic equation\n",
    "\n",
    "Em1 = matrix(SR, q, q) ### Matrix for the point -1\n",
    "E0  = matrix(SR, q, q) ### Matrix for the point 0\n",
    "Ep1 = matrix(SR, q, q) ### Matrix for the point 1\n",
    "for i in range(q):\n",
    "    for j in range(q):\n",
    "        Em1[i, j] = Ehat[i, j].coefficient(k, -1)\n",
    "        E0[i, j]  = Ehat[i, j].coefficient(k,  0)\n",
    "        Ep1[i, j] = Ehat[i, j].coefficient(k,  1)\n",
    "Lz = - Em1 + (z*identity_matrix(q)-E0)*k - Ep1*k**2 ### Matrix polynomial in k\n",
    "print('!! Sanity check: the result must be zero.')\n",
    "pretty_print((Lz.determinant()/k**(r*q)-charEq).full_simplify()) ### Sanity check\n",
    "\n",
    "kplus  = ((-d0+sqrt(d0**2-4*dp1*dm1))/2/dp1).full_simplify() ### Root of the char eq with the plus\n",
    "kminus = ((-d0-sqrt(d0**2-4*dp1*dm1))/2/dp1).full_simplify() ### Root of the char eq with the minus\n",
    "\n",
    "\n",
    "Pi = (dm1/dp1).full_simplify() ### This is the product of the roots in k "
   ]
  },
  {
   "cell_type": "code",
   "execution_count": 2,
   "id": "d2815903",
   "metadata": {},
   "outputs": [],
   "source": [
    "##### Boundary conditions that we analyze for any value of C and s_2 and s_3\n",
    "bdMat_BB = z*identity_matrix(q) - M*matrix([[1, 0, 0], [0, 0, 1], [0, 0, k]])*Minv*K ## Bounce back\n",
    "bdMat_ABB = z*identity_matrix(q) - M*matrix([[1, 0, 0], [0, 0, -1], [0, 0, k]])*Minv*K ## Anti Bounce back\n",
    "bdMat_TwoABB = z*identity_matrix(q) - M*matrix([[1, 0, 0], [-1, 0, -k], [0, 0, k]])*Minv*K ## Two steps Anti Bounce back\n",
    "bdMat_sigma1 = z*identity_matrix(q) - M*matrix([[1, 0, 0], [0, 1, 0], [0, 0, k]])*Minv*K ## Extrapolation sigma = 1\n",
    "bdMat_sigma2 = z*identity_matrix(q) - M*matrix([[1, 0, 0], [0, 2-k, 0], [0, 0, k]])*Minv*K ## Extrapolation sigma = 2\n",
    "bdMat_sigma3 = z*identity_matrix(q) - M*matrix([[1, 0, 0], [0, 3-3*k+k**2, 0], [0, 0, k]])*Minv*K ## Extrapolation sigma = 3\n",
    "bdMat_sigma4 = z*identity_matrix(q) - M*matrix([[1, 0, 0], [0, 4-6*k+4*k**2-k**3, 0], [0, 0, k]])*Minv*K ## Extrapolation sigma = 4\n",
    "bdMat_kinDir = z*identity_matrix(q) - M*matrix([[1, 0, 0], [0, 0, 0], [0, 0, k]])*Minv*K ## Kinetic dirichlet"
   ]
  },
  {
   "cell_type": "code",
   "execution_count": 3,
   "id": "7638f9ca",
   "metadata": {},
   "outputs": [
    {
     "name": "stdout",
     "output_type": "stream",
     "text": [
      "Bounce back\n"
     ]
    },
    {
     "data": {
      "text/html": [
       "<html>\\(\\displaystyle \\left[\\left[{z} = 0, {\\kappa} = 0\\right], \\left[{z} = 1, {\\kappa} = \\left(-1\\right)\\right], \\left[{z} = \\left(-1\\right), {\\kappa} = 1\\right]\\right]\\)</html>"
      ],
      "text/latex": [
       "$\\displaystyle \\left[\\left[{z} = 0, {\\kappa} = 0\\right], \\left[{z} = 1, {\\kappa} = \\left(-1\\right)\\right], \\left[{z} = \\left(-1\\right), {\\kappa} = 1\\right]\\right]$"
      ],
      "text/plain": [
       "[[z == 0, kappa == 0], [z == 1, kappa == -1], [z == -1, kappa == 1]]"
      ]
     },
     "metadata": {},
     "output_type": "display_data"
    },
    {
     "name": "stdout",
     "output_type": "stream",
     "text": [
      "Anti Bounce back\n"
     ]
    },
    {
     "data": {
      "text/html": [
       "<html>\\(\\displaystyle \\left[\\left[{z} = 0, {\\kappa} = 0\\right], \\left[{z} = \\left(-1\\right), {\\kappa} = 1\\right]\\right]\\)</html>"
      ],
      "text/latex": [
       "$\\displaystyle \\left[\\left[{z} = 0, {\\kappa} = 0\\right], \\left[{z} = \\left(-1\\right), {\\kappa} = 1\\right]\\right]$"
      ],
      "text/plain": [
       "[[z == 0, kappa == 0], [z == -1, kappa == 1]]"
      ]
     },
     "metadata": {},
     "output_type": "display_data"
    },
    {
     "name": "stdout",
     "output_type": "stream",
     "text": [
      "Two steps anti Bounce back\n"
     ]
    },
    {
     "data": {
      "text/html": [
       "<html>\\(\\displaystyle \\left[\\left[{z} = 0, {\\kappa} = 0\\right], \\left[{z} = \\left(-1\\right), {\\kappa} = 1\\right], \\left[{z} = 1, {\\kappa} = \\left(-1\\right)\\right]\\right]\\)</html>"
      ],
      "text/latex": [
       "$\\displaystyle \\left[\\left[{z} = 0, {\\kappa} = 0\\right], \\left[{z} = \\left(-1\\right), {\\kappa} = 1\\right], \\left[{z} = 1, {\\kappa} = \\left(-1\\right)\\right]\\right]$"
      ],
      "text/plain": [
       "[[z == 0, kappa == 0], [z == -1, kappa == 1], [z == 1, kappa == -1]]"
      ]
     },
     "metadata": {},
     "output_type": "display_data"
    },
    {
     "name": "stdout",
     "output_type": "stream",
     "text": [
      "Extrapolation sigma = 1\n"
     ]
    },
    {
     "data": {
      "text/html": [
       "<html>\\(\\displaystyle \\left[\\left[{z} = \\left(-1\\right), {\\kappa} = 1\\right], \\left[{z} = 1, {\\kappa} = 1\\right], \\left[{z} = 0, {\\kappa} = 0\\right]\\right]\\)</html>"
      ],
      "text/latex": [
       "$\\displaystyle \\left[\\left[{z} = \\left(-1\\right), {\\kappa} = 1\\right], \\left[{z} = 1, {\\kappa} = 1\\right], \\left[{z} = 0, {\\kappa} = 0\\right]\\right]$"
      ],
      "text/plain": [
       "[[z == -1, kappa == 1], [z == 1, kappa == 1], [z == 0, kappa == 0]]"
      ]
     },
     "metadata": {},
     "output_type": "display_data"
    },
    {
     "name": "stdout",
     "output_type": "stream",
     "text": [
      "Extrapolation sigma = 2\n"
     ]
    },
    {
     "data": {
      "text/html": [
       "<html>\\(\\displaystyle \\left[\\left[{z} = \\left(-1\\right), {\\kappa} = 1\\right], \\left[{z} = 1, {\\kappa} = 1\\right], \\left[{z} = 0, {\\kappa} = 0\\right]\\right]\\)</html>"
      ],
      "text/latex": [
       "$\\displaystyle \\left[\\left[{z} = \\left(-1\\right), {\\kappa} = 1\\right], \\left[{z} = 1, {\\kappa} = 1\\right], \\left[{z} = 0, {\\kappa} = 0\\right]\\right]$"
      ],
      "text/plain": [
       "[[z == -1, kappa == 1], [z == 1, kappa == 1], [z == 0, kappa == 0]]"
      ]
     },
     "metadata": {},
     "output_type": "display_data"
    },
    {
     "name": "stdout",
     "output_type": "stream",
     "text": [
      "Extrapolation sigma = 3\n"
     ]
    },
    {
     "data": {
      "text/html": [
       "<html>\\(\\displaystyle \\left[\\left[{z} = \\left(-1\\right), {\\kappa} = 1\\right], \\left[{z} = 1, {\\kappa} = 1\\right], \\left[{z} = 0, {\\kappa} = 0\\right]\\right]\\)</html>"
      ],
      "text/latex": [
       "$\\displaystyle \\left[\\left[{z} = \\left(-1\\right), {\\kappa} = 1\\right], \\left[{z} = 1, {\\kappa} = 1\\right], \\left[{z} = 0, {\\kappa} = 0\\right]\\right]$"
      ],
      "text/plain": [
       "[[z == -1, kappa == 1], [z == 1, kappa == 1], [z == 0, kappa == 0]]"
      ]
     },
     "metadata": {},
     "output_type": "display_data"
    },
    {
     "name": "stdout",
     "output_type": "stream",
     "text": [
      "Extrapolation sigma = 4\n"
     ]
    },
    {
     "data": {
      "text/html": [
       "<html>\\(\\displaystyle \\left[\\left[{z} = \\left(-1\\right), {\\kappa} = 1\\right], \\left[{z} = 1, {\\kappa} = 1\\right], \\left[{z} = 0, {\\kappa} = 0\\right]\\right]\\)</html>"
      ],
      "text/latex": [
       "$\\displaystyle \\left[\\left[{z} = \\left(-1\\right), {\\kappa} = 1\\right], \\left[{z} = 1, {\\kappa} = 1\\right], \\left[{z} = 0, {\\kappa} = 0\\right]\\right]$"
      ],
      "text/plain": [
       "[[z == -1, kappa == 1], [z == 1, kappa == 1], [z == 0, kappa == 0]]"
      ]
     },
     "metadata": {},
     "output_type": "display_data"
    },
    {
     "name": "stdout",
     "output_type": "stream",
     "text": [
      "Kinetic Dirichlet\n"
     ]
    },
    {
     "data": {
      "text/html": [
       "<html>\\(\\displaystyle \\left[\\left[{z} = 0, {\\kappa} = 0\\right], \\left[{z} = \\left(-1\\right), {\\kappa} = 1\\right]\\right]\\)</html>"
      ],
      "text/latex": [
       "$\\displaystyle \\left[\\left[{z} = 0, {\\kappa} = 0\\right], \\left[{z} = \\left(-1\\right), {\\kappa} = 1\\right]\\right]$"
      ],
      "text/plain": [
       "[[z == 0, kappa == 0], [z == -1, kappa == 1]]"
      ]
     },
     "metadata": {},
     "output_type": "display_data"
    }
   ],
   "source": [
    "##### We find the critical (z, k) eigenvalues between boundary and bulk\n",
    "print(\"Bounce back\")\n",
    "pretty_print(solve([charEq.full_simplify(), bdMat_BB.determinant().full_simplify()], (z, k)))\n",
    "print(\"Anti Bounce back\")\n",
    "pretty_print(solve([charEq.full_simplify(), bdMat_ABB.determinant().full_simplify()], (z, k))) \n",
    "print(\"Two steps anti Bounce back\")\n",
    "pretty_print(solve([charEq.full_simplify(), bdMat_TwoABB.determinant().full_simplify()], (z, k)))\n",
    "print(\"Extrapolation sigma = 1\")\n",
    "pretty_print(solve([charEq.full_simplify(), bdMat_sigma1.determinant().full_simplify()], (z, k)))\n",
    "print(\"Extrapolation sigma = 2\")\n",
    "pretty_print(solve([charEq.full_simplify(), bdMat_sigma2.determinant().full_simplify()], (z, k)))\n",
    "print(\"Extrapolation sigma = 3\")\n",
    "pretty_print(solve([charEq.full_simplify(), bdMat_sigma3.determinant().full_simplify()], (z, k)))\n",
    "print(\"Extrapolation sigma = 4\")\n",
    "pretty_print(solve([charEq.full_simplify(), bdMat_sigma4.determinant().full_simplify()], (z, k)))\n",
    "print(\"Kinetic Dirichlet\")\n",
    "pretty_print(solve([charEq.full_simplify(), bdMat_kinDir.determinant().full_simplify()], (z, k)))"
   ]
  },
  {
   "cell_type": "code",
   "execution_count": 4,
   "id": "97237ef1",
   "metadata": {},
   "outputs": [
    {
     "name": "stdout",
     "output_type": "stream",
     "text": [
      "Bounce back\n"
     ]
    },
    {
     "data": {
      "text/html": [
       "<html>\\(\\displaystyle \\left[\\left[{z} = 0, {\\kappa} = 0\\right], \\left[{z} = 1, {\\kappa} = \\left(-1\\right)\\right], \\left[{z} = \\left(-1\\right), {\\kappa} = 1\\right]\\right]\\)</html>"
      ],
      "text/latex": [
       "$\\displaystyle \\left[\\left[{z} = 0, {\\kappa} = 0\\right], \\left[{z} = 1, {\\kappa} = \\left(-1\\right)\\right], \\left[{z} = \\left(-1\\right), {\\kappa} = 1\\right]\\right]$"
      ],
      "text/plain": [
       "[[z == 0, kappa == 0], [z == 1, kappa == -1], [z == -1, kappa == 1]]"
      ]
     },
     "metadata": {},
     "output_type": "display_data"
    },
    {
     "name": "stdout",
     "output_type": "stream",
     "text": [
      "Anti Bounce back\n"
     ]
    },
    {
     "data": {
      "text/html": [
       "<html>\\(\\displaystyle \\left[\\left[{z} = 0, {\\kappa} = 0\\right], \\left[{z} = \\left(-1\\right), {\\kappa} = 1\\right], \\left[{z} = -\\frac{16}{507} i \\, \\sqrt{935} + \\frac{133}{507}, {\\kappa} = -\\frac{1872}{73529} i \\, \\sqrt{935} - \\frac{46151}{73529}\\right], \\left[{z} = \\frac{16}{507} i \\, \\sqrt{935} + \\frac{133}{507}, {\\kappa} = \\frac{1872}{73529} i \\, \\sqrt{935} - \\frac{46151}{73529}\\right]\\right]\\)</html>"
      ],
      "text/latex": [
       "$\\displaystyle \\left[\\left[{z} = 0, {\\kappa} = 0\\right], \\left[{z} = \\left(-1\\right), {\\kappa} = 1\\right], \\left[{z} = -\\frac{16}{507} i \\, \\sqrt{935} + \\frac{133}{507}, {\\kappa} = -\\frac{1872}{73529} i \\, \\sqrt{935} - \\frac{46151}{73529}\\right], \\left[{z} = \\frac{16}{507} i \\, \\sqrt{935} + \\frac{133}{507}, {\\kappa} = \\frac{1872}{73529} i \\, \\sqrt{935} - \\frac{46151}{73529}\\right]\\right]$"
      ],
      "text/plain": [
       "[[z == 0, kappa == 0], [z == -1, kappa == 1], [z == -16/507*I*sqrt(935) + 133/507, kappa == -1872/73529*I*sqrt(935) - 46151/73529], [z == 16/507*I*sqrt(935) + 133/507, kappa == 1872/73529*I*sqrt(935) - 46151/73529]]"
      ]
     },
     "metadata": {},
     "output_type": "display_data"
    },
    {
     "name": "stdout",
     "output_type": "stream",
     "text": [
      "!!!! We see that the previous computation for any value of C for the anti bounce back condition has missed a couple of complex conjugate roots\n",
      "Two steps anti Bounce back\n"
     ]
    },
    {
     "data": {
      "text/html": [
       "<html>\\(\\displaystyle \\left[\\left[{z} = 0, {\\kappa} = 0\\right], \\left[{z} = \\left(-1\\right), {\\kappa} = 1\\right], \\left[{z} = 1, {\\kappa} = \\left(-1\\right)\\right]\\right]\\)</html>"
      ],
      "text/latex": [
       "$\\displaystyle \\left[\\left[{z} = 0, {\\kappa} = 0\\right], \\left[{z} = \\left(-1\\right), {\\kappa} = 1\\right], \\left[{z} = 1, {\\kappa} = \\left(-1\\right)\\right]\\right]$"
      ],
      "text/plain": [
       "[[z == 0, kappa == 0], [z == -1, kappa == 1], [z == 1, kappa == -1]]"
      ]
     },
     "metadata": {},
     "output_type": "display_data"
    },
    {
     "name": "stdout",
     "output_type": "stream",
     "text": [
      "Extrapolation sigma = 1\n"
     ]
    },
    {
     "data": {
      "text/html": [
       "<html>\\(\\displaystyle \\left[\\left[{z} = \\left(-1\\right), {\\kappa} = 1\\right], \\left[{z} = 1, {\\kappa} = 1\\right], \\left[{z} = 0, {\\kappa} = 0\\right]\\right]\\)</html>"
      ],
      "text/latex": [
       "$\\displaystyle \\left[\\left[{z} = \\left(-1\\right), {\\kappa} = 1\\right], \\left[{z} = 1, {\\kappa} = 1\\right], \\left[{z} = 0, {\\kappa} = 0\\right]\\right]$"
      ],
      "text/plain": [
       "[[z == -1, kappa == 1], [z == 1, kappa == 1], [z == 0, kappa == 0]]"
      ]
     },
     "metadata": {},
     "output_type": "display_data"
    },
    {
     "name": "stdout",
     "output_type": "stream",
     "text": [
      "Extrapolation sigma = 2\n"
     ]
    },
    {
     "data": {
      "text/html": [
       "<html>\\(\\displaystyle \\left[\\left[{z} = \\left(-1\\right), {\\kappa} = 1\\right], \\left[{z} = 1, {\\kappa} = 1\\right], \\left[{z} = 0, {\\kappa} = 0\\right]\\right]\\)</html>"
      ],
      "text/latex": [
       "$\\displaystyle \\left[\\left[{z} = \\left(-1\\right), {\\kappa} = 1\\right], \\left[{z} = 1, {\\kappa} = 1\\right], \\left[{z} = 0, {\\kappa} = 0\\right]\\right]$"
      ],
      "text/plain": [
       "[[z == -1, kappa == 1], [z == 1, kappa == 1], [z == 0, kappa == 0]]"
      ]
     },
     "metadata": {},
     "output_type": "display_data"
    },
    {
     "name": "stdout",
     "output_type": "stream",
     "text": [
      "Extrapolation sigma = 3\n"
     ]
    },
    {
     "data": {
      "text/html": [
       "<html>\\(\\displaystyle \\left[\\left[{z} = \\left(-1\\right), {\\kappa} = 1\\right], \\left[{z} = 1, {\\kappa} = 1\\right], \\left[{z} = 0, {\\kappa} = 0\\right]\\right]\\)</html>"
      ],
      "text/latex": [
       "$\\displaystyle \\left[\\left[{z} = \\left(-1\\right), {\\kappa} = 1\\right], \\left[{z} = 1, {\\kappa} = 1\\right], \\left[{z} = 0, {\\kappa} = 0\\right]\\right]$"
      ],
      "text/plain": [
       "[[z == -1, kappa == 1], [z == 1, kappa == 1], [z == 0, kappa == 0]]"
      ]
     },
     "metadata": {},
     "output_type": "display_data"
    },
    {
     "name": "stdout",
     "output_type": "stream",
     "text": [
      "Extrapolation sigma = 4\n"
     ]
    },
    {
     "data": {
      "text/html": [
       "<html>\\(\\displaystyle \\left[\\left[{z} = \\left(-1\\right), {\\kappa} = 1\\right], \\left[{z} = 1, {\\kappa} = 1\\right], \\left[{z} = 0, {\\kappa} = 0\\right]\\right]\\)</html>"
      ],
      "text/latex": [
       "$\\displaystyle \\left[\\left[{z} = \\left(-1\\right), {\\kappa} = 1\\right], \\left[{z} = 1, {\\kappa} = 1\\right], \\left[{z} = 0, {\\kappa} = 0\\right]\\right]$"
      ],
      "text/plain": [
       "[[z == -1, kappa == 1], [z == 1, kappa == 1], [z == 0, kappa == 0]]"
      ]
     },
     "metadata": {},
     "output_type": "display_data"
    },
    {
     "name": "stdout",
     "output_type": "stream",
     "text": [
      "Kinetic Dirichlet\n"
     ]
    },
    {
     "data": {
      "text/html": [
       "<html>\\(\\displaystyle \\left[\\left[{z} = 0, {\\kappa} = 0\\right], \\left[{z} = \\left(-1\\right), {\\kappa} = 1\\right]\\right]\\)</html>"
      ],
      "text/latex": [
       "$\\displaystyle \\left[\\left[{z} = 0, {\\kappa} = 0\\right], \\left[{z} = \\left(-1\\right), {\\kappa} = 1\\right]\\right]$"
      ],
      "text/plain": [
       "[[z == 0, kappa == 0], [z == -1, kappa == 1]]"
      ]
     },
     "metadata": {},
     "output_type": "display_data"
    }
   ],
   "source": [
    "##### Sanity check : we set some values for C and see if we find more\n",
    "##### Sometimes sagemath does not give all the roots\n",
    "\n",
    "C_val = -3/13\n",
    "\n",
    "print(\"Bounce back\")\n",
    "pretty_print(solve([charEq.subs(C=C_val).full_simplify(), bdMat_BB.subs(C=C_val).determinant().full_simplify()], (z, k)))\n",
    "print(\"Anti Bounce back\")\n",
    "pretty_print(solve([charEq.subs(C=C_val).full_simplify(), bdMat_ABB.subs(C=C_val).determinant().full_simplify()], (z, k)))\n",
    "print(\"!!!! We see that the previous computation for any value of C for the anti bounce back condition has missed a couple of complex conjugate roots\")\n",
    "print(\"Two steps anti Bounce back\")\n",
    "pretty_print(solve([charEq.subs(C=C_val).full_simplify(), bdMat_TwoABB.subs(C=C_val).determinant().full_simplify()], (z, k)))\n",
    "print(\"Extrapolation sigma = 1\")\n",
    "pretty_print(solve([charEq.subs(C=C_val).full_simplify(), bdMat_sigma1.subs(C=C_val).determinant().full_simplify()], (z, k)))\n",
    "print(\"Extrapolation sigma = 2\")\n",
    "pretty_print(solve([charEq.subs(C=C_val).full_simplify(), bdMat_sigma2.subs(C=C_val).determinant().full_simplify()], (z, k)))\n",
    "print(\"Extrapolation sigma = 3\")\n",
    "pretty_print(solve([charEq.subs(C=C_val).full_simplify(), bdMat_sigma3.subs(C=C_val).determinant().full_simplify()], (z, k)))\n",
    "print(\"Extrapolation sigma = 4\")\n",
    "pretty_print(solve([charEq.subs(C=C_val).full_simplify(), bdMat_sigma4.subs(C=C_val).determinant().full_simplify()], (z, k)))\n",
    "print(\"Kinetic Dirichlet\")\n",
    "pretty_print(solve([charEq.subs(C=C_val).full_simplify(), bdMat_kinDir.subs(C=C_val).determinant().full_simplify()], (z, k)))"
   ]
  },
  {
   "cell_type": "code",
   "execution_count": 6,
   "id": "e35d7839",
   "metadata": {},
   "outputs": [
    {
     "name": "stdout",
     "output_type": "stream",
     "text": [
      "Anti Bounce back (now correct)\n"
     ]
    },
    {
     "data": {
      "text/html": [
       "<html>\\(\\displaystyle \\left[{z} = -\\frac{4}{3} \\, {\\mathcal{C}}^{2} - \\frac{2}{3} \\, \\sqrt{4 \\, {\\mathcal{C}}^{4} - 2 \\, {\\mathcal{C}}^{2} - 2} + \\frac{1}{3}, {z} = -\\frac{4}{3} \\, {\\mathcal{C}}^{2} + \\frac{2}{3} \\, \\sqrt{4 \\, {\\mathcal{C}}^{4} - 2 \\, {\\mathcal{C}}^{2} - 2} + \\frac{1}{3}, {z} = \\left(-1\\right)\\right]\\)</html>"
      ],
      "text/latex": [
       "$\\displaystyle \\left[{z} = -\\frac{4}{3} \\, {\\mathcal{C}}^{2} - \\frac{2}{3} \\, \\sqrt{4 \\, {\\mathcal{C}}^{4} - 2 \\, {\\mathcal{C}}^{2} - 2} + \\frac{1}{3}, {z} = -\\frac{4}{3} \\, {\\mathcal{C}}^{2} + \\frac{2}{3} \\, \\sqrt{4 \\, {\\mathcal{C}}^{4} - 2 \\, {\\mathcal{C}}^{2} - 2} + \\frac{1}{3}, {z} = \\left(-1\\right)\\right]$"
      ],
      "text/plain": [
       "[z == -4/3*C^2 - 2/3*sqrt(4*C^4 - 2*C^2 - 2) + 1/3, z == -4/3*C^2 + 2/3*sqrt(4*C^4 - 2*C^2 - 2) + 1/3, z == -1]"
      ]
     },
     "metadata": {},
     "output_type": "display_data"
    },
    {
     "data": {
      "text/html": [
       "<html>\\(\\displaystyle \\left[{\\kappa} = -\\frac{32 \\, {\\mathcal{C}}^{6} + 48 \\, {\\mathcal{C}}^{5} - 36 \\, {\\mathcal{C}}^{4} - 42 \\, {\\mathcal{C}}^{3} - 6 \\, {\\mathcal{C}}^{2} + {\\left(16 \\, {\\mathcal{C}}^{4} + 24 \\, {\\mathcal{C}}^{3} - 14 \\, {\\mathcal{C}}^{2} - 15 \\, {\\mathcal{C}} - 2\\right)} \\sqrt{4 \\, {\\mathcal{C}}^{4} - 2 \\, {\\mathcal{C}}^{2} - 2} - 6 \\, {\\mathcal{C}} + 10}{32 \\, {\\mathcal{C}}^{6} - 48 \\, {\\mathcal{C}}^{5} - 36 \\, {\\mathcal{C}}^{4} + 42 \\, {\\mathcal{C}}^{3} - 6 \\, {\\mathcal{C}}^{2} + {\\left(16 \\, {\\mathcal{C}}^{4} - 24 \\, {\\mathcal{C}}^{3} - 14 \\, {\\mathcal{C}}^{2} + 15 \\, {\\mathcal{C}} - 2\\right)} \\sqrt{4 \\, {\\mathcal{C}}^{4} - 2 \\, {\\mathcal{C}}^{2} - 2} + 6 \\, {\\mathcal{C}} + 10}\\right]\\)</html>"
      ],
      "text/latex": [
       "$\\displaystyle \\left[{\\kappa} = -\\frac{32 \\, {\\mathcal{C}}^{6} + 48 \\, {\\mathcal{C}}^{5} - 36 \\, {\\mathcal{C}}^{4} - 42 \\, {\\mathcal{C}}^{3} - 6 \\, {\\mathcal{C}}^{2} + {\\left(16 \\, {\\mathcal{C}}^{4} + 24 \\, {\\mathcal{C}}^{3} - 14 \\, {\\mathcal{C}}^{2} - 15 \\, {\\mathcal{C}} - 2\\right)} \\sqrt{4 \\, {\\mathcal{C}}^{4} - 2 \\, {\\mathcal{C}}^{2} - 2} - 6 \\, {\\mathcal{C}} + 10}{32 \\, {\\mathcal{C}}^{6} - 48 \\, {\\mathcal{C}}^{5} - 36 \\, {\\mathcal{C}}^{4} + 42 \\, {\\mathcal{C}}^{3} - 6 \\, {\\mathcal{C}}^{2} + {\\left(16 \\, {\\mathcal{C}}^{4} - 24 \\, {\\mathcal{C}}^{3} - 14 \\, {\\mathcal{C}}^{2} + 15 \\, {\\mathcal{C}} - 2\\right)} \\sqrt{4 \\, {\\mathcal{C}}^{4} - 2 \\, {\\mathcal{C}}^{2} - 2} + 6 \\, {\\mathcal{C}} + 10}\\right]$"
      ],
      "text/plain": [
       "[kappa == -(32*C^6 + 48*C^5 - 36*C^4 - 42*C^3 - 6*C^2 + (16*C^4 + 24*C^3 - 14*C^2 - 15*C - 2)*sqrt(4*C^4 - 2*C^2 - 2) - 6*C + 10)/(32*C^6 - 48*C^5 - 36*C^4 + 42*C^3 - 6*C^2 + (16*C^4 - 24*C^3 - 14*C^2 + 15*C - 2)*sqrt(4*C^4 - 2*C^2 - 2) + 6*C + 10)]"
      ]
     },
     "metadata": {},
     "output_type": "display_data"
    },
    {
     "data": {
      "text/html": [
       "<html>\\(\\displaystyle \\left[{\\kappa} = -\\frac{32 \\, {\\mathcal{C}}^{6} + 48 \\, {\\mathcal{C}}^{5} - 36 \\, {\\mathcal{C}}^{4} - 42 \\, {\\mathcal{C}}^{3} - 6 \\, {\\mathcal{C}}^{2} + {\\left(16 \\, {\\mathcal{C}}^{4} + 24 \\, {\\mathcal{C}}^{3} - 14 \\, {\\mathcal{C}}^{2} - 15 \\, {\\mathcal{C}} - 2\\right)} \\sqrt{4 \\, {\\mathcal{C}}^{4} - 2 \\, {\\mathcal{C}}^{2} - 2} - 6 \\, {\\mathcal{C}} + 10}{32 \\, {\\mathcal{C}}^{6} - 48 \\, {\\mathcal{C}}^{5} - 36 \\, {\\mathcal{C}}^{4} + 42 \\, {\\mathcal{C}}^{3} - 6 \\, {\\mathcal{C}}^{2} + {\\left(16 \\, {\\mathcal{C}}^{4} - 24 \\, {\\mathcal{C}}^{3} - 14 \\, {\\mathcal{C}}^{2} + 15 \\, {\\mathcal{C}} - 2\\right)} \\sqrt{4 \\, {\\mathcal{C}}^{4} - 2 \\, {\\mathcal{C}}^{2} - 2} + 6 \\, {\\mathcal{C}} + 10}, {\\kappa} = \\left(-1\\right)\\right]\\)</html>"
      ],
      "text/latex": [
       "$\\displaystyle \\left[{\\kappa} = -\\frac{32 \\, {\\mathcal{C}}^{6} + 48 \\, {\\mathcal{C}}^{5} - 36 \\, {\\mathcal{C}}^{4} - 42 \\, {\\mathcal{C}}^{3} - 6 \\, {\\mathcal{C}}^{2} + {\\left(16 \\, {\\mathcal{C}}^{4} + 24 \\, {\\mathcal{C}}^{3} - 14 \\, {\\mathcal{C}}^{2} - 15 \\, {\\mathcal{C}} - 2\\right)} \\sqrt{4 \\, {\\mathcal{C}}^{4} - 2 \\, {\\mathcal{C}}^{2} - 2} - 6 \\, {\\mathcal{C}} + 10}{32 \\, {\\mathcal{C}}^{6} - 48 \\, {\\mathcal{C}}^{5} - 36 \\, {\\mathcal{C}}^{4} + 42 \\, {\\mathcal{C}}^{3} - 6 \\, {\\mathcal{C}}^{2} + {\\left(16 \\, {\\mathcal{C}}^{4} - 24 \\, {\\mathcal{C}}^{3} - 14 \\, {\\mathcal{C}}^{2} + 15 \\, {\\mathcal{C}} - 2\\right)} \\sqrt{4 \\, {\\mathcal{C}}^{4} - 2 \\, {\\mathcal{C}}^{2} - 2} + 6 \\, {\\mathcal{C}} + 10}, {\\kappa} = \\left(-1\\right)\\right]$"
      ],
      "text/plain": [
       "[kappa == -(32*C^6 + 48*C^5 - 36*C^4 - 42*C^3 - 6*C^2 + (16*C^4 + 24*C^3 - 14*C^2 - 15*C - 2)*sqrt(4*C^4 - 2*C^2 - 2) - 6*C + 10)/(32*C^6 - 48*C^5 - 36*C^4 + 42*C^3 - 6*C^2 + (16*C^4 - 24*C^3 - 14*C^2 + 15*C - 2)*sqrt(4*C^4 - 2*C^2 - 2) + 6*C + 10), kappa == -1]"
      ]
     },
     "metadata": {},
     "output_type": "display_data"
    },
    {
     "data": {
      "text/html": [
       "<html>\\(\\displaystyle \\left[{\\kappa} = -\\frac{32 \\, {\\mathcal{C}}^{6} + 48 \\, {\\mathcal{C}}^{5} - 36 \\, {\\mathcal{C}}^{4} - 42 \\, {\\mathcal{C}}^{3} - 6 \\, {\\mathcal{C}}^{2} - {\\left(16 \\, {\\mathcal{C}}^{4} + 24 \\, {\\mathcal{C}}^{3} - 14 \\, {\\mathcal{C}}^{2} - 15 \\, {\\mathcal{C}} - 2\\right)} \\sqrt{4 \\, {\\mathcal{C}}^{4} - 2 \\, {\\mathcal{C}}^{2} - 2} - 6 \\, {\\mathcal{C}} + 10}{32 \\, {\\mathcal{C}}^{6} - 48 \\, {\\mathcal{C}}^{5} - 36 \\, {\\mathcal{C}}^{4} + 42 \\, {\\mathcal{C}}^{3} - 6 \\, {\\mathcal{C}}^{2} - {\\left(16 \\, {\\mathcal{C}}^{4} - 24 \\, {\\mathcal{C}}^{3} - 14 \\, {\\mathcal{C}}^{2} + 15 \\, {\\mathcal{C}} - 2\\right)} \\sqrt{4 \\, {\\mathcal{C}}^{4} - 2 \\, {\\mathcal{C}}^{2} - 2} + 6 \\, {\\mathcal{C}} + 10}\\right]\\)</html>"
      ],
      "text/latex": [
       "$\\displaystyle \\left[{\\kappa} = -\\frac{32 \\, {\\mathcal{C}}^{6} + 48 \\, {\\mathcal{C}}^{5} - 36 \\, {\\mathcal{C}}^{4} - 42 \\, {\\mathcal{C}}^{3} - 6 \\, {\\mathcal{C}}^{2} - {\\left(16 \\, {\\mathcal{C}}^{4} + 24 \\, {\\mathcal{C}}^{3} - 14 \\, {\\mathcal{C}}^{2} - 15 \\, {\\mathcal{C}} - 2\\right)} \\sqrt{4 \\, {\\mathcal{C}}^{4} - 2 \\, {\\mathcal{C}}^{2} - 2} - 6 \\, {\\mathcal{C}} + 10}{32 \\, {\\mathcal{C}}^{6} - 48 \\, {\\mathcal{C}}^{5} - 36 \\, {\\mathcal{C}}^{4} + 42 \\, {\\mathcal{C}}^{3} - 6 \\, {\\mathcal{C}}^{2} - {\\left(16 \\, {\\mathcal{C}}^{4} - 24 \\, {\\mathcal{C}}^{3} - 14 \\, {\\mathcal{C}}^{2} + 15 \\, {\\mathcal{C}} - 2\\right)} \\sqrt{4 \\, {\\mathcal{C}}^{4} - 2 \\, {\\mathcal{C}}^{2} - 2} + 6 \\, {\\mathcal{C}} + 10}\\right]$"
      ],
      "text/plain": [
       "[kappa == -(32*C^6 + 48*C^5 - 36*C^4 - 42*C^3 - 6*C^2 - (16*C^4 + 24*C^3 - 14*C^2 - 15*C - 2)*sqrt(4*C^4 - 2*C^2 - 2) - 6*C + 10)/(32*C^6 - 48*C^5 - 36*C^4 + 42*C^3 - 6*C^2 - (16*C^4 - 24*C^3 - 14*C^2 + 15*C - 2)*sqrt(4*C^4 - 2*C^2 - 2) + 6*C + 10)]"
      ]
     },
     "metadata": {},
     "output_type": "display_data"
    },
    {
     "data": {
      "text/html": [
       "<html>\\(\\displaystyle \\left[{\\kappa} = -\\frac{32 \\, {\\mathcal{C}}^{6} + 48 \\, {\\mathcal{C}}^{5} - 36 \\, {\\mathcal{C}}^{4} - 42 \\, {\\mathcal{C}}^{3} - 6 \\, {\\mathcal{C}}^{2} - {\\left(16 \\, {\\mathcal{C}}^{4} + 24 \\, {\\mathcal{C}}^{3} - 14 \\, {\\mathcal{C}}^{2} - 15 \\, {\\mathcal{C}} - 2\\right)} \\sqrt{4 \\, {\\mathcal{C}}^{4} - 2 \\, {\\mathcal{C}}^{2} - 2} - 6 \\, {\\mathcal{C}} + 10}{32 \\, {\\mathcal{C}}^{6} - 48 \\, {\\mathcal{C}}^{5} - 36 \\, {\\mathcal{C}}^{4} + 42 \\, {\\mathcal{C}}^{3} - 6 \\, {\\mathcal{C}}^{2} - {\\left(16 \\, {\\mathcal{C}}^{4} - 24 \\, {\\mathcal{C}}^{3} - 14 \\, {\\mathcal{C}}^{2} + 15 \\, {\\mathcal{C}} - 2\\right)} \\sqrt{4 \\, {\\mathcal{C}}^{4} - 2 \\, {\\mathcal{C}}^{2} - 2} + 6 \\, {\\mathcal{C}} + 10}, {\\kappa} = \\left(-1\\right)\\right]\\)</html>"
      ],
      "text/latex": [
       "$\\displaystyle \\left[{\\kappa} = -\\frac{32 \\, {\\mathcal{C}}^{6} + 48 \\, {\\mathcal{C}}^{5} - 36 \\, {\\mathcal{C}}^{4} - 42 \\, {\\mathcal{C}}^{3} - 6 \\, {\\mathcal{C}}^{2} - {\\left(16 \\, {\\mathcal{C}}^{4} + 24 \\, {\\mathcal{C}}^{3} - 14 \\, {\\mathcal{C}}^{2} - 15 \\, {\\mathcal{C}} - 2\\right)} \\sqrt{4 \\, {\\mathcal{C}}^{4} - 2 \\, {\\mathcal{C}}^{2} - 2} - 6 \\, {\\mathcal{C}} + 10}{32 \\, {\\mathcal{C}}^{6} - 48 \\, {\\mathcal{C}}^{5} - 36 \\, {\\mathcal{C}}^{4} + 42 \\, {\\mathcal{C}}^{3} - 6 \\, {\\mathcal{C}}^{2} - {\\left(16 \\, {\\mathcal{C}}^{4} - 24 \\, {\\mathcal{C}}^{3} - 14 \\, {\\mathcal{C}}^{2} + 15 \\, {\\mathcal{C}} - 2\\right)} \\sqrt{4 \\, {\\mathcal{C}}^{4} - 2 \\, {\\mathcal{C}}^{2} - 2} + 6 \\, {\\mathcal{C}} + 10}, {\\kappa} = \\left(-1\\right)\\right]$"
      ],
      "text/plain": [
       "[kappa == -(32*C^6 + 48*C^5 - 36*C^4 - 42*C^3 - 6*C^2 - (16*C^4 + 24*C^3 - 14*C^2 - 15*C - 2)*sqrt(4*C^4 - 2*C^2 - 2) - 6*C + 10)/(32*C^6 - 48*C^5 - 36*C^4 + 42*C^3 - 6*C^2 - (16*C^4 - 24*C^3 - 14*C^2 + 15*C - 2)*sqrt(4*C^4 - 2*C^2 - 2) + 6*C + 10), kappa == -1]"
      ]
     },
     "metadata": {},
     "output_type": "display_data"
    },
    {
     "name": "stdout",
     "output_type": "stream",
     "text": [
      "values of E_R, O_R, E_I and O_I\n"
     ]
    },
    {
     "data": {
      "text/html": [
       "<html>\\(\\displaystyle 2 \\, {\\left(8 \\, {\\mathcal{C}}^{2} - 5\\right)} {\\left(2 \\, {\\mathcal{C}}^{2} + 1\\right)} {\\left({\\mathcal{C}} + 1\\right)} {\\left({\\mathcal{C}} - 1\\right)}\\)</html>"
      ],
      "text/latex": [
       "$\\displaystyle 2 \\, {\\left(8 \\, {\\mathcal{C}}^{2} - 5\\right)} {\\left(2 \\, {\\mathcal{C}}^{2} + 1\\right)} {\\left({\\mathcal{C}} + 1\\right)} {\\left({\\mathcal{C}} - 1\\right)}$"
      ],
      "text/plain": [
       "2*(8*C^2 - 5)*(2*C^2 + 1)*(C + 1)*(C - 1)"
      ]
     },
     "metadata": {},
     "output_type": "display_data"
    },
    {
     "data": {
      "text/html": [
       "<html>\\(\\displaystyle 6 \\, {\\left(8 \\, {\\mathcal{C}}^{2} + 1\\right)} {\\left({\\mathcal{C}} + 1\\right)} {\\left({\\mathcal{C}} - 1\\right)} {\\mathcal{C}}\\)</html>"
      ],
      "text/latex": [
       "$\\displaystyle 6 \\, {\\left(8 \\, {\\mathcal{C}}^{2} + 1\\right)} {\\left({\\mathcal{C}} + 1\\right)} {\\left({\\mathcal{C}} - 1\\right)} {\\mathcal{C}}$"
      ],
      "text/plain": [
       "6*(8*C^2 + 1)*(C + 1)*(C - 1)*C"
      ]
     },
     "metadata": {},
     "output_type": "display_data"
    },
    {
     "data": {
      "text/html": [
       "<html>\\(\\displaystyle 2 \\, {\\left(8 \\, {\\mathcal{C}}^{2} + 1\\right)} {\\left({\\mathcal{C}} + 1\\right)} {\\left({\\mathcal{C}} - 1\\right)}\\)</html>"
      ],
      "text/latex": [
       "$\\displaystyle 2 \\, {\\left(8 \\, {\\mathcal{C}}^{2} + 1\\right)} {\\left({\\mathcal{C}} + 1\\right)} {\\left({\\mathcal{C}} - 1\\right)}$"
      ],
      "text/plain": [
       "2*(8*C^2 + 1)*(C + 1)*(C - 1)"
      ]
     },
     "metadata": {},
     "output_type": "display_data"
    },
    {
     "data": {
      "text/html": [
       "<html>\\(\\displaystyle 3 \\, {\\left(8 \\, {\\mathcal{C}}^{2} - 5\\right)} {\\mathcal{C}}\\)</html>"
      ],
      "text/latex": [
       "$\\displaystyle 3 \\, {\\left(8 \\, {\\mathcal{C}}^{2} - 5\\right)} {\\mathcal{C}}$"
      ],
      "text/plain": [
       "3*(8*C^2 - 5)*C"
      ]
     },
     "metadata": {},
     "output_type": "display_data"
    },
    {
     "name": "stdout",
     "output_type": "stream",
     "text": [
      "Numerator in abs(k)^2\n"
     ]
    },
    {
     "data": {
      "text/html": [
       "<html>\\(\\displaystyle 2916 \\, {\\left(4 \\, {\\mathcal{C}}^{4} - 11 \\, {\\mathcal{C}}^{2} - 2\\right)}^{2} {\\left({\\mathcal{C}} + 1\\right)}^{2} {\\left({\\mathcal{C}} - 1\\right)}^{2}\\)</html>"
      ],
      "text/latex": [
       "$\\displaystyle 2916 \\, {\\left(4 \\, {\\mathcal{C}}^{4} - 11 \\, {\\mathcal{C}}^{2} - 2\\right)}^{2} {\\left({\\mathcal{C}} + 1\\right)}^{2} {\\left({\\mathcal{C}} - 1\\right)}^{2}$"
      ],
      "text/plain": [
       "2916*(4*C^4 - 11*C^2 - 2)^2*(C + 1)^2*(C - 1)^2"
      ]
     },
     "metadata": {},
     "output_type": "display_data"
    },
    {
     "name": "stdout",
     "output_type": "stream",
     "text": [
      "Denominator in abs(k)^2\n"
     ]
    },
    {
     "data": {
      "text/html": [
       "<html>\\(\\displaystyle 2916 \\, {\\left(4 \\, {\\mathcal{C}}^{4} - 11 \\, {\\mathcal{C}}^{2} - 2\\right)}^{2} {\\left({\\mathcal{C}} + 1\\right)}^{2} {\\left({\\mathcal{C}} - 1\\right)}^{2}\\)</html>"
      ],
      "text/latex": [
       "$\\displaystyle 2916 \\, {\\left(4 \\, {\\mathcal{C}}^{4} - 11 \\, {\\mathcal{C}}^{2} - 2\\right)}^{2} {\\left({\\mathcal{C}} + 1\\right)}^{2} {\\left({\\mathcal{C}} - 1\\right)}^{2}$"
      ],
      "text/plain": [
       "2916*(4*C^4 - 11*C^2 - 2)^2*(C + 1)^2*(C - 1)^2"
      ]
     },
     "metadata": {},
     "output_type": "display_data"
    },
    {
     "name": "stdout",
     "output_type": "stream",
     "text": [
      "Perturbation test on the other root (k=-1) on the critical z-s\n"
     ]
    },
    {
     "data": {
      "text/html": [
       "<html>\\(\\displaystyle \\left[{\\delta \\kappa} = \\frac{2 \\, {\\left(2 \\, {\\mathcal{C}}^{2} + 1\\right)} {\\delta z}}{3 \\, {\\mathcal{C}}}\\right]\\)</html>"
      ],
      "text/latex": [
       "$\\displaystyle \\left[{\\delta \\kappa} = \\frac{2 \\, {\\left(2 \\, {\\mathcal{C}}^{2} + 1\\right)} {\\delta z}}{3 \\, {\\mathcal{C}}}\\right]$"
      ],
      "text/plain": [
       "[dk == 2/3*(2*C^2 + 1)*dz/C]"
      ]
     },
     "metadata": {},
     "output_type": "display_data"
    },
    {
     "data": {
      "text/html": [
       "<html>\\(\\displaystyle \\left[{\\delta \\kappa} = \\frac{2 \\, {\\left(2 \\, {\\mathcal{C}}^{2} + 1\\right)} {\\delta z}}{3 \\, {\\mathcal{C}}}\\right]\\)</html>"
      ],
      "text/latex": [
       "$\\displaystyle \\left[{\\delta \\kappa} = \\frac{2 \\, {\\left(2 \\, {\\mathcal{C}}^{2} + 1\\right)} {\\delta z}}{3 \\, {\\mathcal{C}}}\\right]$"
      ],
      "text/plain": [
       "[dk == 2/3*(2*C^2 + 1)*dz/C]"
      ]
     },
     "metadata": {},
     "output_type": "display_data"
    },
    {
     "name": "stdout",
     "output_type": "stream",
     "text": [
      "To see whether the parametrization here is kminus or kplus\n"
     ]
    },
    {
     "data": {
      "text/html": [
       "<html>\\(\\displaystyle -1.00000000000000\\)</html>"
      ],
      "text/latex": [
       "$\\displaystyle -1.00000000000000$"
      ],
      "text/plain": [
       "-1.00000000000000"
      ]
     },
     "metadata": {},
     "output_type": "display_data"
    },
    {
     "data": {
      "text/html": [
       "<html>\\(\\displaystyle -0.914675767918089 - 0.404188371410478i\\)</html>"
      ],
      "text/latex": [
       "$\\displaystyle -0.914675767918089 - 0.404188371410478i$"
      ],
      "text/plain": [
       "-0.914675767918089 - 0.404188371410478*I"
      ]
     },
     "metadata": {},
     "output_type": "display_data"
    },
    {
     "data": {
      "text/html": [
       "<html>\\(\\displaystyle -1.00000000000000 - 1.11022302462516 \\times 10^{-16}i\\)</html>"
      ],
      "text/latex": [
       "$\\displaystyle -1.00000000000000 - 1.11022302462516 \\times 10^{-16}i$"
      ],
      "text/plain": [
       "-1.00000000000000 - 1.11022302462516e-16*I"
      ]
     },
     "metadata": {},
     "output_type": "display_data"
    },
    {
     "data": {
      "text/html": [
       "<html>\\(\\displaystyle -0.914675767918089 + 0.404188371410478i\\)</html>"
      ],
      "text/latex": [
       "$\\displaystyle -0.914675767918089 + 0.404188371410478i$"
      ],
      "text/plain": [
       "-0.914675767918089 + 0.404188371410478*I"
      ]
     },
     "metadata": {},
     "output_type": "display_data"
    },
    {
     "name": "stdout",
     "output_type": "stream",
     "text": [
      "---\n"
     ]
    },
    {
     "data": {
      "text/html": [
       "<html>\\(\\displaystyle -1.00000000000000\\)</html>"
      ],
      "text/latex": [
       "$\\displaystyle -1.00000000000000$"
      ],
      "text/plain": [
       "-1.00000000000000"
      ]
     },
     "metadata": {},
     "output_type": "display_data"
    },
    {
     "data": {
      "text/html": [
       "<html>\\(\\displaystyle -0.578947368421053 - 0.815364914991035i\\)</html>"
      ],
      "text/latex": [
       "$\\displaystyle -0.578947368421053 - 0.815364914991035i$"
      ],
      "text/plain": [
       "-0.578947368421053 - 0.815364914991035*I"
      ]
     },
     "metadata": {},
     "output_type": "display_data"
    },
    {
     "data": {
      "text/html": [
       "<html>\\(\\displaystyle -1.00000000000000\\)</html>"
      ],
      "text/latex": [
       "$\\displaystyle -1.00000000000000$"
      ],
      "text/plain": [
       "-1.00000000000000"
      ]
     },
     "metadata": {},
     "output_type": "display_data"
    },
    {
     "data": {
      "text/html": [
       "<html>\\(\\displaystyle -0.578947368421053 + 0.815364914991035i\\)</html>"
      ],
      "text/latex": [
       "$\\displaystyle -0.578947368421053 + 0.815364914991035i$"
      ],
      "text/plain": [
       "-0.578947368421053 + 0.815364914991035*I"
      ]
     },
     "metadata": {},
     "output_type": "display_data"
    },
    {
     "name": "stdout",
     "output_type": "stream",
     "text": [
      "---\n"
     ]
    },
    {
     "data": {
      "text/html": [
       "<html>\\(\\displaystyle -1.00000000000000 + 1.66533453693773 \\times 10^{-16}i\\)</html>"
      ],
      "text/latex": [
       "$\\displaystyle -1.00000000000000 + 1.66533453693773 \\times 10^{-16}i$"
      ],
      "text/plain": [
       "-1.00000000000000 + 1.66533453693773e-16*I"
      ]
     },
     "metadata": {},
     "output_type": "display_data"
    },
    {
     "data": {
      "text/html": [
       "<html>\\(\\displaystyle -0.0440211181886747 - 0.999030600709217i\\)</html>"
      ],
      "text/latex": [
       "$\\displaystyle -0.0440211181886747 - 0.999030600709217i$"
      ],
      "text/plain": [
       "-0.0440211181886747 - 0.999030600709217*I"
      ]
     },
     "metadata": {},
     "output_type": "display_data"
    },
    {
     "data": {
      "text/html": [
       "<html>\\(\\displaystyle -1.00000000000000 - 1.52655665885959 \\times 10^{-16}i\\)</html>"
      ],
      "text/latex": [
       "$\\displaystyle -1.00000000000000 - 1.52655665885959 \\times 10^{-16}i$"
      ],
      "text/plain": [
       "-1.00000000000000 - 1.52655665885959e-16*I"
      ]
     },
     "metadata": {},
     "output_type": "display_data"
    },
    {
     "data": {
      "text/html": [
       "<html>\\(\\displaystyle -0.0440211181886747 + 0.999030600709217i\\)</html>"
      ],
      "text/latex": [
       "$\\displaystyle -0.0440211181886747 + 0.999030600709217i$"
      ],
      "text/plain": [
       "-0.0440211181886747 + 0.999030600709217*I"
      ]
     },
     "metadata": {},
     "output_type": "display_data"
    },
    {
     "name": "stdout",
     "output_type": "stream",
     "text": [
      "---\n",
      "Conclusion: the right parametrization is kplus\n",
      "group velocity (without lambda)\n"
     ]
    },
    {
     "data": {
      "text/html": [
       "<html>\\(\\displaystyle \\frac{\\sqrt{5} {\\left(911 \\, \\sqrt{2} \\sqrt{-15} + 40905 \\, \\sqrt{2}\\right)} \\sqrt{3 \\, \\sqrt{-15} - 11} + 21804 \\, \\sqrt{-15} - 254540}{2 \\, {\\left(\\sqrt{5} {\\left(6841 \\, \\sqrt{2} \\sqrt{-15} - 10961 \\, \\sqrt{2}\\right)} \\sqrt{3 \\, \\sqrt{-15} - 11} + 159521 \\, \\sqrt{-15} + 264455\\right)}}\\)</html>"
      ],
      "text/latex": [
       "$\\displaystyle \\frac{\\sqrt{5} {\\left(911 \\, \\sqrt{2} \\sqrt{-15} + 40905 \\, \\sqrt{2}\\right)} \\sqrt{3 \\, \\sqrt{-15} - 11} + 21804 \\, \\sqrt{-15} - 254540}{2 \\, {\\left(\\sqrt{5} {\\left(6841 \\, \\sqrt{2} \\sqrt{-15} - 10961 \\, \\sqrt{2}\\right)} \\sqrt{3 \\, \\sqrt{-15} - 11} + 159521 \\, \\sqrt{-15} + 264455\\right)}}$"
      ],
      "text/plain": [
       "1/2*(sqrt(5)*(911*sqrt(2)*sqrt(-15) + 40905*sqrt(2))*sqrt(3*sqrt(-15) - 11) + 21804*sqrt(-15) - 254540)/(sqrt(5)*(6841*sqrt(2)*sqrt(-15) - 10961*sqrt(2))*sqrt(3*sqrt(-15) - 11) + 159521*sqrt(-15) + 264455)"
      ]
     },
     "metadata": {},
     "output_type": "display_data"
    },
    {
     "name": "stdout",
     "output_type": "stream",
     "text": [
      "group velocity (without lambda), totally simplified\n"
     ]
    },
    {
     "data": {
      "text/html": [
       "<html>\\(\\displaystyle \\frac{19}{41}\\)</html>"
      ],
      "text/latex": [
       "$\\displaystyle \\frac{19}{41}$"
      ],
      "text/plain": [
       "19/41"
      ]
     },
     "metadata": {},
     "output_type": "display_data"
    },
    {
     "name": "stdout",
     "output_type": "stream",
     "text": [
      "To understand what is the resonant source term for this instability\n"
     ]
    },
    {
     "data": {
      "text/html": [
       "<html>\\(\\displaystyle \\left(e^{\\left(i \\, \\arctan\\left(\\frac{2 \\, \\sqrt{2} \\sqrt{2 \\, {\\mathcal{C}}^{2} + 1} \\sqrt{{\\mathcal{C}} + 1} \\sqrt{-{\\mathcal{C}} + 1}}{4 \\, {\\mathcal{C}}^{2} - 1}\\right)\\right)}\\right)^{n}\\)</html>"
      ],
      "text/latex": [
       "$\\displaystyle \\left(e^{\\left(i \\, \\arctan\\left(\\frac{2 \\, \\sqrt{2} \\sqrt{2 \\, {\\mathcal{C}}^{2} + 1} \\sqrt{{\\mathcal{C}} + 1} \\sqrt{-{\\mathcal{C}} + 1}}{4 \\, {\\mathcal{C}}^{2} - 1}\\right)\\right)}\\right)^{n}$"
      ],
      "text/plain": [
       "(e^(I*arctan(2*sqrt(2)*sqrt(2*C^2 + 1)*sqrt(C + 1)*sqrt(-C + 1)/(4*C^2 - 1))))^n"
      ]
     },
     "metadata": {},
     "output_type": "display_data"
    },
    {
     "data": {
      "text/html": [
       "<html>\\(\\displaystyle \\left(e^{\\left(-i \\, \\arctan\\left(\\frac{2 \\, \\sqrt{2} \\sqrt{2 \\, {\\mathcal{C}}^{2} + 1} \\sqrt{{\\mathcal{C}} + 1} \\sqrt{-{\\mathcal{C}} + 1}}{4 \\, {\\mathcal{C}}^{2} - 1}\\right)\\right)}\\right)^{n}\\)</html>"
      ],
      "text/latex": [
       "$\\displaystyle \\left(e^{\\left(-i \\, \\arctan\\left(\\frac{2 \\, \\sqrt{2} \\sqrt{2 \\, {\\mathcal{C}}^{2} + 1} \\sqrt{{\\mathcal{C}} + 1} \\sqrt{-{\\mathcal{C}} + 1}}{4 \\, {\\mathcal{C}}^{2} - 1}\\right)\\right)}\\right)^{n}$"
      ],
      "text/plain": [
       "(e^(-I*arctan(2*sqrt(2)*sqrt(2*C^2 + 1)*sqrt(C + 1)*sqrt(-C + 1)/(4*C^2 - 1))))^n"
      ]
     },
     "metadata": {},
     "output_type": "display_data"
    },
    {
     "name": "stdout",
     "output_type": "stream",
     "text": [
      "Computation of the stable eigenvector\n",
      "We observe that the eigenvector does not blow up\n"
     ]
    },
    {
     "data": {
      "text/html": [
       "<html>\\(\\displaystyle -0.100000000000000 - 0.0717740562565274i\\)</html>"
      ],
      "text/latex": [
       "$\\displaystyle -0.100000000000000 - 0.0717740562565274i$"
      ],
      "text/plain": [
       "-0.100000000000000 - 0.0717740562565274*I"
      ]
     },
     "metadata": {},
     "output_type": "display_data"
    },
    {
     "data": {
      "text/html": [
       "<html>\\(\\displaystyle 0.340000000000000 - 0.473708771293080i\\)</html>"
      ],
      "text/latex": [
       "$\\displaystyle 0.340000000000000 - 0.473708771293080i$"
      ],
      "text/plain": [
       "0.340000000000000 - 0.473708771293080*I"
      ]
     },
     "metadata": {},
     "output_type": "display_data"
    },
    {
     "name": "stdout",
     "output_type": "stream",
     "text": [
      "----\n"
     ]
    },
    {
     "data": {
      "text/html": [
       "<html>\\(\\displaystyle -0.250000000000000 - 0.193649167310371i\\)</html>"
      ],
      "text/latex": [
       "$\\displaystyle -0.250000000000000 - 0.193649167310371i$"
      ],
      "text/plain": [
       "-0.250000000000000 - 0.193649167310371*I"
      ]
     },
     "metadata": {},
     "output_type": "display_data"
    },
    {
     "data": {
      "text/html": [
       "<html>\\(\\displaystyle 0.375000000000000 - 0.484122918275927i\\)</html>"
      ],
      "text/latex": [
       "$\\displaystyle 0.375000000000000 - 0.484122918275927i$"
      ],
      "text/plain": [
       "0.375000000000000 - 0.484122918275927*I"
      ]
     },
     "metadata": {},
     "output_type": "display_data"
    },
    {
     "name": "stdout",
     "output_type": "stream",
     "text": [
      "----\n"
     ]
    },
    {
     "data": {
      "text/html": [
       "<html>\\(\\displaystyle -0.478260869565215 - 0.464886525744932i\\)</html>"
      ],
      "text/latex": [
       "$\\displaystyle -0.478260869565215 - 0.464886525744932i$"
      ],
      "text/plain": [
       "-0.478260869565215 - 0.464886525744932*I"
      ]
     },
     "metadata": {},
     "output_type": "display_data"
    },
    {
     "data": {
      "text/html": [
       "<html>\\(\\displaystyle 0.485822306238185 - 0.499798952579531i\\)</html>"
      ],
      "text/latex": [
       "$\\displaystyle 0.485822306238185 - 0.499798952579531i$"
      ],
      "text/plain": [
       "0.485822306238185 - 0.499798952579531*I"
      ]
     },
     "metadata": {},
     "output_type": "display_data"
    },
    {
     "name": "stdout",
     "output_type": "stream",
     "text": [
      "----\n",
      "I check that the eigenvector for the bulk is also eigenvector for the boundary, thus instability\n",
      "Computations are performed directly on the limit point\n"
     ]
    },
    {
     "data": {
      "text/html": [
       "<html>\\(\\displaystyle 0\\)</html>"
      ],
      "text/latex": [
       "$\\displaystyle 0$"
      ],
      "text/plain": [
       "0"
      ]
     },
     "metadata": {},
     "output_type": "display_data"
    },
    {
     "data": {
      "text/html": [
       "<html>\\(\\displaystyle 0\\)</html>"
      ],
      "text/latex": [
       "$\\displaystyle 0$"
      ],
      "text/plain": [
       "0"
      ]
     },
     "metadata": {},
     "output_type": "display_data"
    },
    {
     "data": {
      "text/html": [
       "<html>\\(\\displaystyle 0\\)</html>"
      ],
      "text/latex": [
       "$\\displaystyle 0$"
      ],
      "text/plain": [
       "0"
      ]
     },
     "metadata": {},
     "output_type": "display_data"
    }
   ],
   "source": [
    "print(\"Anti Bounce back (now correct)\")\n",
    "kABB = solve(bdMat_ABB.determinant().full_simplify(), k)[0].rhs().full_simplify()\n",
    "zABB = solve(charEq.full_simplify().subs(k==kABB), z)\n",
    "pretty_print(zABB)\n",
    "\n",
    "zABBMinus = zABB[0].rhs()\n",
    "zABBPlus  = zABB[1].rhs()\n",
    "\n",
    "pretty_print(solve(bdMat_ABB.determinant().full_simplify().subs(z==zABBMinus).full_simplify(), k))\n",
    "pretty_print(solve(charEq.subs(z==zABBMinus).full_simplify(), k))\n",
    "\n",
    "pretty_print(solve(bdMat_ABB.determinant().full_simplify().subs(z==zABBPlus).full_simplify(), k))\n",
    "pretty_print(solve(charEq.subs(z==zABBPlus).full_simplify(), k))\n",
    "\n",
    "#print(solve(bdMat_ABB.determinant().full_simplify().subs(z==zABBMinus).full_simplify(), k))\n",
    "\n",
    "R = -(4*C^4 - 2*C^2 - 2).factor()\n",
    "RealPoly = 32*C^6 + 48*C^5 - 36*C^4 - 42*C^3 - 6*C^2 - 6*C + 10\n",
    "ImagPoly = 16*C^4 + 24*C^3 - 14*C^2 - 15*C - 2\n",
    "ER = (1/2*(RealPoly+RealPoly.subs(C==-C))).factor()\n",
    "OR = (1/2*(RealPoly-RealPoly.subs(C==-C))).factor()\n",
    "EI = (1/2*(ImagPoly+ImagPoly.subs(C==-C))).factor()\n",
    "OI = (1/2*(ImagPoly-ImagPoly.subs(C==-C))).factor()\n",
    "\n",
    "print('values of E_R, O_R, E_I and O_I')\n",
    "pretty_print(ER)\n",
    "pretty_print(OR)\n",
    "pretty_print(EI)\n",
    "pretty_print(OI)\n",
    "\n",
    "er = var(\"er\", latex_name=\"\\\\mathcal{E}_R\") \n",
    "ei = var(\"ei\", latex_name=\"\\\\mathcal{E}_I\") \n",
    "odr = var(\"odr\", latex_name=\"\\\\mathcal{O}_R\") \n",
    "odi = var(\"odi\", latex_name=\"\\\\mathcal{O}_I\") \n",
    "r = var(\"r\", latex_name=\"\\\\mathcal{R}\") \n",
    "assume(er, 'real')\n",
    "assume(ei, 'real')\n",
    "assume(odr, 'real')\n",
    "assume(odi, 'real')\n",
    "assume(r>0)\n",
    "\n",
    "\n",
    "num = (er+odr+I*(ei+odi)*sqrt(r))\n",
    "den = (er-odr+I*(ei-odi)*sqrt(r))\n",
    "\n",
    "numMod = ((num*conjugate(den)).full_simplify())\n",
    "denMod = ((den*conjugate(den)).full_simplify())\n",
    "print('Numerator in abs(k)^2')\n",
    "pretty_print((numMod.real()**2+numMod.imag()**2).full_simplify().factor().subs(er==ER, ei==EI, odr==OR, odi==OI, r==R).full_simplify().factor())\n",
    "print('Denominator in abs(k)^2')\n",
    "pretty_print((denMod.real()**2+denMod.imag()**2).full_simplify().factor().subs(er==ER, ei==EI, odr==OR, odi==OI, r==R).full_simplify().factor())\n",
    "\n",
    "\n",
    "dz = var(\"dz\", latex_name=\"\\\\delta z\") \n",
    "dk = var(\"dk\", latex_name=\"\\\\delta \\\\kappa\") \n",
    "\n",
    "print('Perturbation test on the other root (k=-1) on the critical z-s')\n",
    "pretty_print(solve(taylor(charEq.subs(z==zABBMinus*(1+dz), k==-1+dk).full_simplify(), (dz, 0), (dk, 0), 1), dk))\n",
    "pretty_print(solve(taylor(charEq.subs(z==zABBPlus*(1+dz), k==-1+dk).full_simplify(), (dz, 0), (dk, 0), 1), dk))\n",
    "\n",
    "#assume(C<0)\n",
    "\n",
    "print('To see whether the parametrization here is kminus or kplus')\n",
    "for Cval in [-1/10, -1/4, -11/23]:\n",
    "    pretty_print(kminus.subs(z==zABBMinus).full_simplify().subs(C==Cval).n())\n",
    "    pretty_print(kplus.subs(z==zABBMinus).full_simplify().subs(C==Cval).n())\n",
    "    pretty_print(kminus.subs(z==zABBPlus).full_simplify().subs(C==Cval).n())\n",
    "    pretty_print(kplus.subs(z==zABBPlus).full_simplify().subs(C==Cval).n())\n",
    "    print('---')\n",
    "print('Conclusion: the right parametrization is kplus')    \n",
    "\n",
    "ks = kplus.full_simplify()\n",
    "\n",
    "Cval = -1/4\n",
    "Vgroup = -(ks/z/derivative(ks, z)).subs(z==zABBMinus).full_simplify().subs(C==Cval) ### Group velocity without \\lambda\n",
    "print('group velocity (without lambda)')\n",
    "pretty_print(Vgroup)\n",
    "print('group velocity (without lambda), totally simplified')\n",
    "pretty_print(abs(Vgroup.maxima_methods().polarform()).canonicalize_radical()) ### https://ask.sagemath.org/question/43617/is-there-a-sage-command-to-compute-complex-numbers/\n",
    "#### This maxima_methods().polarform()).canonicalize_radical() can be in principle be used to study the modulus of k as done before\n",
    "\n",
    "var('n')\n",
    "print('To understand what is the resonant source term for this instability')\n",
    "pretty_print((zABBMinus.canonicalize_radical().maxima_methods().polarform()**n).expand().full_simplify())\n",
    "pretty_print((zABBPlus.canonicalize_radical().maxima_methods().polarform()**n).expand().full_simplify())\n",
    "\n",
    "\n",
    "print('Computation of the stable eigenvector')\n",
    "LzOnStable = Lz.subs(k==ks)\n",
    "for i in range(q):\n",
    "    for j in range(q):\n",
    "        LzOnStable[i, j] = LzOnStable[i, j].full_simplify()\n",
    "        \n",
    "LzOnStableKer = LzOnStable.transpose().kernel()\n",
    "phiS = matrix([[LzOnStableKer.basis()[0][0].full_simplify()], \\\n",
    "               [LzOnStableKer.basis()[0][1].full_simplify()], \\\n",
    "               [LzOnStableKer.basis()[0][2].full_simplify()]]) ### It can take a certain time but it terminates\n",
    "\n",
    "print('We observe that the eigenvector does not blow up')\n",
    "for Cval in [-1/10, -1/4, -11/23]:\n",
    "    pretty_print(phiS[1][0].subs(z==zABBMinus).subs(C==Cval).canonicalize_radical().full_simplify().n())\n",
    "    pretty_print(phiS[2][0].subs(z==zABBMinus).subs(C==Cval).canonicalize_radical().full_simplify().n())\n",
    "    print('----')\n",
    "    \n",
    "print(\"I check that the eigenvector for the bulk is also eigenvector for the boundary, thus instability\")\n",
    "print(\"Computations are performed directly on the limit point\")\n",
    "kStar = kABB.subs(z==zABBMinus).full_simplify().canonicalize_radical()\n",
    "LzOnStable = Lz.subs(z==zABBMinus.canonicalize_radical(), k==kStar)\n",
    "for i in range(q):\n",
    "    for j in range(q):\n",
    "        LzOnStable[i, j] = LzOnStable[i, j].full_simplify()\n",
    "        \n",
    "LzOnStableKer = LzOnStable.transpose().kernel()\n",
    "phiS = matrix([[LzOnStableKer.basis()[0][0].full_simplify()], \\\n",
    "               [LzOnStableKer.basis()[0][1].full_simplify()], \\\n",
    "               [LzOnStableKer.basis()[0][2].full_simplify()]]) ### It can take a certain time but it terminates\n",
    "bd00 = matrix(SR, q, q)\n",
    "bd01 = matrix(SR, q, q)\n",
    "\n",
    "for i in range(q):\n",
    "    for j in range(q):\n",
    "        bd00[i, j] = bdMat_ABB[i, j].subs(z==zABBMinus.canonicalize_radical()).full_simplify().collect(k).coefficient(k, 0)\n",
    "        bd01[i, j] = bdMat_ABB[i, j].subs(z==zABBMinus.canonicalize_radical()).full_simplify().collect(k).coefficient(k, 1)\n",
    "        \n",
    "firstColBs = (bd00 + bd01*kStar)*phiS ### First column\n",
    "for i in range(q):\n",
    "    pretty_print(firstColBs[i][0].full_simplify())"
   ]
  },
  {
   "cell_type": "code",
   "execution_count": 74,
   "id": "0eb86c7b",
   "metadata": {},
   "outputs": [
    {
     "name": "stdout",
     "output_type": "stream",
     "text": [
      "Value of kminus at z=-1\n"
     ]
    },
    {
     "data": {
      "text/html": [
       "<html>\\(\\displaystyle 1\\)</html>"
      ],
      "text/latex": [
       "$\\displaystyle 1$"
      ],
      "text/plain": [
       "1"
      ]
     },
     "metadata": {},
     "output_type": "display_data"
    },
    {
     "name": "stdout",
     "output_type": "stream",
     "text": [
      "Value of kplus at z=-1\n"
     ]
    },
    {
     "data": {
      "text/html": [
       "<html>\\(\\displaystyle 1\\)</html>"
      ],
      "text/latex": [
       "$\\displaystyle 1$"
      ],
      "text/plain": [
       "1"
      ]
     },
     "metadata": {},
     "output_type": "display_data"
    },
    {
     "name": "stdout",
     "output_type": "stream",
     "text": [
      "Perturbation test\n",
      "For kminus\n"
     ]
    },
    {
     "data": {
      "text/html": [
       "<html>\\(\\displaystyle \\frac{{\\left(i \\, \\sqrt{3} \\sqrt{5 \\, {\\mathcal{C}}^{2} - 8} + 3 \\, {\\mathcal{C}}\\right)} {\\delta z}}{4 \\, {\\left({\\mathcal{C}}^{2} - 1\\right)}} + 1\\)</html>"
      ],
      "text/latex": [
       "$\\displaystyle \\frac{{\\left(i \\, \\sqrt{3} \\sqrt{5 \\, {\\mathcal{C}}^{2} - 8} + 3 \\, {\\mathcal{C}}\\right)} {\\delta z}}{4 \\, {\\left({\\mathcal{C}}^{2} - 1\\right)}} + 1$"
      ],
      "text/plain": [
       "1/4*(I*sqrt(3)*sqrt(5*C^2 - 8) + 3*C)*dz/(C^2 - 1) + 1"
      ]
     },
     "metadata": {},
     "output_type": "display_data"
    },
    {
     "name": "stdout",
     "output_type": "stream",
     "text": [
      "For kplus\n"
     ]
    },
    {
     "data": {
      "text/html": [
       "<html>\\(\\displaystyle \\frac{{\\left(-i \\, \\sqrt{3} \\sqrt{5 \\, {\\mathcal{C}}^{2} - 8} + 3 \\, {\\mathcal{C}}\\right)} {\\delta z}}{4 \\, {\\left({\\mathcal{C}}^{2} - 1\\right)}} + 1\\)</html>"
      ],
      "text/latex": [
       "$\\displaystyle \\frac{{\\left(-i \\, \\sqrt{3} \\sqrt{5 \\, {\\mathcal{C}}^{2} - 8} + 3 \\, {\\mathcal{C}}\\right)} {\\delta z}}{4 \\, {\\left({\\mathcal{C}}^{2} - 1\\right)}} + 1$"
      ],
      "text/plain": [
       "1/4*(-I*sqrt(3)*sqrt(5*C^2 - 8) + 3*C)*dz/(C^2 - 1) + 1"
      ]
     },
     "metadata": {},
     "output_type": "display_data"
    },
    {
     "name": "stdout",
     "output_type": "stream",
     "text": [
      "Value of kminus at z=1\n"
     ]
    },
    {
     "data": {
      "text/html": [
       "<html>\\(\\displaystyle 1\\)</html>"
      ],
      "text/latex": [
       "$\\displaystyle 1$"
      ],
      "text/plain": [
       "1"
      ]
     },
     "metadata": {},
     "output_type": "display_data"
    },
    {
     "name": "stdout",
     "output_type": "stream",
     "text": [
      "Value of kplus at z=1\n"
     ]
    },
    {
     "data": {
      "text/html": [
       "<html>\\(\\displaystyle -1\\)</html>"
      ],
      "text/latex": [
       "$\\displaystyle -1$"
      ],
      "text/plain": [
       "-1"
      ]
     },
     "metadata": {},
     "output_type": "display_data"
    },
    {
     "name": "stdout",
     "output_type": "stream",
     "text": [
      "Group velocity of the stable mode at z=-1\n"
     ]
    },
    {
     "data": {
      "text/html": [
       "<html>\\(\\displaystyle \\frac{4 \\, {\\left({\\mathcal{C}}^{2} - 1\\right)}}{i \\, \\sqrt{3} \\sqrt{5 \\, {\\mathcal{C}}^{2} - 8} - 3 \\, {\\mathcal{C}}}\\)</html>"
      ],
      "text/latex": [
       "$\\displaystyle \\frac{4 \\, {\\left({\\mathcal{C}}^{2} - 1\\right)}}{i \\, \\sqrt{3} \\sqrt{5 \\, {\\mathcal{C}}^{2} - 8} - 3 \\, {\\mathcal{C}}}$"
      ],
      "text/plain": [
       "4*(C^2 - 1)/(I*sqrt(3)*sqrt(5*C^2 - 8) - 3*C)"
      ]
     },
     "metadata": {},
     "output_type": "display_data"
    },
    {
     "name": "stdout",
     "output_type": "stream",
     "text": [
      "Group velocity of the stable mode at z=1\n"
     ]
    },
    {
     "data": {
      "text/html": [
       "<html>\\(\\displaystyle -\\frac{3 \\, {\\mathcal{C}}}{2 \\, {\\mathcal{C}}^{2} + 1}\\)</html>"
      ],
      "text/latex": [
       "$\\displaystyle -\\frac{3 \\, {\\mathcal{C}}}{2 \\, {\\mathcal{C}}^{2} + 1}$"
      ],
      "text/plain": [
       "-3*C/(2*C^2 + 1)"
      ]
     },
     "metadata": {},
     "output_type": "display_data"
    },
    {
     "name": "stdout",
     "output_type": "stream",
     "text": [
      "Expansion of the second component of phiS around z = -1\n"
     ]
    },
    {
     "data": {
      "text/html": [
       "<html>\\(\\displaystyle -\\frac{4 \\, {\\left(i \\, \\sqrt{3} \\sqrt{5 \\, {\\mathcal{C}}^{2} - 8} + 3 \\, {\\mathcal{C}}\\right)} {\\left({\\mathcal{C}} + 1\\right)} {\\left({\\mathcal{C}} - 1\\right)}}{3 \\, {\\left(-i \\, \\sqrt{3} \\sqrt{5 \\, {\\mathcal{C}}^{2} - 8} {\\mathcal{C}} + {\\mathcal{C}}^{2} - 4\\right)} {\\left({z} + 1\\right)}}\\)</html>"
      ],
      "text/latex": [
       "$\\displaystyle -\\frac{4 \\, {\\left(i \\, \\sqrt{3} \\sqrt{5 \\, {\\mathcal{C}}^{2} - 8} + 3 \\, {\\mathcal{C}}\\right)} {\\left({\\mathcal{C}} + 1\\right)} {\\left({\\mathcal{C}} - 1\\right)}}{3 \\, {\\left(-i \\, \\sqrt{3} \\sqrt{5 \\, {\\mathcal{C}}^{2} - 8} {\\mathcal{C}} + {\\mathcal{C}}^{2} - 4\\right)} {\\left({z} + 1\\right)}}$"
      ],
      "text/plain": [
       "-4/3*(I*sqrt(3)*sqrt(5*C^2 - 8) + 3*C)*(C + 1)*(C - 1)/((-I*sqrt(3)*sqrt(5*C^2 - 8)*C + C^2 - 4)*(z + 1))"
      ]
     },
     "metadata": {},
     "output_type": "display_data"
    },
    {
     "name": "stdout",
     "output_type": "stream",
     "text": [
      "Expansion of the third component of phiS around z = -1\n"
     ]
    },
    {
     "data": {
      "text/html": [
       "<html>\\(\\displaystyle \\frac{4 \\, {\\left({\\mathcal{C}}^{2} - 1\\right)}}{3 \\, {\\left({z} + 1\\right)}} + 1\\)</html>"
      ],
      "text/latex": [
       "$\\displaystyle \\frac{4 \\, {\\left({\\mathcal{C}}^{2} - 1\\right)}}{3 \\, {\\left({z} + 1\\right)}} + 1$"
      ],
      "text/plain": [
       "4/3*(C^2 - 1)/(z + 1) + 1"
      ]
     },
     "metadata": {},
     "output_type": "display_data"
    },
    {
     "name": "stdout",
     "output_type": "stream",
     "text": [
      "Expansion of the second component of phiS around z = 1\n"
     ]
    },
    {
     "data": {
      "text/html": [
       "<html>\\(\\displaystyle -\\frac{{\\left(2 \\, {\\mathcal{C}}^{2} + 1\\right)} {\\left({z} - 1\\right)}}{6 \\, {\\mathcal{C}}} - \\frac{2 \\, {\\mathcal{C}}}{{z} - 1}\\)</html>"
      ],
      "text/latex": [
       "$\\displaystyle -\\frac{{\\left(2 \\, {\\mathcal{C}}^{2} + 1\\right)} {\\left({z} - 1\\right)}}{6 \\, {\\mathcal{C}}} - \\frac{2 \\, {\\mathcal{C}}}{{z} - 1}$"
      ],
      "text/plain": [
       "-1/6*(2*C^2 + 1)*(z - 1)/C - 2*C/(z - 1)"
      ]
     },
     "metadata": {},
     "output_type": "display_data"
    },
    {
     "name": "stdout",
     "output_type": "stream",
     "text": [
      "Expansion of the third component of phiS around z = 1\n"
     ]
    },
    {
     "data": {
      "text/html": [
       "<html>\\(\\displaystyle \\frac{2}{3} \\, {\\mathcal{C}}^{2} - \\frac{1}{3} \\, {\\left({\\mathcal{C}}^{2} - 1\\right)} {\\left({z} - 1\\right)} + \\frac{1}{3}\\)</html>"
      ],
      "text/latex": [
       "$\\displaystyle \\frac{2}{3} \\, {\\mathcal{C}}^{2} - \\frac{1}{3} \\, {\\left({\\mathcal{C}}^{2} - 1\\right)} {\\left({z} - 1\\right)} + \\frac{1}{3}$"
      ],
      "text/plain": [
       "2/3*C^2 - 1/3*(C^2 - 1)*(z - 1) + 1/3"
      ]
     },
     "metadata": {},
     "output_type": "display_data"
    }
   ],
   "source": [
    "#### Now we analyze the other boundary conditions which are not always anti bounce back\n",
    "\n",
    "#### Critical points (-1, 1) and (1, -1) --- For C<0\n",
    "assume(C<0)\n",
    "print(\"Value of kminus at z=-1\")\n",
    "pretty_print(kminus.subs(z==-1).full_simplify())\n",
    "print(\"Value of kplus at z=-1\")\n",
    "pretty_print(kplus.subs(z==-1).full_simplify())\n",
    "print('Perturbation test')\n",
    "dz = var(\"dz\", latex_name=\"\\\\delta z\") \n",
    "print('For kminus')\n",
    "pretty_print(taylor(kminus.subs(z==-1-dz), dz, 0, 1))\n",
    "print('For kplus')\n",
    "pretty_print(taylor(kplus.subs(z==-1-dz), dz, 0, 1))\n",
    "print(\"Value of kminus at z=1\")\n",
    "pretty_print(kminus.subs(z==1).full_simplify())\n",
    "print(\"Value of kplus at z=1\")\n",
    "pretty_print(kplus.subs(z==1).full_simplify())\n",
    "\n",
    "ks = kplus.full_simplify()\n",
    "\n",
    "print(\"Group velocity of the stable mode at z=-1\")\n",
    "pretty_print((ks/z/(taylor(kplus.subs(z==-1-dz), dz, 0, 1) - 1).subs(dz==1)).subs(z==-1).full_simplify())\n",
    "\n",
    "print(\"Group velocity of the stable mode at z=1\")\n",
    "pretty_print((-ks/z/ks.derivative(z)).subs(z==1).full_simplify())\n",
    "\n",
    "\n",
    "LzOnStable = Lz.subs(k==ks) ### This is the matrix polynomial where k is replaced by ks (stable root)\n",
    "for i in range(q):\n",
    "    for j in range(q):\n",
    "        LzOnStable[i, j] = LzOnStable[i, j].full_simplify()\n",
    "        \n",
    "#pretty_print(LzOnStable.transpose().kernel()) #### This is the stable eigenvalue phi_s\n",
    "phiS = matrix([[LzOnStable.transpose().kernel().basis()[0][0]], \\\n",
    "               [LzOnStable.transpose().kernel().basis()[0][1].full_simplify()], \\\n",
    "               [LzOnStable.transpose().kernel().basis()[0][2].full_simplify()]])\n",
    "\n",
    "#### Structure of the eigenvector close to the critical points\n",
    "print('Expansion of the second component of phiS around z = -1')\n",
    "pretty_print(taylor(phiS[1][0], z, -1, -1).factor())\n",
    "print('Expansion of the third component of phiS around z = -1')\n",
    "pretty_print(taylor(phiS[2][0], z, -1, 0))\n",
    "print('Expansion of the second component of phiS around z = 1')\n",
    "pretty_print(taylor(phiS[1][0], z, 1, 1))\n",
    "print('Expansion of the third component of phiS around z = 1')\n",
    "pretty_print(taylor(phiS[2][0], z, 1, 1))\n",
    "\n"
   ]
  },
  {
   "cell_type": "code",
   "execution_count": null,
   "id": "1d0ccbe9",
   "metadata": {},
   "outputs": [],
   "source": [
    "\n"
   ]
  },
  {
   "cell_type": "code",
   "execution_count": null,
   "id": "2fb100fe",
   "metadata": {},
   "outputs": [],
   "source": []
  },
  {
   "cell_type": "code",
   "execution_count": null,
   "id": "a709865c",
   "metadata": {},
   "outputs": [],
   "source": []
  },
  {
   "cell_type": "code",
   "execution_count": null,
   "id": "c612a117",
   "metadata": {},
   "outputs": [],
   "source": []
  },
  {
   "cell_type": "code",
   "execution_count": 137,
   "id": "1921e4d4",
   "metadata": {},
   "outputs": [
    {
     "name": "stdout",
     "output_type": "stream",
     "text": [
      "Basis for the eigenspace of k = 0\n"
     ]
    },
    {
     "data": {
      "text/html": [
       "<html>\\(\\displaystyle \\left[\\left(1,\\,0,\\,\\frac{4}{3} \\, {\\mathcal{C}}^{2} + 2 \\, {\\mathcal{C}} + \\frac{2}{3}\\right), \\left(0,\\,1,\\,-1\\right)\\right]\\)</html>"
      ],
      "text/latex": [
       "$\\displaystyle \\left[\\left(1,\\,0,\\,\\frac{4}{3} \\, {\\mathcal{C}}^{2} + 2 \\, {\\mathcal{C}} + \\frac{2}{3}\\right), \\left(0,\\,1,\\,-1\\right)\\right]$"
      ],
      "text/plain": [
       "[\n",
       "(1, 0, 4/3*C^2 + 2*C + 2/3),\n",
       "(0, 1, -1)\n",
       "]"
      ]
     },
     "metadata": {},
     "output_type": "display_data"
    },
    {
     "name": "stdout",
     "output_type": "stream",
     "text": [
      "Kreiss Lopatinskii determinant for BB with at z=-1 (Taylor expansion)\n"
     ]
    },
    {
     "data": {
      "text/html": [
       "<html>\\(\\displaystyle -\\frac{32 \\, {\\left(5 i \\, \\sqrt{3} \\sqrt{5 \\, {\\mathcal{C}}^{2} - 8} {\\mathcal{C}}^{4} + 3 \\, {\\mathcal{C}}^{5} - 10 i \\, \\sqrt{3} \\sqrt{5 \\, {\\mathcal{C}}^{2} - 8} {\\mathcal{C}}^{2} + 30 \\, {\\mathcal{C}}^{3} - 4 i \\, \\sqrt{3} \\sqrt{5 \\, {\\mathcal{C}}^{2} - 8} - 60 \\, {\\mathcal{C}}\\right)} {\\left({\\mathcal{C}} + 1\\right)}^{2} {\\left({\\mathcal{C}} - 1\\right)}^{2}}{9 \\, {\\left(-3 i \\, \\sqrt{3} \\sqrt{5 \\, {\\mathcal{C}}^{2} - 8} {\\mathcal{C}}^{5} + 11 \\, {\\mathcal{C}}^{6} - 60 \\, {\\mathcal{C}}^{4} + 12 i \\, \\sqrt{3} \\sqrt{5 \\, {\\mathcal{C}}^{2} - 8} {\\mathcal{C}} + 60 \\, {\\mathcal{C}}^{2} + 16\\right)} {\\left({z} + 1\\right)}}\\)</html>"
      ],
      "text/latex": [
       "$\\displaystyle -\\frac{32 \\, {\\left(5 i \\, \\sqrt{3} \\sqrt{5 \\, {\\mathcal{C}}^{2} - 8} {\\mathcal{C}}^{4} + 3 \\, {\\mathcal{C}}^{5} - 10 i \\, \\sqrt{3} \\sqrt{5 \\, {\\mathcal{C}}^{2} - 8} {\\mathcal{C}}^{2} + 30 \\, {\\mathcal{C}}^{3} - 4 i \\, \\sqrt{3} \\sqrt{5 \\, {\\mathcal{C}}^{2} - 8} - 60 \\, {\\mathcal{C}}\\right)} {\\left({\\mathcal{C}} + 1\\right)}^{2} {\\left({\\mathcal{C}} - 1\\right)}^{2}}{9 \\, {\\left(-3 i \\, \\sqrt{3} \\sqrt{5 \\, {\\mathcal{C}}^{2} - 8} {\\mathcal{C}}^{5} + 11 \\, {\\mathcal{C}}^{6} - 60 \\, {\\mathcal{C}}^{4} + 12 i \\, \\sqrt{3} \\sqrt{5 \\, {\\mathcal{C}}^{2} - 8} {\\mathcal{C}} + 60 \\, {\\mathcal{C}}^{2} + 16\\right)} {\\left({z} + 1\\right)}}$"
      ],
      "text/plain": [
       "-32/9*(5*I*sqrt(3)*sqrt(5*C^2 - 8)*C^4 + 3*C^5 - 10*I*sqrt(3)*sqrt(5*C^2 - 8)*C^2 + 30*C^3 - 4*I*sqrt(3)*sqrt(5*C^2 - 8) - 60*C)*(C + 1)^2*(C - 1)^2/((-3*I*sqrt(3)*sqrt(5*C^2 - 8)*C^5 + 11*C^6 - 60*C^4 + 12*I*sqrt(3)*sqrt(5*C^2 - 8)*C + 60*C^2 + 16)*(z + 1))"
      ]
     },
     "metadata": {},
     "output_type": "display_data"
    },
    {
     "data": {
      "text/html": [
       "<html>\\(\\displaystyle \\left(\\begin{array}{rrr}\n",
       "0 & 0 & 0 \\\\\n",
       "\\frac{3}{4 \\, {\\left({\\mathcal{C}}^{2} - 1\\right)}} & 0 & -\\frac{3}{4 \\, {\\left({\\mathcal{C}}^{2} - 1\\right)}} \\\\\n",
       "\\frac{2 \\, {\\mathcal{C}} + 1}{4 \\, {\\left({\\mathcal{C}} - 1\\right)}} & -\\frac{1}{2} & -\\frac{3}{4 \\, {\\left({\\mathcal{C}} - 1\\right)}}\n",
       "\\end{array}\\right)\\)</html>"
      ],
      "text/latex": [
       "$\\displaystyle \\left(\\begin{array}{rrr}\n",
       "0 & 0 & 0 \\\\\n",
       "\\frac{3}{4 \\, {\\left({\\mathcal{C}}^{2} - 1\\right)}} & 0 & -\\frac{3}{4 \\, {\\left({\\mathcal{C}}^{2} - 1\\right)}} \\\\\n",
       "\\frac{2 \\, {\\mathcal{C}} + 1}{4 \\, {\\left({\\mathcal{C}} - 1\\right)}} & -\\frac{1}{2} & -\\frac{3}{4 \\, {\\left({\\mathcal{C}} - 1\\right)}}\n",
       "\\end{array}\\right)$"
      ],
      "text/plain": [
       "[                    0                     0                     0]\n",
       "[        3/4/(C^2 - 1)                     0        -3/4/(C^2 - 1)]\n",
       "[1/4*(2*C + 1)/(C - 1)                  -1/2          -3/4/(C - 1)]"
      ]
     },
     "metadata": {},
     "output_type": "display_data"
    },
    {
     "name": "stdout",
     "output_type": "stream",
     "text": [
      "Kreiss Lopatinskii determinant for ABB with at z=-1 (Taylor expansion)\n"
     ]
    },
    {
     "data": {
      "text/html": [
       "<html>\\(\\displaystyle \\frac{32 \\, {\\left({\\mathcal{C}} + 1\\right)}^{2} {\\left({\\mathcal{C}} - 1\\right)}^{2}}{9 \\, {\\left({z} + 1\\right)}}\\)</html>"
      ],
      "text/latex": [
       "$\\displaystyle \\frac{32 \\, {\\left({\\mathcal{C}} + 1\\right)}^{2} {\\left({\\mathcal{C}} - 1\\right)}^{2}}{9 \\, {\\left({z} + 1\\right)}}$"
      ],
      "text/plain": [
       "32/9*(C + 1)^2*(C - 1)^2/(z + 1)"
      ]
     },
     "metadata": {},
     "output_type": "display_data"
    },
    {
     "data": {
      "text/html": [
       "<html>\\(\\displaystyle \\left(\\begin{array}{rrr}\n",
       "0 & 0 & 0 \\\\\n",
       "\\frac{3}{4 \\, {\\left({\\mathcal{C}}^{2} - 1\\right)}} & 0 & -\\frac{3}{4 \\, {\\left({\\mathcal{C}}^{2} - 1\\right)}} \\\\\n",
       "\\frac{2 \\, {\\mathcal{C}} + 1}{4 \\, {\\left({\\mathcal{C}} - 1\\right)}} & -\\frac{1}{2} & -\\frac{3}{4 \\, {\\left({\\mathcal{C}} - 1\\right)}}\n",
       "\\end{array}\\right)\\)</html>"
      ],
      "text/latex": [
       "$\\displaystyle \\left(\\begin{array}{rrr}\n",
       "0 & 0 & 0 \\\\\n",
       "\\frac{3}{4 \\, {\\left({\\mathcal{C}}^{2} - 1\\right)}} & 0 & -\\frac{3}{4 \\, {\\left({\\mathcal{C}}^{2} - 1\\right)}} \\\\\n",
       "\\frac{2 \\, {\\mathcal{C}} + 1}{4 \\, {\\left({\\mathcal{C}} - 1\\right)}} & -\\frac{1}{2} & -\\frac{3}{4 \\, {\\left({\\mathcal{C}} - 1\\right)}}\n",
       "\\end{array}\\right)$"
      ],
      "text/plain": [
       "[                    0                     0                     0]\n",
       "[        3/4/(C^2 - 1)                     0        -3/4/(C^2 - 1)]\n",
       "[1/4*(2*C + 1)/(C - 1)                  -1/2          -3/4/(C - 1)]"
      ]
     },
     "metadata": {},
     "output_type": "display_data"
    },
    {
     "name": "stdout",
     "output_type": "stream",
     "text": [
      "Kreiss Lopatinskii determinant for Two steps ABB with at z=-1 \n"
     ]
    },
    {
     "data": {
      "text/html": [
       "<html>\\(\\displaystyle \\frac{8}{3} \\, {\\left({\\mathcal{C}} + 1\\right)} {\\left({\\mathcal{C}} - 1\\right)}\\)</html>"
      ],
      "text/latex": [
       "$\\displaystyle \\frac{8}{3} \\, {\\left({\\mathcal{C}} + 1\\right)} {\\left({\\mathcal{C}} - 1\\right)}$"
      ],
      "text/plain": [
       "8/3*(C + 1)*(C - 1)"
      ]
     },
     "metadata": {},
     "output_type": "display_data"
    },
    {
     "data": {
      "text/html": [
       "<html>\\(\\displaystyle \\left(\\begin{array}{rrr}\n",
       "-1 & -1 & 0 \\\\\n",
       "-1 & 2 \\, {\\mathcal{C}} + 1 & -2 \\\\\n",
       "-1 & -\\frac{4}{3} \\, {\\mathcal{C}}^{2} + \\frac{1}{3} & 0\n",
       "\\end{array}\\right)\\)</html>"
      ],
      "text/latex": [
       "$\\displaystyle \\left(\\begin{array}{rrr}\n",
       "-1 & -1 & 0 \\\\\n",
       "-1 & 2 \\, {\\mathcal{C}} + 1 & -2 \\\\\n",
       "-1 & -\\frac{4}{3} \\, {\\mathcal{C}}^{2} + \\frac{1}{3} & 0\n",
       "\\end{array}\\right)$"
      ],
      "text/plain": [
       "[            -1             -1              0]\n",
       "[            -1        2*C + 1             -2]\n",
       "[            -1 -4/3*C^2 + 1/3              0]"
      ]
     },
     "metadata": {},
     "output_type": "display_data"
    },
    {
     "data": {
      "text/html": [
       "<html>\\(\\displaystyle \\left(\\begin{array}{rrr}\n",
       "-\\frac{4 \\, {\\mathcal{C}}^{2} - 1}{4 \\, {\\left({\\mathcal{C}}^{2} - 1\\right)}} & 0 & \\frac{3}{4 \\, {\\left({\\mathcal{C}}^{2} - 1\\right)}} \\\\\n",
       "\\frac{3}{4 \\, {\\left({\\mathcal{C}}^{2} - 1\\right)}} & 0 & -\\frac{3}{4 \\, {\\left({\\mathcal{C}}^{2} - 1\\right)}} \\\\\n",
       "\\frac{2 \\, {\\mathcal{C}} + 1}{4 \\, {\\left({\\mathcal{C}} - 1\\right)}} & -\\frac{1}{2} & -\\frac{3}{4 \\, {\\left({\\mathcal{C}} - 1\\right)}}\n",
       "\\end{array}\\right)\\)</html>"
      ],
      "text/latex": [
       "$\\displaystyle \\left(\\begin{array}{rrr}\n",
       "-\\frac{4 \\, {\\mathcal{C}}^{2} - 1}{4 \\, {\\left({\\mathcal{C}}^{2} - 1\\right)}} & 0 & \\frac{3}{4 \\, {\\left({\\mathcal{C}}^{2} - 1\\right)}} \\\\\n",
       "\\frac{3}{4 \\, {\\left({\\mathcal{C}}^{2} - 1\\right)}} & 0 & -\\frac{3}{4 \\, {\\left({\\mathcal{C}}^{2} - 1\\right)}} \\\\\n",
       "\\frac{2 \\, {\\mathcal{C}} + 1}{4 \\, {\\left({\\mathcal{C}} - 1\\right)}} & -\\frac{1}{2} & -\\frac{3}{4 \\, {\\left({\\mathcal{C}} - 1\\right)}}\n",
       "\\end{array}\\right)$"
      ],
      "text/plain": [
       "[-1/4*(4*C^2 - 1)/(C^2 - 1)                          0              3/4/(C^2 - 1)]\n",
       "[             3/4/(C^2 - 1)                          0             -3/4/(C^2 - 1)]\n",
       "[     1/4*(2*C + 1)/(C - 1)                       -1/2               -3/4/(C - 1)]"
      ]
     },
     "metadata": {},
     "output_type": "display_data"
    },
    {
     "name": "stdout",
     "output_type": "stream",
     "text": [
      "Kreiss Lopatinskii determinant for extrapolation with sigma = 1 at z=-1 \n"
     ]
    },
    {
     "data": {
      "text/html": [
       "<html>\\(\\displaystyle \\frac{8 \\, {\\left(39 \\, {\\mathcal{C}}^{9} + 33 \\, {\\mathcal{C}}^{8} - 165 \\, {\\mathcal{C}}^{7} - 213 \\, {\\mathcal{C}}^{6} + 126 \\, {\\mathcal{C}}^{5} + 360 \\, {\\mathcal{C}}^{4} + 168 \\, {\\mathcal{C}}^{3} - 132 \\, {\\mathcal{C}}^{2} - {\\left(-i \\, \\sqrt{3} {\\mathcal{C}}^{8} + 9 i \\, \\sqrt{3} {\\mathcal{C}}^{7} + 31 i \\, \\sqrt{3} {\\mathcal{C}}^{6} - 9 i \\, \\sqrt{3} {\\mathcal{C}}^{5} - 78 i \\, \\sqrt{3} {\\mathcal{C}}^{4} - 36 i \\, \\sqrt{3} {\\mathcal{C}}^{3} + 40 i \\, \\sqrt{3} {\\mathcal{C}}^{2} + 36 i \\, \\sqrt{3} {\\mathcal{C}} + 8 i \\, \\sqrt{3}\\right)} \\sqrt{5 \\, {\\mathcal{C}}^{2} - 8} - 168 \\, {\\mathcal{C}} - 48\\right)}}{9 \\, {\\left(11 \\, {\\mathcal{C}}^{6} - 60 \\, {\\mathcal{C}}^{4} + 60 \\, {\\mathcal{C}}^{2} + 3 \\, {\\left(-i \\, \\sqrt{3} {\\mathcal{C}}^{5} + 4 i \\, \\sqrt{3} {\\mathcal{C}}\\right)} \\sqrt{5 \\, {\\mathcal{C}}^{2} - 8} + 16\\right)}}\\)</html>"
      ],
      "text/latex": [
       "$\\displaystyle \\frac{8 \\, {\\left(39 \\, {\\mathcal{C}}^{9} + 33 \\, {\\mathcal{C}}^{8} - 165 \\, {\\mathcal{C}}^{7} - 213 \\, {\\mathcal{C}}^{6} + 126 \\, {\\mathcal{C}}^{5} + 360 \\, {\\mathcal{C}}^{4} + 168 \\, {\\mathcal{C}}^{3} - 132 \\, {\\mathcal{C}}^{2} - {\\left(-i \\, \\sqrt{3} {\\mathcal{C}}^{8} + 9 i \\, \\sqrt{3} {\\mathcal{C}}^{7} + 31 i \\, \\sqrt{3} {\\mathcal{C}}^{6} - 9 i \\, \\sqrt{3} {\\mathcal{C}}^{5} - 78 i \\, \\sqrt{3} {\\mathcal{C}}^{4} - 36 i \\, \\sqrt{3} {\\mathcal{C}}^{3} + 40 i \\, \\sqrt{3} {\\mathcal{C}}^{2} + 36 i \\, \\sqrt{3} {\\mathcal{C}} + 8 i \\, \\sqrt{3}\\right)} \\sqrt{5 \\, {\\mathcal{C}}^{2} - 8} - 168 \\, {\\mathcal{C}} - 48\\right)}}{9 \\, {\\left(11 \\, {\\mathcal{C}}^{6} - 60 \\, {\\mathcal{C}}^{4} + 60 \\, {\\mathcal{C}}^{2} + 3 \\, {\\left(-i \\, \\sqrt{3} {\\mathcal{C}}^{5} + 4 i \\, \\sqrt{3} {\\mathcal{C}}\\right)} \\sqrt{5 \\, {\\mathcal{C}}^{2} - 8} + 16\\right)}}$"
      ],
      "text/plain": [
       "8/9*(39*C^9 + 33*C^8 - 165*C^7 - 213*C^6 + 126*C^5 + 360*C^4 + 168*C^3 - 132*C^2 - (-I*sqrt(3)*C^8 + 9*I*sqrt(3)*C^7 + 31*I*sqrt(3)*C^6 - 9*I*sqrt(3)*C^5 - 78*I*sqrt(3)*C^4 - 36*I*sqrt(3)*C^3 + 40*I*sqrt(3)*C^2 + 36*I*sqrt(3)*C + 8*I*sqrt(3))*sqrt(5*C^2 - 8) - 168*C - 48)/(11*C^6 - 60*C^4 + 60*C^2 + 3*(-I*sqrt(3)*C^5 + 4*I*sqrt(3)*C)*sqrt(5*C^2 - 8) + 16)"
      ]
     },
     "metadata": {},
     "output_type": "display_data"
    },
    {
     "name": "stdout",
     "output_type": "stream",
     "text": [
      "We check the taylor expansion of 1/(1-abs(ks))\n"
     ]
    },
    {
     "data": {
      "text/html": [
       "<html>\\(\\displaystyle \\frac{8 \\, {\\left({\\mathcal{C}}^{2} - 1\\right)}}{{\\left(6 \\, {\\mathcal{C}} + \\sqrt{-60 \\, {\\mathcal{C}}^{2} + 96}\\right)} {\\left({z} + 1\\right)}}\\)</html>"
      ],
      "text/latex": [
       "$\\displaystyle \\frac{8 \\, {\\left({\\mathcal{C}}^{2} - 1\\right)}}{{\\left(6 \\, {\\mathcal{C}} + \\sqrt{-60 \\, {\\mathcal{C}}^{2} + 96}\\right)} {\\left({z} + 1\\right)}}$"
      ],
      "text/plain": [
       "8*(C^2 - 1)/((6*C + sqrt(-60*C^2 + 96))*(z + 1))"
      ]
     },
     "metadata": {},
     "output_type": "display_data"
    },
    {
     "name": "stdout",
     "output_type": "stream",
     "text": [
      "Kreiss Lopatinskii determinant for extrapolation with sigma = 2 at z=-1 (taylor expansion) \n"
     ]
    },
    {
     "data": {
      "text/html": [
       "<html>\\(\\displaystyle 0\\)</html>"
      ],
      "text/latex": [
       "$\\displaystyle 0$"
      ],
      "text/plain": [
       "0"
      ]
     },
     "metadata": {},
     "output_type": "display_data"
    },
    {
     "name": "stdout",
     "output_type": "stream",
     "text": [
      "Kreiss Lopatinskii determinant for extrapolation with sigma = 3 at z=-1 (taylor expansion) \n"
     ]
    },
    {
     "data": {
      "text/html": [
       "<html>\\(\\displaystyle 0\\)</html>"
      ],
      "text/latex": [
       "$\\displaystyle 0$"
      ],
      "text/plain": [
       "0"
      ]
     },
     "metadata": {},
     "output_type": "display_data"
    },
    {
     "name": "stdout",
     "output_type": "stream",
     "text": [
      "Kreiss Lopatinskii determinant for extrapolation with sigma = 4 at z=-1 (taylor expansion) \n"
     ]
    },
    {
     "data": {
      "text/html": [
       "<html>\\(\\displaystyle 0\\)</html>"
      ],
      "text/latex": [
       "$\\displaystyle 0$"
      ],
      "text/plain": [
       "0"
      ]
     },
     "metadata": {},
     "output_type": "display_data"
    },
    {
     "name": "stdout",
     "output_type": "stream",
     "text": [
      "Kreiss Lopatinskii determinant for kinetic dirichlet with at z=-1 (Taylor expansion)\n"
     ]
    },
    {
     "data": {
      "text/html": [
       "<html>\\(\\displaystyle -\\frac{16 \\, {\\left(3 i \\, \\sqrt{3} \\sqrt{5 \\, {\\mathcal{C}}^{2} - 8} {\\mathcal{C}}^{4} - 11 \\, {\\mathcal{C}}^{5} + 2 i \\, \\sqrt{3} \\sqrt{5 \\, {\\mathcal{C}}^{2} - 8} {\\mathcal{C}}^{3} + 14 \\, {\\mathcal{C}}^{4} - 2 i \\, \\sqrt{3} \\sqrt{5 \\, {\\mathcal{C}}^{2} - 8} {\\mathcal{C}}^{2} + 46 \\, {\\mathcal{C}}^{3} - 8 i \\, \\sqrt{3} \\sqrt{5 \\, {\\mathcal{C}}^{2} - 8} {\\mathcal{C}} - 16 \\, {\\mathcal{C}}^{2} - 4 i \\, \\sqrt{3} \\sqrt{5 \\, {\\mathcal{C}}^{2} - 8} - 44 \\, {\\mathcal{C}} - 16\\right)} {\\left({\\mathcal{C}} + 1\\right)}^{3} {\\left({\\mathcal{C}} - 1\\right)}^{2}}{9 \\, {\\left(-3 i \\, \\sqrt{3} \\sqrt{5 \\, {\\mathcal{C}}^{2} - 8} {\\mathcal{C}}^{5} + 11 \\, {\\mathcal{C}}^{6} - 60 \\, {\\mathcal{C}}^{4} + 12 i \\, \\sqrt{3} \\sqrt{5 \\, {\\mathcal{C}}^{2} - 8} {\\mathcal{C}} + 60 \\, {\\mathcal{C}}^{2} + 16\\right)} {\\left({z} + 1\\right)}}\\)</html>"
      ],
      "text/latex": [
       "$\\displaystyle -\\frac{16 \\, {\\left(3 i \\, \\sqrt{3} \\sqrt{5 \\, {\\mathcal{C}}^{2} - 8} {\\mathcal{C}}^{4} - 11 \\, {\\mathcal{C}}^{5} + 2 i \\, \\sqrt{3} \\sqrt{5 \\, {\\mathcal{C}}^{2} - 8} {\\mathcal{C}}^{3} + 14 \\, {\\mathcal{C}}^{4} - 2 i \\, \\sqrt{3} \\sqrt{5 \\, {\\mathcal{C}}^{2} - 8} {\\mathcal{C}}^{2} + 46 \\, {\\mathcal{C}}^{3} - 8 i \\, \\sqrt{3} \\sqrt{5 \\, {\\mathcal{C}}^{2} - 8} {\\mathcal{C}} - 16 \\, {\\mathcal{C}}^{2} - 4 i \\, \\sqrt{3} \\sqrt{5 \\, {\\mathcal{C}}^{2} - 8} - 44 \\, {\\mathcal{C}} - 16\\right)} {\\left({\\mathcal{C}} + 1\\right)}^{3} {\\left({\\mathcal{C}} - 1\\right)}^{2}}{9 \\, {\\left(-3 i \\, \\sqrt{3} \\sqrt{5 \\, {\\mathcal{C}}^{2} - 8} {\\mathcal{C}}^{5} + 11 \\, {\\mathcal{C}}^{6} - 60 \\, {\\mathcal{C}}^{4} + 12 i \\, \\sqrt{3} \\sqrt{5 \\, {\\mathcal{C}}^{2} - 8} {\\mathcal{C}} + 60 \\, {\\mathcal{C}}^{2} + 16\\right)} {\\left({z} + 1\\right)}}$"
      ],
      "text/plain": [
       "-16/9*(3*I*sqrt(3)*sqrt(5*C^2 - 8)*C^4 - 11*C^5 + 2*I*sqrt(3)*sqrt(5*C^2 - 8)*C^3 + 14*C^4 - 2*I*sqrt(3)*sqrt(5*C^2 - 8)*C^2 + 46*C^3 - 8*I*sqrt(3)*sqrt(5*C^2 - 8)*C - 16*C^2 - 4*I*sqrt(3)*sqrt(5*C^2 - 8) - 44*C - 16)*(C + 1)^3*(C - 1)^2/((-3*I*sqrt(3)*sqrt(5*C^2 - 8)*C^5 + 11*C^6 - 60*C^4 + 12*I*sqrt(3)*sqrt(5*C^2 - 8)*C + 60*C^2 + 16)*(z + 1))"
      ]
     },
     "metadata": {},
     "output_type": "display_data"
    },
    {
     "data": {
      "text/html": [
       "<html>\\(\\displaystyle \\left(\\begin{array}{rrr}\n",
       "0 & 0 & 0 \\\\\n",
       "\\frac{3}{4 \\, {\\left({\\mathcal{C}}^{2} - 1\\right)}} & 0 & -\\frac{3}{4 \\, {\\left({\\mathcal{C}}^{2} - 1\\right)}} \\\\\n",
       "\\frac{2 \\, {\\mathcal{C}} + 1}{4 \\, {\\left({\\mathcal{C}} - 1\\right)}} & -\\frac{1}{2} & -\\frac{3}{4 \\, {\\left({\\mathcal{C}} - 1\\right)}}\n",
       "\\end{array}\\right)\\)</html>"
      ],
      "text/latex": [
       "$\\displaystyle \\left(\\begin{array}{rrr}\n",
       "0 & 0 & 0 \\\\\n",
       "\\frac{3}{4 \\, {\\left({\\mathcal{C}}^{2} - 1\\right)}} & 0 & -\\frac{3}{4 \\, {\\left({\\mathcal{C}}^{2} - 1\\right)}} \\\\\n",
       "\\frac{2 \\, {\\mathcal{C}} + 1}{4 \\, {\\left({\\mathcal{C}} - 1\\right)}} & -\\frac{1}{2} & -\\frac{3}{4 \\, {\\left({\\mathcal{C}} - 1\\right)}}\n",
       "\\end{array}\\right)$"
      ],
      "text/plain": [
       "[                    0                     0                     0]\n",
       "[        3/4/(C^2 - 1)                     0        -3/4/(C^2 - 1)]\n",
       "[1/4*(2*C + 1)/(C - 1)                  -1/2          -3/4/(C - 1)]"
      ]
     },
     "metadata": {},
     "output_type": "display_data"
    },
    {
     "name": "stdout",
     "output_type": "stream",
     "text": [
      "Kreiss Lopatinskii determinant for two steps ABB at z=1 \n"
     ]
    },
    {
     "data": {
      "text/html": [
       "<html>\\(\\displaystyle 0\\)</html>"
      ],
      "text/latex": [
       "$\\displaystyle 0$"
      ],
      "text/plain": [
       "0"
      ]
     },
     "metadata": {},
     "output_type": "display_data"
    },
    {
     "name": "stdout",
     "output_type": "stream",
     "text": [
      "Kreiss Lopatinskii determinant for BB with at z=1 \n"
     ]
    },
    {
     "data": {
      "text/html": [
       "<html>\\(\\displaystyle -4 \\, {\\mathcal{C}}\\)</html>"
      ],
      "text/latex": [
       "$\\displaystyle -4 \\, {\\mathcal{C}}$"
      ],
      "text/plain": [
       "-4*C"
      ]
     },
     "metadata": {},
     "output_type": "display_data"
    },
    {
     "data": {
      "text/html": [
       "<html>\\(\\displaystyle \\left(\\begin{array}{rrr}\n",
       "\\frac{2 \\, {\\mathcal{C}} + 1}{2 \\, {\\mathcal{C}}} & -\\frac{1}{2 \\, {\\mathcal{C}}} & 0 \\\\\n",
       "-\\frac{1}{2 \\, {\\mathcal{C}}} & \\frac{1}{2 \\, {\\mathcal{C}}} & 0 \\\\\n",
       "-\\frac{2 \\, {\\mathcal{C}}^{2} + 3 \\, {\\mathcal{C}} + 1}{6 \\, {\\mathcal{C}}} & \\frac{2 \\, {\\mathcal{C}}^{2} + 6 \\, {\\mathcal{C}} + 1}{6 \\, {\\mathcal{C}}} & -\\frac{1}{2}\n",
       "\\end{array}\\right)\\)</html>"
      ],
      "text/latex": [
       "$\\displaystyle \\left(\\begin{array}{rrr}\n",
       "\\frac{2 \\, {\\mathcal{C}} + 1}{2 \\, {\\mathcal{C}}} & -\\frac{1}{2 \\, {\\mathcal{C}}} & 0 \\\\\n",
       "-\\frac{1}{2 \\, {\\mathcal{C}}} & \\frac{1}{2 \\, {\\mathcal{C}}} & 0 \\\\\n",
       "-\\frac{2 \\, {\\mathcal{C}}^{2} + 3 \\, {\\mathcal{C}} + 1}{6 \\, {\\mathcal{C}}} & \\frac{2 \\, {\\mathcal{C}}^{2} + 6 \\, {\\mathcal{C}} + 1}{6 \\, {\\mathcal{C}}} & -\\frac{1}{2}\n",
       "\\end{array}\\right)$"
      ],
      "text/plain": [
       "[         1/2*(2*C + 1)/C                   -1/2/C                        0]\n",
       "[                  -1/2/C                    1/2/C                        0]\n",
       "[-1/6*(2*C^2 + 3*C + 1)/C  1/6*(2*C^2 + 6*C + 1)/C                     -1/2]"
      ]
     },
     "metadata": {},
     "output_type": "display_data"
    }
   ],
   "source": [
    "\n",
    "\n",
    "#### We construct the eigenvectors for k = 0\n",
    "print(\"Basis for the eigenspace of k = 0\")\n",
    "pretty_print(Lz.subs(k==0).transpose().kernel().basis())\n",
    "phi01 = matrix([[Lz.subs(k==0).transpose().kernel().basis()[0][0]], \\\n",
    "                [Lz.subs(k==0).transpose().kernel().basis()[0][1]], \\\n",
    "                [Lz.subs(k==0).transpose().kernel().basis()[0][2]]]) ## First vector\n",
    "phi02 = matrix([[Lz.subs(k==0).transpose().kernel().basis()[1][0]], \\\n",
    "                [Lz.subs(k==0).transpose().kernel().basis()[1][1]], \\\n",
    "                [Lz.subs(k==0).transpose().kernel().basis()[1][2]]]) ## Second vector\n",
    "\n",
    "\n",
    "#### We start analyzing critical points and Kreiss Lopatinskii determinants\n",
    "#### (-1, 1)\n",
    "\n",
    "bd00  = matrix(SR, q, q)\n",
    "bd01 = matrix(SR, q, q)\n",
    "bd02 = matrix(SR, q, q)\n",
    "bd03 = matrix(SR, q, q)\n",
    "Bs = matrix(SR, q, q) #### Boundary matrix on the stable subspace\n",
    "\n",
    "\n",
    "#### Bounce back\n",
    "for i in range(q):\n",
    "    for j in range(q):\n",
    "        bd00[i, j] = bdMat_BB[i, j].full_simplify().collect(k).coefficient(k, 0)\n",
    "        bd01[i, j] = bdMat_BB[i, j].full_simplify().collect(k).coefficient(k, 1)\n",
    "        \n",
    "Bs[:, 0] = (bd00 + bd01*ks)*phiS ### First column\n",
    "Bs[:, 1] = (bd00)*phi01 ### Second column\n",
    "Bs[:, 2] = (bd00)*phi02 ### Third column\n",
    "\n",
    "for i in range(q):\n",
    "    for j in range(q):\n",
    "        Bs[i, j] = Bs[i, j].full_simplify()\n",
    "KLDet = Bs.determinant().full_simplify()\n",
    "\n",
    "print(\"Kreiss Lopatinskii determinant for BB with at z=-1 (Taylor expansion)\")\n",
    "pretty_print(taylor(KLDet, z, -1, -1).factor())\n",
    "\n",
    "pretty_print(taylor(Bs.inverse(), z, -1, 0))\n",
    "\n",
    "\n",
    "#### Anti Bounce back\n",
    "for i in range(q):\n",
    "    for j in range(q):\n",
    "        bd00[i, j] = bdMat_ABB[i, j].full_simplify().collect(k).coefficient(k, 0)\n",
    "        bd01[i, j] = bdMat_ABB[i, j].full_simplify().collect(k).coefficient(k, 1)\n",
    "        \n",
    "Bs[:, 0] = (bd00 + bd01*ks)*phiS ### First column\n",
    "Bs[:, 1] = (bd00)*phi01 ### Second column\n",
    "Bs[:, 2] = (bd00)*phi02 ### Third column\n",
    "\n",
    "for i in range(q):\n",
    "    for j in range(q):\n",
    "        Bs[i, j] = Bs[i, j].full_simplify()\n",
    "KLDet = Bs.determinant().full_simplify()\n",
    "\n",
    "print(\"Kreiss Lopatinskii determinant for ABB with at z=-1 (Taylor expansion)\")\n",
    "pretty_print(taylor(KLDet, z, -1, -1).factor())\n",
    "\n",
    "pretty_print(taylor(Bs.inverse(), z, -1, 0))\n",
    "\n",
    "\n",
    "#### Two steps Anti Bounce back\n",
    "for i in range(q):\n",
    "    for j in range(q):\n",
    "        bd00[i, j] = bdMat_TwoABB[i, j].full_simplify().collect(k).coefficient(k, 0)\n",
    "        bd01[i, j] = bdMat_TwoABB[i, j].full_simplify().collect(k).coefficient(k, 1)\n",
    "        \n",
    "Bs[:, 0] = (bd00 + bd01*ks)*phiS ### First column\n",
    "Bs[:, 1] = (bd00)*phi01 ### Second column\n",
    "Bs[:, 2] = (bd00)*phi02 ### Third column\n",
    "\n",
    "for i in range(q):\n",
    "    for j in range(q):\n",
    "        Bs[i, j] = Bs[i, j].full_simplify()\n",
    "KLDet = Bs.determinant().full_simplify()\n",
    "\n",
    "print(\"Kreiss Lopatinskii determinant for Two steps ABB with at z=-1 \")\n",
    "pretty_print(KLDet.subs(z==-1).factor())\n",
    "pretty_print(Bs.subs(z==-1).simplify_full())\n",
    "pretty_print(Bs.inverse().subs(z==-1).simplify_full())\n",
    "\n",
    "\n",
    "\n",
    "#### Extrapolation sigma = 1\n",
    "for i in range(q):\n",
    "    for j in range(q):\n",
    "        bd00[i, j] = bdMat_sigma1[i, j].full_simplify().collect(k).coefficient(k, 0)\n",
    "        bd01[i, j] = bdMat_sigma1[i, j].full_simplify().collect(k).coefficient(k, 1)\n",
    "        \n",
    "Bs[:, 0] = (bd00 + bd01*ks)*phiS ### First column\n",
    "Bs[:, 1] = (bd00)*phi01 ### Second column\n",
    "Bs[:, 2] = (bd00)*phi02 ### Third column\n",
    "\n",
    "for i in range(q):\n",
    "    for j in range(q):\n",
    "        Bs[i, j] = Bs[i, j].full_simplify()\n",
    "KLDet = Bs.determinant().full_simplify()\n",
    "\n",
    "print(\"Kreiss Lopatinskii determinant for extrapolation with sigma = 1 at z=-1 \")\n",
    "pretty_print(taylor(KLDet, z, -1, 0).full_simplify())\n",
    "\n",
    "print('We check the taylor expansion of 1/(1-abs(ks))')\n",
    "pretty_print(taylor(1/(1-abs(tmp[0].rhs())), z, -1, -1))## For whatever reason, I cannot use ks (kplus)\n",
    "\n",
    "\n",
    "#### Extrapolation sigma = 2\n",
    "for i in range(q):\n",
    "    for j in range(q):\n",
    "        bd00[i, j] = bdMat_sigma2[i, j].full_simplify().collect(k).coefficient(k, 0)\n",
    "        bd01[i, j] = bdMat_sigma2[i, j].full_simplify().collect(k).coefficient(k, 1)\n",
    "        \n",
    "Bs[:, 0] = (bd00 + bd01*ks)*phiS ### First column\n",
    "Bs[:, 1] = (bd00)*phi01 ### Second column\n",
    "Bs[:, 2] = (bd00)*phi02 ### Third column\n",
    "\n",
    "for i in range(q):\n",
    "    for j in range(q):\n",
    "        Bs[i, j] = Bs[i, j].full_simplify()\n",
    "KLDet = Bs.determinant().full_simplify()\n",
    "\n",
    "print(\"Kreiss Lopatinskii determinant for extrapolation with sigma = 2 at z=-1 (taylor expansion) \")\n",
    "pretty_print(taylor(KLDet, z, -1, 0).full_simplify())\n",
    "\n",
    "#### Extrapolation sigma = 3\n",
    "for i in range(q):\n",
    "    for j in range(q):\n",
    "        bd00[i, j] = bdMat_sigma3[i, j].full_simplify().collect(k).coefficient(k, 0)\n",
    "        bd01[i, j] = bdMat_sigma3[i, j].full_simplify().collect(k).coefficient(k, 1)\n",
    "        bd02[i, j] = bdMat_sigma3[i, j].full_simplify().collect(k).coefficient(k, 2)\n",
    "        \n",
    "Bs[:, 0] = (bd00 + bd01*ks + bd02*ks**2)*phiS ### First column\n",
    "Bs[:, 1] = (bd00)*phi01 ### Second column\n",
    "Bs[:, 2] = (bd00)*phi02 ### Third column\n",
    "\n",
    "for i in range(q):\n",
    "    for j in range(q):\n",
    "        Bs[i, j] = Bs[i, j].full_simplify()\n",
    "KLDet = Bs.determinant().full_simplify()\n",
    "\n",
    "print(\"Kreiss Lopatinskii determinant for extrapolation with sigma = 3 at z=-1 (taylor expansion) \")\n",
    "pretty_print(taylor(KLDet, z, -1, 0).full_simplify())\n",
    "\n",
    "\n",
    "\n",
    "\n",
    "#### Extrapolation sigma = 4\n",
    "for i in range(q):\n",
    "    for j in range(q):\n",
    "        bd00[i, j] = bdMat_sigma4[i, j].full_simplify().collect(k).coefficient(k, 0)\n",
    "        bd01[i, j] = bdMat_sigma4[i, j].full_simplify().collect(k).coefficient(k, 1)\n",
    "        bd02[i, j] = bdMat_sigma4[i, j].full_simplify().collect(k).coefficient(k, 2)\n",
    "        bd03[i, j] = bdMat_sigma4[i, j].full_simplify().collect(k).coefficient(k, 3)\n",
    "        \n",
    "Bs[:, 0] = (bd00 + bd01*ks + bd02*ks**2 + bd03*ks**3)*phiS ### First column\n",
    "Bs[:, 1] = (bd00)*phi01 ### Second column\n",
    "Bs[:, 2] = (bd00)*phi02 ### Third column\n",
    "\n",
    "for i in range(q):\n",
    "    for j in range(q):\n",
    "        Bs[i, j] = Bs[i, j].full_simplify()\n",
    "KLDet = Bs.determinant().full_simplify()\n",
    "\n",
    "print(\"Kreiss Lopatinskii determinant for extrapolation with sigma = 4 at z=-1 (taylor expansion) \")\n",
    "pretty_print(taylor(KLDet, z, -1, 0).full_simplify())\n",
    "\n",
    "#### kinetic dirichlet\n",
    "for i in range(q):\n",
    "    for j in range(q):\n",
    "        bd00[i, j] = bdMat_kinDir[i, j].full_simplify().collect(k).coefficient(k, 0)\n",
    "        bd01[i, j] = bdMat_kinDir[i, j].full_simplify().collect(k).coefficient(k, 1)\n",
    "        \n",
    "Bs[:, 0] = (bd00 + bd01*ks)*phiS ### First column\n",
    "Bs[:, 1] = (bd00)*phi01 ### Second column\n",
    "Bs[:, 2] = (bd00)*phi02 ### Third column\n",
    "\n",
    "for i in range(q):\n",
    "    for j in range(q):\n",
    "        Bs[i, j] = Bs[i, j].full_simplify()\n",
    "KLDet = Bs.determinant().full_simplify()\n",
    "\n",
    "print(\"Kreiss Lopatinskii determinant for kinetic dirichlet with at z=-1 (Taylor expansion)\")\n",
    "pretty_print(taylor(KLDet, z, -1, -1).factor())\n",
    "\n",
    "pretty_print(taylor(Bs.inverse(), z, -1, 0))\n",
    "\n",
    "\n",
    "\n",
    "\n",
    "\n",
    "\n",
    "#### (1, -1)\n",
    "\n",
    "#### Bounce back\n",
    "for i in range(q):\n",
    "    for j in range(q):\n",
    "        bd00[i, j] = bdMat_BB[i, j].full_simplify().collect(k).coefficient(k, 0)\n",
    "        bd01[i, j] = bdMat_BB[i, j].full_simplify().collect(k).coefficient(k, 1)\n",
    "        \n",
    "Bs[:, 0] = (bd00 + bd01*ks)*phiS ### First column\n",
    "Bs[:, 1] = (bd00)*phi01 ### Second column\n",
    "Bs[:, 2] = (bd00)*phi02 ### Third column\n",
    "\n",
    "for i in range(q):\n",
    "    for j in range(q):\n",
    "        Bs[i, j] = Bs[i, j].full_simplify()\n",
    "KLDet = Bs.determinant().full_simplify()\n",
    "\n",
    "print(\"Kreiss Lopatinskii determinant for two steps ABB at z=1 \")\n",
    "pretty_print(KLDet.subs(z==1))\n",
    "\n",
    "\n",
    "#### Two steps AntiBounce back\n",
    "for i in range(q):\n",
    "    for j in range(q):\n",
    "        bd00[i, j] = bdMat_TwoABB[i, j].full_simplify().collect(k).coefficient(k, 0)\n",
    "        bd01[i, j] = bdMat_TwoABB[i, j].full_simplify().collect(k).coefficient(k, 1)\n",
    "        \n",
    "Bs[:, 0] = (bd00 + bd01*ks)*phiS ### First column\n",
    "Bs[:, 1] = (bd00)*phi01 ### Second column\n",
    "Bs[:, 2] = (bd00)*phi02 ### Third column\n",
    "\n",
    "for i in range(q):\n",
    "    for j in range(q):\n",
    "        Bs[i, j] = Bs[i, j].full_simplify()\n",
    "KLDet = Bs.determinant().full_simplify()\n",
    "\n",
    "print(\"Kreiss Lopatinskii determinant for BB with at z=1 \")\n",
    "pretty_print(KLDet.subs(z==1))\n",
    "pretty_print(Bs.inverse().subs(z==1).simplify_full())"
   ]
  },
  {
   "cell_type": "code",
   "execution_count": null,
   "id": "6205bf48",
   "metadata": {},
   "outputs": [],
   "source": []
  },
  {
   "cell_type": "code",
   "execution_count": null,
   "id": "65892fa2",
   "metadata": {},
   "outputs": [],
   "source": []
  },
  {
   "cell_type": "code",
   "execution_count": null,
   "id": "9acf5f50",
   "metadata": {},
   "outputs": [],
   "source": []
  },
  {
   "cell_type": "code",
   "execution_count": null,
   "id": "95039bf9",
   "metadata": {},
   "outputs": [],
   "source": []
  },
  {
   "cell_type": "code",
   "execution_count": null,
   "id": "10a9a48e",
   "metadata": {},
   "outputs": [],
   "source": []
  },
  {
   "cell_type": "code",
   "execution_count": null,
   "id": "07559529",
   "metadata": {},
   "outputs": [],
   "source": []
  },
  {
   "cell_type": "code",
   "execution_count": null,
   "id": "d65b1d92",
   "metadata": {},
   "outputs": [],
   "source": []
  }
 ],
 "metadata": {
  "kernelspec": {
   "display_name": "SageMath 10.0",
   "language": "sage",
   "name": "sagemath"
  },
  "language_info": {
   "codemirror_mode": {
    "name": "ipython",
    "version": 3
   },
   "file_extension": ".py",
   "mimetype": "text/x-python",
   "name": "python",
   "nbconvert_exporter": "python",
   "pygments_lexer": "ipython3",
   "version": "3.11.9"
  }
 },
 "nbformat": 4,
 "nbformat_minor": 5
}
