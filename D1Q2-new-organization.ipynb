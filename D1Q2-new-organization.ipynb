{
 "cells": [
  {
   "cell_type": "code",
   "execution_count": 13,
   "id": "58716063",
   "metadata": {},
   "outputs": [
    {
     "name": "stdout",
     "output_type": "stream",
     "text": [
      "!! Sanity check: the result must be zero.\n"
     ]
    },
    {
     "data": {
      "text/html": [
       "<html>\\(\\displaystyle 0\\)</html>"
      ],
      "text/latex": [
       "$\\displaystyle 0$"
      ],
      "text/plain": [
       "0"
      ]
     },
     "metadata": {},
     "output_type": "display_data"
    }
   ],
   "source": [
    "#### Constants in the scheme\n",
    "C = var(\"C\", latex_name=\"\\\\mathcal{C}\") ## Courant number\n",
    "s1 = var(\"s1\", latex_name=\"s_1\")        ## First relaxation parameter (useless)\n",
    "s2 = var(\"s2\", latex_name=\"s_2\")        ## Second relaxation parameter\n",
    "\n",
    "assume(C,'real')\n",
    "assume(s2,'real')\n",
    "\n",
    "#### We make natural assumptions\n",
    "assume(s2>0)\n",
    "assume(s2<=2)\n",
    "\n",
    "#### Pieces involved in the scheme\n",
    "q = 2 ## Number of discrete velocities\n",
    "c1 = 1  ## First discrete velocity\n",
    "c2 = -1 ## Second discrete velocity\n",
    "r = 1 ## Stencil to the left\n",
    "p = 1 ## Stencil to the right\n",
    "M = matrix([[1,  1], \\\n",
    "            [1, -1]]) ## Moment matrix\n",
    "eps1 = 1 ## First equilibrium coefficient (useless)\n",
    "eps2 = C ## Second equilibrium coefficient\n",
    "\n",
    "#### Construction of the objects involved in the analysis\n",
    "k = var(\"kappa\", latex_name=\"\\\\kappa\") \n",
    "\n",
    "Minv = M.inverse()\n",
    "K = identity_matrix(q)+diagonal_matrix([s1, s2])*(matrix([[eps1], [eps2]])*matrix([[1, 0]])-identity_matrix(q))\n",
    "Ehat = M*diagonal_matrix([k**(-c1), k**(-c2)])*Minv*K #### Bulk matrix scheme \"Fourier\"\n",
    "for i in range(q):\n",
    "    for j in range(q):\n",
    "        Ehat[i, j] = Ehat[i, j].full_simplify().collect(k)\n",
    "    \n",
    "z = var(\"z\", latex_name=\"z\") \n",
    "\n",
    "charEq = (z*identity_matrix(q)-Ehat).determinant().full_simplify().collect(k) #### Characteristic equation\n",
    "dm1 = charEq.coefficient(k, -1).collect(z) ### Coefficient d_{-1} of the characteristic equation\n",
    "d0  = charEq.coefficient(k,  0).collect(z) ### Coefficient d_{0} of the characteristic equation\n",
    "dp1 = charEq.coefficient(k,  1).collect(z) ### Coefficient d_{1} of the characteristic equation\n",
    "\n",
    "Em1 = matrix(SR, q, q) ### Matrix for the point -1\n",
    "E0  = matrix(SR, q, q) ### Matrix for the point 0\n",
    "Ep1 = matrix(SR, q, q) ### Matrix for the point 1\n",
    "for i in range(q):\n",
    "    for j in range(q):\n",
    "        Em1[i, j] = Ehat[i, j].coefficient(k, -1)\n",
    "        E0[i, j]  = Ehat[i, j].coefficient(k,  0)\n",
    "        Ep1[i, j] = Ehat[i, j].coefficient(k,  1)\n",
    "Lz = - Em1 + (z*identity_matrix(q)-E0)*k - Ep1*k**2 ### Matrix polynomial in k\n",
    "print('!! Sanity check: the result must be zero.')\n",
    "pretty_print((Lz.determinant()/k**(r*q)-charEq).full_simplify()) ### Sanity check\n",
    "\n",
    "kplus  = ((-d0+sqrt(d0**2-4*dp1*dm1))/2/dp1).full_simplify() ### Root of the char eq with the plus\n",
    "kminus = ((-d0-sqrt(d0**2-4*dp1*dm1))/2/dp1).full_simplify() ### Root of the char eq with the minus\n",
    "\n",
    "\n",
    "Pi = dm1/dp1 ### This is the product of the roots in k "
   ]
  },
  {
   "cell_type": "code",
   "execution_count": null,
   "id": "3ed0ec6a",
   "metadata": {},
   "outputs": [],
   "source": []
  },
  {
   "cell_type": "code",
   "execution_count": 14,
   "id": "6f059568",
   "metadata": {},
   "outputs": [],
   "source": [
    "##### Boundary conditions that we analyze for any value of C and s_2\n",
    "bdMat_BB = z*identity_matrix(q) - M*matrix([[0, 1], [0, k]])*Minv*K ## Bounce back\n",
    "bdMat_ABB = z*identity_matrix(q) - M*matrix([[0, -1], [0, k]])*Minv*K ## Anti Bounce back\n",
    "bdMat_TwoABB = z*identity_matrix(q) - M*matrix([[0, -k], [0, k]])*Minv*K ## Two steps Anti Bounce back\n",
    "bdMat_sigma1 = z*identity_matrix(q) - M*matrix([[1, 0], [0, k]])*Minv*K ## Extrapolation sigma = 1\n",
    "bdMat_sigma2 = z*identity_matrix(q) - M*matrix([[2-k, 0], [0, k]])*Minv*K ## Extrapolation sigma = 2\n",
    "bdMat_sigma3 = z*identity_matrix(q) - M*matrix([[3-3*k+k**2, 0], [0, k]])*Minv*K ## Extrapolation sigma = 3\n",
    "bdMat_sigma4 = z*identity_matrix(q) - M*matrix([[4-6*k+4*k**2-k**3, 0], [0, k]])*Minv*K ## Extrapolation sigma = 4\n",
    "bdMat_kinDir = z*identity_matrix(q) - M*matrix([[0, 0], [0, k]])*Minv*K ## Kinetic dirichlet"
   ]
  },
  {
   "cell_type": "code",
   "execution_count": 15,
   "id": "9917dddf",
   "metadata": {},
   "outputs": [
    {
     "name": "stdout",
     "output_type": "stream",
     "text": [
      "Bounce back\n"
     ]
    },
    {
     "data": {
      "text/html": [
       "<html>\\(\\displaystyle \\left[\\left[{z} = 0, {\\kappa} = 0\\right], \\left[{z} = -\\frac{1}{2} \\, {\\left({\\mathcal{C}} - 1\\right)} {s_2}, {\\kappa} = 0\\right], \\left[{z} = 1, {\\kappa} = -\\frac{{\\left({\\mathcal{C}} - 1\\right)} {s_2} + 2}{{\\left({\\mathcal{C}} + 1\\right)} {s_2} - 2}\\right], \\left[{z} = {s_2} - 1, {\\kappa} = \\left(-1\\right)\\right]\\right]\\)</html>"
      ],
      "text/latex": [
       "$\\displaystyle \\left[\\left[{z} = 0, {\\kappa} = 0\\right], \\left[{z} = -\\frac{1}{2} \\, {\\left({\\mathcal{C}} - 1\\right)} {s_2}, {\\kappa} = 0\\right], \\left[{z} = 1, {\\kappa} = -\\frac{{\\left({\\mathcal{C}} - 1\\right)} {s_2} + 2}{{\\left({\\mathcal{C}} + 1\\right)} {s_2} - 2}\\right], \\left[{z} = {s_2} - 1, {\\kappa} = \\left(-1\\right)\\right]\\right]$"
      ],
      "text/plain": [
       "[[z == 0, kappa == 0], [z == -1/2*(C - 1)*s2, kappa == 0], [z == 1, kappa == -((C - 1)*s2 + 2)/((C + 1)*s2 - 2)], [z == s2 - 1, kappa == -1]]"
      ]
     },
     "metadata": {},
     "output_type": "display_data"
    },
    {
     "name": "stdout",
     "output_type": "stream",
     "text": [
      "Anti Bounce back\n"
     ]
    },
    {
     "data": {
      "text/html": [
       "<html>\\(\\displaystyle \\left[\\left[{z} = 0, {\\kappa} = 0\\right], \\left[{z} = \\frac{1}{2} \\, {\\left({\\mathcal{C}} - 1\\right)} {s_2}, {\\kappa} = 0\\right], \\left[{z} = \\left(-1\\right), {\\kappa} = \\frac{{\\left({\\mathcal{C}} - 1\\right)} {s_2} + 2}{{\\left({\\mathcal{C}} + 1\\right)} {s_2} - 2}\\right], \\left[{z} = -{s_2} + 1, {\\kappa} = 1\\right]\\right]\\)</html>"
      ],
      "text/latex": [
       "$\\displaystyle \\left[\\left[{z} = 0, {\\kappa} = 0\\right], \\left[{z} = \\frac{1}{2} \\, {\\left({\\mathcal{C}} - 1\\right)} {s_2}, {\\kappa} = 0\\right], \\left[{z} = \\left(-1\\right), {\\kappa} = \\frac{{\\left({\\mathcal{C}} - 1\\right)} {s_2} + 2}{{\\left({\\mathcal{C}} + 1\\right)} {s_2} - 2}\\right], \\left[{z} = -{s_2} + 1, {\\kappa} = 1\\right]\\right]$"
      ],
      "text/plain": [
       "[[z == 0, kappa == 0], [z == 1/2*(C - 1)*s2, kappa == 0], [z == -1, kappa == ((C - 1)*s2 + 2)/((C + 1)*s2 - 2)], [z == -s2 + 1, kappa == 1]]"
      ]
     },
     "metadata": {},
     "output_type": "display_data"
    },
    {
     "name": "stdout",
     "output_type": "stream",
     "text": [
      "Two steps anti Bounce back\n"
     ]
    },
    {
     "data": {
      "text/html": [
       "<html>\\(\\displaystyle \\left[\\left[{z} = 0, {\\kappa} = 0\\right], \\left[{z} = {s_2} - 1, {\\kappa} = \\left(-1\\right)\\right], \\left[{z} = -{s_2} + 1, {\\kappa} = 1\\right]\\right]\\)</html>"
      ],
      "text/latex": [
       "$\\displaystyle \\left[\\left[{z} = 0, {\\kappa} = 0\\right], \\left[{z} = {s_2} - 1, {\\kappa} = \\left(-1\\right)\\right], \\left[{z} = -{s_2} + 1, {\\kappa} = 1\\right]\\right]$"
      ],
      "text/plain": [
       "[[z == 0, kappa == 0], [z == s2 - 1, kappa == -1], [z == -s2 + 1, kappa == 1]]"
      ]
     },
     "metadata": {},
     "output_type": "display_data"
    },
    {
     "name": "stdout",
     "output_type": "stream",
     "text": [
      "Extrapolation sigma = 1\n"
     ]
    },
    {
     "data": {
      "text/html": [
       "<html>\\(\\displaystyle \\left[\\left[{z} = \\frac{1}{2} \\, {\\left({\\mathcal{C}} - 1\\right)} {s_2} + 1, {\\kappa} = 0\\right], \\left[{z} = 0, {\\kappa} = 0\\right], \\left[{z} = 1, {\\kappa} = 1\\right], \\left[{z} = -{s_2} + 1, {\\kappa} = 1\\right]\\right]\\)</html>"
      ],
      "text/latex": [
       "$\\displaystyle \\left[\\left[{z} = \\frac{1}{2} \\, {\\left({\\mathcal{C}} - 1\\right)} {s_2} + 1, {\\kappa} = 0\\right], \\left[{z} = 0, {\\kappa} = 0\\right], \\left[{z} = 1, {\\kappa} = 1\\right], \\left[{z} = -{s_2} + 1, {\\kappa} = 1\\right]\\right]$"
      ],
      "text/plain": [
       "[[z == 1/2*(C - 1)*s2 + 1, kappa == 0], [z == 0, kappa == 0], [z == 1, kappa == 1], [z == -s2 + 1, kappa == 1]]"
      ]
     },
     "metadata": {},
     "output_type": "display_data"
    },
    {
     "name": "stdout",
     "output_type": "stream",
     "text": [
      "Extrapolation sigma = 2\n"
     ]
    },
    {
     "data": {
      "text/html": [
       "<html>\\(\\displaystyle \\left[\\left[{z} = {\\left({\\mathcal{C}} - 1\\right)} {s_2} + 2, {\\kappa} = 0\\right], \\left[{z} = 0, {\\kappa} = 0\\right], \\left[{z} = 1, {\\kappa} = 1\\right], \\left[{z} = -{s_2} + 1, {\\kappa} = 1\\right]\\right]\\)</html>"
      ],
      "text/latex": [
       "$\\displaystyle \\left[\\left[{z} = {\\left({\\mathcal{C}} - 1\\right)} {s_2} + 2, {\\kappa} = 0\\right], \\left[{z} = 0, {\\kappa} = 0\\right], \\left[{z} = 1, {\\kappa} = 1\\right], \\left[{z} = -{s_2} + 1, {\\kappa} = 1\\right]\\right]$"
      ],
      "text/plain": [
       "[[z == (C - 1)*s2 + 2, kappa == 0], [z == 0, kappa == 0], [z == 1, kappa == 1], [z == -s2 + 1, kappa == 1]]"
      ]
     },
     "metadata": {},
     "output_type": "display_data"
    },
    {
     "name": "stdout",
     "output_type": "stream",
     "text": [
      "Extrapolation sigma = 3\n"
     ]
    },
    {
     "data": {
      "text/html": [
       "<html>\\(\\displaystyle \\left[\\left[{z} = \\frac{3}{2} \\, {\\left({\\mathcal{C}} - 1\\right)} {s_2} + 3, {\\kappa} = 0\\right], \\left[{z} = 0, {\\kappa} = 0\\right], \\left[{z} = 1, {\\kappa} = 1\\right], \\left[{z} = -{s_2} + 1, {\\kappa} = 1\\right]\\right]\\)</html>"
      ],
      "text/latex": [
       "$\\displaystyle \\left[\\left[{z} = \\frac{3}{2} \\, {\\left({\\mathcal{C}} - 1\\right)} {s_2} + 3, {\\kappa} = 0\\right], \\left[{z} = 0, {\\kappa} = 0\\right], \\left[{z} = 1, {\\kappa} = 1\\right], \\left[{z} = -{s_2} + 1, {\\kappa} = 1\\right]\\right]$"
      ],
      "text/plain": [
       "[[z == 3/2*(C - 1)*s2 + 3, kappa == 0], [z == 0, kappa == 0], [z == 1, kappa == 1], [z == -s2 + 1, kappa == 1]]"
      ]
     },
     "metadata": {},
     "output_type": "display_data"
    },
    {
     "name": "stdout",
     "output_type": "stream",
     "text": [
      "Extrapolation sigma = 4\n"
     ]
    },
    {
     "data": {
      "text/html": [
       "<html>\\(\\displaystyle \\left[\\left[{z} = 2 \\, {\\left({\\mathcal{C}} - 1\\right)} {s_2} + 4, {\\kappa} = 0\\right], \\left[{z} = 0, {\\kappa} = 0\\right], \\left[{z} = 1, {\\kappa} = 1\\right], \\left[{z} = -{s_2} + 1, {\\kappa} = 1\\right]\\right]\\)</html>"
      ],
      "text/latex": [
       "$\\displaystyle \\left[\\left[{z} = 2 \\, {\\left({\\mathcal{C}} - 1\\right)} {s_2} + 4, {\\kappa} = 0\\right], \\left[{z} = 0, {\\kappa} = 0\\right], \\left[{z} = 1, {\\kappa} = 1\\right], \\left[{z} = -{s_2} + 1, {\\kappa} = 1\\right]\\right]$"
      ],
      "text/plain": [
       "[[z == 2*(C - 1)*s2 + 4, kappa == 0], [z == 0, kappa == 0], [z == 1, kappa == 1], [z == -s2 + 1, kappa == 1]]"
      ]
     },
     "metadata": {},
     "output_type": "display_data"
    },
    {
     "name": "stdout",
     "output_type": "stream",
     "text": [
      "Kinetic Dirichlet\n"
     ]
    },
    {
     "data": {
      "text/html": [
       "<html>\\(\\displaystyle \\left[\\left[{z} = 0, {\\kappa} = 0\\right]\\right]\\)</html>"
      ],
      "text/latex": [
       "$\\displaystyle \\left[\\left[{z} = 0, {\\kappa} = 0\\right]\\right]$"
      ],
      "text/plain": [
       "[[z == 0, kappa == 0]]"
      ]
     },
     "metadata": {},
     "output_type": "display_data"
    }
   ],
   "source": [
    "##### We find the critical (z, k) eigenvalues between boundary and bulk\n",
    "print(\"Bounce back\")\n",
    "pretty_print(solve([Lz.determinant().full_simplify(), bdMat_BB.determinant().full_simplify()], (z, k)))\n",
    "print(\"Anti Bounce back\")\n",
    "pretty_print(solve([Lz.determinant().full_simplify(), bdMat_ABB.determinant().full_simplify()], (z, k)))\n",
    "print(\"Two steps anti Bounce back\")\n",
    "pretty_print(solve([Lz.determinant().full_simplify(), bdMat_TwoABB.determinant().full_simplify()], (z, k)))\n",
    "print(\"Extrapolation sigma = 1\")\n",
    "pretty_print(solve([Lz.determinant().full_simplify(), bdMat_sigma1.determinant().full_simplify()], (z, k)))\n",
    "print(\"Extrapolation sigma = 2\")\n",
    "pretty_print(solve([Lz.determinant().full_simplify(), bdMat_sigma2.determinant().full_simplify()], (z, k)))\n",
    "print(\"Extrapolation sigma = 3\")\n",
    "pretty_print(solve([Lz.determinant().full_simplify(), bdMat_sigma3.determinant().full_simplify()], (z, k)))\n",
    "print(\"Extrapolation sigma = 4\")\n",
    "pretty_print(solve([Lz.determinant().full_simplify(), bdMat_sigma4.determinant().full_simplify()], (z, k)))\n",
    "print(\"Kinetic Dirichlet\")\n",
    "pretty_print(solve([Lz.determinant().full_simplify(), bdMat_kinDir.determinant().full_simplify()], (z, k)))"
   ]
  },
  {
   "cell_type": "code",
   "execution_count": 16,
   "id": "074e2f4f",
   "metadata": {},
   "outputs": [
    {
     "name": "stdout",
     "output_type": "stream",
     "text": [
      "Bounce back\n"
     ]
    },
    {
     "data": {
      "text/html": [
       "<html>\\(\\displaystyle \\left[\\left[{z} = 0, {\\kappa} = 0\\right], \\left[{z} = \\left(\\frac{3}{2}\\right), {\\kappa} = 0\\right], \\left[{z} = 1, {\\kappa} = \\left(-1\\right)\\right]\\right]\\)</html>"
      ],
      "text/latex": [
       "$\\displaystyle \\left[\\left[{z} = 0, {\\kappa} = 0\\right], \\left[{z} = \\left(\\frac{3}{2}\\right), {\\kappa} = 0\\right], \\left[{z} = 1, {\\kappa} = \\left(-1\\right)\\right]\\right]$"
      ],
      "text/plain": [
       "[[z == 0, kappa == 0], [z == (3/2), kappa == 0], [z == 1, kappa == -1]]"
      ]
     },
     "metadata": {},
     "output_type": "display_data"
    },
    {
     "name": "stdout",
     "output_type": "stream",
     "text": [
      "Anti Bounce back\n"
     ]
    },
    {
     "data": {
      "text/html": [
       "<html>\\(\\displaystyle \\left[\\left[{z} = 0, {\\kappa} = 0\\right], \\left[{z} = \\left(-\\frac{3}{2}\\right), {\\kappa} = 0\\right], \\left[{z} = \\left(-1\\right), {\\kappa} = 1\\right]\\right]\\)</html>"
      ],
      "text/latex": [
       "$\\displaystyle \\left[\\left[{z} = 0, {\\kappa} = 0\\right], \\left[{z} = \\left(-\\frac{3}{2}\\right), {\\kappa} = 0\\right], \\left[{z} = \\left(-1\\right), {\\kappa} = 1\\right]\\right]$"
      ],
      "text/plain": [
       "[[z == 0, kappa == 0], [z == (-3/2), kappa == 0], [z == -1, kappa == 1]]"
      ]
     },
     "metadata": {},
     "output_type": "display_data"
    },
    {
     "name": "stdout",
     "output_type": "stream",
     "text": [
      "Two steps anti Bounce back\n"
     ]
    },
    {
     "data": {
      "text/html": [
       "<html>\\(\\displaystyle \\left[\\left[{z} = 0, {\\kappa} = 0\\right], \\left[{z} = \\left(-1\\right), {\\kappa} = 1\\right], \\left[{z} = 1, {\\kappa} = \\left(-1\\right)\\right]\\right]\\)</html>"
      ],
      "text/latex": [
       "$\\displaystyle \\left[\\left[{z} = 0, {\\kappa} = 0\\right], \\left[{z} = \\left(-1\\right), {\\kappa} = 1\\right], \\left[{z} = 1, {\\kappa} = \\left(-1\\right)\\right]\\right]$"
      ],
      "text/plain": [
       "[[z == 0, kappa == 0], [z == -1, kappa == 1], [z == 1, kappa == -1]]"
      ]
     },
     "metadata": {},
     "output_type": "display_data"
    },
    {
     "name": "stdout",
     "output_type": "stream",
     "text": [
      "Extrapolation sigma = 1\n"
     ]
    },
    {
     "data": {
      "text/html": [
       "<html>\\(\\displaystyle \\left[\\left[{z} = \\left(-\\frac{1}{2}\\right), {\\kappa} = 0\\right], \\left[{z} = 0, {\\kappa} = 0\\right], \\left[{z} = \\left(-1\\right), {\\kappa} = 1\\right], \\left[{z} = 1, {\\kappa} = 1\\right]\\right]\\)</html>"
      ],
      "text/latex": [
       "$\\displaystyle \\left[\\left[{z} = \\left(-\\frac{1}{2}\\right), {\\kappa} = 0\\right], \\left[{z} = 0, {\\kappa} = 0\\right], \\left[{z} = \\left(-1\\right), {\\kappa} = 1\\right], \\left[{z} = 1, {\\kappa} = 1\\right]\\right]$"
      ],
      "text/plain": [
       "[[z == (-1/2), kappa == 0], [z == 0, kappa == 0], [z == -1, kappa == 1], [z == 1, kappa == 1]]"
      ]
     },
     "metadata": {},
     "output_type": "display_data"
    },
    {
     "name": "stdout",
     "output_type": "stream",
     "text": [
      "Extrapolation sigma = 2\n"
     ]
    },
    {
     "data": {
      "text/html": [
       "<html>\\(\\displaystyle \\left[\\left[{z} = \\left(-1\\right), {\\kappa} = 0\\right], \\left[{z} = 0, {\\kappa} = 0\\right], \\left[{z} = \\left(-1\\right), {\\kappa} = 1\\right], \\left[{z} = 1, {\\kappa} = 1\\right]\\right]\\)</html>"
      ],
      "text/latex": [
       "$\\displaystyle \\left[\\left[{z} = \\left(-1\\right), {\\kappa} = 0\\right], \\left[{z} = 0, {\\kappa} = 0\\right], \\left[{z} = \\left(-1\\right), {\\kappa} = 1\\right], \\left[{z} = 1, {\\kappa} = 1\\right]\\right]$"
      ],
      "text/plain": [
       "[[z == -1, kappa == 0], [z == 0, kappa == 0], [z == -1, kappa == 1], [z == 1, kappa == 1]]"
      ]
     },
     "metadata": {},
     "output_type": "display_data"
    },
    {
     "name": "stdout",
     "output_type": "stream",
     "text": [
      "Extrapolation sigma = 3\n"
     ]
    },
    {
     "data": {
      "text/html": [
       "<html>\\(\\displaystyle \\left[\\left[{z} = \\left(-\\frac{3}{2}\\right), {\\kappa} = 0\\right], \\left[{z} = 0, {\\kappa} = 0\\right], \\left[{z} = \\left(-1\\right), {\\kappa} = 1\\right], \\left[{z} = 1, {\\kappa} = 1\\right]\\right]\\)</html>"
      ],
      "text/latex": [
       "$\\displaystyle \\left[\\left[{z} = \\left(-\\frac{3}{2}\\right), {\\kappa} = 0\\right], \\left[{z} = 0, {\\kappa} = 0\\right], \\left[{z} = \\left(-1\\right), {\\kappa} = 1\\right], \\left[{z} = 1, {\\kappa} = 1\\right]\\right]$"
      ],
      "text/plain": [
       "[[z == (-3/2), kappa == 0], [z == 0, kappa == 0], [z == -1, kappa == 1], [z == 1, kappa == 1]]"
      ]
     },
     "metadata": {},
     "output_type": "display_data"
    },
    {
     "name": "stdout",
     "output_type": "stream",
     "text": [
      "Extrapolation sigma = 4\n"
     ]
    },
    {
     "data": {
      "text/html": [
       "<html>\\(\\displaystyle \\left[\\left[{z} = \\left(-2\\right), {\\kappa} = 0\\right], \\left[{z} = 0, {\\kappa} = 0\\right], \\left[{z} = \\left(-1\\right), {\\kappa} = 1\\right], \\left[{z} = 1, {\\kappa} = 1\\right]\\right]\\)</html>"
      ],
      "text/latex": [
       "$\\displaystyle \\left[\\left[{z} = \\left(-2\\right), {\\kappa} = 0\\right], \\left[{z} = 0, {\\kappa} = 0\\right], \\left[{z} = \\left(-1\\right), {\\kappa} = 1\\right], \\left[{z} = 1, {\\kappa} = 1\\right]\\right]$"
      ],
      "text/plain": [
       "[[z == -2, kappa == 0], [z == 0, kappa == 0], [z == -1, kappa == 1], [z == 1, kappa == 1]]"
      ]
     },
     "metadata": {},
     "output_type": "display_data"
    },
    {
     "name": "stdout",
     "output_type": "stream",
     "text": [
      "Kinetic Dirichlet\n"
     ]
    },
    {
     "data": {
      "text/html": [
       "<html>\\(\\displaystyle \\left[\\left[{z} = 0, {\\kappa} = 0\\right]\\right]\\)</html>"
      ],
      "text/latex": [
       "$\\displaystyle \\left[\\left[{z} = 0, {\\kappa} = 0\\right]\\right]$"
      ],
      "text/plain": [
       "[[z == 0, kappa == 0]]"
      ]
     },
     "metadata": {},
     "output_type": "display_data"
    }
   ],
   "source": [
    "##### Sanity check : we set some values for s_2 and C and see if we find more\n",
    "##### Sometimes sagemath does not give all the roots\n",
    "s2_val = 2\n",
    "C_val = -1/2\n",
    "print(\"Bounce back\")\n",
    "pretty_print(solve([Lz.subs(s2==s2_val, C==C_val).determinant().full_simplify(), bdMat_BB.subs(s2==s2_val, C==C_val).determinant().full_simplify()], (z, k)))\n",
    "print(\"Anti Bounce back\")\n",
    "pretty_print(solve([Lz.subs(s2==s2_val, C==C_val).determinant().full_simplify(), bdMat_ABB.subs(s2==s2_val, C==C_val).determinant().full_simplify()], (z, k)))\n",
    "print(\"Two steps anti Bounce back\")\n",
    "pretty_print(solve([Lz.subs(s2==s2_val, C==C_val).determinant().full_simplify(), bdMat_TwoABB.subs(s2==s2_val, C==C_val).determinant().full_simplify()], (z, k)))\n",
    "print(\"Extrapolation sigma = 1\")\n",
    "pretty_print(solve([Lz.subs(s2==s2_val, C==C_val).determinant().full_simplify(), bdMat_sigma1.subs(s2==s2_val, C==C_val).determinant().full_simplify()], (z, k)))\n",
    "print(\"Extrapolation sigma = 2\")\n",
    "pretty_print(solve([Lz.subs(s2==s2_val, C==C_val).determinant().full_simplify(), bdMat_sigma2.subs(s2==s2_val, C==C_val).determinant().full_simplify()], (z, k)))\n",
    "print(\"Extrapolation sigma = 3\")\n",
    "pretty_print(solve([Lz.subs(s2==s2_val, C==C_val).determinant().full_simplify(), bdMat_sigma3.subs(s2==s2_val, C==C_val).determinant().full_simplify()], (z, k)))\n",
    "print(\"Extrapolation sigma = 4\")\n",
    "pretty_print(solve([Lz.subs(s2==s2_val, C==C_val).determinant().full_simplify(), bdMat_sigma4.subs(s2==s2_val, C==C_val).determinant().full_simplify()], (z, k)))\n",
    "print(\"Kinetic Dirichlet\")\n",
    "pretty_print(solve([Lz.subs(s2==s2_val, C==C_val).determinant().full_simplify(), bdMat_kinDir.subs(s2==s2_val, C==C_val).determinant().full_simplify()], (z, k)))"
   ]
  },
  {
   "cell_type": "code",
   "execution_count": null,
   "id": "165bc417",
   "metadata": {},
   "outputs": [],
   "source": []
  },
  {
   "cell_type": "code",
   "execution_count": 17,
   "id": "ebeacc0d",
   "metadata": {},
   "outputs": [
    {
     "name": "stdout",
     "output_type": "stream",
     "text": [
      "Value of kminus at z=-1\n"
     ]
    },
    {
     "data": {
      "text/html": [
       "<html>\\(\\displaystyle -1\\)</html>"
      ],
      "text/latex": [
       "$\\displaystyle -1$"
      ],
      "text/plain": [
       "-1"
      ]
     },
     "metadata": {},
     "output_type": "display_data"
    },
    {
     "name": "stdout",
     "output_type": "stream",
     "text": [
      "Value of kplus at z=-1\n"
     ]
    },
    {
     "data": {
      "text/html": [
       "<html>\\(\\displaystyle \\frac{{\\left({\\mathcal{C}} - 1\\right)} {s_2} + 2}{{\\left({\\mathcal{C}} + 1\\right)} {s_2} - 2}\\)</html>"
      ],
      "text/latex": [
       "$\\displaystyle \\frac{{\\left({\\mathcal{C}} - 1\\right)} {s_2} + 2}{{\\left({\\mathcal{C}} + 1\\right)} {s_2} - 2}$"
      ],
      "text/plain": [
       "((C - 1)*s2 + 2)/((C + 1)*s2 - 2)"
      ]
     },
     "metadata": {},
     "output_type": "display_data"
    },
    {
     "name": "stdout",
     "output_type": "stream",
     "text": [
      "Value of kminus at z=1\n"
     ]
    },
    {
     "data": {
      "text/html": [
       "<html>\\(\\displaystyle 1\\)</html>"
      ],
      "text/latex": [
       "$\\displaystyle 1$"
      ],
      "text/plain": [
       "1"
      ]
     },
     "metadata": {},
     "output_type": "display_data"
    },
    {
     "name": "stdout",
     "output_type": "stream",
     "text": [
      "Value of kplus at z=1\n"
     ]
    },
    {
     "data": {
      "text/html": [
       "<html>\\(\\displaystyle -\\frac{{\\left({\\mathcal{C}} - 1\\right)} {s_2} + 2}{{\\left({\\mathcal{C}} + 1\\right)} {s_2} - 2}\\)</html>"
      ],
      "text/latex": [
       "$\\displaystyle -\\frac{{\\left({\\mathcal{C}} - 1\\right)} {s_2} + 2}{{\\left({\\mathcal{C}} + 1\\right)} {s_2} - 2}$"
      ],
      "text/plain": [
       "-((C - 1)*s2 + 2)/((C + 1)*s2 - 2)"
      ]
     },
     "metadata": {},
     "output_type": "display_data"
    },
    {
     "name": "stdout",
     "output_type": "stream",
     "text": [
      "Value of Pi\n"
     ]
    },
    {
     "data": {
      "text/html": [
       "<html>\\(\\displaystyle -\\frac{{\\mathcal{C}} {s_2} - {s_2} + 2}{{\\mathcal{C}} {s_2} + {s_2} - 2}\\)</html>"
      ],
      "text/latex": [
       "$\\displaystyle -\\frac{{\\mathcal{C}} {s_2} - {s_2} + 2}{{\\mathcal{C}} {s_2} + {s_2} - 2}$"
      ],
      "text/plain": [
       "-(C*s2 - s2 + 2)/(C*s2 + s2 - 2)"
      ]
     },
     "metadata": {},
     "output_type": "display_data"
    },
    {
     "data": {
      "text/html": [
       "<html>\\(\\displaystyle \\left[{z}^{2} = \\frac{1}{2} \\, {\\left({\\mathcal{C}} + 1\\right)} {s_2}^{2} - {\\left({\\mathcal{C}} + 1\\right)} {s_2} + \\frac{1}{2} \\, \\sqrt{{\\left({\\mathcal{C}}^{2} + 2 \\, {\\mathcal{C}} + 1\\right)} {s_2}^{4} - 4 \\, {\\left({\\mathcal{C}}^{2} + 2 \\, {\\mathcal{C}} + 1\\right)} {s_2}^{3} + {z}^{4} + {\\left(4 \\, {\\mathcal{C}}^{2} + 12 \\, {\\mathcal{C}} + 5\\right)} {s_2}^{2} + {\\left({\\left({\\mathcal{C}}^{2} - 1\\right)} {s_2}^{2} + 2 \\, {s_2} - 2\\right)} {z}^{2} - 2 \\, {\\left(4 \\, {\\mathcal{C}} + 1\\right)} {s_2} + 2 \\, \\sqrt{{z}^{4} + {\\left({\\left({\\mathcal{C}}^{2} - 1\\right)} {s_2}^{2} + 2 \\, {s_2} - 2\\right)} {z}^{2} + {s_2}^{2} - 2 \\, {s_2} + 1} {\\left({\\left({\\mathcal{C}} + 1\\right)} {s_2}^{2} - 2 \\, {\\left({\\mathcal{C}} + 2\\right)} {s_2} + 4\\right)} + 1} + \\frac{1}{2} \\, \\sqrt{{z}^{4} + {\\left({\\left({\\mathcal{C}}^{2} - 1\\right)} {s_2}^{2} + 2 \\, {s_2} - 2\\right)} {z}^{2} + {s_2}^{2} - 2 \\, {s_2} + 1} + 1, {z}^{2} = \\frac{1}{2} \\, {\\left({\\mathcal{C}} + 1\\right)} {s_2}^{2} - {\\left({\\mathcal{C}} + 1\\right)} {s_2} - \\frac{1}{2} \\, \\sqrt{{\\left({\\mathcal{C}}^{2} + 2 \\, {\\mathcal{C}} + 1\\right)} {s_2}^{4} - 4 \\, {\\left({\\mathcal{C}}^{2} + 2 \\, {\\mathcal{C}} + 1\\right)} {s_2}^{3} + {z}^{4} + {\\left(4 \\, {\\mathcal{C}}^{2} + 12 \\, {\\mathcal{C}} + 5\\right)} {s_2}^{2} + {\\left({\\left({\\mathcal{C}}^{2} - 1\\right)} {s_2}^{2} + 2 \\, {s_2} - 2\\right)} {z}^{2} - 2 \\, {\\left(4 \\, {\\mathcal{C}} + 1\\right)} {s_2} + 2 \\, \\sqrt{{z}^{4} + {\\left({\\left({\\mathcal{C}}^{2} - 1\\right)} {s_2}^{2} + 2 \\, {s_2} - 2\\right)} {z}^{2} + {s_2}^{2} - 2 \\, {s_2} + 1} {\\left({\\left({\\mathcal{C}} + 1\\right)} {s_2}^{2} - 2 \\, {\\left({\\mathcal{C}} + 2\\right)} {s_2} + 4\\right)} + 1} + \\frac{1}{2} \\, \\sqrt{{z}^{4} + {\\left({\\left({\\mathcal{C}}^{2} - 1\\right)} {s_2}^{2} + 2 \\, {s_2} - 2\\right)} {z}^{2} + {s_2}^{2} - 2 \\, {s_2} + 1} + 1\\right]\\)</html>"
      ],
      "text/latex": [
       "$\\displaystyle \\left[{z}^{2} = \\frac{1}{2} \\, {\\left({\\mathcal{C}} + 1\\right)} {s_2}^{2} - {\\left({\\mathcal{C}} + 1\\right)} {s_2} + \\frac{1}{2} \\, \\sqrt{{\\left({\\mathcal{C}}^{2} + 2 \\, {\\mathcal{C}} + 1\\right)} {s_2}^{4} - 4 \\, {\\left({\\mathcal{C}}^{2} + 2 \\, {\\mathcal{C}} + 1\\right)} {s_2}^{3} + {z}^{4} + {\\left(4 \\, {\\mathcal{C}}^{2} + 12 \\, {\\mathcal{C}} + 5\\right)} {s_2}^{2} + {\\left({\\left({\\mathcal{C}}^{2} - 1\\right)} {s_2}^{2} + 2 \\, {s_2} - 2\\right)} {z}^{2} - 2 \\, {\\left(4 \\, {\\mathcal{C}} + 1\\right)} {s_2} + 2 \\, \\sqrt{{z}^{4} + {\\left({\\left({\\mathcal{C}}^{2} - 1\\right)} {s_2}^{2} + 2 \\, {s_2} - 2\\right)} {z}^{2} + {s_2}^{2} - 2 \\, {s_2} + 1} {\\left({\\left({\\mathcal{C}} + 1\\right)} {s_2}^{2} - 2 \\, {\\left({\\mathcal{C}} + 2\\right)} {s_2} + 4\\right)} + 1} + \\frac{1}{2} \\, \\sqrt{{z}^{4} + {\\left({\\left({\\mathcal{C}}^{2} - 1\\right)} {s_2}^{2} + 2 \\, {s_2} - 2\\right)} {z}^{2} + {s_2}^{2} - 2 \\, {s_2} + 1} + 1, {z}^{2} = \\frac{1}{2} \\, {\\left({\\mathcal{C}} + 1\\right)} {s_2}^{2} - {\\left({\\mathcal{C}} + 1\\right)} {s_2} - \\frac{1}{2} \\, \\sqrt{{\\left({\\mathcal{C}}^{2} + 2 \\, {\\mathcal{C}} + 1\\right)} {s_2}^{4} - 4 \\, {\\left({\\mathcal{C}}^{2} + 2 \\, {\\mathcal{C}} + 1\\right)} {s_2}^{3} + {z}^{4} + {\\left(4 \\, {\\mathcal{C}}^{2} + 12 \\, {\\mathcal{C}} + 5\\right)} {s_2}^{2} + {\\left({\\left({\\mathcal{C}}^{2} - 1\\right)} {s_2}^{2} + 2 \\, {s_2} - 2\\right)} {z}^{2} - 2 \\, {\\left(4 \\, {\\mathcal{C}} + 1\\right)} {s_2} + 2 \\, \\sqrt{{z}^{4} + {\\left({\\left({\\mathcal{C}}^{2} - 1\\right)} {s_2}^{2} + 2 \\, {s_2} - 2\\right)} {z}^{2} + {s_2}^{2} - 2 \\, {s_2} + 1} {\\left({\\left({\\mathcal{C}} + 1\\right)} {s_2}^{2} - 2 \\, {\\left({\\mathcal{C}} + 2\\right)} {s_2} + 4\\right)} + 1} + \\frac{1}{2} \\, \\sqrt{{z}^{4} + {\\left({\\left({\\mathcal{C}}^{2} - 1\\right)} {s_2}^{2} + 2 \\, {s_2} - 2\\right)} {z}^{2} + {s_2}^{2} - 2 \\, {s_2} + 1} + 1\\right]$"
      ],
      "text/plain": [
       "[z^2 == 1/2*(C + 1)*s2^2 - (C + 1)*s2 + 1/2*sqrt((C^2 + 2*C + 1)*s2^4 - 4*(C^2 + 2*C + 1)*s2^3 + z^4 + (4*C^2 + 12*C + 5)*s2^2 + ((C^2 - 1)*s2^2 + 2*s2 - 2)*z^2 - 2*(4*C + 1)*s2 + 2*sqrt(z^4 + ((C^2 - 1)*s2^2 + 2*s2 - 2)*z^2 + s2^2 - 2*s2 + 1)*((C + 1)*s2^2 - 2*(C + 2)*s2 + 4) + 1) + 1/2*sqrt(z^4 + ((C^2 - 1)*s2^2 + 2*s2 - 2)*z^2 + s2^2 - 2*s2 + 1) + 1, z^2 == 1/2*(C + 1)*s2^2 - (C + 1)*s2 - 1/2*sqrt((C^2 + 2*C + 1)*s2^4 - 4*(C^2 + 2*C + 1)*s2^3 + z^4 + (4*C^2 + 12*C + 5)*s2^2 + ((C^2 - 1)*s2^2 + 2*s2 - 2)*z^2 - 2*(4*C + 1)*s2 + 2*sqrt(z^4 + ((C^2 - 1)*s2^2 + 2*s2 - 2)*z^2 + s2^2 - 2*s2 + 1)*((C + 1)*s2^2 - 2*(C + 2)*s2 + 4) + 1) + 1/2*sqrt(z^4 + ((C^2 - 1)*s2^2 + 2*s2 - 2)*z^2 + s2^2 - 2*s2 + 1) + 1]"
      ]
     },
     "metadata": {},
     "output_type": "display_data"
    },
    {
     "data": {
      "text/html": [
       "<html>\\(\\displaystyle \\left[{z} = \\left(-1\\right), {z} = 1, {z} = -\\sqrt{\\sqrt{{z}^{4} + 2 \\, {\\left(2 \\, {\\mathcal{C}}^{2} - 1\\right)} {z}^{2} + 1} + 1}, {z} = \\sqrt{\\sqrt{{z}^{4} + 2 \\, {\\left(2 \\, {\\mathcal{C}}^{2} - 1\\right)} {z}^{2} + 1} + 1}\\right]\\)</html>"
      ],
      "text/latex": [
       "$\\displaystyle \\left[{z} = \\left(-1\\right), {z} = 1, {z} = -\\sqrt{\\sqrt{{z}^{4} + 2 \\, {\\left(2 \\, {\\mathcal{C}}^{2} - 1\\right)} {z}^{2} + 1} + 1}, {z} = \\sqrt{\\sqrt{{z}^{4} + 2 \\, {\\left(2 \\, {\\mathcal{C}}^{2} - 1\\right)} {z}^{2} + 1} + 1}\\right]$"
      ],
      "text/plain": [
       "[z == -1, z == 1, z == -sqrt(sqrt(z^4 + 2*(2*C^2 - 1)*z^2 + 1) + 1), z == sqrt(sqrt(z^4 + 2*(2*C^2 - 1)*z^2 + 1) + 1)]"
      ]
     },
     "metadata": {},
     "output_type": "display_data"
    },
    {
     "data": {
      "text/html": [
       "<html>\\(\\displaystyle \\left[{z}^{2} = \\frac{1}{2} \\, {\\left({\\mathcal{C}} + 1\\right)} {s_2}^{2} - {\\left({\\mathcal{C}} + 1\\right)} {s_2} + \\frac{1}{2} \\, \\sqrt{{\\left({\\mathcal{C}}^{2} + 2 \\, {\\mathcal{C}} + 1\\right)} {s_2}^{4} - 4 \\, {\\left({\\mathcal{C}}^{2} + 2 \\, {\\mathcal{C}} + 1\\right)} {s_2}^{3} + {z}^{4} + {\\left(4 \\, {\\mathcal{C}}^{2} + 12 \\, {\\mathcal{C}} + 5\\right)} {s_2}^{2} + {\\left({\\left({\\mathcal{C}}^{2} - 1\\right)} {s_2}^{2} + 2 \\, {s_2} - 2\\right)} {z}^{2} - 2 \\, {\\left(4 \\, {\\mathcal{C}} + 1\\right)} {s_2} - 2 \\, \\sqrt{{z}^{4} + {\\left({\\left({\\mathcal{C}}^{2} - 1\\right)} {s_2}^{2} + 2 \\, {s_2} - 2\\right)} {z}^{2} + {s_2}^{2} - 2 \\, {s_2} + 1} {\\left({\\left({\\mathcal{C}} + 1\\right)} {s_2}^{2} - 2 \\, {\\left({\\mathcal{C}} + 2\\right)} {s_2} + 4\\right)} + 1} - \\frac{1}{2} \\, \\sqrt{{z}^{4} + {\\left({\\left({\\mathcal{C}}^{2} - 1\\right)} {s_2}^{2} + 2 \\, {s_2} - 2\\right)} {z}^{2} + {s_2}^{2} - 2 \\, {s_2} + 1} + 1, {z}^{2} = \\frac{1}{2} \\, {\\left({\\mathcal{C}} + 1\\right)} {s_2}^{2} - {\\left({\\mathcal{C}} + 1\\right)} {s_2} - \\frac{1}{2} \\, \\sqrt{{\\left({\\mathcal{C}}^{2} + 2 \\, {\\mathcal{C}} + 1\\right)} {s_2}^{4} - 4 \\, {\\left({\\mathcal{C}}^{2} + 2 \\, {\\mathcal{C}} + 1\\right)} {s_2}^{3} + {z}^{4} + {\\left(4 \\, {\\mathcal{C}}^{2} + 12 \\, {\\mathcal{C}} + 5\\right)} {s_2}^{2} + {\\left({\\left({\\mathcal{C}}^{2} - 1\\right)} {s_2}^{2} + 2 \\, {s_2} - 2\\right)} {z}^{2} - 2 \\, {\\left(4 \\, {\\mathcal{C}} + 1\\right)} {s_2} - 2 \\, \\sqrt{{z}^{4} + {\\left({\\left({\\mathcal{C}}^{2} - 1\\right)} {s_2}^{2} + 2 \\, {s_2} - 2\\right)} {z}^{2} + {s_2}^{2} - 2 \\, {s_2} + 1} {\\left({\\left({\\mathcal{C}} + 1\\right)} {s_2}^{2} - 2 \\, {\\left({\\mathcal{C}} + 2\\right)} {s_2} + 4\\right)} + 1} - \\frac{1}{2} \\, \\sqrt{{z}^{4} + {\\left({\\left({\\mathcal{C}}^{2} - 1\\right)} {s_2}^{2} + 2 \\, {s_2} - 2\\right)} {z}^{2} + {s_2}^{2} - 2 \\, {s_2} + 1} + 1\\right]\\)</html>"
      ],
      "text/latex": [
       "$\\displaystyle \\left[{z}^{2} = \\frac{1}{2} \\, {\\left({\\mathcal{C}} + 1\\right)} {s_2}^{2} - {\\left({\\mathcal{C}} + 1\\right)} {s_2} + \\frac{1}{2} \\, \\sqrt{{\\left({\\mathcal{C}}^{2} + 2 \\, {\\mathcal{C}} + 1\\right)} {s_2}^{4} - 4 \\, {\\left({\\mathcal{C}}^{2} + 2 \\, {\\mathcal{C}} + 1\\right)} {s_2}^{3} + {z}^{4} + {\\left(4 \\, {\\mathcal{C}}^{2} + 12 \\, {\\mathcal{C}} + 5\\right)} {s_2}^{2} + {\\left({\\left({\\mathcal{C}}^{2} - 1\\right)} {s_2}^{2} + 2 \\, {s_2} - 2\\right)} {z}^{2} - 2 \\, {\\left(4 \\, {\\mathcal{C}} + 1\\right)} {s_2} - 2 \\, \\sqrt{{z}^{4} + {\\left({\\left({\\mathcal{C}}^{2} - 1\\right)} {s_2}^{2} + 2 \\, {s_2} - 2\\right)} {z}^{2} + {s_2}^{2} - 2 \\, {s_2} + 1} {\\left({\\left({\\mathcal{C}} + 1\\right)} {s_2}^{2} - 2 \\, {\\left({\\mathcal{C}} + 2\\right)} {s_2} + 4\\right)} + 1} - \\frac{1}{2} \\, \\sqrt{{z}^{4} + {\\left({\\left({\\mathcal{C}}^{2} - 1\\right)} {s_2}^{2} + 2 \\, {s_2} - 2\\right)} {z}^{2} + {s_2}^{2} - 2 \\, {s_2} + 1} + 1, {z}^{2} = \\frac{1}{2} \\, {\\left({\\mathcal{C}} + 1\\right)} {s_2}^{2} - {\\left({\\mathcal{C}} + 1\\right)} {s_2} - \\frac{1}{2} \\, \\sqrt{{\\left({\\mathcal{C}}^{2} + 2 \\, {\\mathcal{C}} + 1\\right)} {s_2}^{4} - 4 \\, {\\left({\\mathcal{C}}^{2} + 2 \\, {\\mathcal{C}} + 1\\right)} {s_2}^{3} + {z}^{4} + {\\left(4 \\, {\\mathcal{C}}^{2} + 12 \\, {\\mathcal{C}} + 5\\right)} {s_2}^{2} + {\\left({\\left({\\mathcal{C}}^{2} - 1\\right)} {s_2}^{2} + 2 \\, {s_2} - 2\\right)} {z}^{2} - 2 \\, {\\left(4 \\, {\\mathcal{C}} + 1\\right)} {s_2} - 2 \\, \\sqrt{{z}^{4} + {\\left({\\left({\\mathcal{C}}^{2} - 1\\right)} {s_2}^{2} + 2 \\, {s_2} - 2\\right)} {z}^{2} + {s_2}^{2} - 2 \\, {s_2} + 1} {\\left({\\left({\\mathcal{C}} + 1\\right)} {s_2}^{2} - 2 \\, {\\left({\\mathcal{C}} + 2\\right)} {s_2} + 4\\right)} + 1} - \\frac{1}{2} \\, \\sqrt{{z}^{4} + {\\left({\\left({\\mathcal{C}}^{2} - 1\\right)} {s_2}^{2} + 2 \\, {s_2} - 2\\right)} {z}^{2} + {s_2}^{2} - 2 \\, {s_2} + 1} + 1\\right]$"
      ],
      "text/plain": [
       "[z^2 == 1/2*(C + 1)*s2^2 - (C + 1)*s2 + 1/2*sqrt((C^2 + 2*C + 1)*s2^4 - 4*(C^2 + 2*C + 1)*s2^3 + z^4 + (4*C^2 + 12*C + 5)*s2^2 + ((C^2 - 1)*s2^2 + 2*s2 - 2)*z^2 - 2*(4*C + 1)*s2 - 2*sqrt(z^4 + ((C^2 - 1)*s2^2 + 2*s2 - 2)*z^2 + s2^2 - 2*s2 + 1)*((C + 1)*s2^2 - 2*(C + 2)*s2 + 4) + 1) - 1/2*sqrt(z^4 + ((C^2 - 1)*s2^2 + 2*s2 - 2)*z^2 + s2^2 - 2*s2 + 1) + 1, z^2 == 1/2*(C + 1)*s2^2 - (C + 1)*s2 - 1/2*sqrt((C^2 + 2*C + 1)*s2^4 - 4*(C^2 + 2*C + 1)*s2^3 + z^4 + (4*C^2 + 12*C + 5)*s2^2 + ((C^2 - 1)*s2^2 + 2*s2 - 2)*z^2 - 2*(4*C + 1)*s2 - 2*sqrt(z^4 + ((C^2 - 1)*s2^2 + 2*s2 - 2)*z^2 + s2^2 - 2*s2 + 1)*((C + 1)*s2^2 - 2*(C + 2)*s2 + 4) + 1) - 1/2*sqrt(z^4 + ((C^2 - 1)*s2^2 + 2*s2 - 2)*z^2 + s2^2 - 2*s2 + 1) + 1]"
      ]
     },
     "metadata": {},
     "output_type": "display_data"
    },
    {
     "data": {
      "text/html": [
       "<html>\\(\\displaystyle \\left[{z} = \\left(-1\\right), {z} = 1, {z} = -\\sqrt{-\\sqrt{{z}^{4} + 2 \\, {\\left(2 \\, {\\mathcal{C}}^{2} - 1\\right)} {z}^{2} + 1} + 1}, {z} = \\sqrt{-\\sqrt{{z}^{4} + 2 \\, {\\left(2 \\, {\\mathcal{C}}^{2} - 1\\right)} {z}^{2} + 1} + 1}\\right]\\)</html>"
      ],
      "text/latex": [
       "$\\displaystyle \\left[{z} = \\left(-1\\right), {z} = 1, {z} = -\\sqrt{-\\sqrt{{z}^{4} + 2 \\, {\\left(2 \\, {\\mathcal{C}}^{2} - 1\\right)} {z}^{2} + 1} + 1}, {z} = \\sqrt{-\\sqrt{{z}^{4} + 2 \\, {\\left(2 \\, {\\mathcal{C}}^{2} - 1\\right)} {z}^{2} + 1} + 1}\\right]$"
      ],
      "text/plain": [
       "[z == -1, z == 1, z == -sqrt(-sqrt(z^4 + 2*(2*C^2 - 1)*z^2 + 1) + 1), z == sqrt(-sqrt(z^4 + 2*(2*C^2 - 1)*z^2 + 1) + 1)]"
      ]
     },
     "metadata": {},
     "output_type": "display_data"
    },
    {
     "data": {
      "text/html": [
       "<html>\\(\\displaystyle 8 \\, {\\mathcal{C}}^{2}\\)</html>"
      ],
      "text/latex": [
       "$\\displaystyle 8 \\, {\\mathcal{C}}^{2}$"
      ],
      "text/plain": [
       "8*C^2"
      ]
     },
     "metadata": {},
     "output_type": "display_data"
    },
    {
     "data": {
      "text/html": [
       "<html>\\(\\displaystyle 8 \\, {\\mathcal{C}}^{2}\\)</html>"
      ],
      "text/latex": [
       "$\\displaystyle 8 \\, {\\mathcal{C}}^{2}$"
      ],
      "text/plain": [
       "8*C^2"
      ]
     },
     "metadata": {},
     "output_type": "display_data"
    },
    {
     "data": {
      "text/html": [
       "<html>\\(\\displaystyle 0\\)</html>"
      ],
      "text/latex": [
       "$\\displaystyle 0$"
      ],
      "text/plain": [
       "0"
      ]
     },
     "metadata": {},
     "output_type": "display_data"
    },
    {
     "data": {
      "text/html": [
       "<html>\\(\\displaystyle 0\\)</html>"
      ],
      "text/latex": [
       "$\\displaystyle 0$"
      ],
      "text/plain": [
       "0"
      ]
     },
     "metadata": {},
     "output_type": "display_data"
    },
    {
     "name": "stdout",
     "output_type": "stream",
     "text": [
      "Expansion of the second component of phiS around z = -1 as s2 != 2\n"
     ]
    },
    {
     "data": {
      "text/html": [
       "<html>\\(\\displaystyle \\frac{{\\mathcal{C}} {s_2}}{{s_2} - 2} - \\frac{{\\left({\\left({\\mathcal{C}}^{2} - 1\\right)} {s_2}^{2} + 4 \\, {s_2} - 4\\right)} {\\left({z} + 1\\right)}}{{\\mathcal{C}} {s_2}^{3} - 4 \\, {\\mathcal{C}} {s_2}^{2} + 4 \\, {\\mathcal{C}} {s_2}}\\)</html>"
      ],
      "text/latex": [
       "$\\displaystyle \\frac{{\\mathcal{C}} {s_2}}{{s_2} - 2} - \\frac{{\\left({\\left({\\mathcal{C}}^{2} - 1\\right)} {s_2}^{2} + 4 \\, {s_2} - 4\\right)} {\\left({z} + 1\\right)}}{{\\mathcal{C}} {s_2}^{3} - 4 \\, {\\mathcal{C}} {s_2}^{2} + 4 \\, {\\mathcal{C}} {s_2}}$"
      ],
      "text/plain": [
       "C*s2/(s2 - 2) - ((C^2 - 1)*s2^2 + 4*s2 - 4)*(z + 1)/(C*s2^3 - 4*C*s2^2 + 4*C*s2)"
      ]
     },
     "metadata": {},
     "output_type": "display_data"
    },
    {
     "name": "stdout",
     "output_type": "stream",
     "text": [
      "Expansion of the second component of phiS around z = -1 as s2 = 2\n"
     ]
    },
    {
     "data": {
      "text/html": [
       "<html>\\(\\displaystyle \\frac{2 \\, {\\mathcal{C}}}{{z} + 1} + \\frac{{z} + 1}{2 \\, {\\mathcal{C}}}\\)</html>"
      ],
      "text/latex": [
       "$\\displaystyle \\frac{2 \\, {\\mathcal{C}}}{{z} + 1} + \\frac{{z} + 1}{2 \\, {\\mathcal{C}}}$"
      ],
      "text/plain": [
       "2*C/(z + 1) + 1/2*(z + 1)/C"
      ]
     },
     "metadata": {},
     "output_type": "display_data"
    },
    {
     "name": "stdout",
     "output_type": "stream",
     "text": [
      "Expansion of the second component of phiS around z = 1 as s2 != 2\n"
     ]
    },
    {
     "data": {
      "text/html": [
       "<html>\\(\\displaystyle \\frac{{\\mathcal{C}} {s_2}}{{s_2} - 2} + \\frac{{\\left({\\left({\\mathcal{C}}^{2} - 1\\right)} {s_2}^{2} + 4 \\, {s_2} - 4\\right)} {\\left({z} - 1\\right)}}{{\\mathcal{C}} {s_2}^{3} - 4 \\, {\\mathcal{C}} {s_2}^{2} + 4 \\, {\\mathcal{C}} {s_2}}\\)</html>"
      ],
      "text/latex": [
       "$\\displaystyle \\frac{{\\mathcal{C}} {s_2}}{{s_2} - 2} + \\frac{{\\left({\\left({\\mathcal{C}}^{2} - 1\\right)} {s_2}^{2} + 4 \\, {s_2} - 4\\right)} {\\left({z} - 1\\right)}}{{\\mathcal{C}} {s_2}^{3} - 4 \\, {\\mathcal{C}} {s_2}^{2} + 4 \\, {\\mathcal{C}} {s_2}}$"
      ],
      "text/plain": [
       "C*s2/(s2 - 2) + ((C^2 - 1)*s2^2 + 4*s2 - 4)*(z - 1)/(C*s2^3 - 4*C*s2^2 + 4*C*s2)"
      ]
     },
     "metadata": {},
     "output_type": "display_data"
    },
    {
     "name": "stdout",
     "output_type": "stream",
     "text": [
      "Expansion of the second component of phiS around z = 1 as s2 = 2\n"
     ]
    },
    {
     "data": {
      "text/html": [
       "<html>\\(\\displaystyle -\\frac{2 \\, {\\mathcal{C}}}{{z} - 1} - \\frac{{z} - 1}{2 \\, {\\mathcal{C}}}\\)</html>"
      ],
      "text/latex": [
       "$\\displaystyle -\\frac{2 \\, {\\mathcal{C}}}{{z} - 1} - \\frac{{z} - 1}{2 \\, {\\mathcal{C}}}$"
      ],
      "text/plain": [
       "-2*C/(z - 1) - 1/2*(z - 1)/C"
      ]
     },
     "metadata": {},
     "output_type": "display_data"
    }
   ],
   "source": [
    "#### Critical points (-1, -Pi) and (1, Pi) --- For C<0\n",
    "assume(C<0)\n",
    "print(\"Value of kminus at z=-1\")\n",
    "pretty_print(kminus.subs(z==-1).full_simplify())\n",
    "print(\"Value of kplus at z=-1\")\n",
    "pretty_print(kplus.subs(z==-1).full_simplify())\n",
    "print(\"Value of kminus at z=1\")\n",
    "pretty_print(kminus.subs(z==1).full_simplify())\n",
    "print(\"Value of kplus at z=1\")\n",
    "pretty_print(kplus.subs(z==1).full_simplify())\n",
    "\n",
    "print(\"Value of Pi\")\n",
    "pretty_print(Pi)\n",
    "\n",
    "ks = kplus.full_simplify()\n",
    "ku = kminus.full_simplify()\n",
    "\n",
    "\n",
    "LzOnStable = Lz.subs(k==ks) ### This is the matrix polynomial where k is replaced by ks (stable root)\n",
    "LzOnUnstable = Lz.subs(k==ku)\n",
    "\n",
    "for i in range(q):\n",
    "    for j in range(q):\n",
    "        LzOnStable[i, j] = LzOnStable[i, j].full_simplify()\n",
    "        LzOnUnstable[i, j] = LzOnUnstable[i, j].full_simplify()\n",
    "        \n",
    "#pretty_print(LzOnStable.transpose().kernel()) #### This is the stable eigenvalue phi_s\n",
    "phiS = matrix([[LzOnStable.transpose().kernel().basis()[0][0]], \\\n",
    "               [LzOnStable.transpose().kernel().basis()[0][1].full_simplify()]])\n",
    "\n",
    "phiU = matrix([[LzOnUnstable.transpose().kernel().basis()[0][0]], \\\n",
    "               [LzOnUnstable.transpose().kernel().basis()[0][1].full_simplify()]])\n",
    "\n",
    "#### What are the values of z at which the second component of the eigenvector blows up\n",
    "pretty_print(solve(phiS[1, 0].denominator().full_simplify(), z))\n",
    "pretty_print(solve(phiS[1, 0].denominator().subs(s2==2).full_simplify(), z))\n",
    "pretty_print(solve(phiU[1, 0].denominator().full_simplify(), z))\n",
    "pretty_print(solve(phiU[1, 0].denominator().subs(s2==2).full_simplify(), z))\n",
    "pretty_print(phiS[1, 0].numerator().subs(s2==2).full_simplify().subs(z==1))\n",
    "pretty_print(phiS[1, 0].numerator().subs(s2==2).full_simplify().subs(z==-1))\n",
    "pretty_print(phiU[1, 0].numerator().subs(s2==2).full_simplify().subs(z==1))\n",
    "pretty_print(phiU[1, 0].numerator().subs(s2==2).full_simplify().subs(z==-1))\n",
    "\n",
    "#### Structure of the eigenvector close to the critical points\n",
    "print('Expansion of the second component of phiS around z = -1 as s2 != 2')\n",
    "pretty_print(taylor(phiS[1][0], z, -1, 1))\n",
    "print('Expansion of the second component of phiS around z = -1 as s2 = 2')\n",
    "pretty_print(taylor(phiS[1][0].subs(s2=2), z, -1, 1))\n",
    "print('Expansion of the second component of phiS around z = 1 as s2 != 2')\n",
    "pretty_print(taylor(phiS[1][0], z, 1, 1))\n",
    "print('Expansion of the second component of phiS around z = 1 as s2 = 2')\n",
    "pretty_print(taylor(phiS[1][0].subs(s2=2), z, 1, 1))\n",
    "\n",
    "#### We construct the eigenvector of k = 0\n",
    "phi0 = matrix([[ (s2-1)*Lz.subs(k==0).transpose().kernel().basis()[0][0]], \\\n",
    "               [((s2-1)*Lz.subs(k==0).transpose().kernel().basis()[0][1]).full_simplify()]])\n",
    "\n",
    "#### We start analyzing critical points and Kreiss Lopatinskii determinants\n",
    "\n",
    "bd00  = matrix(SR, q, q)\n",
    "bd01 = matrix(SR, q, q)\n",
    "bd02 = matrix(SR, q, q)\n",
    "bd03 = matrix(SR, q, q)\n",
    "BKL = matrix(SR, q, q) #### Boundary matrix on the stable subspace\n",
    "\n",
    "g1m1Tilde = 1 ### Source term used in the experiments"
   ]
  },
  {
   "cell_type": "code",
   "execution_count": null,
   "id": "626b04e3",
   "metadata": {},
   "outputs": [],
   "source": [
    "print(\"======= Bounce back ======\")\n",
    "\n",
    "for i in range(q):\n",
    "    for j in range(q):\n",
    "        bd00[i, j] = bdMat_BB[i, j].full_simplify().collect(k).coefficient(k, 0)\n",
    "        bd01[i, j] = bdMat_BB[i, j].full_simplify().collect(k).coefficient(k, 1)\n",
    "        \n",
    "BKL[:, 0] = (bd00 + bd01*ks)*phiS ### First column\n",
    "BKL[:, 1] = (bd00)*phi0 ### Second column\n",
    "\n",
    "DetKL = BKL.determinant().full_simplify()\n",
    "\n",
    "print(\"Kreiss Lopatinskii determinant when s2 = 2 at z = -1\")\n",
    "pretty_print(taylor(DetKL.subs(s2==2).full_simplify(), z, -1, -1))\n",
    "\n",
    "print(\"Kreiss Lopatinskii determinant at z = 1\")\n",
    "pretty_print(taylor(DetKL, z, 1, 1))\n",
    "\n",
    "print(\"Computation of the long-time solution for the source term in the experiments using residues\")\n",
    "var('j')\n",
    "var('n')\n",
    "\n",
    "Cs = (2+(C-1)*s2)*z*g1m1Tilde/DetKL\n",
    "\n",
    "m1 = Cs*z**(n-1)*ks**(j)*phiS[0, 0]\n",
    "m2 = Cs*z**(n-1)*ks**(j)*phiS[1, 0]\n",
    "\n",
    "print(\"m1_j^n equals approximately (s2 in (0, 2))\")\n",
    "pretty_print(m1.maxima_methods().residue(z,-1) + m1.maxima_methods().residue(z,1))\n",
    "print(\"m2_j^n equals approximately (s2 in (0, 2))\")\n",
    "pretty_print(m2.maxima_methods().residue(z,-1) + m2.maxima_methods().residue(z,1))\n",
    "\n",
    "print(\"m1_j^n equals approximately (s2=2)\")\n",
    "pretty_print((m1.subs(s2==2).full_simplify().maxima_methods().residue(z,-1) \\\n",
    "            + m1.subs(s2==2).full_simplify().maxima_methods().residue(z,1)).factor())\n",
    "print(\"m2_j^n equals approximately (s2=2)\")\n",
    "pretty_print((m2.subs(s2==2).full_simplify().maxima_methods().residue(z,-1) \\\n",
    "            + m2.subs(s2==2).full_simplify().maxima_methods().residue(z,1)).factor())\n"
   ]
  },
  {
   "cell_type": "code",
   "execution_count": null,
   "id": "00a3cab1",
   "metadata": {},
   "outputs": [],
   "source": [
    "print(\"======= Anti bounce back ======\")\n",
    "\n",
    "for i in range(q):\n",
    "    for j in range(q):\n",
    "        bd00[i, j] = bdMat_ABB[i, j].full_simplify().collect(k).coefficient(k, 0)\n",
    "        bd01[i, j] = bdMat_ABB[i, j].full_simplify().collect(k).coefficient(k, 1)\n",
    "        \n",
    "BKL[:, 0] = (bd00 + bd01*ks)*phiS ### First column\n",
    "BKL[:, 1] = (bd00)*phi0 ### Second column\n",
    "\n",
    "DetKL = BKL.determinant().full_simplify()\n",
    "\n",
    "print(\"Kreiss Lopatinskii determinant at z = -1\")\n",
    "pretty_print(taylor(DetKL, z, -1, 1))\n",
    "\n",
    "print(\"Kreiss Lopatinskii determinant for s2 = 2 at z = 1\")\n",
    "pretty_print(taylor(DetKL.subs(s2==2).full_simplify(), z, 1, -1))\n",
    "\n",
    "print(\"Computation of the long-time solution for the source term in the experiments using residues\")\n",
    "var('j')\n",
    "var('n')\n",
    "\n",
    "Cs = (2+(C-1)*s2)*z*g1m1Tilde/DetKL\n",
    "\n",
    "m1 = Cs*z**(n-1)*ks**(j)*phiS[0, 0]\n",
    "m2 = Cs*z**(n-1)*ks**(j)*phiS[1, 0]\n",
    "\n",
    "print(\"m1_j^n equals approximately (s2 in (0, 2))\")\n",
    "pretty_print(m1.maxima_methods().residue(z,-1) + m1.maxima_methods().residue(z,1))\n",
    "print(\"m2_j^n equals approximately (s2 in (0, 2))\")\n",
    "pretty_print(m2.maxima_methods().residue(z,-1) + m2.maxima_methods().residue(z,1))\n",
    "\n",
    "print(\"m1_j^n equals approximately (s2=2)\")\n",
    "pretty_print((m1.subs(s2==2).full_simplify().maxima_methods().residue(z,-1) \\\n",
    "            + m1.subs(s2==2).full_simplify().maxima_methods().residue(z,1)).factor())\n",
    "print(\"m2_j^n equals approximately (s2=2)\")\n",
    "pretty_print((m2.subs(s2==2).full_simplify().maxima_methods().residue(z,-1) \\\n",
    "            + m2.subs(s2==2).full_simplify().maxima_methods().residue(z,1)).factor())\n"
   ]
  },
  {
   "cell_type": "code",
   "execution_count": null,
   "id": "23d71e52",
   "metadata": {},
   "outputs": [],
   "source": [
    "print(\"======= Two-steps anti bounce back ======\")\n",
    "\n",
    "for i in range(q):\n",
    "    for j in range(q):\n",
    "        bd00[i, j] = bdMat_TwoABB[i, j].full_simplify().collect(k).coefficient(k, 0)\n",
    "        bd01[i, j] = bdMat_TwoABB[i, j].full_simplify().collect(k).coefficient(k, 1)\n",
    "        \n",
    "BKL[:, 0] = (bd00 + bd01*ks)*phiS ### First column\n",
    "BKL[:, 1] = (bd00)*phi0 ### Second column\n",
    "\n",
    "DetKL = BKL.determinant().full_simplify()\n",
    "\n",
    "print(\"Kreiss Lopatinskii determinant for s2 = 2 at z = -1\")\n",
    "pretty_print(taylor(DetKL.subs(s2==2).full_simplify(), z, -1, 0))\n",
    "\n",
    "print(\"First column of BKL when s2 = 2 at z = -1\")\n",
    "pretty_print(taylor(BKL[:, 0].subs(s2==2), z, -1, 0))\n",
    "\n",
    "print(\"Kreiss Lopatinskii determinant for s2 = 2 at z = 1\")\n",
    "pretty_print(taylor(DetKL.subs(s2==2).full_simplify(), z, 1, 0))\n",
    "\n",
    "print(\"Computation of the long-time solution for the source term in the experiments using residues\")\n",
    "var('j')\n",
    "var('n')\n",
    "\n",
    "Cs = (2+(C-1)*s2)*z*g1m1Tilde/DetKL\n",
    "\n",
    "m1 = Cs*z**(n-1)*ks**(j)*phiS[0, 0]\n",
    "m2 = Cs*z**(n-1)*ks**(j)*phiS[1, 0]\n",
    "\n",
    "print(\"m1_j^n equals approximately (s2 in (0, 2))\")\n",
    "pretty_print(m1.maxima_methods().residue(z,-1) + m1.maxima_methods().residue(z,1))\n",
    "print(\"m2_j^n equals approximately (s2 in (0, 2))\")\n",
    "pretty_print(m2.maxima_methods().residue(z,-1) + m2.maxima_methods().residue(z,1))\n",
    "\n",
    "print(\"m1_j^n equals approximately (s2=2)\")\n",
    "pretty_print((m1.subs(s2==2).full_simplify().maxima_methods().residue(z,-1) \\\n",
    "            + m1.subs(s2==2).full_simplify().maxima_methods().residue(z,1)).factor())\n",
    "print(\"m2_j^n equals approximately (s2=2)\")\n",
    "pretty_print((m2.subs(s2==2).full_simplify().maxima_methods().residue(z,-1) \\\n",
    "            + m2.subs(s2==2).full_simplify().maxima_methods().residue(z,1)).factor())\n"
   ]
  },
  {
   "cell_type": "code",
   "execution_count": null,
   "id": "e6dc43ec",
   "metadata": {},
   "outputs": [],
   "source": [
    "print(\"======= Extrapolation sigma = 1 ======\")\n",
    "\n",
    "for i in range(q):\n",
    "    for j in range(q):\n",
    "        bd00[i, j] = bdMat_sigma1[i, j].full_simplify().collect(k).coefficient(k, 0)\n",
    "        bd01[i, j] = bdMat_sigma1[i, j].full_simplify().collect(k).coefficient(k, 1)\n",
    "        \n",
    "BKL[:, 0] = (bd00 + bd01*ks)*phiS ### First column\n",
    "BKL[:, 1] = (bd00)*phi0 ### Second column\n",
    "\n",
    "DetKL = BKL.determinant().full_simplify()\n",
    "\n",
    "print(\"Kreiss Lopatinskii determinant for s2 = 2 at z = -1\")\n",
    "pretty_print(taylor(DetKL.subs(s2==2).full_simplify(), z, -1, 0))\n",
    "\n",
    "print(\"First column of BKL when s2 = 2 at z = -1\")\n",
    "pretty_print(taylor(BKL[:, 0].subs(s2==2), z, -1, 0))\n",
    "\n",
    "print(\"Kreiss Lopatinskii determinant for s2 = 2 at z = 1\")\n",
    "pretty_print(taylor(DetKL.subs(s2==2).full_simplify(), z, 1, 0))\n",
    "\n",
    "print(\"Computation of the long-time solution for the source term in the experiments using residues\")\n",
    "var('j')\n",
    "var('n')\n",
    "\n",
    "Cs = (2+(C-1)*s2)*z*g1m1Tilde/DetKL\n",
    "\n",
    "m1 = Cs*z**(n-1)*ks**(j)*phiS[0, 0]\n",
    "m2 = Cs*z**(n-1)*ks**(j)*phiS[1, 0]\n",
    "\n",
    "print(\"m1_j^n equals approximately (s2 in (0, 2))\")\n",
    "pretty_print(m1.maxima_methods().residue(z,-1) + m1.maxima_methods().residue(z,1))\n",
    "print(\"m2_j^n equals approximately (s2 in (0, 2))\")\n",
    "pretty_print(m2.maxima_methods().residue(z,-1) + m2.maxima_methods().residue(z,1))\n",
    "\n",
    "print(\"m1_j^n equals approximately (s2=2)\")\n",
    "pretty_print((m1.subs(s2==2).full_simplify().maxima_methods().residue(z,-1) \\\n",
    "            + m1.subs(s2==2).full_simplify().maxima_methods().residue(z,1)).factor())\n",
    "print(\"m2_j^n equals approximately (s2=2)\")\n",
    "pretty_print((m2.subs(s2==2).full_simplify().maxima_methods().residue(z,-1) \\\n",
    "            + m2.subs(s2==2).full_simplify().maxima_methods().residue(z,1)).factor())\n"
   ]
  },
  {
   "cell_type": "code",
   "execution_count": null,
   "id": "9948ef96",
   "metadata": {},
   "outputs": [],
   "source": [
    "print(\"======= Extrapolation sigma = 2 ======\")\n",
    "\n",
    "for i in range(q):\n",
    "    for j in range(q):\n",
    "        bd00[i, j] = bdMat_sigma2[i, j].full_simplify().collect(k).coefficient(k, 0)\n",
    "        bd01[i, j] = bdMat_sigma2[i, j].full_simplify().collect(k).coefficient(k, 1)\n",
    "        \n",
    "BKL[:, 0] = (bd00 + bd01*ks)*phiS ### First column\n",
    "BKL[:, 1] = (bd00)*phi0 ### Second column\n",
    "\n",
    "DetKL = BKL.determinant().full_simplify()\n",
    "\n",
    "print(\"Kreiss Lopatinskii determinant for s2 = 2 at z = -1\")\n",
    "pretty_print(taylor(DetKL.subs(s2==2).full_simplify(), z, -1, 1))\n",
    "\n",
    "print(\"First column of BKL when s2 = 2 at z = -1\")\n",
    "pretty_print(taylor(BKL[:, 0].subs(s2==2), z, -1, 1))\n",
    "\n",
    "print(\"Kreiss Lopatinskii determinant for s2 = 2 at z = 1\")\n",
    "pretty_print(taylor(DetKL.subs(s2==2).full_simplify(), z, 1, -1))\n",
    "\n",
    "print(\"Computation of the long-time solution for the source term in the experiments using residues\")\n",
    "var('j')\n",
    "var('n')\n",
    "\n",
    "Cs = (2+(C-1)*s2)*z*g1m1Tilde/DetKL\n",
    "\n",
    "m1 = Cs*z**(n-1)*ks**(j)*phiS[0, 0]\n",
    "m2 = Cs*z**(n-1)*ks**(j)*phiS[1, 0]\n",
    "\n",
    "print(\"m1_j^n equals approximately (s2=2)\")\n",
    "pretty_print((m1.subs(s2==2).full_simplify().maxima_methods().residue(z,-1) \\\n",
    "            + m1.subs(s2==2).full_simplify().maxima_methods().residue(z,1)).factor())\n",
    "print(\"m2_j^n equals approximately (s2=2)\")\n",
    "pretty_print((m2.subs(s2==2).full_simplify().maxima_methods().residue(z,-1) \\\n",
    "            + m2.subs(s2==2).full_simplify().maxima_methods().residue(z,1)).factor())"
   ]
  },
  {
   "cell_type": "code",
   "execution_count": null,
   "id": "7622a0c3",
   "metadata": {},
   "outputs": [],
   "source": [
    "print(\"======= Extrapolation sigma = 3 ======\")\n",
    "\n",
    "for i in range(q):\n",
    "    for j in range(q):\n",
    "        bd00[i, j] = bdMat_sigma3[i, j].full_simplify().collect(k).coefficient(k, 0)\n",
    "        bd01[i, j] = bdMat_sigma3[i, j].full_simplify().collect(k).coefficient(k, 1)\n",
    "        bd02[i, j] = bdMat_sigma3[i, j].full_simplify().collect(k).coefficient(k, 2)\n",
    "        \n",
    "BKL[:, 0] = (bd00 + bd01*ks + bd02*ks**2)*phiS ### First column\n",
    "BKL[:, 1] = (bd00)*phi0 ### Second column\n",
    "\n",
    "DetKL = BKL.determinant().full_simplify()\n",
    "\n",
    "print(\"Kreiss Lopatinskii determinant for s2 = 2 at z = -1\")\n",
    "pretty_print(taylor(DetKL.subs(s2==2).full_simplify(), z, -1, 2))\n",
    "\n",
    "print(\"First column of BKL when s2 = 2 at z = -1\")\n",
    "pretty_print(taylor(BKL[:, 0].subs(s2==2), z, -1, 2))\n",
    "\n",
    "print(\"Kreiss Lopatinskii determinant for s2 = 2 at z = 1\")\n",
    "pretty_print(taylor(DetKL.subs(s2==2).full_simplify(), z, 1, -1))\n",
    "\n",
    "print(\"Computation of the long-time solution for the source term in the experiments using residues\")\n",
    "var('j')\n",
    "var('n')\n",
    "\n",
    "Cs = (2+(C-1)*s2)*z*g1m1Tilde/DetKL\n",
    "\n",
    "m1 = Cs*z**(n-1)*ks**(j)*phiS[0, 0]\n",
    "m2 = Cs*z**(n-1)*ks**(j)*phiS[1, 0]\n",
    "\n",
    "print(\"m1_j^n equals approximately (s2=2)\")\n",
    "pretty_print((m1.subs(s2==2).full_simplify().maxima_methods().residue(z,-1) \\\n",
    "            + m1.subs(s2==2).full_simplify().maxima_methods().residue(z,1)).factor())\n",
    "print(\"m2_j^n equals approximately (s2=2)\")\n",
    "pretty_print((m2.subs(s2==2).full_simplify().maxima_methods().residue(z,-1) \\\n",
    "            + m2.subs(s2==2).full_simplify().maxima_methods().residue(z,1)).factor())"
   ]
  },
  {
   "cell_type": "code",
   "execution_count": null,
   "id": "3b96dd33",
   "metadata": {},
   "outputs": [],
   "source": [
    "print(\"======= Extrapolation sigma = 4 ======\")\n",
    "\n",
    "for i in range(q):\n",
    "    for j in range(q):\n",
    "        bd00[i, j] = bdMat_sigma4[i, j].full_simplify().collect(k).coefficient(k, 0)\n",
    "        bd01[i, j] = bdMat_sigma4[i, j].full_simplify().collect(k).coefficient(k, 1)\n",
    "        bd02[i, j] = bdMat_sigma4[i, j].full_simplify().collect(k).coefficient(k, 2)\n",
    "        bd03[i, j] = bdMat_sigma4[i, j].full_simplify().collect(k).coefficient(k, 3)\n",
    "        \n",
    "BKL[:, 0] = (bd00 + bd01*ks + bd02*ks**2 + bd03*ks**3)*phiS ### First column\n",
    "BKL[:, 1] = (bd00)*phi0 ### Second column\n",
    "\n",
    "DetKL = BKL.determinant().full_simplify()\n",
    "\n",
    "print(\"Kreiss Lopatinskii determinant for s2 = 2 at z = -1\")\n",
    "pretty_print(taylor(DetKL.subs(s2==2).full_simplify(), z, -1, 3))\n",
    "\n",
    "print(\"First column of BKL when s2 = 2 at z = -1\")\n",
    "pretty_print(taylor(BKL[:, 0].subs(s2==2), z, -1, 3))\n",
    "\n",
    "print(\"Kreiss Lopatinskii determinant for s2 = 2 at z = 1\")\n",
    "pretty_print(taylor(DetKL.subs(s2==2).full_simplify(), z, 1, -1))\n",
    "\n",
    "print(\"Computation of the long-time solution for the source term in the experiments using residues\")\n",
    "var('j')\n",
    "var('n')\n",
    "\n",
    "Cs = (2+(C-1)*s2)*z*g1m1Tilde/DetKL\n",
    "\n",
    "m1 = Cs*z**(n-1)*ks**(j)*phiS[0, 0]\n",
    "m2 = Cs*z**(n-1)*ks**(j)*phiS[1, 0]\n",
    "\n",
    "print(\"m1_j^n equals approximately (s2=2)\")\n",
    "pretty_print((m1.subs(s2==2).full_simplify().maxima_methods().residue(z,-1) \\\n",
    "            + m1.subs(s2==2).full_simplify().maxima_methods().residue(z,1)).factor())\n",
    "print(\"m2_j^n equals approximately (s2=2)\")\n",
    "pretty_print((m2.subs(s2==2).full_simplify().maxima_methods().residue(z,-1) \\\n",
    "            + m2.subs(s2==2).full_simplify().maxima_methods().residue(z,1)).factor())"
   ]
  },
  {
   "cell_type": "code",
   "execution_count": null,
   "id": "730b4059",
   "metadata": {},
   "outputs": [],
   "source": [
    "print(\"======= Kinetic Dirichlet ======\")\n",
    "\n",
    "for i in range(q):\n",
    "    for j in range(q):\n",
    "        bd00[i, j] = bdMat_kinDir[i, j].full_simplify().collect(k).coefficient(k, 0)\n",
    "        bd01[i, j] = bdMat_kinDir[i, j].full_simplify().collect(k).coefficient(k, 1)\n",
    "        \n",
    "BKL[:, 0] = (bd00 + bd01*ks)*phiS ### First column\n",
    "BKL[:, 1] = (bd00)*phi0 ### Second column\n",
    "\n",
    "DetKL = BKL.determinant().full_simplify()\n",
    "\n",
    "print(\"Kreiss Lopatinskii determinant for s2 = 2 at z = -1\")\n",
    "pretty_print(taylor(DetKL.subs(s2==2).full_simplify(), z, -1, -1))\n",
    "\n",
    "print(\"Kreiss Lopatinskii determinant for s2 = 2 at z = 1\")\n",
    "pretty_print(taylor(DetKL.subs(s2==2).full_simplify(), z, 1, -1))\n",
    "\n",
    "print(\"Computation of the long-time solution for the source term in the experiments using residues\")\n",
    "var('j')\n",
    "var('n')\n",
    "\n",
    "Cs = (2+(C-1)*s2)*z*g1m1Tilde/DetKL\n",
    "\n",
    "m1 = Cs*z**(n-1)*ks**(j)*phiS[0, 0]\n",
    "m2 = Cs*z**(n-1)*ks**(j)*phiS[1, 0]\n",
    "\n",
    "print(\"m1_j^n equals approximately (s2=2)\")\n",
    "pretty_print((m1.subs(s2==2).full_simplify().maxima_methods().residue(z,-1) \\\n",
    "            + m1.subs(s2==2).full_simplify().maxima_methods().residue(z,1)).factor())\n",
    "print(\"m2_j^n equals approximately (s2=2)\")\n",
    "pretty_print((m2.subs(s2==2).full_simplify().maxima_methods().residue(z,-1) \\\n",
    "            + m2.subs(s2==2).full_simplify().maxima_methods().residue(z,1)).factor())"
   ]
  },
  {
   "cell_type": "code",
   "execution_count": null,
   "id": "a725a118",
   "metadata": {},
   "outputs": [],
   "source": []
  },
  {
   "cell_type": "code",
   "execution_count": null,
   "id": "9f6068ef",
   "metadata": {},
   "outputs": [],
   "source": []
  },
  {
   "cell_type": "code",
   "execution_count": null,
   "id": "4e9a2ac4",
   "metadata": {},
   "outputs": [],
   "source": []
  },
  {
   "cell_type": "code",
   "execution_count": null,
   "id": "4a503adb",
   "metadata": {},
   "outputs": [],
   "source": [
    "forget()\n",
    "\n",
    "#### We make natural assumptions\n",
    "assume(s2>0)\n",
    "assume(s2<=2)\n",
    "#### Critical points (1, 1) --- For C>0 \n",
    "assume(C>0)\n",
    "\n",
    "print(\"Value of kminus at z=1\")\n",
    "pretty_print(kminus.subs(z==1).full_simplify())\n",
    "print(\"Value of kplus at z=1\")\n",
    "pretty_print(kplus.subs(z==1).full_simplify())\n",
    "\n",
    "ks = kplus.full_simplify()\n",
    "\n",
    "LzOnStable = Lz.subs(k==ks) ### This is the matrix polynomial where k is replaced by ks (stable root)\n",
    "for i in range(q):\n",
    "    for j in range(q):\n",
    "        LzOnStable[i, j] = LzOnStable[i, j].full_simplify()\n",
    "        \n",
    "#pretty_print(LzOnStable.transpose().kernel()) #### This is the stable eigenvalue phi_s\n",
    "phiS = matrix([[LzOnStable.transpose().kernel().basis()[0][0]], \\\n",
    "               [LzOnStable.transpose().kernel().basis()[0][1].full_simplify()]])\n",
    "\n",
    "#### Structure of the eigenvector close to the critical points\n",
    "print('Expansion of the second component of phiS around z = 1')\n",
    "pretty_print(taylor(phiS[1][0], z, 1, 1)) # I do not know why taking .subs(z==1) gives wrong results\n",
    "print('Expansion of the second component of phiS around z = 1 as s2 = 2')\n",
    "pretty_print(taylor(phiS[1][0].subs(s2=2), z, 1, 1))\n",
    "print('Expansion of the second component of phiS around z = -1 as s2 = 2')\n",
    "pretty_print(taylor(phiS[1][0].subs(s2=2), z, -1, 1))\n",
    "\n",
    "#### We construct the eigenvector of k = 0\n",
    "phi0 = matrix([[ (s2-1)*Lz.subs(k==0).transpose().kernel().basis()[0][0]], \\\n",
    "               [((s2-1)*Lz.subs(k==0).transpose().kernel().basis()[0][1]).full_simplify()]])\n"
   ]
  },
  {
   "cell_type": "code",
   "execution_count": null,
   "id": "571bfd3a",
   "metadata": {},
   "outputs": [],
   "source": [
    "print(\"======= Extrapolation sigma = 1 ======\")\n",
    "\n",
    "for i in range(q):\n",
    "    for j in range(q):\n",
    "        bd00[i, j] = bdMat_sigma1[i, j].full_simplify().collect(k).coefficient(k, 0)\n",
    "        bd01[i, j] = bdMat_sigma1[i, j].full_simplify().collect(k).coefficient(k, 1)\n",
    "        \n",
    "BKL[:, 0] = (bd00 + bd01*ks)*phiS ### First column\n",
    "BKL[:, 1] = (bd00)*phi0 ### Second column\n",
    "\n",
    "DetKL = BKL.determinant().full_simplify()\n",
    "\n",
    "print(\"Kreiss Lopatinskii determinant at z = 1\")\n",
    "pretty_print(taylor(DetKL.full_simplify(), z, 1, 1))\n",
    "\n",
    "print(\"Computation of the long-time solution for the source term in the experiments using residues\")\n",
    "var('j')\n",
    "var('n')\n",
    "\n",
    "Cs = (2+(C-1)*s2)*z*g1m1Tilde/DetKL\n",
    "\n",
    "m1 = Cs*z**(n-1)*ks**(j)*phiS[0, 0]\n",
    "m2 = Cs*z**(n-1)*ks**(j)*phiS[1, 0]\n",
    "\n",
    "print(\"m1_j^n equals approximately (s2 in (0, 2])\")\n",
    "pretty_print(m1.maxima_methods().residue(z,-1) + m1.maxima_methods().residue(z,1))\n",
    "print(\"m2_j^n equals approximately (s2 in (0, 2])\")\n",
    "pretty_print(m2.maxima_methods().residue(z,-1) + m2.maxima_methods().residue(z,1))\n"
   ]
  },
  {
   "cell_type": "code",
   "execution_count": null,
   "id": "a6d7503d",
   "metadata": {},
   "outputs": [],
   "source": [
    "print(\"======= Extrapolation sigma = 2 ======\")\n",
    "\n",
    "for i in range(q):\n",
    "    for j in range(q):\n",
    "        bd00[i, j] = bdMat_sigma2[i, j].full_simplify().collect(k).coefficient(k, 0)\n",
    "        bd01[i, j] = bdMat_sigma2[i, j].full_simplify().collect(k).coefficient(k, 1)\n",
    "        \n",
    "BKL[:, 0] = (bd00 + bd01*ks)*phiS ### First column\n",
    "BKL[:, 1] = (bd00)*phi0 ### Second column\n",
    "\n",
    "DetKL = BKL.determinant().full_simplify()\n",
    "\n",
    "print(\"Kreiss Lopatinskii determinant at z = 1\")\n",
    "pretty_print(taylor(DetKL.full_simplify(), z, 1, 2))\n",
    "\n",
    "print(\"Computation of the long-time solution for the source term in the experiments using residues\")\n",
    "var('j')\n",
    "var('n')\n",
    "\n",
    "Cs = (2+(C-1)*s2)*z*g1m1Tilde/DetKL\n",
    "\n",
    "m1 = Cs*z**(n-1)*ks**(j)*phiS[0, 0]\n",
    "m2 = Cs*z**(n-1)*ks**(j)*phiS[1, 0]\n",
    "\n",
    "print(\"m1_j^n equals approximately (s2 in (0, 2])\")\n",
    "pretty_print(m1.maxima_methods().residue(z,1).factor())\n",
    "print(\"m2_j^n equals approximately (s2 in (0, 2])\")\n",
    "pretty_print(m2.maxima_methods().residue(z,1).factor())\n"
   ]
  },
  {
   "cell_type": "code",
   "execution_count": null,
   "id": "7e97e2a1",
   "metadata": {},
   "outputs": [],
   "source": [
    "print(\"======= Extrapolation sigma = 3 ======\")\n",
    "\n",
    "for i in range(q):\n",
    "    for j in range(q):\n",
    "        bd00[i, j] = bdMat_sigma3[i, j].full_simplify().collect(k).coefficient(k, 0)\n",
    "        bd01[i, j] = bdMat_sigma3[i, j].full_simplify().collect(k).coefficient(k, 1)\n",
    "        bd02[i, j] = bdMat_sigma3[i, j].full_simplify().collect(k).coefficient(k, 2)\n",
    "        \n",
    "BKL[:, 0] = (bd00 + bd01*ks + bd02*ks**2)*phiS ### First column\n",
    "BKL[:, 1] = (bd00)*phi0 ### Second column\n",
    "\n",
    "DetKL = BKL.determinant().full_simplify()\n",
    "\n",
    "print(\"Kreiss Lopatinskii determinant at z = 1\")\n",
    "pretty_print(taylor(DetKL.full_simplify(), z, 1, 3))\n",
    "\n",
    "print(\"Computation of the long-time solution for the source term in the experiments using residues\")\n",
    "var('j')\n",
    "var('n')\n",
    "\n",
    "Cs = (2+(C-1)*s2)*z*g1m1Tilde/DetKL\n",
    "\n",
    "m1 = Cs*z**(n-1)*ks**(j)*phiS[0, 0]\n",
    "m2 = Cs*z**(n-1)*ks**(j)*phiS[1, 0]\n",
    "\n",
    "print(\"m1_j^n equals approximately (s2 in (0, 2])\")\n",
    "pretty_print(m1.maxima_methods().residue(z,1).factor())\n",
    "print(\"m2_j^n equals approximately (s2 in (0, 2])\")\n",
    "pretty_print(m2.maxima_methods().residue(z,1).factor())\n"
   ]
  },
  {
   "cell_type": "code",
   "execution_count": null,
   "id": "81118312",
   "metadata": {},
   "outputs": [],
   "source": [
    "print(\"======= Extrapolation sigma = 4 ======\")\n",
    "\n",
    "for i in range(q):\n",
    "    for j in range(q):\n",
    "        bd00[i, j] = bdMat_sigma4[i, j].full_simplify().collect(k).coefficient(k, 0)\n",
    "        bd01[i, j] = bdMat_sigma4[i, j].full_simplify().collect(k).coefficient(k, 1)\n",
    "        bd02[i, j] = bdMat_sigma4[i, j].full_simplify().collect(k).coefficient(k, 2)\n",
    "        bd03[i, j] = bdMat_sigma4[i, j].full_simplify().collect(k).coefficient(k, 3)\n",
    "        \n",
    "BKL[:, 0] = (bd00 + bd01*ks + bd02*ks**2 + bd03*ks**3)*phiS ### First column\n",
    "BKL[:, 1] = (bd00)*phi0 ### Second column\n",
    "\n",
    "DetKL = BKL.determinant().full_simplify()\n",
    "\n",
    "print(\"Kreiss Lopatinskii determinant at z = 1\")\n",
    "pretty_print(taylor(DetKL.full_simplify(), z, 1, 4))\n",
    "\n",
    "print(\"Computation of the long-time solution for the source term in the experiments using residues\")\n",
    "var('j')\n",
    "var('n')\n",
    "\n",
    "Cs = (2+(C-1)*s2)*z*g1m1Tilde/DetKL\n",
    "\n",
    "m1 = Cs*z**(n-1)*ks**(j)*phiS[0, 0]\n",
    "m2 = Cs*z**(n-1)*ks**(j)*phiS[1, 0]\n",
    "\n",
    "print(\"m1_j^n equals approximately (s2 in (0, 2])\")\n",
    "pretty_print(m1.maxima_methods().residue(z,1).factor())\n",
    "print(\"m2_j^n equals approximately (s2 in (0, 2])\")\n",
    "pretty_print(m2.maxima_methods().residue(z,1).factor())\n"
   ]
  },
  {
   "cell_type": "code",
   "execution_count": null,
   "id": "40ffa874",
   "metadata": {},
   "outputs": [],
   "source": []
  },
  {
   "cell_type": "code",
   "execution_count": null,
   "id": "a77a781c",
   "metadata": {},
   "outputs": [],
   "source": []
  },
  {
   "cell_type": "code",
   "execution_count": null,
   "id": "e621d71d",
   "metadata": {},
   "outputs": [],
   "source": []
  },
  {
   "cell_type": "code",
   "execution_count": null,
   "id": "b0d3ce9f",
   "metadata": {},
   "outputs": [],
   "source": []
  },
  {
   "cell_type": "code",
   "execution_count": null,
   "id": "249f17ed",
   "metadata": {},
   "outputs": [],
   "source": []
  },
  {
   "cell_type": "code",
   "execution_count": null,
   "id": "597cf914",
   "metadata": {},
   "outputs": [],
   "source": [
    "#### We now consider specific values of C and s2, for those boundary conditions which we have not considered so far\n",
    "\n",
    "bdMat_Ext_Eq_sigma1 = z*identity_matrix(q) - M*matrix([[1/2*(1+C), 1/2*(1+C)], [0, k]])*Minv*K ## Extr eq. sigma=1\n",
    "bdMat_Ext_Eq_sigma3 = z*identity_matrix(q) - \\\n",
    "          M*matrix([[1/2*(1+C)*(3-3*k+k**2), 1/2*(1+C)*(3-3*k+k**2)], [0, k]])*Minv*K ## Extr eq. sigma=3\n",
    "bdMat_future = z*identity_matrix(q) - M*matrix([[1/2*(1+C), 1/2*(1+C)*k**2], [0, k]])*Minv*K ## Future\n",
    "bdMat_invented = z*identity_matrix(q) - M*matrix([[1, 2], [0, k]])*Minv*K ## Invented\n",
    "\n",
    "\n",
    "for param in [(3/2, -1/2), (2, -1/2), (3/2, 1/2), (2, 1/2)]:\n",
    "#for param in [(3/2, -1/2)]:\n",
    "\n",
    "    s2Val = param[0]\n",
    "    CVal  = param[1]\n",
    "    \n",
    "    print('======== s2 = '+str(s2Val)+'   C = '+str(CVal)+' ========')\n",
    "    \n",
    "    print('Extrapolated equilibrium sigma = 1')\n",
    "    roots = solve([charEq.subs(s2==s2Val, C==CVal).full_simplify(), \\\n",
    "                   bdMat_Ext_Eq_sigma1.subs(s2==s2Val, C==CVal).determinant().full_simplify()], [z, k])\n",
    "    for root in roots:\n",
    "        pretty_print(root)\n",
    "        print('abs of z = '+str(abs(root[0].rhs()).n())+'   abs of k = '+str(abs(root[1].rhs()).n()))\n",
    "        \n",
    "    print('------')\n",
    "    print('Extrapolated equilibrium sigma = 3')\n",
    "    roots = solve([charEq.subs(s2==s2Val, C==CVal).full_simplify(), \\\n",
    "                   bdMat_Ext_Eq_sigma3.subs(s2==s2Val, C==CVal).determinant().full_simplify()], [z, k])\n",
    "    for root in roots:\n",
    "        pretty_print(root)\n",
    "        print('abs of z = '+str(abs(root[0].rhs()).n())+'   abs of k = '+str(abs(root[1].rhs()).n()))\n",
    "    \n",
    "    print('------')\n",
    "    print('Future')\n",
    "    roots = solve([charEq.subs(s2==s2Val, C==CVal).full_simplify(), \\\n",
    "                   bdMat_future.subs(s2==s2Val, C==CVal).determinant().full_simplify()], [z, k])\n",
    "    for root in roots:\n",
    "        pretty_print(root)\n",
    "        print('abs of z = '+str(abs(root[0].rhs()).n())+'   abs of k = '+str(abs(root[1].rhs()).n()))\n",
    "        \n",
    "    print('------')\n",
    "    print('Invented')\n",
    "    roots = solve([charEq.subs(s2==s2Val, C==CVal).full_simplify(), \\\n",
    "                   bdMat_invented.subs(s2==s2Val, C==CVal).determinant().full_simplify()], [z, k])\n",
    "    for root in roots:\n",
    "        pretty_print(root)\n",
    "        print('abs of z = '+str(abs(root[0].rhs()).n())+'   abs of k = '+str(abs(root[1].rhs()).n()))"
   ]
  },
  {
   "cell_type": "code",
   "execution_count": null,
   "id": "85a16cb0",
   "metadata": {},
   "outputs": [],
   "source": []
  },
  {
   "cell_type": "code",
   "execution_count": null,
   "id": "e9e0408a",
   "metadata": {},
   "outputs": [],
   "source": []
  },
  {
   "cell_type": "code",
   "execution_count": null,
   "id": "736ab394",
   "metadata": {},
   "outputs": [],
   "source": []
  },
  {
   "cell_type": "code",
   "execution_count": null,
   "id": "37d520b0",
   "metadata": {},
   "outputs": [],
   "source": []
  },
  {
   "cell_type": "code",
   "execution_count": null,
   "id": "6aaaf97f",
   "metadata": {},
   "outputs": [],
   "source": []
  },
  {
   "cell_type": "code",
   "execution_count": 43,
   "id": "c255068f",
   "metadata": {},
   "outputs": [
    {
     "data": {
      "text/html": [
       "<html>\\(\\displaystyle {z}^{4} + 2 \\, {\\left(2 \\, {\\mathcal{C}}^{2} + {\\mathcal{C}} - 1\\right)} {z}^{2} - \\sqrt{{z}^{4} + 2 \\, {\\left(2 \\, {\\mathcal{C}}^{2} - 1\\right)} {z}^{2} + 1} {\\left({z}^{2} + 2 \\, {\\mathcal{C}} - 1\\right)} - 2 \\, {\\mathcal{C}} + 1\\)</html>"
      ],
      "text/latex": [
       "$\\displaystyle {z}^{4} + 2 \\, {\\left(2 \\, {\\mathcal{C}}^{2} + {\\mathcal{C}} - 1\\right)} {z}^{2} - \\sqrt{{z}^{4} + 2 \\, {\\left(2 \\, {\\mathcal{C}}^{2} - 1\\right)} {z}^{2} + 1} {\\left({z}^{2} + 2 \\, {\\mathcal{C}} - 1\\right)} - 2 \\, {\\mathcal{C}} + 1$"
      ],
      "text/plain": [
       "z^4 + 2*(2*C^2 + C - 1)*z^2 - sqrt(z^4 + 2*(2*C^2 - 1)*z^2 + 1)*(z^2 + 2*C - 1) - 2*C + 1"
      ]
     },
     "metadata": {},
     "output_type": "display_data"
    }
   ],
   "source": [
    "pretty_print(phiS[1, 0].numerator().subs(s2==2).full_simplify())"
   ]
  },
  {
   "cell_type": "code",
   "execution_count": 23,
   "id": "e053b274",
   "metadata": {},
   "outputs": [
    {
     "data": {
      "text/html": [
       "<html>\\(\\displaystyle 8 \\, {\\mathcal{C}}^{2}\\)</html>"
      ],
      "text/latex": [
       "$\\displaystyle 8 \\, {\\mathcal{C}}^{2}$"
      ],
      "text/plain": [
       "8*C^2"
      ]
     },
     "metadata": {},
     "output_type": "display_data"
    }
   ],
   "source": [
    "pretty_print(phiS[1, 0].numerator().subs(s2==2, z=-1))"
   ]
  },
  {
   "cell_type": "code",
   "execution_count": 41,
   "id": "320c8725",
   "metadata": {},
   "outputs": [
    {
     "data": {
      "text/html": [
       "<html>\\(\\displaystyle \\frac{{z}^{4} + 2 \\, {\\left(2 \\, {\\mathcal{C}}^{2} + {\\mathcal{C}} - 1\\right)} {z}^{2} - \\sqrt{{z}^{4} + 2 \\, {\\left(2 \\, {\\mathcal{C}}^{2} - 1\\right)} {z}^{2} + 1} {\\left({z}^{2} + 2 \\, {\\mathcal{C}} - 1\\right)} - 2 \\, {\\mathcal{C}} + 1}{{z}^{4} - 2 \\, {z}^{2} - \\sqrt{{z}^{4} + 2 \\, {\\left(2 \\, {\\mathcal{C}}^{2} - 1\\right)} {z}^{2} + 1} {\\left({z}^{2} - 1\\right)} + 1}\\)</html>"
      ],
      "text/latex": [
       "$\\displaystyle \\frac{{z}^{4} + 2 \\, {\\left(2 \\, {\\mathcal{C}}^{2} + {\\mathcal{C}} - 1\\right)} {z}^{2} - \\sqrt{{z}^{4} + 2 \\, {\\left(2 \\, {\\mathcal{C}}^{2} - 1\\right)} {z}^{2} + 1} {\\left({z}^{2} + 2 \\, {\\mathcal{C}} - 1\\right)} - 2 \\, {\\mathcal{C}} + 1}{{z}^{4} - 2 \\, {z}^{2} - \\sqrt{{z}^{4} + 2 \\, {\\left(2 \\, {\\mathcal{C}}^{2} - 1\\right)} {z}^{2} + 1} {\\left({z}^{2} - 1\\right)} + 1}$"
      ],
      "text/plain": [
       "(z^4 + 2*(2*C^2 + C - 1)*z^2 - sqrt(z^4 + 2*(2*C^2 - 1)*z^2 + 1)*(z^2 + 2*C - 1) - 2*C + 1)/(z^4 - 2*z^2 - sqrt(z^4 + 2*(2*C^2 - 1)*z^2 + 1)*(z^2 - 1) + 1)"
      ]
     },
     "metadata": {},
     "output_type": "display_data"
    }
   ],
   "source": [
    "pretty_print((Lz[0, 0]/Lz[0, 1]).subs(k==ks).subs(s2==2).full_simplify())"
   ]
  },
  {
   "cell_type": "code",
   "execution_count": null,
   "id": "5b086711",
   "metadata": {},
   "outputs": [],
   "source": []
  }
 ],
 "metadata": {
  "kernelspec": {
   "display_name": "SageMath 10.0",
   "language": "sage",
   "name": "sagemath"
  },
  "language_info": {
   "codemirror_mode": {
    "name": "ipython",
    "version": 3
   },
   "file_extension": ".py",
   "mimetype": "text/x-python",
   "name": "python",
   "nbconvert_exporter": "python",
   "pygments_lexer": "ipython3",
   "version": "3.11.9"
  }
 },
 "nbformat": 4,
 "nbformat_minor": 5
}
