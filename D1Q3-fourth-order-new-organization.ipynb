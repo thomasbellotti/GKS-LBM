{
 "cells": [
  {
   "cell_type": "code",
   "execution_count": 2,
   "id": "c32f7434",
   "metadata": {},
   "outputs": [
    {
     "name": "stdout",
     "output_type": "stream",
     "text": [
      "!! Sanity check: the result must be zero.\n"
     ]
    },
    {
     "data": {
      "text/html": [
       "<html>\\(\\displaystyle 0\\)</html>"
      ],
      "text/latex": [
       "$\\displaystyle 0$"
      ],
      "text/plain": [
       "0"
      ]
     },
     "metadata": {},
     "output_type": "display_data"
    }
   ],
   "source": [
    "#### Constants in the scheme\n",
    "C = var(\"C\", latex_name=\"\\\\mathcal{C}\") ## Courant number\n",
    "s1 = var(\"s1\", latex_name=\"s_1\")        ## First relaxation parameter (useless)\n",
    "s2 = var(\"s2\", latex_name=\"s_2\")        ## Second relaxation parameter\n",
    "s3 = var(\"s3\", latex_name=\"s_3\")        ## Third relaxation parameter\n",
    "\n",
    "assume(C,'real')\n",
    "assume(C>-1/2)\n",
    "assume(C< 1/2)\n",
    "\n",
    "s2 = 2\n",
    "s3 = 2\n",
    "\n",
    "#### Pieces involved in the scheme\n",
    "q = 3 ## Number of discrete velocities\n",
    "c1 = 0  ## First discrete velocity\n",
    "c2 = 1  ## Second discrete velocity\n",
    "c3 = -1 ## Third discrete velocity\n",
    "r = 1 ## Stencil to the left\n",
    "p = 1 ## Stencil to the right\n",
    "M = matrix([[1,  1,  1], \\\n",
    "            [0,  1, -1], \\\n",
    "            [0,  1,  1]]) ## Moment matrix\n",
    "eps1 = 1              ## First equilibrium coefficient (useless)\n",
    "eps2 = C              ## Second equilibrium coefficient\n",
    "eps3 = 1/3*(1+2*C**2) ## Third equilibrium coefficient\n",
    "\n",
    "#### Construction of the objects involved in the analysis\n",
    "k = var(\"kappa\", latex_name=\"\\\\kappa\")\n",
    "#assume(k>0)\n",
    "\n",
    "Minv = M.inverse()\n",
    "K = identity_matrix(q)+diagonal_matrix([s1, s2, s3])\\\n",
    "        *(matrix([[eps1], [eps2], [eps3]])*matrix([[1, 0, 0]])-identity_matrix(q))\n",
    "Ehat = M*diagonal_matrix([k**(-c1), k**(-c2), k**(-c3)])*Minv*K #### Bulk matrix scheme \"Fourier\"\n",
    "for i in range(q):\n",
    "    for j in range(q):\n",
    "        Ehat[i, j] = Ehat[i, j].full_simplify().collect(k)\n",
    "    \n",
    "z = var(\"z\", latex_name=\"z\")\n",
    "#assume(z>0)\n",
    "\n",
    "charEq = (z*identity_matrix(q)-Ehat).determinant().full_simplify().collect(k) #### Characteristic equation\n",
    "dm1 = charEq.coefficient(k, -1).collect(z) ### Coefficient d_{-1} of the characteristic equation\n",
    "d0  = charEq.coefficient(k,  0).collect(z) ### Coefficient d_{0} of the characteristic equation\n",
    "dp1 = charEq.coefficient(k,  1).collect(z) ### Coefficient d_{1} of the characteristic equation\n",
    "\n",
    "Em1 = matrix(SR, q, q) ### Matrix for the point -1\n",
    "E0  = matrix(SR, q, q) ### Matrix for the point 0\n",
    "Ep1 = matrix(SR, q, q) ### Matrix for the point 1\n",
    "for i in range(q):\n",
    "    for j in range(q):\n",
    "        Em1[i, j] = Ehat[i, j].coefficient(k, -1)\n",
    "        E0[i, j]  = Ehat[i, j].coefficient(k,  0)\n",
    "        Ep1[i, j] = Ehat[i, j].coefficient(k,  1)\n",
    "Lz = - Em1 + (z*identity_matrix(q)-E0)*k - Ep1*k**2 ### Matrix polynomial in k\n",
    "print('!! Sanity check: the result must be zero.')\n",
    "pretty_print((Lz.determinant()/k**(r*q)-charEq).full_simplify()) ### Sanity check\n",
    "\n",
    "kplus  = ((-d0+sqrt(d0**2-4*dp1*dm1))/2/dp1).full_simplify() ### Root of the char eq with the plus\n",
    "kminus = ((-d0-sqrt(d0**2-4*dp1*dm1))/2/dp1).full_simplify() ### Root of the char eq with the minus\n",
    "\n",
    "\n",
    "Pi = (dm1/dp1).full_simplify() ### This is the product of the roots in k "
   ]
  },
  {
   "cell_type": "code",
   "execution_count": 3,
   "id": "f2af1f90",
   "metadata": {},
   "outputs": [],
   "source": [
    "##### Boundary conditions that we analyze for any value of C and s_2 and s_3\n",
    "bdMat_BB = z*identity_matrix(q) - M*matrix([[1, 0, 0], [0, 0, 1], [0, 0, k]])*Minv*K ## Bounce back\n",
    "bdMat_ABB = z*identity_matrix(q) - M*matrix([[1, 0, 0], [0, 0, -1], [0, 0, k]])*Minv*K ## Anti Bounce back\n",
    "bdMat_TwoABB = z*identity_matrix(q) - M*matrix([[1, 0, 0], [-1, 0, -k], [0, 0, k]])*Minv*K ## Two steps Anti Bounce back\n",
    "bdMat_sigma1 = z*identity_matrix(q) - M*matrix([[1, 0, 0], [0, 1, 0], [0, 0, k]])*Minv*K ## Extrapolation sigma = 1\n",
    "bdMat_sigma2 = z*identity_matrix(q) - M*matrix([[1, 0, 0], [0, 2-k, 0], [0, 0, k]])*Minv*K ## Extrapolation sigma = 2\n",
    "bdMat_sigma3 = z*identity_matrix(q) - M*matrix([[1, 0, 0], [0, 3-3*k+k**2, 0], [0, 0, k]])*Minv*K ## Extrapolation sigma = 3\n",
    "bdMat_sigma4 = z*identity_matrix(q) - M*matrix([[1, 0, 0], [0, 4-6*k+4*k**2-k**3, 0], [0, 0, k]])*Minv*K ## Extrapolation sigma = 4\n",
    "bdMat_kinDir = z*identity_matrix(q) - M*matrix([[1, 0, 0], [0, 0, 0], [0, 0, k]])*Minv*K ## Kinetic dirichlet"
   ]
  },
  {
   "cell_type": "code",
   "execution_count": 4,
   "id": "c0b07f63",
   "metadata": {},
   "outputs": [
    {
     "name": "stdout",
     "output_type": "stream",
     "text": [
      "Bounce back\n"
     ]
    },
    {
     "data": {
      "text/html": [
       "<html>\\(\\displaystyle \\left[\\left[{z} = 0, {\\kappa} = 0\\right], \\left[{z} = 1, {\\kappa} = \\left(-1\\right)\\right], \\left[{z} = \\left(-1\\right), {\\kappa} = 1\\right]\\right]\\)</html>"
      ],
      "text/latex": [
       "$\\displaystyle \\left[\\left[{z} = 0, {\\kappa} = 0\\right], \\left[{z} = 1, {\\kappa} = \\left(-1\\right)\\right], \\left[{z} = \\left(-1\\right), {\\kappa} = 1\\right]\\right]$"
      ],
      "text/plain": [
       "[[z == 0, kappa == 0], [z == 1, kappa == -1], [z == -1, kappa == 1]]"
      ]
     },
     "metadata": {},
     "output_type": "display_data"
    },
    {
     "name": "stdout",
     "output_type": "stream",
     "text": [
      "Anti Bounce back\n"
     ]
    },
    {
     "data": {
      "text/html": [
       "<html>\\(\\displaystyle \\left[\\left[{z} = 0, {\\kappa} = 0\\right], \\left[{z} = \\left(-1\\right), {\\kappa} = 1\\right]\\right]\\)</html>"
      ],
      "text/latex": [
       "$\\displaystyle \\left[\\left[{z} = 0, {\\kappa} = 0\\right], \\left[{z} = \\left(-1\\right), {\\kappa} = 1\\right]\\right]$"
      ],
      "text/plain": [
       "[[z == 0, kappa == 0], [z == -1, kappa == 1]]"
      ]
     },
     "metadata": {},
     "output_type": "display_data"
    },
    {
     "name": "stdout",
     "output_type": "stream",
     "text": [
      "Two steps anti Bounce back\n"
     ]
    },
    {
     "data": {
      "text/html": [
       "<html>\\(\\displaystyle \\left[\\left[{z} = 0, {\\kappa} = 0\\right], \\left[{z} = \\left(-1\\right), {\\kappa} = 1\\right], \\left[{z} = 1, {\\kappa} = \\left(-1\\right)\\right]\\right]\\)</html>"
      ],
      "text/latex": [
       "$\\displaystyle \\left[\\left[{z} = 0, {\\kappa} = 0\\right], \\left[{z} = \\left(-1\\right), {\\kappa} = 1\\right], \\left[{z} = 1, {\\kappa} = \\left(-1\\right)\\right]\\right]$"
      ],
      "text/plain": [
       "[[z == 0, kappa == 0], [z == -1, kappa == 1], [z == 1, kappa == -1]]"
      ]
     },
     "metadata": {},
     "output_type": "display_data"
    },
    {
     "name": "stdout",
     "output_type": "stream",
     "text": [
      "Extrapolation sigma = 1\n"
     ]
    },
    {
     "data": {
      "text/html": [
       "<html>\\(\\displaystyle \\left[\\left[{z} = \\left(-1\\right), {\\kappa} = 1\\right], \\left[{z} = 1, {\\kappa} = 1\\right], \\left[{z} = 0, {\\kappa} = 0\\right]\\right]\\)</html>"
      ],
      "text/latex": [
       "$\\displaystyle \\left[\\left[{z} = \\left(-1\\right), {\\kappa} = 1\\right], \\left[{z} = 1, {\\kappa} = 1\\right], \\left[{z} = 0, {\\kappa} = 0\\right]\\right]$"
      ],
      "text/plain": [
       "[[z == -1, kappa == 1], [z == 1, kappa == 1], [z == 0, kappa == 0]]"
      ]
     },
     "metadata": {},
     "output_type": "display_data"
    },
    {
     "name": "stdout",
     "output_type": "stream",
     "text": [
      "Extrapolation sigma = 2\n"
     ]
    },
    {
     "data": {
      "text/html": [
       "<html>\\(\\displaystyle \\left[\\left[{z} = \\left(-1\\right), {\\kappa} = 1\\right], \\left[{z} = 1, {\\kappa} = 1\\right], \\left[{z} = 0, {\\kappa} = 0\\right]\\right]\\)</html>"
      ],
      "text/latex": [
       "$\\displaystyle \\left[\\left[{z} = \\left(-1\\right), {\\kappa} = 1\\right], \\left[{z} = 1, {\\kappa} = 1\\right], \\left[{z} = 0, {\\kappa} = 0\\right]\\right]$"
      ],
      "text/plain": [
       "[[z == -1, kappa == 1], [z == 1, kappa == 1], [z == 0, kappa == 0]]"
      ]
     },
     "metadata": {},
     "output_type": "display_data"
    },
    {
     "name": "stdout",
     "output_type": "stream",
     "text": [
      "Extrapolation sigma = 3\n"
     ]
    },
    {
     "data": {
      "text/html": [
       "<html>\\(\\displaystyle \\left[\\left[{z} = \\left(-1\\right), {\\kappa} = 1\\right], \\left[{z} = 1, {\\kappa} = 1\\right], \\left[{z} = 0, {\\kappa} = 0\\right]\\right]\\)</html>"
      ],
      "text/latex": [
       "$\\displaystyle \\left[\\left[{z} = \\left(-1\\right), {\\kappa} = 1\\right], \\left[{z} = 1, {\\kappa} = 1\\right], \\left[{z} = 0, {\\kappa} = 0\\right]\\right]$"
      ],
      "text/plain": [
       "[[z == -1, kappa == 1], [z == 1, kappa == 1], [z == 0, kappa == 0]]"
      ]
     },
     "metadata": {},
     "output_type": "display_data"
    },
    {
     "name": "stdout",
     "output_type": "stream",
     "text": [
      "Extrapolation sigma = 4\n"
     ]
    },
    {
     "data": {
      "text/html": [
       "<html>\\(\\displaystyle \\left[\\left[{z} = \\left(-1\\right), {\\kappa} = 1\\right], \\left[{z} = 1, {\\kappa} = 1\\right], \\left[{z} = 0, {\\kappa} = 0\\right]\\right]\\)</html>"
      ],
      "text/latex": [
       "$\\displaystyle \\left[\\left[{z} = \\left(-1\\right), {\\kappa} = 1\\right], \\left[{z} = 1, {\\kappa} = 1\\right], \\left[{z} = 0, {\\kappa} = 0\\right]\\right]$"
      ],
      "text/plain": [
       "[[z == -1, kappa == 1], [z == 1, kappa == 1], [z == 0, kappa == 0]]"
      ]
     },
     "metadata": {},
     "output_type": "display_data"
    },
    {
     "name": "stdout",
     "output_type": "stream",
     "text": [
      "Kinetic Dirichlet\n"
     ]
    },
    {
     "data": {
      "text/html": [
       "<html>\\(\\displaystyle \\left[\\left[{z} = 0, {\\kappa} = 0\\right], \\left[{z} = \\left(-1\\right), {\\kappa} = 1\\right]\\right]\\)</html>"
      ],
      "text/latex": [
       "$\\displaystyle \\left[\\left[{z} = 0, {\\kappa} = 0\\right], \\left[{z} = \\left(-1\\right), {\\kappa} = 1\\right]\\right]$"
      ],
      "text/plain": [
       "[[z == 0, kappa == 0], [z == -1, kappa == 1]]"
      ]
     },
     "metadata": {},
     "output_type": "display_data"
    }
   ],
   "source": [
    "##### We find the critical (z, k) eigenvalues between boundary and bulk\n",
    "print(\"Bounce back\")\n",
    "pretty_print(solve([charEq.full_simplify(), bdMat_BB.determinant().full_simplify()], (z, k)))\n",
    "print(\"Anti Bounce back\")\n",
    "pretty_print(solve([charEq.full_simplify(), bdMat_ABB.determinant().full_simplify()], (z, k))) \n",
    "print(\"Two steps anti Bounce back\")\n",
    "pretty_print(solve([charEq.full_simplify(), bdMat_TwoABB.determinant().full_simplify()], (z, k)))\n",
    "print(\"Extrapolation sigma = 1\")\n",
    "pretty_print(solve([charEq.full_simplify(), bdMat_sigma1.determinant().full_simplify()], (z, k)))\n",
    "print(\"Extrapolation sigma = 2\")\n",
    "pretty_print(solve([charEq.full_simplify(), bdMat_sigma2.determinant().full_simplify()], (z, k)))\n",
    "print(\"Extrapolation sigma = 3\")\n",
    "pretty_print(solve([charEq.full_simplify(), bdMat_sigma3.determinant().full_simplify()], (z, k)))\n",
    "print(\"Extrapolation sigma = 4\")\n",
    "pretty_print(solve([charEq.full_simplify(), bdMat_sigma4.determinant().full_simplify()], (z, k)))\n",
    "print(\"Kinetic Dirichlet\")\n",
    "pretty_print(solve([charEq.full_simplify(), bdMat_kinDir.determinant().full_simplify()], (z, k)))"
   ]
  },
  {
   "cell_type": "code",
   "execution_count": 5,
   "id": "19fb8d53",
   "metadata": {},
   "outputs": [
    {
     "name": "stdout",
     "output_type": "stream",
     "text": [
      "Bounce back\n"
     ]
    },
    {
     "data": {
      "text/html": [
       "<html>\\(\\displaystyle \\left[\\left[{z} = 0, {\\kappa} = 0\\right], \\left[{z} = 1, {\\kappa} = \\left(-1\\right)\\right], \\left[{z} = \\left(-1\\right), {\\kappa} = 1\\right]\\right]\\)</html>"
      ],
      "text/latex": [
       "$\\displaystyle \\left[\\left[{z} = 0, {\\kappa} = 0\\right], \\left[{z} = 1, {\\kappa} = \\left(-1\\right)\\right], \\left[{z} = \\left(-1\\right), {\\kappa} = 1\\right]\\right]$"
      ],
      "text/plain": [
       "[[z == 0, kappa == 0], [z == 1, kappa == -1], [z == -1, kappa == 1]]"
      ]
     },
     "metadata": {},
     "output_type": "display_data"
    },
    {
     "name": "stdout",
     "output_type": "stream",
     "text": [
      "Anti Bounce back\n"
     ]
    },
    {
     "data": {
      "text/html": [
       "<html>\\(\\displaystyle \\left[\\left[{z} = 0, {\\kappa} = 0\\right], \\left[{z} = \\left(-1\\right), {\\kappa} = 1\\right], \\left[{z} = -\\frac{16}{507} i \\, \\sqrt{935} + \\frac{133}{507}, {\\kappa} = -\\frac{1872}{73529} i \\, \\sqrt{935} - \\frac{46151}{73529}\\right], \\left[{z} = \\frac{16}{507} i \\, \\sqrt{935} + \\frac{133}{507}, {\\kappa} = \\frac{1872}{73529} i \\, \\sqrt{935} - \\frac{46151}{73529}\\right]\\right]\\)</html>"
      ],
      "text/latex": [
       "$\\displaystyle \\left[\\left[{z} = 0, {\\kappa} = 0\\right], \\left[{z} = \\left(-1\\right), {\\kappa} = 1\\right], \\left[{z} = -\\frac{16}{507} i \\, \\sqrt{935} + \\frac{133}{507}, {\\kappa} = -\\frac{1872}{73529} i \\, \\sqrt{935} - \\frac{46151}{73529}\\right], \\left[{z} = \\frac{16}{507} i \\, \\sqrt{935} + \\frac{133}{507}, {\\kappa} = \\frac{1872}{73529} i \\, \\sqrt{935} - \\frac{46151}{73529}\\right]\\right]$"
      ],
      "text/plain": [
       "[[z == 0, kappa == 0], [z == -1, kappa == 1], [z == -16/507*I*sqrt(935) + 133/507, kappa == -1872/73529*I*sqrt(935) - 46151/73529], [z == 16/507*I*sqrt(935) + 133/507, kappa == 1872/73529*I*sqrt(935) - 46151/73529]]"
      ]
     },
     "metadata": {},
     "output_type": "display_data"
    },
    {
     "name": "stdout",
     "output_type": "stream",
     "text": [
      "!!!! We see that the previous computation for any value of C for the anti bounce back condition has missed a couple of complex conjugate roots\n",
      "Two steps anti Bounce back\n"
     ]
    },
    {
     "data": {
      "text/html": [
       "<html>\\(\\displaystyle \\left[\\left[{z} = 0, {\\kappa} = 0\\right], \\left[{z} = \\left(-1\\right), {\\kappa} = 1\\right], \\left[{z} = 1, {\\kappa} = \\left(-1\\right)\\right]\\right]\\)</html>"
      ],
      "text/latex": [
       "$\\displaystyle \\left[\\left[{z} = 0, {\\kappa} = 0\\right], \\left[{z} = \\left(-1\\right), {\\kappa} = 1\\right], \\left[{z} = 1, {\\kappa} = \\left(-1\\right)\\right]\\right]$"
      ],
      "text/plain": [
       "[[z == 0, kappa == 0], [z == -1, kappa == 1], [z == 1, kappa == -1]]"
      ]
     },
     "metadata": {},
     "output_type": "display_data"
    },
    {
     "name": "stdout",
     "output_type": "stream",
     "text": [
      "Extrapolation sigma = 1\n"
     ]
    },
    {
     "data": {
      "text/html": [
       "<html>\\(\\displaystyle \\left[\\left[{z} = \\left(-1\\right), {\\kappa} = 1\\right], \\left[{z} = 1, {\\kappa} = 1\\right], \\left[{z} = 0, {\\kappa} = 0\\right]\\right]\\)</html>"
      ],
      "text/latex": [
       "$\\displaystyle \\left[\\left[{z} = \\left(-1\\right), {\\kappa} = 1\\right], \\left[{z} = 1, {\\kappa} = 1\\right], \\left[{z} = 0, {\\kappa} = 0\\right]\\right]$"
      ],
      "text/plain": [
       "[[z == -1, kappa == 1], [z == 1, kappa == 1], [z == 0, kappa == 0]]"
      ]
     },
     "metadata": {},
     "output_type": "display_data"
    },
    {
     "name": "stdout",
     "output_type": "stream",
     "text": [
      "Extrapolation sigma = 2\n"
     ]
    },
    {
     "data": {
      "text/html": [
       "<html>\\(\\displaystyle \\left[\\left[{z} = \\left(-1\\right), {\\kappa} = 1\\right], \\left[{z} = 1, {\\kappa} = 1\\right], \\left[{z} = 0, {\\kappa} = 0\\right]\\right]\\)</html>"
      ],
      "text/latex": [
       "$\\displaystyle \\left[\\left[{z} = \\left(-1\\right), {\\kappa} = 1\\right], \\left[{z} = 1, {\\kappa} = 1\\right], \\left[{z} = 0, {\\kappa} = 0\\right]\\right]$"
      ],
      "text/plain": [
       "[[z == -1, kappa == 1], [z == 1, kappa == 1], [z == 0, kappa == 0]]"
      ]
     },
     "metadata": {},
     "output_type": "display_data"
    },
    {
     "name": "stdout",
     "output_type": "stream",
     "text": [
      "Extrapolation sigma = 3\n"
     ]
    },
    {
     "data": {
      "text/html": [
       "<html>\\(\\displaystyle \\left[\\left[{z} = \\left(-1\\right), {\\kappa} = 1\\right], \\left[{z} = 1, {\\kappa} = 1\\right], \\left[{z} = 0, {\\kappa} = 0\\right]\\right]\\)</html>"
      ],
      "text/latex": [
       "$\\displaystyle \\left[\\left[{z} = \\left(-1\\right), {\\kappa} = 1\\right], \\left[{z} = 1, {\\kappa} = 1\\right], \\left[{z} = 0, {\\kappa} = 0\\right]\\right]$"
      ],
      "text/plain": [
       "[[z == -1, kappa == 1], [z == 1, kappa == 1], [z == 0, kappa == 0]]"
      ]
     },
     "metadata": {},
     "output_type": "display_data"
    },
    {
     "name": "stdout",
     "output_type": "stream",
     "text": [
      "Extrapolation sigma = 4\n"
     ]
    },
    {
     "data": {
      "text/html": [
       "<html>\\(\\displaystyle \\left[\\left[{z} = \\left(-1\\right), {\\kappa} = 1\\right], \\left[{z} = 1, {\\kappa} = 1\\right], \\left[{z} = 0, {\\kappa} = 0\\right]\\right]\\)</html>"
      ],
      "text/latex": [
       "$\\displaystyle \\left[\\left[{z} = \\left(-1\\right), {\\kappa} = 1\\right], \\left[{z} = 1, {\\kappa} = 1\\right], \\left[{z} = 0, {\\kappa} = 0\\right]\\right]$"
      ],
      "text/plain": [
       "[[z == -1, kappa == 1], [z == 1, kappa == 1], [z == 0, kappa == 0]]"
      ]
     },
     "metadata": {},
     "output_type": "display_data"
    },
    {
     "name": "stdout",
     "output_type": "stream",
     "text": [
      "Kinetic Dirichlet\n"
     ]
    },
    {
     "data": {
      "text/html": [
       "<html>\\(\\displaystyle \\left[\\left[{z} = 0, {\\kappa} = 0\\right], \\left[{z} = \\left(-1\\right), {\\kappa} = 1\\right]\\right]\\)</html>"
      ],
      "text/latex": [
       "$\\displaystyle \\left[\\left[{z} = 0, {\\kappa} = 0\\right], \\left[{z} = \\left(-1\\right), {\\kappa} = 1\\right]\\right]$"
      ],
      "text/plain": [
       "[[z == 0, kappa == 0], [z == -1, kappa == 1]]"
      ]
     },
     "metadata": {},
     "output_type": "display_data"
    }
   ],
   "source": [
    "##### Sanity check : we set some values for C and see if we find more\n",
    "##### Sometimes sagemath does not give all the roots\n",
    "\n",
    "C_val = -3/13\n",
    "\n",
    "print(\"Bounce back\")\n",
    "pretty_print(solve([charEq.subs(C=C_val).full_simplify(), bdMat_BB.subs(C=C_val).determinant().full_simplify()], (z, k)))\n",
    "print(\"Anti Bounce back\")\n",
    "pretty_print(solve([charEq.subs(C=C_val).full_simplify(), bdMat_ABB.subs(C=C_val).determinant().full_simplify()], (z, k)))\n",
    "print(\"!!!! We see that the previous computation for any value of C for the anti bounce back condition has missed a couple of complex conjugate roots\")\n",
    "print(\"Two steps anti Bounce back\")\n",
    "pretty_print(solve([charEq.subs(C=C_val).full_simplify(), bdMat_TwoABB.subs(C=C_val).determinant().full_simplify()], (z, k)))\n",
    "print(\"Extrapolation sigma = 1\")\n",
    "pretty_print(solve([charEq.subs(C=C_val).full_simplify(), bdMat_sigma1.subs(C=C_val).determinant().full_simplify()], (z, k)))\n",
    "print(\"Extrapolation sigma = 2\")\n",
    "pretty_print(solve([charEq.subs(C=C_val).full_simplify(), bdMat_sigma2.subs(C=C_val).determinant().full_simplify()], (z, k)))\n",
    "print(\"Extrapolation sigma = 3\")\n",
    "pretty_print(solve([charEq.subs(C=C_val).full_simplify(), bdMat_sigma3.subs(C=C_val).determinant().full_simplify()], (z, k)))\n",
    "print(\"Extrapolation sigma = 4\")\n",
    "pretty_print(solve([charEq.subs(C=C_val).full_simplify(), bdMat_sigma4.subs(C=C_val).determinant().full_simplify()], (z, k)))\n",
    "print(\"Kinetic Dirichlet\")\n",
    "pretty_print(solve([charEq.subs(C=C_val).full_simplify(), bdMat_kinDir.subs(C=C_val).determinant().full_simplify()], (z, k)))"
   ]
  },
  {
   "cell_type": "code",
   "execution_count": null,
   "id": "7e51719d",
   "metadata": {},
   "outputs": [],
   "source": []
  },
  {
   "cell_type": "code",
   "execution_count": 6,
   "id": "58f742d0",
   "metadata": {},
   "outputs": [
    {
     "name": "stdout",
     "output_type": "stream",
     "text": [
      "We study possible blowups of the stable eigenvector close to the unit circle\n",
      "[\n",
      "z == -1,\n",
      "z == 1,\n",
      "0 == 81*(6*C^2 + 3*C - 2)*z^13 + 81*z^14 + 27*(36*C^4 + 48*C^3 - 7*C^2 - 9*C + 1)*z^12 + 3*(232*C^6 + 732*C^5 + 366*C^4 + 21*C^3 - 24*C^2 - 78*C - 9*sqrt(6*(4*C^2 - 1)*z^5 + 9*z^6 + 9*(4*C^2 - 1)*z^4 + 12*(2*C^2 + 1)*z^3 + 9*(4*C^2 - 1)*z^2 + 6*(4*C^2 - 1)*z + 9) + 20)*z^11 + 3*(32*C^8 + 384*C^7 + 632*C^6 + 612*C^5 + 396*C^4 - 189*C^3 - 125*C^2 - 3*sqrt(6*(4*C^2 - 1)*z^5 + 9*z^6 + 9*(4*C^2 - 1)*z^4 + 12*(2*C^2 + 1)*z^3 + 9*(4*C^2 - 1)*z^2 + 6*(4*C^2 - 1)*z + 9)*(14*C^2 + 9*C - 5) + 30*C - 17)*z^10 + (512*C^8 + 1488*C^7 + 2824*C^6 + 1116*C^5 - 258*C^4 - 216*C^3 - 608*C^2 - 9*sqrt(6*(4*C^2 - 1)*z^5 + 9*z^6 + 9*(4*C^2 - 1)*z^4 + 12*(2*C^2 + 1)*z^3 + 9*(4*C^2 - 1)*z^2 + 6*(4*C^2 - 1)*z + 9)*(20*C^4 + 36*C^3 - 3*C^2 - 6*C + 1) - 39*C + 122)*z^9 + (448*C^8 + 1776*C^7 + 2120*C^6 + 756*C^5 - 1470*C^4 - 1224*C^3 + 296*C^2 - 3*(24*C^6 + 124*C^5 + 70*C^4 + C^3 + 19*C^2 - 17*C - 5)*sqrt(6*(4*C^2 - 1)*z^5 + 9*z^6 + 9*(4*C^2 - 1)*z^4 + 12*(2*C^2 + 1)*z^3 + 9*(4*C^2 - 1)*z^2 + 6*(4*C^2 - 1)*z + 9) + 231*C - 17)*z^8 - (32*C^8 - 2976*C^7 - 224*C^6 + 2448*C^5 + 30*C^4 - 342*C^3 - 56*C^2 + (80*C^7 + 216*C^6 + 180*C^5 + 270*C^4 - 42*C^3 - 153*C^2 - 56*C + 18)*sqrt(6*(4*C^2 - 1)*z^5 + 9*z^6 + 9*(4*C^2 - 1)*z^4 + 12*(2*C^2 + 1)*z^3 + 9*(4*C^2 - 1)*z^2 + 6*(4*C^2 - 1)*z + 9) + 60*C + 56)*z^7 + 3*(32*C^8 + 544*C^7 - 416*C^6 + 78*C^4 - 282*C^3 + 46*C^2 - (104*C^6 + 68*C^5 - 70*C^4 - 61*C^3 - 31*C^2 + 2*C + 6)*sqrt(6*(4*C^2 - 1)*z^5 + 9*z^6 + 9*(4*C^2 - 1)*z^4 + 12*(2*C^2 + 1)*z^3 + 9*(4*C^2 - 1)*z^2 + 6*(4*C^2 - 1)*z + 9) + 116*C + 17)*z^6 - (448*C^8 - 1680*C^7 + 1016*C^6 - 108*C^5 + 1086*C^4 - 360*C^3 - 910*C^2 + 3*(32*C^7 - 40*C^5 - 52*C^4 - 4*C^3 - 13*C^2 + 12*C + 2)*sqrt(6*(4*C^2 - 1)*z^5 + 9*z^6 + 9*(4*C^2 - 1)*z^4 + 12*(2*C^2 + 1)*z^3 + 9*(4*C^2 - 1)*z^2 + 6*(4*C^2 - 1)*z + 9) + 123*C + 142)*z^5 - (640*C^8 - 2352*C^7 + 2552*C^6 + 540*C^5 - 858*C^4 - 1152*C^3 + 437*C^2 - (128*C^7 - 168*C^6 - 60*C^5 + 150*C^4 + 123*C^3 - 57*C^2 - 110*C - 6)*sqrt(6*(4*C^2 - 1)*z^5 + 9*z^6 + 9*(4*C^2 - 1)*z^4 + 12*(2*C^2 + 1)*z^3 + 9*(4*C^2 - 1)*z^2 + 6*(4*C^2 - 1)*z + 9) + 453*C - 17)*z^4 - (32*C^8 - 768*C^7 + 2728*C^6 - 2484*C^5 - 492*C^4 + 1197*C^3 + 448*C^2 - 3*(16*C^7 - 120*C^6 + 148*C^5 + 18*C^4 - 98*C^3 - 39*C^2 + 24*C + 15)*sqrt(6*(4*C^2 - 1)*z^5 + 9*z^6 + 9*(4*C^2 - 1)*z^4 + 12*(2*C^2 + 1)*z^3 + 9*(4*C^2 - 1)*z^2 + 6*(4*C^2 - 1)*z + 9) - 294*C - 124)*z^3 - 3*(72*C^6 - 468*C^5 + 594*C^4 - 63*C^3 - 207*C^2 + (8*C^6 - 84*C^5 + 146*C^4 - 27*C^3 - 55*C^2 + 3*C + 9)*sqrt(6*(4*C^2 - 1)*z^5 + 9*z^6 + 9*(4*C^2 - 1)*z^4 + 12*(2*C^2 + 1)*z^3 + 9*(4*C^2 - 1)*z^2 + 6*(4*C^2 - 1)*z + 9) + 18*C + 27)*z^2 - 54*C^2 - 3*(72*C^4 - 216*C^3 + 108*C^2 + sqrt(6*(4*C^2 - 1)*z^5 + 9*z^6 + 9*(4*C^2 - 1)*z^4 + 12*(2*C^2 + 1)*z^3 + 9*(4*C^2 - 1)*z^2 + 6*(4*C^2 - 1)*z + 9)*(16*C^4 - 60*C^3 + 34*C^2 + 6*C - 5) + 27*C - 18)*z - 9*sqrt(6*(4*C^2 - 1)*z^5 + 9*z^6 + 9*(4*C^2 - 1)*z^4 + 12*(2*C^2 + 1)*z^3 + 9*(4*C^2 - 1)*z^2 + 6*(4*C^2 - 1)*z + 9)*(2*C^2 - 3*C + 1) + 81*C - 27\n",
      "]\n"
     ]
    },
    {
     "data": {
      "text/html": [
       "<html>\\(\\displaystyle \\left[{z} = \\left(-1\\right)\\right]\\)</html>"
      ],
      "text/latex": [
       "$\\displaystyle \\left[{z} = \\left(-1\\right)\\right]$"
      ],
      "text/plain": [
       "[z == -1]"
      ]
     },
     "metadata": {},
     "output_type": "display_data"
    },
    {
     "name": "stdout",
     "output_type": "stream",
     "text": [
      "[\n",
      "z == -1,\n",
      "z == 1,\n",
      "0 == 81*(6*C^2 + 3*C - 2)*z^13 + 81*z^14 + 27*(36*C^4 + 48*C^3 - 7*C^2 - 9*C + 1)*z^12 + 3*(232*C^6 + 732*C^5 + 366*C^4 + 21*C^3 - 24*C^2 - 78*C + 9*sqrt(6*(4*C^2 - 1)*z^5 + 9*z^6 + 9*(4*C^2 - 1)*z^4 + 12*(2*C^2 + 1)*z^3 + 9*(4*C^2 - 1)*z^2 + 6*(4*C^2 - 1)*z + 9) + 20)*z^11 + 3*(32*C^8 + 384*C^7 + 632*C^6 + 612*C^5 + 396*C^4 - 189*C^3 - 125*C^2 + 3*sqrt(6*(4*C^2 - 1)*z^5 + 9*z^6 + 9*(4*C^2 - 1)*z^4 + 12*(2*C^2 + 1)*z^3 + 9*(4*C^2 - 1)*z^2 + 6*(4*C^2 - 1)*z + 9)*(14*C^2 + 9*C - 5) + 30*C - 17)*z^10 + (512*C^8 + 1488*C^7 + 2824*C^6 + 1116*C^5 - 258*C^4 - 216*C^3 - 608*C^2 + 9*sqrt(6*(4*C^2 - 1)*z^5 + 9*z^6 + 9*(4*C^2 - 1)*z^4 + 12*(2*C^2 + 1)*z^3 + 9*(4*C^2 - 1)*z^2 + 6*(4*C^2 - 1)*z + 9)*(20*C^4 + 36*C^3 - 3*C^2 - 6*C + 1) - 39*C + 122)*z^9 + (448*C^8 + 1776*C^7 + 2120*C^6 + 756*C^5 - 1470*C^4 - 1224*C^3 + 296*C^2 + 3*(24*C^6 + 124*C^5 + 70*C^4 + C^3 + 19*C^2 - 17*C - 5)*sqrt(6*(4*C^2 - 1)*z^5 + 9*z^6 + 9*(4*C^2 - 1)*z^4 + 12*(2*C^2 + 1)*z^3 + 9*(4*C^2 - 1)*z^2 + 6*(4*C^2 - 1)*z + 9) + 231*C - 17)*z^8 - (32*C^8 - 2976*C^7 - 224*C^6 + 2448*C^5 + 30*C^4 - 342*C^3 - 56*C^2 - (80*C^7 + 216*C^6 + 180*C^5 + 270*C^4 - 42*C^3 - 153*C^2 - 56*C + 18)*sqrt(6*(4*C^2 - 1)*z^5 + 9*z^6 + 9*(4*C^2 - 1)*z^4 + 12*(2*C^2 + 1)*z^3 + 9*(4*C^2 - 1)*z^2 + 6*(4*C^2 - 1)*z + 9) + 60*C + 56)*z^7 + 3*(32*C^8 + 544*C^7 - 416*C^6 + 78*C^4 - 282*C^3 + 46*C^2 + (104*C^6 + 68*C^5 - 70*C^4 - 61*C^3 - 31*C^2 + 2*C + 6)*sqrt(6*(4*C^2 - 1)*z^5 + 9*z^6 + 9*(4*C^2 - 1)*z^4 + 12*(2*C^2 + 1)*z^3 + 9*(4*C^2 - 1)*z^2 + 6*(4*C^2 - 1)*z + 9) + 116*C + 17)*z^6 - (448*C^8 - 1680*C^7 + 1016*C^6 - 108*C^5 + 1086*C^4 - 360*C^3 - 910*C^2 - 3*(32*C^7 - 40*C^5 - 52*C^4 - 4*C^3 - 13*C^2 + 12*C + 2)*sqrt(6*(4*C^2 - 1)*z^5 + 9*z^6 + 9*(4*C^2 - 1)*z^4 + 12*(2*C^2 + 1)*z^3 + 9*(4*C^2 - 1)*z^2 + 6*(4*C^2 - 1)*z + 9) + 123*C + 142)*z^5 - (640*C^8 - 2352*C^7 + 2552*C^6 + 540*C^5 - 858*C^4 - 1152*C^3 + 437*C^2 + (128*C^7 - 168*C^6 - 60*C^5 + 150*C^4 + 123*C^3 - 57*C^2 - 110*C - 6)*sqrt(6*(4*C^2 - 1)*z^5 + 9*z^6 + 9*(4*C^2 - 1)*z^4 + 12*(2*C^2 + 1)*z^3 + 9*(4*C^2 - 1)*z^2 + 6*(4*C^2 - 1)*z + 9) + 453*C - 17)*z^4 - (32*C^8 - 768*C^7 + 2728*C^6 - 2484*C^5 - 492*C^4 + 1197*C^3 + 448*C^2 + 3*(16*C^7 - 120*C^6 + 148*C^5 + 18*C^4 - 98*C^3 - 39*C^2 + 24*C + 15)*sqrt(6*(4*C^2 - 1)*z^5 + 9*z^6 + 9*(4*C^2 - 1)*z^4 + 12*(2*C^2 + 1)*z^3 + 9*(4*C^2 - 1)*z^2 + 6*(4*C^2 - 1)*z + 9) - 294*C - 124)*z^3 - 3*(72*C^6 - 468*C^5 + 594*C^4 - 63*C^3 - 207*C^2 - (8*C^6 - 84*C^5 + 146*C^4 - 27*C^3 - 55*C^2 + 3*C + 9)*sqrt(6*(4*C^2 - 1)*z^5 + 9*z^6 + 9*(4*C^2 - 1)*z^4 + 12*(2*C^2 + 1)*z^3 + 9*(4*C^2 - 1)*z^2 + 6*(4*C^2 - 1)*z + 9) + 18*C + 27)*z^2 - 54*C^2 - 3*(72*C^4 - 216*C^3 + 108*C^2 - sqrt(6*(4*C^2 - 1)*z^5 + 9*z^6 + 9*(4*C^2 - 1)*z^4 + 12*(2*C^2 + 1)*z^3 + 9*(4*C^2 - 1)*z^2 + 6*(4*C^2 - 1)*z + 9)*(16*C^4 - 60*C^3 + 34*C^2 + 6*C - 5) + 27*C - 18)*z + 9*sqrt(6*(4*C^2 - 1)*z^5 + 9*z^6 + 9*(4*C^2 - 1)*z^4 + 12*(2*C^2 + 1)*z^3 + 9*(4*C^2 - 1)*z^2 + 6*(4*C^2 - 1)*z + 9)*(2*C^2 - 3*C + 1) + 81*C - 27\n",
      "]\n"
     ]
    },
    {
     "data": {
      "text/html": [
       "<html>\\(\\displaystyle \\left[{z} = \\left(-1\\right)\\right]\\)</html>"
      ],
      "text/latex": [
       "$\\displaystyle \\left[{z} = \\left(-1\\right)\\right]$"
      ],
      "text/plain": [
       "[z == -1]"
      ]
     },
     "metadata": {},
     "output_type": "display_data"
    }
   ],
   "source": [
    "print(\"We study possible blowups of the stable eigenvector close to the unit circle\")\n",
    "LzOnKplus = Lz.subs(k==kplus)\n",
    "LzOnKminus = Lz.subs(k==kminus)\n",
    "\n",
    "for i in range(q):\n",
    "    for j in range(q):\n",
    "        LzOnKplus[i, j]  = LzOnKplus[i, j].full_simplify()\n",
    "        LzOnKminus[i, j] = LzOnKminus[i, j].full_simplify()\n",
    "        \n",
    "        \n",
    "LzOnKplusKer = LzOnKplus.transpose().kernel()\n",
    "LzOnKminusKer = LzOnKminus.transpose().kernel()\n",
    "\n",
    "phiPlus = matrix([[LzOnKplusKer.basis()[0][0].full_simplify()], \\\n",
    "                  [LzOnKplusKer.basis()[0][1].full_simplify()], \\\n",
    "                  [LzOnKplusKer.basis()[0][2].full_simplify()]]) ### It can take a certain time but it terminates\n",
    "\n",
    "phiMinus = matrix([[LzOnKminusKer.basis()[0][0].full_simplify()], \\\n",
    "                   [LzOnKminusKer.basis()[0][1].full_simplify()], \\\n",
    "                   [LzOnKminusKer.basis()[0][2].full_simplify()]]) ### It can take a certain time but it terminates\n",
    "\n",
    "print(solve(phiPlus[1, 0].denominator().full_simplify(), z))\n",
    "pretty_print(solve(phiPlus[2, 0].denominator().full_simplify(), z))\n",
    "\n",
    "print(solve(phiMinus[1, 0].denominator().full_simplify(), z))\n",
    "pretty_print(solve(phiMinus[2, 0].denominator().full_simplify(), z))"
   ]
  },
  {
   "cell_type": "code",
   "execution_count": 7,
   "id": "0fd1abf0",
   "metadata": {},
   "outputs": [
    {
     "name": "stdout",
     "output_type": "stream",
     "text": [
      "I do not know why assumptions on the sign of C must be done to obtain the right result\n",
      "Take C<0\n",
      "Value of kminus at z=-1\n"
     ]
    },
    {
     "data": {
      "text/html": [
       "<html>\\(\\displaystyle 1\\)</html>"
      ],
      "text/latex": [
       "$\\displaystyle 1$"
      ],
      "text/plain": [
       "1"
      ]
     },
     "metadata": {},
     "output_type": "display_data"
    },
    {
     "name": "stdout",
     "output_type": "stream",
     "text": [
      "Value of kplus at z=-1\n"
     ]
    },
    {
     "data": {
      "text/html": [
       "<html>\\(\\displaystyle 1\\)</html>"
      ],
      "text/latex": [
       "$\\displaystyle 1$"
      ],
      "text/plain": [
       "1"
      ]
     },
     "metadata": {},
     "output_type": "display_data"
    },
    {
     "name": "stdout",
     "output_type": "stream",
     "text": [
      "Perturbation test\n",
      "For kminus\n"
     ]
    },
    {
     "data": {
      "text/html": [
       "<html>\\(\\displaystyle \\frac{{\\left(i \\, \\sqrt{3} \\sqrt{5 \\, {\\mathcal{C}}^{2} - 8} + 3 \\, {\\mathcal{C}}\\right)} {\\delta z}}{4 \\, {\\left({\\mathcal{C}}^{2} - 1\\right)}} + 1\\)</html>"
      ],
      "text/latex": [
       "$\\displaystyle \\frac{{\\left(i \\, \\sqrt{3} \\sqrt{5 \\, {\\mathcal{C}}^{2} - 8} + 3 \\, {\\mathcal{C}}\\right)} {\\delta z}}{4 \\, {\\left({\\mathcal{C}}^{2} - 1\\right)}} + 1$"
      ],
      "text/plain": [
       "1/4*(I*sqrt(3)*sqrt(5*C^2 - 8) + 3*C)*dz/(C^2 - 1) + 1"
      ]
     },
     "metadata": {},
     "output_type": "display_data"
    },
    {
     "name": "stdout",
     "output_type": "stream",
     "text": [
      "For kplus\n"
     ]
    },
    {
     "data": {
      "text/html": [
       "<html>\\(\\displaystyle \\frac{{\\left(-i \\, \\sqrt{3} \\sqrt{5 \\, {\\mathcal{C}}^{2} - 8} + 3 \\, {\\mathcal{C}}\\right)} {\\delta z}}{4 \\, {\\left({\\mathcal{C}}^{2} - 1\\right)}} + 1\\)</html>"
      ],
      "text/latex": [
       "$\\displaystyle \\frac{{\\left(-i \\, \\sqrt{3} \\sqrt{5 \\, {\\mathcal{C}}^{2} - 8} + 3 \\, {\\mathcal{C}}\\right)} {\\delta z}}{4 \\, {\\left({\\mathcal{C}}^{2} - 1\\right)}} + 1$"
      ],
      "text/plain": [
       "1/4*(-I*sqrt(3)*sqrt(5*C^2 - 8) + 3*C)*dz/(C^2 - 1) + 1"
      ]
     },
     "metadata": {},
     "output_type": "display_data"
    },
    {
     "name": "stdout",
     "output_type": "stream",
     "text": [
      "Value of kminus at z=1\n"
     ]
    },
    {
     "data": {
      "text/html": [
       "<html>\\(\\displaystyle 1\\)</html>"
      ],
      "text/latex": [
       "$\\displaystyle 1$"
      ],
      "text/plain": [
       "1"
      ]
     },
     "metadata": {},
     "output_type": "display_data"
    },
    {
     "name": "stdout",
     "output_type": "stream",
     "text": [
      "Value of kplus at z=1\n"
     ]
    },
    {
     "data": {
      "text/html": [
       "<html>\\(\\displaystyle -1\\)</html>"
      ],
      "text/latex": [
       "$\\displaystyle -1$"
      ],
      "text/plain": [
       "-1"
      ]
     },
     "metadata": {},
     "output_type": "display_data"
    },
    {
     "data": {
      "text/html": [
       "<html>\\(\\displaystyle -\\frac{2 \\, {\\mathcal{C}}}{{z} - 1}\\)</html>"
      ],
      "text/latex": [
       "$\\displaystyle -\\frac{2 \\, {\\mathcal{C}}}{{z} - 1}$"
      ],
      "text/plain": [
       "-2*C/(z - 1)"
      ]
     },
     "metadata": {},
     "output_type": "display_data"
    },
    {
     "data": {
      "text/html": [
       "<html>\\(\\displaystyle 0\\)</html>"
      ],
      "text/latex": [
       "$\\displaystyle 0$"
      ],
      "text/plain": [
       "0"
      ]
     },
     "metadata": {},
     "output_type": "display_data"
    },
    {
     "data": {
      "text/html": [
       "<html>\\(\\displaystyle -331776 \\, {\\mathcal{C}}^{8} - 165888 \\, {\\mathcal{C}}^{6}\\)</html>"
      ],
      "text/latex": [
       "$\\displaystyle -331776 \\, {\\mathcal{C}}^{8} - 165888 \\, {\\mathcal{C}}^{6}$"
      ],
      "text/plain": [
       "-331776*C^8 - 165888*C^6"
      ]
     },
     "metadata": {},
     "output_type": "display_data"
    },
    {
     "data": {
      "text/html": [
       "<html>\\(\\displaystyle -\\frac{4 \\, {\\left(i \\, \\sqrt{3} \\sqrt{5 \\, {\\mathcal{C}}^{2} - 8} + 3 \\, {\\mathcal{C}}\\right)} {\\left({\\mathcal{C}} + 1\\right)} {\\left({\\mathcal{C}} - 1\\right)}}{3 \\, {\\left(-i \\, \\sqrt{3} \\sqrt{5 \\, {\\mathcal{C}}^{2} - 8} {\\mathcal{C}} + {\\mathcal{C}}^{2} - 4\\right)} {\\left({z} + 1\\right)}}\\)</html>"
      ],
      "text/latex": [
       "$\\displaystyle -\\frac{4 \\, {\\left(i \\, \\sqrt{3} \\sqrt{5 \\, {\\mathcal{C}}^{2} - 8} + 3 \\, {\\mathcal{C}}\\right)} {\\left({\\mathcal{C}} + 1\\right)} {\\left({\\mathcal{C}} - 1\\right)}}{3 \\, {\\left(-i \\, \\sqrt{3} \\sqrt{5 \\, {\\mathcal{C}}^{2} - 8} {\\mathcal{C}} + {\\mathcal{C}}^{2} - 4\\right)} {\\left({z} + 1\\right)}}$"
      ],
      "text/plain": [
       "-4/3*(I*sqrt(3)*sqrt(5*C^2 - 8) + 3*C)*(C + 1)*(C - 1)/((-I*sqrt(3)*sqrt(5*C^2 - 8)*C + C^2 - 4)*(z + 1))"
      ]
     },
     "metadata": {},
     "output_type": "display_data"
    },
    {
     "data": {
      "text/html": [
       "<html>\\(\\displaystyle 0\\)</html>"
      ],
      "text/latex": [
       "$\\displaystyle 0$"
      ],
      "text/plain": [
       "0"
      ]
     },
     "metadata": {},
     "output_type": "display_data"
    },
    {
     "data": {
      "text/html": [
       "<html>\\(\\displaystyle 0\\)</html>"
      ],
      "text/latex": [
       "$\\displaystyle 0$"
      ],
      "text/plain": [
       "0"
      ]
     },
     "metadata": {},
     "output_type": "display_data"
    },
    {
     "data": {
      "text/html": [
       "<html>\\(\\displaystyle \\frac{4 \\, {\\left({\\mathcal{C}}^{2} - 1\\right)}}{3 \\, {\\left({z} + 1\\right)}} + 1\\)</html>"
      ],
      "text/latex": [
       "$\\displaystyle \\frac{4 \\, {\\left({\\mathcal{C}}^{2} - 1\\right)}}{3 \\, {\\left({z} + 1\\right)}} + 1$"
      ],
      "text/plain": [
       "4/3*(C^2 - 1)/(z + 1) + 1"
      ]
     },
     "metadata": {},
     "output_type": "display_data"
    },
    {
     "data": {
      "text/html": [
       "<html>\\(\\displaystyle 0\\)</html>"
      ],
      "text/latex": [
       "$\\displaystyle 0$"
      ],
      "text/plain": [
       "0"
      ]
     },
     "metadata": {},
     "output_type": "display_data"
    },
    {
     "data": {
      "text/html": [
       "<html>\\(\\displaystyle 4 \\, {\\mathcal{C}}^{2} - 4\\)</html>"
      ],
      "text/latex": [
       "$\\displaystyle 4 \\, {\\mathcal{C}}^{2} - 4$"
      ],
      "text/plain": [
       "4*C^2 - 4"
      ]
     },
     "metadata": {},
     "output_type": "display_data"
    },
    {
     "name": "stdout",
     "output_type": "stream",
     "text": [
      "Group velocity of the stable mode at z=1\n"
     ]
    },
    {
     "data": {
      "text/html": [
       "<html>\\(\\displaystyle -\\frac{3 \\, {\\mathcal{C}}}{2 \\, {\\mathcal{C}}^{2} + 1}\\)</html>"
      ],
      "text/latex": [
       "$\\displaystyle -\\frac{3 \\, {\\mathcal{C}}}{2 \\, {\\mathcal{C}}^{2} + 1}$"
      ],
      "text/plain": [
       "-3*C/(2*C^2 + 1)"
      ]
     },
     "metadata": {},
     "output_type": "display_data"
    },
    {
     "name": "stdout",
     "output_type": "stream",
     "text": [
      "Take C>0\n",
      "Value of kminus at z=-1\n"
     ]
    },
    {
     "data": {
      "text/html": [
       "<html>\\(\\displaystyle 1\\)</html>"
      ],
      "text/latex": [
       "$\\displaystyle 1$"
      ],
      "text/plain": [
       "1"
      ]
     },
     "metadata": {},
     "output_type": "display_data"
    },
    {
     "name": "stdout",
     "output_type": "stream",
     "text": [
      "Value of kplus at z=-1\n"
     ]
    },
    {
     "data": {
      "text/html": [
       "<html>\\(\\displaystyle 1\\)</html>"
      ],
      "text/latex": [
       "$\\displaystyle 1$"
      ],
      "text/plain": [
       "1"
      ]
     },
     "metadata": {},
     "output_type": "display_data"
    },
    {
     "name": "stdout",
     "output_type": "stream",
     "text": [
      "Perturbation test\n",
      "For kminus\n"
     ]
    },
    {
     "data": {
      "text/html": [
       "<html>\\(\\displaystyle \\frac{{\\left(i \\, \\sqrt{3} \\sqrt{5 \\, {\\mathcal{C}}^{2} - 8} + 3 \\, {\\mathcal{C}}\\right)} {\\delta z}}{4 \\, {\\left({\\mathcal{C}}^{2} - 1\\right)}} + 1\\)</html>"
      ],
      "text/latex": [
       "$\\displaystyle \\frac{{\\left(i \\, \\sqrt{3} \\sqrt{5 \\, {\\mathcal{C}}^{2} - 8} + 3 \\, {\\mathcal{C}}\\right)} {\\delta z}}{4 \\, {\\left({\\mathcal{C}}^{2} - 1\\right)}} + 1$"
      ],
      "text/plain": [
       "1/4*(I*sqrt(3)*sqrt(5*C^2 - 8) + 3*C)*dz/(C^2 - 1) + 1"
      ]
     },
     "metadata": {},
     "output_type": "display_data"
    },
    {
     "name": "stdout",
     "output_type": "stream",
     "text": [
      "For kplus\n"
     ]
    },
    {
     "data": {
      "text/html": [
       "<html>\\(\\displaystyle \\frac{{\\left(-i \\, \\sqrt{3} \\sqrt{5 \\, {\\mathcal{C}}^{2} - 8} + 3 \\, {\\mathcal{C}}\\right)} {\\delta z}}{4 \\, {\\left({\\mathcal{C}}^{2} - 1\\right)}} + 1\\)</html>"
      ],
      "text/latex": [
       "$\\displaystyle \\frac{{\\left(-i \\, \\sqrt{3} \\sqrt{5 \\, {\\mathcal{C}}^{2} - 8} + 3 \\, {\\mathcal{C}}\\right)} {\\delta z}}{4 \\, {\\left({\\mathcal{C}}^{2} - 1\\right)}} + 1$"
      ],
      "text/plain": [
       "1/4*(-I*sqrt(3)*sqrt(5*C^2 - 8) + 3*C)*dz/(C^2 - 1) + 1"
      ]
     },
     "metadata": {},
     "output_type": "display_data"
    },
    {
     "name": "stdout",
     "output_type": "stream",
     "text": [
      "Value of kminus at z=1\n"
     ]
    },
    {
     "data": {
      "text/html": [
       "<html>\\(\\displaystyle -1\\)</html>"
      ],
      "text/latex": [
       "$\\displaystyle -1$"
      ],
      "text/plain": [
       "-1"
      ]
     },
     "metadata": {},
     "output_type": "display_data"
    },
    {
     "name": "stdout",
     "output_type": "stream",
     "text": [
      "Value of kplus at z=1\n"
     ]
    },
    {
     "data": {
      "text/html": [
       "<html>\\(\\displaystyle 1\\)</html>"
      ],
      "text/latex": [
       "$\\displaystyle 1$"
      ],
      "text/plain": [
       "1"
      ]
     },
     "metadata": {},
     "output_type": "display_data"
    },
    {
     "data": {
      "text/html": [
       "<html>\\(\\displaystyle {\\mathcal{C}}\\)</html>"
      ],
      "text/latex": [
       "$\\displaystyle {\\mathcal{C}}$"
      ],
      "text/plain": [
       "C"
      ]
     },
     "metadata": {},
     "output_type": "display_data"
    },
    {
     "data": {
      "text/html": [
       "<html>\\(\\displaystyle -15552 \\, {\\mathcal{C}}^{3} {\\left({z} - 1\\right)}^{4}\\)</html>"
      ],
      "text/latex": [
       "$\\displaystyle -15552 \\, {\\mathcal{C}}^{3} {\\left({z} - 1\\right)}^{4}$"
      ],
      "text/plain": [
       "-15552*C^3*(z - 1)^4"
      ]
     },
     "metadata": {},
     "output_type": "display_data"
    },
    {
     "data": {
      "text/html": [
       "<html>\\(\\displaystyle -15552 \\, {\\mathcal{C}}^{4} {\\left({z} - 1\\right)}^{4}\\)</html>"
      ],
      "text/latex": [
       "$\\displaystyle -15552 \\, {\\mathcal{C}}^{4} {\\left({z} - 1\\right)}^{4}$"
      ],
      "text/plain": [
       "-15552*C^4*(z - 1)^4"
      ]
     },
     "metadata": {},
     "output_type": "display_data"
    },
    {
     "data": {
      "text/html": [
       "<html>\\(\\displaystyle -\\frac{4 \\, {\\left(i \\, \\sqrt{3} \\sqrt{5 \\, {\\mathcal{C}}^{2} - 8} + 3 \\, {\\mathcal{C}}\\right)} {\\left({\\mathcal{C}} + 1\\right)} {\\left({\\mathcal{C}} - 1\\right)}}{3 \\, {\\left(-i \\, \\sqrt{3} \\sqrt{5 \\, {\\mathcal{C}}^{2} - 8} {\\mathcal{C}} + {\\mathcal{C}}^{2} - 4\\right)} {\\left({z} + 1\\right)}}\\)</html>"
      ],
      "text/latex": [
       "$\\displaystyle -\\frac{4 \\, {\\left(i \\, \\sqrt{3} \\sqrt{5 \\, {\\mathcal{C}}^{2} - 8} + 3 \\, {\\mathcal{C}}\\right)} {\\left({\\mathcal{C}} + 1\\right)} {\\left({\\mathcal{C}} - 1\\right)}}{3 \\, {\\left(-i \\, \\sqrt{3} \\sqrt{5 \\, {\\mathcal{C}}^{2} - 8} {\\mathcal{C}} + {\\mathcal{C}}^{2} - 4\\right)} {\\left({z} + 1\\right)}}$"
      ],
      "text/plain": [
       "-4/3*(I*sqrt(3)*sqrt(5*C^2 - 8) + 3*C)*(C + 1)*(C - 1)/((-I*sqrt(3)*sqrt(5*C^2 - 8)*C + C^2 - 4)*(z + 1))"
      ]
     },
     "metadata": {},
     "output_type": "display_data"
    },
    {
     "data": {
      "text/html": [
       "<html>\\(\\displaystyle -3072 \\, {\\left(i \\, \\sqrt{3} \\sqrt{5 \\, {\\mathcal{C}}^{2} - 8} {\\mathcal{C}}^{7} - {\\mathcal{C}}^{8} - 3 i \\, \\sqrt{3} \\sqrt{5 \\, {\\mathcal{C}}^{2} - 8} {\\mathcal{C}}^{5} + 7 \\, {\\mathcal{C}}^{6} + 3 i \\, \\sqrt{3} \\sqrt{5 \\, {\\mathcal{C}}^{2} - 8} {\\mathcal{C}}^{3} - 15 \\, {\\mathcal{C}}^{4} - i \\, \\sqrt{3} \\sqrt{5 \\, {\\mathcal{C}}^{2} - 8} {\\mathcal{C}} + 13 \\, {\\mathcal{C}}^{2} - 4\\right)} {\\left({z} + 1\\right)}^{2}\\)</html>"
      ],
      "text/latex": [
       "$\\displaystyle -3072 \\, {\\left(i \\, \\sqrt{3} \\sqrt{5 \\, {\\mathcal{C}}^{2} - 8} {\\mathcal{C}}^{7} - {\\mathcal{C}}^{8} - 3 i \\, \\sqrt{3} \\sqrt{5 \\, {\\mathcal{C}}^{2} - 8} {\\mathcal{C}}^{5} + 7 \\, {\\mathcal{C}}^{6} + 3 i \\, \\sqrt{3} \\sqrt{5 \\, {\\mathcal{C}}^{2} - 8} {\\mathcal{C}}^{3} - 15 \\, {\\mathcal{C}}^{4} - i \\, \\sqrt{3} \\sqrt{5 \\, {\\mathcal{C}}^{2} - 8} {\\mathcal{C}} + 13 \\, {\\mathcal{C}}^{2} - 4\\right)} {\\left({z} + 1\\right)}^{2}$"
      ],
      "text/plain": [
       "-3072*(I*sqrt(3)*sqrt(5*C^2 - 8)*C^7 - C^8 - 3*I*sqrt(3)*sqrt(5*C^2 - 8)*C^5 + 7*C^6 + 3*I*sqrt(3)*sqrt(5*C^2 - 8)*C^3 - 15*C^4 - I*sqrt(3)*sqrt(5*C^2 - 8)*C + 13*C^2 - 4)*(z + 1)^2"
      ]
     },
     "metadata": {},
     "output_type": "display_data"
    },
    {
     "data": {
      "text/html": [
       "<html>\\(\\displaystyle -4096 \\, {\\left(i \\, \\sqrt{3} \\sqrt{5 \\, {\\mathcal{C}}^{2} - 8} {\\mathcal{C}}^{8} + 3 \\, {\\mathcal{C}}^{9} - 4 i \\, \\sqrt{3} \\sqrt{5 \\, {\\mathcal{C}}^{2} - 8} {\\mathcal{C}}^{6} - 12 \\, {\\mathcal{C}}^{7} + 6 i \\, \\sqrt{3} \\sqrt{5 \\, {\\mathcal{C}}^{2} - 8} {\\mathcal{C}}^{4} + 18 \\, {\\mathcal{C}}^{5} - 4 i \\, \\sqrt{3} \\sqrt{5 \\, {\\mathcal{C}}^{2} - 8} {\\mathcal{C}}^{2} - 12 \\, {\\mathcal{C}}^{3} + i \\, \\sqrt{3} \\sqrt{5 \\, {\\mathcal{C}}^{2} - 8} + 3 \\, {\\mathcal{C}}\\right)} {\\left({z} + 1\\right)}\\)</html>"
      ],
      "text/latex": [
       "$\\displaystyle -4096 \\, {\\left(i \\, \\sqrt{3} \\sqrt{5 \\, {\\mathcal{C}}^{2} - 8} {\\mathcal{C}}^{8} + 3 \\, {\\mathcal{C}}^{9} - 4 i \\, \\sqrt{3} \\sqrt{5 \\, {\\mathcal{C}}^{2} - 8} {\\mathcal{C}}^{6} - 12 \\, {\\mathcal{C}}^{7} + 6 i \\, \\sqrt{3} \\sqrt{5 \\, {\\mathcal{C}}^{2} - 8} {\\mathcal{C}}^{4} + 18 \\, {\\mathcal{C}}^{5} - 4 i \\, \\sqrt{3} \\sqrt{5 \\, {\\mathcal{C}}^{2} - 8} {\\mathcal{C}}^{2} - 12 \\, {\\mathcal{C}}^{3} + i \\, \\sqrt{3} \\sqrt{5 \\, {\\mathcal{C}}^{2} - 8} + 3 \\, {\\mathcal{C}}\\right)} {\\left({z} + 1\\right)}$"
      ],
      "text/plain": [
       "-4096*(I*sqrt(3)*sqrt(5*C^2 - 8)*C^8 + 3*C^9 - 4*I*sqrt(3)*sqrt(5*C^2 - 8)*C^6 - 12*C^7 + 6*I*sqrt(3)*sqrt(5*C^2 - 8)*C^4 + 18*C^5 - 4*I*sqrt(3)*sqrt(5*C^2 - 8)*C^2 - 12*C^3 + I*sqrt(3)*sqrt(5*C^2 - 8) + 3*C)*(z + 1)"
      ]
     },
     "metadata": {},
     "output_type": "display_data"
    },
    {
     "data": {
      "text/html": [
       "<html>\\(\\displaystyle \\frac{4 \\, {\\left({\\mathcal{C}}^{2} - 1\\right)}}{3 \\, {\\left({z} + 1\\right)}} + 1\\)</html>"
      ],
      "text/latex": [
       "$\\displaystyle \\frac{4 \\, {\\left({\\mathcal{C}}^{2} - 1\\right)}}{3 \\, {\\left({z} + 1\\right)}} + 1$"
      ],
      "text/plain": [
       "4/3*(C^2 - 1)/(z + 1) + 1"
      ]
     },
     "metadata": {},
     "output_type": "display_data"
    },
    {
     "data": {
      "text/html": [
       "<html>\\(\\displaystyle 3 \\, {z} + 3\\)</html>"
      ],
      "text/latex": [
       "$\\displaystyle 3 \\, {z} + 3$"
      ],
      "text/plain": [
       "3*z + 3"
      ]
     },
     "metadata": {},
     "output_type": "display_data"
    },
    {
     "data": {
      "text/html": [
       "<html>\\(\\displaystyle 4 \\, {\\mathcal{C}}^{2} + 3 \\, {z} - 1\\)</html>"
      ],
      "text/latex": [
       "$\\displaystyle 4 \\, {\\mathcal{C}}^{2} + 3 \\, {z} - 1$"
      ],
      "text/plain": [
       "4*C^2 + 3*z - 1"
      ]
     },
     "metadata": {},
     "output_type": "display_data"
    },
    {
     "name": "stdout",
     "output_type": "stream",
     "text": [
      "Group velocity of the stable mode at z=1\n"
     ]
    },
    {
     "data": {
      "text/html": [
       "<html>\\(\\displaystyle {\\mathcal{C}}\\)</html>"
      ],
      "text/latex": [
       "$\\displaystyle {\\mathcal{C}}$"
      ],
      "text/plain": [
       "C"
      ]
     },
     "metadata": {},
     "output_type": "display_data"
    }
   ],
   "source": [
    "print(\"I do not know why assumptions on the sign of C must be done to obtain the right result\")\n",
    "print(\"Take C<0\")\n",
    "forget()\n",
    "assume(C<0)\n",
    "print(\"Value of kminus at z=-1\")\n",
    "pretty_print(kminus.subs(z==-1).full_simplify())\n",
    "print(\"Value of kplus at z=-1\")\n",
    "pretty_print(kplus.subs(z==-1).full_simplify())\n",
    "print('Perturbation test')\n",
    "dz = var(\"dz\", latex_name=\"\\\\delta z\") \n",
    "print('For kminus')\n",
    "pretty_print(taylor(kminus.subs(z==-1-dz), dz, 0, 1))\n",
    "print('For kplus')\n",
    "pretty_print(taylor(kplus.subs(z==-1-dz), dz, 0, 1))\n",
    "print(\"Value of kminus at z=1\")\n",
    "pretty_print(kminus.subs(z==1).full_simplify())\n",
    "print(\"Value of kplus at z=1\")\n",
    "pretty_print(kplus.subs(z==1).full_simplify())\n",
    "\n",
    "ks = kplus ### This is the right parametrization where we need it.\n",
    "\n",
    "pretty_print(taylor(phiPlus[1, 0], z, 1, 0))\n",
    "pretty_print(taylor(phiPlus[1, 0].denominator(), z, 1, 0))\n",
    "pretty_print(taylor(phiPlus[1, 0].numerator(), z, 1, 0))\n",
    "\n",
    "pretty_print(taylor(phiPlus[1, 0], z, -1, -1).factor())\n",
    "pretty_print(taylor(phiPlus[1, 0].denominator(), z, -1, 0))\n",
    "pretty_print(taylor(phiPlus[1, 0].numerator(), z, -1, 0))\n",
    "\n",
    "pretty_print(taylor(phiPlus[2, 0], z, -1, 0))\n",
    "pretty_print(taylor(phiPlus[2, 0].denominator(), z, -1, 0))\n",
    "pretty_print(taylor(phiPlus[2, 0].numerator(), z, -1, 0))\n",
    "\n",
    "print(\"Group velocity of the stable mode at z=1\")\n",
    "pretty_print((-ks/z/ks.derivative(z)).subs(z==1).full_simplify())\n",
    "\n",
    "forget()\n",
    "print(\"Take C>0\")\n",
    "assume(C>0)\n",
    "print(\"Value of kminus at z=-1\")\n",
    "pretty_print(kminus.subs(z==-1).full_simplify())\n",
    "print(\"Value of kplus at z=-1\")\n",
    "pretty_print(kplus.subs(z==-1).full_simplify())\n",
    "print('Perturbation test')\n",
    "dz = var(\"dz\", latex_name=\"\\\\delta z\") \n",
    "print('For kminus')\n",
    "pretty_print(taylor(kminus.subs(z==-1-dz), dz, 0, 1))\n",
    "print('For kplus')\n",
    "pretty_print(taylor(kplus.subs(z==-1-dz), dz, 0, 1))\n",
    "print(\"Value of kminus at z=1\")\n",
    "pretty_print(kminus.subs(z==1).full_simplify())\n",
    "print(\"Value of kplus at z=1\")\n",
    "pretty_print(kplus.subs(z==1).full_simplify())\n",
    "\n",
    "\n",
    "ks = kplus ### This is the right parametrization where we need it.\n",
    "\n",
    "pretty_print(taylor(phiPlus[1, 0], z, 1, 0))\n",
    "pretty_print(taylor(phiPlus[1, 0].denominator(), z, 1, 4))\n",
    "pretty_print(taylor(phiPlus[1, 0].numerator(), z, 1, 4))\n",
    "\n",
    "pretty_print(taylor(phiPlus[1, 0], z, -1, -1).factor())\n",
    "pretty_print(taylor(phiPlus[1, 0].denominator(), z, -1, 2))\n",
    "pretty_print(taylor(phiPlus[1, 0].numerator(), z, -1, 1))\n",
    "\n",
    "pretty_print(taylor(phiPlus[2, 0], z, -1, 0))\n",
    "pretty_print(taylor(phiPlus[2, 0].denominator(), z, -1, 2))\n",
    "pretty_print(taylor(phiPlus[2, 0].numerator(), z, -1, 1))\n",
    "\n",
    "print(\"Group velocity of the stable mode at z=1\")\n",
    "pretty_print((-ks/z/ks.derivative(z)).subs(z==1).full_simplify())"
   ]
  },
  {
   "cell_type": "code",
   "execution_count": null,
   "id": "dd749d29",
   "metadata": {},
   "outputs": [],
   "source": []
  },
  {
   "cell_type": "code",
   "execution_count": 8,
   "id": "9860ba2e",
   "metadata": {},
   "outputs": [
    {
     "name": "stdout",
     "output_type": "stream",
     "text": [
      "Anti Bounce back (now correct)\n"
     ]
    },
    {
     "data": {
      "text/html": [
       "<html>\\(\\displaystyle \\left[{z} = -\\frac{4}{3} \\, {\\mathcal{C}}^{2} - \\frac{2}{3} \\, \\sqrt{4 \\, {\\mathcal{C}}^{4} - 2 \\, {\\mathcal{C}}^{2} - 2} + \\frac{1}{3}, {z} = -\\frac{4}{3} \\, {\\mathcal{C}}^{2} + \\frac{2}{3} \\, \\sqrt{4 \\, {\\mathcal{C}}^{4} - 2 \\, {\\mathcal{C}}^{2} - 2} + \\frac{1}{3}, {z} = \\left(-1\\right)\\right]\\)</html>"
      ],
      "text/latex": [
       "$\\displaystyle \\left[{z} = -\\frac{4}{3} \\, {\\mathcal{C}}^{2} - \\frac{2}{3} \\, \\sqrt{4 \\, {\\mathcal{C}}^{4} - 2 \\, {\\mathcal{C}}^{2} - 2} + \\frac{1}{3}, {z} = -\\frac{4}{3} \\, {\\mathcal{C}}^{2} + \\frac{2}{3} \\, \\sqrt{4 \\, {\\mathcal{C}}^{4} - 2 \\, {\\mathcal{C}}^{2} - 2} + \\frac{1}{3}, {z} = \\left(-1\\right)\\right]$"
      ],
      "text/plain": [
       "[z == -4/3*C^2 - 2/3*sqrt(4*C^4 - 2*C^2 - 2) + 1/3, z == -4/3*C^2 + 2/3*sqrt(4*C^4 - 2*C^2 - 2) + 1/3, z == -1]"
      ]
     },
     "metadata": {},
     "output_type": "display_data"
    },
    {
     "data": {
      "text/html": [
       "<html>\\(\\displaystyle \\left[{\\kappa} = -\\frac{32 \\, {\\mathcal{C}}^{6} + 48 \\, {\\mathcal{C}}^{5} - 36 \\, {\\mathcal{C}}^{4} - 42 \\, {\\mathcal{C}}^{3} - 6 \\, {\\mathcal{C}}^{2} + {\\left(16 \\, {\\mathcal{C}}^{4} + 24 \\, {\\mathcal{C}}^{3} - 14 \\, {\\mathcal{C}}^{2} - 15 \\, {\\mathcal{C}} - 2\\right)} \\sqrt{4 \\, {\\mathcal{C}}^{4} - 2 \\, {\\mathcal{C}}^{2} - 2} - 6 \\, {\\mathcal{C}} + 10}{32 \\, {\\mathcal{C}}^{6} - 48 \\, {\\mathcal{C}}^{5} - 36 \\, {\\mathcal{C}}^{4} + 42 \\, {\\mathcal{C}}^{3} - 6 \\, {\\mathcal{C}}^{2} + {\\left(16 \\, {\\mathcal{C}}^{4} - 24 \\, {\\mathcal{C}}^{3} - 14 \\, {\\mathcal{C}}^{2} + 15 \\, {\\mathcal{C}} - 2\\right)} \\sqrt{4 \\, {\\mathcal{C}}^{4} - 2 \\, {\\mathcal{C}}^{2} - 2} + 6 \\, {\\mathcal{C}} + 10}\\right]\\)</html>"
      ],
      "text/latex": [
       "$\\displaystyle \\left[{\\kappa} = -\\frac{32 \\, {\\mathcal{C}}^{6} + 48 \\, {\\mathcal{C}}^{5} - 36 \\, {\\mathcal{C}}^{4} - 42 \\, {\\mathcal{C}}^{3} - 6 \\, {\\mathcal{C}}^{2} + {\\left(16 \\, {\\mathcal{C}}^{4} + 24 \\, {\\mathcal{C}}^{3} - 14 \\, {\\mathcal{C}}^{2} - 15 \\, {\\mathcal{C}} - 2\\right)} \\sqrt{4 \\, {\\mathcal{C}}^{4} - 2 \\, {\\mathcal{C}}^{2} - 2} - 6 \\, {\\mathcal{C}} + 10}{32 \\, {\\mathcal{C}}^{6} - 48 \\, {\\mathcal{C}}^{5} - 36 \\, {\\mathcal{C}}^{4} + 42 \\, {\\mathcal{C}}^{3} - 6 \\, {\\mathcal{C}}^{2} + {\\left(16 \\, {\\mathcal{C}}^{4} - 24 \\, {\\mathcal{C}}^{3} - 14 \\, {\\mathcal{C}}^{2} + 15 \\, {\\mathcal{C}} - 2\\right)} \\sqrt{4 \\, {\\mathcal{C}}^{4} - 2 \\, {\\mathcal{C}}^{2} - 2} + 6 \\, {\\mathcal{C}} + 10}\\right]$"
      ],
      "text/plain": [
       "[kappa == -(32*C^6 + 48*C^5 - 36*C^4 - 42*C^3 - 6*C^2 + (16*C^4 + 24*C^3 - 14*C^2 - 15*C - 2)*sqrt(4*C^4 - 2*C^2 - 2) - 6*C + 10)/(32*C^6 - 48*C^5 - 36*C^4 + 42*C^3 - 6*C^2 + (16*C^4 - 24*C^3 - 14*C^2 + 15*C - 2)*sqrt(4*C^4 - 2*C^2 - 2) + 6*C + 10)]"
      ]
     },
     "metadata": {},
     "output_type": "display_data"
    },
    {
     "data": {
      "text/html": [
       "<html>\\(\\displaystyle \\left[{\\kappa} = -\\frac{32 \\, {\\mathcal{C}}^{6} + 48 \\, {\\mathcal{C}}^{5} - 36 \\, {\\mathcal{C}}^{4} - 42 \\, {\\mathcal{C}}^{3} - 6 \\, {\\mathcal{C}}^{2} + {\\left(16 \\, {\\mathcal{C}}^{4} + 24 \\, {\\mathcal{C}}^{3} - 14 \\, {\\mathcal{C}}^{2} - 15 \\, {\\mathcal{C}} - 2\\right)} \\sqrt{4 \\, {\\mathcal{C}}^{4} - 2 \\, {\\mathcal{C}}^{2} - 2} - 6 \\, {\\mathcal{C}} + 10}{32 \\, {\\mathcal{C}}^{6} - 48 \\, {\\mathcal{C}}^{5} - 36 \\, {\\mathcal{C}}^{4} + 42 \\, {\\mathcal{C}}^{3} - 6 \\, {\\mathcal{C}}^{2} + {\\left(16 \\, {\\mathcal{C}}^{4} - 24 \\, {\\mathcal{C}}^{3} - 14 \\, {\\mathcal{C}}^{2} + 15 \\, {\\mathcal{C}} - 2\\right)} \\sqrt{4 \\, {\\mathcal{C}}^{4} - 2 \\, {\\mathcal{C}}^{2} - 2} + 6 \\, {\\mathcal{C}} + 10}, {\\kappa} = \\left(-1\\right)\\right]\\)</html>"
      ],
      "text/latex": [
       "$\\displaystyle \\left[{\\kappa} = -\\frac{32 \\, {\\mathcal{C}}^{6} + 48 \\, {\\mathcal{C}}^{5} - 36 \\, {\\mathcal{C}}^{4} - 42 \\, {\\mathcal{C}}^{3} - 6 \\, {\\mathcal{C}}^{2} + {\\left(16 \\, {\\mathcal{C}}^{4} + 24 \\, {\\mathcal{C}}^{3} - 14 \\, {\\mathcal{C}}^{2} - 15 \\, {\\mathcal{C}} - 2\\right)} \\sqrt{4 \\, {\\mathcal{C}}^{4} - 2 \\, {\\mathcal{C}}^{2} - 2} - 6 \\, {\\mathcal{C}} + 10}{32 \\, {\\mathcal{C}}^{6} - 48 \\, {\\mathcal{C}}^{5} - 36 \\, {\\mathcal{C}}^{4} + 42 \\, {\\mathcal{C}}^{3} - 6 \\, {\\mathcal{C}}^{2} + {\\left(16 \\, {\\mathcal{C}}^{4} - 24 \\, {\\mathcal{C}}^{3} - 14 \\, {\\mathcal{C}}^{2} + 15 \\, {\\mathcal{C}} - 2\\right)} \\sqrt{4 \\, {\\mathcal{C}}^{4} - 2 \\, {\\mathcal{C}}^{2} - 2} + 6 \\, {\\mathcal{C}} + 10}, {\\kappa} = \\left(-1\\right)\\right]$"
      ],
      "text/plain": [
       "[kappa == -(32*C^6 + 48*C^5 - 36*C^4 - 42*C^3 - 6*C^2 + (16*C^4 + 24*C^3 - 14*C^2 - 15*C - 2)*sqrt(4*C^4 - 2*C^2 - 2) - 6*C + 10)/(32*C^6 - 48*C^5 - 36*C^4 + 42*C^3 - 6*C^2 + (16*C^4 - 24*C^3 - 14*C^2 + 15*C - 2)*sqrt(4*C^4 - 2*C^2 - 2) + 6*C + 10), kappa == -1]"
      ]
     },
     "metadata": {},
     "output_type": "display_data"
    },
    {
     "data": {
      "text/html": [
       "<html>\\(\\displaystyle \\left[{\\kappa} = -\\frac{32 \\, {\\mathcal{C}}^{6} + 48 \\, {\\mathcal{C}}^{5} - 36 \\, {\\mathcal{C}}^{4} - 42 \\, {\\mathcal{C}}^{3} - 6 \\, {\\mathcal{C}}^{2} - {\\left(16 \\, {\\mathcal{C}}^{4} + 24 \\, {\\mathcal{C}}^{3} - 14 \\, {\\mathcal{C}}^{2} - 15 \\, {\\mathcal{C}} - 2\\right)} \\sqrt{4 \\, {\\mathcal{C}}^{4} - 2 \\, {\\mathcal{C}}^{2} - 2} - 6 \\, {\\mathcal{C}} + 10}{32 \\, {\\mathcal{C}}^{6} - 48 \\, {\\mathcal{C}}^{5} - 36 \\, {\\mathcal{C}}^{4} + 42 \\, {\\mathcal{C}}^{3} - 6 \\, {\\mathcal{C}}^{2} - {\\left(16 \\, {\\mathcal{C}}^{4} - 24 \\, {\\mathcal{C}}^{3} - 14 \\, {\\mathcal{C}}^{2} + 15 \\, {\\mathcal{C}} - 2\\right)} \\sqrt{4 \\, {\\mathcal{C}}^{4} - 2 \\, {\\mathcal{C}}^{2} - 2} + 6 \\, {\\mathcal{C}} + 10}\\right]\\)</html>"
      ],
      "text/latex": [
       "$\\displaystyle \\left[{\\kappa} = -\\frac{32 \\, {\\mathcal{C}}^{6} + 48 \\, {\\mathcal{C}}^{5} - 36 \\, {\\mathcal{C}}^{4} - 42 \\, {\\mathcal{C}}^{3} - 6 \\, {\\mathcal{C}}^{2} - {\\left(16 \\, {\\mathcal{C}}^{4} + 24 \\, {\\mathcal{C}}^{3} - 14 \\, {\\mathcal{C}}^{2} - 15 \\, {\\mathcal{C}} - 2\\right)} \\sqrt{4 \\, {\\mathcal{C}}^{4} - 2 \\, {\\mathcal{C}}^{2} - 2} - 6 \\, {\\mathcal{C}} + 10}{32 \\, {\\mathcal{C}}^{6} - 48 \\, {\\mathcal{C}}^{5} - 36 \\, {\\mathcal{C}}^{4} + 42 \\, {\\mathcal{C}}^{3} - 6 \\, {\\mathcal{C}}^{2} - {\\left(16 \\, {\\mathcal{C}}^{4} - 24 \\, {\\mathcal{C}}^{3} - 14 \\, {\\mathcal{C}}^{2} + 15 \\, {\\mathcal{C}} - 2\\right)} \\sqrt{4 \\, {\\mathcal{C}}^{4} - 2 \\, {\\mathcal{C}}^{2} - 2} + 6 \\, {\\mathcal{C}} + 10}\\right]$"
      ],
      "text/plain": [
       "[kappa == -(32*C^6 + 48*C^5 - 36*C^4 - 42*C^3 - 6*C^2 - (16*C^4 + 24*C^3 - 14*C^2 - 15*C - 2)*sqrt(4*C^4 - 2*C^2 - 2) - 6*C + 10)/(32*C^6 - 48*C^5 - 36*C^4 + 42*C^3 - 6*C^2 - (16*C^4 - 24*C^3 - 14*C^2 + 15*C - 2)*sqrt(4*C^4 - 2*C^2 - 2) + 6*C + 10)]"
      ]
     },
     "metadata": {},
     "output_type": "display_data"
    },
    {
     "data": {
      "text/html": [
       "<html>\\(\\displaystyle \\left[{\\kappa} = -\\frac{32 \\, {\\mathcal{C}}^{6} + 48 \\, {\\mathcal{C}}^{5} - 36 \\, {\\mathcal{C}}^{4} - 42 \\, {\\mathcal{C}}^{3} - 6 \\, {\\mathcal{C}}^{2} - {\\left(16 \\, {\\mathcal{C}}^{4} + 24 \\, {\\mathcal{C}}^{3} - 14 \\, {\\mathcal{C}}^{2} - 15 \\, {\\mathcal{C}} - 2\\right)} \\sqrt{4 \\, {\\mathcal{C}}^{4} - 2 \\, {\\mathcal{C}}^{2} - 2} - 6 \\, {\\mathcal{C}} + 10}{32 \\, {\\mathcal{C}}^{6} - 48 \\, {\\mathcal{C}}^{5} - 36 \\, {\\mathcal{C}}^{4} + 42 \\, {\\mathcal{C}}^{3} - 6 \\, {\\mathcal{C}}^{2} - {\\left(16 \\, {\\mathcal{C}}^{4} - 24 \\, {\\mathcal{C}}^{3} - 14 \\, {\\mathcal{C}}^{2} + 15 \\, {\\mathcal{C}} - 2\\right)} \\sqrt{4 \\, {\\mathcal{C}}^{4} - 2 \\, {\\mathcal{C}}^{2} - 2} + 6 \\, {\\mathcal{C}} + 10}, {\\kappa} = \\left(-1\\right)\\right]\\)</html>"
      ],
      "text/latex": [
       "$\\displaystyle \\left[{\\kappa} = -\\frac{32 \\, {\\mathcal{C}}^{6} + 48 \\, {\\mathcal{C}}^{5} - 36 \\, {\\mathcal{C}}^{4} - 42 \\, {\\mathcal{C}}^{3} - 6 \\, {\\mathcal{C}}^{2} - {\\left(16 \\, {\\mathcal{C}}^{4} + 24 \\, {\\mathcal{C}}^{3} - 14 \\, {\\mathcal{C}}^{2} - 15 \\, {\\mathcal{C}} - 2\\right)} \\sqrt{4 \\, {\\mathcal{C}}^{4} - 2 \\, {\\mathcal{C}}^{2} - 2} - 6 \\, {\\mathcal{C}} + 10}{32 \\, {\\mathcal{C}}^{6} - 48 \\, {\\mathcal{C}}^{5} - 36 \\, {\\mathcal{C}}^{4} + 42 \\, {\\mathcal{C}}^{3} - 6 \\, {\\mathcal{C}}^{2} - {\\left(16 \\, {\\mathcal{C}}^{4} - 24 \\, {\\mathcal{C}}^{3} - 14 \\, {\\mathcal{C}}^{2} + 15 \\, {\\mathcal{C}} - 2\\right)} \\sqrt{4 \\, {\\mathcal{C}}^{4} - 2 \\, {\\mathcal{C}}^{2} - 2} + 6 \\, {\\mathcal{C}} + 10}, {\\kappa} = \\left(-1\\right)\\right]$"
      ],
      "text/plain": [
       "[kappa == -(32*C^6 + 48*C^5 - 36*C^4 - 42*C^3 - 6*C^2 - (16*C^4 + 24*C^3 - 14*C^2 - 15*C - 2)*sqrt(4*C^4 - 2*C^2 - 2) - 6*C + 10)/(32*C^6 - 48*C^5 - 36*C^4 + 42*C^3 - 6*C^2 - (16*C^4 - 24*C^3 - 14*C^2 + 15*C - 2)*sqrt(4*C^4 - 2*C^2 - 2) + 6*C + 10), kappa == -1]"
      ]
     },
     "metadata": {},
     "output_type": "display_data"
    },
    {
     "name": "stdout",
     "output_type": "stream",
     "text": [
      "values of E_R, O_R, E_I and O_I\n"
     ]
    },
    {
     "data": {
      "text/html": [
       "<html>\\(\\displaystyle 2 \\, {\\left(8 \\, {\\mathcal{C}}^{2} - 5\\right)} {\\left(2 \\, {\\mathcal{C}}^{2} + 1\\right)} {\\left({\\mathcal{C}} + 1\\right)} {\\left({\\mathcal{C}} - 1\\right)}\\)</html>"
      ],
      "text/latex": [
       "$\\displaystyle 2 \\, {\\left(8 \\, {\\mathcal{C}}^{2} - 5\\right)} {\\left(2 \\, {\\mathcal{C}}^{2} + 1\\right)} {\\left({\\mathcal{C}} + 1\\right)} {\\left({\\mathcal{C}} - 1\\right)}$"
      ],
      "text/plain": [
       "2*(8*C^2 - 5)*(2*C^2 + 1)*(C + 1)*(C - 1)"
      ]
     },
     "metadata": {},
     "output_type": "display_data"
    },
    {
     "data": {
      "text/html": [
       "<html>\\(\\displaystyle 6 \\, {\\left(8 \\, {\\mathcal{C}}^{2} + 1\\right)} {\\left({\\mathcal{C}} + 1\\right)} {\\left({\\mathcal{C}} - 1\\right)} {\\mathcal{C}}\\)</html>"
      ],
      "text/latex": [
       "$\\displaystyle 6 \\, {\\left(8 \\, {\\mathcal{C}}^{2} + 1\\right)} {\\left({\\mathcal{C}} + 1\\right)} {\\left({\\mathcal{C}} - 1\\right)} {\\mathcal{C}}$"
      ],
      "text/plain": [
       "6*(8*C^2 + 1)*(C + 1)*(C - 1)*C"
      ]
     },
     "metadata": {},
     "output_type": "display_data"
    },
    {
     "data": {
      "text/html": [
       "<html>\\(\\displaystyle 2 \\, {\\left(8 \\, {\\mathcal{C}}^{2} + 1\\right)} {\\left({\\mathcal{C}} + 1\\right)} {\\left({\\mathcal{C}} - 1\\right)}\\)</html>"
      ],
      "text/latex": [
       "$\\displaystyle 2 \\, {\\left(8 \\, {\\mathcal{C}}^{2} + 1\\right)} {\\left({\\mathcal{C}} + 1\\right)} {\\left({\\mathcal{C}} - 1\\right)}$"
      ],
      "text/plain": [
       "2*(8*C^2 + 1)*(C + 1)*(C - 1)"
      ]
     },
     "metadata": {},
     "output_type": "display_data"
    },
    {
     "data": {
      "text/html": [
       "<html>\\(\\displaystyle 3 \\, {\\left(8 \\, {\\mathcal{C}}^{2} - 5\\right)} {\\mathcal{C}}\\)</html>"
      ],
      "text/latex": [
       "$\\displaystyle 3 \\, {\\left(8 \\, {\\mathcal{C}}^{2} - 5\\right)} {\\mathcal{C}}$"
      ],
      "text/plain": [
       "3*(8*C^2 - 5)*C"
      ]
     },
     "metadata": {},
     "output_type": "display_data"
    },
    {
     "name": "stdout",
     "output_type": "stream",
     "text": [
      "Numerator in abs(k)^2\n"
     ]
    },
    {
     "data": {
      "text/html": [
       "<html>\\(\\displaystyle 2916 \\, {\\left(4 \\, {\\mathcal{C}}^{4} - 11 \\, {\\mathcal{C}}^{2} - 2\\right)}^{2} {\\left({\\mathcal{C}} + 1\\right)}^{2} {\\left({\\mathcal{C}} - 1\\right)}^{2}\\)</html>"
      ],
      "text/latex": [
       "$\\displaystyle 2916 \\, {\\left(4 \\, {\\mathcal{C}}^{4} - 11 \\, {\\mathcal{C}}^{2} - 2\\right)}^{2} {\\left({\\mathcal{C}} + 1\\right)}^{2} {\\left({\\mathcal{C}} - 1\\right)}^{2}$"
      ],
      "text/plain": [
       "2916*(4*C^4 - 11*C^2 - 2)^2*(C + 1)^2*(C - 1)^2"
      ]
     },
     "metadata": {},
     "output_type": "display_data"
    },
    {
     "name": "stdout",
     "output_type": "stream",
     "text": [
      "Denominator in abs(k)^2\n"
     ]
    },
    {
     "data": {
      "text/html": [
       "<html>\\(\\displaystyle 2916 \\, {\\left(4 \\, {\\mathcal{C}}^{4} - 11 \\, {\\mathcal{C}}^{2} - 2\\right)}^{2} {\\left({\\mathcal{C}} + 1\\right)}^{2} {\\left({\\mathcal{C}} - 1\\right)}^{2}\\)</html>"
      ],
      "text/latex": [
       "$\\displaystyle 2916 \\, {\\left(4 \\, {\\mathcal{C}}^{4} - 11 \\, {\\mathcal{C}}^{2} - 2\\right)}^{2} {\\left({\\mathcal{C}} + 1\\right)}^{2} {\\left({\\mathcal{C}} - 1\\right)}^{2}$"
      ],
      "text/plain": [
       "2916*(4*C^4 - 11*C^2 - 2)^2*(C + 1)^2*(C - 1)^2"
      ]
     },
     "metadata": {},
     "output_type": "display_data"
    },
    {
     "name": "stdout",
     "output_type": "stream",
     "text": [
      "Perturbation test on the other root (k=-1) on the critical z-s\n"
     ]
    },
    {
     "data": {
      "text/html": [
       "<html>\\(\\displaystyle \\left[{\\delta \\kappa} = \\frac{2 \\, {\\left(2 \\, {\\mathcal{C}}^{2} + 1\\right)} {\\delta z}}{3 \\, {\\mathcal{C}}}\\right]\\)</html>"
      ],
      "text/latex": [
       "$\\displaystyle \\left[{\\delta \\kappa} = \\frac{2 \\, {\\left(2 \\, {\\mathcal{C}}^{2} + 1\\right)} {\\delta z}}{3 \\, {\\mathcal{C}}}\\right]$"
      ],
      "text/plain": [
       "[dk == 2/3*(2*C^2 + 1)*dz/C]"
      ]
     },
     "metadata": {},
     "output_type": "display_data"
    },
    {
     "data": {
      "text/html": [
       "<html>\\(\\displaystyle \\left[{\\delta \\kappa} = \\frac{2 \\, {\\left(2 \\, {\\mathcal{C}}^{2} + 1\\right)} {\\delta z}}{3 \\, {\\mathcal{C}}}\\right]\\)</html>"
      ],
      "text/latex": [
       "$\\displaystyle \\left[{\\delta \\kappa} = \\frac{2 \\, {\\left(2 \\, {\\mathcal{C}}^{2} + 1\\right)} {\\delta z}}{3 \\, {\\mathcal{C}}}\\right]$"
      ],
      "text/plain": [
       "[dk == 2/3*(2*C^2 + 1)*dz/C]"
      ]
     },
     "metadata": {},
     "output_type": "display_data"
    },
    {
     "name": "stdout",
     "output_type": "stream",
     "text": [
      "To see whether the parametrization here is kminus or kplus\n"
     ]
    },
    {
     "data": {
      "text/html": [
       "<html>\\(\\displaystyle -1.00000000000000\\)</html>"
      ],
      "text/latex": [
       "$\\displaystyle -1.00000000000000$"
      ],
      "text/plain": [
       "-1.00000000000000"
      ]
     },
     "metadata": {},
     "output_type": "display_data"
    },
    {
     "data": {
      "text/html": [
       "<html>\\(\\displaystyle -0.914675767918089 - 0.404188371410478i\\)</html>"
      ],
      "text/latex": [
       "$\\displaystyle -0.914675767918089 - 0.404188371410478i$"
      ],
      "text/plain": [
       "-0.914675767918089 - 0.404188371410478*I"
      ]
     },
     "metadata": {},
     "output_type": "display_data"
    },
    {
     "data": {
      "text/html": [
       "<html>\\(\\displaystyle -1.00000000000000 - 1.11022302462516 \\times 10^{-16}i\\)</html>"
      ],
      "text/latex": [
       "$\\displaystyle -1.00000000000000 - 1.11022302462516 \\times 10^{-16}i$"
      ],
      "text/plain": [
       "-1.00000000000000 - 1.11022302462516e-16*I"
      ]
     },
     "metadata": {},
     "output_type": "display_data"
    },
    {
     "data": {
      "text/html": [
       "<html>\\(\\displaystyle -0.914675767918089 + 0.404188371410478i\\)</html>"
      ],
      "text/latex": [
       "$\\displaystyle -0.914675767918089 + 0.404188371410478i$"
      ],
      "text/plain": [
       "-0.914675767918089 + 0.404188371410478*I"
      ]
     },
     "metadata": {},
     "output_type": "display_data"
    },
    {
     "name": "stdout",
     "output_type": "stream",
     "text": [
      "---\n"
     ]
    },
    {
     "data": {
      "text/html": [
       "<html>\\(\\displaystyle -1.00000000000000\\)</html>"
      ],
      "text/latex": [
       "$\\displaystyle -1.00000000000000$"
      ],
      "text/plain": [
       "-1.00000000000000"
      ]
     },
     "metadata": {},
     "output_type": "display_data"
    },
    {
     "data": {
      "text/html": [
       "<html>\\(\\displaystyle -0.578947368421053 - 0.815364914991035i\\)</html>"
      ],
      "text/latex": [
       "$\\displaystyle -0.578947368421053 - 0.815364914991035i$"
      ],
      "text/plain": [
       "-0.578947368421053 - 0.815364914991035*I"
      ]
     },
     "metadata": {},
     "output_type": "display_data"
    },
    {
     "data": {
      "text/html": [
       "<html>\\(\\displaystyle -1.00000000000000\\)</html>"
      ],
      "text/latex": [
       "$\\displaystyle -1.00000000000000$"
      ],
      "text/plain": [
       "-1.00000000000000"
      ]
     },
     "metadata": {},
     "output_type": "display_data"
    },
    {
     "data": {
      "text/html": [
       "<html>\\(\\displaystyle -0.578947368421053 + 0.815364914991035i\\)</html>"
      ],
      "text/latex": [
       "$\\displaystyle -0.578947368421053 + 0.815364914991035i$"
      ],
      "text/plain": [
       "-0.578947368421053 + 0.815364914991035*I"
      ]
     },
     "metadata": {},
     "output_type": "display_data"
    },
    {
     "name": "stdout",
     "output_type": "stream",
     "text": [
      "---\n"
     ]
    },
    {
     "data": {
      "text/html": [
       "<html>\\(\\displaystyle -1.00000000000000 + 1.66533453693773 \\times 10^{-16}i\\)</html>"
      ],
      "text/latex": [
       "$\\displaystyle -1.00000000000000 + 1.66533453693773 \\times 10^{-16}i$"
      ],
      "text/plain": [
       "-1.00000000000000 + 1.66533453693773e-16*I"
      ]
     },
     "metadata": {},
     "output_type": "display_data"
    },
    {
     "data": {
      "text/html": [
       "<html>\\(\\displaystyle -0.0440211181886747 - 0.999030600709217i\\)</html>"
      ],
      "text/latex": [
       "$\\displaystyle -0.0440211181886747 - 0.999030600709217i$"
      ],
      "text/plain": [
       "-0.0440211181886747 - 0.999030600709217*I"
      ]
     },
     "metadata": {},
     "output_type": "display_data"
    },
    {
     "data": {
      "text/html": [
       "<html>\\(\\displaystyle -1.00000000000000 - 1.52655665885959 \\times 10^{-16}i\\)</html>"
      ],
      "text/latex": [
       "$\\displaystyle -1.00000000000000 - 1.52655665885959 \\times 10^{-16}i$"
      ],
      "text/plain": [
       "-1.00000000000000 - 1.52655665885959e-16*I"
      ]
     },
     "metadata": {},
     "output_type": "display_data"
    },
    {
     "data": {
      "text/html": [
       "<html>\\(\\displaystyle -0.0440211181886747 + 0.999030600709217i\\)</html>"
      ],
      "text/latex": [
       "$\\displaystyle -0.0440211181886747 + 0.999030600709217i$"
      ],
      "text/plain": [
       "-0.0440211181886747 + 0.999030600709217*I"
      ]
     },
     "metadata": {},
     "output_type": "display_data"
    },
    {
     "name": "stdout",
     "output_type": "stream",
     "text": [
      "---\n",
      "Conclusion: the right parametrization is kplus\n",
      "group velocity (without lambda)\n"
     ]
    },
    {
     "data": {
      "text/html": [
       "<html>\\(\\displaystyle \\frac{\\sqrt{5} {\\left(911 \\, \\sqrt{2} \\sqrt{-15} + 40905 \\, \\sqrt{2}\\right)} \\sqrt{3 \\, \\sqrt{-15} - 11} + 21804 \\, \\sqrt{-15} - 254540}{2 \\, {\\left(\\sqrt{5} {\\left(6841 \\, \\sqrt{2} \\sqrt{-15} - 10961 \\, \\sqrt{2}\\right)} \\sqrt{3 \\, \\sqrt{-15} - 11} + 159521 \\, \\sqrt{-15} + 264455\\right)}}\\)</html>"
      ],
      "text/latex": [
       "$\\displaystyle \\frac{\\sqrt{5} {\\left(911 \\, \\sqrt{2} \\sqrt{-15} + 40905 \\, \\sqrt{2}\\right)} \\sqrt{3 \\, \\sqrt{-15} - 11} + 21804 \\, \\sqrt{-15} - 254540}{2 \\, {\\left(\\sqrt{5} {\\left(6841 \\, \\sqrt{2} \\sqrt{-15} - 10961 \\, \\sqrt{2}\\right)} \\sqrt{3 \\, \\sqrt{-15} - 11} + 159521 \\, \\sqrt{-15} + 264455\\right)}}$"
      ],
      "text/plain": [
       "1/2*(sqrt(5)*(911*sqrt(2)*sqrt(-15) + 40905*sqrt(2))*sqrt(3*sqrt(-15) - 11) + 21804*sqrt(-15) - 254540)/(sqrt(5)*(6841*sqrt(2)*sqrt(-15) - 10961*sqrt(2))*sqrt(3*sqrt(-15) - 11) + 159521*sqrt(-15) + 264455)"
      ]
     },
     "metadata": {},
     "output_type": "display_data"
    },
    {
     "name": "stdout",
     "output_type": "stream",
     "text": [
      "group velocity (without lambda), totally simplified\n"
     ]
    },
    {
     "data": {
      "text/html": [
       "<html>\\(\\displaystyle \\frac{19}{41}\\)</html>"
      ],
      "text/latex": [
       "$\\displaystyle \\frac{19}{41}$"
      ],
      "text/plain": [
       "19/41"
      ]
     },
     "metadata": {},
     "output_type": "display_data"
    },
    {
     "name": "stdout",
     "output_type": "stream",
     "text": [
      "To understand what is the resonant source term for this instability\n"
     ]
    },
    {
     "data": {
      "text/html": [
       "<html>\\(\\displaystyle \\frac{\\left(\\sqrt{16 \\, {\\mathcal{C}}^{4} + 16 \\, {\\mathcal{C}}^{3} {\\left| {\\mathcal{C}} - 1 \\right|} + 8 \\, {\\mathcal{C}}^{2} {\\left(2 \\, {\\left| {\\mathcal{C}} - 1 \\right|} - 1\\right)} + 4 \\, {\\left(4 \\, \\sqrt{2} {\\mathcal{C}}^{2} \\cos\\left(\\frac{1}{2} \\, \\arctan\\left(0, {\\mathcal{C}} - 1\\right)\\right) - \\sqrt{2} \\cos\\left(\\frac{1}{2} \\, \\arctan\\left(0, {\\mathcal{C}} - 1\\right)\\right)\\right)} \\sqrt{2 \\, {\\mathcal{C}}^{2} + 1} \\sqrt{{\\mathcal{C}} + 1} \\sqrt{{\\left| {\\mathcal{C}} - 1 \\right|}} + 8 \\, {\\mathcal{C}} {\\left| {\\mathcal{C}} - 1 \\right|} + 8 \\, {\\left| {\\mathcal{C}} - 1 \\right|} + 1} e^{\\left(-i \\, \\arctan\\left(\\frac{2}{3} \\, \\sqrt{2} \\sqrt{2 \\, {\\mathcal{C}}^{2} + 1} \\sqrt{{\\mathcal{C}} + 1} \\sqrt{{\\left| {\\mathcal{C}} - 1 \\right|}} \\sin\\left(\\frac{1}{2} \\, \\arctan\\left(0, {\\mathcal{C}} - 1\\right)\\right), -\\frac{2}{3} \\, \\sqrt{2} \\sqrt{2 \\, {\\mathcal{C}}^{2} + 1} \\sqrt{{\\mathcal{C}} + 1} \\sqrt{{\\left| {\\mathcal{C}} - 1 \\right|}} \\cos\\left(\\frac{1}{2} \\, \\arctan\\left(0, {\\mathcal{C}} - 1\\right)\\right) - \\frac{4}{3} \\, {\\mathcal{C}}^{2} + \\frac{1}{3}\\right)\\right)}\\right)^{n}}{3^{n}}\\)</html>"
      ],
      "text/latex": [
       "$\\displaystyle \\frac{\\left(\\sqrt{16 \\, {\\mathcal{C}}^{4} + 16 \\, {\\mathcal{C}}^{3} {\\left| {\\mathcal{C}} - 1 \\right|} + 8 \\, {\\mathcal{C}}^{2} {\\left(2 \\, {\\left| {\\mathcal{C}} - 1 \\right|} - 1\\right)} + 4 \\, {\\left(4 \\, \\sqrt{2} {\\mathcal{C}}^{2} \\cos\\left(\\frac{1}{2} \\, \\arctan\\left(0, {\\mathcal{C}} - 1\\right)\\right) - \\sqrt{2} \\cos\\left(\\frac{1}{2} \\, \\arctan\\left(0, {\\mathcal{C}} - 1\\right)\\right)\\right)} \\sqrt{2 \\, {\\mathcal{C}}^{2} + 1} \\sqrt{{\\mathcal{C}} + 1} \\sqrt{{\\left| {\\mathcal{C}} - 1 \\right|}} + 8 \\, {\\mathcal{C}} {\\left| {\\mathcal{C}} - 1 \\right|} + 8 \\, {\\left| {\\mathcal{C}} - 1 \\right|} + 1} e^{\\left(-i \\, \\arctan\\left(\\frac{2}{3} \\, \\sqrt{2} \\sqrt{2 \\, {\\mathcal{C}}^{2} + 1} \\sqrt{{\\mathcal{C}} + 1} \\sqrt{{\\left| {\\mathcal{C}} - 1 \\right|}} \\sin\\left(\\frac{1}{2} \\, \\arctan\\left(0, {\\mathcal{C}} - 1\\right)\\right), -\\frac{2}{3} \\, \\sqrt{2} \\sqrt{2 \\, {\\mathcal{C}}^{2} + 1} \\sqrt{{\\mathcal{C}} + 1} \\sqrt{{\\left| {\\mathcal{C}} - 1 \\right|}} \\cos\\left(\\frac{1}{2} \\, \\arctan\\left(0, {\\mathcal{C}} - 1\\right)\\right) - \\frac{4}{3} \\, {\\mathcal{C}}^{2} + \\frac{1}{3}\\right)\\right)}\\right)^{n}}{3^{n}}$"
      ],
      "text/plain": [
       "(sqrt(16*C^4 + 16*C^3*abs(C - 1) + 8*C^2*(2*abs(C - 1) - 1) + 4*(4*sqrt(2)*C^2*cos(1/2*arctan2(0, C - 1)) - sqrt(2)*cos(1/2*arctan2(0, C - 1)))*sqrt(2*C^2 + 1)*sqrt(C + 1)*sqrt(abs(C - 1)) + 8*C*abs(C - 1) + 8*abs(C - 1) + 1)*e^(-I*arctan2(2/3*sqrt(2)*sqrt(2*C^2 + 1)*sqrt(C + 1)*sqrt(abs(C - 1))*sin(1/2*arctan2(0, C - 1)), -2/3*sqrt(2)*sqrt(2*C^2 + 1)*sqrt(C + 1)*sqrt(abs(C - 1))*cos(1/2*arctan2(0, C - 1)) - 4/3*C^2 + 1/3)))^n/3^n"
      ]
     },
     "metadata": {},
     "output_type": "display_data"
    },
    {
     "data": {
      "text/html": [
       "<html>\\(\\displaystyle \\frac{\\left(\\sqrt{16 \\, {\\mathcal{C}}^{4} + 16 \\, {\\mathcal{C}}^{3} {\\left| {\\mathcal{C}} - 1 \\right|} + 8 \\, {\\mathcal{C}}^{2} {\\left(2 \\, {\\left| {\\mathcal{C}} - 1 \\right|} - 1\\right)} - 4 \\, {\\left(4 \\, \\sqrt{2} {\\mathcal{C}}^{2} \\cos\\left(\\frac{1}{2} \\, \\arctan\\left(0, {\\mathcal{C}} - 1\\right)\\right) - \\sqrt{2} \\cos\\left(\\frac{1}{2} \\, \\arctan\\left(0, {\\mathcal{C}} - 1\\right)\\right)\\right)} \\sqrt{2 \\, {\\mathcal{C}}^{2} + 1} \\sqrt{{\\mathcal{C}} + 1} \\sqrt{{\\left| {\\mathcal{C}} - 1 \\right|}} + 8 \\, {\\mathcal{C}} {\\left| {\\mathcal{C}} - 1 \\right|} + 8 \\, {\\left| {\\mathcal{C}} - 1 \\right|} + 1} e^{\\left(i \\, \\arctan\\left(\\frac{2}{3} \\, \\sqrt{2} \\sqrt{2 \\, {\\mathcal{C}}^{2} + 1} \\sqrt{{\\mathcal{C}} + 1} \\sqrt{{\\left| {\\mathcal{C}} - 1 \\right|}} \\sin\\left(\\frac{1}{2} \\, \\arctan\\left(0, {\\mathcal{C}} - 1\\right)\\right), \\frac{2}{3} \\, \\sqrt{2} \\sqrt{2 \\, {\\mathcal{C}}^{2} + 1} \\sqrt{{\\mathcal{C}} + 1} \\sqrt{{\\left| {\\mathcal{C}} - 1 \\right|}} \\cos\\left(\\frac{1}{2} \\, \\arctan\\left(0, {\\mathcal{C}} - 1\\right)\\right) - \\frac{4}{3} \\, {\\mathcal{C}}^{2} + \\frac{1}{3}\\right)\\right)}\\right)^{n}}{3^{n}}\\)</html>"
      ],
      "text/latex": [
       "$\\displaystyle \\frac{\\left(\\sqrt{16 \\, {\\mathcal{C}}^{4} + 16 \\, {\\mathcal{C}}^{3} {\\left| {\\mathcal{C}} - 1 \\right|} + 8 \\, {\\mathcal{C}}^{2} {\\left(2 \\, {\\left| {\\mathcal{C}} - 1 \\right|} - 1\\right)} - 4 \\, {\\left(4 \\, \\sqrt{2} {\\mathcal{C}}^{2} \\cos\\left(\\frac{1}{2} \\, \\arctan\\left(0, {\\mathcal{C}} - 1\\right)\\right) - \\sqrt{2} \\cos\\left(\\frac{1}{2} \\, \\arctan\\left(0, {\\mathcal{C}} - 1\\right)\\right)\\right)} \\sqrt{2 \\, {\\mathcal{C}}^{2} + 1} \\sqrt{{\\mathcal{C}} + 1} \\sqrt{{\\left| {\\mathcal{C}} - 1 \\right|}} + 8 \\, {\\mathcal{C}} {\\left| {\\mathcal{C}} - 1 \\right|} + 8 \\, {\\left| {\\mathcal{C}} - 1 \\right|} + 1} e^{\\left(i \\, \\arctan\\left(\\frac{2}{3} \\, \\sqrt{2} \\sqrt{2 \\, {\\mathcal{C}}^{2} + 1} \\sqrt{{\\mathcal{C}} + 1} \\sqrt{{\\left| {\\mathcal{C}} - 1 \\right|}} \\sin\\left(\\frac{1}{2} \\, \\arctan\\left(0, {\\mathcal{C}} - 1\\right)\\right), \\frac{2}{3} \\, \\sqrt{2} \\sqrt{2 \\, {\\mathcal{C}}^{2} + 1} \\sqrt{{\\mathcal{C}} + 1} \\sqrt{{\\left| {\\mathcal{C}} - 1 \\right|}} \\cos\\left(\\frac{1}{2} \\, \\arctan\\left(0, {\\mathcal{C}} - 1\\right)\\right) - \\frac{4}{3} \\, {\\mathcal{C}}^{2} + \\frac{1}{3}\\right)\\right)}\\right)^{n}}{3^{n}}$"
      ],
      "text/plain": [
       "(sqrt(16*C^4 + 16*C^3*abs(C - 1) + 8*C^2*(2*abs(C - 1) - 1) - 4*(4*sqrt(2)*C^2*cos(1/2*arctan2(0, C - 1)) - sqrt(2)*cos(1/2*arctan2(0, C - 1)))*sqrt(2*C^2 + 1)*sqrt(C + 1)*sqrt(abs(C - 1)) + 8*C*abs(C - 1) + 8*abs(C - 1) + 1)*e^(I*arctan2(2/3*sqrt(2)*sqrt(2*C^2 + 1)*sqrt(C + 1)*sqrt(abs(C - 1))*sin(1/2*arctan2(0, C - 1)), 2/3*sqrt(2)*sqrt(2*C^2 + 1)*sqrt(C + 1)*sqrt(abs(C - 1))*cos(1/2*arctan2(0, C - 1)) - 4/3*C^2 + 1/3)))^n/3^n"
      ]
     },
     "metadata": {},
     "output_type": "display_data"
    },
    {
     "name": "stdout",
     "output_type": "stream",
     "text": [
      "Computation of the stable eigenvector\n",
      "We observe that the eigenvector does not blow up\n"
     ]
    },
    {
     "data": {
      "text/html": [
       "<html>\\(\\displaystyle -0.100000000000000 - 0.0717740562565274i\\)</html>"
      ],
      "text/latex": [
       "$\\displaystyle -0.100000000000000 - 0.0717740562565274i$"
      ],
      "text/plain": [
       "-0.100000000000000 - 0.0717740562565274*I"
      ]
     },
     "metadata": {},
     "output_type": "display_data"
    },
    {
     "data": {
      "text/html": [
       "<html>\\(\\displaystyle 0.340000000000000 - 0.473708771293080i\\)</html>"
      ],
      "text/latex": [
       "$\\displaystyle 0.340000000000000 - 0.473708771293080i$"
      ],
      "text/plain": [
       "0.340000000000000 - 0.473708771293080*I"
      ]
     },
     "metadata": {},
     "output_type": "display_data"
    },
    {
     "name": "stdout",
     "output_type": "stream",
     "text": [
      "----\n"
     ]
    },
    {
     "data": {
      "text/html": [
       "<html>\\(\\displaystyle -0.250000000000000 - 0.193649167310371i\\)</html>"
      ],
      "text/latex": [
       "$\\displaystyle -0.250000000000000 - 0.193649167310371i$"
      ],
      "text/plain": [
       "-0.250000000000000 - 0.193649167310371*I"
      ]
     },
     "metadata": {},
     "output_type": "display_data"
    },
    {
     "data": {
      "text/html": [
       "<html>\\(\\displaystyle 0.375000000000000 - 0.484122918275927i\\)</html>"
      ],
      "text/latex": [
       "$\\displaystyle 0.375000000000000 - 0.484122918275927i$"
      ],
      "text/plain": [
       "0.375000000000000 - 0.484122918275927*I"
      ]
     },
     "metadata": {},
     "output_type": "display_data"
    },
    {
     "name": "stdout",
     "output_type": "stream",
     "text": [
      "----\n"
     ]
    },
    {
     "data": {
      "text/html": [
       "<html>\\(\\displaystyle -0.478260869565215 - 0.464886525744932i\\)</html>"
      ],
      "text/latex": [
       "$\\displaystyle -0.478260869565215 - 0.464886525744932i$"
      ],
      "text/plain": [
       "-0.478260869565215 - 0.464886525744932*I"
      ]
     },
     "metadata": {},
     "output_type": "display_data"
    },
    {
     "data": {
      "text/html": [
       "<html>\\(\\displaystyle 0.485822306238185 - 0.499798952579531i\\)</html>"
      ],
      "text/latex": [
       "$\\displaystyle 0.485822306238185 - 0.499798952579531i$"
      ],
      "text/plain": [
       "0.485822306238185 - 0.499798952579531*I"
      ]
     },
     "metadata": {},
     "output_type": "display_data"
    },
    {
     "name": "stdout",
     "output_type": "stream",
     "text": [
      "----\n",
      "I check that the eigenvector for the bulk is also eigenvector for the boundary, thus instability\n",
      "Computations are performed directly on the limit point\n"
     ]
    },
    {
     "data": {
      "text/html": [
       "<html>\\(\\displaystyle 0\\)</html>"
      ],
      "text/latex": [
       "$\\displaystyle 0$"
      ],
      "text/plain": [
       "0"
      ]
     },
     "metadata": {},
     "output_type": "display_data"
    },
    {
     "data": {
      "text/html": [
       "<html>\\(\\displaystyle 0\\)</html>"
      ],
      "text/latex": [
       "$\\displaystyle 0$"
      ],
      "text/plain": [
       "0"
      ]
     },
     "metadata": {},
     "output_type": "display_data"
    },
    {
     "data": {
      "text/html": [
       "<html>\\(\\displaystyle 0\\)</html>"
      ],
      "text/latex": [
       "$\\displaystyle 0$"
      ],
      "text/plain": [
       "0"
      ]
     },
     "metadata": {},
     "output_type": "display_data"
    }
   ],
   "source": [
    "print(\"Anti Bounce back (now correct)\")\n",
    "kABB = solve(bdMat_ABB.determinant().full_simplify(), k)[0].rhs().full_simplify()\n",
    "zABB = solve(charEq.full_simplify().subs(k==kABB), z)\n",
    "pretty_print(zABB)\n",
    "\n",
    "zABBMinus = zABB[0].rhs()\n",
    "zABBPlus  = zABB[1].rhs()\n",
    "\n",
    "pretty_print(solve(bdMat_ABB.determinant().full_simplify().subs(z==zABBMinus).full_simplify(), k))\n",
    "pretty_print(solve(charEq.subs(z==zABBMinus).full_simplify(), k))\n",
    "\n",
    "pretty_print(solve(bdMat_ABB.determinant().full_simplify().subs(z==zABBPlus).full_simplify(), k))\n",
    "pretty_print(solve(charEq.subs(z==zABBPlus).full_simplify(), k))\n",
    "\n",
    "#print(solve(bdMat_ABB.determinant().full_simplify().subs(z==zABBMinus).full_simplify(), k))\n",
    "\n",
    "R = -(4*C^4 - 2*C^2 - 2).factor()\n",
    "RealPoly = 32*C^6 + 48*C^5 - 36*C^4 - 42*C^3 - 6*C^2 - 6*C + 10\n",
    "ImagPoly = 16*C^4 + 24*C^3 - 14*C^2 - 15*C - 2\n",
    "ER = (1/2*(RealPoly+RealPoly.subs(C==-C))).factor()\n",
    "OR = (1/2*(RealPoly-RealPoly.subs(C==-C))).factor()\n",
    "EI = (1/2*(ImagPoly+ImagPoly.subs(C==-C))).factor()\n",
    "OI = (1/2*(ImagPoly-ImagPoly.subs(C==-C))).factor()\n",
    "\n",
    "print('values of E_R, O_R, E_I and O_I')\n",
    "pretty_print(ER)\n",
    "pretty_print(OR)\n",
    "pretty_print(EI)\n",
    "pretty_print(OI)\n",
    "\n",
    "er = var(\"er\", latex_name=\"\\\\mathcal{E}_R\") \n",
    "ei = var(\"ei\", latex_name=\"\\\\mathcal{E}_I\") \n",
    "odr = var(\"odr\", latex_name=\"\\\\mathcal{O}_R\") \n",
    "odi = var(\"odi\", latex_name=\"\\\\mathcal{O}_I\") \n",
    "r = var(\"r\", latex_name=\"\\\\mathcal{R}\") \n",
    "assume(er, 'real')\n",
    "assume(ei, 'real')\n",
    "assume(odr, 'real')\n",
    "assume(odi, 'real')\n",
    "assume(r>0)\n",
    "\n",
    "\n",
    "num = (er+odr+I*(ei+odi)*sqrt(r))\n",
    "den = (er-odr+I*(ei-odi)*sqrt(r))\n",
    "\n",
    "numMod = ((num*conjugate(den)).full_simplify())\n",
    "denMod = ((den*conjugate(den)).full_simplify())\n",
    "print('Numerator in abs(k)^2')\n",
    "pretty_print((numMod.real()**2+numMod.imag()**2).full_simplify().factor().subs(er==ER, ei==EI, odr==OR, odi==OI, r==R).full_simplify().factor())\n",
    "print('Denominator in abs(k)^2')\n",
    "pretty_print((denMod.real()**2+denMod.imag()**2).full_simplify().factor().subs(er==ER, ei==EI, odr==OR, odi==OI, r==R).full_simplify().factor())\n",
    "\n",
    "\n",
    "dz = var(\"dz\", latex_name=\"\\\\delta z\") \n",
    "dk = var(\"dk\", latex_name=\"\\\\delta \\\\kappa\") \n",
    "\n",
    "print('Perturbation test on the other root (k=-1) on the critical z-s')\n",
    "pretty_print(solve(taylor(charEq.subs(z==zABBMinus*(1+dz), k==-1+dk).full_simplify(), (dz, 0), (dk, 0), 1), dk))\n",
    "pretty_print(solve(taylor(charEq.subs(z==zABBPlus*(1+dz), k==-1+dk).full_simplify(), (dz, 0), (dk, 0), 1), dk))\n",
    "\n",
    "#assume(C<0)\n",
    "\n",
    "print('To see whether the parametrization here is kminus or kplus')\n",
    "for Cval in [-1/10, -1/4, -11/23]:\n",
    "    pretty_print(kminus.subs(z==zABBMinus).full_simplify().subs(C==Cval).n())\n",
    "    pretty_print(kplus.subs(z==zABBMinus).full_simplify().subs(C==Cval).n())\n",
    "    pretty_print(kminus.subs(z==zABBPlus).full_simplify().subs(C==Cval).n())\n",
    "    pretty_print(kplus.subs(z==zABBPlus).full_simplify().subs(C==Cval).n())\n",
    "    print('---')\n",
    "print('Conclusion: the right parametrization is kplus')    \n",
    "\n",
    "ks = kplus.full_simplify()\n",
    "\n",
    "Cval = -1/4\n",
    "Vgroup = -(ks/z/derivative(ks, z)).subs(z==zABBMinus).full_simplify().subs(C==Cval) ### Group velocity without \\lambda\n",
    "print('group velocity (without lambda)')\n",
    "pretty_print(Vgroup)\n",
    "print('group velocity (without lambda), totally simplified')\n",
    "pretty_print(abs(Vgroup.maxima_methods().polarform()).canonicalize_radical()) ### https://ask.sagemath.org/question/43617/is-there-a-sage-command-to-compute-complex-numbers/\n",
    "#### This maxima_methods().polarform()).canonicalize_radical() can be in principle be used to study the modulus of k as done before\n",
    "\n",
    "var('n')\n",
    "print('To understand what is the resonant source term for this instability')\n",
    "pretty_print((zABBMinus.canonicalize_radical().maxima_methods().polarform()**n).expand().full_simplify())\n",
    "pretty_print((zABBPlus.canonicalize_radical().maxima_methods().polarform()**n).expand().full_simplify())\n",
    "\n",
    "\n",
    "print('Computation of the stable eigenvector')\n",
    "LzOnStable = Lz.subs(k==ks)\n",
    "for i in range(q):\n",
    "    for j in range(q):\n",
    "        LzOnStable[i, j] = LzOnStable[i, j].full_simplify()\n",
    "        \n",
    "LzOnStableKer = LzOnStable.transpose().kernel()\n",
    "phiS = matrix([[LzOnStableKer.basis()[0][0].full_simplify()], \\\n",
    "               [LzOnStableKer.basis()[0][1].full_simplify()], \\\n",
    "               [LzOnStableKer.basis()[0][2].full_simplify()]]) ### It can take a certain time but it terminates\n",
    "\n",
    "print('We observe that the eigenvector does not blow up')\n",
    "for Cval in [-1/10, -1/4, -11/23]:\n",
    "    pretty_print(phiS[1][0].subs(z==zABBMinus).subs(C==Cval).canonicalize_radical().full_simplify().n())\n",
    "    pretty_print(phiS[2][0].subs(z==zABBMinus).subs(C==Cval).canonicalize_radical().full_simplify().n())\n",
    "    print('----')\n",
    "    \n",
    "print(\"I check that the eigenvector for the bulk is also eigenvector for the boundary, thus instability\")\n",
    "print(\"Computations are performed directly on the limit point\")\n",
    "kStar = kABB.subs(z==zABBMinus).full_simplify().canonicalize_radical()\n",
    "LzOnStable = Lz.subs(z==zABBMinus.canonicalize_radical(), k==kStar)\n",
    "for i in range(q):\n",
    "    for j in range(q):\n",
    "        LzOnStable[i, j] = LzOnStable[i, j].full_simplify()\n",
    "        \n",
    "LzOnStableKer = LzOnStable.transpose().kernel()\n",
    "phiS = matrix([[LzOnStableKer.basis()[0][0].full_simplify()], \\\n",
    "               [LzOnStableKer.basis()[0][1].full_simplify()], \\\n",
    "               [LzOnStableKer.basis()[0][2].full_simplify()]]) ### It can take a certain time but it terminates\n",
    "bd00 = matrix(SR, q, q)\n",
    "bd01 = matrix(SR, q, q)\n",
    "\n",
    "for i in range(q):\n",
    "    for j in range(q):\n",
    "        bd00[i, j] = bdMat_ABB[i, j].subs(z==zABBMinus.canonicalize_radical()).full_simplify().collect(k).coefficient(k, 0)\n",
    "        bd01[i, j] = bdMat_ABB[i, j].subs(z==zABBMinus.canonicalize_radical()).full_simplify().collect(k).coefficient(k, 1)\n",
    "        \n",
    "firstColBKL = (bd00 + bd01*kStar)*phiS ### First column\n",
    "for i in range(q):\n",
    "    pretty_print(firstColBKL[i][0].full_simplify())"
   ]
  },
  {
   "cell_type": "code",
   "execution_count": 9,
   "id": "3635756a",
   "metadata": {},
   "outputs": [
    {
     "name": "stdout",
     "output_type": "stream",
     "text": [
      "Value of kminus at z=-1\n"
     ]
    },
    {
     "data": {
      "text/html": [
       "<html>\\(\\displaystyle 1\\)</html>"
      ],
      "text/latex": [
       "$\\displaystyle 1$"
      ],
      "text/plain": [
       "1"
      ]
     },
     "metadata": {},
     "output_type": "display_data"
    },
    {
     "name": "stdout",
     "output_type": "stream",
     "text": [
      "Value of kplus at z=-1\n"
     ]
    },
    {
     "data": {
      "text/html": [
       "<html>\\(\\displaystyle 1\\)</html>"
      ],
      "text/latex": [
       "$\\displaystyle 1$"
      ],
      "text/plain": [
       "1"
      ]
     },
     "metadata": {},
     "output_type": "display_data"
    },
    {
     "name": "stdout",
     "output_type": "stream",
     "text": [
      "Perturbation test\n",
      "For kminus\n"
     ]
    },
    {
     "data": {
      "text/html": [
       "<html>\\(\\displaystyle \\frac{{\\left(i \\, \\sqrt{3} \\sqrt{5 \\, {\\mathcal{C}}^{2} - 8} + 3 \\, {\\mathcal{C}}\\right)} {\\delta z}}{4 \\, {\\left({\\mathcal{C}}^{2} - 1\\right)}} + 1\\)</html>"
      ],
      "text/latex": [
       "$\\displaystyle \\frac{{\\left(i \\, \\sqrt{3} \\sqrt{5 \\, {\\mathcal{C}}^{2} - 8} + 3 \\, {\\mathcal{C}}\\right)} {\\delta z}}{4 \\, {\\left({\\mathcal{C}}^{2} - 1\\right)}} + 1$"
      ],
      "text/plain": [
       "1/4*(I*sqrt(3)*sqrt(5*C^2 - 8) + 3*C)*dz/(C^2 - 1) + 1"
      ]
     },
     "metadata": {},
     "output_type": "display_data"
    },
    {
     "name": "stdout",
     "output_type": "stream",
     "text": [
      "For kplus\n"
     ]
    },
    {
     "data": {
      "text/html": [
       "<html>\\(\\displaystyle \\frac{{\\left(-i \\, \\sqrt{3} \\sqrt{5 \\, {\\mathcal{C}}^{2} - 8} + 3 \\, {\\mathcal{C}}\\right)} {\\delta z}}{4 \\, {\\left({\\mathcal{C}}^{2} - 1\\right)}} + 1\\)</html>"
      ],
      "text/latex": [
       "$\\displaystyle \\frac{{\\left(-i \\, \\sqrt{3} \\sqrt{5 \\, {\\mathcal{C}}^{2} - 8} + 3 \\, {\\mathcal{C}}\\right)} {\\delta z}}{4 \\, {\\left({\\mathcal{C}}^{2} - 1\\right)}} + 1$"
      ],
      "text/plain": [
       "1/4*(-I*sqrt(3)*sqrt(5*C^2 - 8) + 3*C)*dz/(C^2 - 1) + 1"
      ]
     },
     "metadata": {},
     "output_type": "display_data"
    },
    {
     "name": "stdout",
     "output_type": "stream",
     "text": [
      "Value of kminus at z=1\n"
     ]
    },
    {
     "data": {
      "text/html": [
       "<html>\\(\\displaystyle 1\\)</html>"
      ],
      "text/latex": [
       "$\\displaystyle 1$"
      ],
      "text/plain": [
       "1"
      ]
     },
     "metadata": {},
     "output_type": "display_data"
    },
    {
     "name": "stdout",
     "output_type": "stream",
     "text": [
      "Value of kplus at z=1\n"
     ]
    },
    {
     "data": {
      "text/html": [
       "<html>\\(\\displaystyle -1\\)</html>"
      ],
      "text/latex": [
       "$\\displaystyle -1$"
      ],
      "text/plain": [
       "-1"
      ]
     },
     "metadata": {},
     "output_type": "display_data"
    },
    {
     "name": "stdout",
     "output_type": "stream",
     "text": [
      "Group velocity of the stable mode at z=-1\n"
     ]
    },
    {
     "data": {
      "text/html": [
       "<html>\\(\\displaystyle \\frac{4 \\, {\\left({\\mathcal{C}}^{2} - 1\\right)}}{i \\, \\sqrt{3} \\sqrt{5 \\, {\\mathcal{C}}^{2} - 8} - 3 \\, {\\mathcal{C}}}\\)</html>"
      ],
      "text/latex": [
       "$\\displaystyle \\frac{4 \\, {\\left({\\mathcal{C}}^{2} - 1\\right)}}{i \\, \\sqrt{3} \\sqrt{5 \\, {\\mathcal{C}}^{2} - 8} - 3 \\, {\\mathcal{C}}}$"
      ],
      "text/plain": [
       "4*(C^2 - 1)/(I*sqrt(3)*sqrt(5*C^2 - 8) - 3*C)"
      ]
     },
     "metadata": {},
     "output_type": "display_data"
    },
    {
     "name": "stdout",
     "output_type": "stream",
     "text": [
      "Group velocity of the stable mode at z=1\n"
     ]
    },
    {
     "data": {
      "text/html": [
       "<html>\\(\\displaystyle -\\frac{3 \\, {\\mathcal{C}}}{2 \\, {\\mathcal{C}}^{2} + 1}\\)</html>"
      ],
      "text/latex": [
       "$\\displaystyle -\\frac{3 \\, {\\mathcal{C}}}{2 \\, {\\mathcal{C}}^{2} + 1}$"
      ],
      "text/plain": [
       "-3*C/(2*C^2 + 1)"
      ]
     },
     "metadata": {},
     "output_type": "display_data"
    },
    {
     "name": "stdout",
     "output_type": "stream",
     "text": [
      "Expansion of the second component of phiS around z = -1\n"
     ]
    },
    {
     "data": {
      "text/html": [
       "<html>\\(\\displaystyle -\\frac{4 \\, {\\left(i \\, \\sqrt{3} \\sqrt{5 \\, {\\mathcal{C}}^{2} - 8} + 3 \\, {\\mathcal{C}}\\right)} {\\left({\\mathcal{C}} + 1\\right)} {\\left({\\mathcal{C}} - 1\\right)}}{3 \\, {\\left(-i \\, \\sqrt{3} \\sqrt{5 \\, {\\mathcal{C}}^{2} - 8} {\\mathcal{C}} + {\\mathcal{C}}^{2} - 4\\right)} {\\left({z} + 1\\right)}}\\)</html>"
      ],
      "text/latex": [
       "$\\displaystyle -\\frac{4 \\, {\\left(i \\, \\sqrt{3} \\sqrt{5 \\, {\\mathcal{C}}^{2} - 8} + 3 \\, {\\mathcal{C}}\\right)} {\\left({\\mathcal{C}} + 1\\right)} {\\left({\\mathcal{C}} - 1\\right)}}{3 \\, {\\left(-i \\, \\sqrt{3} \\sqrt{5 \\, {\\mathcal{C}}^{2} - 8} {\\mathcal{C}} + {\\mathcal{C}}^{2} - 4\\right)} {\\left({z} + 1\\right)}}$"
      ],
      "text/plain": [
       "-4/3*(I*sqrt(3)*sqrt(5*C^2 - 8) + 3*C)*(C + 1)*(C - 1)/((-I*sqrt(3)*sqrt(5*C^2 - 8)*C + C^2 - 4)*(z + 1))"
      ]
     },
     "metadata": {},
     "output_type": "display_data"
    },
    {
     "name": "stdout",
     "output_type": "stream",
     "text": [
      "Expansion of the third component of phiS around z = -1\n"
     ]
    },
    {
     "data": {
      "text/html": [
       "<html>\\(\\displaystyle \\frac{4 \\, {\\left({\\mathcal{C}}^{2} - 1\\right)}}{3 \\, {\\left({z} + 1\\right)}} + 1\\)</html>"
      ],
      "text/latex": [
       "$\\displaystyle \\frac{4 \\, {\\left({\\mathcal{C}}^{2} - 1\\right)}}{3 \\, {\\left({z} + 1\\right)}} + 1$"
      ],
      "text/plain": [
       "4/3*(C^2 - 1)/(z + 1) + 1"
      ]
     },
     "metadata": {},
     "output_type": "display_data"
    },
    {
     "name": "stdout",
     "output_type": "stream",
     "text": [
      "Expansion of the second component of phiS around z = 1\n"
     ]
    },
    {
     "data": {
      "text/html": [
       "<html>\\(\\displaystyle -\\frac{{\\left(2 \\, {\\mathcal{C}}^{2} + 1\\right)} {\\left({z} - 1\\right)}}{6 \\, {\\mathcal{C}}} - \\frac{2 \\, {\\mathcal{C}}}{{z} - 1}\\)</html>"
      ],
      "text/latex": [
       "$\\displaystyle -\\frac{{\\left(2 \\, {\\mathcal{C}}^{2} + 1\\right)} {\\left({z} - 1\\right)}}{6 \\, {\\mathcal{C}}} - \\frac{2 \\, {\\mathcal{C}}}{{z} - 1}$"
      ],
      "text/plain": [
       "-1/6*(2*C^2 + 1)*(z - 1)/C - 2*C/(z - 1)"
      ]
     },
     "metadata": {},
     "output_type": "display_data"
    },
    {
     "name": "stdout",
     "output_type": "stream",
     "text": [
      "Expansion of the third component of phiS around z = 1\n"
     ]
    },
    {
     "data": {
      "text/html": [
       "<html>\\(\\displaystyle \\frac{2}{3} \\, {\\mathcal{C}}^{2} - \\frac{1}{3} \\, {\\left({\\mathcal{C}}^{2} - 1\\right)} {\\left({z} - 1\\right)} + \\frac{1}{3}\\)</html>"
      ],
      "text/latex": [
       "$\\displaystyle \\frac{2}{3} \\, {\\mathcal{C}}^{2} - \\frac{1}{3} \\, {\\left({\\mathcal{C}}^{2} - 1\\right)} {\\left({z} - 1\\right)} + \\frac{1}{3}$"
      ],
      "text/plain": [
       "2/3*C^2 - 1/3*(C^2 - 1)*(z - 1) + 1/3"
      ]
     },
     "metadata": {},
     "output_type": "display_data"
    },
    {
     "name": "stdout",
     "output_type": "stream",
     "text": [
      "Basis for the eigenspace of k = 0\n"
     ]
    },
    {
     "data": {
      "text/html": [
       "<html>\\(\\displaystyle \\left[\\left(1,\\,0,\\,\\frac{4}{3} \\, {\\mathcal{C}}^{2} + 2 \\, {\\mathcal{C}} + \\frac{2}{3}\\right), \\left(0,\\,1,\\,-1\\right)\\right]\\)</html>"
      ],
      "text/latex": [
       "$\\displaystyle \\left[\\left(1,\\,0,\\,\\frac{4}{3} \\, {\\mathcal{C}}^{2} + 2 \\, {\\mathcal{C}} + \\frac{2}{3}\\right), \\left(0,\\,1,\\,-1\\right)\\right]$"
      ],
      "text/plain": [
       "[\n",
       "(1, 0, 4/3*C^2 + 2*C + 2/3),\n",
       "(0, 1, -1)\n",
       "]"
      ]
     },
     "metadata": {},
     "output_type": "display_data"
    }
   ],
   "source": [
    "### Critical points (-1, 1) and (1, -1) (plus (zstar, kstar) for the anti bounce back condition)\n",
    "forget()\n",
    "assume(C<0)\n",
    "print(\"Value of kminus at z=-1\")\n",
    "pretty_print(kminus.subs(z==-1).full_simplify())\n",
    "print(\"Value of kplus at z=-1\")\n",
    "pretty_print(kplus.subs(z==-1).full_simplify())\n",
    "print('Perturbation test')\n",
    "dz = var(\"dz\", latex_name=\"\\\\delta z\") \n",
    "print('For kminus')\n",
    "pretty_print(taylor(kminus.subs(z==-1-dz), dz, 0, 1))\n",
    "print('For kplus')\n",
    "pretty_print(taylor(kplus.subs(z==-1-dz), dz, 0, 1))\n",
    "print(\"Value of kminus at z=1\")\n",
    "pretty_print(kminus.subs(z==1).full_simplify())\n",
    "print(\"Value of kplus at z=1\")\n",
    "pretty_print(kplus.subs(z==1).full_simplify())\n",
    "\n",
    "ks = kplus.full_simplify()\n",
    "\n",
    "print(\"Group velocity of the stable mode at z=-1\")\n",
    "pretty_print((ks/z/(taylor(kplus.subs(z==-1-dz), dz, 0, 1) - 1).subs(dz==1)).subs(z==-1).full_simplify())\n",
    "\n",
    "print(\"Group velocity of the stable mode at z=1\")\n",
    "pretty_print((-ks/z/ks.derivative(z)).subs(z==1).full_simplify())\n",
    "\n",
    "\n",
    "LzOnStable = Lz.subs(k==ks) ### This is the matrix polynomial where k is replaced by ks (stable root)\n",
    "for i in range(q):\n",
    "    for j in range(q):\n",
    "        LzOnStable[i, j] = LzOnStable[i, j].full_simplify()\n",
    "        \n",
    "#pretty_print(LzOnStable.transpose().kernel()) #### This is the stable eigenvalue phi_s\n",
    "phiS = matrix([[LzOnStable.transpose().kernel().basis()[0][0]], \\\n",
    "               [LzOnStable.transpose().kernel().basis()[0][1].full_simplify()], \\\n",
    "               [LzOnStable.transpose().kernel().basis()[0][2].full_simplify()]])\n",
    "\n",
    "#### Structure of the eigenvector close to the critical points\n",
    "print('Expansion of the second component of phiS around z = -1')\n",
    "pretty_print(taylor(phiS[1][0], z, -1, -1).factor())\n",
    "print('Expansion of the third component of phiS around z = -1')\n",
    "pretty_print(taylor(phiS[2][0], z, -1, 0))\n",
    "print('Expansion of the second component of phiS around z = 1')\n",
    "pretty_print(taylor(phiS[1][0], z, 1, 1))\n",
    "print('Expansion of the third component of phiS around z = 1')\n",
    "pretty_print(taylor(phiS[2][0], z, 1, 1))\n",
    "\n",
    "\n",
    "\n",
    "#### We construct the eigenvectors for k = 0\n",
    "print(\"Basis for the eigenspace of k = 0\")\n",
    "pretty_print(Lz.subs(k==0).transpose().kernel().basis())\n",
    "phi01 = matrix([[Lz.subs(k==0).transpose().kernel().basis()[0][0]], \\\n",
    "                [Lz.subs(k==0).transpose().kernel().basis()[0][1]], \\\n",
    "                [Lz.subs(k==0).transpose().kernel().basis()[0][2]]]) ## First vector\n",
    "phi02 = matrix([[Lz.subs(k==0).transpose().kernel().basis()[1][0]], \\\n",
    "                [Lz.subs(k==0).transpose().kernel().basis()[1][1]], \\\n",
    "                [Lz.subs(k==0).transpose().kernel().basis()[1][2]]]) ## Second vector\n",
    "\n",
    "bd00  = matrix(SR, q, q)\n",
    "bd01 = matrix(SR, q, q)\n",
    "bd02 = matrix(SR, q, q)\n",
    "bd03 = matrix(SR, q, q)\n",
    "BKL = matrix(SR, q, q) #### Boundary matrix on the stable subspace\n",
    "\n",
    "\n",
    "g1m1Tilde = 1 ### Source term used in the experiments"
   ]
  },
  {
   "cell_type": "code",
   "execution_count": 9,
   "id": "d1b4c51a",
   "metadata": {},
   "outputs": [
    {
     "name": "stdout",
     "output_type": "stream",
     "text": [
      "======= Bounce back ======\n",
      "Kreiss Lopatinskii determinant at z = -1\n"
     ]
    },
    {
     "data": {
      "text/html": [
       "<html>\\(\\displaystyle -\\frac{32 \\, {\\left(5 i \\, \\sqrt{3} \\sqrt{5 \\, {\\mathcal{C}}^{2} - 8} {\\mathcal{C}}^{4} + 3 \\, {\\mathcal{C}}^{5} - 10 i \\, \\sqrt{3} \\sqrt{5 \\, {\\mathcal{C}}^{2} - 8} {\\mathcal{C}}^{2} + 30 \\, {\\mathcal{C}}^{3} - 4 i \\, \\sqrt{3} \\sqrt{5 \\, {\\mathcal{C}}^{2} - 8} - 60 \\, {\\mathcal{C}}\\right)} {\\left({\\mathcal{C}} + 1\\right)}^{2} {\\left({\\mathcal{C}} - 1\\right)}^{2}}{9 \\, {\\left(-3 i \\, \\sqrt{3} \\sqrt{5 \\, {\\mathcal{C}}^{2} - 8} {\\mathcal{C}}^{5} + 11 \\, {\\mathcal{C}}^{6} - 60 \\, {\\mathcal{C}}^{4} + 12 i \\, \\sqrt{3} \\sqrt{5 \\, {\\mathcal{C}}^{2} - 8} {\\mathcal{C}} + 60 \\, {\\mathcal{C}}^{2} + 16\\right)} {\\left({z} + 1\\right)}}\\)</html>"
      ],
      "text/latex": [
       "$\\displaystyle -\\frac{32 \\, {\\left(5 i \\, \\sqrt{3} \\sqrt{5 \\, {\\mathcal{C}}^{2} - 8} {\\mathcal{C}}^{4} + 3 \\, {\\mathcal{C}}^{5} - 10 i \\, \\sqrt{3} \\sqrt{5 \\, {\\mathcal{C}}^{2} - 8} {\\mathcal{C}}^{2} + 30 \\, {\\mathcal{C}}^{3} - 4 i \\, \\sqrt{3} \\sqrt{5 \\, {\\mathcal{C}}^{2} - 8} - 60 \\, {\\mathcal{C}}\\right)} {\\left({\\mathcal{C}} + 1\\right)}^{2} {\\left({\\mathcal{C}} - 1\\right)}^{2}}{9 \\, {\\left(-3 i \\, \\sqrt{3} \\sqrt{5 \\, {\\mathcal{C}}^{2} - 8} {\\mathcal{C}}^{5} + 11 \\, {\\mathcal{C}}^{6} - 60 \\, {\\mathcal{C}}^{4} + 12 i \\, \\sqrt{3} \\sqrt{5 \\, {\\mathcal{C}}^{2} - 8} {\\mathcal{C}} + 60 \\, {\\mathcal{C}}^{2} + 16\\right)} {\\left({z} + 1\\right)}}$"
      ],
      "text/plain": [
       "-32/9*(5*I*sqrt(3)*sqrt(5*C^2 - 8)*C^4 + 3*C^5 - 10*I*sqrt(3)*sqrt(5*C^2 - 8)*C^2 + 30*C^3 - 4*I*sqrt(3)*sqrt(5*C^2 - 8) - 60*C)*(C + 1)^2*(C - 1)^2/((-3*I*sqrt(3)*sqrt(5*C^2 - 8)*C^5 + 11*C^6 - 60*C^4 + 12*I*sqrt(3)*sqrt(5*C^2 - 8)*C + 60*C^2 + 16)*(z + 1))"
      ]
     },
     "metadata": {},
     "output_type": "display_data"
    },
    {
     "name": "stdout",
     "output_type": "stream",
     "text": [
      "Kreiss Lopatinskii determinant at z = 1\n"
     ]
    },
    {
     "data": {
      "text/html": [
       "<html>\\(\\displaystyle 0\\)</html>"
      ],
      "text/latex": [
       "$\\displaystyle 0$"
      ],
      "text/plain": [
       "0"
      ]
     },
     "metadata": {},
     "output_type": "display_data"
    },
    {
     "name": "stdout",
     "output_type": "stream",
     "text": [
      "Computation of the long-time solution for the source term in the experiments using residues\n",
      "m1_j^n equals approximately\n"
     ]
    },
    {
     "data": {
      "text/html": [
       "<html>\\(\\displaystyle 2 \\, \\left(-1\\right)^{j}\\)</html>"
      ],
      "text/latex": [
       "$\\displaystyle 2 \\, \\left(-1\\right)^{j}$"
      ],
      "text/plain": [
       "2*(-1)^j"
      ]
     },
     "metadata": {},
     "output_type": "display_data"
    },
    {
     "name": "stdout",
     "output_type": "stream",
     "text": [
      "m2_j^n equals approximately\n"
     ]
    },
    {
     "data": {
      "text/html": [
       "<html>\\(\\displaystyle -\\frac{2}{3} \\, {\\left(4 \\, {\\mathcal{C}}^{2} j + 2 \\, {\\mathcal{C}}^{2} + 6 \\, {\\mathcal{C}} n - 6 \\, {\\mathcal{C}} + 2 \\, j + 1\\right)} \\left(-1\\right)^{j}\\)</html>"
      ],
      "text/latex": [
       "$\\displaystyle -\\frac{2}{3} \\, {\\left(4 \\, {\\mathcal{C}}^{2} j + 2 \\, {\\mathcal{C}}^{2} + 6 \\, {\\mathcal{C}} n - 6 \\, {\\mathcal{C}} + 2 \\, j + 1\\right)} \\left(-1\\right)^{j}$"
      ],
      "text/plain": [
       "-2/3*(4*C^2*j + 2*C^2 + 6*C*n - 6*C + 2*j + 1)*(-1)^j"
      ]
     },
     "metadata": {},
     "output_type": "display_data"
    },
    {
     "name": "stdout",
     "output_type": "stream",
     "text": [
      "m3_j^n equals approximately\n"
     ]
    },
    {
     "data": {
      "text/html": [
       "<html>\\(\\displaystyle \\frac{2}{3} \\, {\\left(2 \\, {\\mathcal{C}}^{2} + 1\\right)} \\left(-1\\right)^{j}\\)</html>"
      ],
      "text/latex": [
       "$\\displaystyle \\frac{2}{3} \\, {\\left(2 \\, {\\mathcal{C}}^{2} + 1\\right)} \\left(-1\\right)^{j}$"
      ],
      "text/plain": [
       "2/3*(2*C^2 + 1)*(-1)^j"
      ]
     },
     "metadata": {},
     "output_type": "display_data"
    }
   ],
   "source": [
    "print(\"======= Bounce back ======\")\n",
    "\n",
    "for i in range(q):\n",
    "    for j in range(q):\n",
    "        bd00[i, j] = bdMat_BB[i, j].full_simplify().collect(k).coefficient(k, 0)\n",
    "        bd01[i, j] = bdMat_BB[i, j].full_simplify().collect(k).coefficient(k, 1)\n",
    "        \n",
    "BKL[:, 0] = (bd00 + bd01*ks)*phiS ### First column\n",
    "BKL[:, 1] = (bd00)*phi01 ### Second column\n",
    "BKL[:, 2] = (bd00)*phi02 ### Third column\n",
    "\n",
    "DetKL = BKL.determinant().full_simplify()\n",
    "\n",
    "print(\"Kreiss Lopatinskii determinant at z = -1\")\n",
    "pretty_print(taylor(DetKL, z, -1, -1).factor())\n",
    "print(\"Kreiss Lopatinskii determinant at z = 1\")\n",
    "pretty_print(taylor(DetKL, z, 1, 0))\n",
    "\n",
    "print(\"Computation of the long-time solution for the source term in the experiments using residues\")\n",
    "var('j')\n",
    "var('n')\n",
    "\n",
    "Cs = -2/3*(2*C**2*z-2*C**2+3*C*z+3*C-2*z+2)*z*g1m1Tilde/DetKL\n",
    "\n",
    "m1 = Cs*z**(n-1)*ks**(j)*phiS[0, 0]\n",
    "m2 = Cs*z**(n-1)*ks**(j)*phiS[1, 0]\n",
    "m3 = Cs*z**(n-1)*ks**(j)*phiS[2, 0]\n",
    "\n",
    "\n",
    "print(\"m1_j^n equals approximately\")\n",
    "pretty_print((m1.full_simplify().maxima_methods().residue(z,-1) \\\n",
    "            + m1.full_simplify().maxima_methods().residue(z,1)).factor())\n",
    "print(\"m2_j^n equals approximately\")\n",
    "pretty_print((m2.full_simplify().maxima_methods().residue(z,-1) \\\n",
    "            + m2.full_simplify().maxima_methods().residue(z,1)).factor())\n",
    "print(\"m3_j^n equals approximately\")\n",
    "pretty_print((m3.full_simplify().maxima_methods().residue(z,-1) \\\n",
    "            + m3.full_simplify().maxima_methods().residue(z,1)).factor())"
   ]
  },
  {
   "cell_type": "code",
   "execution_count": 14,
   "id": "175757d6",
   "metadata": {},
   "outputs": [
    {
     "name": "stdout",
     "output_type": "stream",
     "text": [
      "======= Anti bounce back ======\n",
      "Kreiss Lopatinskii determinant at z = -1\n"
     ]
    },
    {
     "data": {
      "text/html": [
       "<html>\\(\\displaystyle \\frac{32 \\, {\\left({\\mathcal{C}} + 1\\right)}^{2} {\\left({\\mathcal{C}} - 1\\right)}^{2}}{9 \\, {\\left({z} + 1\\right)}}\\)</html>"
      ],
      "text/latex": [
       "$\\displaystyle \\frac{32 \\, {\\left({\\mathcal{C}} + 1\\right)}^{2} {\\left({\\mathcal{C}} - 1\\right)}^{2}}{9 \\, {\\left({z} + 1\\right)}}$"
      ],
      "text/plain": [
       "32/9*(C + 1)^2*(C - 1)^2/(z + 1)"
      ]
     },
     "metadata": {},
     "output_type": "display_data"
    },
    {
     "name": "stdout",
     "output_type": "stream",
     "text": [
      "Kreiss Lopatinskii determinant at z = 1\n"
     ]
    },
    {
     "data": {
      "text/html": [
       "<html>\\(\\displaystyle \\frac{8 \\, {\\mathcal{C}}^{2}}{{z} - 1}\\)</html>"
      ],
      "text/latex": [
       "$\\displaystyle \\frac{8 \\, {\\mathcal{C}}^{2}}{{z} - 1}$"
      ],
      "text/plain": [
       "8*C^2/(z - 1)"
      ]
     },
     "metadata": {},
     "output_type": "display_data"
    },
    {
     "name": "stdout",
     "output_type": "stream",
     "text": [
      "Kreiss Lopatinskii determinant at z = zStarPlus\n",
      "First column of BKL\n"
     ]
    },
    {
     "data": {
      "text/html": [
       "<html>\\(\\displaystyle \\left(\\begin{array}{r}\n",
       "-\\frac{140737488355328 \\, {\\mathcal{C}}^{45} - 1688849860263936 \\, {\\mathcal{C}}^{44} + 8092405580431360 \\, {\\mathcal{C}}^{43} - 17732923532771328 \\, {\\mathcal{C}}^{42} + 6959908603822080 \\, {\\mathcal{C}}^{41} + 51219649668317184 \\, {\\mathcal{C}}^{40} - 108240322684780544 \\, {\\mathcal{C}}^{39} + 46733642226991104 \\, {\\mathcal{C}}^{38} + 131145658152255488 \\, {\\mathcal{C}}^{37} - 232733488812392448 \\, {\\mathcal{C}}^{36} + 116897550824374272 \\, {\\mathcal{C}}^{35} + 125154041335382016 \\, {\\mathcal{C}}^{34} - 278268764296839168 \\, {\\mathcal{C}}^{33} + 200718965796765696 \\, {\\mathcal{C}}^{32} + 33285367331291136 \\, {\\mathcal{C}}^{31} - 204238090200416256 \\, {\\mathcal{C}}^{30} + 191650947976396800 \\, {\\mathcal{C}}^{29} - 52396884165132288 \\, {\\mathcal{C}}^{28} - 80315315686211584 \\, {\\mathcal{C}}^{27} + 113188151551328256 \\, {\\mathcal{C}}^{26} - 60505123343433728 \\, {\\mathcal{C}}^{25} - 6053990298550272 \\, {\\mathcal{C}}^{24} + 38102323746570240 \\, {\\mathcal{C}}^{23} - 30977558872326144 \\, {\\mathcal{C}}^{22} + 9062231188350976 \\, {\\mathcal{C}}^{21} + 5652442547920896 \\, {\\mathcal{C}}^{20} - 8409180245330944 \\, {\\mathcal{C}}^{19} + 4486705931022336 \\, {\\mathcal{C}}^{18} - 467437639299840 \\, {\\mathcal{C}}^{17} - 1104005318962176 \\, {\\mathcal{C}}^{16} + 938689104440064 \\, {\\mathcal{C}}^{15} - 325346056644096 \\, {\\mathcal{C}}^{14} - 24999097859544 \\, {\\mathcal{C}}^{13} + 91237931807904 \\, {\\mathcal{C}}^{12} - 48596732276148 \\, {\\mathcal{C}}^{11} + 9240394832496 \\, {\\mathcal{C}}^{10} + 3156819835436 \\, {\\mathcal{C}}^{9} - 2940896377392 \\, {\\mathcal{C}}^{8} + 832365596224 \\, {\\mathcal{C}}^{7} - 18162985248 \\, {\\mathcal{C}}^{6} - 68828540640 \\, {\\mathcal{C}}^{5} + 19378314432 \\, {\\mathcal{C}}^{4} - 637618880 \\, {\\mathcal{C}}^{3} - 585860736 \\, {\\mathcal{C}}^{2} - {\\left(4398046511104 \\, \\sqrt{2} {\\mathcal{C}}^{40} - 52776558133248 \\, \\sqrt{2} {\\mathcal{C}}^{39} + 256735965085696 \\, \\sqrt{2} {\\mathcal{C}}^{38} - 600333348765696 \\, \\sqrt{2} {\\mathcal{C}}^{37} + 442690869133312 \\, \\sqrt{2} {\\mathcal{C}}^{36} + 1068725302198272 \\, \\sqrt{2} {\\mathcal{C}}^{35} - 2963295506006016 \\, \\sqrt{2} {\\mathcal{C}}^{34} + 2323302429229056 \\, \\sqrt{2} {\\mathcal{C}}^{33} + 1547244788514816 \\, \\sqrt{2} {\\mathcal{C}}^{32} - 5075130925449216 \\, \\sqrt{2} {\\mathcal{C}}^{31} + 4614819416113152 \\, \\sqrt{2} {\\mathcal{C}}^{30} - 299535314190336 \\, \\sqrt{2} {\\mathcal{C}}^{29} - 4305539492216832 \\, \\sqrt{2} {\\mathcal{C}}^{28} + 5260852290650112 \\, \\sqrt{2} {\\mathcal{C}}^{27} - 2251070103355392 \\, \\sqrt{2} {\\mathcal{C}}^{26} - 1536390844121088 \\, \\sqrt{2} {\\mathcal{C}}^{25} + 3252222932287488 \\, \\sqrt{2} {\\mathcal{C}}^{24} - 2341770007412736 \\, \\sqrt{2} {\\mathcal{C}}^{23} + 303391365038080 \\, \\sqrt{2} {\\mathcal{C}}^{22} + 1028067594731520 \\, \\sqrt{2} {\\mathcal{C}}^{21} - 1131598665261056 \\, \\sqrt{2} {\\mathcal{C}}^{20} + 524033376780288 \\, \\sqrt{2} {\\mathcal{C}}^{19} + 66863294551552 \\, \\sqrt{2} {\\mathcal{C}}^{18} - 276192856553472 \\, \\sqrt{2} {\\mathcal{C}}^{17} + 202335644500224 \\, \\sqrt{2} {\\mathcal{C}}^{16} - 58803243803136 \\, \\sqrt{2} {\\mathcal{C}}^{15} - 24189060104256 \\, \\sqrt{2} {\\mathcal{C}}^{14} + 35230169549952 \\, \\sqrt{2} {\\mathcal{C}}^{13} - 18027513865632 \\, \\sqrt{2} {\\mathcal{C}}^{12} + 2688162476832 \\, \\sqrt{2} {\\mathcal{C}}^{11} + 2456886048438 \\, \\sqrt{2} {\\mathcal{C}}^{10} - 2002605072624 \\, \\sqrt{2} {\\mathcal{C}}^{9} + 654108417003 \\, \\sqrt{2} {\\mathcal{C}}^{8} + 618134256 \\, \\sqrt{2} {\\mathcal{C}}^{7} - 86054462952 \\, \\sqrt{2} {\\mathcal{C}}^{6} + 37073596320 \\, \\sqrt{2} {\\mathcal{C}}^{5} - 4024654712 \\, \\sqrt{2} {\\mathcal{C}}^{4} - 1312273344 \\, \\sqrt{2} {\\mathcal{C}}^{3} + 595418752 \\, \\sqrt{2} {\\mathcal{C}}^{2} - {\\left(2199023255552 \\, \\sqrt{2} {\\mathcal{C}}^{38} - 26388279066624 \\, \\sqrt{2} {\\mathcal{C}}^{37} + 128917738356736 \\, \\sqrt{2} {\\mathcal{C}}^{36} - 306763744149504 \\, \\sqrt{2} {\\mathcal{C}}^{35} + 254193344446464 \\, \\sqrt{2} {\\mathcal{C}}^{34} + 450250011574272 \\, \\sqrt{2} {\\mathcal{C}}^{33} - 1381686684155904 \\, \\sqrt{2} {\\mathcal{C}}^{32} + 1186080988594176 \\, \\sqrt{2} {\\mathcal{C}}^{31} + 508882757615616 \\, \\sqrt{2} {\\mathcal{C}}^{30} - 2137489259102208 \\, \\sqrt{2} {\\mathcal{C}}^{29} + 2071343809953792 \\, \\sqrt{2} {\\mathcal{C}}^{28} - 337320288976896 \\, \\sqrt{2} {\\mathcal{C}}^{27} - 1569988452286464 \\, \\sqrt{2} {\\mathcal{C}}^{26} + 2042884282908672 \\, \\sqrt{2} {\\mathcal{C}}^{25} - 966430439768064 \\, \\sqrt{2} {\\mathcal{C}}^{24} - 428380319121408 \\, \\sqrt{2} {\\mathcal{C}}^{23} + 1080139249483776 \\, \\sqrt{2} {\\mathcal{C}}^{22} - 803359818252288 \\, \\sqrt{2} {\\mathcal{C}}^{21} + 145178693255168 \\, \\sqrt{2} {\\mathcal{C}}^{20} + 280044688834560 \\, \\sqrt{2} {\\mathcal{C}}^{19} - 321126464761856 \\, \\sqrt{2} {\\mathcal{C}}^{18} + 150504220753920 \\, \\sqrt{2} {\\mathcal{C}}^{17} + 9563730732288 \\, \\sqrt{2} {\\mathcal{C}}^{16} - 63557888762880 \\, \\sqrt{2} {\\mathcal{C}}^{15} + 45734320462080 \\, \\sqrt{2} {\\mathcal{C}}^{14} - 12838885896960 \\, \\sqrt{2} {\\mathcal{C}}^{13} - 4395221965920 \\, \\sqrt{2} {\\mathcal{C}}^{12} + 6212583108288 \\, \\sqrt{2} {\\mathcal{C}}^{11} - 2888510788512 \\, \\sqrt{2} {\\mathcal{C}}^{10} + 337454113968 \\, \\sqrt{2} {\\mathcal{C}}^{9} + 341084016717 \\, \\sqrt{2} {\\mathcal{C}}^{8} - 231157999512 \\, \\sqrt{2} {\\mathcal{C}}^{7} + 55522623288 \\, \\sqrt{2} {\\mathcal{C}}^{6} + 4534412976 \\, \\sqrt{2} {\\mathcal{C}}^{5} - 6817015944 \\, \\sqrt{2} {\\mathcal{C}}^{4} + 1637836128 \\, \\sqrt{2} {\\mathcal{C}}^{3} + 48489440 \\, \\sqrt{2} {\\mathcal{C}}^{2} - 58900416 \\, \\sqrt{2} {\\mathcal{C}} + 65488 \\, \\sqrt{2}\\right)} \\sqrt{4 \\, {\\mathcal{C}}^{4} - 2 \\, {\\mathcal{C}}^{2} - 2} - 1571712 \\, \\sqrt{2} {\\mathcal{C}} - 4908368 \\, \\sqrt{2}\\right)} \\sqrt{256 \\, {\\mathcal{C}}^{10} - 448 \\, {\\mathcal{C}}^{8} + 132 \\, {\\mathcal{C}}^{6} + 83 \\, {\\mathcal{C}}^{4} - 23 \\, {\\mathcal{C}}^{2} - 2 \\, {\\left(64 \\, {\\mathcal{C}}^{8} - 96 \\, {\\mathcal{C}}^{6} + 27 \\, {\\mathcal{C}}^{4} + 5 \\, {\\mathcal{C}}^{2}\\right)} \\sqrt{4 \\, {\\mathcal{C}}^{4} - 2 \\, {\\mathcal{C}}^{2} - 2}} - {\\left(70368744177664 \\, {\\mathcal{C}}^{43} - 844424930131968 \\, {\\mathcal{C}}^{42} + 4063794976260096 \\, {\\mathcal{C}}^{41} - 9077567998918656 \\, {\\mathcal{C}}^{40} + 4515694255276032 \\, {\\mathcal{C}}^{39} + 23102938322829312 \\, {\\mathcal{C}}^{38} - 51843347639173120 \\, {\\mathcal{C}}^{37} + 26530116066607104 \\, {\\mathcal{C}}^{36} + 54171786849288192 \\, {\\mathcal{C}}^{35} - 103923021558841344 \\, {\\mathcal{C}}^{34} + 57962847107284992 \\, {\\mathcal{C}}^{33} + 45134935140335616 \\, {\\mathcal{C}}^{32} - 112654807109468160 \\, {\\mathcal{C}}^{31} + 85268105986572288 \\, {\\mathcal{C}}^{30} + 5893400310054912 \\, {\\mathcal{C}}^{29} - 73375212694929408 \\, {\\mathcal{C}}^{28} + 71225365028143104 \\, {\\mathcal{C}}^{27} - 21994407028850688 \\, {\\mathcal{C}}^{26} - 24700213262286848 \\, {\\mathcal{C}}^{25} + 36517903910043648 \\, {\\mathcal{C}}^{24} - 19900549788008448 \\, {\\mathcal{C}}^{23} - 853909434531840 \\, {\\mathcal{C}}^{22} + 10551332494589952 \\, {\\mathcal{C}}^{21} - 8513784424759296 \\, {\\mathcal{C}}^{20} + 2524478509908992 \\, {\\mathcal{C}}^{19} + 1293918159163392 \\, {\\mathcal{C}}^{18} - 1934922202723584 \\, {\\mathcal{C}}^{17} + 982119085231104 \\, {\\mathcal{C}}^{16} - 99426516421248 \\, {\\mathcal{C}}^{15} - 210544673833728 \\, {\\mathcal{C}}^{14} + 164479596954144 \\, {\\mathcal{C}}^{13} - 50309704769472 \\, {\\mathcal{C}}^{12} - 5161355590572 \\, {\\mathcal{C}}^{11} + 12651824810016 \\, {\\mathcal{C}}^{10} - 5527534803201 \\, {\\mathcal{C}}^{9} + 718537694688 \\, {\\mathcal{C}}^{8} + 383243884744 \\, {\\mathcal{C}}^{7} - 228807106752 \\, {\\mathcal{C}}^{6} + 37842851112 \\, {\\mathcal{C}}^{5} + 4097726592 \\, {\\mathcal{C}}^{4} - 3114256416 \\, {\\mathcal{C}}^{3} + 125659392 \\, {\\mathcal{C}}^{2} + 24410864 \\, {\\mathcal{C}}\\right)} \\sqrt{4 \\, {\\mathcal{C}}^{4} - 2 \\, {\\mathcal{C}}^{2} - 2} + 10471616 \\, {\\mathcal{C}}}{140737488355328 \\, {\\mathcal{C}}^{44} - 1055531162664960 \\, {\\mathcal{C}}^{43} + 3870280929771520 \\, {\\mathcal{C}}^{42} - 8153978231586816 \\, {\\mathcal{C}}^{41} + 4486007441326080 \\, {\\mathcal{C}}^{40} + 21760434625314816 \\, {\\mathcal{C}}^{39} - 50689959941636096 \\, {\\mathcal{C}}^{38} + 27602964537409536 \\, {\\mathcal{C}}^{37} + 46376610185609216 \\, {\\mathcal{C}}^{36} - 98859409735680000 \\, {\\mathcal{C}}^{35} + 73775482172080128 \\, {\\mathcal{C}}^{34} + 23660854574579712 \\, {\\mathcal{C}}^{33} - 112464980292403200 \\, {\\mathcal{C}}^{32} + 107183932528656384 \\, {\\mathcal{C}}^{31} - 23725438534680576 \\, {\\mathcal{C}}^{30} - 63098069188608000 \\, {\\mathcal{C}}^{29} + 91625506360786944 \\, {\\mathcal{C}}^{28} - 49978577302585344 \\, {\\mathcal{C}}^{27} - 10707324780937216 \\, {\\mathcal{C}}^{26} + 42337169384669184 \\, {\\mathcal{C}}^{25} - 37047638779756544 \\, {\\mathcal{C}}^{24} + 11210171981561856 \\, {\\mathcal{C}}^{23} + 9289284965842944 \\, {\\mathcal{C}}^{22} - 13775874286731264 \\, {\\mathcal{C}}^{21} + 8313931079968768 \\, {\\mathcal{C}}^{20} - 1019413395581952 \\, {\\mathcal{C}}^{19} - 2584115410927360 \\, {\\mathcal{C}}^{18} + 2419756151007744 \\, {\\mathcal{C}}^{17} - 1047105946950336 \\, {\\mathcal{C}}^{16} - 30973157752896 \\, {\\mathcal{C}}^{15} + 343207223401872 \\, {\\mathcal{C}}^{14} - 224873230159008 \\, {\\mathcal{C}}^{13} + 68096080064292 \\, {\\mathcal{C}}^{12} + 12599884573200 \\, {\\mathcal{C}}^{11} - 21405423757518 \\, {\\mathcal{C}}^{10} + 9692730343656 \\, {\\mathcal{C}}^{9} - 1673056429858 \\, {\\mathcal{C}}^{8} - 755605339440 \\, {\\mathcal{C}}^{7} + 504323062996 \\, {\\mathcal{C}}^{6} - 131189430024 \\, {\\mathcal{C}}^{5} - 3992789544 \\, {\\mathcal{C}}^{4} + 10227396096 \\, {\\mathcal{C}}^{3} - 2129530736 \\, {\\mathcal{C}}^{2} + 9 \\, {\\left(2199023255552 \\, \\sqrt{2} {\\mathcal{C}}^{38} - 14843406974976 \\, \\sqrt{2} {\\mathcal{C}}^{37} + 37383395344384 \\, \\sqrt{2} {\\mathcal{C}}^{36} - 32160715112448 \\, \\sqrt{2} {\\mathcal{C}}^{35} - 45664092291072 \\, \\sqrt{2} {\\mathcal{C}}^{34} + 158097746165760 \\, \\sqrt{2} {\\mathcal{C}}^{33} - 162298224181248 \\, \\sqrt{2} {\\mathcal{C}}^{32} - 22728966930432 \\, \\sqrt{2} {\\mathcal{C}}^{31} + 242596932747264 \\, \\sqrt{2} {\\mathcal{C}}^{30} - 286919384629248 \\, \\sqrt{2} {\\mathcal{C}}^{29} + 119517128687616 \\, \\sqrt{2} {\\mathcal{C}}^{28} + 144877836828672 \\, \\sqrt{2} {\\mathcal{C}}^{27} - 286896659890176 \\, \\sqrt{2} {\\mathcal{C}}^{26} + 200185152012288 \\, \\sqrt{2} {\\mathcal{C}}^{25} - 12259342417920 \\, \\sqrt{2} {\\mathcal{C}}^{24} - 131395366158336 \\, \\sqrt{2} {\\mathcal{C}}^{23} + 152166306545664 \\, \\sqrt{2} {\\mathcal{C}}^{22} - 69895053803520 \\, \\sqrt{2} {\\mathcal{C}}^{21} - 15260863037440 \\, \\sqrt{2} {\\mathcal{C}}^{20} + 52373960736768 \\, \\sqrt{2} {\\mathcal{C}}^{19} - 42871929522176 \\, \\sqrt{2} {\\mathcal{C}}^{18} + 13351140481536 \\, \\sqrt{2} {\\mathcal{C}}^{17} + 6190184911872 \\, \\sqrt{2} {\\mathcal{C}}^{16} - 10678375378944 \\, \\sqrt{2} {\\mathcal{C}}^{15} + 6577872632448 \\, \\sqrt{2} {\\mathcal{C}}^{14} - 1383573906432 \\, \\sqrt{2} {\\mathcal{C}}^{13} - 951100634304 \\, \\sqrt{2} {\\mathcal{C}}^{12} + 1102033764432 \\, \\sqrt{2} {\\mathcal{C}}^{11} - 507732397728 \\, \\sqrt{2} {\\mathcal{C}}^{10} + 66069268398 \\, \\sqrt{2} {\\mathcal{C}}^{9} + 65137398192 \\, \\sqrt{2} {\\mathcal{C}}^{8} - 49700478177 \\, \\sqrt{2} {\\mathcal{C}}^{7} + 15697371552 \\, \\sqrt{2} {\\mathcal{C}}^{6} - 401124114 \\, \\sqrt{2} {\\mathcal{C}}^{5} - 1651842096 \\, \\sqrt{2} {\\mathcal{C}}^{4} + 639316548 \\, \\sqrt{2} {\\mathcal{C}}^{3} - 85996288 \\, \\sqrt{2} {\\mathcal{C}}^{2} - 2 \\, {\\left(549755813888 \\, \\sqrt{2} {\\mathcal{C}}^{36} - 3710851743744 \\, \\sqrt{2} {\\mathcal{C}}^{35} + 9483287789568 \\, \\sqrt{2} {\\mathcal{C}}^{34} - 8967891714048 \\, \\sqrt{2} {\\mathcal{C}}^{33} - 8890582302720 \\, \\sqrt{2} {\\mathcal{C}}^{32} + 36238786560000 \\, \\sqrt{2} {\\mathcal{C}}^{31} - 40091372224512 \\, \\sqrt{2} {\\mathcal{C}}^{30} + 594316099584 \\, \\sqrt{2} {\\mathcal{C}}^{29} + 48824114479104 \\, \\sqrt{2} {\\mathcal{C}}^{28} - 62231660199936 \\, \\sqrt{2} {\\mathcal{C}}^{27} + 30744986517504 \\, \\sqrt{2} {\\mathcal{C}}^{26} + 22738026627072 \\, \\sqrt{2} {\\mathcal{C}}^{25} - 53295118811136 \\, \\sqrt{2} {\\mathcal{C}}^{24} + 39934392532992 \\, \\sqrt{2} {\\mathcal{C}}^{23} - 6634058809344 \\, \\sqrt{2} {\\mathcal{C}}^{22} - 19895842897920 \\, \\sqrt{2} {\\mathcal{C}}^{21} + 24941159350272 \\, \\sqrt{2} {\\mathcal{C}}^{20} - 12416638722048 \\, \\sqrt{2} {\\mathcal{C}}^{19} - 873264848896 \\, \\sqrt{2} {\\mathcal{C}}^{18} + 6933880571904 \\, \\sqrt{2} {\\mathcal{C}}^{17} - 5892808373760 \\, \\sqrt{2} {\\mathcal{C}}^{16} + 2003784444288 \\, \\sqrt{2} {\\mathcal{C}}^{15} + 537746654592 \\, \\sqrt{2} {\\mathcal{C}}^{14} - 1153742751648 \\, \\sqrt{2} {\\mathcal{C}}^{13} + 704459528160 \\, \\sqrt{2} {\\mathcal{C}}^{12} - 158320707624 \\, \\sqrt{2} {\\mathcal{C}}^{11} - 74786705112 \\, \\sqrt{2} {\\mathcal{C}}^{10} + 88367576274 \\, \\sqrt{2} {\\mathcal{C}}^{9} - 37496571408 \\, \\sqrt{2} {\\mathcal{C}}^{8} + 4376318787 \\, \\sqrt{2} {\\mathcal{C}}^{7} + 3934490382 \\, \\sqrt{2} {\\mathcal{C}}^{6} - 2449898730 \\, \\sqrt{2} {\\mathcal{C}}^{5} + 607485894 \\, \\sqrt{2} {\\mathcal{C}}^{4} + 36171828 \\, \\sqrt{2} {\\mathcal{C}}^{3} - 47698056 \\, \\sqrt{2} {\\mathcal{C}}^{2} + 11191176 \\, \\sqrt{2} {\\mathcal{C}} + 796232 \\, \\sqrt{2}\\right)} \\sqrt{4 \\, {\\mathcal{C}}^{4} - 2 \\, {\\mathcal{C}}^{2} - 2} - 21498264 \\, \\sqrt{2} {\\mathcal{C}} + 3315904 \\, \\sqrt{2}\\right)} \\sqrt{256 \\, {\\mathcal{C}}^{10} - 448 \\, {\\mathcal{C}}^{8} + 132 \\, {\\mathcal{C}}^{6} + 83 \\, {\\mathcal{C}}^{4} - 23 \\, {\\mathcal{C}}^{2} - 2 \\, {\\left(64 \\, {\\mathcal{C}}^{8} - 96 \\, {\\mathcal{C}}^{6} + 27 \\, {\\mathcal{C}}^{4} + 5 \\, {\\mathcal{C}}^{2}\\right)} \\sqrt{4 \\, {\\mathcal{C}}^{4} - 2 \\, {\\mathcal{C}}^{2} - 2}} - {\\left(70368744177664 \\, {\\mathcal{C}}^{42} - 527765581332480 \\, {\\mathcal{C}}^{41} + 1952732650930176 \\, {\\mathcal{C}}^{40} - 4208930511126528 \\, {\\mathcal{C}}^{39} + 2750978092695552 \\, {\\mathcal{C}}^{38} + 9679550615126016 \\, {\\mathcal{C}}^{37} - 24103081587245056 \\, {\\mathcal{C}}^{36} + 15000499698794496 \\, {\\mathcal{C}}^{35} + 18077568888471552 \\, {\\mathcal{C}}^{34} - 43283297429618688 \\, {\\mathcal{C}}^{33} + 34935523831185408 \\, {\\mathcal{C}}^{32} + 5650660838080512 \\, {\\mathcal{C}}^{31} - 43883471327723520 \\, {\\mathcal{C}}^{30} + 44281284620451840 \\, {\\mathcal{C}}^{29} - 12965921345765376 \\, {\\mathcal{C}}^{28} - 20870809862012928 \\, {\\mathcal{C}}^{27} + 33012665957744640 \\, {\\mathcal{C}}^{26} - 19150061703266304 \\, {\\mathcal{C}}^{25} - 1783656399503360 \\, {\\mathcal{C}}^{24} + 12998604644155392 \\, {\\mathcal{C}}^{23} - 11841735529070592 \\, {\\mathcal{C}}^{22} + 3955732496941056 \\, {\\mathcal{C}}^{21} + 2239910442049536 \\, {\\mathcal{C}}^{20} - 3672700679479296 \\, {\\mathcal{C}}^{19} + 2252713924551680 \\, {\\mathcal{C}}^{18} - 344471270487552 \\, {\\mathcal{C}}^{17} - 556971590429568 \\, {\\mathcal{C}}^{16} + 527118605153280 \\, {\\mathcal{C}}^{15} - 224282275125984 \\, {\\mathcal{C}}^{14} - 1615861136160 \\, {\\mathcal{C}}^{13} + 59294086410984 \\, {\\mathcal{C}}^{12} - 36683550128448 \\, {\\mathcal{C}}^{11} + 10045683965034 \\, {\\mathcal{C}}^{10} + 1964705676264 \\, {\\mathcal{C}}^{9} - 2600692840917 \\, {\\mathcal{C}}^{8} + 1000767082464 \\, {\\mathcal{C}}^{7} - 102571850606 \\, {\\mathcal{C}}^{6} - 76444884552 \\, {\\mathcal{C}}^{5} + 32522437452 \\, {\\mathcal{C}}^{4} - 4394455104 \\, {\\mathcal{C}}^{3} - 1054004328 \\, {\\mathcal{C}}^{2} + 296466720 \\, {\\mathcal{C}} + 9292832\\right)} \\sqrt{4 \\, {\\mathcal{C}}^{4} - 2 \\, {\\mathcal{C}}^{2} - 2} - 139392480 \\, {\\mathcal{C}} + 39528896} \\\\\n",
       "-\\frac{140737488355328 \\, {\\mathcal{C}}^{45} - 1688849860263936 \\, {\\mathcal{C}}^{44} + 8092405580431360 \\, {\\mathcal{C}}^{43} - 17732923532771328 \\, {\\mathcal{C}}^{42} + 6959908603822080 \\, {\\mathcal{C}}^{41} + 51219649668317184 \\, {\\mathcal{C}}^{40} - 108240322684780544 \\, {\\mathcal{C}}^{39} + 46733642226991104 \\, {\\mathcal{C}}^{38} + 131145658152255488 \\, {\\mathcal{C}}^{37} - 232733488812392448 \\, {\\mathcal{C}}^{36} + 116897550824374272 \\, {\\mathcal{C}}^{35} + 125154041335382016 \\, {\\mathcal{C}}^{34} - 278268764296839168 \\, {\\mathcal{C}}^{33} + 200718965796765696 \\, {\\mathcal{C}}^{32} + 33285367331291136 \\, {\\mathcal{C}}^{31} - 204238090200416256 \\, {\\mathcal{C}}^{30} + 191650947976396800 \\, {\\mathcal{C}}^{29} - 52396884165132288 \\, {\\mathcal{C}}^{28} - 80315315686211584 \\, {\\mathcal{C}}^{27} + 113188151551328256 \\, {\\mathcal{C}}^{26} - 60505123343433728 \\, {\\mathcal{C}}^{25} - 6053990298550272 \\, {\\mathcal{C}}^{24} + 38102323746570240 \\, {\\mathcal{C}}^{23} - 30977558872326144 \\, {\\mathcal{C}}^{22} + 9062231188350976 \\, {\\mathcal{C}}^{21} + 5652442547920896 \\, {\\mathcal{C}}^{20} - 8409180245330944 \\, {\\mathcal{C}}^{19} + 4486705931022336 \\, {\\mathcal{C}}^{18} - 467437639299840 \\, {\\mathcal{C}}^{17} - 1104005318962176 \\, {\\mathcal{C}}^{16} + 938689104440064 \\, {\\mathcal{C}}^{15} - 325346056644096 \\, {\\mathcal{C}}^{14} - 24999097859544 \\, {\\mathcal{C}}^{13} + 91237931807904 \\, {\\mathcal{C}}^{12} - 48596732276148 \\, {\\mathcal{C}}^{11} + 9240394832496 \\, {\\mathcal{C}}^{10} + 3156819835436 \\, {\\mathcal{C}}^{9} - 2940896377392 \\, {\\mathcal{C}}^{8} + 832365596224 \\, {\\mathcal{C}}^{7} - 18162985248 \\, {\\mathcal{C}}^{6} - 68828540640 \\, {\\mathcal{C}}^{5} + 19378314432 \\, {\\mathcal{C}}^{4} - 637618880 \\, {\\mathcal{C}}^{3} - 585860736 \\, {\\mathcal{C}}^{2} - {\\left(4398046511104 \\, \\sqrt{2} {\\mathcal{C}}^{40} - 52776558133248 \\, \\sqrt{2} {\\mathcal{C}}^{39} + 256735965085696 \\, \\sqrt{2} {\\mathcal{C}}^{38} - 600333348765696 \\, \\sqrt{2} {\\mathcal{C}}^{37} + 442690869133312 \\, \\sqrt{2} {\\mathcal{C}}^{36} + 1068725302198272 \\, \\sqrt{2} {\\mathcal{C}}^{35} - 2963295506006016 \\, \\sqrt{2} {\\mathcal{C}}^{34} + 2323302429229056 \\, \\sqrt{2} {\\mathcal{C}}^{33} + 1547244788514816 \\, \\sqrt{2} {\\mathcal{C}}^{32} - 5075130925449216 \\, \\sqrt{2} {\\mathcal{C}}^{31} + 4614819416113152 \\, \\sqrt{2} {\\mathcal{C}}^{30} - 299535314190336 \\, \\sqrt{2} {\\mathcal{C}}^{29} - 4305539492216832 \\, \\sqrt{2} {\\mathcal{C}}^{28} + 5260852290650112 \\, \\sqrt{2} {\\mathcal{C}}^{27} - 2251070103355392 \\, \\sqrt{2} {\\mathcal{C}}^{26} - 1536390844121088 \\, \\sqrt{2} {\\mathcal{C}}^{25} + 3252222932287488 \\, \\sqrt{2} {\\mathcal{C}}^{24} - 2341770007412736 \\, \\sqrt{2} {\\mathcal{C}}^{23} + 303391365038080 \\, \\sqrt{2} {\\mathcal{C}}^{22} + 1028067594731520 \\, \\sqrt{2} {\\mathcal{C}}^{21} - 1131598665261056 \\, \\sqrt{2} {\\mathcal{C}}^{20} + 524033376780288 \\, \\sqrt{2} {\\mathcal{C}}^{19} + 66863294551552 \\, \\sqrt{2} {\\mathcal{C}}^{18} - 276192856553472 \\, \\sqrt{2} {\\mathcal{C}}^{17} + 202335644500224 \\, \\sqrt{2} {\\mathcal{C}}^{16} - 58803243803136 \\, \\sqrt{2} {\\mathcal{C}}^{15} - 24189060104256 \\, \\sqrt{2} {\\mathcal{C}}^{14} + 35230169549952 \\, \\sqrt{2} {\\mathcal{C}}^{13} - 18027513865632 \\, \\sqrt{2} {\\mathcal{C}}^{12} + 2688162476832 \\, \\sqrt{2} {\\mathcal{C}}^{11} + 2456886048438 \\, \\sqrt{2} {\\mathcal{C}}^{10} - 2002605072624 \\, \\sqrt{2} {\\mathcal{C}}^{9} + 654108417003 \\, \\sqrt{2} {\\mathcal{C}}^{8} + 618134256 \\, \\sqrt{2} {\\mathcal{C}}^{7} - 86054462952 \\, \\sqrt{2} {\\mathcal{C}}^{6} + 37073596320 \\, \\sqrt{2} {\\mathcal{C}}^{5} - 4024654712 \\, \\sqrt{2} {\\mathcal{C}}^{4} - 1312273344 \\, \\sqrt{2} {\\mathcal{C}}^{3} + 595418752 \\, \\sqrt{2} {\\mathcal{C}}^{2} - {\\left(2199023255552 \\, \\sqrt{2} {\\mathcal{C}}^{38} - 26388279066624 \\, \\sqrt{2} {\\mathcal{C}}^{37} + 128917738356736 \\, \\sqrt{2} {\\mathcal{C}}^{36} - 306763744149504 \\, \\sqrt{2} {\\mathcal{C}}^{35} + 254193344446464 \\, \\sqrt{2} {\\mathcal{C}}^{34} + 450250011574272 \\, \\sqrt{2} {\\mathcal{C}}^{33} - 1381686684155904 \\, \\sqrt{2} {\\mathcal{C}}^{32} + 1186080988594176 \\, \\sqrt{2} {\\mathcal{C}}^{31} + 508882757615616 \\, \\sqrt{2} {\\mathcal{C}}^{30} - 2137489259102208 \\, \\sqrt{2} {\\mathcal{C}}^{29} + 2071343809953792 \\, \\sqrt{2} {\\mathcal{C}}^{28} - 337320288976896 \\, \\sqrt{2} {\\mathcal{C}}^{27} - 1569988452286464 \\, \\sqrt{2} {\\mathcal{C}}^{26} + 2042884282908672 \\, \\sqrt{2} {\\mathcal{C}}^{25} - 966430439768064 \\, \\sqrt{2} {\\mathcal{C}}^{24} - 428380319121408 \\, \\sqrt{2} {\\mathcal{C}}^{23} + 1080139249483776 \\, \\sqrt{2} {\\mathcal{C}}^{22} - 803359818252288 \\, \\sqrt{2} {\\mathcal{C}}^{21} + 145178693255168 \\, \\sqrt{2} {\\mathcal{C}}^{20} + 280044688834560 \\, \\sqrt{2} {\\mathcal{C}}^{19} - 321126464761856 \\, \\sqrt{2} {\\mathcal{C}}^{18} + 150504220753920 \\, \\sqrt{2} {\\mathcal{C}}^{17} + 9563730732288 \\, \\sqrt{2} {\\mathcal{C}}^{16} - 63557888762880 \\, \\sqrt{2} {\\mathcal{C}}^{15} + 45734320462080 \\, \\sqrt{2} {\\mathcal{C}}^{14} - 12838885896960 \\, \\sqrt{2} {\\mathcal{C}}^{13} - 4395221965920 \\, \\sqrt{2} {\\mathcal{C}}^{12} + 6212583108288 \\, \\sqrt{2} {\\mathcal{C}}^{11} - 2888510788512 \\, \\sqrt{2} {\\mathcal{C}}^{10} + 337454113968 \\, \\sqrt{2} {\\mathcal{C}}^{9} + 341084016717 \\, \\sqrt{2} {\\mathcal{C}}^{8} - 231157999512 \\, \\sqrt{2} {\\mathcal{C}}^{7} + 55522623288 \\, \\sqrt{2} {\\mathcal{C}}^{6} + 4534412976 \\, \\sqrt{2} {\\mathcal{C}}^{5} - 6817015944 \\, \\sqrt{2} {\\mathcal{C}}^{4} + 1637836128 \\, \\sqrt{2} {\\mathcal{C}}^{3} + 48489440 \\, \\sqrt{2} {\\mathcal{C}}^{2} - 58900416 \\, \\sqrt{2} {\\mathcal{C}} + 65488 \\, \\sqrt{2}\\right)} \\sqrt{4 \\, {\\mathcal{C}}^{4} - 2 \\, {\\mathcal{C}}^{2} - 2} - 1571712 \\, \\sqrt{2} {\\mathcal{C}} - 4908368 \\, \\sqrt{2}\\right)} \\sqrt{256 \\, {\\mathcal{C}}^{10} - 448 \\, {\\mathcal{C}}^{8} + 132 \\, {\\mathcal{C}}^{6} + 83 \\, {\\mathcal{C}}^{4} - 23 \\, {\\mathcal{C}}^{2} - 2 \\, {\\left(64 \\, {\\mathcal{C}}^{8} - 96 \\, {\\mathcal{C}}^{6} + 27 \\, {\\mathcal{C}}^{4} + 5 \\, {\\mathcal{C}}^{2}\\right)} \\sqrt{4 \\, {\\mathcal{C}}^{4} - 2 \\, {\\mathcal{C}}^{2} - 2}} - {\\left(70368744177664 \\, {\\mathcal{C}}^{43} - 844424930131968 \\, {\\mathcal{C}}^{42} + 4063794976260096 \\, {\\mathcal{C}}^{41} - 9077567998918656 \\, {\\mathcal{C}}^{40} + 4515694255276032 \\, {\\mathcal{C}}^{39} + 23102938322829312 \\, {\\mathcal{C}}^{38} - 51843347639173120 \\, {\\mathcal{C}}^{37} + 26530116066607104 \\, {\\mathcal{C}}^{36} + 54171786849288192 \\, {\\mathcal{C}}^{35} - 103923021558841344 \\, {\\mathcal{C}}^{34} + 57962847107284992 \\, {\\mathcal{C}}^{33} + 45134935140335616 \\, {\\mathcal{C}}^{32} - 112654807109468160 \\, {\\mathcal{C}}^{31} + 85268105986572288 \\, {\\mathcal{C}}^{30} + 5893400310054912 \\, {\\mathcal{C}}^{29} - 73375212694929408 \\, {\\mathcal{C}}^{28} + 71225365028143104 \\, {\\mathcal{C}}^{27} - 21994407028850688 \\, {\\mathcal{C}}^{26} - 24700213262286848 \\, {\\mathcal{C}}^{25} + 36517903910043648 \\, {\\mathcal{C}}^{24} - 19900549788008448 \\, {\\mathcal{C}}^{23} - 853909434531840 \\, {\\mathcal{C}}^{22} + 10551332494589952 \\, {\\mathcal{C}}^{21} - 8513784424759296 \\, {\\mathcal{C}}^{20} + 2524478509908992 \\, {\\mathcal{C}}^{19} + 1293918159163392 \\, {\\mathcal{C}}^{18} - 1934922202723584 \\, {\\mathcal{C}}^{17} + 982119085231104 \\, {\\mathcal{C}}^{16} - 99426516421248 \\, {\\mathcal{C}}^{15} - 210544673833728 \\, {\\mathcal{C}}^{14} + 164479596954144 \\, {\\mathcal{C}}^{13} - 50309704769472 \\, {\\mathcal{C}}^{12} - 5161355590572 \\, {\\mathcal{C}}^{11} + 12651824810016 \\, {\\mathcal{C}}^{10} - 5527534803201 \\, {\\mathcal{C}}^{9} + 718537694688 \\, {\\mathcal{C}}^{8} + 383243884744 \\, {\\mathcal{C}}^{7} - 228807106752 \\, {\\mathcal{C}}^{6} + 37842851112 \\, {\\mathcal{C}}^{5} + 4097726592 \\, {\\mathcal{C}}^{4} - 3114256416 \\, {\\mathcal{C}}^{3} + 125659392 \\, {\\mathcal{C}}^{2} + 24410864 \\, {\\mathcal{C}}\\right)} \\sqrt{4 \\, {\\mathcal{C}}^{4} - 2 \\, {\\mathcal{C}}^{2} - 2} + 10471616 \\, {\\mathcal{C}}}{140737488355328 \\, {\\mathcal{C}}^{44} - 1055531162664960 \\, {\\mathcal{C}}^{43} + 3870280929771520 \\, {\\mathcal{C}}^{42} - 8153978231586816 \\, {\\mathcal{C}}^{41} + 4486007441326080 \\, {\\mathcal{C}}^{40} + 21760434625314816 \\, {\\mathcal{C}}^{39} - 50689959941636096 \\, {\\mathcal{C}}^{38} + 27602964537409536 \\, {\\mathcal{C}}^{37} + 46376610185609216 \\, {\\mathcal{C}}^{36} - 98859409735680000 \\, {\\mathcal{C}}^{35} + 73775482172080128 \\, {\\mathcal{C}}^{34} + 23660854574579712 \\, {\\mathcal{C}}^{33} - 112464980292403200 \\, {\\mathcal{C}}^{32} + 107183932528656384 \\, {\\mathcal{C}}^{31} - 23725438534680576 \\, {\\mathcal{C}}^{30} - 63098069188608000 \\, {\\mathcal{C}}^{29} + 91625506360786944 \\, {\\mathcal{C}}^{28} - 49978577302585344 \\, {\\mathcal{C}}^{27} - 10707324780937216 \\, {\\mathcal{C}}^{26} + 42337169384669184 \\, {\\mathcal{C}}^{25} - 37047638779756544 \\, {\\mathcal{C}}^{24} + 11210171981561856 \\, {\\mathcal{C}}^{23} + 9289284965842944 \\, {\\mathcal{C}}^{22} - 13775874286731264 \\, {\\mathcal{C}}^{21} + 8313931079968768 \\, {\\mathcal{C}}^{20} - 1019413395581952 \\, {\\mathcal{C}}^{19} - 2584115410927360 \\, {\\mathcal{C}}^{18} + 2419756151007744 \\, {\\mathcal{C}}^{17} - 1047105946950336 \\, {\\mathcal{C}}^{16} - 30973157752896 \\, {\\mathcal{C}}^{15} + 343207223401872 \\, {\\mathcal{C}}^{14} - 224873230159008 \\, {\\mathcal{C}}^{13} + 68096080064292 \\, {\\mathcal{C}}^{12} + 12599884573200 \\, {\\mathcal{C}}^{11} - 21405423757518 \\, {\\mathcal{C}}^{10} + 9692730343656 \\, {\\mathcal{C}}^{9} - 1673056429858 \\, {\\mathcal{C}}^{8} - 755605339440 \\, {\\mathcal{C}}^{7} + 504323062996 \\, {\\mathcal{C}}^{6} - 131189430024 \\, {\\mathcal{C}}^{5} - 3992789544 \\, {\\mathcal{C}}^{4} + 10227396096 \\, {\\mathcal{C}}^{3} - 2129530736 \\, {\\mathcal{C}}^{2} + 9 \\, {\\left(2199023255552 \\, \\sqrt{2} {\\mathcal{C}}^{38} - 14843406974976 \\, \\sqrt{2} {\\mathcal{C}}^{37} + 37383395344384 \\, \\sqrt{2} {\\mathcal{C}}^{36} - 32160715112448 \\, \\sqrt{2} {\\mathcal{C}}^{35} - 45664092291072 \\, \\sqrt{2} {\\mathcal{C}}^{34} + 158097746165760 \\, \\sqrt{2} {\\mathcal{C}}^{33} - 162298224181248 \\, \\sqrt{2} {\\mathcal{C}}^{32} - 22728966930432 \\, \\sqrt{2} {\\mathcal{C}}^{31} + 242596932747264 \\, \\sqrt{2} {\\mathcal{C}}^{30} - 286919384629248 \\, \\sqrt{2} {\\mathcal{C}}^{29} + 119517128687616 \\, \\sqrt{2} {\\mathcal{C}}^{28} + 144877836828672 \\, \\sqrt{2} {\\mathcal{C}}^{27} - 286896659890176 \\, \\sqrt{2} {\\mathcal{C}}^{26} + 200185152012288 \\, \\sqrt{2} {\\mathcal{C}}^{25} - 12259342417920 \\, \\sqrt{2} {\\mathcal{C}}^{24} - 131395366158336 \\, \\sqrt{2} {\\mathcal{C}}^{23} + 152166306545664 \\, \\sqrt{2} {\\mathcal{C}}^{22} - 69895053803520 \\, \\sqrt{2} {\\mathcal{C}}^{21} - 15260863037440 \\, \\sqrt{2} {\\mathcal{C}}^{20} + 52373960736768 \\, \\sqrt{2} {\\mathcal{C}}^{19} - 42871929522176 \\, \\sqrt{2} {\\mathcal{C}}^{18} + 13351140481536 \\, \\sqrt{2} {\\mathcal{C}}^{17} + 6190184911872 \\, \\sqrt{2} {\\mathcal{C}}^{16} - 10678375378944 \\, \\sqrt{2} {\\mathcal{C}}^{15} + 6577872632448 \\, \\sqrt{2} {\\mathcal{C}}^{14} - 1383573906432 \\, \\sqrt{2} {\\mathcal{C}}^{13} - 951100634304 \\, \\sqrt{2} {\\mathcal{C}}^{12} + 1102033764432 \\, \\sqrt{2} {\\mathcal{C}}^{11} - 507732397728 \\, \\sqrt{2} {\\mathcal{C}}^{10} + 66069268398 \\, \\sqrt{2} {\\mathcal{C}}^{9} + 65137398192 \\, \\sqrt{2} {\\mathcal{C}}^{8} - 49700478177 \\, \\sqrt{2} {\\mathcal{C}}^{7} + 15697371552 \\, \\sqrt{2} {\\mathcal{C}}^{6} - 401124114 \\, \\sqrt{2} {\\mathcal{C}}^{5} - 1651842096 \\, \\sqrt{2} {\\mathcal{C}}^{4} + 639316548 \\, \\sqrt{2} {\\mathcal{C}}^{3} - 85996288 \\, \\sqrt{2} {\\mathcal{C}}^{2} - 2 \\, {\\left(549755813888 \\, \\sqrt{2} {\\mathcal{C}}^{36} - 3710851743744 \\, \\sqrt{2} {\\mathcal{C}}^{35} + 9483287789568 \\, \\sqrt{2} {\\mathcal{C}}^{34} - 8967891714048 \\, \\sqrt{2} {\\mathcal{C}}^{33} - 8890582302720 \\, \\sqrt{2} {\\mathcal{C}}^{32} + 36238786560000 \\, \\sqrt{2} {\\mathcal{C}}^{31} - 40091372224512 \\, \\sqrt{2} {\\mathcal{C}}^{30} + 594316099584 \\, \\sqrt{2} {\\mathcal{C}}^{29} + 48824114479104 \\, \\sqrt{2} {\\mathcal{C}}^{28} - 62231660199936 \\, \\sqrt{2} {\\mathcal{C}}^{27} + 30744986517504 \\, \\sqrt{2} {\\mathcal{C}}^{26} + 22738026627072 \\, \\sqrt{2} {\\mathcal{C}}^{25} - 53295118811136 \\, \\sqrt{2} {\\mathcal{C}}^{24} + 39934392532992 \\, \\sqrt{2} {\\mathcal{C}}^{23} - 6634058809344 \\, \\sqrt{2} {\\mathcal{C}}^{22} - 19895842897920 \\, \\sqrt{2} {\\mathcal{C}}^{21} + 24941159350272 \\, \\sqrt{2} {\\mathcal{C}}^{20} - 12416638722048 \\, \\sqrt{2} {\\mathcal{C}}^{19} - 873264848896 \\, \\sqrt{2} {\\mathcal{C}}^{18} + 6933880571904 \\, \\sqrt{2} {\\mathcal{C}}^{17} - 5892808373760 \\, \\sqrt{2} {\\mathcal{C}}^{16} + 2003784444288 \\, \\sqrt{2} {\\mathcal{C}}^{15} + 537746654592 \\, \\sqrt{2} {\\mathcal{C}}^{14} - 1153742751648 \\, \\sqrt{2} {\\mathcal{C}}^{13} + 704459528160 \\, \\sqrt{2} {\\mathcal{C}}^{12} - 158320707624 \\, \\sqrt{2} {\\mathcal{C}}^{11} - 74786705112 \\, \\sqrt{2} {\\mathcal{C}}^{10} + 88367576274 \\, \\sqrt{2} {\\mathcal{C}}^{9} - 37496571408 \\, \\sqrt{2} {\\mathcal{C}}^{8} + 4376318787 \\, \\sqrt{2} {\\mathcal{C}}^{7} + 3934490382 \\, \\sqrt{2} {\\mathcal{C}}^{6} - 2449898730 \\, \\sqrt{2} {\\mathcal{C}}^{5} + 607485894 \\, \\sqrt{2} {\\mathcal{C}}^{4} + 36171828 \\, \\sqrt{2} {\\mathcal{C}}^{3} - 47698056 \\, \\sqrt{2} {\\mathcal{C}}^{2} + 11191176 \\, \\sqrt{2} {\\mathcal{C}} + 796232 \\, \\sqrt{2}\\right)} \\sqrt{4 \\, {\\mathcal{C}}^{4} - 2 \\, {\\mathcal{C}}^{2} - 2} - 21498264 \\, \\sqrt{2} {\\mathcal{C}} + 3315904 \\, \\sqrt{2}\\right)} \\sqrt{256 \\, {\\mathcal{C}}^{10} - 448 \\, {\\mathcal{C}}^{8} + 132 \\, {\\mathcal{C}}^{6} + 83 \\, {\\mathcal{C}}^{4} - 23 \\, {\\mathcal{C}}^{2} - 2 \\, {\\left(64 \\, {\\mathcal{C}}^{8} - 96 \\, {\\mathcal{C}}^{6} + 27 \\, {\\mathcal{C}}^{4} + 5 \\, {\\mathcal{C}}^{2}\\right)} \\sqrt{4 \\, {\\mathcal{C}}^{4} - 2 \\, {\\mathcal{C}}^{2} - 2}} - {\\left(70368744177664 \\, {\\mathcal{C}}^{42} - 527765581332480 \\, {\\mathcal{C}}^{41} + 1952732650930176 \\, {\\mathcal{C}}^{40} - 4208930511126528 \\, {\\mathcal{C}}^{39} + 2750978092695552 \\, {\\mathcal{C}}^{38} + 9679550615126016 \\, {\\mathcal{C}}^{37} - 24103081587245056 \\, {\\mathcal{C}}^{36} + 15000499698794496 \\, {\\mathcal{C}}^{35} + 18077568888471552 \\, {\\mathcal{C}}^{34} - 43283297429618688 \\, {\\mathcal{C}}^{33} + 34935523831185408 \\, {\\mathcal{C}}^{32} + 5650660838080512 \\, {\\mathcal{C}}^{31} - 43883471327723520 \\, {\\mathcal{C}}^{30} + 44281284620451840 \\, {\\mathcal{C}}^{29} - 12965921345765376 \\, {\\mathcal{C}}^{28} - 20870809862012928 \\, {\\mathcal{C}}^{27} + 33012665957744640 \\, {\\mathcal{C}}^{26} - 19150061703266304 \\, {\\mathcal{C}}^{25} - 1783656399503360 \\, {\\mathcal{C}}^{24} + 12998604644155392 \\, {\\mathcal{C}}^{23} - 11841735529070592 \\, {\\mathcal{C}}^{22} + 3955732496941056 \\, {\\mathcal{C}}^{21} + 2239910442049536 \\, {\\mathcal{C}}^{20} - 3672700679479296 \\, {\\mathcal{C}}^{19} + 2252713924551680 \\, {\\mathcal{C}}^{18} - 344471270487552 \\, {\\mathcal{C}}^{17} - 556971590429568 \\, {\\mathcal{C}}^{16} + 527118605153280 \\, {\\mathcal{C}}^{15} - 224282275125984 \\, {\\mathcal{C}}^{14} - 1615861136160 \\, {\\mathcal{C}}^{13} + 59294086410984 \\, {\\mathcal{C}}^{12} - 36683550128448 \\, {\\mathcal{C}}^{11} + 10045683965034 \\, {\\mathcal{C}}^{10} + 1964705676264 \\, {\\mathcal{C}}^{9} - 2600692840917 \\, {\\mathcal{C}}^{8} + 1000767082464 \\, {\\mathcal{C}}^{7} - 102571850606 \\, {\\mathcal{C}}^{6} - 76444884552 \\, {\\mathcal{C}}^{5} + 32522437452 \\, {\\mathcal{C}}^{4} - 4394455104 \\, {\\mathcal{C}}^{3} - 1054004328 \\, {\\mathcal{C}}^{2} + 296466720 \\, {\\mathcal{C}} + 9292832\\right)} \\sqrt{4 \\, {\\mathcal{C}}^{4} - 2 \\, {\\mathcal{C}}^{2} - 2} - 139392480 \\, {\\mathcal{C}} + 39528896} \\\\\n",
       "-\\frac{140737488355328 \\, {\\mathcal{C}}^{45} - 1688849860263936 \\, {\\mathcal{C}}^{44} + 8092405580431360 \\, {\\mathcal{C}}^{43} - 17732923532771328 \\, {\\mathcal{C}}^{42} + 6959908603822080 \\, {\\mathcal{C}}^{41} + 51219649668317184 \\, {\\mathcal{C}}^{40} - 108240322684780544 \\, {\\mathcal{C}}^{39} + 46733642226991104 \\, {\\mathcal{C}}^{38} + 131145658152255488 \\, {\\mathcal{C}}^{37} - 232733488812392448 \\, {\\mathcal{C}}^{36} + 116897550824374272 \\, {\\mathcal{C}}^{35} + 125154041335382016 \\, {\\mathcal{C}}^{34} - 278268764296839168 \\, {\\mathcal{C}}^{33} + 200718965796765696 \\, {\\mathcal{C}}^{32} + 33285367331291136 \\, {\\mathcal{C}}^{31} - 204238090200416256 \\, {\\mathcal{C}}^{30} + 191650947976396800 \\, {\\mathcal{C}}^{29} - 52396884165132288 \\, {\\mathcal{C}}^{28} - 80315315686211584 \\, {\\mathcal{C}}^{27} + 113188151551328256 \\, {\\mathcal{C}}^{26} - 60505123343433728 \\, {\\mathcal{C}}^{25} - 6053990298550272 \\, {\\mathcal{C}}^{24} + 38102323746570240 \\, {\\mathcal{C}}^{23} - 30977558872326144 \\, {\\mathcal{C}}^{22} + 9062231188350976 \\, {\\mathcal{C}}^{21} + 5652442547920896 \\, {\\mathcal{C}}^{20} - 8409180245330944 \\, {\\mathcal{C}}^{19} + 4486705931022336 \\, {\\mathcal{C}}^{18} - 467437639299840 \\, {\\mathcal{C}}^{17} - 1104005318962176 \\, {\\mathcal{C}}^{16} + 938689104440064 \\, {\\mathcal{C}}^{15} - 325346056644096 \\, {\\mathcal{C}}^{14} - 24999097859544 \\, {\\mathcal{C}}^{13} + 91237931807904 \\, {\\mathcal{C}}^{12} - 48596732276148 \\, {\\mathcal{C}}^{11} + 9240394832496 \\, {\\mathcal{C}}^{10} + 3156819835436 \\, {\\mathcal{C}}^{9} - 2940896377392 \\, {\\mathcal{C}}^{8} + 832365596224 \\, {\\mathcal{C}}^{7} - 18162985248 \\, {\\mathcal{C}}^{6} - 68828540640 \\, {\\mathcal{C}}^{5} + 19378314432 \\, {\\mathcal{C}}^{4} - 637618880 \\, {\\mathcal{C}}^{3} - 585860736 \\, {\\mathcal{C}}^{2} - {\\left(4398046511104 \\, \\sqrt{2} {\\mathcal{C}}^{40} - 52776558133248 \\, \\sqrt{2} {\\mathcal{C}}^{39} + 256735965085696 \\, \\sqrt{2} {\\mathcal{C}}^{38} - 600333348765696 \\, \\sqrt{2} {\\mathcal{C}}^{37} + 442690869133312 \\, \\sqrt{2} {\\mathcal{C}}^{36} + 1068725302198272 \\, \\sqrt{2} {\\mathcal{C}}^{35} - 2963295506006016 \\, \\sqrt{2} {\\mathcal{C}}^{34} + 2323302429229056 \\, \\sqrt{2} {\\mathcal{C}}^{33} + 1547244788514816 \\, \\sqrt{2} {\\mathcal{C}}^{32} - 5075130925449216 \\, \\sqrt{2} {\\mathcal{C}}^{31} + 4614819416113152 \\, \\sqrt{2} {\\mathcal{C}}^{30} - 299535314190336 \\, \\sqrt{2} {\\mathcal{C}}^{29} - 4305539492216832 \\, \\sqrt{2} {\\mathcal{C}}^{28} + 5260852290650112 \\, \\sqrt{2} {\\mathcal{C}}^{27} - 2251070103355392 \\, \\sqrt{2} {\\mathcal{C}}^{26} - 1536390844121088 \\, \\sqrt{2} {\\mathcal{C}}^{25} + 3252222932287488 \\, \\sqrt{2} {\\mathcal{C}}^{24} - 2341770007412736 \\, \\sqrt{2} {\\mathcal{C}}^{23} + 303391365038080 \\, \\sqrt{2} {\\mathcal{C}}^{22} + 1028067594731520 \\, \\sqrt{2} {\\mathcal{C}}^{21} - 1131598665261056 \\, \\sqrt{2} {\\mathcal{C}}^{20} + 524033376780288 \\, \\sqrt{2} {\\mathcal{C}}^{19} + 66863294551552 \\, \\sqrt{2} {\\mathcal{C}}^{18} - 276192856553472 \\, \\sqrt{2} {\\mathcal{C}}^{17} + 202335644500224 \\, \\sqrt{2} {\\mathcal{C}}^{16} - 58803243803136 \\, \\sqrt{2} {\\mathcal{C}}^{15} - 24189060104256 \\, \\sqrt{2} {\\mathcal{C}}^{14} + 35230169549952 \\, \\sqrt{2} {\\mathcal{C}}^{13} - 18027513865632 \\, \\sqrt{2} {\\mathcal{C}}^{12} + 2688162476832 \\, \\sqrt{2} {\\mathcal{C}}^{11} + 2456886048438 \\, \\sqrt{2} {\\mathcal{C}}^{10} - 2002605072624 \\, \\sqrt{2} {\\mathcal{C}}^{9} + 654108417003 \\, \\sqrt{2} {\\mathcal{C}}^{8} + 618134256 \\, \\sqrt{2} {\\mathcal{C}}^{7} - 86054462952 \\, \\sqrt{2} {\\mathcal{C}}^{6} + 37073596320 \\, \\sqrt{2} {\\mathcal{C}}^{5} - 4024654712 \\, \\sqrt{2} {\\mathcal{C}}^{4} - 1312273344 \\, \\sqrt{2} {\\mathcal{C}}^{3} + 595418752 \\, \\sqrt{2} {\\mathcal{C}}^{2} - {\\left(2199023255552 \\, \\sqrt{2} {\\mathcal{C}}^{38} - 26388279066624 \\, \\sqrt{2} {\\mathcal{C}}^{37} + 128917738356736 \\, \\sqrt{2} {\\mathcal{C}}^{36} - 306763744149504 \\, \\sqrt{2} {\\mathcal{C}}^{35} + 254193344446464 \\, \\sqrt{2} {\\mathcal{C}}^{34} + 450250011574272 \\, \\sqrt{2} {\\mathcal{C}}^{33} - 1381686684155904 \\, \\sqrt{2} {\\mathcal{C}}^{32} + 1186080988594176 \\, \\sqrt{2} {\\mathcal{C}}^{31} + 508882757615616 \\, \\sqrt{2} {\\mathcal{C}}^{30} - 2137489259102208 \\, \\sqrt{2} {\\mathcal{C}}^{29} + 2071343809953792 \\, \\sqrt{2} {\\mathcal{C}}^{28} - 337320288976896 \\, \\sqrt{2} {\\mathcal{C}}^{27} - 1569988452286464 \\, \\sqrt{2} {\\mathcal{C}}^{26} + 2042884282908672 \\, \\sqrt{2} {\\mathcal{C}}^{25} - 966430439768064 \\, \\sqrt{2} {\\mathcal{C}}^{24} - 428380319121408 \\, \\sqrt{2} {\\mathcal{C}}^{23} + 1080139249483776 \\, \\sqrt{2} {\\mathcal{C}}^{22} - 803359818252288 \\, \\sqrt{2} {\\mathcal{C}}^{21} + 145178693255168 \\, \\sqrt{2} {\\mathcal{C}}^{20} + 280044688834560 \\, \\sqrt{2} {\\mathcal{C}}^{19} - 321126464761856 \\, \\sqrt{2} {\\mathcal{C}}^{18} + 150504220753920 \\, \\sqrt{2} {\\mathcal{C}}^{17} + 9563730732288 \\, \\sqrt{2} {\\mathcal{C}}^{16} - 63557888762880 \\, \\sqrt{2} {\\mathcal{C}}^{15} + 45734320462080 \\, \\sqrt{2} {\\mathcal{C}}^{14} - 12838885896960 \\, \\sqrt{2} {\\mathcal{C}}^{13} - 4395221965920 \\, \\sqrt{2} {\\mathcal{C}}^{12} + 6212583108288 \\, \\sqrt{2} {\\mathcal{C}}^{11} - 2888510788512 \\, \\sqrt{2} {\\mathcal{C}}^{10} + 337454113968 \\, \\sqrt{2} {\\mathcal{C}}^{9} + 341084016717 \\, \\sqrt{2} {\\mathcal{C}}^{8} - 231157999512 \\, \\sqrt{2} {\\mathcal{C}}^{7} + 55522623288 \\, \\sqrt{2} {\\mathcal{C}}^{6} + 4534412976 \\, \\sqrt{2} {\\mathcal{C}}^{5} - 6817015944 \\, \\sqrt{2} {\\mathcal{C}}^{4} + 1637836128 \\, \\sqrt{2} {\\mathcal{C}}^{3} + 48489440 \\, \\sqrt{2} {\\mathcal{C}}^{2} - 58900416 \\, \\sqrt{2} {\\mathcal{C}} + 65488 \\, \\sqrt{2}\\right)} \\sqrt{4 \\, {\\mathcal{C}}^{4} - 2 \\, {\\mathcal{C}}^{2} - 2} - 1571712 \\, \\sqrt{2} {\\mathcal{C}} - 4908368 \\, \\sqrt{2}\\right)} \\sqrt{256 \\, {\\mathcal{C}}^{10} - 448 \\, {\\mathcal{C}}^{8} + 132 \\, {\\mathcal{C}}^{6} + 83 \\, {\\mathcal{C}}^{4} - 23 \\, {\\mathcal{C}}^{2} - 2 \\, {\\left(64 \\, {\\mathcal{C}}^{8} - 96 \\, {\\mathcal{C}}^{6} + 27 \\, {\\mathcal{C}}^{4} + 5 \\, {\\mathcal{C}}^{2}\\right)} \\sqrt{4 \\, {\\mathcal{C}}^{4} - 2 \\, {\\mathcal{C}}^{2} - 2}} - {\\left(70368744177664 \\, {\\mathcal{C}}^{43} - 844424930131968 \\, {\\mathcal{C}}^{42} + 4063794976260096 \\, {\\mathcal{C}}^{41} - 9077567998918656 \\, {\\mathcal{C}}^{40} + 4515694255276032 \\, {\\mathcal{C}}^{39} + 23102938322829312 \\, {\\mathcal{C}}^{38} - 51843347639173120 \\, {\\mathcal{C}}^{37} + 26530116066607104 \\, {\\mathcal{C}}^{36} + 54171786849288192 \\, {\\mathcal{C}}^{35} - 103923021558841344 \\, {\\mathcal{C}}^{34} + 57962847107284992 \\, {\\mathcal{C}}^{33} + 45134935140335616 \\, {\\mathcal{C}}^{32} - 112654807109468160 \\, {\\mathcal{C}}^{31} + 85268105986572288 \\, {\\mathcal{C}}^{30} + 5893400310054912 \\, {\\mathcal{C}}^{29} - 73375212694929408 \\, {\\mathcal{C}}^{28} + 71225365028143104 \\, {\\mathcal{C}}^{27} - 21994407028850688 \\, {\\mathcal{C}}^{26} - 24700213262286848 \\, {\\mathcal{C}}^{25} + 36517903910043648 \\, {\\mathcal{C}}^{24} - 19900549788008448 \\, {\\mathcal{C}}^{23} - 853909434531840 \\, {\\mathcal{C}}^{22} + 10551332494589952 \\, {\\mathcal{C}}^{21} - 8513784424759296 \\, {\\mathcal{C}}^{20} + 2524478509908992 \\, {\\mathcal{C}}^{19} + 1293918159163392 \\, {\\mathcal{C}}^{18} - 1934922202723584 \\, {\\mathcal{C}}^{17} + 982119085231104 \\, {\\mathcal{C}}^{16} - 99426516421248 \\, {\\mathcal{C}}^{15} - 210544673833728 \\, {\\mathcal{C}}^{14} + 164479596954144 \\, {\\mathcal{C}}^{13} - 50309704769472 \\, {\\mathcal{C}}^{12} - 5161355590572 \\, {\\mathcal{C}}^{11} + 12651824810016 \\, {\\mathcal{C}}^{10} - 5527534803201 \\, {\\mathcal{C}}^{9} + 718537694688 \\, {\\mathcal{C}}^{8} + 383243884744 \\, {\\mathcal{C}}^{7} - 228807106752 \\, {\\mathcal{C}}^{6} + 37842851112 \\, {\\mathcal{C}}^{5} + 4097726592 \\, {\\mathcal{C}}^{4} - 3114256416 \\, {\\mathcal{C}}^{3} + 125659392 \\, {\\mathcal{C}}^{2} + 24410864 \\, {\\mathcal{C}}\\right)} \\sqrt{4 \\, {\\mathcal{C}}^{4} - 2 \\, {\\mathcal{C}}^{2} - 2} + 10471616 \\, {\\mathcal{C}}}{140737488355328 \\, {\\mathcal{C}}^{44} - 1055531162664960 \\, {\\mathcal{C}}^{43} + 3870280929771520 \\, {\\mathcal{C}}^{42} - 8153978231586816 \\, {\\mathcal{C}}^{41} + 4486007441326080 \\, {\\mathcal{C}}^{40} + 21760434625314816 \\, {\\mathcal{C}}^{39} - 50689959941636096 \\, {\\mathcal{C}}^{38} + 27602964537409536 \\, {\\mathcal{C}}^{37} + 46376610185609216 \\, {\\mathcal{C}}^{36} - 98859409735680000 \\, {\\mathcal{C}}^{35} + 73775482172080128 \\, {\\mathcal{C}}^{34} + 23660854574579712 \\, {\\mathcal{C}}^{33} - 112464980292403200 \\, {\\mathcal{C}}^{32} + 107183932528656384 \\, {\\mathcal{C}}^{31} - 23725438534680576 \\, {\\mathcal{C}}^{30} - 63098069188608000 \\, {\\mathcal{C}}^{29} + 91625506360786944 \\, {\\mathcal{C}}^{28} - 49978577302585344 \\, {\\mathcal{C}}^{27} - 10707324780937216 \\, {\\mathcal{C}}^{26} + 42337169384669184 \\, {\\mathcal{C}}^{25} - 37047638779756544 \\, {\\mathcal{C}}^{24} + 11210171981561856 \\, {\\mathcal{C}}^{23} + 9289284965842944 \\, {\\mathcal{C}}^{22} - 13775874286731264 \\, {\\mathcal{C}}^{21} + 8313931079968768 \\, {\\mathcal{C}}^{20} - 1019413395581952 \\, {\\mathcal{C}}^{19} - 2584115410927360 \\, {\\mathcal{C}}^{18} + 2419756151007744 \\, {\\mathcal{C}}^{17} - 1047105946950336 \\, {\\mathcal{C}}^{16} - 30973157752896 \\, {\\mathcal{C}}^{15} + 343207223401872 \\, {\\mathcal{C}}^{14} - 224873230159008 \\, {\\mathcal{C}}^{13} + 68096080064292 \\, {\\mathcal{C}}^{12} + 12599884573200 \\, {\\mathcal{C}}^{11} - 21405423757518 \\, {\\mathcal{C}}^{10} + 9692730343656 \\, {\\mathcal{C}}^{9} - 1673056429858 \\, {\\mathcal{C}}^{8} - 755605339440 \\, {\\mathcal{C}}^{7} + 504323062996 \\, {\\mathcal{C}}^{6} - 131189430024 \\, {\\mathcal{C}}^{5} - 3992789544 \\, {\\mathcal{C}}^{4} + 10227396096 \\, {\\mathcal{C}}^{3} - 2129530736 \\, {\\mathcal{C}}^{2} + 9 \\, {\\left(2199023255552 \\, \\sqrt{2} {\\mathcal{C}}^{38} - 14843406974976 \\, \\sqrt{2} {\\mathcal{C}}^{37} + 37383395344384 \\, \\sqrt{2} {\\mathcal{C}}^{36} - 32160715112448 \\, \\sqrt{2} {\\mathcal{C}}^{35} - 45664092291072 \\, \\sqrt{2} {\\mathcal{C}}^{34} + 158097746165760 \\, \\sqrt{2} {\\mathcal{C}}^{33} - 162298224181248 \\, \\sqrt{2} {\\mathcal{C}}^{32} - 22728966930432 \\, \\sqrt{2} {\\mathcal{C}}^{31} + 242596932747264 \\, \\sqrt{2} {\\mathcal{C}}^{30} - 286919384629248 \\, \\sqrt{2} {\\mathcal{C}}^{29} + 119517128687616 \\, \\sqrt{2} {\\mathcal{C}}^{28} + 144877836828672 \\, \\sqrt{2} {\\mathcal{C}}^{27} - 286896659890176 \\, \\sqrt{2} {\\mathcal{C}}^{26} + 200185152012288 \\, \\sqrt{2} {\\mathcal{C}}^{25} - 12259342417920 \\, \\sqrt{2} {\\mathcal{C}}^{24} - 131395366158336 \\, \\sqrt{2} {\\mathcal{C}}^{23} + 152166306545664 \\, \\sqrt{2} {\\mathcal{C}}^{22} - 69895053803520 \\, \\sqrt{2} {\\mathcal{C}}^{21} - 15260863037440 \\, \\sqrt{2} {\\mathcal{C}}^{20} + 52373960736768 \\, \\sqrt{2} {\\mathcal{C}}^{19} - 42871929522176 \\, \\sqrt{2} {\\mathcal{C}}^{18} + 13351140481536 \\, \\sqrt{2} {\\mathcal{C}}^{17} + 6190184911872 \\, \\sqrt{2} {\\mathcal{C}}^{16} - 10678375378944 \\, \\sqrt{2} {\\mathcal{C}}^{15} + 6577872632448 \\, \\sqrt{2} {\\mathcal{C}}^{14} - 1383573906432 \\, \\sqrt{2} {\\mathcal{C}}^{13} - 951100634304 \\, \\sqrt{2} {\\mathcal{C}}^{12} + 1102033764432 \\, \\sqrt{2} {\\mathcal{C}}^{11} - 507732397728 \\, \\sqrt{2} {\\mathcal{C}}^{10} + 66069268398 \\, \\sqrt{2} {\\mathcal{C}}^{9} + 65137398192 \\, \\sqrt{2} {\\mathcal{C}}^{8} - 49700478177 \\, \\sqrt{2} {\\mathcal{C}}^{7} + 15697371552 \\, \\sqrt{2} {\\mathcal{C}}^{6} - 401124114 \\, \\sqrt{2} {\\mathcal{C}}^{5} - 1651842096 \\, \\sqrt{2} {\\mathcal{C}}^{4} + 639316548 \\, \\sqrt{2} {\\mathcal{C}}^{3} - 85996288 \\, \\sqrt{2} {\\mathcal{C}}^{2} - 2 \\, {\\left(549755813888 \\, \\sqrt{2} {\\mathcal{C}}^{36} - 3710851743744 \\, \\sqrt{2} {\\mathcal{C}}^{35} + 9483287789568 \\, \\sqrt{2} {\\mathcal{C}}^{34} - 8967891714048 \\, \\sqrt{2} {\\mathcal{C}}^{33} - 8890582302720 \\, \\sqrt{2} {\\mathcal{C}}^{32} + 36238786560000 \\, \\sqrt{2} {\\mathcal{C}}^{31} - 40091372224512 \\, \\sqrt{2} {\\mathcal{C}}^{30} + 594316099584 \\, \\sqrt{2} {\\mathcal{C}}^{29} + 48824114479104 \\, \\sqrt{2} {\\mathcal{C}}^{28} - 62231660199936 \\, \\sqrt{2} {\\mathcal{C}}^{27} + 30744986517504 \\, \\sqrt{2} {\\mathcal{C}}^{26} + 22738026627072 \\, \\sqrt{2} {\\mathcal{C}}^{25} - 53295118811136 \\, \\sqrt{2} {\\mathcal{C}}^{24} + 39934392532992 \\, \\sqrt{2} {\\mathcal{C}}^{23} - 6634058809344 \\, \\sqrt{2} {\\mathcal{C}}^{22} - 19895842897920 \\, \\sqrt{2} {\\mathcal{C}}^{21} + 24941159350272 \\, \\sqrt{2} {\\mathcal{C}}^{20} - 12416638722048 \\, \\sqrt{2} {\\mathcal{C}}^{19} - 873264848896 \\, \\sqrt{2} {\\mathcal{C}}^{18} + 6933880571904 \\, \\sqrt{2} {\\mathcal{C}}^{17} - 5892808373760 \\, \\sqrt{2} {\\mathcal{C}}^{16} + 2003784444288 \\, \\sqrt{2} {\\mathcal{C}}^{15} + 537746654592 \\, \\sqrt{2} {\\mathcal{C}}^{14} - 1153742751648 \\, \\sqrt{2} {\\mathcal{C}}^{13} + 704459528160 \\, \\sqrt{2} {\\mathcal{C}}^{12} - 158320707624 \\, \\sqrt{2} {\\mathcal{C}}^{11} - 74786705112 \\, \\sqrt{2} {\\mathcal{C}}^{10} + 88367576274 \\, \\sqrt{2} {\\mathcal{C}}^{9} - 37496571408 \\, \\sqrt{2} {\\mathcal{C}}^{8} + 4376318787 \\, \\sqrt{2} {\\mathcal{C}}^{7} + 3934490382 \\, \\sqrt{2} {\\mathcal{C}}^{6} - 2449898730 \\, \\sqrt{2} {\\mathcal{C}}^{5} + 607485894 \\, \\sqrt{2} {\\mathcal{C}}^{4} + 36171828 \\, \\sqrt{2} {\\mathcal{C}}^{3} - 47698056 \\, \\sqrt{2} {\\mathcal{C}}^{2} + 11191176 \\, \\sqrt{2} {\\mathcal{C}} + 796232 \\, \\sqrt{2}\\right)} \\sqrt{4 \\, {\\mathcal{C}}^{4} - 2 \\, {\\mathcal{C}}^{2} - 2} - 21498264 \\, \\sqrt{2} {\\mathcal{C}} + 3315904 \\, \\sqrt{2}\\right)} \\sqrt{256 \\, {\\mathcal{C}}^{10} - 448 \\, {\\mathcal{C}}^{8} + 132 \\, {\\mathcal{C}}^{6} + 83 \\, {\\mathcal{C}}^{4} - 23 \\, {\\mathcal{C}}^{2} - 2 \\, {\\left(64 \\, {\\mathcal{C}}^{8} - 96 \\, {\\mathcal{C}}^{6} + 27 \\, {\\mathcal{C}}^{4} + 5 \\, {\\mathcal{C}}^{2}\\right)} \\sqrt{4 \\, {\\mathcal{C}}^{4} - 2 \\, {\\mathcal{C}}^{2} - 2}} - {\\left(70368744177664 \\, {\\mathcal{C}}^{42} - 527765581332480 \\, {\\mathcal{C}}^{41} + 1952732650930176 \\, {\\mathcal{C}}^{40} - 4208930511126528 \\, {\\mathcal{C}}^{39} + 2750978092695552 \\, {\\mathcal{C}}^{38} + 9679550615126016 \\, {\\mathcal{C}}^{37} - 24103081587245056 \\, {\\mathcal{C}}^{36} + 15000499698794496 \\, {\\mathcal{C}}^{35} + 18077568888471552 \\, {\\mathcal{C}}^{34} - 43283297429618688 \\, {\\mathcal{C}}^{33} + 34935523831185408 \\, {\\mathcal{C}}^{32} + 5650660838080512 \\, {\\mathcal{C}}^{31} - 43883471327723520 \\, {\\mathcal{C}}^{30} + 44281284620451840 \\, {\\mathcal{C}}^{29} - 12965921345765376 \\, {\\mathcal{C}}^{28} - 20870809862012928 \\, {\\mathcal{C}}^{27} + 33012665957744640 \\, {\\mathcal{C}}^{26} - 19150061703266304 \\, {\\mathcal{C}}^{25} - 1783656399503360 \\, {\\mathcal{C}}^{24} + 12998604644155392 \\, {\\mathcal{C}}^{23} - 11841735529070592 \\, {\\mathcal{C}}^{22} + 3955732496941056 \\, {\\mathcal{C}}^{21} + 2239910442049536 \\, {\\mathcal{C}}^{20} - 3672700679479296 \\, {\\mathcal{C}}^{19} + 2252713924551680 \\, {\\mathcal{C}}^{18} - 344471270487552 \\, {\\mathcal{C}}^{17} - 556971590429568 \\, {\\mathcal{C}}^{16} + 527118605153280 \\, {\\mathcal{C}}^{15} - 224282275125984 \\, {\\mathcal{C}}^{14} - 1615861136160 \\, {\\mathcal{C}}^{13} + 59294086410984 \\, {\\mathcal{C}}^{12} - 36683550128448 \\, {\\mathcal{C}}^{11} + 10045683965034 \\, {\\mathcal{C}}^{10} + 1964705676264 \\, {\\mathcal{C}}^{9} - 2600692840917 \\, {\\mathcal{C}}^{8} + 1000767082464 \\, {\\mathcal{C}}^{7} - 102571850606 \\, {\\mathcal{C}}^{6} - 76444884552 \\, {\\mathcal{C}}^{5} + 32522437452 \\, {\\mathcal{C}}^{4} - 4394455104 \\, {\\mathcal{C}}^{3} - 1054004328 \\, {\\mathcal{C}}^{2} + 296466720 \\, {\\mathcal{C}} + 9292832\\right)} \\sqrt{4 \\, {\\mathcal{C}}^{4} - 2 \\, {\\mathcal{C}}^{2} - 2} - 139392480 \\, {\\mathcal{C}} + 39528896}\n",
       "\\end{array}\\right)\\)</html>"
      ],
      "text/latex": [
       "$\\displaystyle \\left(\\begin{array}{r}\n",
       "-\\frac{140737488355328 \\, {\\mathcal{C}}^{45} - 1688849860263936 \\, {\\mathcal{C}}^{44} + 8092405580431360 \\, {\\mathcal{C}}^{43} - 17732923532771328 \\, {\\mathcal{C}}^{42} + 6959908603822080 \\, {\\mathcal{C}}^{41} + 51219649668317184 \\, {\\mathcal{C}}^{40} - 108240322684780544 \\, {\\mathcal{C}}^{39} + 46733642226991104 \\, {\\mathcal{C}}^{38} + 131145658152255488 \\, {\\mathcal{C}}^{37} - 232733488812392448 \\, {\\mathcal{C}}^{36} + 116897550824374272 \\, {\\mathcal{C}}^{35} + 125154041335382016 \\, {\\mathcal{C}}^{34} - 278268764296839168 \\, {\\mathcal{C}}^{33} + 200718965796765696 \\, {\\mathcal{C}}^{32} + 33285367331291136 \\, {\\mathcal{C}}^{31} - 204238090200416256 \\, {\\mathcal{C}}^{30} + 191650947976396800 \\, {\\mathcal{C}}^{29} - 52396884165132288 \\, {\\mathcal{C}}^{28} - 80315315686211584 \\, {\\mathcal{C}}^{27} + 113188151551328256 \\, {\\mathcal{C}}^{26} - 60505123343433728 \\, {\\mathcal{C}}^{25} - 6053990298550272 \\, {\\mathcal{C}}^{24} + 38102323746570240 \\, {\\mathcal{C}}^{23} - 30977558872326144 \\, {\\mathcal{C}}^{22} + 9062231188350976 \\, {\\mathcal{C}}^{21} + 5652442547920896 \\, {\\mathcal{C}}^{20} - 8409180245330944 \\, {\\mathcal{C}}^{19} + 4486705931022336 \\, {\\mathcal{C}}^{18} - 467437639299840 \\, {\\mathcal{C}}^{17} - 1104005318962176 \\, {\\mathcal{C}}^{16} + 938689104440064 \\, {\\mathcal{C}}^{15} - 325346056644096 \\, {\\mathcal{C}}^{14} - 24999097859544 \\, {\\mathcal{C}}^{13} + 91237931807904 \\, {\\mathcal{C}}^{12} - 48596732276148 \\, {\\mathcal{C}}^{11} + 9240394832496 \\, {\\mathcal{C}}^{10} + 3156819835436 \\, {\\mathcal{C}}^{9} - 2940896377392 \\, {\\mathcal{C}}^{8} + 832365596224 \\, {\\mathcal{C}}^{7} - 18162985248 \\, {\\mathcal{C}}^{6} - 68828540640 \\, {\\mathcal{C}}^{5} + 19378314432 \\, {\\mathcal{C}}^{4} - 637618880 \\, {\\mathcal{C}}^{3} - 585860736 \\, {\\mathcal{C}}^{2} - {\\left(4398046511104 \\, \\sqrt{2} {\\mathcal{C}}^{40} - 52776558133248 \\, \\sqrt{2} {\\mathcal{C}}^{39} + 256735965085696 \\, \\sqrt{2} {\\mathcal{C}}^{38} - 600333348765696 \\, \\sqrt{2} {\\mathcal{C}}^{37} + 442690869133312 \\, \\sqrt{2} {\\mathcal{C}}^{36} + 1068725302198272 \\, \\sqrt{2} {\\mathcal{C}}^{35} - 2963295506006016 \\, \\sqrt{2} {\\mathcal{C}}^{34} + 2323302429229056 \\, \\sqrt{2} {\\mathcal{C}}^{33} + 1547244788514816 \\, \\sqrt{2} {\\mathcal{C}}^{32} - 5075130925449216 \\, \\sqrt{2} {\\mathcal{C}}^{31} + 4614819416113152 \\, \\sqrt{2} {\\mathcal{C}}^{30} - 299535314190336 \\, \\sqrt{2} {\\mathcal{C}}^{29} - 4305539492216832 \\, \\sqrt{2} {\\mathcal{C}}^{28} + 5260852290650112 \\, \\sqrt{2} {\\mathcal{C}}^{27} - 2251070103355392 \\, \\sqrt{2} {\\mathcal{C}}^{26} - 1536390844121088 \\, \\sqrt{2} {\\mathcal{C}}^{25} + 3252222932287488 \\, \\sqrt{2} {\\mathcal{C}}^{24} - 2341770007412736 \\, \\sqrt{2} {\\mathcal{C}}^{23} + 303391365038080 \\, \\sqrt{2} {\\mathcal{C}}^{22} + 1028067594731520 \\, \\sqrt{2} {\\mathcal{C}}^{21} - 1131598665261056 \\, \\sqrt{2} {\\mathcal{C}}^{20} + 524033376780288 \\, \\sqrt{2} {\\mathcal{C}}^{19} + 66863294551552 \\, \\sqrt{2} {\\mathcal{C}}^{18} - 276192856553472 \\, \\sqrt{2} {\\mathcal{C}}^{17} + 202335644500224 \\, \\sqrt{2} {\\mathcal{C}}^{16} - 58803243803136 \\, \\sqrt{2} {\\mathcal{C}}^{15} - 24189060104256 \\, \\sqrt{2} {\\mathcal{C}}^{14} + 35230169549952 \\, \\sqrt{2} {\\mathcal{C}}^{13} - 18027513865632 \\, \\sqrt{2} {\\mathcal{C}}^{12} + 2688162476832 \\, \\sqrt{2} {\\mathcal{C}}^{11} + 2456886048438 \\, \\sqrt{2} {\\mathcal{C}}^{10} - 2002605072624 \\, \\sqrt{2} {\\mathcal{C}}^{9} + 654108417003 \\, \\sqrt{2} {\\mathcal{C}}^{8} + 618134256 \\, \\sqrt{2} {\\mathcal{C}}^{7} - 86054462952 \\, \\sqrt{2} {\\mathcal{C}}^{6} + 37073596320 \\, \\sqrt{2} {\\mathcal{C}}^{5} - 4024654712 \\, \\sqrt{2} {\\mathcal{C}}^{4} - 1312273344 \\, \\sqrt{2} {\\mathcal{C}}^{3} + 595418752 \\, \\sqrt{2} {\\mathcal{C}}^{2} - {\\left(2199023255552 \\, \\sqrt{2} {\\mathcal{C}}^{38} - 26388279066624 \\, \\sqrt{2} {\\mathcal{C}}^{37} + 128917738356736 \\, \\sqrt{2} {\\mathcal{C}}^{36} - 306763744149504 \\, \\sqrt{2} {\\mathcal{C}}^{35} + 254193344446464 \\, \\sqrt{2} {\\mathcal{C}}^{34} + 450250011574272 \\, \\sqrt{2} {\\mathcal{C}}^{33} - 1381686684155904 \\, \\sqrt{2} {\\mathcal{C}}^{32} + 1186080988594176 \\, \\sqrt{2} {\\mathcal{C}}^{31} + 508882757615616 \\, \\sqrt{2} {\\mathcal{C}}^{30} - 2137489259102208 \\, \\sqrt{2} {\\mathcal{C}}^{29} + 2071343809953792 \\, \\sqrt{2} {\\mathcal{C}}^{28} - 337320288976896 \\, \\sqrt{2} {\\mathcal{C}}^{27} - 1569988452286464 \\, \\sqrt{2} {\\mathcal{C}}^{26} + 2042884282908672 \\, \\sqrt{2} {\\mathcal{C}}^{25} - 966430439768064 \\, \\sqrt{2} {\\mathcal{C}}^{24} - 428380319121408 \\, \\sqrt{2} {\\mathcal{C}}^{23} + 1080139249483776 \\, \\sqrt{2} {\\mathcal{C}}^{22} - 803359818252288 \\, \\sqrt{2} {\\mathcal{C}}^{21} + 145178693255168 \\, \\sqrt{2} {\\mathcal{C}}^{20} + 280044688834560 \\, \\sqrt{2} {\\mathcal{C}}^{19} - 321126464761856 \\, \\sqrt{2} {\\mathcal{C}}^{18} + 150504220753920 \\, \\sqrt{2} {\\mathcal{C}}^{17} + 9563730732288 \\, \\sqrt{2} {\\mathcal{C}}^{16} - 63557888762880 \\, \\sqrt{2} {\\mathcal{C}}^{15} + 45734320462080 \\, \\sqrt{2} {\\mathcal{C}}^{14} - 12838885896960 \\, \\sqrt{2} {\\mathcal{C}}^{13} - 4395221965920 \\, \\sqrt{2} {\\mathcal{C}}^{12} + 6212583108288 \\, \\sqrt{2} {\\mathcal{C}}^{11} - 2888510788512 \\, \\sqrt{2} {\\mathcal{C}}^{10} + 337454113968 \\, \\sqrt{2} {\\mathcal{C}}^{9} + 341084016717 \\, \\sqrt{2} {\\mathcal{C}}^{8} - 231157999512 \\, \\sqrt{2} {\\mathcal{C}}^{7} + 55522623288 \\, \\sqrt{2} {\\mathcal{C}}^{6} + 4534412976 \\, \\sqrt{2} {\\mathcal{C}}^{5} - 6817015944 \\, \\sqrt{2} {\\mathcal{C}}^{4} + 1637836128 \\, \\sqrt{2} {\\mathcal{C}}^{3} + 48489440 \\, \\sqrt{2} {\\mathcal{C}}^{2} - 58900416 \\, \\sqrt{2} {\\mathcal{C}} + 65488 \\, \\sqrt{2}\\right)} \\sqrt{4 \\, {\\mathcal{C}}^{4} - 2 \\, {\\mathcal{C}}^{2} - 2} - 1571712 \\, \\sqrt{2} {\\mathcal{C}} - 4908368 \\, \\sqrt{2}\\right)} \\sqrt{256 \\, {\\mathcal{C}}^{10} - 448 \\, {\\mathcal{C}}^{8} + 132 \\, {\\mathcal{C}}^{6} + 83 \\, {\\mathcal{C}}^{4} - 23 \\, {\\mathcal{C}}^{2} - 2 \\, {\\left(64 \\, {\\mathcal{C}}^{8} - 96 \\, {\\mathcal{C}}^{6} + 27 \\, {\\mathcal{C}}^{4} + 5 \\, {\\mathcal{C}}^{2}\\right)} \\sqrt{4 \\, {\\mathcal{C}}^{4} - 2 \\, {\\mathcal{C}}^{2} - 2}} - {\\left(70368744177664 \\, {\\mathcal{C}}^{43} - 844424930131968 \\, {\\mathcal{C}}^{42} + 4063794976260096 \\, {\\mathcal{C}}^{41} - 9077567998918656 \\, {\\mathcal{C}}^{40} + 4515694255276032 \\, {\\mathcal{C}}^{39} + 23102938322829312 \\, {\\mathcal{C}}^{38} - 51843347639173120 \\, {\\mathcal{C}}^{37} + 26530116066607104 \\, {\\mathcal{C}}^{36} + 54171786849288192 \\, {\\mathcal{C}}^{35} - 103923021558841344 \\, {\\mathcal{C}}^{34} + 57962847107284992 \\, {\\mathcal{C}}^{33} + 45134935140335616 \\, {\\mathcal{C}}^{32} - 112654807109468160 \\, {\\mathcal{C}}^{31} + 85268105986572288 \\, {\\mathcal{C}}^{30} + 5893400310054912 \\, {\\mathcal{C}}^{29} - 73375212694929408 \\, {\\mathcal{C}}^{28} + 71225365028143104 \\, {\\mathcal{C}}^{27} - 21994407028850688 \\, {\\mathcal{C}}^{26} - 24700213262286848 \\, {\\mathcal{C}}^{25} + 36517903910043648 \\, {\\mathcal{C}}^{24} - 19900549788008448 \\, {\\mathcal{C}}^{23} - 853909434531840 \\, {\\mathcal{C}}^{22} + 10551332494589952 \\, {\\mathcal{C}}^{21} - 8513784424759296 \\, {\\mathcal{C}}^{20} + 2524478509908992 \\, {\\mathcal{C}}^{19} + 1293918159163392 \\, {\\mathcal{C}}^{18} - 1934922202723584 \\, {\\mathcal{C}}^{17} + 982119085231104 \\, {\\mathcal{C}}^{16} - 99426516421248 \\, {\\mathcal{C}}^{15} - 210544673833728 \\, {\\mathcal{C}}^{14} + 164479596954144 \\, {\\mathcal{C}}^{13} - 50309704769472 \\, {\\mathcal{C}}^{12} - 5161355590572 \\, {\\mathcal{C}}^{11} + 12651824810016 \\, {\\mathcal{C}}^{10} - 5527534803201 \\, {\\mathcal{C}}^{9} + 718537694688 \\, {\\mathcal{C}}^{8} + 383243884744 \\, {\\mathcal{C}}^{7} - 228807106752 \\, {\\mathcal{C}}^{6} + 37842851112 \\, {\\mathcal{C}}^{5} + 4097726592 \\, {\\mathcal{C}}^{4} - 3114256416 \\, {\\mathcal{C}}^{3} + 125659392 \\, {\\mathcal{C}}^{2} + 24410864 \\, {\\mathcal{C}}\\right)} \\sqrt{4 \\, {\\mathcal{C}}^{4} - 2 \\, {\\mathcal{C}}^{2} - 2} + 10471616 \\, {\\mathcal{C}}}{140737488355328 \\, {\\mathcal{C}}^{44} - 1055531162664960 \\, {\\mathcal{C}}^{43} + 3870280929771520 \\, {\\mathcal{C}}^{42} - 8153978231586816 \\, {\\mathcal{C}}^{41} + 4486007441326080 \\, {\\mathcal{C}}^{40} + 21760434625314816 \\, {\\mathcal{C}}^{39} - 50689959941636096 \\, {\\mathcal{C}}^{38} + 27602964537409536 \\, {\\mathcal{C}}^{37} + 46376610185609216 \\, {\\mathcal{C}}^{36} - 98859409735680000 \\, {\\mathcal{C}}^{35} + 73775482172080128 \\, {\\mathcal{C}}^{34} + 23660854574579712 \\, {\\mathcal{C}}^{33} - 112464980292403200 \\, {\\mathcal{C}}^{32} + 107183932528656384 \\, {\\mathcal{C}}^{31} - 23725438534680576 \\, {\\mathcal{C}}^{30} - 63098069188608000 \\, {\\mathcal{C}}^{29} + 91625506360786944 \\, {\\mathcal{C}}^{28} - 49978577302585344 \\, {\\mathcal{C}}^{27} - 10707324780937216 \\, {\\mathcal{C}}^{26} + 42337169384669184 \\, {\\mathcal{C}}^{25} - 37047638779756544 \\, {\\mathcal{C}}^{24} + 11210171981561856 \\, {\\mathcal{C}}^{23} + 9289284965842944 \\, {\\mathcal{C}}^{22} - 13775874286731264 \\, {\\mathcal{C}}^{21} + 8313931079968768 \\, {\\mathcal{C}}^{20} - 1019413395581952 \\, {\\mathcal{C}}^{19} - 2584115410927360 \\, {\\mathcal{C}}^{18} + 2419756151007744 \\, {\\mathcal{C}}^{17} - 1047105946950336 \\, {\\mathcal{C}}^{16} - 30973157752896 \\, {\\mathcal{C}}^{15} + 343207223401872 \\, {\\mathcal{C}}^{14} - 224873230159008 \\, {\\mathcal{C}}^{13} + 68096080064292 \\, {\\mathcal{C}}^{12} + 12599884573200 \\, {\\mathcal{C}}^{11} - 21405423757518 \\, {\\mathcal{C}}^{10} + 9692730343656 \\, {\\mathcal{C}}^{9} - 1673056429858 \\, {\\mathcal{C}}^{8} - 755605339440 \\, {\\mathcal{C}}^{7} + 504323062996 \\, {\\mathcal{C}}^{6} - 131189430024 \\, {\\mathcal{C}}^{5} - 3992789544 \\, {\\mathcal{C}}^{4} + 10227396096 \\, {\\mathcal{C}}^{3} - 2129530736 \\, {\\mathcal{C}}^{2} + 9 \\, {\\left(2199023255552 \\, \\sqrt{2} {\\mathcal{C}}^{38} - 14843406974976 \\, \\sqrt{2} {\\mathcal{C}}^{37} + 37383395344384 \\, \\sqrt{2} {\\mathcal{C}}^{36} - 32160715112448 \\, \\sqrt{2} {\\mathcal{C}}^{35} - 45664092291072 \\, \\sqrt{2} {\\mathcal{C}}^{34} + 158097746165760 \\, \\sqrt{2} {\\mathcal{C}}^{33} - 162298224181248 \\, \\sqrt{2} {\\mathcal{C}}^{32} - 22728966930432 \\, \\sqrt{2} {\\mathcal{C}}^{31} + 242596932747264 \\, \\sqrt{2} {\\mathcal{C}}^{30} - 286919384629248 \\, \\sqrt{2} {\\mathcal{C}}^{29} + 119517128687616 \\, \\sqrt{2} {\\mathcal{C}}^{28} + 144877836828672 \\, \\sqrt{2} {\\mathcal{C}}^{27} - 286896659890176 \\, \\sqrt{2} {\\mathcal{C}}^{26} + 200185152012288 \\, \\sqrt{2} {\\mathcal{C}}^{25} - 12259342417920 \\, \\sqrt{2} {\\mathcal{C}}^{24} - 131395366158336 \\, \\sqrt{2} {\\mathcal{C}}^{23} + 152166306545664 \\, \\sqrt{2} {\\mathcal{C}}^{22} - 69895053803520 \\, \\sqrt{2} {\\mathcal{C}}^{21} - 15260863037440 \\, \\sqrt{2} {\\mathcal{C}}^{20} + 52373960736768 \\, \\sqrt{2} {\\mathcal{C}}^{19} - 42871929522176 \\, \\sqrt{2} {\\mathcal{C}}^{18} + 13351140481536 \\, \\sqrt{2} {\\mathcal{C}}^{17} + 6190184911872 \\, \\sqrt{2} {\\mathcal{C}}^{16} - 10678375378944 \\, \\sqrt{2} {\\mathcal{C}}^{15} + 6577872632448 \\, \\sqrt{2} {\\mathcal{C}}^{14} - 1383573906432 \\, \\sqrt{2} {\\mathcal{C}}^{13} - 951100634304 \\, \\sqrt{2} {\\mathcal{C}}^{12} + 1102033764432 \\, \\sqrt{2} {\\mathcal{C}}^{11} - 507732397728 \\, \\sqrt{2} {\\mathcal{C}}^{10} + 66069268398 \\, \\sqrt{2} {\\mathcal{C}}^{9} + 65137398192 \\, \\sqrt{2} {\\mathcal{C}}^{8} - 49700478177 \\, \\sqrt{2} {\\mathcal{C}}^{7} + 15697371552 \\, \\sqrt{2} {\\mathcal{C}}^{6} - 401124114 \\, \\sqrt{2} {\\mathcal{C}}^{5} - 1651842096 \\, \\sqrt{2} {\\mathcal{C}}^{4} + 639316548 \\, \\sqrt{2} {\\mathcal{C}}^{3} - 85996288 \\, \\sqrt{2} {\\mathcal{C}}^{2} - 2 \\, {\\left(549755813888 \\, \\sqrt{2} {\\mathcal{C}}^{36} - 3710851743744 \\, \\sqrt{2} {\\mathcal{C}}^{35} + 9483287789568 \\, \\sqrt{2} {\\mathcal{C}}^{34} - 8967891714048 \\, \\sqrt{2} {\\mathcal{C}}^{33} - 8890582302720 \\, \\sqrt{2} {\\mathcal{C}}^{32} + 36238786560000 \\, \\sqrt{2} {\\mathcal{C}}^{31} - 40091372224512 \\, \\sqrt{2} {\\mathcal{C}}^{30} + 594316099584 \\, \\sqrt{2} {\\mathcal{C}}^{29} + 48824114479104 \\, \\sqrt{2} {\\mathcal{C}}^{28} - 62231660199936 \\, \\sqrt{2} {\\mathcal{C}}^{27} + 30744986517504 \\, \\sqrt{2} {\\mathcal{C}}^{26} + 22738026627072 \\, \\sqrt{2} {\\mathcal{C}}^{25} - 53295118811136 \\, \\sqrt{2} {\\mathcal{C}}^{24} + 39934392532992 \\, \\sqrt{2} {\\mathcal{C}}^{23} - 6634058809344 \\, \\sqrt{2} {\\mathcal{C}}^{22} - 19895842897920 \\, \\sqrt{2} {\\mathcal{C}}^{21} + 24941159350272 \\, \\sqrt{2} {\\mathcal{C}}^{20} - 12416638722048 \\, \\sqrt{2} {\\mathcal{C}}^{19} - 873264848896 \\, \\sqrt{2} {\\mathcal{C}}^{18} + 6933880571904 \\, \\sqrt{2} {\\mathcal{C}}^{17} - 5892808373760 \\, \\sqrt{2} {\\mathcal{C}}^{16} + 2003784444288 \\, \\sqrt{2} {\\mathcal{C}}^{15} + 537746654592 \\, \\sqrt{2} {\\mathcal{C}}^{14} - 1153742751648 \\, \\sqrt{2} {\\mathcal{C}}^{13} + 704459528160 \\, \\sqrt{2} {\\mathcal{C}}^{12} - 158320707624 \\, \\sqrt{2} {\\mathcal{C}}^{11} - 74786705112 \\, \\sqrt{2} {\\mathcal{C}}^{10} + 88367576274 \\, \\sqrt{2} {\\mathcal{C}}^{9} - 37496571408 \\, \\sqrt{2} {\\mathcal{C}}^{8} + 4376318787 \\, \\sqrt{2} {\\mathcal{C}}^{7} + 3934490382 \\, \\sqrt{2} {\\mathcal{C}}^{6} - 2449898730 \\, \\sqrt{2} {\\mathcal{C}}^{5} + 607485894 \\, \\sqrt{2} {\\mathcal{C}}^{4} + 36171828 \\, \\sqrt{2} {\\mathcal{C}}^{3} - 47698056 \\, \\sqrt{2} {\\mathcal{C}}^{2} + 11191176 \\, \\sqrt{2} {\\mathcal{C}} + 796232 \\, \\sqrt{2}\\right)} \\sqrt{4 \\, {\\mathcal{C}}^{4} - 2 \\, {\\mathcal{C}}^{2} - 2} - 21498264 \\, \\sqrt{2} {\\mathcal{C}} + 3315904 \\, \\sqrt{2}\\right)} \\sqrt{256 \\, {\\mathcal{C}}^{10} - 448 \\, {\\mathcal{C}}^{8} + 132 \\, {\\mathcal{C}}^{6} + 83 \\, {\\mathcal{C}}^{4} - 23 \\, {\\mathcal{C}}^{2} - 2 \\, {\\left(64 \\, {\\mathcal{C}}^{8} - 96 \\, {\\mathcal{C}}^{6} + 27 \\, {\\mathcal{C}}^{4} + 5 \\, {\\mathcal{C}}^{2}\\right)} \\sqrt{4 \\, {\\mathcal{C}}^{4} - 2 \\, {\\mathcal{C}}^{2} - 2}} - {\\left(70368744177664 \\, {\\mathcal{C}}^{42} - 527765581332480 \\, {\\mathcal{C}}^{41} + 1952732650930176 \\, {\\mathcal{C}}^{40} - 4208930511126528 \\, {\\mathcal{C}}^{39} + 2750978092695552 \\, {\\mathcal{C}}^{38} + 9679550615126016 \\, {\\mathcal{C}}^{37} - 24103081587245056 \\, {\\mathcal{C}}^{36} + 15000499698794496 \\, {\\mathcal{C}}^{35} + 18077568888471552 \\, {\\mathcal{C}}^{34} - 43283297429618688 \\, {\\mathcal{C}}^{33} + 34935523831185408 \\, {\\mathcal{C}}^{32} + 5650660838080512 \\, {\\mathcal{C}}^{31} - 43883471327723520 \\, {\\mathcal{C}}^{30} + 44281284620451840 \\, {\\mathcal{C}}^{29} - 12965921345765376 \\, {\\mathcal{C}}^{28} - 20870809862012928 \\, {\\mathcal{C}}^{27} + 33012665957744640 \\, {\\mathcal{C}}^{26} - 19150061703266304 \\, {\\mathcal{C}}^{25} - 1783656399503360 \\, {\\mathcal{C}}^{24} + 12998604644155392 \\, {\\mathcal{C}}^{23} - 11841735529070592 \\, {\\mathcal{C}}^{22} + 3955732496941056 \\, {\\mathcal{C}}^{21} + 2239910442049536 \\, {\\mathcal{C}}^{20} - 3672700679479296 \\, {\\mathcal{C}}^{19} + 2252713924551680 \\, {\\mathcal{C}}^{18} - 344471270487552 \\, {\\mathcal{C}}^{17} - 556971590429568 \\, {\\mathcal{C}}^{16} + 527118605153280 \\, {\\mathcal{C}}^{15} - 224282275125984 \\, {\\mathcal{C}}^{14} - 1615861136160 \\, {\\mathcal{C}}^{13} + 59294086410984 \\, {\\mathcal{C}}^{12} - 36683550128448 \\, {\\mathcal{C}}^{11} + 10045683965034 \\, {\\mathcal{C}}^{10} + 1964705676264 \\, {\\mathcal{C}}^{9} - 2600692840917 \\, {\\mathcal{C}}^{8} + 1000767082464 \\, {\\mathcal{C}}^{7} - 102571850606 \\, {\\mathcal{C}}^{6} - 76444884552 \\, {\\mathcal{C}}^{5} + 32522437452 \\, {\\mathcal{C}}^{4} - 4394455104 \\, {\\mathcal{C}}^{3} - 1054004328 \\, {\\mathcal{C}}^{2} + 296466720 \\, {\\mathcal{C}} + 9292832\\right)} \\sqrt{4 \\, {\\mathcal{C}}^{4} - 2 \\, {\\mathcal{C}}^{2} - 2} - 139392480 \\, {\\mathcal{C}} + 39528896} \\\\\n",
       "-\\frac{140737488355328 \\, {\\mathcal{C}}^{45} - 1688849860263936 \\, {\\mathcal{C}}^{44} + 8092405580431360 \\, {\\mathcal{C}}^{43} - 17732923532771328 \\, {\\mathcal{C}}^{42} + 6959908603822080 \\, {\\mathcal{C}}^{41} + 51219649668317184 \\, {\\mathcal{C}}^{40} - 108240322684780544 \\, {\\mathcal{C}}^{39} + 46733642226991104 \\, {\\mathcal{C}}^{38} + 131145658152255488 \\, {\\mathcal{C}}^{37} - 232733488812392448 \\, {\\mathcal{C}}^{36} + 116897550824374272 \\, {\\mathcal{C}}^{35} + 125154041335382016 \\, {\\mathcal{C}}^{34} - 278268764296839168 \\, {\\mathcal{C}}^{33} + 200718965796765696 \\, {\\mathcal{C}}^{32} + 33285367331291136 \\, {\\mathcal{C}}^{31} - 204238090200416256 \\, {\\mathcal{C}}^{30} + 191650947976396800 \\, {\\mathcal{C}}^{29} - 52396884165132288 \\, {\\mathcal{C}}^{28} - 80315315686211584 \\, {\\mathcal{C}}^{27} + 113188151551328256 \\, {\\mathcal{C}}^{26} - 60505123343433728 \\, {\\mathcal{C}}^{25} - 6053990298550272 \\, {\\mathcal{C}}^{24} + 38102323746570240 \\, {\\mathcal{C}}^{23} - 30977558872326144 \\, {\\mathcal{C}}^{22} + 9062231188350976 \\, {\\mathcal{C}}^{21} + 5652442547920896 \\, {\\mathcal{C}}^{20} - 8409180245330944 \\, {\\mathcal{C}}^{19} + 4486705931022336 \\, {\\mathcal{C}}^{18} - 467437639299840 \\, {\\mathcal{C}}^{17} - 1104005318962176 \\, {\\mathcal{C}}^{16} + 938689104440064 \\, {\\mathcal{C}}^{15} - 325346056644096 \\, {\\mathcal{C}}^{14} - 24999097859544 \\, {\\mathcal{C}}^{13} + 91237931807904 \\, {\\mathcal{C}}^{12} - 48596732276148 \\, {\\mathcal{C}}^{11} + 9240394832496 \\, {\\mathcal{C}}^{10} + 3156819835436 \\, {\\mathcal{C}}^{9} - 2940896377392 \\, {\\mathcal{C}}^{8} + 832365596224 \\, {\\mathcal{C}}^{7} - 18162985248 \\, {\\mathcal{C}}^{6} - 68828540640 \\, {\\mathcal{C}}^{5} + 19378314432 \\, {\\mathcal{C}}^{4} - 637618880 \\, {\\mathcal{C}}^{3} - 585860736 \\, {\\mathcal{C}}^{2} - {\\left(4398046511104 \\, \\sqrt{2} {\\mathcal{C}}^{40} - 52776558133248 \\, \\sqrt{2} {\\mathcal{C}}^{39} + 256735965085696 \\, \\sqrt{2} {\\mathcal{C}}^{38} - 600333348765696 \\, \\sqrt{2} {\\mathcal{C}}^{37} + 442690869133312 \\, \\sqrt{2} {\\mathcal{C}}^{36} + 1068725302198272 \\, \\sqrt{2} {\\mathcal{C}}^{35} - 2963295506006016 \\, \\sqrt{2} {\\mathcal{C}}^{34} + 2323302429229056 \\, \\sqrt{2} {\\mathcal{C}}^{33} + 1547244788514816 \\, \\sqrt{2} {\\mathcal{C}}^{32} - 5075130925449216 \\, \\sqrt{2} {\\mathcal{C}}^{31} + 4614819416113152 \\, \\sqrt{2} {\\mathcal{C}}^{30} - 299535314190336 \\, \\sqrt{2} {\\mathcal{C}}^{29} - 4305539492216832 \\, \\sqrt{2} {\\mathcal{C}}^{28} + 5260852290650112 \\, \\sqrt{2} {\\mathcal{C}}^{27} - 2251070103355392 \\, \\sqrt{2} {\\mathcal{C}}^{26} - 1536390844121088 \\, \\sqrt{2} {\\mathcal{C}}^{25} + 3252222932287488 \\, \\sqrt{2} {\\mathcal{C}}^{24} - 2341770007412736 \\, \\sqrt{2} {\\mathcal{C}}^{23} + 303391365038080 \\, \\sqrt{2} {\\mathcal{C}}^{22} + 1028067594731520 \\, \\sqrt{2} {\\mathcal{C}}^{21} - 1131598665261056 \\, \\sqrt{2} {\\mathcal{C}}^{20} + 524033376780288 \\, \\sqrt{2} {\\mathcal{C}}^{19} + 66863294551552 \\, \\sqrt{2} {\\mathcal{C}}^{18} - 276192856553472 \\, \\sqrt{2} {\\mathcal{C}}^{17} + 202335644500224 \\, \\sqrt{2} {\\mathcal{C}}^{16} - 58803243803136 \\, \\sqrt{2} {\\mathcal{C}}^{15} - 24189060104256 \\, \\sqrt{2} {\\mathcal{C}}^{14} + 35230169549952 \\, \\sqrt{2} {\\mathcal{C}}^{13} - 18027513865632 \\, \\sqrt{2} {\\mathcal{C}}^{12} + 2688162476832 \\, \\sqrt{2} {\\mathcal{C}}^{11} + 2456886048438 \\, \\sqrt{2} {\\mathcal{C}}^{10} - 2002605072624 \\, \\sqrt{2} {\\mathcal{C}}^{9} + 654108417003 \\, \\sqrt{2} {\\mathcal{C}}^{8} + 618134256 \\, \\sqrt{2} {\\mathcal{C}}^{7} - 86054462952 \\, \\sqrt{2} {\\mathcal{C}}^{6} + 37073596320 \\, \\sqrt{2} {\\mathcal{C}}^{5} - 4024654712 \\, \\sqrt{2} {\\mathcal{C}}^{4} - 1312273344 \\, \\sqrt{2} {\\mathcal{C}}^{3} + 595418752 \\, \\sqrt{2} {\\mathcal{C}}^{2} - {\\left(2199023255552 \\, \\sqrt{2} {\\mathcal{C}}^{38} - 26388279066624 \\, \\sqrt{2} {\\mathcal{C}}^{37} + 128917738356736 \\, \\sqrt{2} {\\mathcal{C}}^{36} - 306763744149504 \\, \\sqrt{2} {\\mathcal{C}}^{35} + 254193344446464 \\, \\sqrt{2} {\\mathcal{C}}^{34} + 450250011574272 \\, \\sqrt{2} {\\mathcal{C}}^{33} - 1381686684155904 \\, \\sqrt{2} {\\mathcal{C}}^{32} + 1186080988594176 \\, \\sqrt{2} {\\mathcal{C}}^{31} + 508882757615616 \\, \\sqrt{2} {\\mathcal{C}}^{30} - 2137489259102208 \\, \\sqrt{2} {\\mathcal{C}}^{29} + 2071343809953792 \\, \\sqrt{2} {\\mathcal{C}}^{28} - 337320288976896 \\, \\sqrt{2} {\\mathcal{C}}^{27} - 1569988452286464 \\, \\sqrt{2} {\\mathcal{C}}^{26} + 2042884282908672 \\, \\sqrt{2} {\\mathcal{C}}^{25} - 966430439768064 \\, \\sqrt{2} {\\mathcal{C}}^{24} - 428380319121408 \\, \\sqrt{2} {\\mathcal{C}}^{23} + 1080139249483776 \\, \\sqrt{2} {\\mathcal{C}}^{22} - 803359818252288 \\, \\sqrt{2} {\\mathcal{C}}^{21} + 145178693255168 \\, \\sqrt{2} {\\mathcal{C}}^{20} + 280044688834560 \\, \\sqrt{2} {\\mathcal{C}}^{19} - 321126464761856 \\, \\sqrt{2} {\\mathcal{C}}^{18} + 150504220753920 \\, \\sqrt{2} {\\mathcal{C}}^{17} + 9563730732288 \\, \\sqrt{2} {\\mathcal{C}}^{16} - 63557888762880 \\, \\sqrt{2} {\\mathcal{C}}^{15} + 45734320462080 \\, \\sqrt{2} {\\mathcal{C}}^{14} - 12838885896960 \\, \\sqrt{2} {\\mathcal{C}}^{13} - 4395221965920 \\, \\sqrt{2} {\\mathcal{C}}^{12} + 6212583108288 \\, \\sqrt{2} {\\mathcal{C}}^{11} - 2888510788512 \\, \\sqrt{2} {\\mathcal{C}}^{10} + 337454113968 \\, \\sqrt{2} {\\mathcal{C}}^{9} + 341084016717 \\, \\sqrt{2} {\\mathcal{C}}^{8} - 231157999512 \\, \\sqrt{2} {\\mathcal{C}}^{7} + 55522623288 \\, \\sqrt{2} {\\mathcal{C}}^{6} + 4534412976 \\, \\sqrt{2} {\\mathcal{C}}^{5} - 6817015944 \\, \\sqrt{2} {\\mathcal{C}}^{4} + 1637836128 \\, \\sqrt{2} {\\mathcal{C}}^{3} + 48489440 \\, \\sqrt{2} {\\mathcal{C}}^{2} - 58900416 \\, \\sqrt{2} {\\mathcal{C}} + 65488 \\, \\sqrt{2}\\right)} \\sqrt{4 \\, {\\mathcal{C}}^{4} - 2 \\, {\\mathcal{C}}^{2} - 2} - 1571712 \\, \\sqrt{2} {\\mathcal{C}} - 4908368 \\, \\sqrt{2}\\right)} \\sqrt{256 \\, {\\mathcal{C}}^{10} - 448 \\, {\\mathcal{C}}^{8} + 132 \\, {\\mathcal{C}}^{6} + 83 \\, {\\mathcal{C}}^{4} - 23 \\, {\\mathcal{C}}^{2} - 2 \\, {\\left(64 \\, {\\mathcal{C}}^{8} - 96 \\, {\\mathcal{C}}^{6} + 27 \\, {\\mathcal{C}}^{4} + 5 \\, {\\mathcal{C}}^{2}\\right)} \\sqrt{4 \\, {\\mathcal{C}}^{4} - 2 \\, {\\mathcal{C}}^{2} - 2}} - {\\left(70368744177664 \\, {\\mathcal{C}}^{43} - 844424930131968 \\, {\\mathcal{C}}^{42} + 4063794976260096 \\, {\\mathcal{C}}^{41} - 9077567998918656 \\, {\\mathcal{C}}^{40} + 4515694255276032 \\, {\\mathcal{C}}^{39} + 23102938322829312 \\, {\\mathcal{C}}^{38} - 51843347639173120 \\, {\\mathcal{C}}^{37} + 26530116066607104 \\, {\\mathcal{C}}^{36} + 54171786849288192 \\, {\\mathcal{C}}^{35} - 103923021558841344 \\, {\\mathcal{C}}^{34} + 57962847107284992 \\, {\\mathcal{C}}^{33} + 45134935140335616 \\, {\\mathcal{C}}^{32} - 112654807109468160 \\, {\\mathcal{C}}^{31} + 85268105986572288 \\, {\\mathcal{C}}^{30} + 5893400310054912 \\, {\\mathcal{C}}^{29} - 73375212694929408 \\, {\\mathcal{C}}^{28} + 71225365028143104 \\, {\\mathcal{C}}^{27} - 21994407028850688 \\, {\\mathcal{C}}^{26} - 24700213262286848 \\, {\\mathcal{C}}^{25} + 36517903910043648 \\, {\\mathcal{C}}^{24} - 19900549788008448 \\, {\\mathcal{C}}^{23} - 853909434531840 \\, {\\mathcal{C}}^{22} + 10551332494589952 \\, {\\mathcal{C}}^{21} - 8513784424759296 \\, {\\mathcal{C}}^{20} + 2524478509908992 \\, {\\mathcal{C}}^{19} + 1293918159163392 \\, {\\mathcal{C}}^{18} - 1934922202723584 \\, {\\mathcal{C}}^{17} + 982119085231104 \\, {\\mathcal{C}}^{16} - 99426516421248 \\, {\\mathcal{C}}^{15} - 210544673833728 \\, {\\mathcal{C}}^{14} + 164479596954144 \\, {\\mathcal{C}}^{13} - 50309704769472 \\, {\\mathcal{C}}^{12} - 5161355590572 \\, {\\mathcal{C}}^{11} + 12651824810016 \\, {\\mathcal{C}}^{10} - 5527534803201 \\, {\\mathcal{C}}^{9} + 718537694688 \\, {\\mathcal{C}}^{8} + 383243884744 \\, {\\mathcal{C}}^{7} - 228807106752 \\, {\\mathcal{C}}^{6} + 37842851112 \\, {\\mathcal{C}}^{5} + 4097726592 \\, {\\mathcal{C}}^{4} - 3114256416 \\, {\\mathcal{C}}^{3} + 125659392 \\, {\\mathcal{C}}^{2} + 24410864 \\, {\\mathcal{C}}\\right)} \\sqrt{4 \\, {\\mathcal{C}}^{4} - 2 \\, {\\mathcal{C}}^{2} - 2} + 10471616 \\, {\\mathcal{C}}}{140737488355328 \\, {\\mathcal{C}}^{44} - 1055531162664960 \\, {\\mathcal{C}}^{43} + 3870280929771520 \\, {\\mathcal{C}}^{42} - 8153978231586816 \\, {\\mathcal{C}}^{41} + 4486007441326080 \\, {\\mathcal{C}}^{40} + 21760434625314816 \\, {\\mathcal{C}}^{39} - 50689959941636096 \\, {\\mathcal{C}}^{38} + 27602964537409536 \\, {\\mathcal{C}}^{37} + 46376610185609216 \\, {\\mathcal{C}}^{36} - 98859409735680000 \\, {\\mathcal{C}}^{35} + 73775482172080128 \\, {\\mathcal{C}}^{34} + 23660854574579712 \\, {\\mathcal{C}}^{33} - 112464980292403200 \\, {\\mathcal{C}}^{32} + 107183932528656384 \\, {\\mathcal{C}}^{31} - 23725438534680576 \\, {\\mathcal{C}}^{30} - 63098069188608000 \\, {\\mathcal{C}}^{29} + 91625506360786944 \\, {\\mathcal{C}}^{28} - 49978577302585344 \\, {\\mathcal{C}}^{27} - 10707324780937216 \\, {\\mathcal{C}}^{26} + 42337169384669184 \\, {\\mathcal{C}}^{25} - 37047638779756544 \\, {\\mathcal{C}}^{24} + 11210171981561856 \\, {\\mathcal{C}}^{23} + 9289284965842944 \\, {\\mathcal{C}}^{22} - 13775874286731264 \\, {\\mathcal{C}}^{21} + 8313931079968768 \\, {\\mathcal{C}}^{20} - 1019413395581952 \\, {\\mathcal{C}}^{19} - 2584115410927360 \\, {\\mathcal{C}}^{18} + 2419756151007744 \\, {\\mathcal{C}}^{17} - 1047105946950336 \\, {\\mathcal{C}}^{16} - 30973157752896 \\, {\\mathcal{C}}^{15} + 343207223401872 \\, {\\mathcal{C}}^{14} - 224873230159008 \\, {\\mathcal{C}}^{13} + 68096080064292 \\, {\\mathcal{C}}^{12} + 12599884573200 \\, {\\mathcal{C}}^{11} - 21405423757518 \\, {\\mathcal{C}}^{10} + 9692730343656 \\, {\\mathcal{C}}^{9} - 1673056429858 \\, {\\mathcal{C}}^{8} - 755605339440 \\, {\\mathcal{C}}^{7} + 504323062996 \\, {\\mathcal{C}}^{6} - 131189430024 \\, {\\mathcal{C}}^{5} - 3992789544 \\, {\\mathcal{C}}^{4} + 10227396096 \\, {\\mathcal{C}}^{3} - 2129530736 \\, {\\mathcal{C}}^{2} + 9 \\, {\\left(2199023255552 \\, \\sqrt{2} {\\mathcal{C}}^{38} - 14843406974976 \\, \\sqrt{2} {\\mathcal{C}}^{37} + 37383395344384 \\, \\sqrt{2} {\\mathcal{C}}^{36} - 32160715112448 \\, \\sqrt{2} {\\mathcal{C}}^{35} - 45664092291072 \\, \\sqrt{2} {\\mathcal{C}}^{34} + 158097746165760 \\, \\sqrt{2} {\\mathcal{C}}^{33} - 162298224181248 \\, \\sqrt{2} {\\mathcal{C}}^{32} - 22728966930432 \\, \\sqrt{2} {\\mathcal{C}}^{31} + 242596932747264 \\, \\sqrt{2} {\\mathcal{C}}^{30} - 286919384629248 \\, \\sqrt{2} {\\mathcal{C}}^{29} + 119517128687616 \\, \\sqrt{2} {\\mathcal{C}}^{28} + 144877836828672 \\, \\sqrt{2} {\\mathcal{C}}^{27} - 286896659890176 \\, \\sqrt{2} {\\mathcal{C}}^{26} + 200185152012288 \\, \\sqrt{2} {\\mathcal{C}}^{25} - 12259342417920 \\, \\sqrt{2} {\\mathcal{C}}^{24} - 131395366158336 \\, \\sqrt{2} {\\mathcal{C}}^{23} + 152166306545664 \\, \\sqrt{2} {\\mathcal{C}}^{22} - 69895053803520 \\, \\sqrt{2} {\\mathcal{C}}^{21} - 15260863037440 \\, \\sqrt{2} {\\mathcal{C}}^{20} + 52373960736768 \\, \\sqrt{2} {\\mathcal{C}}^{19} - 42871929522176 \\, \\sqrt{2} {\\mathcal{C}}^{18} + 13351140481536 \\, \\sqrt{2} {\\mathcal{C}}^{17} + 6190184911872 \\, \\sqrt{2} {\\mathcal{C}}^{16} - 10678375378944 \\, \\sqrt{2} {\\mathcal{C}}^{15} + 6577872632448 \\, \\sqrt{2} {\\mathcal{C}}^{14} - 1383573906432 \\, \\sqrt{2} {\\mathcal{C}}^{13} - 951100634304 \\, \\sqrt{2} {\\mathcal{C}}^{12} + 1102033764432 \\, \\sqrt{2} {\\mathcal{C}}^{11} - 507732397728 \\, \\sqrt{2} {\\mathcal{C}}^{10} + 66069268398 \\, \\sqrt{2} {\\mathcal{C}}^{9} + 65137398192 \\, \\sqrt{2} {\\mathcal{C}}^{8} - 49700478177 \\, \\sqrt{2} {\\mathcal{C}}^{7} + 15697371552 \\, \\sqrt{2} {\\mathcal{C}}^{6} - 401124114 \\, \\sqrt{2} {\\mathcal{C}}^{5} - 1651842096 \\, \\sqrt{2} {\\mathcal{C}}^{4} + 639316548 \\, \\sqrt{2} {\\mathcal{C}}^{3} - 85996288 \\, \\sqrt{2} {\\mathcal{C}}^{2} - 2 \\, {\\left(549755813888 \\, \\sqrt{2} {\\mathcal{C}}^{36} - 3710851743744 \\, \\sqrt{2} {\\mathcal{C}}^{35} + 9483287789568 \\, \\sqrt{2} {\\mathcal{C}}^{34} - 8967891714048 \\, \\sqrt{2} {\\mathcal{C}}^{33} - 8890582302720 \\, \\sqrt{2} {\\mathcal{C}}^{32} + 36238786560000 \\, \\sqrt{2} {\\mathcal{C}}^{31} - 40091372224512 \\, \\sqrt{2} {\\mathcal{C}}^{30} + 594316099584 \\, \\sqrt{2} {\\mathcal{C}}^{29} + 48824114479104 \\, \\sqrt{2} {\\mathcal{C}}^{28} - 62231660199936 \\, \\sqrt{2} {\\mathcal{C}}^{27} + 30744986517504 \\, \\sqrt{2} {\\mathcal{C}}^{26} + 22738026627072 \\, \\sqrt{2} {\\mathcal{C}}^{25} - 53295118811136 \\, \\sqrt{2} {\\mathcal{C}}^{24} + 39934392532992 \\, \\sqrt{2} {\\mathcal{C}}^{23} - 6634058809344 \\, \\sqrt{2} {\\mathcal{C}}^{22} - 19895842897920 \\, \\sqrt{2} {\\mathcal{C}}^{21} + 24941159350272 \\, \\sqrt{2} {\\mathcal{C}}^{20} - 12416638722048 \\, \\sqrt{2} {\\mathcal{C}}^{19} - 873264848896 \\, \\sqrt{2} {\\mathcal{C}}^{18} + 6933880571904 \\, \\sqrt{2} {\\mathcal{C}}^{17} - 5892808373760 \\, \\sqrt{2} {\\mathcal{C}}^{16} + 2003784444288 \\, \\sqrt{2} {\\mathcal{C}}^{15} + 537746654592 \\, \\sqrt{2} {\\mathcal{C}}^{14} - 1153742751648 \\, \\sqrt{2} {\\mathcal{C}}^{13} + 704459528160 \\, \\sqrt{2} {\\mathcal{C}}^{12} - 158320707624 \\, \\sqrt{2} {\\mathcal{C}}^{11} - 74786705112 \\, \\sqrt{2} {\\mathcal{C}}^{10} + 88367576274 \\, \\sqrt{2} {\\mathcal{C}}^{9} - 37496571408 \\, \\sqrt{2} {\\mathcal{C}}^{8} + 4376318787 \\, \\sqrt{2} {\\mathcal{C}}^{7} + 3934490382 \\, \\sqrt{2} {\\mathcal{C}}^{6} - 2449898730 \\, \\sqrt{2} {\\mathcal{C}}^{5} + 607485894 \\, \\sqrt{2} {\\mathcal{C}}^{4} + 36171828 \\, \\sqrt{2} {\\mathcal{C}}^{3} - 47698056 \\, \\sqrt{2} {\\mathcal{C}}^{2} + 11191176 \\, \\sqrt{2} {\\mathcal{C}} + 796232 \\, \\sqrt{2}\\right)} \\sqrt{4 \\, {\\mathcal{C}}^{4} - 2 \\, {\\mathcal{C}}^{2} - 2} - 21498264 \\, \\sqrt{2} {\\mathcal{C}} + 3315904 \\, \\sqrt{2}\\right)} \\sqrt{256 \\, {\\mathcal{C}}^{10} - 448 \\, {\\mathcal{C}}^{8} + 132 \\, {\\mathcal{C}}^{6} + 83 \\, {\\mathcal{C}}^{4} - 23 \\, {\\mathcal{C}}^{2} - 2 \\, {\\left(64 \\, {\\mathcal{C}}^{8} - 96 \\, {\\mathcal{C}}^{6} + 27 \\, {\\mathcal{C}}^{4} + 5 \\, {\\mathcal{C}}^{2}\\right)} \\sqrt{4 \\, {\\mathcal{C}}^{4} - 2 \\, {\\mathcal{C}}^{2} - 2}} - {\\left(70368744177664 \\, {\\mathcal{C}}^{42} - 527765581332480 \\, {\\mathcal{C}}^{41} + 1952732650930176 \\, {\\mathcal{C}}^{40} - 4208930511126528 \\, {\\mathcal{C}}^{39} + 2750978092695552 \\, {\\mathcal{C}}^{38} + 9679550615126016 \\, {\\mathcal{C}}^{37} - 24103081587245056 \\, {\\mathcal{C}}^{36} + 15000499698794496 \\, {\\mathcal{C}}^{35} + 18077568888471552 \\, {\\mathcal{C}}^{34} - 43283297429618688 \\, {\\mathcal{C}}^{33} + 34935523831185408 \\, {\\mathcal{C}}^{32} + 5650660838080512 \\, {\\mathcal{C}}^{31} - 43883471327723520 \\, {\\mathcal{C}}^{30} + 44281284620451840 \\, {\\mathcal{C}}^{29} - 12965921345765376 \\, {\\mathcal{C}}^{28} - 20870809862012928 \\, {\\mathcal{C}}^{27} + 33012665957744640 \\, {\\mathcal{C}}^{26} - 19150061703266304 \\, {\\mathcal{C}}^{25} - 1783656399503360 \\, {\\mathcal{C}}^{24} + 12998604644155392 \\, {\\mathcal{C}}^{23} - 11841735529070592 \\, {\\mathcal{C}}^{22} + 3955732496941056 \\, {\\mathcal{C}}^{21} + 2239910442049536 \\, {\\mathcal{C}}^{20} - 3672700679479296 \\, {\\mathcal{C}}^{19} + 2252713924551680 \\, {\\mathcal{C}}^{18} - 344471270487552 \\, {\\mathcal{C}}^{17} - 556971590429568 \\, {\\mathcal{C}}^{16} + 527118605153280 \\, {\\mathcal{C}}^{15} - 224282275125984 \\, {\\mathcal{C}}^{14} - 1615861136160 \\, {\\mathcal{C}}^{13} + 59294086410984 \\, {\\mathcal{C}}^{12} - 36683550128448 \\, {\\mathcal{C}}^{11} + 10045683965034 \\, {\\mathcal{C}}^{10} + 1964705676264 \\, {\\mathcal{C}}^{9} - 2600692840917 \\, {\\mathcal{C}}^{8} + 1000767082464 \\, {\\mathcal{C}}^{7} - 102571850606 \\, {\\mathcal{C}}^{6} - 76444884552 \\, {\\mathcal{C}}^{5} + 32522437452 \\, {\\mathcal{C}}^{4} - 4394455104 \\, {\\mathcal{C}}^{3} - 1054004328 \\, {\\mathcal{C}}^{2} + 296466720 \\, {\\mathcal{C}} + 9292832\\right)} \\sqrt{4 \\, {\\mathcal{C}}^{4} - 2 \\, {\\mathcal{C}}^{2} - 2} - 139392480 \\, {\\mathcal{C}} + 39528896} \\\\\n",
       "-\\frac{140737488355328 \\, {\\mathcal{C}}^{45} - 1688849860263936 \\, {\\mathcal{C}}^{44} + 8092405580431360 \\, {\\mathcal{C}}^{43} - 17732923532771328 \\, {\\mathcal{C}}^{42} + 6959908603822080 \\, {\\mathcal{C}}^{41} + 51219649668317184 \\, {\\mathcal{C}}^{40} - 108240322684780544 \\, {\\mathcal{C}}^{39} + 46733642226991104 \\, {\\mathcal{C}}^{38} + 131145658152255488 \\, {\\mathcal{C}}^{37} - 232733488812392448 \\, {\\mathcal{C}}^{36} + 116897550824374272 \\, {\\mathcal{C}}^{35} + 125154041335382016 \\, {\\mathcal{C}}^{34} - 278268764296839168 \\, {\\mathcal{C}}^{33} + 200718965796765696 \\, {\\mathcal{C}}^{32} + 33285367331291136 \\, {\\mathcal{C}}^{31} - 204238090200416256 \\, {\\mathcal{C}}^{30} + 191650947976396800 \\, {\\mathcal{C}}^{29} - 52396884165132288 \\, {\\mathcal{C}}^{28} - 80315315686211584 \\, {\\mathcal{C}}^{27} + 113188151551328256 \\, {\\mathcal{C}}^{26} - 60505123343433728 \\, {\\mathcal{C}}^{25} - 6053990298550272 \\, {\\mathcal{C}}^{24} + 38102323746570240 \\, {\\mathcal{C}}^{23} - 30977558872326144 \\, {\\mathcal{C}}^{22} + 9062231188350976 \\, {\\mathcal{C}}^{21} + 5652442547920896 \\, {\\mathcal{C}}^{20} - 8409180245330944 \\, {\\mathcal{C}}^{19} + 4486705931022336 \\, {\\mathcal{C}}^{18} - 467437639299840 \\, {\\mathcal{C}}^{17} - 1104005318962176 \\, {\\mathcal{C}}^{16} + 938689104440064 \\, {\\mathcal{C}}^{15} - 325346056644096 \\, {\\mathcal{C}}^{14} - 24999097859544 \\, {\\mathcal{C}}^{13} + 91237931807904 \\, {\\mathcal{C}}^{12} - 48596732276148 \\, {\\mathcal{C}}^{11} + 9240394832496 \\, {\\mathcal{C}}^{10} + 3156819835436 \\, {\\mathcal{C}}^{9} - 2940896377392 \\, {\\mathcal{C}}^{8} + 832365596224 \\, {\\mathcal{C}}^{7} - 18162985248 \\, {\\mathcal{C}}^{6} - 68828540640 \\, {\\mathcal{C}}^{5} + 19378314432 \\, {\\mathcal{C}}^{4} - 637618880 \\, {\\mathcal{C}}^{3} - 585860736 \\, {\\mathcal{C}}^{2} - {\\left(4398046511104 \\, \\sqrt{2} {\\mathcal{C}}^{40} - 52776558133248 \\, \\sqrt{2} {\\mathcal{C}}^{39} + 256735965085696 \\, \\sqrt{2} {\\mathcal{C}}^{38} - 600333348765696 \\, \\sqrt{2} {\\mathcal{C}}^{37} + 442690869133312 \\, \\sqrt{2} {\\mathcal{C}}^{36} + 1068725302198272 \\, \\sqrt{2} {\\mathcal{C}}^{35} - 2963295506006016 \\, \\sqrt{2} {\\mathcal{C}}^{34} + 2323302429229056 \\, \\sqrt{2} {\\mathcal{C}}^{33} + 1547244788514816 \\, \\sqrt{2} {\\mathcal{C}}^{32} - 5075130925449216 \\, \\sqrt{2} {\\mathcal{C}}^{31} + 4614819416113152 \\, \\sqrt{2} {\\mathcal{C}}^{30} - 299535314190336 \\, \\sqrt{2} {\\mathcal{C}}^{29} - 4305539492216832 \\, \\sqrt{2} {\\mathcal{C}}^{28} + 5260852290650112 \\, \\sqrt{2} {\\mathcal{C}}^{27} - 2251070103355392 \\, \\sqrt{2} {\\mathcal{C}}^{26} - 1536390844121088 \\, \\sqrt{2} {\\mathcal{C}}^{25} + 3252222932287488 \\, \\sqrt{2} {\\mathcal{C}}^{24} - 2341770007412736 \\, \\sqrt{2} {\\mathcal{C}}^{23} + 303391365038080 \\, \\sqrt{2} {\\mathcal{C}}^{22} + 1028067594731520 \\, \\sqrt{2} {\\mathcal{C}}^{21} - 1131598665261056 \\, \\sqrt{2} {\\mathcal{C}}^{20} + 524033376780288 \\, \\sqrt{2} {\\mathcal{C}}^{19} + 66863294551552 \\, \\sqrt{2} {\\mathcal{C}}^{18} - 276192856553472 \\, \\sqrt{2} {\\mathcal{C}}^{17} + 202335644500224 \\, \\sqrt{2} {\\mathcal{C}}^{16} - 58803243803136 \\, \\sqrt{2} {\\mathcal{C}}^{15} - 24189060104256 \\, \\sqrt{2} {\\mathcal{C}}^{14} + 35230169549952 \\, \\sqrt{2} {\\mathcal{C}}^{13} - 18027513865632 \\, \\sqrt{2} {\\mathcal{C}}^{12} + 2688162476832 \\, \\sqrt{2} {\\mathcal{C}}^{11} + 2456886048438 \\, \\sqrt{2} {\\mathcal{C}}^{10} - 2002605072624 \\, \\sqrt{2} {\\mathcal{C}}^{9} + 654108417003 \\, \\sqrt{2} {\\mathcal{C}}^{8} + 618134256 \\, \\sqrt{2} {\\mathcal{C}}^{7} - 86054462952 \\, \\sqrt{2} {\\mathcal{C}}^{6} + 37073596320 \\, \\sqrt{2} {\\mathcal{C}}^{5} - 4024654712 \\, \\sqrt{2} {\\mathcal{C}}^{4} - 1312273344 \\, \\sqrt{2} {\\mathcal{C}}^{3} + 595418752 \\, \\sqrt{2} {\\mathcal{C}}^{2} - {\\left(2199023255552 \\, \\sqrt{2} {\\mathcal{C}}^{38} - 26388279066624 \\, \\sqrt{2} {\\mathcal{C}}^{37} + 128917738356736 \\, \\sqrt{2} {\\mathcal{C}}^{36} - 306763744149504 \\, \\sqrt{2} {\\mathcal{C}}^{35} + 254193344446464 \\, \\sqrt{2} {\\mathcal{C}}^{34} + 450250011574272 \\, \\sqrt{2} {\\mathcal{C}}^{33} - 1381686684155904 \\, \\sqrt{2} {\\mathcal{C}}^{32} + 1186080988594176 \\, \\sqrt{2} {\\mathcal{C}}^{31} + 508882757615616 \\, \\sqrt{2} {\\mathcal{C}}^{30} - 2137489259102208 \\, \\sqrt{2} {\\mathcal{C}}^{29} + 2071343809953792 \\, \\sqrt{2} {\\mathcal{C}}^{28} - 337320288976896 \\, \\sqrt{2} {\\mathcal{C}}^{27} - 1569988452286464 \\, \\sqrt{2} {\\mathcal{C}}^{26} + 2042884282908672 \\, \\sqrt{2} {\\mathcal{C}}^{25} - 966430439768064 \\, \\sqrt{2} {\\mathcal{C}}^{24} - 428380319121408 \\, \\sqrt{2} {\\mathcal{C}}^{23} + 1080139249483776 \\, \\sqrt{2} {\\mathcal{C}}^{22} - 803359818252288 \\, \\sqrt{2} {\\mathcal{C}}^{21} + 145178693255168 \\, \\sqrt{2} {\\mathcal{C}}^{20} + 280044688834560 \\, \\sqrt{2} {\\mathcal{C}}^{19} - 321126464761856 \\, \\sqrt{2} {\\mathcal{C}}^{18} + 150504220753920 \\, \\sqrt{2} {\\mathcal{C}}^{17} + 9563730732288 \\, \\sqrt{2} {\\mathcal{C}}^{16} - 63557888762880 \\, \\sqrt{2} {\\mathcal{C}}^{15} + 45734320462080 \\, \\sqrt{2} {\\mathcal{C}}^{14} - 12838885896960 \\, \\sqrt{2} {\\mathcal{C}}^{13} - 4395221965920 \\, \\sqrt{2} {\\mathcal{C}}^{12} + 6212583108288 \\, \\sqrt{2} {\\mathcal{C}}^{11} - 2888510788512 \\, \\sqrt{2} {\\mathcal{C}}^{10} + 337454113968 \\, \\sqrt{2} {\\mathcal{C}}^{9} + 341084016717 \\, \\sqrt{2} {\\mathcal{C}}^{8} - 231157999512 \\, \\sqrt{2} {\\mathcal{C}}^{7} + 55522623288 \\, \\sqrt{2} {\\mathcal{C}}^{6} + 4534412976 \\, \\sqrt{2} {\\mathcal{C}}^{5} - 6817015944 \\, \\sqrt{2} {\\mathcal{C}}^{4} + 1637836128 \\, \\sqrt{2} {\\mathcal{C}}^{3} + 48489440 \\, \\sqrt{2} {\\mathcal{C}}^{2} - 58900416 \\, \\sqrt{2} {\\mathcal{C}} + 65488 \\, \\sqrt{2}\\right)} \\sqrt{4 \\, {\\mathcal{C}}^{4} - 2 \\, {\\mathcal{C}}^{2} - 2} - 1571712 \\, \\sqrt{2} {\\mathcal{C}} - 4908368 \\, \\sqrt{2}\\right)} \\sqrt{256 \\, {\\mathcal{C}}^{10} - 448 \\, {\\mathcal{C}}^{8} + 132 \\, {\\mathcal{C}}^{6} + 83 \\, {\\mathcal{C}}^{4} - 23 \\, {\\mathcal{C}}^{2} - 2 \\, {\\left(64 \\, {\\mathcal{C}}^{8} - 96 \\, {\\mathcal{C}}^{6} + 27 \\, {\\mathcal{C}}^{4} + 5 \\, {\\mathcal{C}}^{2}\\right)} \\sqrt{4 \\, {\\mathcal{C}}^{4} - 2 \\, {\\mathcal{C}}^{2} - 2}} - {\\left(70368744177664 \\, {\\mathcal{C}}^{43} - 844424930131968 \\, {\\mathcal{C}}^{42} + 4063794976260096 \\, {\\mathcal{C}}^{41} - 9077567998918656 \\, {\\mathcal{C}}^{40} + 4515694255276032 \\, {\\mathcal{C}}^{39} + 23102938322829312 \\, {\\mathcal{C}}^{38} - 51843347639173120 \\, {\\mathcal{C}}^{37} + 26530116066607104 \\, {\\mathcal{C}}^{36} + 54171786849288192 \\, {\\mathcal{C}}^{35} - 103923021558841344 \\, {\\mathcal{C}}^{34} + 57962847107284992 \\, {\\mathcal{C}}^{33} + 45134935140335616 \\, {\\mathcal{C}}^{32} - 112654807109468160 \\, {\\mathcal{C}}^{31} + 85268105986572288 \\, {\\mathcal{C}}^{30} + 5893400310054912 \\, {\\mathcal{C}}^{29} - 73375212694929408 \\, {\\mathcal{C}}^{28} + 71225365028143104 \\, {\\mathcal{C}}^{27} - 21994407028850688 \\, {\\mathcal{C}}^{26} - 24700213262286848 \\, {\\mathcal{C}}^{25} + 36517903910043648 \\, {\\mathcal{C}}^{24} - 19900549788008448 \\, {\\mathcal{C}}^{23} - 853909434531840 \\, {\\mathcal{C}}^{22} + 10551332494589952 \\, {\\mathcal{C}}^{21} - 8513784424759296 \\, {\\mathcal{C}}^{20} + 2524478509908992 \\, {\\mathcal{C}}^{19} + 1293918159163392 \\, {\\mathcal{C}}^{18} - 1934922202723584 \\, {\\mathcal{C}}^{17} + 982119085231104 \\, {\\mathcal{C}}^{16} - 99426516421248 \\, {\\mathcal{C}}^{15} - 210544673833728 \\, {\\mathcal{C}}^{14} + 164479596954144 \\, {\\mathcal{C}}^{13} - 50309704769472 \\, {\\mathcal{C}}^{12} - 5161355590572 \\, {\\mathcal{C}}^{11} + 12651824810016 \\, {\\mathcal{C}}^{10} - 5527534803201 \\, {\\mathcal{C}}^{9} + 718537694688 \\, {\\mathcal{C}}^{8} + 383243884744 \\, {\\mathcal{C}}^{7} - 228807106752 \\, {\\mathcal{C}}^{6} + 37842851112 \\, {\\mathcal{C}}^{5} + 4097726592 \\, {\\mathcal{C}}^{4} - 3114256416 \\, {\\mathcal{C}}^{3} + 125659392 \\, {\\mathcal{C}}^{2} + 24410864 \\, {\\mathcal{C}}\\right)} \\sqrt{4 \\, {\\mathcal{C}}^{4} - 2 \\, {\\mathcal{C}}^{2} - 2} + 10471616 \\, {\\mathcal{C}}}{140737488355328 \\, {\\mathcal{C}}^{44} - 1055531162664960 \\, {\\mathcal{C}}^{43} + 3870280929771520 \\, {\\mathcal{C}}^{42} - 8153978231586816 \\, {\\mathcal{C}}^{41} + 4486007441326080 \\, {\\mathcal{C}}^{40} + 21760434625314816 \\, {\\mathcal{C}}^{39} - 50689959941636096 \\, {\\mathcal{C}}^{38} + 27602964537409536 \\, {\\mathcal{C}}^{37} + 46376610185609216 \\, {\\mathcal{C}}^{36} - 98859409735680000 \\, {\\mathcal{C}}^{35} + 73775482172080128 \\, {\\mathcal{C}}^{34} + 23660854574579712 \\, {\\mathcal{C}}^{33} - 112464980292403200 \\, {\\mathcal{C}}^{32} + 107183932528656384 \\, {\\mathcal{C}}^{31} - 23725438534680576 \\, {\\mathcal{C}}^{30} - 63098069188608000 \\, {\\mathcal{C}}^{29} + 91625506360786944 \\, {\\mathcal{C}}^{28} - 49978577302585344 \\, {\\mathcal{C}}^{27} - 10707324780937216 \\, {\\mathcal{C}}^{26} + 42337169384669184 \\, {\\mathcal{C}}^{25} - 37047638779756544 \\, {\\mathcal{C}}^{24} + 11210171981561856 \\, {\\mathcal{C}}^{23} + 9289284965842944 \\, {\\mathcal{C}}^{22} - 13775874286731264 \\, {\\mathcal{C}}^{21} + 8313931079968768 \\, {\\mathcal{C}}^{20} - 1019413395581952 \\, {\\mathcal{C}}^{19} - 2584115410927360 \\, {\\mathcal{C}}^{18} + 2419756151007744 \\, {\\mathcal{C}}^{17} - 1047105946950336 \\, {\\mathcal{C}}^{16} - 30973157752896 \\, {\\mathcal{C}}^{15} + 343207223401872 \\, {\\mathcal{C}}^{14} - 224873230159008 \\, {\\mathcal{C}}^{13} + 68096080064292 \\, {\\mathcal{C}}^{12} + 12599884573200 \\, {\\mathcal{C}}^{11} - 21405423757518 \\, {\\mathcal{C}}^{10} + 9692730343656 \\, {\\mathcal{C}}^{9} - 1673056429858 \\, {\\mathcal{C}}^{8} - 755605339440 \\, {\\mathcal{C}}^{7} + 504323062996 \\, {\\mathcal{C}}^{6} - 131189430024 \\, {\\mathcal{C}}^{5} - 3992789544 \\, {\\mathcal{C}}^{4} + 10227396096 \\, {\\mathcal{C}}^{3} - 2129530736 \\, {\\mathcal{C}}^{2} + 9 \\, {\\left(2199023255552 \\, \\sqrt{2} {\\mathcal{C}}^{38} - 14843406974976 \\, \\sqrt{2} {\\mathcal{C}}^{37} + 37383395344384 \\, \\sqrt{2} {\\mathcal{C}}^{36} - 32160715112448 \\, \\sqrt{2} {\\mathcal{C}}^{35} - 45664092291072 \\, \\sqrt{2} {\\mathcal{C}}^{34} + 158097746165760 \\, \\sqrt{2} {\\mathcal{C}}^{33} - 162298224181248 \\, \\sqrt{2} {\\mathcal{C}}^{32} - 22728966930432 \\, \\sqrt{2} {\\mathcal{C}}^{31} + 242596932747264 \\, \\sqrt{2} {\\mathcal{C}}^{30} - 286919384629248 \\, \\sqrt{2} {\\mathcal{C}}^{29} + 119517128687616 \\, \\sqrt{2} {\\mathcal{C}}^{28} + 144877836828672 \\, \\sqrt{2} {\\mathcal{C}}^{27} - 286896659890176 \\, \\sqrt{2} {\\mathcal{C}}^{26} + 200185152012288 \\, \\sqrt{2} {\\mathcal{C}}^{25} - 12259342417920 \\, \\sqrt{2} {\\mathcal{C}}^{24} - 131395366158336 \\, \\sqrt{2} {\\mathcal{C}}^{23} + 152166306545664 \\, \\sqrt{2} {\\mathcal{C}}^{22} - 69895053803520 \\, \\sqrt{2} {\\mathcal{C}}^{21} - 15260863037440 \\, \\sqrt{2} {\\mathcal{C}}^{20} + 52373960736768 \\, \\sqrt{2} {\\mathcal{C}}^{19} - 42871929522176 \\, \\sqrt{2} {\\mathcal{C}}^{18} + 13351140481536 \\, \\sqrt{2} {\\mathcal{C}}^{17} + 6190184911872 \\, \\sqrt{2} {\\mathcal{C}}^{16} - 10678375378944 \\, \\sqrt{2} {\\mathcal{C}}^{15} + 6577872632448 \\, \\sqrt{2} {\\mathcal{C}}^{14} - 1383573906432 \\, \\sqrt{2} {\\mathcal{C}}^{13} - 951100634304 \\, \\sqrt{2} {\\mathcal{C}}^{12} + 1102033764432 \\, \\sqrt{2} {\\mathcal{C}}^{11} - 507732397728 \\, \\sqrt{2} {\\mathcal{C}}^{10} + 66069268398 \\, \\sqrt{2} {\\mathcal{C}}^{9} + 65137398192 \\, \\sqrt{2} {\\mathcal{C}}^{8} - 49700478177 \\, \\sqrt{2} {\\mathcal{C}}^{7} + 15697371552 \\, \\sqrt{2} {\\mathcal{C}}^{6} - 401124114 \\, \\sqrt{2} {\\mathcal{C}}^{5} - 1651842096 \\, \\sqrt{2} {\\mathcal{C}}^{4} + 639316548 \\, \\sqrt{2} {\\mathcal{C}}^{3} - 85996288 \\, \\sqrt{2} {\\mathcal{C}}^{2} - 2 \\, {\\left(549755813888 \\, \\sqrt{2} {\\mathcal{C}}^{36} - 3710851743744 \\, \\sqrt{2} {\\mathcal{C}}^{35} + 9483287789568 \\, \\sqrt{2} {\\mathcal{C}}^{34} - 8967891714048 \\, \\sqrt{2} {\\mathcal{C}}^{33} - 8890582302720 \\, \\sqrt{2} {\\mathcal{C}}^{32} + 36238786560000 \\, \\sqrt{2} {\\mathcal{C}}^{31} - 40091372224512 \\, \\sqrt{2} {\\mathcal{C}}^{30} + 594316099584 \\, \\sqrt{2} {\\mathcal{C}}^{29} + 48824114479104 \\, \\sqrt{2} {\\mathcal{C}}^{28} - 62231660199936 \\, \\sqrt{2} {\\mathcal{C}}^{27} + 30744986517504 \\, \\sqrt{2} {\\mathcal{C}}^{26} + 22738026627072 \\, \\sqrt{2} {\\mathcal{C}}^{25} - 53295118811136 \\, \\sqrt{2} {\\mathcal{C}}^{24} + 39934392532992 \\, \\sqrt{2} {\\mathcal{C}}^{23} - 6634058809344 \\, \\sqrt{2} {\\mathcal{C}}^{22} - 19895842897920 \\, \\sqrt{2} {\\mathcal{C}}^{21} + 24941159350272 \\, \\sqrt{2} {\\mathcal{C}}^{20} - 12416638722048 \\, \\sqrt{2} {\\mathcal{C}}^{19} - 873264848896 \\, \\sqrt{2} {\\mathcal{C}}^{18} + 6933880571904 \\, \\sqrt{2} {\\mathcal{C}}^{17} - 5892808373760 \\, \\sqrt{2} {\\mathcal{C}}^{16} + 2003784444288 \\, \\sqrt{2} {\\mathcal{C}}^{15} + 537746654592 \\, \\sqrt{2} {\\mathcal{C}}^{14} - 1153742751648 \\, \\sqrt{2} {\\mathcal{C}}^{13} + 704459528160 \\, \\sqrt{2} {\\mathcal{C}}^{12} - 158320707624 \\, \\sqrt{2} {\\mathcal{C}}^{11} - 74786705112 \\, \\sqrt{2} {\\mathcal{C}}^{10} + 88367576274 \\, \\sqrt{2} {\\mathcal{C}}^{9} - 37496571408 \\, \\sqrt{2} {\\mathcal{C}}^{8} + 4376318787 \\, \\sqrt{2} {\\mathcal{C}}^{7} + 3934490382 \\, \\sqrt{2} {\\mathcal{C}}^{6} - 2449898730 \\, \\sqrt{2} {\\mathcal{C}}^{5} + 607485894 \\, \\sqrt{2} {\\mathcal{C}}^{4} + 36171828 \\, \\sqrt{2} {\\mathcal{C}}^{3} - 47698056 \\, \\sqrt{2} {\\mathcal{C}}^{2} + 11191176 \\, \\sqrt{2} {\\mathcal{C}} + 796232 \\, \\sqrt{2}\\right)} \\sqrt{4 \\, {\\mathcal{C}}^{4} - 2 \\, {\\mathcal{C}}^{2} - 2} - 21498264 \\, \\sqrt{2} {\\mathcal{C}} + 3315904 \\, \\sqrt{2}\\right)} \\sqrt{256 \\, {\\mathcal{C}}^{10} - 448 \\, {\\mathcal{C}}^{8} + 132 \\, {\\mathcal{C}}^{6} + 83 \\, {\\mathcal{C}}^{4} - 23 \\, {\\mathcal{C}}^{2} - 2 \\, {\\left(64 \\, {\\mathcal{C}}^{8} - 96 \\, {\\mathcal{C}}^{6} + 27 \\, {\\mathcal{C}}^{4} + 5 \\, {\\mathcal{C}}^{2}\\right)} \\sqrt{4 \\, {\\mathcal{C}}^{4} - 2 \\, {\\mathcal{C}}^{2} - 2}} - {\\left(70368744177664 \\, {\\mathcal{C}}^{42} - 527765581332480 \\, {\\mathcal{C}}^{41} + 1952732650930176 \\, {\\mathcal{C}}^{40} - 4208930511126528 \\, {\\mathcal{C}}^{39} + 2750978092695552 \\, {\\mathcal{C}}^{38} + 9679550615126016 \\, {\\mathcal{C}}^{37} - 24103081587245056 \\, {\\mathcal{C}}^{36} + 15000499698794496 \\, {\\mathcal{C}}^{35} + 18077568888471552 \\, {\\mathcal{C}}^{34} - 43283297429618688 \\, {\\mathcal{C}}^{33} + 34935523831185408 \\, {\\mathcal{C}}^{32} + 5650660838080512 \\, {\\mathcal{C}}^{31} - 43883471327723520 \\, {\\mathcal{C}}^{30} + 44281284620451840 \\, {\\mathcal{C}}^{29} - 12965921345765376 \\, {\\mathcal{C}}^{28} - 20870809862012928 \\, {\\mathcal{C}}^{27} + 33012665957744640 \\, {\\mathcal{C}}^{26} - 19150061703266304 \\, {\\mathcal{C}}^{25} - 1783656399503360 \\, {\\mathcal{C}}^{24} + 12998604644155392 \\, {\\mathcal{C}}^{23} - 11841735529070592 \\, {\\mathcal{C}}^{22} + 3955732496941056 \\, {\\mathcal{C}}^{21} + 2239910442049536 \\, {\\mathcal{C}}^{20} - 3672700679479296 \\, {\\mathcal{C}}^{19} + 2252713924551680 \\, {\\mathcal{C}}^{18} - 344471270487552 \\, {\\mathcal{C}}^{17} - 556971590429568 \\, {\\mathcal{C}}^{16} + 527118605153280 \\, {\\mathcal{C}}^{15} - 224282275125984 \\, {\\mathcal{C}}^{14} - 1615861136160 \\, {\\mathcal{C}}^{13} + 59294086410984 \\, {\\mathcal{C}}^{12} - 36683550128448 \\, {\\mathcal{C}}^{11} + 10045683965034 \\, {\\mathcal{C}}^{10} + 1964705676264 \\, {\\mathcal{C}}^{9} - 2600692840917 \\, {\\mathcal{C}}^{8} + 1000767082464 \\, {\\mathcal{C}}^{7} - 102571850606 \\, {\\mathcal{C}}^{6} - 76444884552 \\, {\\mathcal{C}}^{5} + 32522437452 \\, {\\mathcal{C}}^{4} - 4394455104 \\, {\\mathcal{C}}^{3} - 1054004328 \\, {\\mathcal{C}}^{2} + 296466720 \\, {\\mathcal{C}} + 9292832\\right)} \\sqrt{4 \\, {\\mathcal{C}}^{4} - 2 \\, {\\mathcal{C}}^{2} - 2} - 139392480 \\, {\\mathcal{C}} + 39528896}\n",
       "\\end{array}\\right)$"
      ],
      "text/plain": [
       "[-(140737488355328*C^45 - 1688849860263936*C^44 + 8092405580431360*C^43 - 17732923532771328*C^42 + 6959908603822080*C^41 + 51219649668317184*C^40 - 108240322684780544*C^39 + 46733642226991104*C^38 + 131145658152255488*C^37 - 232733488812392448*C^36 + 116897550824374272*C^35 + 125154041335382016*C^34 - 278268764296839168*C^33 + 200718965796765696*C^32 + 33285367331291136*C^31 - 204238090200416256*C^30 + 191650947976396800*C^29 - 52396884165132288*C^28 - 80315315686211584*C^27 + 113188151551328256*C^26 - 60505123343433728*C^25 - 6053990298550272*C^24 + 38102323746570240*C^23 - 30977558872326144*C^22 + 9062231188350976*C^21 + 5652442547920896*C^20 - 8409180245330944*C^19 + 4486705931022336*C^18 - 467437639299840*C^17 - 1104005318962176*C^16 + 938689104440064*C^15 - 325346056644096*C^14 - 24999097859544*C^13 + 91237931807904*C^12 - 48596732276148*C^11 + 9240394832496*C^10 + 3156819835436*C^9 - 2940896377392*C^8 + 832365596224*C^7 - 18162985248*C^6 - 68828540640*C^5 + 19378314432*C^4 - 637618880*C^3 - 585860736*C^2 - (4398046511104*sqrt(2)*C^40 - 52776558133248*sqrt(2)*C^39 + 256735965085696*sqrt(2)*C^38 - 600333348765696*sqrt(2)*C^37 + 442690869133312*sqrt(2)*C^36 + 1068725302198272*sqrt(2)*C^35 - 2963295506006016*sqrt(2)*C^34 + 2323302429229056*sqrt(2)*C^33 + 1547244788514816*sqrt(2)*C^32 - 5075130925449216*sqrt(2)*C^31 + 4614819416113152*sqrt(2)*C^30 - 299535314190336*sqrt(2)*C^29 - 4305539492216832*sqrt(2)*C^28 + 5260852290650112*sqrt(2)*C^27 - 2251070103355392*sqrt(2)*C^26 - 1536390844121088*sqrt(2)*C^25 + 3252222932287488*sqrt(2)*C^24 - 2341770007412736*sqrt(2)*C^23 + 303391365038080*sqrt(2)*C^22 + 1028067594731520*sqrt(2)*C^21 - 1131598665261056*sqrt(2)*C^20 + 524033376780288*sqrt(2)*C^19 + 66863294551552*sqrt(2)*C^18 - 276192856553472*sqrt(2)*C^17 + 202335644500224*sqrt(2)*C^16 - 58803243803136*sqrt(2)*C^15 - 24189060104256*sqrt(2)*C^14 + 35230169549952*sqrt(2)*C^13 - 18027513865632*sqrt(2)*C^12 + 2688162476832*sqrt(2)*C^11 + 2456886048438*sqrt(2)*C^10 - 2002605072624*sqrt(2)*C^9 + 654108417003*sqrt(2)*C^8 + 618134256*sqrt(2)*C^7 - 86054462952*sqrt(2)*C^6 + 37073596320*sqrt(2)*C^5 - 4024654712*sqrt(2)*C^4 - 1312273344*sqrt(2)*C^3 + 595418752*sqrt(2)*C^2 - (2199023255552*sqrt(2)*C^38 - 26388279066624*sqrt(2)*C^37 + 128917738356736*sqrt(2)*C^36 - 306763744149504*sqrt(2)*C^35 + 254193344446464*sqrt(2)*C^34 + 450250011574272*sqrt(2)*C^33 - 1381686684155904*sqrt(2)*C^32 + 1186080988594176*sqrt(2)*C^31 + 508882757615616*sqrt(2)*C^30 - 2137489259102208*sqrt(2)*C^29 + 2071343809953792*sqrt(2)*C^28 - 337320288976896*sqrt(2)*C^27 - 1569988452286464*sqrt(2)*C^26 + 2042884282908672*sqrt(2)*C^25 - 966430439768064*sqrt(2)*C^24 - 428380319121408*sqrt(2)*C^23 + 1080139249483776*sqrt(2)*C^22 - 803359818252288*sqrt(2)*C^21 + 145178693255168*sqrt(2)*C^20 + 280044688834560*sqrt(2)*C^19 - 321126464761856*sqrt(2)*C^18 + 150504220753920*sqrt(2)*C^17 + 9563730732288*sqrt(2)*C^16 - 63557888762880*sqrt(2)*C^15 + 45734320462080*sqrt(2)*C^14 - 12838885896960*sqrt(2)*C^13 - 4395221965920*sqrt(2)*C^12 + 6212583108288*sqrt(2)*C^11 - 2888510788512*sqrt(2)*C^10 + 337454113968*sqrt(2)*C^9 + 341084016717*sqrt(2)*C^8 - 231157999512*sqrt(2)*C^7 + 55522623288*sqrt(2)*C^6 + 4534412976*sqrt(2)*C^5 - 6817015944*sqrt(2)*C^4 + 1637836128*sqrt(2)*C^3 + 48489440*sqrt(2)*C^2 - 58900416*sqrt(2)*C + 65488*sqrt(2))*sqrt(4*C^4 - 2*C^2 - 2) - 1571712*sqrt(2)*C - 4908368*sqrt(2))*sqrt(256*C^10 - 448*C^8 + 132*C^6 + 83*C^4 - 23*C^2 - 2*(64*C^8 - 96*C^6 + 27*C^4 + 5*C^2)*sqrt(4*C^4 - 2*C^2 - 2)) - (70368744177664*C^43 - 844424930131968*C^42 + 4063794976260096*C^41 - 9077567998918656*C^40 + 4515694255276032*C^39 + 23102938322829312*C^38 - 51843347639173120*C^37 + 26530116066607104*C^36 + 54171786849288192*C^35 - 103923021558841344*C^34 + 57962847107284992*C^33 + 45134935140335616*C^32 - 112654807109468160*C^31 + 85268105986572288*C^30 + 5893400310054912*C^29 - 73375212694929408*C^28 + 71225365028143104*C^27 - 21994407028850688*C^26 - 24700213262286848*C^25 + 36517903910043648*C^24 - 19900549788008448*C^23 - 853909434531840*C^22 + 10551332494589952*C^21 - 8513784424759296*C^20 + 2524478509908992*C^19 + 1293918159163392*C^18 - 1934922202723584*C^17 + 982119085231104*C^16 - 99426516421248*C^15 - 210544673833728*C^14 + 164479596954144*C^13 - 50309704769472*C^12 - 5161355590572*C^11 + 12651824810016*C^10 - 5527534803201*C^9 + 718537694688*C^8 + 383243884744*C^7 - 228807106752*C^6 + 37842851112*C^5 + 4097726592*C^4 - 3114256416*C^3 + 125659392*C^2 + 24410864*C)*sqrt(4*C^4 - 2*C^2 - 2) + 10471616*C)/(140737488355328*C^44 - 1055531162664960*C^43 + 3870280929771520*C^42 - 8153978231586816*C^41 + 4486007441326080*C^40 + 21760434625314816*C^39 - 50689959941636096*C^38 + 27602964537409536*C^37 + 46376610185609216*C^36 - 98859409735680000*C^35 + 73775482172080128*C^34 + 23660854574579712*C^33 - 112464980292403200*C^32 + 107183932528656384*C^31 - 23725438534680576*C^30 - 63098069188608000*C^29 + 91625506360786944*C^28 - 49978577302585344*C^27 - 10707324780937216*C^26 + 42337169384669184*C^25 - 37047638779756544*C^24 + 11210171981561856*C^23 + 9289284965842944*C^22 - 13775874286731264*C^21 + 8313931079968768*C^20 - 1019413395581952*C^19 - 2584115410927360*C^18 + 2419756151007744*C^17 - 1047105946950336*C^16 - 30973157752896*C^15 + 343207223401872*C^14 - 224873230159008*C^13 + 68096080064292*C^12 + 12599884573200*C^11 - 21405423757518*C^10 + 9692730343656*C^9 - 1673056429858*C^8 - 755605339440*C^7 + 504323062996*C^6 - 131189430024*C^5 - 3992789544*C^4 + 10227396096*C^3 - 2129530736*C^2 + 9*(2199023255552*sqrt(2)*C^38 - 14843406974976*sqrt(2)*C^37 + 37383395344384*sqrt(2)*C^36 - 32160715112448*sqrt(2)*C^35 - 45664092291072*sqrt(2)*C^34 + 158097746165760*sqrt(2)*C^33 - 162298224181248*sqrt(2)*C^32 - 22728966930432*sqrt(2)*C^31 + 242596932747264*sqrt(2)*C^30 - 286919384629248*sqrt(2)*C^29 + 119517128687616*sqrt(2)*C^28 + 144877836828672*sqrt(2)*C^27 - 286896659890176*sqrt(2)*C^26 + 200185152012288*sqrt(2)*C^25 - 12259342417920*sqrt(2)*C^24 - 131395366158336*sqrt(2)*C^23 + 152166306545664*sqrt(2)*C^22 - 69895053803520*sqrt(2)*C^21 - 15260863037440*sqrt(2)*C^20 + 52373960736768*sqrt(2)*C^19 - 42871929522176*sqrt(2)*C^18 + 13351140481536*sqrt(2)*C^17 + 6190184911872*sqrt(2)*C^16 - 10678375378944*sqrt(2)*C^15 + 6577872632448*sqrt(2)*C^14 - 1383573906432*sqrt(2)*C^13 - 951100634304*sqrt(2)*C^12 + 1102033764432*sqrt(2)*C^11 - 507732397728*sqrt(2)*C^10 + 66069268398*sqrt(2)*C^9 + 65137398192*sqrt(2)*C^8 - 49700478177*sqrt(2)*C^7 + 15697371552*sqrt(2)*C^6 - 401124114*sqrt(2)*C^5 - 1651842096*sqrt(2)*C^4 + 639316548*sqrt(2)*C^3 - 85996288*sqrt(2)*C^2 - 2*(549755813888*sqrt(2)*C^36 - 3710851743744*sqrt(2)*C^35 + 9483287789568*sqrt(2)*C^34 - 8967891714048*sqrt(2)*C^33 - 8890582302720*sqrt(2)*C^32 + 36238786560000*sqrt(2)*C^31 - 40091372224512*sqrt(2)*C^30 + 594316099584*sqrt(2)*C^29 + 48824114479104*sqrt(2)*C^28 - 62231660199936*sqrt(2)*C^27 + 30744986517504*sqrt(2)*C^26 + 22738026627072*sqrt(2)*C^25 - 53295118811136*sqrt(2)*C^24 + 39934392532992*sqrt(2)*C^23 - 6634058809344*sqrt(2)*C^22 - 19895842897920*sqrt(2)*C^21 + 24941159350272*sqrt(2)*C^20 - 12416638722048*sqrt(2)*C^19 - 873264848896*sqrt(2)*C^18 + 6933880571904*sqrt(2)*C^17 - 5892808373760*sqrt(2)*C^16 + 2003784444288*sqrt(2)*C^15 + 537746654592*sqrt(2)*C^14 - 1153742751648*sqrt(2)*C^13 + 704459528160*sqrt(2)*C^12 - 158320707624*sqrt(2)*C^11 - 74786705112*sqrt(2)*C^10 + 88367576274*sqrt(2)*C^9 - 37496571408*sqrt(2)*C^8 + 4376318787*sqrt(2)*C^7 + 3934490382*sqrt(2)*C^6 - 2449898730*sqrt(2)*C^5 + 607485894*sqrt(2)*C^4 + 36171828*sqrt(2)*C^3 - 47698056*sqrt(2)*C^2 + 11191176*sqrt(2)*C + 796232*sqrt(2))*sqrt(4*C^4 - 2*C^2 - 2) - 21498264*sqrt(2)*C + 3315904*sqrt(2))*sqrt(256*C^10 - 448*C^8 + 132*C^6 + 83*C^4 - 23*C^2 - 2*(64*C^8 - 96*C^6 + 27*C^4 + 5*C^2)*sqrt(4*C^4 - 2*C^2 - 2)) - (70368744177664*C^42 - 527765581332480*C^41 + 1952732650930176*C^40 - 4208930511126528*C^39 + 2750978092695552*C^38 + 9679550615126016*C^37 - 24103081587245056*C^36 + 15000499698794496*C^35 + 18077568888471552*C^34 - 43283297429618688*C^33 + 34935523831185408*C^32 + 5650660838080512*C^31 - 43883471327723520*C^30 + 44281284620451840*C^29 - 12965921345765376*C^28 - 20870809862012928*C^27 + 33012665957744640*C^26 - 19150061703266304*C^25 - 1783656399503360*C^24 + 12998604644155392*C^23 - 11841735529070592*C^22 + 3955732496941056*C^21 + 2239910442049536*C^20 - 3672700679479296*C^19 + 2252713924551680*C^18 - 344471270487552*C^17 - 556971590429568*C^16 + 527118605153280*C^15 - 224282275125984*C^14 - 1615861136160*C^13 + 59294086410984*C^12 - 36683550128448*C^11 + 10045683965034*C^10 + 1964705676264*C^9 - 2600692840917*C^8 + 1000767082464*C^7 - 102571850606*C^6 - 76444884552*C^5 + 32522437452*C^4 - 4394455104*C^3 - 1054004328*C^2 + 296466720*C + 9292832)*sqrt(4*C^4 - 2*C^2 - 2) - 139392480*C + 39528896)]\n",
       "[-(140737488355328*C^45 - 1688849860263936*C^44 + 8092405580431360*C^43 - 17732923532771328*C^42 + 6959908603822080*C^41 + 51219649668317184*C^40 - 108240322684780544*C^39 + 46733642226991104*C^38 + 131145658152255488*C^37 - 232733488812392448*C^36 + 116897550824374272*C^35 + 125154041335382016*C^34 - 278268764296839168*C^33 + 200718965796765696*C^32 + 33285367331291136*C^31 - 204238090200416256*C^30 + 191650947976396800*C^29 - 52396884165132288*C^28 - 80315315686211584*C^27 + 113188151551328256*C^26 - 60505123343433728*C^25 - 6053990298550272*C^24 + 38102323746570240*C^23 - 30977558872326144*C^22 + 9062231188350976*C^21 + 5652442547920896*C^20 - 8409180245330944*C^19 + 4486705931022336*C^18 - 467437639299840*C^17 - 1104005318962176*C^16 + 938689104440064*C^15 - 325346056644096*C^14 - 24999097859544*C^13 + 91237931807904*C^12 - 48596732276148*C^11 + 9240394832496*C^10 + 3156819835436*C^9 - 2940896377392*C^8 + 832365596224*C^7 - 18162985248*C^6 - 68828540640*C^5 + 19378314432*C^4 - 637618880*C^3 - 585860736*C^2 - (4398046511104*sqrt(2)*C^40 - 52776558133248*sqrt(2)*C^39 + 256735965085696*sqrt(2)*C^38 - 600333348765696*sqrt(2)*C^37 + 442690869133312*sqrt(2)*C^36 + 1068725302198272*sqrt(2)*C^35 - 2963295506006016*sqrt(2)*C^34 + 2323302429229056*sqrt(2)*C^33 + 1547244788514816*sqrt(2)*C^32 - 5075130925449216*sqrt(2)*C^31 + 4614819416113152*sqrt(2)*C^30 - 299535314190336*sqrt(2)*C^29 - 4305539492216832*sqrt(2)*C^28 + 5260852290650112*sqrt(2)*C^27 - 2251070103355392*sqrt(2)*C^26 - 1536390844121088*sqrt(2)*C^25 + 3252222932287488*sqrt(2)*C^24 - 2341770007412736*sqrt(2)*C^23 + 303391365038080*sqrt(2)*C^22 + 1028067594731520*sqrt(2)*C^21 - 1131598665261056*sqrt(2)*C^20 + 524033376780288*sqrt(2)*C^19 + 66863294551552*sqrt(2)*C^18 - 276192856553472*sqrt(2)*C^17 + 202335644500224*sqrt(2)*C^16 - 58803243803136*sqrt(2)*C^15 - 24189060104256*sqrt(2)*C^14 + 35230169549952*sqrt(2)*C^13 - 18027513865632*sqrt(2)*C^12 + 2688162476832*sqrt(2)*C^11 + 2456886048438*sqrt(2)*C^10 - 2002605072624*sqrt(2)*C^9 + 654108417003*sqrt(2)*C^8 + 618134256*sqrt(2)*C^7 - 86054462952*sqrt(2)*C^6 + 37073596320*sqrt(2)*C^5 - 4024654712*sqrt(2)*C^4 - 1312273344*sqrt(2)*C^3 + 595418752*sqrt(2)*C^2 - (2199023255552*sqrt(2)*C^38 - 26388279066624*sqrt(2)*C^37 + 128917738356736*sqrt(2)*C^36 - 306763744149504*sqrt(2)*C^35 + 254193344446464*sqrt(2)*C^34 + 450250011574272*sqrt(2)*C^33 - 1381686684155904*sqrt(2)*C^32 + 1186080988594176*sqrt(2)*C^31 + 508882757615616*sqrt(2)*C^30 - 2137489259102208*sqrt(2)*C^29 + 2071343809953792*sqrt(2)*C^28 - 337320288976896*sqrt(2)*C^27 - 1569988452286464*sqrt(2)*C^26 + 2042884282908672*sqrt(2)*C^25 - 966430439768064*sqrt(2)*C^24 - 428380319121408*sqrt(2)*C^23 + 1080139249483776*sqrt(2)*C^22 - 803359818252288*sqrt(2)*C^21 + 145178693255168*sqrt(2)*C^20 + 280044688834560*sqrt(2)*C^19 - 321126464761856*sqrt(2)*C^18 + 150504220753920*sqrt(2)*C^17 + 9563730732288*sqrt(2)*C^16 - 63557888762880*sqrt(2)*C^15 + 45734320462080*sqrt(2)*C^14 - 12838885896960*sqrt(2)*C^13 - 4395221965920*sqrt(2)*C^12 + 6212583108288*sqrt(2)*C^11 - 2888510788512*sqrt(2)*C^10 + 337454113968*sqrt(2)*C^9 + 341084016717*sqrt(2)*C^8 - 231157999512*sqrt(2)*C^7 + 55522623288*sqrt(2)*C^6 + 4534412976*sqrt(2)*C^5 - 6817015944*sqrt(2)*C^4 + 1637836128*sqrt(2)*C^3 + 48489440*sqrt(2)*C^2 - 58900416*sqrt(2)*C + 65488*sqrt(2))*sqrt(4*C^4 - 2*C^2 - 2) - 1571712*sqrt(2)*C - 4908368*sqrt(2))*sqrt(256*C^10 - 448*C^8 + 132*C^6 + 83*C^4 - 23*C^2 - 2*(64*C^8 - 96*C^6 + 27*C^4 + 5*C^2)*sqrt(4*C^4 - 2*C^2 - 2)) - (70368744177664*C^43 - 844424930131968*C^42 + 4063794976260096*C^41 - 9077567998918656*C^40 + 4515694255276032*C^39 + 23102938322829312*C^38 - 51843347639173120*C^37 + 26530116066607104*C^36 + 54171786849288192*C^35 - 103923021558841344*C^34 + 57962847107284992*C^33 + 45134935140335616*C^32 - 112654807109468160*C^31 + 85268105986572288*C^30 + 5893400310054912*C^29 - 73375212694929408*C^28 + 71225365028143104*C^27 - 21994407028850688*C^26 - 24700213262286848*C^25 + 36517903910043648*C^24 - 19900549788008448*C^23 - 853909434531840*C^22 + 10551332494589952*C^21 - 8513784424759296*C^20 + 2524478509908992*C^19 + 1293918159163392*C^18 - 1934922202723584*C^17 + 982119085231104*C^16 - 99426516421248*C^15 - 210544673833728*C^14 + 164479596954144*C^13 - 50309704769472*C^12 - 5161355590572*C^11 + 12651824810016*C^10 - 5527534803201*C^9 + 718537694688*C^8 + 383243884744*C^7 - 228807106752*C^6 + 37842851112*C^5 + 4097726592*C^4 - 3114256416*C^3 + 125659392*C^2 + 24410864*C)*sqrt(4*C^4 - 2*C^2 - 2) + 10471616*C)/(140737488355328*C^44 - 1055531162664960*C^43 + 3870280929771520*C^42 - 8153978231586816*C^41 + 4486007441326080*C^40 + 21760434625314816*C^39 - 50689959941636096*C^38 + 27602964537409536*C^37 + 46376610185609216*C^36 - 98859409735680000*C^35 + 73775482172080128*C^34 + 23660854574579712*C^33 - 112464980292403200*C^32 + 107183932528656384*C^31 - 23725438534680576*C^30 - 63098069188608000*C^29 + 91625506360786944*C^28 - 49978577302585344*C^27 - 10707324780937216*C^26 + 42337169384669184*C^25 - 37047638779756544*C^24 + 11210171981561856*C^23 + 9289284965842944*C^22 - 13775874286731264*C^21 + 8313931079968768*C^20 - 1019413395581952*C^19 - 2584115410927360*C^18 + 2419756151007744*C^17 - 1047105946950336*C^16 - 30973157752896*C^15 + 343207223401872*C^14 - 224873230159008*C^13 + 68096080064292*C^12 + 12599884573200*C^11 - 21405423757518*C^10 + 9692730343656*C^9 - 1673056429858*C^8 - 755605339440*C^7 + 504323062996*C^6 - 131189430024*C^5 - 3992789544*C^4 + 10227396096*C^3 - 2129530736*C^2 + 9*(2199023255552*sqrt(2)*C^38 - 14843406974976*sqrt(2)*C^37 + 37383395344384*sqrt(2)*C^36 - 32160715112448*sqrt(2)*C^35 - 45664092291072*sqrt(2)*C^34 + 158097746165760*sqrt(2)*C^33 - 162298224181248*sqrt(2)*C^32 - 22728966930432*sqrt(2)*C^31 + 242596932747264*sqrt(2)*C^30 - 286919384629248*sqrt(2)*C^29 + 119517128687616*sqrt(2)*C^28 + 144877836828672*sqrt(2)*C^27 - 286896659890176*sqrt(2)*C^26 + 200185152012288*sqrt(2)*C^25 - 12259342417920*sqrt(2)*C^24 - 131395366158336*sqrt(2)*C^23 + 152166306545664*sqrt(2)*C^22 - 69895053803520*sqrt(2)*C^21 - 15260863037440*sqrt(2)*C^20 + 52373960736768*sqrt(2)*C^19 - 42871929522176*sqrt(2)*C^18 + 13351140481536*sqrt(2)*C^17 + 6190184911872*sqrt(2)*C^16 - 10678375378944*sqrt(2)*C^15 + 6577872632448*sqrt(2)*C^14 - 1383573906432*sqrt(2)*C^13 - 951100634304*sqrt(2)*C^12 + 1102033764432*sqrt(2)*C^11 - 507732397728*sqrt(2)*C^10 + 66069268398*sqrt(2)*C^9 + 65137398192*sqrt(2)*C^8 - 49700478177*sqrt(2)*C^7 + 15697371552*sqrt(2)*C^6 - 401124114*sqrt(2)*C^5 - 1651842096*sqrt(2)*C^4 + 639316548*sqrt(2)*C^3 - 85996288*sqrt(2)*C^2 - 2*(549755813888*sqrt(2)*C^36 - 3710851743744*sqrt(2)*C^35 + 9483287789568*sqrt(2)*C^34 - 8967891714048*sqrt(2)*C^33 - 8890582302720*sqrt(2)*C^32 + 36238786560000*sqrt(2)*C^31 - 40091372224512*sqrt(2)*C^30 + 594316099584*sqrt(2)*C^29 + 48824114479104*sqrt(2)*C^28 - 62231660199936*sqrt(2)*C^27 + 30744986517504*sqrt(2)*C^26 + 22738026627072*sqrt(2)*C^25 - 53295118811136*sqrt(2)*C^24 + 39934392532992*sqrt(2)*C^23 - 6634058809344*sqrt(2)*C^22 - 19895842897920*sqrt(2)*C^21 + 24941159350272*sqrt(2)*C^20 - 12416638722048*sqrt(2)*C^19 - 873264848896*sqrt(2)*C^18 + 6933880571904*sqrt(2)*C^17 - 5892808373760*sqrt(2)*C^16 + 2003784444288*sqrt(2)*C^15 + 537746654592*sqrt(2)*C^14 - 1153742751648*sqrt(2)*C^13 + 704459528160*sqrt(2)*C^12 - 158320707624*sqrt(2)*C^11 - 74786705112*sqrt(2)*C^10 + 88367576274*sqrt(2)*C^9 - 37496571408*sqrt(2)*C^8 + 4376318787*sqrt(2)*C^7 + 3934490382*sqrt(2)*C^6 - 2449898730*sqrt(2)*C^5 + 607485894*sqrt(2)*C^4 + 36171828*sqrt(2)*C^3 - 47698056*sqrt(2)*C^2 + 11191176*sqrt(2)*C + 796232*sqrt(2))*sqrt(4*C^4 - 2*C^2 - 2) - 21498264*sqrt(2)*C + 3315904*sqrt(2))*sqrt(256*C^10 - 448*C^8 + 132*C^6 + 83*C^4 - 23*C^2 - 2*(64*C^8 - 96*C^6 + 27*C^4 + 5*C^2)*sqrt(4*C^4 - 2*C^2 - 2)) - (70368744177664*C^42 - 527765581332480*C^41 + 1952732650930176*C^40 - 4208930511126528*C^39 + 2750978092695552*C^38 + 9679550615126016*C^37 - 24103081587245056*C^36 + 15000499698794496*C^35 + 18077568888471552*C^34 - 43283297429618688*C^33 + 34935523831185408*C^32 + 5650660838080512*C^31 - 43883471327723520*C^30 + 44281284620451840*C^29 - 12965921345765376*C^28 - 20870809862012928*C^27 + 33012665957744640*C^26 - 19150061703266304*C^25 - 1783656399503360*C^24 + 12998604644155392*C^23 - 11841735529070592*C^22 + 3955732496941056*C^21 + 2239910442049536*C^20 - 3672700679479296*C^19 + 2252713924551680*C^18 - 344471270487552*C^17 - 556971590429568*C^16 + 527118605153280*C^15 - 224282275125984*C^14 - 1615861136160*C^13 + 59294086410984*C^12 - 36683550128448*C^11 + 10045683965034*C^10 + 1964705676264*C^9 - 2600692840917*C^8 + 1000767082464*C^7 - 102571850606*C^6 - 76444884552*C^5 + 32522437452*C^4 - 4394455104*C^3 - 1054004328*C^2 + 296466720*C + 9292832)*sqrt(4*C^4 - 2*C^2 - 2) - 139392480*C + 39528896)]\n",
       "[-(140737488355328*C^45 - 1688849860263936*C^44 + 8092405580431360*C^43 - 17732923532771328*C^42 + 6959908603822080*C^41 + 51219649668317184*C^40 - 108240322684780544*C^39 + 46733642226991104*C^38 + 131145658152255488*C^37 - 232733488812392448*C^36 + 116897550824374272*C^35 + 125154041335382016*C^34 - 278268764296839168*C^33 + 200718965796765696*C^32 + 33285367331291136*C^31 - 204238090200416256*C^30 + 191650947976396800*C^29 - 52396884165132288*C^28 - 80315315686211584*C^27 + 113188151551328256*C^26 - 60505123343433728*C^25 - 6053990298550272*C^24 + 38102323746570240*C^23 - 30977558872326144*C^22 + 9062231188350976*C^21 + 5652442547920896*C^20 - 8409180245330944*C^19 + 4486705931022336*C^18 - 467437639299840*C^17 - 1104005318962176*C^16 + 938689104440064*C^15 - 325346056644096*C^14 - 24999097859544*C^13 + 91237931807904*C^12 - 48596732276148*C^11 + 9240394832496*C^10 + 3156819835436*C^9 - 2940896377392*C^8 + 832365596224*C^7 - 18162985248*C^6 - 68828540640*C^5 + 19378314432*C^4 - 637618880*C^3 - 585860736*C^2 - (4398046511104*sqrt(2)*C^40 - 52776558133248*sqrt(2)*C^39 + 256735965085696*sqrt(2)*C^38 - 600333348765696*sqrt(2)*C^37 + 442690869133312*sqrt(2)*C^36 + 1068725302198272*sqrt(2)*C^35 - 2963295506006016*sqrt(2)*C^34 + 2323302429229056*sqrt(2)*C^33 + 1547244788514816*sqrt(2)*C^32 - 5075130925449216*sqrt(2)*C^31 + 4614819416113152*sqrt(2)*C^30 - 299535314190336*sqrt(2)*C^29 - 4305539492216832*sqrt(2)*C^28 + 5260852290650112*sqrt(2)*C^27 - 2251070103355392*sqrt(2)*C^26 - 1536390844121088*sqrt(2)*C^25 + 3252222932287488*sqrt(2)*C^24 - 2341770007412736*sqrt(2)*C^23 + 303391365038080*sqrt(2)*C^22 + 1028067594731520*sqrt(2)*C^21 - 1131598665261056*sqrt(2)*C^20 + 524033376780288*sqrt(2)*C^19 + 66863294551552*sqrt(2)*C^18 - 276192856553472*sqrt(2)*C^17 + 202335644500224*sqrt(2)*C^16 - 58803243803136*sqrt(2)*C^15 - 24189060104256*sqrt(2)*C^14 + 35230169549952*sqrt(2)*C^13 - 18027513865632*sqrt(2)*C^12 + 2688162476832*sqrt(2)*C^11 + 2456886048438*sqrt(2)*C^10 - 2002605072624*sqrt(2)*C^9 + 654108417003*sqrt(2)*C^8 + 618134256*sqrt(2)*C^7 - 86054462952*sqrt(2)*C^6 + 37073596320*sqrt(2)*C^5 - 4024654712*sqrt(2)*C^4 - 1312273344*sqrt(2)*C^3 + 595418752*sqrt(2)*C^2 - (2199023255552*sqrt(2)*C^38 - 26388279066624*sqrt(2)*C^37 + 128917738356736*sqrt(2)*C^36 - 306763744149504*sqrt(2)*C^35 + 254193344446464*sqrt(2)*C^34 + 450250011574272*sqrt(2)*C^33 - 1381686684155904*sqrt(2)*C^32 + 1186080988594176*sqrt(2)*C^31 + 508882757615616*sqrt(2)*C^30 - 2137489259102208*sqrt(2)*C^29 + 2071343809953792*sqrt(2)*C^28 - 337320288976896*sqrt(2)*C^27 - 1569988452286464*sqrt(2)*C^26 + 2042884282908672*sqrt(2)*C^25 - 966430439768064*sqrt(2)*C^24 - 428380319121408*sqrt(2)*C^23 + 1080139249483776*sqrt(2)*C^22 - 803359818252288*sqrt(2)*C^21 + 145178693255168*sqrt(2)*C^20 + 280044688834560*sqrt(2)*C^19 - 321126464761856*sqrt(2)*C^18 + 150504220753920*sqrt(2)*C^17 + 9563730732288*sqrt(2)*C^16 - 63557888762880*sqrt(2)*C^15 + 45734320462080*sqrt(2)*C^14 - 12838885896960*sqrt(2)*C^13 - 4395221965920*sqrt(2)*C^12 + 6212583108288*sqrt(2)*C^11 - 2888510788512*sqrt(2)*C^10 + 337454113968*sqrt(2)*C^9 + 341084016717*sqrt(2)*C^8 - 231157999512*sqrt(2)*C^7 + 55522623288*sqrt(2)*C^6 + 4534412976*sqrt(2)*C^5 - 6817015944*sqrt(2)*C^4 + 1637836128*sqrt(2)*C^3 + 48489440*sqrt(2)*C^2 - 58900416*sqrt(2)*C + 65488*sqrt(2))*sqrt(4*C^4 - 2*C^2 - 2) - 1571712*sqrt(2)*C - 4908368*sqrt(2))*sqrt(256*C^10 - 448*C^8 + 132*C^6 + 83*C^4 - 23*C^2 - 2*(64*C^8 - 96*C^6 + 27*C^4 + 5*C^2)*sqrt(4*C^4 - 2*C^2 - 2)) - (70368744177664*C^43 - 844424930131968*C^42 + 4063794976260096*C^41 - 9077567998918656*C^40 + 4515694255276032*C^39 + 23102938322829312*C^38 - 51843347639173120*C^37 + 26530116066607104*C^36 + 54171786849288192*C^35 - 103923021558841344*C^34 + 57962847107284992*C^33 + 45134935140335616*C^32 - 112654807109468160*C^31 + 85268105986572288*C^30 + 5893400310054912*C^29 - 73375212694929408*C^28 + 71225365028143104*C^27 - 21994407028850688*C^26 - 24700213262286848*C^25 + 36517903910043648*C^24 - 19900549788008448*C^23 - 853909434531840*C^22 + 10551332494589952*C^21 - 8513784424759296*C^20 + 2524478509908992*C^19 + 1293918159163392*C^18 - 1934922202723584*C^17 + 982119085231104*C^16 - 99426516421248*C^15 - 210544673833728*C^14 + 164479596954144*C^13 - 50309704769472*C^12 - 5161355590572*C^11 + 12651824810016*C^10 - 5527534803201*C^9 + 718537694688*C^8 + 383243884744*C^7 - 228807106752*C^6 + 37842851112*C^5 + 4097726592*C^4 - 3114256416*C^3 + 125659392*C^2 + 24410864*C)*sqrt(4*C^4 - 2*C^2 - 2) + 10471616*C)/(140737488355328*C^44 - 1055531162664960*C^43 + 3870280929771520*C^42 - 8153978231586816*C^41 + 4486007441326080*C^40 + 21760434625314816*C^39 - 50689959941636096*C^38 + 27602964537409536*C^37 + 46376610185609216*C^36 - 98859409735680000*C^35 + 73775482172080128*C^34 + 23660854574579712*C^33 - 112464980292403200*C^32 + 107183932528656384*C^31 - 23725438534680576*C^30 - 63098069188608000*C^29 + 91625506360786944*C^28 - 49978577302585344*C^27 - 10707324780937216*C^26 + 42337169384669184*C^25 - 37047638779756544*C^24 + 11210171981561856*C^23 + 9289284965842944*C^22 - 13775874286731264*C^21 + 8313931079968768*C^20 - 1019413395581952*C^19 - 2584115410927360*C^18 + 2419756151007744*C^17 - 1047105946950336*C^16 - 30973157752896*C^15 + 343207223401872*C^14 - 224873230159008*C^13 + 68096080064292*C^12 + 12599884573200*C^11 - 21405423757518*C^10 + 9692730343656*C^9 - 1673056429858*C^8 - 755605339440*C^7 + 504323062996*C^6 - 131189430024*C^5 - 3992789544*C^4 + 10227396096*C^3 - 2129530736*C^2 + 9*(2199023255552*sqrt(2)*C^38 - 14843406974976*sqrt(2)*C^37 + 37383395344384*sqrt(2)*C^36 - 32160715112448*sqrt(2)*C^35 - 45664092291072*sqrt(2)*C^34 + 158097746165760*sqrt(2)*C^33 - 162298224181248*sqrt(2)*C^32 - 22728966930432*sqrt(2)*C^31 + 242596932747264*sqrt(2)*C^30 - 286919384629248*sqrt(2)*C^29 + 119517128687616*sqrt(2)*C^28 + 144877836828672*sqrt(2)*C^27 - 286896659890176*sqrt(2)*C^26 + 200185152012288*sqrt(2)*C^25 - 12259342417920*sqrt(2)*C^24 - 131395366158336*sqrt(2)*C^23 + 152166306545664*sqrt(2)*C^22 - 69895053803520*sqrt(2)*C^21 - 15260863037440*sqrt(2)*C^20 + 52373960736768*sqrt(2)*C^19 - 42871929522176*sqrt(2)*C^18 + 13351140481536*sqrt(2)*C^17 + 6190184911872*sqrt(2)*C^16 - 10678375378944*sqrt(2)*C^15 + 6577872632448*sqrt(2)*C^14 - 1383573906432*sqrt(2)*C^13 - 951100634304*sqrt(2)*C^12 + 1102033764432*sqrt(2)*C^11 - 507732397728*sqrt(2)*C^10 + 66069268398*sqrt(2)*C^9 + 65137398192*sqrt(2)*C^8 - 49700478177*sqrt(2)*C^7 + 15697371552*sqrt(2)*C^6 - 401124114*sqrt(2)*C^5 - 1651842096*sqrt(2)*C^4 + 639316548*sqrt(2)*C^3 - 85996288*sqrt(2)*C^2 - 2*(549755813888*sqrt(2)*C^36 - 3710851743744*sqrt(2)*C^35 + 9483287789568*sqrt(2)*C^34 - 8967891714048*sqrt(2)*C^33 - 8890582302720*sqrt(2)*C^32 + 36238786560000*sqrt(2)*C^31 - 40091372224512*sqrt(2)*C^30 + 594316099584*sqrt(2)*C^29 + 48824114479104*sqrt(2)*C^28 - 62231660199936*sqrt(2)*C^27 + 30744986517504*sqrt(2)*C^26 + 22738026627072*sqrt(2)*C^25 - 53295118811136*sqrt(2)*C^24 + 39934392532992*sqrt(2)*C^23 - 6634058809344*sqrt(2)*C^22 - 19895842897920*sqrt(2)*C^21 + 24941159350272*sqrt(2)*C^20 - 12416638722048*sqrt(2)*C^19 - 873264848896*sqrt(2)*C^18 + 6933880571904*sqrt(2)*C^17 - 5892808373760*sqrt(2)*C^16 + 2003784444288*sqrt(2)*C^15 + 537746654592*sqrt(2)*C^14 - 1153742751648*sqrt(2)*C^13 + 704459528160*sqrt(2)*C^12 - 158320707624*sqrt(2)*C^11 - 74786705112*sqrt(2)*C^10 + 88367576274*sqrt(2)*C^9 - 37496571408*sqrt(2)*C^8 + 4376318787*sqrt(2)*C^7 + 3934490382*sqrt(2)*C^6 - 2449898730*sqrt(2)*C^5 + 607485894*sqrt(2)*C^4 + 36171828*sqrt(2)*C^3 - 47698056*sqrt(2)*C^2 + 11191176*sqrt(2)*C + 796232*sqrt(2))*sqrt(4*C^4 - 2*C^2 - 2) - 21498264*sqrt(2)*C + 3315904*sqrt(2))*sqrt(256*C^10 - 448*C^8 + 132*C^6 + 83*C^4 - 23*C^2 - 2*(64*C^8 - 96*C^6 + 27*C^4 + 5*C^2)*sqrt(4*C^4 - 2*C^2 - 2)) - (70368744177664*C^42 - 527765581332480*C^41 + 1952732650930176*C^40 - 4208930511126528*C^39 + 2750978092695552*C^38 + 9679550615126016*C^37 - 24103081587245056*C^36 + 15000499698794496*C^35 + 18077568888471552*C^34 - 43283297429618688*C^33 + 34935523831185408*C^32 + 5650660838080512*C^31 - 43883471327723520*C^30 + 44281284620451840*C^29 - 12965921345765376*C^28 - 20870809862012928*C^27 + 33012665957744640*C^26 - 19150061703266304*C^25 - 1783656399503360*C^24 + 12998604644155392*C^23 - 11841735529070592*C^22 + 3955732496941056*C^21 + 2239910442049536*C^20 - 3672700679479296*C^19 + 2252713924551680*C^18 - 344471270487552*C^17 - 556971590429568*C^16 + 527118605153280*C^15 - 224282275125984*C^14 - 1615861136160*C^13 + 59294086410984*C^12 - 36683550128448*C^11 + 10045683965034*C^10 + 1964705676264*C^9 - 2600692840917*C^8 + 1000767082464*C^7 - 102571850606*C^6 - 76444884552*C^5 + 32522437452*C^4 - 4394455104*C^3 - 1054004328*C^2 + 296466720*C + 9292832)*sqrt(4*C^4 - 2*C^2 - 2) - 139392480*C + 39528896)]"
      ]
     },
     "metadata": {},
     "output_type": "display_data"
    },
    {
     "name": "stdout",
     "output_type": "stream",
     "text": [
      "It is not super easy for general C to see that this vanishes\n",
      "C = -1/4\n"
     ]
    },
    {
     "data": {
      "text/html": [
       "<html>\\(\\displaystyle \\left(\\begin{array}{r}\n",
       "0 \\\\\n",
       "0 \\\\\n",
       "0\n",
       "\\end{array}\\right)\\)</html>"
      ],
      "text/latex": [
       "$\\displaystyle \\left(\\begin{array}{r}\n",
       "0 \\\\\n",
       "0 \\\\\n",
       "0\n",
       "\\end{array}\\right)$"
      ],
      "text/plain": [
       "[0]\n",
       "[0]\n",
       "[0]"
      ]
     },
     "metadata": {},
     "output_type": "display_data"
    },
    {
     "name": "stdout",
     "output_type": "stream",
     "text": [
      "C = -1/3\n"
     ]
    },
    {
     "data": {
      "text/html": [
       "<html>\\(\\displaystyle \\left(\\begin{array}{r}\n",
       "0 \\\\\n",
       "0 \\\\\n",
       "0\n",
       "\\end{array}\\right)\\)</html>"
      ],
      "text/latex": [
       "$\\displaystyle \\left(\\begin{array}{r}\n",
       "0 \\\\\n",
       "0 \\\\\n",
       "0\n",
       "\\end{array}\\right)$"
      ],
      "text/plain": [
       "[0]\n",
       "[0]\n",
       "[0]"
      ]
     },
     "metadata": {},
     "output_type": "display_data"
    },
    {
     "name": "stdout",
     "output_type": "stream",
     "text": [
      "C = -13/87\n"
     ]
    },
    {
     "data": {
      "text/html": [
       "<html>\\(\\displaystyle \\left(\\begin{array}{r}\n",
       "0 \\\\\n",
       "0 \\\\\n",
       "0\n",
       "\\end{array}\\right)\\)</html>"
      ],
      "text/latex": [
       "$\\displaystyle \\left(\\begin{array}{r}\n",
       "0 \\\\\n",
       "0 \\\\\n",
       "0\n",
       "\\end{array}\\right)$"
      ],
      "text/plain": [
       "[0]\n",
       "[0]\n",
       "[0]"
      ]
     },
     "metadata": {},
     "output_type": "display_data"
    }
   ],
   "source": [
    "print(\"======= Anti bounce back ======\")\n",
    "\n",
    "for i in range(q):\n",
    "    for j in range(q):\n",
    "        bd00[i, j] = bdMat_ABB[i, j].full_simplify().collect(k).coefficient(k, 0)\n",
    "        bd01[i, j] = bdMat_ABB[i, j].full_simplify().collect(k).coefficient(k, 1)\n",
    "        \n",
    "BKL[:, 0] = (bd00 + bd01*ks)*phiS ### First column\n",
    "BKL[:, 1] = (bd00)*phi01 ### Second column\n",
    "BKL[:, 2] = (bd00)*phi02 ### Third column\n",
    "\n",
    "DetKL = BKL.determinant().full_simplify()\n",
    "\n",
    "print(\"Kreiss Lopatinskii determinant at z = -1\")\n",
    "pretty_print(taylor(DetKL, z, -1, -1).factor())\n",
    "print(\"Kreiss Lopatinskii determinant at z = 1\")\n",
    "pretty_print(taylor(DetKL, z, 1, -1).factor())\n",
    "print(\"Kreiss Lopatinskii determinant at z = zStarPlus\")\n",
    "print('First column of BKL')\n",
    "pretty_print(BKL[:, 0].subs(z==zABBPlus).simplify_full())\n",
    "print('It is not super easy for general C to see that this vanishes')\n",
    "for Cval in [-1/4, -1/3, -13/87]:\n",
    "    print('C = '+str(Cval))\n",
    "    pretty_print(BKL[:, 0].subs(z==zABBPlus).simplify_full().subs(C==Cval).simplify_full())"
   ]
  },
  {
   "cell_type": "code",
   "execution_count": 35,
   "id": "8b85abd7",
   "metadata": {},
   "outputs": [
    {
     "name": "stdout",
     "output_type": "stream",
     "text": [
      "======= Two-steps snti bounce back ======\n",
      "Kreiss Lopatinskii determinant at z = -1\n"
     ]
    },
    {
     "data": {
      "text/html": [
       "<html>\\(\\displaystyle \\frac{8}{3} \\, {\\left({\\mathcal{C}} + 1\\right)} {\\left({\\mathcal{C}} - 1\\right)}\\)</html>"
      ],
      "text/latex": [
       "$\\displaystyle \\frac{8}{3} \\, {\\left({\\mathcal{C}} + 1\\right)} {\\left({\\mathcal{C}} - 1\\right)}$"
      ],
      "text/plain": [
       "8/3*(C + 1)*(C - 1)"
      ]
     },
     "metadata": {},
     "output_type": "display_data"
    },
    {
     "name": "stdout",
     "output_type": "stream",
     "text": [
      "Kreiss Lopatinskii determinant at z = 1\n"
     ]
    },
    {
     "data": {
      "text/html": [
       "<html>\\(\\displaystyle -4 \\, {\\mathcal{C}}\\)</html>"
      ],
      "text/latex": [
       "$\\displaystyle -4 \\, {\\mathcal{C}}$"
      ],
      "text/plain": [
       "-4*C"
      ]
     },
     "metadata": {},
     "output_type": "display_data"
    },
    {
     "name": "stdout",
     "output_type": "stream",
     "text": [
      "Ad hoc analysis of 1/(1-abs(ks)^2) in the vicinity of z=-1\n"
     ]
    },
    {
     "data": {
      "text/html": [
       "<html>\\(\\displaystyle \\frac{2 \\, {\\left({\\mathcal{C}}^{2} - 1\\right)}}{{\\left(i \\, \\sqrt{3} \\sqrt{5 \\, {\\mathcal{C}}^{2} - 8} + 3 \\, {\\mathcal{C}}\\right)} {\\left({z} + 1\\right)}}\\)</html>"
      ],
      "text/latex": [
       "$\\displaystyle \\frac{2 \\, {\\left({\\mathcal{C}}^{2} - 1\\right)}}{{\\left(i \\, \\sqrt{3} \\sqrt{5 \\, {\\mathcal{C}}^{2} - 8} + 3 \\, {\\mathcal{C}}\\right)} {\\left({z} + 1\\right)}}$"
      ],
      "text/plain": [
       "2*(C^2 - 1)/((I*sqrt(3)*sqrt(5*C^2 - 8) + 3*C)*(z + 1))"
      ]
     },
     "metadata": {},
     "output_type": "display_data"
    },
    {
     "name": "stdout",
     "output_type": "stream",
     "text": [
      "Computation of the long-time solution for the source term in the experiments using residues\n",
      "m1_j^n equals approximately\n"
     ]
    },
    {
     "data": {
      "text/html": [
       "<html>\\(\\displaystyle 0\\)</html>"
      ],
      "text/latex": [
       "$\\displaystyle 0$"
      ],
      "text/plain": [
       "0"
      ]
     },
     "metadata": {},
     "output_type": "display_data"
    },
    {
     "name": "stdout",
     "output_type": "stream",
     "text": [
      "m2_j^n equals approximately\n"
     ]
    },
    {
     "data": {
      "text/html": [
       "<html>\\(\\displaystyle -\\frac{2 \\, {\\left(3 i \\, \\sqrt{3} \\sqrt{5 \\, {\\mathcal{C}}^{2} - 8} \\left(-1\\right)^{j} {\\mathcal{C}}^{2} - 2 i \\, \\sqrt{3} \\sqrt{5 \\, {\\mathcal{C}}^{2} - 8} \\left(-1\\right)^{n} {\\mathcal{C}}^{2} - 3 \\, \\left(-1\\right)^{j} {\\mathcal{C}}^{3} - 6 \\, \\left(-1\\right)^{n} {\\mathcal{C}}^{3} + 2 i \\, \\sqrt{3} \\sqrt{5 \\, {\\mathcal{C}}^{2} - 8} \\left(-1\\right)^{n} + 12 \\, \\left(-1\\right)^{j} {\\mathcal{C}} + 6 \\, \\left(-1\\right)^{n} {\\mathcal{C}}\\right)}}{3 i \\, \\sqrt{3} \\sqrt{5 \\, {\\mathcal{C}}^{2} - 8} {\\mathcal{C}} - 3 \\, {\\mathcal{C}}^{2} + 12}\\)</html>"
      ],
      "text/latex": [
       "$\\displaystyle -\\frac{2 \\, {\\left(3 i \\, \\sqrt{3} \\sqrt{5 \\, {\\mathcal{C}}^{2} - 8} \\left(-1\\right)^{j} {\\mathcal{C}}^{2} - 2 i \\, \\sqrt{3} \\sqrt{5 \\, {\\mathcal{C}}^{2} - 8} \\left(-1\\right)^{n} {\\mathcal{C}}^{2} - 3 \\, \\left(-1\\right)^{j} {\\mathcal{C}}^{3} - 6 \\, \\left(-1\\right)^{n} {\\mathcal{C}}^{3} + 2 i \\, \\sqrt{3} \\sqrt{5 \\, {\\mathcal{C}}^{2} - 8} \\left(-1\\right)^{n} + 12 \\, \\left(-1\\right)^{j} {\\mathcal{C}} + 6 \\, \\left(-1\\right)^{n} {\\mathcal{C}}\\right)}}{3 i \\, \\sqrt{3} \\sqrt{5 \\, {\\mathcal{C}}^{2} - 8} {\\mathcal{C}} - 3 \\, {\\mathcal{C}}^{2} + 12}$"
      ],
      "text/plain": [
       "-2*(3*I*sqrt(3)*sqrt(5*C^2 - 8)*(-1)^j*C^2 - 2*I*sqrt(3)*sqrt(5*C^2 - 8)*(-1)^n*C^2 - 3*(-1)^j*C^3 - 6*(-1)^n*C^3 + 2*I*sqrt(3)*sqrt(5*C^2 - 8)*(-1)^n + 12*(-1)^j*C + 6*(-1)^n*C)/(3*I*sqrt(3)*sqrt(5*C^2 - 8)*C - 3*C^2 + 12)"
      ]
     },
     "metadata": {},
     "output_type": "display_data"
    },
    {
     "name": "stdout",
     "output_type": "stream",
     "text": [
      "m3_j^n equals approximately\n"
     ]
    },
    {
     "data": {
      "text/html": [
       "<html>\\(\\displaystyle \\frac{4}{3} \\, \\left(-1\\right)^{n} {\\left({\\mathcal{C}} + 1\\right)} {\\left({\\mathcal{C}} - 1\\right)}\\)</html>"
      ],
      "text/latex": [
       "$\\displaystyle \\frac{4}{3} \\, \\left(-1\\right)^{n} {\\left({\\mathcal{C}} + 1\\right)} {\\left({\\mathcal{C}} - 1\\right)}$"
      ],
      "text/plain": [
       "4/3*(-1)^n*(C + 1)*(C - 1)"
      ]
     },
     "metadata": {},
     "output_type": "display_data"
    }
   ],
   "source": [
    "print(\"======= Two-steps anti bounce back ======\")\n",
    "\n",
    "for i in range(q):\n",
    "    for j in range(q):\n",
    "        bd00[i, j] = bdMat_TwoABB[i, j].full_simplify().collect(k).coefficient(k, 0)\n",
    "        bd01[i, j] = bdMat_TwoABB[i, j].full_simplify().collect(k).coefficient(k, 1)\n",
    "        \n",
    "BKL[:, 0] = (bd00 + bd01*ks)*phiS ### First column\n",
    "BKL[:, 1] = (bd00)*phi01 ### Second column\n",
    "BKL[:, 2] = (bd00)*phi02 ### Third column\n",
    "\n",
    "DetKL = BKL.determinant().full_simplify()\n",
    "\n",
    "print(\"Kreiss Lopatinskii determinant at z = -1\")\n",
    "pretty_print(taylor(DetKL, z, -1, 0).factor())\n",
    "print(\"Kreiss Lopatinskii determinant at z = 1\")\n",
    "pretty_print(taylor(DetKL, z, 1, 0).factor())\n",
    "\n",
    "print(\"Ad hoc analysis of 1/(1-abs(ks)^2) in the vicinity of z=-1\")\n",
    "pretty_print(taylor(1/(1-abs(ks)**2), z, -1, -1))\n",
    "\n",
    "\n",
    "print(\"Computation of the long-time solution for the source term in the experiments using residues\")\n",
    "var('j')\n",
    "var('n')\n",
    "\n",
    "Cs = -2/3*(2*C**2*z-2*C**2+3*C*z+3*C-2*z+2)*z*g1m1Tilde/DetKL\n",
    "\n",
    "m1 = Cs*z**(n-1)*ks**(j)*phiS[0, 0]\n",
    "m2 = Cs*z**(n-1)*ks**(j)*phiS[1, 0]\n",
    "m3 = Cs*z**(n-1)*ks**(j)*phiS[2, 0]\n",
    "\n",
    "\n",
    "print(\"m1_j^n equals approximately\")\n",
    "pretty_print((m1.full_simplify().maxima_methods().residue(z,-1) \\\n",
    "            + m1.full_simplify().maxima_methods().residue(z,1)).factor())\n",
    "print(\"m2_j^n equals approximately\")\n",
    "pretty_print((m2.full_simplify().maxima_methods().residue(z,-1) \\\n",
    "            + m2.full_simplify().maxima_methods().residue(z,1)).factor())\n",
    "print(\"m3_j^n equals approximately\")\n",
    "pretty_print((m3.full_simplify().maxima_methods().residue(z,-1) \\\n",
    "            + m3.full_simplify().maxima_methods().residue(z,1)).factor())"
   ]
  },
  {
   "cell_type": "code",
   "execution_count": 43,
   "id": "d61a6b98",
   "metadata": {},
   "outputs": [
    {
     "name": "stdout",
     "output_type": "stream",
     "text": [
      "======= Extrapolation sigma = 1 ======\n",
      "Kreiss Lopatinskii determinant at z = -1\n"
     ]
    },
    {
     "data": {
      "text/html": [
       "<html>\\(\\displaystyle -\\frac{8 \\, {\\left(i \\, \\sqrt{3} \\sqrt{5 \\, {\\mathcal{C}}^{2} - 8} {\\mathcal{C}}^{5} + 39 \\, {\\mathcal{C}}^{6} - 10 i \\, \\sqrt{3} \\sqrt{5 \\, {\\mathcal{C}}^{2} - 8} {\\mathcal{C}}^{4} - 6 \\, {\\mathcal{C}}^{5} - 20 i \\, \\sqrt{3} \\sqrt{5 \\, {\\mathcal{C}}^{2} - 8} {\\mathcal{C}}^{3} - 120 \\, {\\mathcal{C}}^{4} + 20 i \\, \\sqrt{3} \\sqrt{5 \\, {\\mathcal{C}}^{2} - 8} {\\mathcal{C}}^{2} - 60 \\, {\\mathcal{C}}^{3} + 28 i \\, \\sqrt{3} \\sqrt{5 \\, {\\mathcal{C}}^{2} - 8} {\\mathcal{C}} + 60 \\, {\\mathcal{C}}^{2} + 8 i \\, \\sqrt{3} \\sqrt{5 \\, {\\mathcal{C}}^{2} - 8} + 120 \\, {\\mathcal{C}} + 48\\right)} {\\left({\\mathcal{C}} + 1\\right)}^{2} {\\left({\\mathcal{C}} - 1\\right)}}{27 i \\, \\sqrt{3} \\sqrt{5 \\, {\\mathcal{C}}^{2} - 8} {\\mathcal{C}}^{5} - 99 \\, {\\mathcal{C}}^{6} + 540 \\, {\\mathcal{C}}^{4} - 108 i \\, \\sqrt{3} \\sqrt{5 \\, {\\mathcal{C}}^{2} - 8} {\\mathcal{C}} - 540 \\, {\\mathcal{C}}^{2} - 144}\\)</html>"
      ],
      "text/latex": [
       "$\\displaystyle -\\frac{8 \\, {\\left(i \\, \\sqrt{3} \\sqrt{5 \\, {\\mathcal{C}}^{2} - 8} {\\mathcal{C}}^{5} + 39 \\, {\\mathcal{C}}^{6} - 10 i \\, \\sqrt{3} \\sqrt{5 \\, {\\mathcal{C}}^{2} - 8} {\\mathcal{C}}^{4} - 6 \\, {\\mathcal{C}}^{5} - 20 i \\, \\sqrt{3} \\sqrt{5 \\, {\\mathcal{C}}^{2} - 8} {\\mathcal{C}}^{3} - 120 \\, {\\mathcal{C}}^{4} + 20 i \\, \\sqrt{3} \\sqrt{5 \\, {\\mathcal{C}}^{2} - 8} {\\mathcal{C}}^{2} - 60 \\, {\\mathcal{C}}^{3} + 28 i \\, \\sqrt{3} \\sqrt{5 \\, {\\mathcal{C}}^{2} - 8} {\\mathcal{C}} + 60 \\, {\\mathcal{C}}^{2} + 8 i \\, \\sqrt{3} \\sqrt{5 \\, {\\mathcal{C}}^{2} - 8} + 120 \\, {\\mathcal{C}} + 48\\right)} {\\left({\\mathcal{C}} + 1\\right)}^{2} {\\left({\\mathcal{C}} - 1\\right)}}{27 i \\, \\sqrt{3} \\sqrt{5 \\, {\\mathcal{C}}^{2} - 8} {\\mathcal{C}}^{5} - 99 \\, {\\mathcal{C}}^{6} + 540 \\, {\\mathcal{C}}^{4} - 108 i \\, \\sqrt{3} \\sqrt{5 \\, {\\mathcal{C}}^{2} - 8} {\\mathcal{C}} - 540 \\, {\\mathcal{C}}^{2} - 144}$"
      ],
      "text/plain": [
       "-8*(I*sqrt(3)*sqrt(5*C^2 - 8)*C^5 + 39*C^6 - 10*I*sqrt(3)*sqrt(5*C^2 - 8)*C^4 - 6*C^5 - 20*I*sqrt(3)*sqrt(5*C^2 - 8)*C^3 - 120*C^4 + 20*I*sqrt(3)*sqrt(5*C^2 - 8)*C^2 - 60*C^3 + 28*I*sqrt(3)*sqrt(5*C^2 - 8)*C + 60*C^2 + 8*I*sqrt(3)*sqrt(5*C^2 - 8) + 120*C + 48)*(C + 1)^2*(C - 1)/(27*I*sqrt(3)*sqrt(5*C^2 - 8)*C^5 - 99*C^6 + 540*C^4 - 108*I*sqrt(3)*sqrt(5*C^2 - 8)*C - 540*C^2 - 144)"
      ]
     },
     "metadata": {},
     "output_type": "display_data"
    },
    {
     "name": "stdout",
     "output_type": "stream",
     "text": [
      "Kreiss Lopatinskii determinant at z = 1\n"
     ]
    },
    {
     "data": {
      "text/html": [
       "<html>\\(\\displaystyle \\frac{4 \\, {\\left(2 \\, {\\mathcal{C}}^{2} {z} - 2 \\, {\\mathcal{C}}^{2} + 15 \\, {\\mathcal{C}} {z} - 9 \\, {\\mathcal{C}} - 2 \\, {z} + 2\\right)} {\\mathcal{C}}}{3 \\, {\\left({z} - 1\\right)}}\\)</html>"
      ],
      "text/latex": [
       "$\\displaystyle \\frac{4 \\, {\\left(2 \\, {\\mathcal{C}}^{2} {z} - 2 \\, {\\mathcal{C}}^{2} + 15 \\, {\\mathcal{C}} {z} - 9 \\, {\\mathcal{C}} - 2 \\, {z} + 2\\right)} {\\mathcal{C}}}{3 \\, {\\left({z} - 1\\right)}}$"
      ],
      "text/plain": [
       "4/3*(2*C^2*z - 2*C^2 + 15*C*z - 9*C - 2*z + 2)*C/(z - 1)"
      ]
     },
     "metadata": {},
     "output_type": "display_data"
    },
    {
     "name": "stdout",
     "output_type": "stream",
     "text": [
      "Computation of the long-time solution for the source term in the experiments using residues\n",
      "m1_j^n equals approximately\n"
     ]
    },
    {
     "data": {
      "text/html": [
       "<html>\\(\\displaystyle 0\\)</html>"
      ],
      "text/latex": [
       "$\\displaystyle 0$"
      ],
      "text/plain": [
       "0"
      ]
     },
     "metadata": {},
     "output_type": "display_data"
    },
    {
     "name": "stdout",
     "output_type": "stream",
     "text": [
      "m2_j^n equals approximately\n"
     ]
    },
    {
     "data": {
      "text/html": [
       "<html>\\(\\displaystyle \\frac{4 \\, {\\left(i \\, \\sqrt{3} \\sqrt{5 \\, {\\mathcal{C}}^{2} - 8} {\\mathcal{C}}^{6} + 39 \\, {\\mathcal{C}}^{7} - 30 i \\, \\sqrt{3} \\sqrt{5 \\, {\\mathcal{C}}^{2} - 8} {\\mathcal{C}}^{4} - 126 \\, {\\mathcal{C}}^{5} + 48 i \\, \\sqrt{3} \\sqrt{5 \\, {\\mathcal{C}}^{2} - 8} {\\mathcal{C}}^{2} + 8 i \\, \\sqrt{3} \\sqrt{5 \\, {\\mathcal{C}}^{2} - 8} + 168 \\, {\\mathcal{C}}\\right)} \\left(-1\\right)^{n} {\\left({\\mathcal{C}} - 1\\right)}}{19 i \\, \\sqrt{3} \\sqrt{5 \\, {\\mathcal{C}}^{2} - 8} {\\mathcal{C}}^{7} - 27 \\, {\\mathcal{C}}^{8} + 2 i \\, \\sqrt{3} \\sqrt{5 \\, {\\mathcal{C}}^{2} - 8} {\\mathcal{C}}^{6} + 78 \\, {\\mathcal{C}}^{7} - 48 i \\, \\sqrt{3} \\sqrt{5 \\, {\\mathcal{C}}^{2} - 8} {\\mathcal{C}}^{5} + 300 \\, {\\mathcal{C}}^{6} - 60 i \\, \\sqrt{3} \\sqrt{5 \\, {\\mathcal{C}}^{2} - 8} {\\mathcal{C}}^{4} - 252 \\, {\\mathcal{C}}^{5} - 24 i \\, \\sqrt{3} \\sqrt{5 \\, {\\mathcal{C}}^{2} - 8} {\\mathcal{C}}^{3} - 720 \\, {\\mathcal{C}}^{4} + 96 i \\, \\sqrt{3} \\sqrt{5 \\, {\\mathcal{C}}^{2} - 8} {\\mathcal{C}}^{2} + 80 i \\, \\sqrt{3} \\sqrt{5 \\, {\\mathcal{C}}^{2} - 8} {\\mathcal{C}} + 432 \\, {\\mathcal{C}}^{2} + 16 i \\, \\sqrt{3} \\sqrt{5 \\, {\\mathcal{C}}^{2} - 8} + 336 \\, {\\mathcal{C}} + 96}\\)</html>"
      ],
      "text/latex": [
       "$\\displaystyle \\frac{4 \\, {\\left(i \\, \\sqrt{3} \\sqrt{5 \\, {\\mathcal{C}}^{2} - 8} {\\mathcal{C}}^{6} + 39 \\, {\\mathcal{C}}^{7} - 30 i \\, \\sqrt{3} \\sqrt{5 \\, {\\mathcal{C}}^{2} - 8} {\\mathcal{C}}^{4} - 126 \\, {\\mathcal{C}}^{5} + 48 i \\, \\sqrt{3} \\sqrt{5 \\, {\\mathcal{C}}^{2} - 8} {\\mathcal{C}}^{2} + 8 i \\, \\sqrt{3} \\sqrt{5 \\, {\\mathcal{C}}^{2} - 8} + 168 \\, {\\mathcal{C}}\\right)} \\left(-1\\right)^{n} {\\left({\\mathcal{C}} - 1\\right)}}{19 i \\, \\sqrt{3} \\sqrt{5 \\, {\\mathcal{C}}^{2} - 8} {\\mathcal{C}}^{7} - 27 \\, {\\mathcal{C}}^{8} + 2 i \\, \\sqrt{3} \\sqrt{5 \\, {\\mathcal{C}}^{2} - 8} {\\mathcal{C}}^{6} + 78 \\, {\\mathcal{C}}^{7} - 48 i \\, \\sqrt{3} \\sqrt{5 \\, {\\mathcal{C}}^{2} - 8} {\\mathcal{C}}^{5} + 300 \\, {\\mathcal{C}}^{6} - 60 i \\, \\sqrt{3} \\sqrt{5 \\, {\\mathcal{C}}^{2} - 8} {\\mathcal{C}}^{4} - 252 \\, {\\mathcal{C}}^{5} - 24 i \\, \\sqrt{3} \\sqrt{5 \\, {\\mathcal{C}}^{2} - 8} {\\mathcal{C}}^{3} - 720 \\, {\\mathcal{C}}^{4} + 96 i \\, \\sqrt{3} \\sqrt{5 \\, {\\mathcal{C}}^{2} - 8} {\\mathcal{C}}^{2} + 80 i \\, \\sqrt{3} \\sqrt{5 \\, {\\mathcal{C}}^{2} - 8} {\\mathcal{C}} + 432 \\, {\\mathcal{C}}^{2} + 16 i \\, \\sqrt{3} \\sqrt{5 \\, {\\mathcal{C}}^{2} - 8} + 336 \\, {\\mathcal{C}} + 96}$"
      ],
      "text/plain": [
       "4*(I*sqrt(3)*sqrt(5*C^2 - 8)*C^6 + 39*C^7 - 30*I*sqrt(3)*sqrt(5*C^2 - 8)*C^4 - 126*C^5 + 48*I*sqrt(3)*sqrt(5*C^2 - 8)*C^2 + 8*I*sqrt(3)*sqrt(5*C^2 - 8) + 168*C)*(-1)^n*(C - 1)/(19*I*sqrt(3)*sqrt(5*C^2 - 8)*C^7 - 27*C^8 + 2*I*sqrt(3)*sqrt(5*C^2 - 8)*C^6 + 78*C^7 - 48*I*sqrt(3)*sqrt(5*C^2 - 8)*C^5 + 300*C^6 - 60*I*sqrt(3)*sqrt(5*C^2 - 8)*C^4 - 252*C^5 - 24*I*sqrt(3)*sqrt(5*C^2 - 8)*C^3 - 720*C^4 + 96*I*sqrt(3)*sqrt(5*C^2 - 8)*C^2 + 80*I*sqrt(3)*sqrt(5*C^2 - 8)*C + 432*C^2 + 16*I*sqrt(3)*sqrt(5*C^2 - 8) + 336*C + 96)"
      ]
     },
     "metadata": {},
     "output_type": "display_data"
    },
    {
     "name": "stdout",
     "output_type": "stream",
     "text": [
      "m3_j^n equals approximately\n"
     ]
    },
    {
     "data": {
      "text/html": [
       "<html>\\(\\displaystyle -\\frac{4 \\, {\\left(3 i \\, \\sqrt{3} \\sqrt{5 \\, {\\mathcal{C}}^{2} - 8} {\\mathcal{C}}^{5} - 11 \\, {\\mathcal{C}}^{6} + 60 \\, {\\mathcal{C}}^{4} - 12 i \\, \\sqrt{3} \\sqrt{5 \\, {\\mathcal{C}}^{2} - 8} {\\mathcal{C}} - 60 \\, {\\mathcal{C}}^{2} - 16\\right)} \\left(-1\\right)^{n} {\\left({\\mathcal{C}} - 1\\right)}}{i \\, \\sqrt{3} \\sqrt{5 \\, {\\mathcal{C}}^{2} - 8} {\\mathcal{C}}^{5} + 39 \\, {\\mathcal{C}}^{6} - 10 i \\, \\sqrt{3} \\sqrt{5 \\, {\\mathcal{C}}^{2} - 8} {\\mathcal{C}}^{4} - 6 \\, {\\mathcal{C}}^{5} - 20 i \\, \\sqrt{3} \\sqrt{5 \\, {\\mathcal{C}}^{2} - 8} {\\mathcal{C}}^{3} - 120 \\, {\\mathcal{C}}^{4} + 20 i \\, \\sqrt{3} \\sqrt{5 \\, {\\mathcal{C}}^{2} - 8} {\\mathcal{C}}^{2} - 60 \\, {\\mathcal{C}}^{3} + 28 i \\, \\sqrt{3} \\sqrt{5 \\, {\\mathcal{C}}^{2} - 8} {\\mathcal{C}} + 60 \\, {\\mathcal{C}}^{2} + 8 i \\, \\sqrt{3} \\sqrt{5 \\, {\\mathcal{C}}^{2} - 8} + 120 \\, {\\mathcal{C}} + 48}\\)</html>"
      ],
      "text/latex": [
       "$\\displaystyle -\\frac{4 \\, {\\left(3 i \\, \\sqrt{3} \\sqrt{5 \\, {\\mathcal{C}}^{2} - 8} {\\mathcal{C}}^{5} - 11 \\, {\\mathcal{C}}^{6} + 60 \\, {\\mathcal{C}}^{4} - 12 i \\, \\sqrt{3} \\sqrt{5 \\, {\\mathcal{C}}^{2} - 8} {\\mathcal{C}} - 60 \\, {\\mathcal{C}}^{2} - 16\\right)} \\left(-1\\right)^{n} {\\left({\\mathcal{C}} - 1\\right)}}{i \\, \\sqrt{3} \\sqrt{5 \\, {\\mathcal{C}}^{2} - 8} {\\mathcal{C}}^{5} + 39 \\, {\\mathcal{C}}^{6} - 10 i \\, \\sqrt{3} \\sqrt{5 \\, {\\mathcal{C}}^{2} - 8} {\\mathcal{C}}^{4} - 6 \\, {\\mathcal{C}}^{5} - 20 i \\, \\sqrt{3} \\sqrt{5 \\, {\\mathcal{C}}^{2} - 8} {\\mathcal{C}}^{3} - 120 \\, {\\mathcal{C}}^{4} + 20 i \\, \\sqrt{3} \\sqrt{5 \\, {\\mathcal{C}}^{2} - 8} {\\mathcal{C}}^{2} - 60 \\, {\\mathcal{C}}^{3} + 28 i \\, \\sqrt{3} \\sqrt{5 \\, {\\mathcal{C}}^{2} - 8} {\\mathcal{C}} + 60 \\, {\\mathcal{C}}^{2} + 8 i \\, \\sqrt{3} \\sqrt{5 \\, {\\mathcal{C}}^{2} - 8} + 120 \\, {\\mathcal{C}} + 48}$"
      ],
      "text/plain": [
       "-4*(3*I*sqrt(3)*sqrt(5*C^2 - 8)*C^5 - 11*C^6 + 60*C^4 - 12*I*sqrt(3)*sqrt(5*C^2 - 8)*C - 60*C^2 - 16)*(-1)^n*(C - 1)/(I*sqrt(3)*sqrt(5*C^2 - 8)*C^5 + 39*C^6 - 10*I*sqrt(3)*sqrt(5*C^2 - 8)*C^4 - 6*C^5 - 20*I*sqrt(3)*sqrt(5*C^2 - 8)*C^3 - 120*C^4 + 20*I*sqrt(3)*sqrt(5*C^2 - 8)*C^2 - 60*C^3 + 28*I*sqrt(3)*sqrt(5*C^2 - 8)*C + 60*C^2 + 8*I*sqrt(3)*sqrt(5*C^2 - 8) + 120*C + 48)"
      ]
     },
     "metadata": {},
     "output_type": "display_data"
    }
   ],
   "source": [
    "print(\"======= Extrapolation sigma = 1 ======\")\n",
    "\n",
    "for i in range(q):\n",
    "    for j in range(q):\n",
    "        bd00[i, j] = bdMat_sigma1[i, j].full_simplify().collect(k).coefficient(k, 0)\n",
    "        bd01[i, j] = bdMat_sigma1[i, j].full_simplify().collect(k).coefficient(k, 1)\n",
    "        \n",
    "BKL[:, 0] = (bd00 + bd01*ks)*phiS ### First column\n",
    "BKL[:, 1] = (bd00)*phi01 ### Second column\n",
    "BKL[:, 2] = (bd00)*phi02 ### Third column\n",
    "\n",
    "DetKL = BKL.determinant().full_simplify()\n",
    "\n",
    "print(\"Kreiss Lopatinskii determinant at z = -1\")\n",
    "pretty_print(taylor(DetKL, z, -1, 0).full_simplify().factor())\n",
    "print(\"Kreiss Lopatinskii determinant at z = 1\")\n",
    "pretty_print(taylor(DetKL, z, 1, 0).factor())\n",
    "\n",
    "print(\"Computation of the long-time solution for the source term in the experiments using residues\")\n",
    "var('j')\n",
    "var('n')\n",
    "\n",
    "Cs = -2/3*(2*C**2*z-2*C**2+3*C*z+3*C-2*z+2)*z*g1m1Tilde/DetKL\n",
    "\n",
    "m1 = Cs*z**(n-1)*ks**(j)*phiS[0, 0]\n",
    "m2 = Cs*z**(n-1)*ks**(j)*phiS[1, 0]\n",
    "m3 = Cs*z**(n-1)*ks**(j)*phiS[2, 0]\n",
    "\n",
    "\n",
    "print(\"m1_j^n equals approximately\")\n",
    "pretty_print((m1.full_simplify().maxima_methods().residue(z,-1) \\\n",
    "            + m1.full_simplify().maxima_methods().residue(z,1)).factor())\n",
    "print(\"m2_j^n equals approximately\")\n",
    "pretty_print((m2.full_simplify().maxima_methods().residue(z,-1) \\\n",
    "            + m2.full_simplify().maxima_methods().residue(z,1)).factor())\n",
    "print(\"m3_j^n equals approximately\")\n",
    "pretty_print((m3.full_simplify().maxima_methods().residue(z,-1) \\\n",
    "            + m3.full_simplify().maxima_methods().residue(z,1)).factor())"
   ]
  },
  {
   "cell_type": "code",
   "execution_count": 48,
   "id": "f7e72027",
   "metadata": {},
   "outputs": [
    {
     "name": "stdout",
     "output_type": "stream",
     "text": [
      "======= Extrapolation sigma = 2 ======\n",
      "Kreiss Lopatinskii determinant at z = -1\n"
     ]
    },
    {
     "data": {
      "text/html": [
       "<html>\\(\\displaystyle -\\frac{4 \\, {\\left(7 i \\, \\sqrt{3} \\sqrt{5 \\, {\\mathcal{C}}^{2} - 8} {\\mathcal{C}}^{6} + 17 \\, {\\mathcal{C}}^{7} - 6 i \\, \\sqrt{3} \\sqrt{5 \\, {\\mathcal{C}}^{2} - 8} {\\mathcal{C}}^{5} + 22 \\, {\\mathcal{C}}^{6} - 30 i \\, \\sqrt{3} \\sqrt{5 \\, {\\mathcal{C}}^{2} - 8} {\\mathcal{C}}^{4} - 6 \\, {\\mathcal{C}}^{5} - 120 \\, {\\mathcal{C}}^{4} + 24 i \\, \\sqrt{3} \\sqrt{5 \\, {\\mathcal{C}}^{2} - 8} {\\mathcal{C}}^{2} - 120 \\, {\\mathcal{C}}^{3} + 24 i \\, \\sqrt{3} \\sqrt{5 \\, {\\mathcal{C}}^{2} - 8} {\\mathcal{C}} + 120 \\, {\\mathcal{C}}^{2} + 8 i \\, \\sqrt{3} \\sqrt{5 \\, {\\mathcal{C}}^{2} - 8} + 136 \\, {\\mathcal{C}} + 32\\right)} {\\left({\\mathcal{C}} + 1\\right)} {\\left({z} + 1\\right)}}{9 i \\, \\sqrt{3} \\sqrt{5 \\, {\\mathcal{C}}^{2} - 8} {\\mathcal{C}}^{5} - 33 \\, {\\mathcal{C}}^{6} + 180 \\, {\\mathcal{C}}^{4} - 36 i \\, \\sqrt{3} \\sqrt{5 \\, {\\mathcal{C}}^{2} - 8} {\\mathcal{C}} - 180 \\, {\\mathcal{C}}^{2} - 48}\\)</html>"
      ],
      "text/latex": [
       "$\\displaystyle -\\frac{4 \\, {\\left(7 i \\, \\sqrt{3} \\sqrt{5 \\, {\\mathcal{C}}^{2} - 8} {\\mathcal{C}}^{6} + 17 \\, {\\mathcal{C}}^{7} - 6 i \\, \\sqrt{3} \\sqrt{5 \\, {\\mathcal{C}}^{2} - 8} {\\mathcal{C}}^{5} + 22 \\, {\\mathcal{C}}^{6} - 30 i \\, \\sqrt{3} \\sqrt{5 \\, {\\mathcal{C}}^{2} - 8} {\\mathcal{C}}^{4} - 6 \\, {\\mathcal{C}}^{5} - 120 \\, {\\mathcal{C}}^{4} + 24 i \\, \\sqrt{3} \\sqrt{5 \\, {\\mathcal{C}}^{2} - 8} {\\mathcal{C}}^{2} - 120 \\, {\\mathcal{C}}^{3} + 24 i \\, \\sqrt{3} \\sqrt{5 \\, {\\mathcal{C}}^{2} - 8} {\\mathcal{C}} + 120 \\, {\\mathcal{C}}^{2} + 8 i \\, \\sqrt{3} \\sqrt{5 \\, {\\mathcal{C}}^{2} - 8} + 136 \\, {\\mathcal{C}} + 32\\right)} {\\left({\\mathcal{C}} + 1\\right)} {\\left({z} + 1\\right)}}{9 i \\, \\sqrt{3} \\sqrt{5 \\, {\\mathcal{C}}^{2} - 8} {\\mathcal{C}}^{5} - 33 \\, {\\mathcal{C}}^{6} + 180 \\, {\\mathcal{C}}^{4} - 36 i \\, \\sqrt{3} \\sqrt{5 \\, {\\mathcal{C}}^{2} - 8} {\\mathcal{C}} - 180 \\, {\\mathcal{C}}^{2} - 48}$"
      ],
      "text/plain": [
       "-4*(7*I*sqrt(3)*sqrt(5*C^2 - 8)*C^6 + 17*C^7 - 6*I*sqrt(3)*sqrt(5*C^2 - 8)*C^5 + 22*C^6 - 30*I*sqrt(3)*sqrt(5*C^2 - 8)*C^4 - 6*C^5 - 120*C^4 + 24*I*sqrt(3)*sqrt(5*C^2 - 8)*C^2 - 120*C^3 + 24*I*sqrt(3)*sqrt(5*C^2 - 8)*C + 120*C^2 + 8*I*sqrt(3)*sqrt(5*C^2 - 8) + 136*C + 32)*(C + 1)*(z + 1)/(9*I*sqrt(3)*sqrt(5*C^2 - 8)*C^5 - 33*C^6 + 180*C^4 - 36*I*sqrt(3)*sqrt(5*C^2 - 8)*C - 180*C^2 - 48)"
      ]
     },
     "metadata": {},
     "output_type": "display_data"
    },
    {
     "name": "stdout",
     "output_type": "stream",
     "text": [
      "Kreiss Lopatinskii determinant at z = 1\n"
     ]
    },
    {
     "data": {
      "text/html": [
       "<html>\\(\\displaystyle \\frac{8 \\, {\\left(4 \\, {\\mathcal{C}}^{2} {z} - 4 \\, {\\mathcal{C}}^{2} + 15 \\, {\\mathcal{C}} {z} - 9 \\, {\\mathcal{C}} - {z} + 1\\right)} {\\mathcal{C}}}{3 \\, {\\left({z} - 1\\right)}}\\)</html>"
      ],
      "text/latex": [
       "$\\displaystyle \\frac{8 \\, {\\left(4 \\, {\\mathcal{C}}^{2} {z} - 4 \\, {\\mathcal{C}}^{2} + 15 \\, {\\mathcal{C}} {z} - 9 \\, {\\mathcal{C}} - {z} + 1\\right)} {\\mathcal{C}}}{3 \\, {\\left({z} - 1\\right)}}$"
      ],
      "text/plain": [
       "8/3*(4*C^2*z - 4*C^2 + 15*C*z - 9*C - z + 1)*C/(z - 1)"
      ]
     },
     "metadata": {},
     "output_type": "display_data"
    },
    {
     "name": "stdout",
     "output_type": "stream",
     "text": [
      "Computation of the long-time solution for the source term in the experiments using residues\n",
      "m1_j^n equals approximately\n"
     ]
    },
    {
     "data": {
      "text/html": [
       "<html>\\(\\displaystyle -\\frac{2 \\, {\\left(3 i \\, \\sqrt{3} \\sqrt{5 \\, {\\mathcal{C}}^{2} - 8} {\\mathcal{C}}^{5} - 11 \\, {\\mathcal{C}}^{6} + 60 \\, {\\mathcal{C}}^{4} - 12 i \\, \\sqrt{3} \\sqrt{5 \\, {\\mathcal{C}}^{2} - 8} {\\mathcal{C}} - 60 \\, {\\mathcal{C}}^{2} - 16\\right)} \\left(-1\\right)^{n} {\\left({\\mathcal{C}} - 1\\right)}}{7 i \\, \\sqrt{3} \\sqrt{5 \\, {\\mathcal{C}}^{2} - 8} {\\mathcal{C}}^{6} + 17 \\, {\\mathcal{C}}^{7} - 6 i \\, \\sqrt{3} \\sqrt{5 \\, {\\mathcal{C}}^{2} - 8} {\\mathcal{C}}^{5} + 22 \\, {\\mathcal{C}}^{6} - 30 i \\, \\sqrt{3} \\sqrt{5 \\, {\\mathcal{C}}^{2} - 8} {\\mathcal{C}}^{4} - 6 \\, {\\mathcal{C}}^{5} - 120 \\, {\\mathcal{C}}^{4} + 24 i \\, \\sqrt{3} \\sqrt{5 \\, {\\mathcal{C}}^{2} - 8} {\\mathcal{C}}^{2} - 120 \\, {\\mathcal{C}}^{3} + 24 i \\, \\sqrt{3} \\sqrt{5 \\, {\\mathcal{C}}^{2} - 8} {\\mathcal{C}} + 120 \\, {\\mathcal{C}}^{2} + 8 i \\, \\sqrt{3} \\sqrt{5 \\, {\\mathcal{C}}^{2} - 8} + 136 \\, {\\mathcal{C}} + 32}\\)</html>"
      ],
      "text/latex": [
       "$\\displaystyle -\\frac{2 \\, {\\left(3 i \\, \\sqrt{3} \\sqrt{5 \\, {\\mathcal{C}}^{2} - 8} {\\mathcal{C}}^{5} - 11 \\, {\\mathcal{C}}^{6} + 60 \\, {\\mathcal{C}}^{4} - 12 i \\, \\sqrt{3} \\sqrt{5 \\, {\\mathcal{C}}^{2} - 8} {\\mathcal{C}} - 60 \\, {\\mathcal{C}}^{2} - 16\\right)} \\left(-1\\right)^{n} {\\left({\\mathcal{C}} - 1\\right)}}{7 i \\, \\sqrt{3} \\sqrt{5 \\, {\\mathcal{C}}^{2} - 8} {\\mathcal{C}}^{6} + 17 \\, {\\mathcal{C}}^{7} - 6 i \\, \\sqrt{3} \\sqrt{5 \\, {\\mathcal{C}}^{2} - 8} {\\mathcal{C}}^{5} + 22 \\, {\\mathcal{C}}^{6} - 30 i \\, \\sqrt{3} \\sqrt{5 \\, {\\mathcal{C}}^{2} - 8} {\\mathcal{C}}^{4} - 6 \\, {\\mathcal{C}}^{5} - 120 \\, {\\mathcal{C}}^{4} + 24 i \\, \\sqrt{3} \\sqrt{5 \\, {\\mathcal{C}}^{2} - 8} {\\mathcal{C}}^{2} - 120 \\, {\\mathcal{C}}^{3} + 24 i \\, \\sqrt{3} \\sqrt{5 \\, {\\mathcal{C}}^{2} - 8} {\\mathcal{C}} + 120 \\, {\\mathcal{C}}^{2} + 8 i \\, \\sqrt{3} \\sqrt{5 \\, {\\mathcal{C}}^{2} - 8} + 136 \\, {\\mathcal{C}} + 32}$"
      ],
      "text/plain": [
       "-2*(3*I*sqrt(3)*sqrt(5*C^2 - 8)*C^5 - 11*C^6 + 60*C^4 - 12*I*sqrt(3)*sqrt(5*C^2 - 8)*C - 60*C^2 - 16)*(-1)^n*(C - 1)/(7*I*sqrt(3)*sqrt(5*C^2 - 8)*C^6 + 17*C^7 - 6*I*sqrt(3)*sqrt(5*C^2 - 8)*C^5 + 22*C^6 - 30*I*sqrt(3)*sqrt(5*C^2 - 8)*C^4 - 6*C^5 - 120*C^4 + 24*I*sqrt(3)*sqrt(5*C^2 - 8)*C^2 - 120*C^3 + 24*I*sqrt(3)*sqrt(5*C^2 - 8)*C + 120*C^2 + 8*I*sqrt(3)*sqrt(5*C^2 - 8) + 136*C + 32)"
      ]
     },
     "metadata": {},
     "output_type": "display_data"
    },
    {
     "name": "stdout",
     "output_type": "stream",
     "text": [
      "m2_j^n equals approximately\n"
     ]
    },
    {
     "data": {
      "text/html": [
       "<html>\\(\\displaystyle \\frac{2 \\, {\\left(20444 i \\, \\sqrt{3} \\sqrt{5 \\, {\\mathcal{C}}^{2} - 8} {\\mathcal{C}}^{26} n - 139644 \\, {\\mathcal{C}}^{27} n - 433 i \\, \\sqrt{3} \\sqrt{5 \\, {\\mathcal{C}}^{2} - 8} {\\mathcal{C}}^{26} + 160521 \\, {\\mathcal{C}}^{27} - 19578 i \\, \\sqrt{3} \\sqrt{5 \\, {\\mathcal{C}}^{2} - 8} {\\mathcal{C}}^{25} j - 181398 \\, {\\mathcal{C}}^{26} j + 59600 i \\, \\sqrt{3} \\sqrt{5 \\, {\\mathcal{C}}^{2} - 8} {\\mathcal{C}}^{25} n + 223152 \\, {\\mathcal{C}}^{26} n - 70255 i \\, \\sqrt{3} \\sqrt{5 \\, {\\mathcal{C}}^{2} - 8} {\\mathcal{C}}^{25} + 7191 \\, {\\mathcal{C}}^{26} + 100488 i \\, \\sqrt{3} \\sqrt{5 \\, {\\mathcal{C}}^{2} - 8} {\\mathcal{C}}^{24} j - 56136 \\, {\\mathcal{C}}^{25} j + 2012 i \\, \\sqrt{3} \\sqrt{5 \\, {\\mathcal{C}}^{2} - 8} {\\mathcal{C}}^{24} n + 2713524 \\, {\\mathcal{C}}^{25} n - 381406 i \\, \\sqrt{3} \\sqrt{5 \\, {\\mathcal{C}}^{2} - 8} {\\mathcal{C}}^{24} - 2313126 \\, {\\mathcal{C}}^{25} + 660312 i \\, \\sqrt{3} \\sqrt{5 \\, {\\mathcal{C}}^{2} - 8} {\\mathcal{C}}^{23} j + 1968864 \\, {\\mathcal{C}}^{24} j - 1244112 i \\, \\sqrt{3} \\sqrt{5 \\, {\\mathcal{C}}^{2} - 8} {\\mathcal{C}}^{23} n - 945264 \\, {\\mathcal{C}}^{24} n + 826356 i \\, \\sqrt{3} \\sqrt{5 \\, {\\mathcal{C}}^{2} - 8} {\\mathcal{C}}^{23} - 2640768 \\, {\\mathcal{C}}^{24} - 1068912 i \\, \\sqrt{3} \\sqrt{5 \\, {\\mathcal{C}}^{2} - 8} {\\mathcal{C}}^{22} j + 4257936 \\, {\\mathcal{C}}^{23} j - 2660328 i \\, \\sqrt{3} \\sqrt{5 \\, {\\mathcal{C}}^{2} - 8} {\\mathcal{C}}^{22} n - 18699336 \\, {\\mathcal{C}}^{23} n + 4869504 i \\, \\sqrt{3} \\sqrt{5 \\, {\\mathcal{C}}^{2} - 8} {\\mathcal{C}}^{22} + 8254368 \\, {\\mathcal{C}}^{23} - 6009768 i \\, \\sqrt{3} \\sqrt{5 \\, {\\mathcal{C}}^{2} - 8} {\\mathcal{C}}^{21} j - 2067336 \\, {\\mathcal{C}}^{22} j + 7790208 i \\, \\sqrt{3} \\sqrt{5 \\, {\\mathcal{C}}^{2} - 8} {\\mathcal{C}}^{21} n - 15257664 \\, {\\mathcal{C}}^{22} n - 1369884 i \\, \\sqrt{3} \\sqrt{5 \\, {\\mathcal{C}}^{2} - 8} {\\mathcal{C}}^{21} + 30594132 \\, {\\mathcal{C}}^{22} + 959328 i \\, \\sqrt{3} \\sqrt{5 \\, {\\mathcal{C}}^{2} - 8} {\\mathcal{C}}^{20} j - 43863264 \\, {\\mathcal{C}}^{21} j + 21277552 i \\, \\sqrt{3} \\sqrt{5 \\, {\\mathcal{C}}^{2} - 8} {\\mathcal{C}}^{20} n + 50259024 \\, {\\mathcal{C}}^{21} n - 22375016 i \\, \\sqrt{3} \\sqrt{5 \\, {\\mathcal{C}}^{2} - 8} {\\mathcal{C}}^{20} + 26865048 \\, {\\mathcal{C}}^{21} + 22513152 i \\, \\sqrt{3} \\sqrt{5 \\, {\\mathcal{C}}^{2} - 8} {\\mathcal{C}}^{19} j - 60125856 \\, {\\mathcal{C}}^{20} j - 15028352 i \\, \\sqrt{3} \\sqrt{5 \\, {\\mathcal{C}}^{2} - 8} {\\mathcal{C}}^{19} n + 145076736 \\, {\\mathcal{C}}^{20} n - 16721024 i \\, \\sqrt{3} \\sqrt{5 \\, {\\mathcal{C}}^{2} - 8} {\\mathcal{C}}^{19} - 126496368 \\, {\\mathcal{C}}^{20} + 25957248 i \\, \\sqrt{3} \\sqrt{5 \\, {\\mathcal{C}}^{2} - 8} {\\mathcal{C}}^{18} j + 168041856 \\, {\\mathcal{C}}^{19} j - 72626048 i \\, \\sqrt{3} \\sqrt{5 \\, {\\mathcal{C}}^{2} - 8} {\\mathcal{C}}^{18} n + 31724544 \\, {\\mathcal{C}}^{19} n + 35347024 i \\, \\sqrt{3} \\sqrt{5 \\, {\\mathcal{C}}^{2} - 8} {\\mathcal{C}}^{18} - 281723472 \\, {\\mathcal{C}}^{19} - 24025248 i \\, \\sqrt{3} \\sqrt{5 \\, {\\mathcal{C}}^{2} - 8} {\\mathcal{C}}^{17} j + 363680544 \\, {\\mathcal{C}}^{18} j - 31479552 i \\, \\sqrt{3} \\sqrt{5 \\, {\\mathcal{C}}^{2} - 8} {\\mathcal{C}}^{17} n - 497612544 \\, {\\mathcal{C}}^{18} n + 88780176 i \\, \\sqrt{3} \\sqrt{5 \\, {\\mathcal{C}}^{2} - 8} {\\mathcal{C}}^{17} + 155610672 \\, {\\mathcal{C}}^{18} - 122055552 i \\, \\sqrt{3} \\sqrt{5 \\, {\\mathcal{C}}^{2} - 8} {\\mathcal{C}}^{16} j - 177289344 \\, {\\mathcal{C}}^{17} j + 108067392 i \\, \\sqrt{3} \\sqrt{5 \\, {\\mathcal{C}}^{2} - 8} {\\mathcal{C}}^{16} n - 559711296 \\, {\\mathcal{C}}^{17} n + 48445344 i \\, \\sqrt{3} \\sqrt{5 \\, {\\mathcal{C}}^{2} - 8} {\\mathcal{C}}^{16} + 817056288 \\, {\\mathcal{C}}^{17} - 82902528 i \\, \\sqrt{3} \\sqrt{5 \\, {\\mathcal{C}}^{2} - 8} {\\mathcal{C}}^{15} j - 897111936 \\, {\\mathcal{C}}^{16} j + 191720448 i \\, \\sqrt{3} \\sqrt{5 \\, {\\mathcal{C}}^{2} - 8} {\\mathcal{C}}^{15} n + 699480576 \\, {\\mathcal{C}}^{16} n - 152711424 i \\, \\sqrt{3} \\sqrt{5 \\, {\\mathcal{C}}^{2} - 8} {\\mathcal{C}}^{15} + 379069632 \\, {\\mathcal{C}}^{16} + 196604928 i \\, \\sqrt{3} \\sqrt{5 \\, {\\mathcal{C}}^{2} - 8} {\\mathcal{C}}^{14} j - 560507904 \\, {\\mathcal{C}}^{15} j + 12559872 i \\, \\sqrt{3} \\sqrt{5 \\, {\\mathcal{C}}^{2} - 8} {\\mathcal{C}}^{14} n + 1492176384 \\, {\\mathcal{C}}^{15} n - 254363136 i \\, \\sqrt{3} \\sqrt{5 \\, {\\mathcal{C}}^{2} - 8} {\\mathcal{C}}^{14} - 877496832 \\, {\\mathcal{C}}^{15} + 299561472 i \\, \\sqrt{3} \\sqrt{5 \\, {\\mathcal{C}}^{2} - 8} {\\mathcal{C}}^{13} j + 823325184 \\, {\\mathcal{C}}^{14} j - 317571072 i \\, \\sqrt{3} \\sqrt{5 \\, {\\mathcal{C}}^{2} - 8} {\\mathcal{C}}^{13} n + 138940416 \\, {\\mathcal{C}}^{14} n + 12423936 i \\, \\sqrt{3} \\sqrt{5 \\, {\\mathcal{C}}^{2} - 8} {\\mathcal{C}}^{13} - 1423588608 \\, {\\mathcal{C}}^{14} - 6838272 i \\, \\sqrt{3} \\sqrt{5 \\, {\\mathcal{C}}^{2} - 8} {\\mathcal{C}}^{12} j + 1884911616 \\, {\\mathcal{C}}^{13} j - 273988608 i \\, \\sqrt{3} \\sqrt{5 \\, {\\mathcal{C}}^{2} - 8} {\\mathcal{C}}^{12} n - 1687458816 \\, {\\mathcal{C}}^{13} n + 304310784 i \\, \\sqrt{3} \\sqrt{5 \\, {\\mathcal{C}}^{2} - 8} {\\mathcal{C}}^{12} - 429000192 \\, {\\mathcal{C}}^{13} - 327794688 i \\, \\sqrt{3} \\sqrt{5 \\, {\\mathcal{C}}^{2} - 8} {\\mathcal{C}}^{11} j + 660547584 \\, {\\mathcal{C}}^{12} j + 142368768 i \\, \\sqrt{3} \\sqrt{5 \\, {\\mathcal{C}}^{2} - 8} {\\mathcal{C}}^{11} n - 1694121984 \\, {\\mathcal{C}}^{12} n + 254509056 i \\, \\sqrt{3} \\sqrt{5 \\, {\\mathcal{C}}^{2} - 8} {\\mathcal{C}}^{11} + 1429281792 \\, {\\mathcal{C}}^{12} - 323592192 i \\, \\sqrt{3} \\sqrt{5 \\, {\\mathcal{C}}^{2} - 8} {\\mathcal{C}}^{10} j - 1824989184 \\, {\\mathcal{C}}^{11} j + 344881152 i \\, \\sqrt{3} \\sqrt{5 \\, {\\mathcal{C}}^{2} - 8} {\\mathcal{C}}^{10} n + 287483904 \\, {\\mathcal{C}}^{11} n - 12013056 i \\, \\sqrt{3} \\sqrt{5 \\, {\\mathcal{C}}^{2} - 8} {\\mathcal{C}}^{10} + 1799290368 \\, {\\mathcal{C}}^{11} + 2737152 i \\, \\sqrt{3} \\sqrt{5 \\, {\\mathcal{C}}^{2} - 8} {\\mathcal{C}}^{9} j - 2061075456 \\, {\\mathcal{C}}^{10} j + 167067648 i \\, \\sqrt{3} \\sqrt{5 \\, {\\mathcal{C}}^{2} - 8} {\\mathcal{C}}^{9} n + 1907490816 \\, {\\mathcal{C}}^{10} n - 224193024 i \\, \\sqrt{3} \\sqrt{5 \\, {\\mathcal{C}}^{2} - 8} {\\mathcal{C}}^{9} + 160123392 \\, {\\mathcal{C}}^{10} + 278581248 i \\, \\sqrt{3} \\sqrt{5 \\, {\\mathcal{C}}^{2} - 8} {\\mathcal{C}}^{8} j - 166662144 \\, {\\mathcal{C}}^{9} j - 100610048 i \\, \\sqrt{3} \\sqrt{5 \\, {\\mathcal{C}}^{2} - 8} {\\mathcal{C}}^{8} n + 1170284544 \\, {\\mathcal{C}}^{9} n - 198910976 i \\, \\sqrt{3} \\sqrt{5 \\, {\\mathcal{C}}^{2} - 8} {\\mathcal{C}}^{8} - 1133417472 \\, {\\mathcal{C}}^{9} + 219850752 i \\, \\sqrt{3} \\sqrt{5 \\, {\\mathcal{C}}^{2} - 8} {\\mathcal{C}}^{7} j + 1263212544 \\, {\\mathcal{C}}^{8} j - 185495552 i \\, \\sqrt{3} \\sqrt{5 \\, {\\mathcal{C}}^{2} - 8} {\\mathcal{C}}^{7} n - 443756544 \\, {\\mathcal{C}}^{8} n - 31437824 i \\, \\sqrt{3} \\sqrt{5 \\, {\\mathcal{C}}^{2} - 8} {\\mathcal{C}}^{7} - 1008995328 \\, {\\mathcal{C}}^{8} + 28520448 i \\, \\sqrt{3} \\sqrt{5 \\, {\\mathcal{C}}^{2} - 8} {\\mathcal{C}}^{6} j + 1198534656 \\, {\\mathcal{C}}^{7} j - 83376128 i \\, \\sqrt{3} \\sqrt{5 \\, {\\mathcal{C}}^{2} - 8} {\\mathcal{C}}^{6} n - 928536576 \\, {\\mathcal{C}}^{7} n + 64835584 i \\, \\sqrt{3} \\sqrt{5 \\, {\\mathcal{C}}^{2} - 8} {\\mathcal{C}}^{6} - 272904192 \\, {\\mathcal{C}}^{7} - 74815488 i \\, \\sqrt{3} \\sqrt{5 \\, {\\mathcal{C}}^{2} - 8} {\\mathcal{C}}^{5} j + 275810304 \\, {\\mathcal{C}}^{6} j + 18382848 i \\, \\sqrt{3} \\sqrt{5 \\, {\\mathcal{C}}^{2} - 8} {\\mathcal{C}}^{5} n - 457949184 \\, {\\mathcal{C}}^{6} n + 64306176 i \\, \\sqrt{3} \\sqrt{5 \\, {\\mathcal{C}}^{2} - 8} {\\mathcal{C}}^{5} + 254487552 \\, {\\mathcal{C}}^{6} - 72179712 i \\, \\sqrt{3} \\sqrt{5 \\, {\\mathcal{C}}^{2} - 8} {\\mathcal{C}}^{4} j - 326836224 \\, {\\mathcal{C}}^{5} j + 39555072 i \\, \\sqrt{3} \\sqrt{5 \\, {\\mathcal{C}}^{2} - 8} {\\mathcal{C}}^{4} n + 46116864 \\, {\\mathcal{C}}^{5} n + 33122304 i \\, \\sqrt{3} \\sqrt{5 \\, {\\mathcal{C}}^{2} - 8} {\\mathcal{C}}^{4} + 309454848 \\, {\\mathcal{C}}^{5} - 33619968 i \\, \\sqrt{3} \\sqrt{5 \\, {\\mathcal{C}}^{2} - 8} {\\mathcal{C}}^{3} j - 338190336 \\, {\\mathcal{C}}^{4} j + 22315008 i \\, \\sqrt{3} \\sqrt{5 \\, {\\mathcal{C}}^{2} - 8} {\\mathcal{C}}^{3} n + 185204736 \\, {\\mathcal{C}}^{4} n + 10223616 i \\, \\sqrt{3} \\sqrt{5 \\, {\\mathcal{C}}^{2} - 8} {\\mathcal{C}}^{3} + 157151232 \\, {\\mathcal{C}}^{4} - 9142272 i \\, \\sqrt{3} \\sqrt{5 \\, {\\mathcal{C}}^{2} - 8} {\\mathcal{C}}^{2} j - 161316864 \\, {\\mathcal{C}}^{3} j + 6815744 i \\, \\sqrt{3} \\sqrt{5 \\, {\\mathcal{C}}^{2} - 8} {\\mathcal{C}}^{2} n + 108232704 \\, {\\mathcal{C}}^{3} n + 1888256 i \\, \\sqrt{3} \\sqrt{5 \\, {\\mathcal{C}}^{2} - 8} {\\mathcal{C}}^{2} + 49164288 \\, {\\mathcal{C}}^{3} - 1449984 i \\, \\sqrt{3} \\sqrt{5 \\, {\\mathcal{C}}^{2} - 8} {\\mathcal{C}} j - 45244416 \\, {\\mathcal{C}}^{2} j + 1114112 i \\, \\sqrt{3} \\sqrt{5 \\, {\\mathcal{C}}^{2} - 8} {\\mathcal{C}} n + 32833536 \\, {\\mathcal{C}}^{2} n + 217088 i \\, \\sqrt{3} \\sqrt{5 \\, {\\mathcal{C}}^{2} - 8} {\\mathcal{C}} + 9695232 \\, {\\mathcal{C}}^{2} - 98304 i \\, \\sqrt{3} \\sqrt{5 \\, {\\mathcal{C}}^{2} - 8} j - 6979584 \\, {\\mathcal{C}} j + 81920 i \\, \\sqrt{3} \\sqrt{5 \\, {\\mathcal{C}}^{2} - 8} n + 5554176 \\, {\\mathcal{C}} n + 8192 i \\, \\sqrt{3} \\sqrt{5 \\, {\\mathcal{C}}^{2} - 8} + 958464 \\, {\\mathcal{C}} - 491520 \\, j + 393216 \\, n + 49152\\right)} \\left(-1\\right)^{n} {\\left({\\mathcal{C}} - 1\\right)}}{40455 i \\, \\sqrt{3} \\sqrt{5 \\, {\\mathcal{C}}^{2} - 8} {\\mathcal{C}}^{26} - 118767 \\, {\\mathcal{C}}^{27} + 58734 i \\, \\sqrt{3} \\sqrt{5 \\, {\\mathcal{C}}^{2} - 8} {\\mathcal{C}}^{25} + 544194 \\, {\\mathcal{C}}^{26} - 427626 i \\, \\sqrt{3} \\sqrt{5 \\, {\\mathcal{C}}^{2} - 8} {\\mathcal{C}}^{24} + 3141990 \\, {\\mathcal{C}}^{25} - 1992024 i \\, \\sqrt{3} \\sqrt{5 \\, {\\mathcal{C}}^{2} - 8} {\\mathcal{C}}^{23} - 5515728 \\, {\\mathcal{C}}^{24} + 83304 i \\, \\sqrt{3} \\sqrt{5 \\, {\\mathcal{C}}^{2} - 8} {\\mathcal{C}}^{22} - 31273272 \\, {\\mathcal{C}}^{23} + 17215416 i \\, \\sqrt{3} \\sqrt{5 \\, {\\mathcal{C}}^{2} - 8} {\\mathcal{C}}^{21} + 1112472 \\, {\\mathcal{C}}^{22} + 19700424 i \\, \\sqrt{3} \\sqrt{5 \\, {\\mathcal{C}}^{2} - 8} {\\mathcal{C}}^{20} + 149314728 \\, {\\mathcal{C}}^{21} - 58034304 i \\, \\sqrt{3} \\sqrt{5 \\, {\\mathcal{C}}^{2} - 8} {\\mathcal{C}}^{19} + 193720032 \\, {\\mathcal{C}}^{20} - 122883696 i \\, \\sqrt{3} \\sqrt{5 \\, {\\mathcal{C}}^{2} - 8} {\\mathcal{C}}^{18} - 302295312 \\, {\\mathcal{C}}^{19} + 37833696 i \\, \\sqrt{3} \\sqrt{5 \\, {\\mathcal{C}}^{2} - 8} {\\mathcal{C}}^{17} - 1021454688 \\, {\\mathcal{C}}^{18} + 325607904 i \\, \\sqrt{3} \\sqrt{5 \\, {\\mathcal{C}}^{2} - 8} {\\mathcal{C}}^{16} - 213721632 \\, {\\mathcal{C}}^{17} + 272180736 i \\, \\sqrt{3} \\sqrt{5 \\, {\\mathcal{C}}^{2} - 8} {\\mathcal{C}}^{15} + 2226586752 \\, {\\mathcal{C}}^{16} - 327545856 i \\, \\sqrt{3} \\sqrt{5 \\, {\\mathcal{C}}^{2} - 8} {\\mathcal{C}}^{14} + 2387109888 \\, {\\mathcal{C}}^{15} - 772498944 i \\, \\sqrt{3} \\sqrt{5 \\, {\\mathcal{C}}^{2} - 8} {\\mathcal{C}}^{13} - 1557370368 \\, {\\mathcal{C}}^{14} - 240247296 i \\, \\sqrt{3} \\sqrt{5 \\, {\\mathcal{C}}^{2} - 8} {\\mathcal{C}}^{12} - 4746373632 \\, {\\mathcal{C}}^{13} + 703143936 i \\, \\sqrt{3} \\sqrt{5 \\, {\\mathcal{C}}^{2} - 8} {\\mathcal{C}}^{11} - 2289235968 \\, {\\mathcal{C}}^{12} + 839545344 i \\, \\sqrt{3} \\sqrt{5 \\, {\\mathcal{C}}^{2} - 8} {\\mathcal{C}}^{10} + 3286752768 \\, {\\mathcal{C}}^{11} + 108573696 i \\, \\sqrt{3} \\sqrt{5 \\, {\\mathcal{C}}^{2} - 8} {\\mathcal{C}}^{9} + 5005642752 \\, {\\mathcal{C}}^{10} - 539421696 i \\, \\sqrt{3} \\sqrt{5 \\, {\\mathcal{C}}^{2} - 8} {\\mathcal{C}}^{8} + 1290482688 \\, {\\mathcal{C}}^{9} - 512354304 i \\, \\sqrt{3} \\sqrt{5 \\, {\\mathcal{C}}^{2} - 8} {\\mathcal{C}}^{7} - 2528114688 \\, {\\mathcal{C}}^{8} - 116176896 i \\, \\sqrt{3} \\sqrt{5 \\, {\\mathcal{C}}^{2} - 8} {\\mathcal{C}}^{6} - 2729244672 \\, {\\mathcal{C}}^{7} + 138479616 i \\, \\sqrt{3} \\sqrt{5 \\, {\\mathcal{C}}^{2} - 8} {\\mathcal{C}}^{5} - 799315968 \\, {\\mathcal{C}}^{6} + 148322304 i \\, \\sqrt{3} \\sqrt{5 \\, {\\mathcal{C}}^{2} - 8} {\\mathcal{C}}^{4} + 565106688 \\, {\\mathcal{C}}^{5} + 71663616 i \\, \\sqrt{3} \\sqrt{5 \\, {\\mathcal{C}}^{2} - 8} {\\mathcal{C}}^{3} + 696655872 \\, {\\mathcal{C}}^{4} + 20090880 i \\, \\sqrt{3} \\sqrt{5 \\, {\\mathcal{C}}^{2} - 8} {\\mathcal{C}}^{2} + 346288128 \\, {\\mathcal{C}}^{3} + 3170304 i \\, \\sqrt{3} \\sqrt{5 \\, {\\mathcal{C}}^{2} - 8} {\\mathcal{C}} + 97984512 \\, {\\mathcal{C}}^{2} + 221184 i \\, \\sqrt{3} \\sqrt{5 \\, {\\mathcal{C}}^{2} - 8} + 15556608 \\, {\\mathcal{C}} + 1081344}\\)</html>"
      ],
      "text/latex": [
       "$\\displaystyle \\frac{2 \\, {\\left(20444 i \\, \\sqrt{3} \\sqrt{5 \\, {\\mathcal{C}}^{2} - 8} {\\mathcal{C}}^{26} n - 139644 \\, {\\mathcal{C}}^{27} n - 433 i \\, \\sqrt{3} \\sqrt{5 \\, {\\mathcal{C}}^{2} - 8} {\\mathcal{C}}^{26} + 160521 \\, {\\mathcal{C}}^{27} - 19578 i \\, \\sqrt{3} \\sqrt{5 \\, {\\mathcal{C}}^{2} - 8} {\\mathcal{C}}^{25} j - 181398 \\, {\\mathcal{C}}^{26} j + 59600 i \\, \\sqrt{3} \\sqrt{5 \\, {\\mathcal{C}}^{2} - 8} {\\mathcal{C}}^{25} n + 223152 \\, {\\mathcal{C}}^{26} n - 70255 i \\, \\sqrt{3} \\sqrt{5 \\, {\\mathcal{C}}^{2} - 8} {\\mathcal{C}}^{25} + 7191 \\, {\\mathcal{C}}^{26} + 100488 i \\, \\sqrt{3} \\sqrt{5 \\, {\\mathcal{C}}^{2} - 8} {\\mathcal{C}}^{24} j - 56136 \\, {\\mathcal{C}}^{25} j + 2012 i \\, \\sqrt{3} \\sqrt{5 \\, {\\mathcal{C}}^{2} - 8} {\\mathcal{C}}^{24} n + 2713524 \\, {\\mathcal{C}}^{25} n - 381406 i \\, \\sqrt{3} \\sqrt{5 \\, {\\mathcal{C}}^{2} - 8} {\\mathcal{C}}^{24} - 2313126 \\, {\\mathcal{C}}^{25} + 660312 i \\, \\sqrt{3} \\sqrt{5 \\, {\\mathcal{C}}^{2} - 8} {\\mathcal{C}}^{23} j + 1968864 \\, {\\mathcal{C}}^{24} j - 1244112 i \\, \\sqrt{3} \\sqrt{5 \\, {\\mathcal{C}}^{2} - 8} {\\mathcal{C}}^{23} n - 945264 \\, {\\mathcal{C}}^{24} n + 826356 i \\, \\sqrt{3} \\sqrt{5 \\, {\\mathcal{C}}^{2} - 8} {\\mathcal{C}}^{23} - 2640768 \\, {\\mathcal{C}}^{24} - 1068912 i \\, \\sqrt{3} \\sqrt{5 \\, {\\mathcal{C}}^{2} - 8} {\\mathcal{C}}^{22} j + 4257936 \\, {\\mathcal{C}}^{23} j - 2660328 i \\, \\sqrt{3} \\sqrt{5 \\, {\\mathcal{C}}^{2} - 8} {\\mathcal{C}}^{22} n - 18699336 \\, {\\mathcal{C}}^{23} n + 4869504 i \\, \\sqrt{3} \\sqrt{5 \\, {\\mathcal{C}}^{2} - 8} {\\mathcal{C}}^{22} + 8254368 \\, {\\mathcal{C}}^{23} - 6009768 i \\, \\sqrt{3} \\sqrt{5 \\, {\\mathcal{C}}^{2} - 8} {\\mathcal{C}}^{21} j - 2067336 \\, {\\mathcal{C}}^{22} j + 7790208 i \\, \\sqrt{3} \\sqrt{5 \\, {\\mathcal{C}}^{2} - 8} {\\mathcal{C}}^{21} n - 15257664 \\, {\\mathcal{C}}^{22} n - 1369884 i \\, \\sqrt{3} \\sqrt{5 \\, {\\mathcal{C}}^{2} - 8} {\\mathcal{C}}^{21} + 30594132 \\, {\\mathcal{C}}^{22} + 959328 i \\, \\sqrt{3} \\sqrt{5 \\, {\\mathcal{C}}^{2} - 8} {\\mathcal{C}}^{20} j - 43863264 \\, {\\mathcal{C}}^{21} j + 21277552 i \\, \\sqrt{3} \\sqrt{5 \\, {\\mathcal{C}}^{2} - 8} {\\mathcal{C}}^{20} n + 50259024 \\, {\\mathcal{C}}^{21} n - 22375016 i \\, \\sqrt{3} \\sqrt{5 \\, {\\mathcal{C}}^{2} - 8} {\\mathcal{C}}^{20} + 26865048 \\, {\\mathcal{C}}^{21} + 22513152 i \\, \\sqrt{3} \\sqrt{5 \\, {\\mathcal{C}}^{2} - 8} {\\mathcal{C}}^{19} j - 60125856 \\, {\\mathcal{C}}^{20} j - 15028352 i \\, \\sqrt{3} \\sqrt{5 \\, {\\mathcal{C}}^{2} - 8} {\\mathcal{C}}^{19} n + 145076736 \\, {\\mathcal{C}}^{20} n - 16721024 i \\, \\sqrt{3} \\sqrt{5 \\, {\\mathcal{C}}^{2} - 8} {\\mathcal{C}}^{19} - 126496368 \\, {\\mathcal{C}}^{20} + 25957248 i \\, \\sqrt{3} \\sqrt{5 \\, {\\mathcal{C}}^{2} - 8} {\\mathcal{C}}^{18} j + 168041856 \\, {\\mathcal{C}}^{19} j - 72626048 i \\, \\sqrt{3} \\sqrt{5 \\, {\\mathcal{C}}^{2} - 8} {\\mathcal{C}}^{18} n + 31724544 \\, {\\mathcal{C}}^{19} n + 35347024 i \\, \\sqrt{3} \\sqrt{5 \\, {\\mathcal{C}}^{2} - 8} {\\mathcal{C}}^{18} - 281723472 \\, {\\mathcal{C}}^{19} - 24025248 i \\, \\sqrt{3} \\sqrt{5 \\, {\\mathcal{C}}^{2} - 8} {\\mathcal{C}}^{17} j + 363680544 \\, {\\mathcal{C}}^{18} j - 31479552 i \\, \\sqrt{3} \\sqrt{5 \\, {\\mathcal{C}}^{2} - 8} {\\mathcal{C}}^{17} n - 497612544 \\, {\\mathcal{C}}^{18} n + 88780176 i \\, \\sqrt{3} \\sqrt{5 \\, {\\mathcal{C}}^{2} - 8} {\\mathcal{C}}^{17} + 155610672 \\, {\\mathcal{C}}^{18} - 122055552 i \\, \\sqrt{3} \\sqrt{5 \\, {\\mathcal{C}}^{2} - 8} {\\mathcal{C}}^{16} j - 177289344 \\, {\\mathcal{C}}^{17} j + 108067392 i \\, \\sqrt{3} \\sqrt{5 \\, {\\mathcal{C}}^{2} - 8} {\\mathcal{C}}^{16} n - 559711296 \\, {\\mathcal{C}}^{17} n + 48445344 i \\, \\sqrt{3} \\sqrt{5 \\, {\\mathcal{C}}^{2} - 8} {\\mathcal{C}}^{16} + 817056288 \\, {\\mathcal{C}}^{17} - 82902528 i \\, \\sqrt{3} \\sqrt{5 \\, {\\mathcal{C}}^{2} - 8} {\\mathcal{C}}^{15} j - 897111936 \\, {\\mathcal{C}}^{16} j + 191720448 i \\, \\sqrt{3} \\sqrt{5 \\, {\\mathcal{C}}^{2} - 8} {\\mathcal{C}}^{15} n + 699480576 \\, {\\mathcal{C}}^{16} n - 152711424 i \\, \\sqrt{3} \\sqrt{5 \\, {\\mathcal{C}}^{2} - 8} {\\mathcal{C}}^{15} + 379069632 \\, {\\mathcal{C}}^{16} + 196604928 i \\, \\sqrt{3} \\sqrt{5 \\, {\\mathcal{C}}^{2} - 8} {\\mathcal{C}}^{14} j - 560507904 \\, {\\mathcal{C}}^{15} j + 12559872 i \\, \\sqrt{3} \\sqrt{5 \\, {\\mathcal{C}}^{2} - 8} {\\mathcal{C}}^{14} n + 1492176384 \\, {\\mathcal{C}}^{15} n - 254363136 i \\, \\sqrt{3} \\sqrt{5 \\, {\\mathcal{C}}^{2} - 8} {\\mathcal{C}}^{14} - 877496832 \\, {\\mathcal{C}}^{15} + 299561472 i \\, \\sqrt{3} \\sqrt{5 \\, {\\mathcal{C}}^{2} - 8} {\\mathcal{C}}^{13} j + 823325184 \\, {\\mathcal{C}}^{14} j - 317571072 i \\, \\sqrt{3} \\sqrt{5 \\, {\\mathcal{C}}^{2} - 8} {\\mathcal{C}}^{13} n + 138940416 \\, {\\mathcal{C}}^{14} n + 12423936 i \\, \\sqrt{3} \\sqrt{5 \\, {\\mathcal{C}}^{2} - 8} {\\mathcal{C}}^{13} - 1423588608 \\, {\\mathcal{C}}^{14} - 6838272 i \\, \\sqrt{3} \\sqrt{5 \\, {\\mathcal{C}}^{2} - 8} {\\mathcal{C}}^{12} j + 1884911616 \\, {\\mathcal{C}}^{13} j - 273988608 i \\, \\sqrt{3} \\sqrt{5 \\, {\\mathcal{C}}^{2} - 8} {\\mathcal{C}}^{12} n - 1687458816 \\, {\\mathcal{C}}^{13} n + 304310784 i \\, \\sqrt{3} \\sqrt{5 \\, {\\mathcal{C}}^{2} - 8} {\\mathcal{C}}^{12} - 429000192 \\, {\\mathcal{C}}^{13} - 327794688 i \\, \\sqrt{3} \\sqrt{5 \\, {\\mathcal{C}}^{2} - 8} {\\mathcal{C}}^{11} j + 660547584 \\, {\\mathcal{C}}^{12} j + 142368768 i \\, \\sqrt{3} \\sqrt{5 \\, {\\mathcal{C}}^{2} - 8} {\\mathcal{C}}^{11} n - 1694121984 \\, {\\mathcal{C}}^{12} n + 254509056 i \\, \\sqrt{3} \\sqrt{5 \\, {\\mathcal{C}}^{2} - 8} {\\mathcal{C}}^{11} + 1429281792 \\, {\\mathcal{C}}^{12} - 323592192 i \\, \\sqrt{3} \\sqrt{5 \\, {\\mathcal{C}}^{2} - 8} {\\mathcal{C}}^{10} j - 1824989184 \\, {\\mathcal{C}}^{11} j + 344881152 i \\, \\sqrt{3} \\sqrt{5 \\, {\\mathcal{C}}^{2} - 8} {\\mathcal{C}}^{10} n + 287483904 \\, {\\mathcal{C}}^{11} n - 12013056 i \\, \\sqrt{3} \\sqrt{5 \\, {\\mathcal{C}}^{2} - 8} {\\mathcal{C}}^{10} + 1799290368 \\, {\\mathcal{C}}^{11} + 2737152 i \\, \\sqrt{3} \\sqrt{5 \\, {\\mathcal{C}}^{2} - 8} {\\mathcal{C}}^{9} j - 2061075456 \\, {\\mathcal{C}}^{10} j + 167067648 i \\, \\sqrt{3} \\sqrt{5 \\, {\\mathcal{C}}^{2} - 8} {\\mathcal{C}}^{9} n + 1907490816 \\, {\\mathcal{C}}^{10} n - 224193024 i \\, \\sqrt{3} \\sqrt{5 \\, {\\mathcal{C}}^{2} - 8} {\\mathcal{C}}^{9} + 160123392 \\, {\\mathcal{C}}^{10} + 278581248 i \\, \\sqrt{3} \\sqrt{5 \\, {\\mathcal{C}}^{2} - 8} {\\mathcal{C}}^{8} j - 166662144 \\, {\\mathcal{C}}^{9} j - 100610048 i \\, \\sqrt{3} \\sqrt{5 \\, {\\mathcal{C}}^{2} - 8} {\\mathcal{C}}^{8} n + 1170284544 \\, {\\mathcal{C}}^{9} n - 198910976 i \\, \\sqrt{3} \\sqrt{5 \\, {\\mathcal{C}}^{2} - 8} {\\mathcal{C}}^{8} - 1133417472 \\, {\\mathcal{C}}^{9} + 219850752 i \\, \\sqrt{3} \\sqrt{5 \\, {\\mathcal{C}}^{2} - 8} {\\mathcal{C}}^{7} j + 1263212544 \\, {\\mathcal{C}}^{8} j - 185495552 i \\, \\sqrt{3} \\sqrt{5 \\, {\\mathcal{C}}^{2} - 8} {\\mathcal{C}}^{7} n - 443756544 \\, {\\mathcal{C}}^{8} n - 31437824 i \\, \\sqrt{3} \\sqrt{5 \\, {\\mathcal{C}}^{2} - 8} {\\mathcal{C}}^{7} - 1008995328 \\, {\\mathcal{C}}^{8} + 28520448 i \\, \\sqrt{3} \\sqrt{5 \\, {\\mathcal{C}}^{2} - 8} {\\mathcal{C}}^{6} j + 1198534656 \\, {\\mathcal{C}}^{7} j - 83376128 i \\, \\sqrt{3} \\sqrt{5 \\, {\\mathcal{C}}^{2} - 8} {\\mathcal{C}}^{6} n - 928536576 \\, {\\mathcal{C}}^{7} n + 64835584 i \\, \\sqrt{3} \\sqrt{5 \\, {\\mathcal{C}}^{2} - 8} {\\mathcal{C}}^{6} - 272904192 \\, {\\mathcal{C}}^{7} - 74815488 i \\, \\sqrt{3} \\sqrt{5 \\, {\\mathcal{C}}^{2} - 8} {\\mathcal{C}}^{5} j + 275810304 \\, {\\mathcal{C}}^{6} j + 18382848 i \\, \\sqrt{3} \\sqrt{5 \\, {\\mathcal{C}}^{2} - 8} {\\mathcal{C}}^{5} n - 457949184 \\, {\\mathcal{C}}^{6} n + 64306176 i \\, \\sqrt{3} \\sqrt{5 \\, {\\mathcal{C}}^{2} - 8} {\\mathcal{C}}^{5} + 254487552 \\, {\\mathcal{C}}^{6} - 72179712 i \\, \\sqrt{3} \\sqrt{5 \\, {\\mathcal{C}}^{2} - 8} {\\mathcal{C}}^{4} j - 326836224 \\, {\\mathcal{C}}^{5} j + 39555072 i \\, \\sqrt{3} \\sqrt{5 \\, {\\mathcal{C}}^{2} - 8} {\\mathcal{C}}^{4} n + 46116864 \\, {\\mathcal{C}}^{5} n + 33122304 i \\, \\sqrt{3} \\sqrt{5 \\, {\\mathcal{C}}^{2} - 8} {\\mathcal{C}}^{4} + 309454848 \\, {\\mathcal{C}}^{5} - 33619968 i \\, \\sqrt{3} \\sqrt{5 \\, {\\mathcal{C}}^{2} - 8} {\\mathcal{C}}^{3} j - 338190336 \\, {\\mathcal{C}}^{4} j + 22315008 i \\, \\sqrt{3} \\sqrt{5 \\, {\\mathcal{C}}^{2} - 8} {\\mathcal{C}}^{3} n + 185204736 \\, {\\mathcal{C}}^{4} n + 10223616 i \\, \\sqrt{3} \\sqrt{5 \\, {\\mathcal{C}}^{2} - 8} {\\mathcal{C}}^{3} + 157151232 \\, {\\mathcal{C}}^{4} - 9142272 i \\, \\sqrt{3} \\sqrt{5 \\, {\\mathcal{C}}^{2} - 8} {\\mathcal{C}}^{2} j - 161316864 \\, {\\mathcal{C}}^{3} j + 6815744 i \\, \\sqrt{3} \\sqrt{5 \\, {\\mathcal{C}}^{2} - 8} {\\mathcal{C}}^{2} n + 108232704 \\, {\\mathcal{C}}^{3} n + 1888256 i \\, \\sqrt{3} \\sqrt{5 \\, {\\mathcal{C}}^{2} - 8} {\\mathcal{C}}^{2} + 49164288 \\, {\\mathcal{C}}^{3} - 1449984 i \\, \\sqrt{3} \\sqrt{5 \\, {\\mathcal{C}}^{2} - 8} {\\mathcal{C}} j - 45244416 \\, {\\mathcal{C}}^{2} j + 1114112 i \\, \\sqrt{3} \\sqrt{5 \\, {\\mathcal{C}}^{2} - 8} {\\mathcal{C}} n + 32833536 \\, {\\mathcal{C}}^{2} n + 217088 i \\, \\sqrt{3} \\sqrt{5 \\, {\\mathcal{C}}^{2} - 8} {\\mathcal{C}} + 9695232 \\, {\\mathcal{C}}^{2} - 98304 i \\, \\sqrt{3} \\sqrt{5 \\, {\\mathcal{C}}^{2} - 8} j - 6979584 \\, {\\mathcal{C}} j + 81920 i \\, \\sqrt{3} \\sqrt{5 \\, {\\mathcal{C}}^{2} - 8} n + 5554176 \\, {\\mathcal{C}} n + 8192 i \\, \\sqrt{3} \\sqrt{5 \\, {\\mathcal{C}}^{2} - 8} + 958464 \\, {\\mathcal{C}} - 491520 \\, j + 393216 \\, n + 49152\\right)} \\left(-1\\right)^{n} {\\left({\\mathcal{C}} - 1\\right)}}{40455 i \\, \\sqrt{3} \\sqrt{5 \\, {\\mathcal{C}}^{2} - 8} {\\mathcal{C}}^{26} - 118767 \\, {\\mathcal{C}}^{27} + 58734 i \\, \\sqrt{3} \\sqrt{5 \\, {\\mathcal{C}}^{2} - 8} {\\mathcal{C}}^{25} + 544194 \\, {\\mathcal{C}}^{26} - 427626 i \\, \\sqrt{3} \\sqrt{5 \\, {\\mathcal{C}}^{2} - 8} {\\mathcal{C}}^{24} + 3141990 \\, {\\mathcal{C}}^{25} - 1992024 i \\, \\sqrt{3} \\sqrt{5 \\, {\\mathcal{C}}^{2} - 8} {\\mathcal{C}}^{23} - 5515728 \\, {\\mathcal{C}}^{24} + 83304 i \\, \\sqrt{3} \\sqrt{5 \\, {\\mathcal{C}}^{2} - 8} {\\mathcal{C}}^{22} - 31273272 \\, {\\mathcal{C}}^{23} + 17215416 i \\, \\sqrt{3} \\sqrt{5 \\, {\\mathcal{C}}^{2} - 8} {\\mathcal{C}}^{21} + 1112472 \\, {\\mathcal{C}}^{22} + 19700424 i \\, \\sqrt{3} \\sqrt{5 \\, {\\mathcal{C}}^{2} - 8} {\\mathcal{C}}^{20} + 149314728 \\, {\\mathcal{C}}^{21} - 58034304 i \\, \\sqrt{3} \\sqrt{5 \\, {\\mathcal{C}}^{2} - 8} {\\mathcal{C}}^{19} + 193720032 \\, {\\mathcal{C}}^{20} - 122883696 i \\, \\sqrt{3} \\sqrt{5 \\, {\\mathcal{C}}^{2} - 8} {\\mathcal{C}}^{18} - 302295312 \\, {\\mathcal{C}}^{19} + 37833696 i \\, \\sqrt{3} \\sqrt{5 \\, {\\mathcal{C}}^{2} - 8} {\\mathcal{C}}^{17} - 1021454688 \\, {\\mathcal{C}}^{18} + 325607904 i \\, \\sqrt{3} \\sqrt{5 \\, {\\mathcal{C}}^{2} - 8} {\\mathcal{C}}^{16} - 213721632 \\, {\\mathcal{C}}^{17} + 272180736 i \\, \\sqrt{3} \\sqrt{5 \\, {\\mathcal{C}}^{2} - 8} {\\mathcal{C}}^{15} + 2226586752 \\, {\\mathcal{C}}^{16} - 327545856 i \\, \\sqrt{3} \\sqrt{5 \\, {\\mathcal{C}}^{2} - 8} {\\mathcal{C}}^{14} + 2387109888 \\, {\\mathcal{C}}^{15} - 772498944 i \\, \\sqrt{3} \\sqrt{5 \\, {\\mathcal{C}}^{2} - 8} {\\mathcal{C}}^{13} - 1557370368 \\, {\\mathcal{C}}^{14} - 240247296 i \\, \\sqrt{3} \\sqrt{5 \\, {\\mathcal{C}}^{2} - 8} {\\mathcal{C}}^{12} - 4746373632 \\, {\\mathcal{C}}^{13} + 703143936 i \\, \\sqrt{3} \\sqrt{5 \\, {\\mathcal{C}}^{2} - 8} {\\mathcal{C}}^{11} - 2289235968 \\, {\\mathcal{C}}^{12} + 839545344 i \\, \\sqrt{3} \\sqrt{5 \\, {\\mathcal{C}}^{2} - 8} {\\mathcal{C}}^{10} + 3286752768 \\, {\\mathcal{C}}^{11} + 108573696 i \\, \\sqrt{3} \\sqrt{5 \\, {\\mathcal{C}}^{2} - 8} {\\mathcal{C}}^{9} + 5005642752 \\, {\\mathcal{C}}^{10} - 539421696 i \\, \\sqrt{3} \\sqrt{5 \\, {\\mathcal{C}}^{2} - 8} {\\mathcal{C}}^{8} + 1290482688 \\, {\\mathcal{C}}^{9} - 512354304 i \\, \\sqrt{3} \\sqrt{5 \\, {\\mathcal{C}}^{2} - 8} {\\mathcal{C}}^{7} - 2528114688 \\, {\\mathcal{C}}^{8} - 116176896 i \\, \\sqrt{3} \\sqrt{5 \\, {\\mathcal{C}}^{2} - 8} {\\mathcal{C}}^{6} - 2729244672 \\, {\\mathcal{C}}^{7} + 138479616 i \\, \\sqrt{3} \\sqrt{5 \\, {\\mathcal{C}}^{2} - 8} {\\mathcal{C}}^{5} - 799315968 \\, {\\mathcal{C}}^{6} + 148322304 i \\, \\sqrt{3} \\sqrt{5 \\, {\\mathcal{C}}^{2} - 8} {\\mathcal{C}}^{4} + 565106688 \\, {\\mathcal{C}}^{5} + 71663616 i \\, \\sqrt{3} \\sqrt{5 \\, {\\mathcal{C}}^{2} - 8} {\\mathcal{C}}^{3} + 696655872 \\, {\\mathcal{C}}^{4} + 20090880 i \\, \\sqrt{3} \\sqrt{5 \\, {\\mathcal{C}}^{2} - 8} {\\mathcal{C}}^{2} + 346288128 \\, {\\mathcal{C}}^{3} + 3170304 i \\, \\sqrt{3} \\sqrt{5 \\, {\\mathcal{C}}^{2} - 8} {\\mathcal{C}} + 97984512 \\, {\\mathcal{C}}^{2} + 221184 i \\, \\sqrt{3} \\sqrt{5 \\, {\\mathcal{C}}^{2} - 8} + 15556608 \\, {\\mathcal{C}} + 1081344}$"
      ],
      "text/plain": [
       "2*(20444*I*sqrt(3)*sqrt(5*C^2 - 8)*C^26*n - 139644*C^27*n - 433*I*sqrt(3)*sqrt(5*C^2 - 8)*C^26 + 160521*C^27 - 19578*I*sqrt(3)*sqrt(5*C^2 - 8)*C^25*j - 181398*C^26*j + 59600*I*sqrt(3)*sqrt(5*C^2 - 8)*C^25*n + 223152*C^26*n - 70255*I*sqrt(3)*sqrt(5*C^2 - 8)*C^25 + 7191*C^26 + 100488*I*sqrt(3)*sqrt(5*C^2 - 8)*C^24*j - 56136*C^25*j + 2012*I*sqrt(3)*sqrt(5*C^2 - 8)*C^24*n + 2713524*C^25*n - 381406*I*sqrt(3)*sqrt(5*C^2 - 8)*C^24 - 2313126*C^25 + 660312*I*sqrt(3)*sqrt(5*C^2 - 8)*C^23*j + 1968864*C^24*j - 1244112*I*sqrt(3)*sqrt(5*C^2 - 8)*C^23*n - 945264*C^24*n + 826356*I*sqrt(3)*sqrt(5*C^2 - 8)*C^23 - 2640768*C^24 - 1068912*I*sqrt(3)*sqrt(5*C^2 - 8)*C^22*j + 4257936*C^23*j - 2660328*I*sqrt(3)*sqrt(5*C^2 - 8)*C^22*n - 18699336*C^23*n + 4869504*I*sqrt(3)*sqrt(5*C^2 - 8)*C^22 + 8254368*C^23 - 6009768*I*sqrt(3)*sqrt(5*C^2 - 8)*C^21*j - 2067336*C^22*j + 7790208*I*sqrt(3)*sqrt(5*C^2 - 8)*C^21*n - 15257664*C^22*n - 1369884*I*sqrt(3)*sqrt(5*C^2 - 8)*C^21 + 30594132*C^22 + 959328*I*sqrt(3)*sqrt(5*C^2 - 8)*C^20*j - 43863264*C^21*j + 21277552*I*sqrt(3)*sqrt(5*C^2 - 8)*C^20*n + 50259024*C^21*n - 22375016*I*sqrt(3)*sqrt(5*C^2 - 8)*C^20 + 26865048*C^21 + 22513152*I*sqrt(3)*sqrt(5*C^2 - 8)*C^19*j - 60125856*C^20*j - 15028352*I*sqrt(3)*sqrt(5*C^2 - 8)*C^19*n + 145076736*C^20*n - 16721024*I*sqrt(3)*sqrt(5*C^2 - 8)*C^19 - 126496368*C^20 + 25957248*I*sqrt(3)*sqrt(5*C^2 - 8)*C^18*j + 168041856*C^19*j - 72626048*I*sqrt(3)*sqrt(5*C^2 - 8)*C^18*n + 31724544*C^19*n + 35347024*I*sqrt(3)*sqrt(5*C^2 - 8)*C^18 - 281723472*C^19 - 24025248*I*sqrt(3)*sqrt(5*C^2 - 8)*C^17*j + 363680544*C^18*j - 31479552*I*sqrt(3)*sqrt(5*C^2 - 8)*C^17*n - 497612544*C^18*n + 88780176*I*sqrt(3)*sqrt(5*C^2 - 8)*C^17 + 155610672*C^18 - 122055552*I*sqrt(3)*sqrt(5*C^2 - 8)*C^16*j - 177289344*C^17*j + 108067392*I*sqrt(3)*sqrt(5*C^2 - 8)*C^16*n - 559711296*C^17*n + 48445344*I*sqrt(3)*sqrt(5*C^2 - 8)*C^16 + 817056288*C^17 - 82902528*I*sqrt(3)*sqrt(5*C^2 - 8)*C^15*j - 897111936*C^16*j + 191720448*I*sqrt(3)*sqrt(5*C^2 - 8)*C^15*n + 699480576*C^16*n - 152711424*I*sqrt(3)*sqrt(5*C^2 - 8)*C^15 + 379069632*C^16 + 196604928*I*sqrt(3)*sqrt(5*C^2 - 8)*C^14*j - 560507904*C^15*j + 12559872*I*sqrt(3)*sqrt(5*C^2 - 8)*C^14*n + 1492176384*C^15*n - 254363136*I*sqrt(3)*sqrt(5*C^2 - 8)*C^14 - 877496832*C^15 + 299561472*I*sqrt(3)*sqrt(5*C^2 - 8)*C^13*j + 823325184*C^14*j - 317571072*I*sqrt(3)*sqrt(5*C^2 - 8)*C^13*n + 138940416*C^14*n + 12423936*I*sqrt(3)*sqrt(5*C^2 - 8)*C^13 - 1423588608*C^14 - 6838272*I*sqrt(3)*sqrt(5*C^2 - 8)*C^12*j + 1884911616*C^13*j - 273988608*I*sqrt(3)*sqrt(5*C^2 - 8)*C^12*n - 1687458816*C^13*n + 304310784*I*sqrt(3)*sqrt(5*C^2 - 8)*C^12 - 429000192*C^13 - 327794688*I*sqrt(3)*sqrt(5*C^2 - 8)*C^11*j + 660547584*C^12*j + 142368768*I*sqrt(3)*sqrt(5*C^2 - 8)*C^11*n - 1694121984*C^12*n + 254509056*I*sqrt(3)*sqrt(5*C^2 - 8)*C^11 + 1429281792*C^12 - 323592192*I*sqrt(3)*sqrt(5*C^2 - 8)*C^10*j - 1824989184*C^11*j + 344881152*I*sqrt(3)*sqrt(5*C^2 - 8)*C^10*n + 287483904*C^11*n - 12013056*I*sqrt(3)*sqrt(5*C^2 - 8)*C^10 + 1799290368*C^11 + 2737152*I*sqrt(3)*sqrt(5*C^2 - 8)*C^9*j - 2061075456*C^10*j + 167067648*I*sqrt(3)*sqrt(5*C^2 - 8)*C^9*n + 1907490816*C^10*n - 224193024*I*sqrt(3)*sqrt(5*C^2 - 8)*C^9 + 160123392*C^10 + 278581248*I*sqrt(3)*sqrt(5*C^2 - 8)*C^8*j - 166662144*C^9*j - 100610048*I*sqrt(3)*sqrt(5*C^2 - 8)*C^8*n + 1170284544*C^9*n - 198910976*I*sqrt(3)*sqrt(5*C^2 - 8)*C^8 - 1133417472*C^9 + 219850752*I*sqrt(3)*sqrt(5*C^2 - 8)*C^7*j + 1263212544*C^8*j - 185495552*I*sqrt(3)*sqrt(5*C^2 - 8)*C^7*n - 443756544*C^8*n - 31437824*I*sqrt(3)*sqrt(5*C^2 - 8)*C^7 - 1008995328*C^8 + 28520448*I*sqrt(3)*sqrt(5*C^2 - 8)*C^6*j + 1198534656*C^7*j - 83376128*I*sqrt(3)*sqrt(5*C^2 - 8)*C^6*n - 928536576*C^7*n + 64835584*I*sqrt(3)*sqrt(5*C^2 - 8)*C^6 - 272904192*C^7 - 74815488*I*sqrt(3)*sqrt(5*C^2 - 8)*C^5*j + 275810304*C^6*j + 18382848*I*sqrt(3)*sqrt(5*C^2 - 8)*C^5*n - 457949184*C^6*n + 64306176*I*sqrt(3)*sqrt(5*C^2 - 8)*C^5 + 254487552*C^6 - 72179712*I*sqrt(3)*sqrt(5*C^2 - 8)*C^4*j - 326836224*C^5*j + 39555072*I*sqrt(3)*sqrt(5*C^2 - 8)*C^4*n + 46116864*C^5*n + 33122304*I*sqrt(3)*sqrt(5*C^2 - 8)*C^4 + 309454848*C^5 - 33619968*I*sqrt(3)*sqrt(5*C^2 - 8)*C^3*j - 338190336*C^4*j + 22315008*I*sqrt(3)*sqrt(5*C^2 - 8)*C^3*n + 185204736*C^4*n + 10223616*I*sqrt(3)*sqrt(5*C^2 - 8)*C^3 + 157151232*C^4 - 9142272*I*sqrt(3)*sqrt(5*C^2 - 8)*C^2*j - 161316864*C^3*j + 6815744*I*sqrt(3)*sqrt(5*C^2 - 8)*C^2*n + 108232704*C^3*n + 1888256*I*sqrt(3)*sqrt(5*C^2 - 8)*C^2 + 49164288*C^3 - 1449984*I*sqrt(3)*sqrt(5*C^2 - 8)*C*j - 45244416*C^2*j + 1114112*I*sqrt(3)*sqrt(5*C^2 - 8)*C*n + 32833536*C^2*n + 217088*I*sqrt(3)*sqrt(5*C^2 - 8)*C + 9695232*C^2 - 98304*I*sqrt(3)*sqrt(5*C^2 - 8)*j - 6979584*C*j + 81920*I*sqrt(3)*sqrt(5*C^2 - 8)*n + 5554176*C*n + 8192*I*sqrt(3)*sqrt(5*C^2 - 8) + 958464*C - 491520*j + 393216*n + 49152)*(-1)^n*(C - 1)/(40455*I*sqrt(3)*sqrt(5*C^2 - 8)*C^26 - 118767*C^27 + 58734*I*sqrt(3)*sqrt(5*C^2 - 8)*C^25 + 544194*C^26 - 427626*I*sqrt(3)*sqrt(5*C^2 - 8)*C^24 + 3141990*C^25 - 1992024*I*sqrt(3)*sqrt(5*C^2 - 8)*C^23 - 5515728*C^24 + 83304*I*sqrt(3)*sqrt(5*C^2 - 8)*C^22 - 31273272*C^23 + 17215416*I*sqrt(3)*sqrt(5*C^2 - 8)*C^21 + 1112472*C^22 + 19700424*I*sqrt(3)*sqrt(5*C^2 - 8)*C^20 + 149314728*C^21 - 58034304*I*sqrt(3)*sqrt(5*C^2 - 8)*C^19 + 193720032*C^20 - 122883696*I*sqrt(3)*sqrt(5*C^2 - 8)*C^18 - 302295312*C^19 + 37833696*I*sqrt(3)*sqrt(5*C^2 - 8)*C^17 - 1021454688*C^18 + 325607904*I*sqrt(3)*sqrt(5*C^2 - 8)*C^16 - 213721632*C^17 + 272180736*I*sqrt(3)*sqrt(5*C^2 - 8)*C^15 + 2226586752*C^16 - 327545856*I*sqrt(3)*sqrt(5*C^2 - 8)*C^14 + 2387109888*C^15 - 772498944*I*sqrt(3)*sqrt(5*C^2 - 8)*C^13 - 1557370368*C^14 - 240247296*I*sqrt(3)*sqrt(5*C^2 - 8)*C^12 - 4746373632*C^13 + 703143936*I*sqrt(3)*sqrt(5*C^2 - 8)*C^11 - 2289235968*C^12 + 839545344*I*sqrt(3)*sqrt(5*C^2 - 8)*C^10 + 3286752768*C^11 + 108573696*I*sqrt(3)*sqrt(5*C^2 - 8)*C^9 + 5005642752*C^10 - 539421696*I*sqrt(3)*sqrt(5*C^2 - 8)*C^8 + 1290482688*C^9 - 512354304*I*sqrt(3)*sqrt(5*C^2 - 8)*C^7 - 2528114688*C^8 - 116176896*I*sqrt(3)*sqrt(5*C^2 - 8)*C^6 - 2729244672*C^7 + 138479616*I*sqrt(3)*sqrt(5*C^2 - 8)*C^5 - 799315968*C^6 + 148322304*I*sqrt(3)*sqrt(5*C^2 - 8)*C^4 + 565106688*C^5 + 71663616*I*sqrt(3)*sqrt(5*C^2 - 8)*C^3 + 696655872*C^4 + 20090880*I*sqrt(3)*sqrt(5*C^2 - 8)*C^2 + 346288128*C^3 + 3170304*I*sqrt(3)*sqrt(5*C^2 - 8)*C + 97984512*C^2 + 221184*I*sqrt(3)*sqrt(5*C^2 - 8) + 15556608*C + 1081344)"
      ]
     },
     "metadata": {},
     "output_type": "display_data"
    },
    {
     "name": "stdout",
     "output_type": "stream",
     "text": [
      "m3_j^n equals approximately\n"
     ]
    },
    {
     "data": {
      "text/html": [
       "<html>\\(\\displaystyle -\\frac{2 \\, {\\left(3956 i \\, \\sqrt{3} \\sqrt{5 \\, {\\mathcal{C}}^{2} - 8} {\\mathcal{C}}^{21} n + 5804 \\, {\\mathcal{C}}^{22} n - 3956 i \\, \\sqrt{3} \\sqrt{5 \\, {\\mathcal{C}}^{2} - 8} {\\mathcal{C}}^{21} - 5804 \\, {\\mathcal{C}}^{22} + 4418 i \\, \\sqrt{3} \\sqrt{5 \\, {\\mathcal{C}}^{2} - 8} {\\mathcal{C}}^{20} j - 10482 \\, {\\mathcal{C}}^{21} j - 4880 i \\, \\sqrt{3} \\sqrt{5 \\, {\\mathcal{C}}^{2} - 8} {\\mathcal{C}}^{20} n + 26768 \\, {\\mathcal{C}}^{21} n + 2671 i \\, \\sqrt{3} \\sqrt{5 \\, {\\mathcal{C}}^{2} - 8} {\\mathcal{C}}^{20} - 21527 \\, {\\mathcal{C}}^{21} + 3032 i \\, \\sqrt{3} \\sqrt{5 \\, {\\mathcal{C}}^{2} - 8} {\\mathcal{C}}^{19} j + 38376 \\, {\\mathcal{C}}^{20} j - 54932 i \\, \\sqrt{3} \\sqrt{5 \\, {\\mathcal{C}}^{2} - 8} {\\mathcal{C}}^{19} n + 21636 \\, {\\mathcal{C}}^{20} n + 50449 i \\, \\sqrt{3} \\sqrt{5 \\, {\\mathcal{C}}^{2} - 8} {\\mathcal{C}}^{19} - 45177 \\, {\\mathcal{C}}^{20} - 31372 i \\, \\sqrt{3} \\sqrt{5 \\, {\\mathcal{C}}^{2} - 8} {\\mathcal{C}}^{18} j + 235476 \\, {\\mathcal{C}}^{19} j + 1712 i \\, \\sqrt{3} \\sqrt{5 \\, {\\mathcal{C}}^{2} - 8} {\\mathcal{C}}^{18} n - 415856 \\, {\\mathcal{C}}^{19} n + 17634 i \\, \\sqrt{3} \\sqrt{5 \\, {\\mathcal{C}}^{2} - 8} {\\mathcal{C}}^{18} + 278042 \\, {\\mathcal{C}}^{19} - 99648 i \\, \\sqrt{3} \\sqrt{5 \\, {\\mathcal{C}}^{2} - 8} {\\mathcal{C}}^{17} j - 309216 \\, {\\mathcal{C}}^{18} j + 263520 i \\, \\sqrt{3} \\sqrt{5 \\, {\\mathcal{C}}^{2} - 8} {\\mathcal{C}}^{17} n - 797264 \\, {\\mathcal{C}}^{18} n - 175464 i \\, \\sqrt{3} \\sqrt{5 \\, {\\mathcal{C}}^{2} - 8} {\\mathcal{C}}^{17} + 931292 \\, {\\mathcal{C}}^{18} - 33048 i \\, \\sqrt{3} \\sqrt{5 \\, {\\mathcal{C}}^{2} - 8} {\\mathcal{C}}^{16} j - 1680264 \\, {\\mathcal{C}}^{17} j + 318816 i \\, \\sqrt{3} \\sqrt{5 \\, {\\mathcal{C}}^{2} - 8} {\\mathcal{C}}^{16} n + 2045664 \\, {\\mathcal{C}}^{17} n - 299916 i \\, \\sqrt{3} \\sqrt{5 \\, {\\mathcal{C}}^{2} - 8} {\\mathcal{C}}^{16} - 913716 \\, {\\mathcal{C}}^{17} + 650880 i \\, \\sqrt{3} \\sqrt{5 \\, {\\mathcal{C}}^{2} - 8} {\\mathcal{C}}^{15} j + 39744 \\, {\\mathcal{C}}^{16} j - 403584 i \\, \\sqrt{3} \\sqrt{5 \\, {\\mathcal{C}}^{2} - 8} {\\mathcal{C}}^{15} n + 4935648 \\, {\\mathcal{C}}^{16} n - 81264 i \\, \\sqrt{3} \\sqrt{5 \\, {\\mathcal{C}}^{2} - 8} {\\mathcal{C}}^{15} - 4378152 \\, {\\mathcal{C}}^{16} + 898176 i \\, \\sqrt{3} \\sqrt{5 \\, {\\mathcal{C}}^{2} - 8} {\\mathcal{C}}^{14} j + 5116032 \\, {\\mathcal{C}}^{15} j - 1693056 i \\, \\sqrt{3} \\sqrt{5 \\, {\\mathcal{C}}^{2} - 8} {\\mathcal{C}}^{14} n - 3129216 \\, {\\mathcal{C}}^{15} n + 1007232 i \\, \\sqrt{3} \\sqrt{5 \\, {\\mathcal{C}}^{2} - 8} {\\mathcal{C}}^{14} - 671232 \\, {\\mathcal{C}}^{15} - 1401216 i \\, \\sqrt{3} \\sqrt{5 \\, {\\mathcal{C}}^{2} - 8} {\\mathcal{C}}^{13} j + 5954688 \\, {\\mathcal{C}}^{14} j - 799104 i \\, \\sqrt{3} \\sqrt{5 \\, {\\mathcal{C}}^{2} - 8} {\\mathcal{C}}^{13} n - 13753728 \\, {\\mathcal{C}}^{14} n + 1642992 i \\, \\sqrt{3} \\sqrt{5 \\, {\\mathcal{C}}^{2} - 8} {\\mathcal{C}}^{13} + 7652016 \\, {\\mathcal{C}}^{14} - 3139584 i \\, \\sqrt{3} \\sqrt{5 \\, {\\mathcal{C}}^{2} - 8} {\\mathcal{C}}^{12} j - 4624128 \\, {\\mathcal{C}}^{13} j + 3310464 i \\, \\sqrt{3} \\sqrt{5 \\, {\\mathcal{C}}^{2} - 8} {\\mathcal{C}}^{12} n - 5215872 \\, {\\mathcal{C}}^{13} n - 707616 i \\, \\sqrt{3} \\sqrt{5 \\, {\\mathcal{C}}^{2} - 8} {\\mathcal{C}}^{12} + 8632416 \\, {\\mathcal{C}}^{13} - 222336 i \\, \\sqrt{3} \\sqrt{5 \\, {\\mathcal{C}}^{2} - 8} {\\mathcal{C}}^{11} j - 20529792 \\, {\\mathcal{C}}^{12} j + 3920832 i \\, \\sqrt{3} \\sqrt{5 \\, {\\mathcal{C}}^{2} - 8} {\\mathcal{C}}^{11} n + 17267136 \\, {\\mathcal{C}}^{12} n - 3067056 i \\, \\sqrt{3} \\sqrt{5 \\, {\\mathcal{C}}^{2} - 8} {\\mathcal{C}}^{11} + 188688 \\, {\\mathcal{C}}^{12} + 4117824 i \\, \\sqrt{3} \\sqrt{5 \\, {\\mathcal{C}}^{2} - 8} {\\mathcal{C}}^{10} j - 11171520 \\, {\\mathcal{C}}^{11} j - 1679616 i \\, \\sqrt{3} \\sqrt{5 \\, {\\mathcal{C}}^{2} - 8} {\\mathcal{C}}^{10} n + 24581376 \\, {\\mathcal{C}}^{11} n - 1829088 i \\, \\sqrt{3} \\sqrt{5 \\, {\\mathcal{C}}^{2} - 8} {\\mathcal{C}}^{10} - 13979232 \\, {\\mathcal{C}}^{11} + 4663296 i \\, \\sqrt{3} \\sqrt{5 \\, {\\mathcal{C}}^{2} - 8} {\\mathcal{C}}^{9} j + 24067584 \\, {\\mathcal{C}}^{10} j - 5385216 i \\, \\sqrt{3} \\sqrt{5 \\, {\\mathcal{C}}^{2} - 8} {\\mathcal{C}}^{9} n - 1327872 \\, {\\mathcal{C}}^{10} n + 855552 i \\, \\sqrt{3} \\sqrt{5 \\, {\\mathcal{C}}^{2} - 8} {\\mathcal{C}}^{9} - 16465344 \\, {\\mathcal{C}}^{10} - 253056 i \\, \\sqrt{3} \\sqrt{5 \\, {\\mathcal{C}}^{2} - 8} {\\mathcal{C}}^{8} j + 31552128 \\, {\\mathcal{C}}^{9} j - 2747904 i \\, \\sqrt{3} \\sqrt{5 \\, {\\mathcal{C}}^{2} - 8} {\\mathcal{C}}^{8} n - 30586368 \\, {\\mathcal{C}}^{9} n + 2684352 i \\, \\sqrt{3} \\sqrt{5 \\, {\\mathcal{C}}^{2} - 8} {\\mathcal{C}}^{8} + 1390656 \\, {\\mathcal{C}}^{9} - 5044224 i \\, \\sqrt{3} \\sqrt{5 \\, {\\mathcal{C}}^{2} - 8} {\\mathcal{C}}^{7} j + 1354752 \\, {\\mathcal{C}}^{8} j + 2067456 i \\, \\sqrt{3} \\sqrt{5 \\, {\\mathcal{C}}^{2} - 8} {\\mathcal{C}}^{7} n - 20316672 \\, {\\mathcal{C}}^{8} n + 2295552 i \\, \\sqrt{3} \\sqrt{5 \\, {\\mathcal{C}}^{2} - 8} {\\mathcal{C}}^{7} + 14875776 \\, {\\mathcal{C}}^{8} - 3781632 i \\, \\sqrt{3} \\sqrt{5 \\, {\\mathcal{C}}^{2} - 8} {\\mathcal{C}}^{6} j - 23749632 \\, {\\mathcal{C}}^{7} j + 3563520 i \\, \\sqrt{3} \\sqrt{5 \\, {\\mathcal{C}}^{2} - 8} {\\mathcal{C}}^{6} n + 9633792 \\, {\\mathcal{C}}^{7} n + 198144 i \\, \\sqrt{3} \\sqrt{5 \\, {\\mathcal{C}}^{2} - 8} {\\mathcal{C}}^{6} + 11761152 \\, {\\mathcal{C}}^{7} + 36864 i \\, \\sqrt{3} \\sqrt{5 \\, {\\mathcal{C}}^{2} - 8} {\\mathcal{C}}^{5} j - 21270528 \\, {\\mathcal{C}}^{6} j + 1354752 i \\, \\sqrt{3} \\sqrt{5 \\, {\\mathcal{C}}^{2} - 8} {\\mathcal{C}}^{5} n + 18416640 \\, {\\mathcal{C}}^{6} n - 1082880 i \\, \\sqrt{3} \\sqrt{5 \\, {\\mathcal{C}}^{2} - 8} {\\mathcal{C}}^{5} + 2692608 \\, {\\mathcal{C}}^{6} + 1838592 i \\, \\sqrt{3} \\sqrt{5 \\, {\\mathcal{C}}^{2} - 8} {\\mathcal{C}}^{4} j - 2612736 \\, {\\mathcal{C}}^{5} j - 663552 i \\, \\sqrt{3} \\sqrt{5 \\, {\\mathcal{C}}^{2} - 8} {\\mathcal{C}}^{4} n + 7667712 \\, {\\mathcal{C}}^{5} n - 1057536 i \\, \\sqrt{3} \\sqrt{5 \\, {\\mathcal{C}}^{2} - 8} {\\mathcal{C}}^{4} - 4066560 \\, {\\mathcal{C}}^{5} + 1456128 i \\, \\sqrt{3} \\sqrt{5 \\, {\\mathcal{C}}^{2} - 8} {\\mathcal{C}}^{3} j + 8349696 \\, {\\mathcal{C}}^{4} j - 877568 i \\, \\sqrt{3} \\sqrt{5 \\, {\\mathcal{C}}^{2} - 8} {\\mathcal{C}}^{3} n - 2456576 \\, {\\mathcal{C}}^{4} n - 576256 i \\, \\sqrt{3} \\sqrt{5 \\, {\\mathcal{C}}^{2} - 8} {\\mathcal{C}}^{3} - 5056768 \\, {\\mathcal{C}}^{4} + 566272 i \\, \\sqrt{3} \\sqrt{5 \\, {\\mathcal{C}}^{2} - 8} {\\mathcal{C}}^{2} j + 6964224 \\, {\\mathcal{C}}^{3} j - 397312 i \\, \\sqrt{3} \\sqrt{5 \\, {\\mathcal{C}}^{2} - 8} {\\mathcal{C}}^{2} n - 4173824 \\, {\\mathcal{C}}^{3} n - 189952 i \\, \\sqrt{3} \\sqrt{5 \\, {\\mathcal{C}}^{2} - 8} {\\mathcal{C}}^{2} - 2764288 \\, {\\mathcal{C}}^{3} + 114688 i \\, \\sqrt{3} \\sqrt{5 \\, {\\mathcal{C}}^{2} - 8} {\\mathcal{C}} j + 2727936 \\, {\\mathcal{C}}^{2} j - 90112 i \\, \\sqrt{3} \\sqrt{5 \\, {\\mathcal{C}}^{2} - 8} {\\mathcal{C}} n - 1953792 \\, {\\mathcal{C}}^{2} n - 34816 i \\, \\sqrt{3} \\sqrt{5 \\, {\\mathcal{C}}^{2} - 8} {\\mathcal{C}} - 906240 \\, {\\mathcal{C}}^{2} + 10240 i \\, \\sqrt{3} \\sqrt{5 \\, {\\mathcal{C}}^{2} - 8} j + 571392 \\, {\\mathcal{C}} j - 8192 i \\, \\sqrt{3} \\sqrt{5 \\, {\\mathcal{C}}^{2} - 8} n - 434176 \\, {\\mathcal{C}} n - 3072 i \\, \\sqrt{3} \\sqrt{5 \\, {\\mathcal{C}}^{2} - 8} - 177152 \\, {\\mathcal{C}} + 49152 \\, j - 40960 \\, n - 14336\\right)} \\left(-1\\right)^{n} {\\left({\\mathcal{C}} - 1\\right)}}{693 i \\, \\sqrt{3} \\sqrt{5 \\, {\\mathcal{C}}^{2} - 8} {\\mathcal{C}}^{20} - 24429 \\, {\\mathcal{C}}^{21} + 17802 i \\, \\sqrt{3} \\sqrt{5 \\, {\\mathcal{C}}^{2} - 8} {\\mathcal{C}}^{19} + 26118 \\, {\\mathcal{C}}^{20} + 22086 i \\, \\sqrt{3} \\sqrt{5 \\, {\\mathcal{C}}^{2} - 8} {\\mathcal{C}}^{18} + 352206 \\, {\\mathcal{C}}^{19} - 221184 i \\, \\sqrt{3} \\sqrt{5 \\, {\\mathcal{C}}^{2} - 8} {\\mathcal{C}}^{17} + 160968 \\, {\\mathcal{C}}^{18} - 373140 i \\, \\sqrt{3} \\sqrt{5 \\, {\\mathcal{C}}^{2} - 8} {\\mathcal{C}}^{16} - 1949292 \\, {\\mathcal{C}}^{17} + 821664 i \\, \\sqrt{3} \\sqrt{5 \\, {\\mathcal{C}}^{2} - 8} {\\mathcal{C}}^{15} - 3579984 \\, {\\mathcal{C}}^{16} + 2107296 i \\, \\sqrt{3} \\sqrt{5 \\, {\\mathcal{C}}^{2} - 8} {\\mathcal{C}}^{14} + 3910176 \\, {\\mathcal{C}}^{15} - 322272 i \\, \\sqrt{3} \\sqrt{5 \\, {\\mathcal{C}}^{2} - 8} {\\mathcal{C}}^{13} + 17389728 \\, {\\mathcal{C}}^{14} - 5290272 i \\, \\sqrt{3} \\sqrt{5 \\, {\\mathcal{C}}^{2} - 8} {\\mathcal{C}}^{12} + 5236704 \\, {\\mathcal{C}}^{13} - 4718304 i \\, \\sqrt{3} \\sqrt{5 \\, {\\mathcal{C}}^{2} - 8} {\\mathcal{C}}^{11} - 35143776 \\, {\\mathcal{C}}^{12} + 4680288 i \\, \\sqrt{3} \\sqrt{5 \\, {\\mathcal{C}}^{2} - 8} {\\mathcal{C}}^{10} - 38308896 \\, {\\mathcal{C}}^{11} + 11010816 i \\, \\sqrt{3} \\sqrt{5 \\, {\\mathcal{C}}^{2} - 8} {\\mathcal{C}}^{9} + 20780928 \\, {\\mathcal{C}}^{10} + 3682368 i \\, \\sqrt{3} \\sqrt{5 \\, {\\mathcal{C}}^{2} - 8} {\\mathcal{C}}^{8} + 64640448 \\, {\\mathcal{C}}^{9} - 7506432 i \\, \\sqrt{3} \\sqrt{5 \\, {\\mathcal{C}}^{2} - 8} {\\mathcal{C}}^{7} + 30599424 \\, {\\mathcal{C}}^{8} - 8833536 i \\, \\sqrt{3} \\sqrt{5 \\, {\\mathcal{C}}^{2} - 8} {\\mathcal{C}}^{6} - 33716736 \\, {\\mathcal{C}}^{7} - 2128896 i \\, \\sqrt{3} \\sqrt{5 \\, {\\mathcal{C}}^{2} - 8} {\\mathcal{C}}^{5} - 48264192 \\, {\\mathcal{C}}^{6} + 2909952 i \\, \\sqrt{3} \\sqrt{5 \\, {\\mathcal{C}}^{2} - 8} {\\mathcal{C}}^{4} - 15185664 \\, {\\mathcal{C}}^{5} + 3027456 i \\, \\sqrt{3} \\sqrt{5 \\, {\\mathcal{C}}^{2} - 8} {\\mathcal{C}}^{3} + 12289536 \\, {\\mathcal{C}}^{4} + 1322496 i \\, \\sqrt{3} \\sqrt{5 \\, {\\mathcal{C}}^{2} - 8} {\\mathcal{C}}^{2} + 14366208 \\, {\\mathcal{C}}^{3} + 294912 i \\, \\sqrt{3} \\sqrt{5 \\, {\\mathcal{C}}^{2} - 8} {\\mathcal{C}} + 6432768 \\, {\\mathcal{C}}^{2} + 27648 i \\, \\sqrt{3} \\sqrt{5 \\, {\\mathcal{C}}^{2} - 8} + 1446912 \\, {\\mathcal{C}} + 135168}\\)</html>"
      ],
      "text/latex": [
       "$\\displaystyle -\\frac{2 \\, {\\left(3956 i \\, \\sqrt{3} \\sqrt{5 \\, {\\mathcal{C}}^{2} - 8} {\\mathcal{C}}^{21} n + 5804 \\, {\\mathcal{C}}^{22} n - 3956 i \\, \\sqrt{3} \\sqrt{5 \\, {\\mathcal{C}}^{2} - 8} {\\mathcal{C}}^{21} - 5804 \\, {\\mathcal{C}}^{22} + 4418 i \\, \\sqrt{3} \\sqrt{5 \\, {\\mathcal{C}}^{2} - 8} {\\mathcal{C}}^{20} j - 10482 \\, {\\mathcal{C}}^{21} j - 4880 i \\, \\sqrt{3} \\sqrt{5 \\, {\\mathcal{C}}^{2} - 8} {\\mathcal{C}}^{20} n + 26768 \\, {\\mathcal{C}}^{21} n + 2671 i \\, \\sqrt{3} \\sqrt{5 \\, {\\mathcal{C}}^{2} - 8} {\\mathcal{C}}^{20} - 21527 \\, {\\mathcal{C}}^{21} + 3032 i \\, \\sqrt{3} \\sqrt{5 \\, {\\mathcal{C}}^{2} - 8} {\\mathcal{C}}^{19} j + 38376 \\, {\\mathcal{C}}^{20} j - 54932 i \\, \\sqrt{3} \\sqrt{5 \\, {\\mathcal{C}}^{2} - 8} {\\mathcal{C}}^{19} n + 21636 \\, {\\mathcal{C}}^{20} n + 50449 i \\, \\sqrt{3} \\sqrt{5 \\, {\\mathcal{C}}^{2} - 8} {\\mathcal{C}}^{19} - 45177 \\, {\\mathcal{C}}^{20} - 31372 i \\, \\sqrt{3} \\sqrt{5 \\, {\\mathcal{C}}^{2} - 8} {\\mathcal{C}}^{18} j + 235476 \\, {\\mathcal{C}}^{19} j + 1712 i \\, \\sqrt{3} \\sqrt{5 \\, {\\mathcal{C}}^{2} - 8} {\\mathcal{C}}^{18} n - 415856 \\, {\\mathcal{C}}^{19} n + 17634 i \\, \\sqrt{3} \\sqrt{5 \\, {\\mathcal{C}}^{2} - 8} {\\mathcal{C}}^{18} + 278042 \\, {\\mathcal{C}}^{19} - 99648 i \\, \\sqrt{3} \\sqrt{5 \\, {\\mathcal{C}}^{2} - 8} {\\mathcal{C}}^{17} j - 309216 \\, {\\mathcal{C}}^{18} j + 263520 i \\, \\sqrt{3} \\sqrt{5 \\, {\\mathcal{C}}^{2} - 8} {\\mathcal{C}}^{17} n - 797264 \\, {\\mathcal{C}}^{18} n - 175464 i \\, \\sqrt{3} \\sqrt{5 \\, {\\mathcal{C}}^{2} - 8} {\\mathcal{C}}^{17} + 931292 \\, {\\mathcal{C}}^{18} - 33048 i \\, \\sqrt{3} \\sqrt{5 \\, {\\mathcal{C}}^{2} - 8} {\\mathcal{C}}^{16} j - 1680264 \\, {\\mathcal{C}}^{17} j + 318816 i \\, \\sqrt{3} \\sqrt{5 \\, {\\mathcal{C}}^{2} - 8} {\\mathcal{C}}^{16} n + 2045664 \\, {\\mathcal{C}}^{17} n - 299916 i \\, \\sqrt{3} \\sqrt{5 \\, {\\mathcal{C}}^{2} - 8} {\\mathcal{C}}^{16} - 913716 \\, {\\mathcal{C}}^{17} + 650880 i \\, \\sqrt{3} \\sqrt{5 \\, {\\mathcal{C}}^{2} - 8} {\\mathcal{C}}^{15} j + 39744 \\, {\\mathcal{C}}^{16} j - 403584 i \\, \\sqrt{3} \\sqrt{5 \\, {\\mathcal{C}}^{2} - 8} {\\mathcal{C}}^{15} n + 4935648 \\, {\\mathcal{C}}^{16} n - 81264 i \\, \\sqrt{3} \\sqrt{5 \\, {\\mathcal{C}}^{2} - 8} {\\mathcal{C}}^{15} - 4378152 \\, {\\mathcal{C}}^{16} + 898176 i \\, \\sqrt{3} \\sqrt{5 \\, {\\mathcal{C}}^{2} - 8} {\\mathcal{C}}^{14} j + 5116032 \\, {\\mathcal{C}}^{15} j - 1693056 i \\, \\sqrt{3} \\sqrt{5 \\, {\\mathcal{C}}^{2} - 8} {\\mathcal{C}}^{14} n - 3129216 \\, {\\mathcal{C}}^{15} n + 1007232 i \\, \\sqrt{3} \\sqrt{5 \\, {\\mathcal{C}}^{2} - 8} {\\mathcal{C}}^{14} - 671232 \\, {\\mathcal{C}}^{15} - 1401216 i \\, \\sqrt{3} \\sqrt{5 \\, {\\mathcal{C}}^{2} - 8} {\\mathcal{C}}^{13} j + 5954688 \\, {\\mathcal{C}}^{14} j - 799104 i \\, \\sqrt{3} \\sqrt{5 \\, {\\mathcal{C}}^{2} - 8} {\\mathcal{C}}^{13} n - 13753728 \\, {\\mathcal{C}}^{14} n + 1642992 i \\, \\sqrt{3} \\sqrt{5 \\, {\\mathcal{C}}^{2} - 8} {\\mathcal{C}}^{13} + 7652016 \\, {\\mathcal{C}}^{14} - 3139584 i \\, \\sqrt{3} \\sqrt{5 \\, {\\mathcal{C}}^{2} - 8} {\\mathcal{C}}^{12} j - 4624128 \\, {\\mathcal{C}}^{13} j + 3310464 i \\, \\sqrt{3} \\sqrt{5 \\, {\\mathcal{C}}^{2} - 8} {\\mathcal{C}}^{12} n - 5215872 \\, {\\mathcal{C}}^{13} n - 707616 i \\, \\sqrt{3} \\sqrt{5 \\, {\\mathcal{C}}^{2} - 8} {\\mathcal{C}}^{12} + 8632416 \\, {\\mathcal{C}}^{13} - 222336 i \\, \\sqrt{3} \\sqrt{5 \\, {\\mathcal{C}}^{2} - 8} {\\mathcal{C}}^{11} j - 20529792 \\, {\\mathcal{C}}^{12} j + 3920832 i \\, \\sqrt{3} \\sqrt{5 \\, {\\mathcal{C}}^{2} - 8} {\\mathcal{C}}^{11} n + 17267136 \\, {\\mathcal{C}}^{12} n - 3067056 i \\, \\sqrt{3} \\sqrt{5 \\, {\\mathcal{C}}^{2} - 8} {\\mathcal{C}}^{11} + 188688 \\, {\\mathcal{C}}^{12} + 4117824 i \\, \\sqrt{3} \\sqrt{5 \\, {\\mathcal{C}}^{2} - 8} {\\mathcal{C}}^{10} j - 11171520 \\, {\\mathcal{C}}^{11} j - 1679616 i \\, \\sqrt{3} \\sqrt{5 \\, {\\mathcal{C}}^{2} - 8} {\\mathcal{C}}^{10} n + 24581376 \\, {\\mathcal{C}}^{11} n - 1829088 i \\, \\sqrt{3} \\sqrt{5 \\, {\\mathcal{C}}^{2} - 8} {\\mathcal{C}}^{10} - 13979232 \\, {\\mathcal{C}}^{11} + 4663296 i \\, \\sqrt{3} \\sqrt{5 \\, {\\mathcal{C}}^{2} - 8} {\\mathcal{C}}^{9} j + 24067584 \\, {\\mathcal{C}}^{10} j - 5385216 i \\, \\sqrt{3} \\sqrt{5 \\, {\\mathcal{C}}^{2} - 8} {\\mathcal{C}}^{9} n - 1327872 \\, {\\mathcal{C}}^{10} n + 855552 i \\, \\sqrt{3} \\sqrt{5 \\, {\\mathcal{C}}^{2} - 8} {\\mathcal{C}}^{9} - 16465344 \\, {\\mathcal{C}}^{10} - 253056 i \\, \\sqrt{3} \\sqrt{5 \\, {\\mathcal{C}}^{2} - 8} {\\mathcal{C}}^{8} j + 31552128 \\, {\\mathcal{C}}^{9} j - 2747904 i \\, \\sqrt{3} \\sqrt{5 \\, {\\mathcal{C}}^{2} - 8} {\\mathcal{C}}^{8} n - 30586368 \\, {\\mathcal{C}}^{9} n + 2684352 i \\, \\sqrt{3} \\sqrt{5 \\, {\\mathcal{C}}^{2} - 8} {\\mathcal{C}}^{8} + 1390656 \\, {\\mathcal{C}}^{9} - 5044224 i \\, \\sqrt{3} \\sqrt{5 \\, {\\mathcal{C}}^{2} - 8} {\\mathcal{C}}^{7} j + 1354752 \\, {\\mathcal{C}}^{8} j + 2067456 i \\, \\sqrt{3} \\sqrt{5 \\, {\\mathcal{C}}^{2} - 8} {\\mathcal{C}}^{7} n - 20316672 \\, {\\mathcal{C}}^{8} n + 2295552 i \\, \\sqrt{3} \\sqrt{5 \\, {\\mathcal{C}}^{2} - 8} {\\mathcal{C}}^{7} + 14875776 \\, {\\mathcal{C}}^{8} - 3781632 i \\, \\sqrt{3} \\sqrt{5 \\, {\\mathcal{C}}^{2} - 8} {\\mathcal{C}}^{6} j - 23749632 \\, {\\mathcal{C}}^{7} j + 3563520 i \\, \\sqrt{3} \\sqrt{5 \\, {\\mathcal{C}}^{2} - 8} {\\mathcal{C}}^{6} n + 9633792 \\, {\\mathcal{C}}^{7} n + 198144 i \\, \\sqrt{3} \\sqrt{5 \\, {\\mathcal{C}}^{2} - 8} {\\mathcal{C}}^{6} + 11761152 \\, {\\mathcal{C}}^{7} + 36864 i \\, \\sqrt{3} \\sqrt{5 \\, {\\mathcal{C}}^{2} - 8} {\\mathcal{C}}^{5} j - 21270528 \\, {\\mathcal{C}}^{6} j + 1354752 i \\, \\sqrt{3} \\sqrt{5 \\, {\\mathcal{C}}^{2} - 8} {\\mathcal{C}}^{5} n + 18416640 \\, {\\mathcal{C}}^{6} n - 1082880 i \\, \\sqrt{3} \\sqrt{5 \\, {\\mathcal{C}}^{2} - 8} {\\mathcal{C}}^{5} + 2692608 \\, {\\mathcal{C}}^{6} + 1838592 i \\, \\sqrt{3} \\sqrt{5 \\, {\\mathcal{C}}^{2} - 8} {\\mathcal{C}}^{4} j - 2612736 \\, {\\mathcal{C}}^{5} j - 663552 i \\, \\sqrt{3} \\sqrt{5 \\, {\\mathcal{C}}^{2} - 8} {\\mathcal{C}}^{4} n + 7667712 \\, {\\mathcal{C}}^{5} n - 1057536 i \\, \\sqrt{3} \\sqrt{5 \\, {\\mathcal{C}}^{2} - 8} {\\mathcal{C}}^{4} - 4066560 \\, {\\mathcal{C}}^{5} + 1456128 i \\, \\sqrt{3} \\sqrt{5 \\, {\\mathcal{C}}^{2} - 8} {\\mathcal{C}}^{3} j + 8349696 \\, {\\mathcal{C}}^{4} j - 877568 i \\, \\sqrt{3} \\sqrt{5 \\, {\\mathcal{C}}^{2} - 8} {\\mathcal{C}}^{3} n - 2456576 \\, {\\mathcal{C}}^{4} n - 576256 i \\, \\sqrt{3} \\sqrt{5 \\, {\\mathcal{C}}^{2} - 8} {\\mathcal{C}}^{3} - 5056768 \\, {\\mathcal{C}}^{4} + 566272 i \\, \\sqrt{3} \\sqrt{5 \\, {\\mathcal{C}}^{2} - 8} {\\mathcal{C}}^{2} j + 6964224 \\, {\\mathcal{C}}^{3} j - 397312 i \\, \\sqrt{3} \\sqrt{5 \\, {\\mathcal{C}}^{2} - 8} {\\mathcal{C}}^{2} n - 4173824 \\, {\\mathcal{C}}^{3} n - 189952 i \\, \\sqrt{3} \\sqrt{5 \\, {\\mathcal{C}}^{2} - 8} {\\mathcal{C}}^{2} - 2764288 \\, {\\mathcal{C}}^{3} + 114688 i \\, \\sqrt{3} \\sqrt{5 \\, {\\mathcal{C}}^{2} - 8} {\\mathcal{C}} j + 2727936 \\, {\\mathcal{C}}^{2} j - 90112 i \\, \\sqrt{3} \\sqrt{5 \\, {\\mathcal{C}}^{2} - 8} {\\mathcal{C}} n - 1953792 \\, {\\mathcal{C}}^{2} n - 34816 i \\, \\sqrt{3} \\sqrt{5 \\, {\\mathcal{C}}^{2} - 8} {\\mathcal{C}} - 906240 \\, {\\mathcal{C}}^{2} + 10240 i \\, \\sqrt{3} \\sqrt{5 \\, {\\mathcal{C}}^{2} - 8} j + 571392 \\, {\\mathcal{C}} j - 8192 i \\, \\sqrt{3} \\sqrt{5 \\, {\\mathcal{C}}^{2} - 8} n - 434176 \\, {\\mathcal{C}} n - 3072 i \\, \\sqrt{3} \\sqrt{5 \\, {\\mathcal{C}}^{2} - 8} - 177152 \\, {\\mathcal{C}} + 49152 \\, j - 40960 \\, n - 14336\\right)} \\left(-1\\right)^{n} {\\left({\\mathcal{C}} - 1\\right)}}{693 i \\, \\sqrt{3} \\sqrt{5 \\, {\\mathcal{C}}^{2} - 8} {\\mathcal{C}}^{20} - 24429 \\, {\\mathcal{C}}^{21} + 17802 i \\, \\sqrt{3} \\sqrt{5 \\, {\\mathcal{C}}^{2} - 8} {\\mathcal{C}}^{19} + 26118 \\, {\\mathcal{C}}^{20} + 22086 i \\, \\sqrt{3} \\sqrt{5 \\, {\\mathcal{C}}^{2} - 8} {\\mathcal{C}}^{18} + 352206 \\, {\\mathcal{C}}^{19} - 221184 i \\, \\sqrt{3} \\sqrt{5 \\, {\\mathcal{C}}^{2} - 8} {\\mathcal{C}}^{17} + 160968 \\, {\\mathcal{C}}^{18} - 373140 i \\, \\sqrt{3} \\sqrt{5 \\, {\\mathcal{C}}^{2} - 8} {\\mathcal{C}}^{16} - 1949292 \\, {\\mathcal{C}}^{17} + 821664 i \\, \\sqrt{3} \\sqrt{5 \\, {\\mathcal{C}}^{2} - 8} {\\mathcal{C}}^{15} - 3579984 \\, {\\mathcal{C}}^{16} + 2107296 i \\, \\sqrt{3} \\sqrt{5 \\, {\\mathcal{C}}^{2} - 8} {\\mathcal{C}}^{14} + 3910176 \\, {\\mathcal{C}}^{15} - 322272 i \\, \\sqrt{3} \\sqrt{5 \\, {\\mathcal{C}}^{2} - 8} {\\mathcal{C}}^{13} + 17389728 \\, {\\mathcal{C}}^{14} - 5290272 i \\, \\sqrt{3} \\sqrt{5 \\, {\\mathcal{C}}^{2} - 8} {\\mathcal{C}}^{12} + 5236704 \\, {\\mathcal{C}}^{13} - 4718304 i \\, \\sqrt{3} \\sqrt{5 \\, {\\mathcal{C}}^{2} - 8} {\\mathcal{C}}^{11} - 35143776 \\, {\\mathcal{C}}^{12} + 4680288 i \\, \\sqrt{3} \\sqrt{5 \\, {\\mathcal{C}}^{2} - 8} {\\mathcal{C}}^{10} - 38308896 \\, {\\mathcal{C}}^{11} + 11010816 i \\, \\sqrt{3} \\sqrt{5 \\, {\\mathcal{C}}^{2} - 8} {\\mathcal{C}}^{9} + 20780928 \\, {\\mathcal{C}}^{10} + 3682368 i \\, \\sqrt{3} \\sqrt{5 \\, {\\mathcal{C}}^{2} - 8} {\\mathcal{C}}^{8} + 64640448 \\, {\\mathcal{C}}^{9} - 7506432 i \\, \\sqrt{3} \\sqrt{5 \\, {\\mathcal{C}}^{2} - 8} {\\mathcal{C}}^{7} + 30599424 \\, {\\mathcal{C}}^{8} - 8833536 i \\, \\sqrt{3} \\sqrt{5 \\, {\\mathcal{C}}^{2} - 8} {\\mathcal{C}}^{6} - 33716736 \\, {\\mathcal{C}}^{7} - 2128896 i \\, \\sqrt{3} \\sqrt{5 \\, {\\mathcal{C}}^{2} - 8} {\\mathcal{C}}^{5} - 48264192 \\, {\\mathcal{C}}^{6} + 2909952 i \\, \\sqrt{3} \\sqrt{5 \\, {\\mathcal{C}}^{2} - 8} {\\mathcal{C}}^{4} - 15185664 \\, {\\mathcal{C}}^{5} + 3027456 i \\, \\sqrt{3} \\sqrt{5 \\, {\\mathcal{C}}^{2} - 8} {\\mathcal{C}}^{3} + 12289536 \\, {\\mathcal{C}}^{4} + 1322496 i \\, \\sqrt{3} \\sqrt{5 \\, {\\mathcal{C}}^{2} - 8} {\\mathcal{C}}^{2} + 14366208 \\, {\\mathcal{C}}^{3} + 294912 i \\, \\sqrt{3} \\sqrt{5 \\, {\\mathcal{C}}^{2} - 8} {\\mathcal{C}} + 6432768 \\, {\\mathcal{C}}^{2} + 27648 i \\, \\sqrt{3} \\sqrt{5 \\, {\\mathcal{C}}^{2} - 8} + 1446912 \\, {\\mathcal{C}} + 135168}$"
      ],
      "text/plain": [
       "-2*(3956*I*sqrt(3)*sqrt(5*C^2 - 8)*C^21*n + 5804*C^22*n - 3956*I*sqrt(3)*sqrt(5*C^2 - 8)*C^21 - 5804*C^22 + 4418*I*sqrt(3)*sqrt(5*C^2 - 8)*C^20*j - 10482*C^21*j - 4880*I*sqrt(3)*sqrt(5*C^2 - 8)*C^20*n + 26768*C^21*n + 2671*I*sqrt(3)*sqrt(5*C^2 - 8)*C^20 - 21527*C^21 + 3032*I*sqrt(3)*sqrt(5*C^2 - 8)*C^19*j + 38376*C^20*j - 54932*I*sqrt(3)*sqrt(5*C^2 - 8)*C^19*n + 21636*C^20*n + 50449*I*sqrt(3)*sqrt(5*C^2 - 8)*C^19 - 45177*C^20 - 31372*I*sqrt(3)*sqrt(5*C^2 - 8)*C^18*j + 235476*C^19*j + 1712*I*sqrt(3)*sqrt(5*C^2 - 8)*C^18*n - 415856*C^19*n + 17634*I*sqrt(3)*sqrt(5*C^2 - 8)*C^18 + 278042*C^19 - 99648*I*sqrt(3)*sqrt(5*C^2 - 8)*C^17*j - 309216*C^18*j + 263520*I*sqrt(3)*sqrt(5*C^2 - 8)*C^17*n - 797264*C^18*n - 175464*I*sqrt(3)*sqrt(5*C^2 - 8)*C^17 + 931292*C^18 - 33048*I*sqrt(3)*sqrt(5*C^2 - 8)*C^16*j - 1680264*C^17*j + 318816*I*sqrt(3)*sqrt(5*C^2 - 8)*C^16*n + 2045664*C^17*n - 299916*I*sqrt(3)*sqrt(5*C^2 - 8)*C^16 - 913716*C^17 + 650880*I*sqrt(3)*sqrt(5*C^2 - 8)*C^15*j + 39744*C^16*j - 403584*I*sqrt(3)*sqrt(5*C^2 - 8)*C^15*n + 4935648*C^16*n - 81264*I*sqrt(3)*sqrt(5*C^2 - 8)*C^15 - 4378152*C^16 + 898176*I*sqrt(3)*sqrt(5*C^2 - 8)*C^14*j + 5116032*C^15*j - 1693056*I*sqrt(3)*sqrt(5*C^2 - 8)*C^14*n - 3129216*C^15*n + 1007232*I*sqrt(3)*sqrt(5*C^2 - 8)*C^14 - 671232*C^15 - 1401216*I*sqrt(3)*sqrt(5*C^2 - 8)*C^13*j + 5954688*C^14*j - 799104*I*sqrt(3)*sqrt(5*C^2 - 8)*C^13*n - 13753728*C^14*n + 1642992*I*sqrt(3)*sqrt(5*C^2 - 8)*C^13 + 7652016*C^14 - 3139584*I*sqrt(3)*sqrt(5*C^2 - 8)*C^12*j - 4624128*C^13*j + 3310464*I*sqrt(3)*sqrt(5*C^2 - 8)*C^12*n - 5215872*C^13*n - 707616*I*sqrt(3)*sqrt(5*C^2 - 8)*C^12 + 8632416*C^13 - 222336*I*sqrt(3)*sqrt(5*C^2 - 8)*C^11*j - 20529792*C^12*j + 3920832*I*sqrt(3)*sqrt(5*C^2 - 8)*C^11*n + 17267136*C^12*n - 3067056*I*sqrt(3)*sqrt(5*C^2 - 8)*C^11 + 188688*C^12 + 4117824*I*sqrt(3)*sqrt(5*C^2 - 8)*C^10*j - 11171520*C^11*j - 1679616*I*sqrt(3)*sqrt(5*C^2 - 8)*C^10*n + 24581376*C^11*n - 1829088*I*sqrt(3)*sqrt(5*C^2 - 8)*C^10 - 13979232*C^11 + 4663296*I*sqrt(3)*sqrt(5*C^2 - 8)*C^9*j + 24067584*C^10*j - 5385216*I*sqrt(3)*sqrt(5*C^2 - 8)*C^9*n - 1327872*C^10*n + 855552*I*sqrt(3)*sqrt(5*C^2 - 8)*C^9 - 16465344*C^10 - 253056*I*sqrt(3)*sqrt(5*C^2 - 8)*C^8*j + 31552128*C^9*j - 2747904*I*sqrt(3)*sqrt(5*C^2 - 8)*C^8*n - 30586368*C^9*n + 2684352*I*sqrt(3)*sqrt(5*C^2 - 8)*C^8 + 1390656*C^9 - 5044224*I*sqrt(3)*sqrt(5*C^2 - 8)*C^7*j + 1354752*C^8*j + 2067456*I*sqrt(3)*sqrt(5*C^2 - 8)*C^7*n - 20316672*C^8*n + 2295552*I*sqrt(3)*sqrt(5*C^2 - 8)*C^7 + 14875776*C^8 - 3781632*I*sqrt(3)*sqrt(5*C^2 - 8)*C^6*j - 23749632*C^7*j + 3563520*I*sqrt(3)*sqrt(5*C^2 - 8)*C^6*n + 9633792*C^7*n + 198144*I*sqrt(3)*sqrt(5*C^2 - 8)*C^6 + 11761152*C^7 + 36864*I*sqrt(3)*sqrt(5*C^2 - 8)*C^5*j - 21270528*C^6*j + 1354752*I*sqrt(3)*sqrt(5*C^2 - 8)*C^5*n + 18416640*C^6*n - 1082880*I*sqrt(3)*sqrt(5*C^2 - 8)*C^5 + 2692608*C^6 + 1838592*I*sqrt(3)*sqrt(5*C^2 - 8)*C^4*j - 2612736*C^5*j - 663552*I*sqrt(3)*sqrt(5*C^2 - 8)*C^4*n + 7667712*C^5*n - 1057536*I*sqrt(3)*sqrt(5*C^2 - 8)*C^4 - 4066560*C^5 + 1456128*I*sqrt(3)*sqrt(5*C^2 - 8)*C^3*j + 8349696*C^4*j - 877568*I*sqrt(3)*sqrt(5*C^2 - 8)*C^3*n - 2456576*C^4*n - 576256*I*sqrt(3)*sqrt(5*C^2 - 8)*C^3 - 5056768*C^4 + 566272*I*sqrt(3)*sqrt(5*C^2 - 8)*C^2*j + 6964224*C^3*j - 397312*I*sqrt(3)*sqrt(5*C^2 - 8)*C^2*n - 4173824*C^3*n - 189952*I*sqrt(3)*sqrt(5*C^2 - 8)*C^2 - 2764288*C^3 + 114688*I*sqrt(3)*sqrt(5*C^2 - 8)*C*j + 2727936*C^2*j - 90112*I*sqrt(3)*sqrt(5*C^2 - 8)*C*n - 1953792*C^2*n - 34816*I*sqrt(3)*sqrt(5*C^2 - 8)*C - 906240*C^2 + 10240*I*sqrt(3)*sqrt(5*C^2 - 8)*j + 571392*C*j - 8192*I*sqrt(3)*sqrt(5*C^2 - 8)*n - 434176*C*n - 3072*I*sqrt(3)*sqrt(5*C^2 - 8) - 177152*C + 49152*j - 40960*n - 14336)*(-1)^n*(C - 1)/(693*I*sqrt(3)*sqrt(5*C^2 - 8)*C^20 - 24429*C^21 + 17802*I*sqrt(3)*sqrt(5*C^2 - 8)*C^19 + 26118*C^20 + 22086*I*sqrt(3)*sqrt(5*C^2 - 8)*C^18 + 352206*C^19 - 221184*I*sqrt(3)*sqrt(5*C^2 - 8)*C^17 + 160968*C^18 - 373140*I*sqrt(3)*sqrt(5*C^2 - 8)*C^16 - 1949292*C^17 + 821664*I*sqrt(3)*sqrt(5*C^2 - 8)*C^15 - 3579984*C^16 + 2107296*I*sqrt(3)*sqrt(5*C^2 - 8)*C^14 + 3910176*C^15 - 322272*I*sqrt(3)*sqrt(5*C^2 - 8)*C^13 + 17389728*C^14 - 5290272*I*sqrt(3)*sqrt(5*C^2 - 8)*C^12 + 5236704*C^13 - 4718304*I*sqrt(3)*sqrt(5*C^2 - 8)*C^11 - 35143776*C^12 + 4680288*I*sqrt(3)*sqrt(5*C^2 - 8)*C^10 - 38308896*C^11 + 11010816*I*sqrt(3)*sqrt(5*C^2 - 8)*C^9 + 20780928*C^10 + 3682368*I*sqrt(3)*sqrt(5*C^2 - 8)*C^8 + 64640448*C^9 - 7506432*I*sqrt(3)*sqrt(5*C^2 - 8)*C^7 + 30599424*C^8 - 8833536*I*sqrt(3)*sqrt(5*C^2 - 8)*C^6 - 33716736*C^7 - 2128896*I*sqrt(3)*sqrt(5*C^2 - 8)*C^5 - 48264192*C^6 + 2909952*I*sqrt(3)*sqrt(5*C^2 - 8)*C^4 - 15185664*C^5 + 3027456*I*sqrt(3)*sqrt(5*C^2 - 8)*C^3 + 12289536*C^4 + 1322496*I*sqrt(3)*sqrt(5*C^2 - 8)*C^2 + 14366208*C^3 + 294912*I*sqrt(3)*sqrt(5*C^2 - 8)*C + 6432768*C^2 + 27648*I*sqrt(3)*sqrt(5*C^2 - 8) + 1446912*C + 135168)"
      ]
     },
     "metadata": {},
     "output_type": "display_data"
    }
   ],
   "source": [
    "print(\"======= Extrapolation sigma = 2 ======\")\n",
    "\n",
    "for i in range(q):\n",
    "    for j in range(q):\n",
    "        bd00[i, j] = bdMat_sigma2[i, j].full_simplify().collect(k).coefficient(k, 0)\n",
    "        bd01[i, j] = bdMat_sigma2[i, j].full_simplify().collect(k).coefficient(k, 1)\n",
    "        \n",
    "BKL[:, 0] = (bd00 + bd01*ks)*phiS ### First column\n",
    "BKL[:, 1] = (bd00)*phi01 ### Second column\n",
    "BKL[:, 2] = (bd00)*phi02 ### Third column\n",
    "\n",
    "DetKL = BKL.determinant().full_simplify()\n",
    "\n",
    "print(\"Kreiss Lopatinskii determinant at z = -1\")\n",
    "pretty_print(taylor(DetKL, z, -1, 1).full_simplify().factor())\n",
    "print(\"Kreiss Lopatinskii determinant at z = 1\")\n",
    "pretty_print(taylor(DetKL, z, 1, 0).factor())\n",
    "\n",
    "\n",
    "print(\"Computation of the long-time solution for the source term in the experiments using residues\")\n",
    "var('j')\n",
    "var('n')\n",
    "\n",
    "Cs = -2/3*(2*C**2*z-2*C**2+3*C*z+3*C-2*z+2)*z*g1m1Tilde/DetKL\n",
    "\n",
    "m1 = Cs*z**(n-1)*ks**(j)*phiS[0, 0]\n",
    "m2 = Cs*z**(n-1)*ks**(j)*phiS[1, 0]\n",
    "m3 = Cs*z**(n-1)*ks**(j)*phiS[2, 0]\n",
    "\n",
    "\n",
    "print(\"m1_j^n equals approximately\")\n",
    "pretty_print((m1.full_simplify().maxima_methods().residue(z,-1) \\\n",
    "            + m1.full_simplify().maxima_methods().residue(z,1)).factor())\n",
    "print(\"m2_j^n equals approximately\")\n",
    "pretty_print((m2.full_simplify().maxima_methods().residue(z,-1) \\\n",
    "            + m2.full_simplify().maxima_methods().residue(z,1)).factor())\n",
    "print(\"m3_j^n equals approximately\")\n",
    "pretty_print((m3.full_simplify().maxima_methods().residue(z,-1) \\\n",
    "            + m3.full_simplify().maxima_methods().residue(z,1)).factor())"
   ]
  },
  {
   "cell_type": "code",
   "execution_count": 49,
   "id": "04a5a23b",
   "metadata": {},
   "outputs": [
    {
     "name": "stdout",
     "output_type": "stream",
     "text": [
      "======= Extrapolation sigma = 3 ======\n",
      "Kreiss Lopatinskii determinant at z = -1\n"
     ]
    },
    {
     "data": {
      "text/html": [
       "<html>\\(\\displaystyle \\frac{2 \\, {\\left(-19 i \\, \\sqrt{3} \\sqrt{5 \\, {\\mathcal{C}}^{2} - 8} {\\mathcal{C}}^{7} + 27 \\, {\\mathcal{C}}^{8} - 2 i \\, \\sqrt{3} \\sqrt{5 \\, {\\mathcal{C}}^{2} - 8} {\\mathcal{C}}^{6} - 78 \\, {\\mathcal{C}}^{7} + 48 i \\, \\sqrt{3} \\sqrt{5 \\, {\\mathcal{C}}^{2} - 8} {\\mathcal{C}}^{5} - 300 \\, {\\mathcal{C}}^{6} + 60 i \\, \\sqrt{3} \\sqrt{5 \\, {\\mathcal{C}}^{2} - 8} {\\mathcal{C}}^{4} + 252 \\, {\\mathcal{C}}^{5} + 24 i \\, \\sqrt{3} \\sqrt{5 \\, {\\mathcal{C}}^{2} - 8} {\\mathcal{C}}^{3} + 720 \\, {\\mathcal{C}}^{4} - 96 i \\, \\sqrt{3} \\sqrt{5 \\, {\\mathcal{C}}^{2} - 8} {\\mathcal{C}}^{2} - 80 i \\, \\sqrt{3} \\sqrt{5 \\, {\\mathcal{C}}^{2} - 8} {\\mathcal{C}} - 432 \\, {\\mathcal{C}}^{2} - 16 i \\, \\sqrt{3} \\sqrt{5 \\, {\\mathcal{C}}^{2} - 8} - 336 \\, {\\mathcal{C}} - 96\\right)} {\\left({z} + 1\\right)}^{2}}{3 \\, {\\left(3 i \\, \\sqrt{3} \\sqrt{5 \\, {\\mathcal{C}}^{2} - 8} {\\mathcal{C}}^{5} - 11 \\, {\\mathcal{C}}^{6} + 60 \\, {\\mathcal{C}}^{4} - 12 i \\, \\sqrt{3} \\sqrt{5 \\, {\\mathcal{C}}^{2} - 8} {\\mathcal{C}} - 60 \\, {\\mathcal{C}}^{2} - 16\\right)} {\\left({\\mathcal{C}} - 1\\right)}}\\)</html>"
      ],
      "text/latex": [
       "$\\displaystyle \\frac{2 \\, {\\left(-19 i \\, \\sqrt{3} \\sqrt{5 \\, {\\mathcal{C}}^{2} - 8} {\\mathcal{C}}^{7} + 27 \\, {\\mathcal{C}}^{8} - 2 i \\, \\sqrt{3} \\sqrt{5 \\, {\\mathcal{C}}^{2} - 8} {\\mathcal{C}}^{6} - 78 \\, {\\mathcal{C}}^{7} + 48 i \\, \\sqrt{3} \\sqrt{5 \\, {\\mathcal{C}}^{2} - 8} {\\mathcal{C}}^{5} - 300 \\, {\\mathcal{C}}^{6} + 60 i \\, \\sqrt{3} \\sqrt{5 \\, {\\mathcal{C}}^{2} - 8} {\\mathcal{C}}^{4} + 252 \\, {\\mathcal{C}}^{5} + 24 i \\, \\sqrt{3} \\sqrt{5 \\, {\\mathcal{C}}^{2} - 8} {\\mathcal{C}}^{3} + 720 \\, {\\mathcal{C}}^{4} - 96 i \\, \\sqrt{3} \\sqrt{5 \\, {\\mathcal{C}}^{2} - 8} {\\mathcal{C}}^{2} - 80 i \\, \\sqrt{3} \\sqrt{5 \\, {\\mathcal{C}}^{2} - 8} {\\mathcal{C}} - 432 \\, {\\mathcal{C}}^{2} - 16 i \\, \\sqrt{3} \\sqrt{5 \\, {\\mathcal{C}}^{2} - 8} - 336 \\, {\\mathcal{C}} - 96\\right)} {\\left({z} + 1\\right)}^{2}}{3 \\, {\\left(3 i \\, \\sqrt{3} \\sqrt{5 \\, {\\mathcal{C}}^{2} - 8} {\\mathcal{C}}^{5} - 11 \\, {\\mathcal{C}}^{6} + 60 \\, {\\mathcal{C}}^{4} - 12 i \\, \\sqrt{3} \\sqrt{5 \\, {\\mathcal{C}}^{2} - 8} {\\mathcal{C}} - 60 \\, {\\mathcal{C}}^{2} - 16\\right)} {\\left({\\mathcal{C}} - 1\\right)}}$"
      ],
      "text/plain": [
       "2/3*(-19*I*sqrt(3)*sqrt(5*C^2 - 8)*C^7 + 27*C^8 - 2*I*sqrt(3)*sqrt(5*C^2 - 8)*C^6 - 78*C^7 + 48*I*sqrt(3)*sqrt(5*C^2 - 8)*C^5 - 300*C^6 + 60*I*sqrt(3)*sqrt(5*C^2 - 8)*C^4 + 252*C^5 + 24*I*sqrt(3)*sqrt(5*C^2 - 8)*C^3 + 720*C^4 - 96*I*sqrt(3)*sqrt(5*C^2 - 8)*C^2 - 80*I*sqrt(3)*sqrt(5*C^2 - 8)*C - 432*C^2 - 16*I*sqrt(3)*sqrt(5*C^2 - 8) - 336*C - 96)*(z + 1)^2/((3*I*sqrt(3)*sqrt(5*C^2 - 8)*C^5 - 11*C^6 + 60*C^4 - 12*I*sqrt(3)*sqrt(5*C^2 - 8)*C - 60*C^2 - 16)*(C - 1))"
      ]
     },
     "metadata": {},
     "output_type": "display_data"
    },
    {
     "name": "stdout",
     "output_type": "stream",
     "text": [
      "Kreiss Lopatinskii determinant at z = 1\n"
     ]
    },
    {
     "data": {
      "text/html": [
       "<html>\\(\\displaystyle \\frac{16 \\, {\\left(2 \\, {\\mathcal{C}} {z} - 2 \\, {\\mathcal{C}} + 5 \\, {z} - 3\\right)} {\\mathcal{C}}^{2}}{{z} - 1}\\)</html>"
      ],
      "text/latex": [
       "$\\displaystyle \\frac{16 \\, {\\left(2 \\, {\\mathcal{C}} {z} - 2 \\, {\\mathcal{C}} + 5 \\, {z} - 3\\right)} {\\mathcal{C}}^{2}}{{z} - 1}$"
      ],
      "text/plain": [
       "16*(2*C*z - 2*C + 5*z - 3)*C^2/(z - 1)"
      ]
     },
     "metadata": {},
     "output_type": "display_data"
    }
   ],
   "source": [
    "print(\"======= Extrapolation sigma = 3 ======\")\n",
    "\n",
    "for i in range(q):\n",
    "    for j in range(q):\n",
    "        bd00[i, j] = bdMat_sigma3[i, j].full_simplify().collect(k).coefficient(k, 0)\n",
    "        bd01[i, j] = bdMat_sigma3[i, j].full_simplify().collect(k).coefficient(k, 1)\n",
    "        bd02[i, j] = bdMat_sigma3[i, j].full_simplify().collect(k).coefficient(k, 2)\n",
    "        \n",
    "BKL[:, 0] = (bd00 + bd01*ks + bd02*ks**2)*phiS ### First column\n",
    "BKL[:, 1] = (bd00)*phi01 ### Second column\n",
    "BKL[:, 2] = (bd00)*phi02 ### Third column\n",
    "\n",
    "DetKL = BKL.determinant().full_simplify()\n",
    "\n",
    "print(\"Kreiss Lopatinskii determinant at z = -1\")\n",
    "pretty_print(taylor(DetKL, z, -1, 2).full_simplify().factor())\n",
    "print(\"Kreiss Lopatinskii determinant at z = 1\")\n",
    "pretty_print(taylor(DetKL, z, 1, 0).factor())\n"
   ]
  },
  {
   "cell_type": "code",
   "execution_count": 50,
   "id": "e7e7f90b",
   "metadata": {},
   "outputs": [
    {
     "name": "stdout",
     "output_type": "stream",
     "text": [
      "======= Extrapolation sigma = 4 ======\n",
      "Kreiss Lopatinskii determinant at z = -1\n"
     ]
    },
    {
     "data": {
      "text/html": [
       "<html>\\(\\displaystyle -\\frac{{\\left(5 i \\, \\sqrt{3} \\sqrt{5 \\, {\\mathcal{C}}^{2} - 8} {\\mathcal{C}}^{8} - 61 \\, {\\mathcal{C}}^{9} + 14 i \\, \\sqrt{3} \\sqrt{5 \\, {\\mathcal{C}}^{2} - 8} {\\mathcal{C}}^{7} + 34 \\, {\\mathcal{C}}^{8} + 26 i \\, \\sqrt{3} \\sqrt{5 \\, {\\mathcal{C}}^{2} - 8} {\\mathcal{C}}^{6} + 346 \\, {\\mathcal{C}}^{7} - 72 i \\, \\sqrt{3} \\sqrt{5 \\, {\\mathcal{C}}^{2} - 8} {\\mathcal{C}}^{5} + 32 \\, {\\mathcal{C}}^{6} - 132 i \\, \\sqrt{3} \\sqrt{5 \\, {\\mathcal{C}}^{2} - 8} {\\mathcal{C}}^{4} - 492 \\, {\\mathcal{C}}^{5} + 48 i \\, \\sqrt{3} \\sqrt{5 \\, {\\mathcal{C}}^{2} - 8} {\\mathcal{C}}^{3} - 480 \\, {\\mathcal{C}}^{4} + 112 i \\, \\sqrt{3} \\sqrt{5 \\, {\\mathcal{C}}^{2} - 8} {\\mathcal{C}}^{2} - 80 \\, {\\mathcal{C}}^{3} + 64 i \\, \\sqrt{3} \\sqrt{5 \\, {\\mathcal{C}}^{2} - 8} {\\mathcal{C}} + 512 \\, {\\mathcal{C}}^{2} + 16 i \\, \\sqrt{3} \\sqrt{5 \\, {\\mathcal{C}}^{2} - 8} + 368 \\, {\\mathcal{C}} + 64\\right)} {\\left({z} + 1\\right)}^{3}}{{\\left(3 i \\, \\sqrt{3} \\sqrt{5 \\, {\\mathcal{C}}^{2} - 8} {\\mathcal{C}}^{5} - 11 \\, {\\mathcal{C}}^{6} + 60 \\, {\\mathcal{C}}^{4} - 12 i \\, \\sqrt{3} \\sqrt{5 \\, {\\mathcal{C}}^{2} - 8} {\\mathcal{C}} - 60 \\, {\\mathcal{C}}^{2} - 16\\right)} {\\left({\\mathcal{C}} + 1\\right)} {\\left({\\mathcal{C}} - 1\\right)}^{2}}\\)</html>"
      ],
      "text/latex": [
       "$\\displaystyle -\\frac{{\\left(5 i \\, \\sqrt{3} \\sqrt{5 \\, {\\mathcal{C}}^{2} - 8} {\\mathcal{C}}^{8} - 61 \\, {\\mathcal{C}}^{9} + 14 i \\, \\sqrt{3} \\sqrt{5 \\, {\\mathcal{C}}^{2} - 8} {\\mathcal{C}}^{7} + 34 \\, {\\mathcal{C}}^{8} + 26 i \\, \\sqrt{3} \\sqrt{5 \\, {\\mathcal{C}}^{2} - 8} {\\mathcal{C}}^{6} + 346 \\, {\\mathcal{C}}^{7} - 72 i \\, \\sqrt{3} \\sqrt{5 \\, {\\mathcal{C}}^{2} - 8} {\\mathcal{C}}^{5} + 32 \\, {\\mathcal{C}}^{6} - 132 i \\, \\sqrt{3} \\sqrt{5 \\, {\\mathcal{C}}^{2} - 8} {\\mathcal{C}}^{4} - 492 \\, {\\mathcal{C}}^{5} + 48 i \\, \\sqrt{3} \\sqrt{5 \\, {\\mathcal{C}}^{2} - 8} {\\mathcal{C}}^{3} - 480 \\, {\\mathcal{C}}^{4} + 112 i \\, \\sqrt{3} \\sqrt{5 \\, {\\mathcal{C}}^{2} - 8} {\\mathcal{C}}^{2} - 80 \\, {\\mathcal{C}}^{3} + 64 i \\, \\sqrt{3} \\sqrt{5 \\, {\\mathcal{C}}^{2} - 8} {\\mathcal{C}} + 512 \\, {\\mathcal{C}}^{2} + 16 i \\, \\sqrt{3} \\sqrt{5 \\, {\\mathcal{C}}^{2} - 8} + 368 \\, {\\mathcal{C}} + 64\\right)} {\\left({z} + 1\\right)}^{3}}{{\\left(3 i \\, \\sqrt{3} \\sqrt{5 \\, {\\mathcal{C}}^{2} - 8} {\\mathcal{C}}^{5} - 11 \\, {\\mathcal{C}}^{6} + 60 \\, {\\mathcal{C}}^{4} - 12 i \\, \\sqrt{3} \\sqrt{5 \\, {\\mathcal{C}}^{2} - 8} {\\mathcal{C}} - 60 \\, {\\mathcal{C}}^{2} - 16\\right)} {\\left({\\mathcal{C}} + 1\\right)} {\\left({\\mathcal{C}} - 1\\right)}^{2}}$"
      ],
      "text/plain": [
       "-(5*I*sqrt(3)*sqrt(5*C^2 - 8)*C^8 - 61*C^9 + 14*I*sqrt(3)*sqrt(5*C^2 - 8)*C^7 + 34*C^8 + 26*I*sqrt(3)*sqrt(5*C^2 - 8)*C^6 + 346*C^7 - 72*I*sqrt(3)*sqrt(5*C^2 - 8)*C^5 + 32*C^6 - 132*I*sqrt(3)*sqrt(5*C^2 - 8)*C^4 - 492*C^5 + 48*I*sqrt(3)*sqrt(5*C^2 - 8)*C^3 - 480*C^4 + 112*I*sqrt(3)*sqrt(5*C^2 - 8)*C^2 - 80*C^3 + 64*I*sqrt(3)*sqrt(5*C^2 - 8)*C + 512*C^2 + 16*I*sqrt(3)*sqrt(5*C^2 - 8) + 368*C + 64)*(z + 1)^3/((3*I*sqrt(3)*sqrt(5*C^2 - 8)*C^5 - 11*C^6 + 60*C^4 - 12*I*sqrt(3)*sqrt(5*C^2 - 8)*C - 60*C^2 - 16)*(C + 1)*(C - 1)^2)"
      ]
     },
     "metadata": {},
     "output_type": "display_data"
    },
    {
     "name": "stdout",
     "output_type": "stream",
     "text": [
      "Kreiss Lopatinskii determinant at z = 1\n"
     ]
    },
    {
     "data": {
      "text/html": [
       "<html>\\(\\displaystyle \\frac{32 \\, {\\left(8 \\, {\\mathcal{C}}^{2} {z} - 8 \\, {\\mathcal{C}}^{2} + 15 \\, {\\mathcal{C}} {z} - 9 \\, {\\mathcal{C}} + {z} - 1\\right)} {\\mathcal{C}}}{3 \\, {\\left({z} - 1\\right)}}\\)</html>"
      ],
      "text/latex": [
       "$\\displaystyle \\frac{32 \\, {\\left(8 \\, {\\mathcal{C}}^{2} {z} - 8 \\, {\\mathcal{C}}^{2} + 15 \\, {\\mathcal{C}} {z} - 9 \\, {\\mathcal{C}} + {z} - 1\\right)} {\\mathcal{C}}}{3 \\, {\\left({z} - 1\\right)}}$"
      ],
      "text/plain": [
       "32/3*(8*C^2*z - 8*C^2 + 15*C*z - 9*C + z - 1)*C/(z - 1)"
      ]
     },
     "metadata": {},
     "output_type": "display_data"
    }
   ],
   "source": [
    "print(\"======= Extrapolation sigma = 4 ======\")\n",
    "\n",
    "for i in range(q):\n",
    "    for j in range(q):\n",
    "        bd00[i, j] = bdMat_sigma4[i, j].full_simplify().collect(k).coefficient(k, 0)\n",
    "        bd01[i, j] = bdMat_sigma4[i, j].full_simplify().collect(k).coefficient(k, 1)\n",
    "        bd02[i, j] = bdMat_sigma4[i, j].full_simplify().collect(k).coefficient(k, 2)\n",
    "        bd03[i, j] = bdMat_sigma4[i, j].full_simplify().collect(k).coefficient(k, 3)\n",
    "        \n",
    "BKL[:, 0] = (bd00 + bd01*ks + bd02*ks**2 + bd03*ks**3)*phiS ### First column\n",
    "BKL[:, 1] = (bd00)*phi01 ### Second column\n",
    "BKL[:, 2] = (bd00)*phi02 ### Third column\n",
    "\n",
    "DetKL = BKL.determinant().full_simplify()\n",
    "\n",
    "print(\"Kreiss Lopatinskii determinant at z = -1\")\n",
    "pretty_print(taylor(DetKL, z, -1, 3).full_simplify().factor())\n",
    "print(\"Kreiss Lopatinskii determinant at z = 1\")\n",
    "pretty_print(taylor(DetKL, z, 1, 0).factor())\n"
   ]
  },
  {
   "cell_type": "code",
   "execution_count": 10,
   "id": "47b0bb81",
   "metadata": {},
   "outputs": [
    {
     "name": "stdout",
     "output_type": "stream",
     "text": [
      "======= Kinetic Dirichlet ======\n",
      "Kreiss Lopatinskii determinant at z = -1\n"
     ]
    },
    {
     "data": {
      "text/html": [
       "<html>\\(\\displaystyle -\\frac{16 \\, {\\left(3 i \\, \\sqrt{3} \\sqrt{5 \\, {\\mathcal{C}}^{2} - 8} {\\mathcal{C}}^{4} - 11 \\, {\\mathcal{C}}^{5} + 2 i \\, \\sqrt{3} \\sqrt{5 \\, {\\mathcal{C}}^{2} - 8} {\\mathcal{C}}^{3} + 14 \\, {\\mathcal{C}}^{4} - 2 i \\, \\sqrt{3} \\sqrt{5 \\, {\\mathcal{C}}^{2} - 8} {\\mathcal{C}}^{2} + 46 \\, {\\mathcal{C}}^{3} - 8 i \\, \\sqrt{3} \\sqrt{5 \\, {\\mathcal{C}}^{2} - 8} {\\mathcal{C}} - 16 \\, {\\mathcal{C}}^{2} - 4 i \\, \\sqrt{3} \\sqrt{5 \\, {\\mathcal{C}}^{2} - 8} - 44 \\, {\\mathcal{C}} - 16\\right)} {\\left({\\mathcal{C}} + 1\\right)}^{3} {\\left({\\mathcal{C}} - 1\\right)}^{2}}{9 \\, {\\left(-3 i \\, \\sqrt{3} \\sqrt{5 \\, {\\mathcal{C}}^{2} - 8} {\\mathcal{C}}^{5} + 11 \\, {\\mathcal{C}}^{6} - 60 \\, {\\mathcal{C}}^{4} + 12 i \\, \\sqrt{3} \\sqrt{5 \\, {\\mathcal{C}}^{2} - 8} {\\mathcal{C}} + 60 \\, {\\mathcal{C}}^{2} + 16\\right)} {\\left({z} + 1\\right)}}\\)</html>"
      ],
      "text/latex": [
       "$\\displaystyle -\\frac{16 \\, {\\left(3 i \\, \\sqrt{3} \\sqrt{5 \\, {\\mathcal{C}}^{2} - 8} {\\mathcal{C}}^{4} - 11 \\, {\\mathcal{C}}^{5} + 2 i \\, \\sqrt{3} \\sqrt{5 \\, {\\mathcal{C}}^{2} - 8} {\\mathcal{C}}^{3} + 14 \\, {\\mathcal{C}}^{4} - 2 i \\, \\sqrt{3} \\sqrt{5 \\, {\\mathcal{C}}^{2} - 8} {\\mathcal{C}}^{2} + 46 \\, {\\mathcal{C}}^{3} - 8 i \\, \\sqrt{3} \\sqrt{5 \\, {\\mathcal{C}}^{2} - 8} {\\mathcal{C}} - 16 \\, {\\mathcal{C}}^{2} - 4 i \\, \\sqrt{3} \\sqrt{5 \\, {\\mathcal{C}}^{2} - 8} - 44 \\, {\\mathcal{C}} - 16\\right)} {\\left({\\mathcal{C}} + 1\\right)}^{3} {\\left({\\mathcal{C}} - 1\\right)}^{2}}{9 \\, {\\left(-3 i \\, \\sqrt{3} \\sqrt{5 \\, {\\mathcal{C}}^{2} - 8} {\\mathcal{C}}^{5} + 11 \\, {\\mathcal{C}}^{6} - 60 \\, {\\mathcal{C}}^{4} + 12 i \\, \\sqrt{3} \\sqrt{5 \\, {\\mathcal{C}}^{2} - 8} {\\mathcal{C}} + 60 \\, {\\mathcal{C}}^{2} + 16\\right)} {\\left({z} + 1\\right)}}$"
      ],
      "text/plain": [
       "-16/9*(3*I*sqrt(3)*sqrt(5*C^2 - 8)*C^4 - 11*C^5 + 2*I*sqrt(3)*sqrt(5*C^2 - 8)*C^3 + 14*C^4 - 2*I*sqrt(3)*sqrt(5*C^2 - 8)*C^2 + 46*C^3 - 8*I*sqrt(3)*sqrt(5*C^2 - 8)*C - 16*C^2 - 4*I*sqrt(3)*sqrt(5*C^2 - 8) - 44*C - 16)*(C + 1)^3*(C - 1)^2/((-3*I*sqrt(3)*sqrt(5*C^2 - 8)*C^5 + 11*C^6 - 60*C^4 + 12*I*sqrt(3)*sqrt(5*C^2 - 8)*C + 60*C^2 + 16)*(z + 1))"
      ]
     },
     "metadata": {},
     "output_type": "display_data"
    },
    {
     "name": "stdout",
     "output_type": "stream",
     "text": [
      "Kreiss Lopatinskii determinant at z = 1\n"
     ]
    },
    {
     "data": {
      "text/html": [
       "<html>\\(\\displaystyle \\frac{2 \\, {\\left(5 \\, {\\mathcal{C}} {z} - 3 \\, {\\mathcal{C}} - {z} + 1\\right)} {\\mathcal{C}}}{{z} - 1}\\)</html>"
      ],
      "text/latex": [
       "$\\displaystyle \\frac{2 \\, {\\left(5 \\, {\\mathcal{C}} {z} - 3 \\, {\\mathcal{C}} - {z} + 1\\right)} {\\mathcal{C}}}{{z} - 1}$"
      ],
      "text/plain": [
       "2*(5*C*z - 3*C - z + 1)*C/(z - 1)"
      ]
     },
     "metadata": {},
     "output_type": "display_data"
    },
    {
     "name": "stdout",
     "output_type": "stream",
     "text": [
      "Computation of the long-time solution for the source term in the experiments using residues\n",
      "m1_j^n equals approximately\n"
     ]
    },
    {
     "data": {
      "text/html": [
       "<html>\\(\\displaystyle 0\\)</html>"
      ],
      "text/latex": [
       "$\\displaystyle 0$"
      ],
      "text/plain": [
       "0"
      ]
     },
     "metadata": {},
     "output_type": "display_data"
    },
    {
     "name": "stdout",
     "output_type": "stream",
     "text": [
      "m2_j^n equals approximately\n"
     ]
    },
    {
     "data": {
      "text/html": [
       "<html>\\(\\displaystyle 0\\)</html>"
      ],
      "text/latex": [
       "$\\displaystyle 0$"
      ],
      "text/plain": [
       "0"
      ]
     },
     "metadata": {},
     "output_type": "display_data"
    },
    {
     "name": "stdout",
     "output_type": "stream",
     "text": [
      "m3_j^n equals approximately\n"
     ]
    },
    {
     "data": {
      "text/html": [
       "<html>\\(\\displaystyle 0\\)</html>"
      ],
      "text/latex": [
       "$\\displaystyle 0$"
      ],
      "text/plain": [
       "0"
      ]
     },
     "metadata": {},
     "output_type": "display_data"
    }
   ],
   "source": [
    "print(\"======= Kinetic Dirichlet ======\")\n",
    "\n",
    "for i in range(q):\n",
    "    for j in range(q):\n",
    "        bd00[i, j] = bdMat_kinDir[i, j].full_simplify().collect(k).coefficient(k, 0)\n",
    "        bd01[i, j] = bdMat_kinDir[i, j].full_simplify().collect(k).coefficient(k, 1)\n",
    "        \n",
    "BKL[:, 0] = (bd00 + bd01*ks)*phiS ### First column\n",
    "BKL[:, 1] = (bd00)*phi01 ### Second column\n",
    "BKL[:, 2] = (bd00)*phi02 ### Third column\n",
    "\n",
    "DetKL = BKL.determinant().full_simplify()\n",
    "\n",
    "print(\"Kreiss Lopatinskii determinant at z = -1\")\n",
    "pretty_print(taylor(DetKL, z, -1, -1).full_simplify().factor())\n",
    "print(\"Kreiss Lopatinskii determinant at z = 1\")\n",
    "pretty_print(taylor(DetKL, z, 1, 0).factor())\n",
    "\n",
    "print(\"Computation of the long-time solution for the source term in the experiments using residues\")\n",
    "var('j')\n",
    "var('n')\n",
    "\n",
    "Cs = -2/3*(2*C**2*z-2*C**2+3*C*z+3*C-2*z+2)*z*g1m1Tilde/DetKL\n",
    "\n",
    "m1 = Cs*z**(n-1)*ks**(j)*phiS[0, 0]\n",
    "m2 = Cs*z**(n-1)*ks**(j)*phiS[1, 0]\n",
    "m3 = Cs*z**(n-1)*ks**(j)*phiS[2, 0]\n",
    "\n",
    "\n",
    "print(\"m1_j^n equals approximately\")\n",
    "pretty_print((m1.full_simplify().maxima_methods().residue(z,-1) \\\n",
    "            + m1.full_simplify().maxima_methods().residue(z,1)).factor())\n",
    "print(\"m2_j^n equals approximately\")\n",
    "pretty_print((m2.full_simplify().maxima_methods().residue(z,-1) \\\n",
    "            + m2.full_simplify().maxima_methods().residue(z,1)).factor())\n",
    "print(\"m3_j^n equals approximately\")\n",
    "pretty_print((m3.full_simplify().maxima_methods().residue(z,-1) \\\n",
    "            + m3.full_simplify().maxima_methods().residue(z,1)).factor())"
   ]
  },
  {
   "cell_type": "code",
   "execution_count": null,
   "id": "63253aec",
   "metadata": {},
   "outputs": [],
   "source": []
  },
  {
   "cell_type": "code",
   "execution_count": null,
   "id": "7a6ba803",
   "metadata": {},
   "outputs": [],
   "source": []
  },
  {
   "cell_type": "code",
   "execution_count": null,
   "id": "81d210a9",
   "metadata": {},
   "outputs": [],
   "source": []
  },
  {
   "cell_type": "code",
   "execution_count": null,
   "id": "82c36d37",
   "metadata": {},
   "outputs": [],
   "source": []
  },
  {
   "cell_type": "code",
   "execution_count": 12,
   "id": "0223c1db",
   "metadata": {},
   "outputs": [
    {
     "name": "stdout",
     "output_type": "stream",
     "text": [
      "Value of kminus at z=-1\n"
     ]
    },
    {
     "data": {
      "text/html": [
       "<html>\\(\\displaystyle 1\\)</html>"
      ],
      "text/latex": [
       "$\\displaystyle 1$"
      ],
      "text/plain": [
       "1"
      ]
     },
     "metadata": {},
     "output_type": "display_data"
    },
    {
     "name": "stdout",
     "output_type": "stream",
     "text": [
      "Value of kplus at z=-1\n"
     ]
    },
    {
     "data": {
      "text/html": [
       "<html>\\(\\displaystyle 1\\)</html>"
      ],
      "text/latex": [
       "$\\displaystyle 1$"
      ],
      "text/plain": [
       "1"
      ]
     },
     "metadata": {},
     "output_type": "display_data"
    },
    {
     "name": "stdout",
     "output_type": "stream",
     "text": [
      "Perturbation test\n",
      "For kminus\n"
     ]
    },
    {
     "data": {
      "text/html": [
       "<html>\\(\\displaystyle \\frac{{\\left(i \\, \\sqrt{3} \\sqrt{5 \\, {\\mathcal{C}}^{2} - 8} + 3 \\, {\\mathcal{C}}\\right)} {\\delta z}}{4 \\, {\\left({\\mathcal{C}}^{2} - 1\\right)}} + 1\\)</html>"
      ],
      "text/latex": [
       "$\\displaystyle \\frac{{\\left(i \\, \\sqrt{3} \\sqrt{5 \\, {\\mathcal{C}}^{2} - 8} + 3 \\, {\\mathcal{C}}\\right)} {\\delta z}}{4 \\, {\\left({\\mathcal{C}}^{2} - 1\\right)}} + 1$"
      ],
      "text/plain": [
       "1/4*(I*sqrt(3)*sqrt(5*C^2 - 8) + 3*C)*dz/(C^2 - 1) + 1"
      ]
     },
     "metadata": {},
     "output_type": "display_data"
    },
    {
     "name": "stdout",
     "output_type": "stream",
     "text": [
      "For kplus\n"
     ]
    },
    {
     "data": {
      "text/html": [
       "<html>\\(\\displaystyle \\frac{{\\left(-i \\, \\sqrt{3} \\sqrt{5 \\, {\\mathcal{C}}^{2} - 8} + 3 \\, {\\mathcal{C}}\\right)} {\\delta z}}{4 \\, {\\left({\\mathcal{C}}^{2} - 1\\right)}} + 1\\)</html>"
      ],
      "text/latex": [
       "$\\displaystyle \\frac{{\\left(-i \\, \\sqrt{3} \\sqrt{5 \\, {\\mathcal{C}}^{2} - 8} + 3 \\, {\\mathcal{C}}\\right)} {\\delta z}}{4 \\, {\\left({\\mathcal{C}}^{2} - 1\\right)}} + 1$"
      ],
      "text/plain": [
       "1/4*(-I*sqrt(3)*sqrt(5*C^2 - 8) + 3*C)*dz/(C^2 - 1) + 1"
      ]
     },
     "metadata": {},
     "output_type": "display_data"
    },
    {
     "name": "stdout",
     "output_type": "stream",
     "text": [
      "Value of kminus at z=1\n"
     ]
    },
    {
     "data": {
      "text/html": [
       "<html>\\(\\displaystyle -1\\)</html>"
      ],
      "text/latex": [
       "$\\displaystyle -1$"
      ],
      "text/plain": [
       "-1"
      ]
     },
     "metadata": {},
     "output_type": "display_data"
    },
    {
     "name": "stdout",
     "output_type": "stream",
     "text": [
      "Value of kplus at z=1\n"
     ]
    },
    {
     "data": {
      "text/html": [
       "<html>\\(\\displaystyle 1\\)</html>"
      ],
      "text/latex": [
       "$\\displaystyle 1$"
      ],
      "text/plain": [
       "1"
      ]
     },
     "metadata": {},
     "output_type": "display_data"
    },
    {
     "name": "stdout",
     "output_type": "stream",
     "text": [
      "Group velocity of the stable mode at z=-1\n"
     ]
    },
    {
     "data": {
      "text/html": [
       "<html>\\(\\displaystyle \\frac{4 \\, {\\left({\\mathcal{C}}^{2} - 1\\right)}}{i \\, \\sqrt{3} \\sqrt{5 \\, {\\mathcal{C}}^{2} - 8} - 3 \\, {\\mathcal{C}}}\\)</html>"
      ],
      "text/latex": [
       "$\\displaystyle \\frac{4 \\, {\\left({\\mathcal{C}}^{2} - 1\\right)}}{i \\, \\sqrt{3} \\sqrt{5 \\, {\\mathcal{C}}^{2} - 8} - 3 \\, {\\mathcal{C}}}$"
      ],
      "text/plain": [
       "4*(C^2 - 1)/(I*sqrt(3)*sqrt(5*C^2 - 8) - 3*C)"
      ]
     },
     "metadata": {},
     "output_type": "display_data"
    },
    {
     "name": "stdout",
     "output_type": "stream",
     "text": [
      "Group velocity of the stable mode at z=1\n"
     ]
    },
    {
     "data": {
      "text/html": [
       "<html>\\(\\displaystyle {\\mathcal{C}}\\)</html>"
      ],
      "text/latex": [
       "$\\displaystyle {\\mathcal{C}}$"
      ],
      "text/plain": [
       "C"
      ]
     },
     "metadata": {},
     "output_type": "display_data"
    },
    {
     "name": "stdout",
     "output_type": "stream",
     "text": [
      "Expansion of the second component of phiS around z = -1\n"
     ]
    },
    {
     "data": {
      "text/html": [
       "<html>\\(\\displaystyle -\\frac{4 \\, {\\left(i \\, \\sqrt{3} \\sqrt{5 \\, {\\mathcal{C}}^{2} - 8} + 3 \\, {\\mathcal{C}}\\right)} {\\left({\\mathcal{C}} + 1\\right)} {\\left({\\mathcal{C}} - 1\\right)}}{3 \\, {\\left(-i \\, \\sqrt{3} \\sqrt{5 \\, {\\mathcal{C}}^{2} - 8} {\\mathcal{C}} + {\\mathcal{C}}^{2} - 4\\right)} {\\left({z} + 1\\right)}}\\)</html>"
      ],
      "text/latex": [
       "$\\displaystyle -\\frac{4 \\, {\\left(i \\, \\sqrt{3} \\sqrt{5 \\, {\\mathcal{C}}^{2} - 8} + 3 \\, {\\mathcal{C}}\\right)} {\\left({\\mathcal{C}} + 1\\right)} {\\left({\\mathcal{C}} - 1\\right)}}{3 \\, {\\left(-i \\, \\sqrt{3} \\sqrt{5 \\, {\\mathcal{C}}^{2} - 8} {\\mathcal{C}} + {\\mathcal{C}}^{2} - 4\\right)} {\\left({z} + 1\\right)}}$"
      ],
      "text/plain": [
       "-4/3*(I*sqrt(3)*sqrt(5*C^2 - 8) + 3*C)*(C + 1)*(C - 1)/((-I*sqrt(3)*sqrt(5*C^2 - 8)*C + C^2 - 4)*(z + 1))"
      ]
     },
     "metadata": {},
     "output_type": "display_data"
    },
    {
     "name": "stdout",
     "output_type": "stream",
     "text": [
      "Expansion of the third component of phiS around z = -1\n"
     ]
    },
    {
     "data": {
      "text/html": [
       "<html>\\(\\displaystyle \\frac{4 \\, {\\left({\\mathcal{C}}^{2} - 1\\right)}}{3 \\, {\\left({z} + 1\\right)}} + 1\\)</html>"
      ],
      "text/latex": [
       "$\\displaystyle \\frac{4 \\, {\\left({\\mathcal{C}}^{2} - 1\\right)}}{3 \\, {\\left({z} + 1\\right)}} + 1$"
      ],
      "text/plain": [
       "4/3*(C^2 - 1)/(z + 1) + 1"
      ]
     },
     "metadata": {},
     "output_type": "display_data"
    },
    {
     "name": "stdout",
     "output_type": "stream",
     "text": [
      "Expansion of the second component of phiS around z = 1\n"
     ]
    },
    {
     "data": {
      "text/html": [
       "<html>\\(\\displaystyle {\\mathcal{C}} - \\frac{{\\left({\\mathcal{C}}^{2} - 1\\right)} {\\left({z} - 1\\right)}}{6 \\, {\\mathcal{C}}}\\)</html>"
      ],
      "text/latex": [
       "$\\displaystyle {\\mathcal{C}} - \\frac{{\\left({\\mathcal{C}}^{2} - 1\\right)} {\\left({z} - 1\\right)}}{6 \\, {\\mathcal{C}}}$"
      ],
      "text/plain": [
       "C - 1/6*(C^2 - 1)*(z - 1)/C"
      ]
     },
     "metadata": {},
     "output_type": "display_data"
    },
    {
     "name": "stdout",
     "output_type": "stream",
     "text": [
      "Expansion of the third component of phiS around z = 1\n"
     ]
    },
    {
     "data": {
      "text/html": [
       "<html>\\(\\displaystyle \\frac{2}{3} \\, {\\mathcal{C}}^{2} - \\frac{1}{3} \\, {\\left({\\mathcal{C}}^{2} - 1\\right)} {\\left({z} - 1\\right)} + \\frac{1}{3}\\)</html>"
      ],
      "text/latex": [
       "$\\displaystyle \\frac{2}{3} \\, {\\mathcal{C}}^{2} - \\frac{1}{3} \\, {\\left({\\mathcal{C}}^{2} - 1\\right)} {\\left({z} - 1\\right)} + \\frac{1}{3}$"
      ],
      "text/plain": [
       "2/3*C^2 - 1/3*(C^2 - 1)*(z - 1) + 1/3"
      ]
     },
     "metadata": {},
     "output_type": "display_data"
    },
    {
     "name": "stdout",
     "output_type": "stream",
     "text": [
      "Basis for the eigenspace of k = 0\n"
     ]
    },
    {
     "data": {
      "text/html": [
       "<html>\\(\\displaystyle \\left[\\left(1,\\,0,\\,\\frac{4}{3} \\, {\\mathcal{C}}^{2} + 2 \\, {\\mathcal{C}} + \\frac{2}{3}\\right), \\left(0,\\,1,\\,-1\\right)\\right]\\)</html>"
      ],
      "text/latex": [
       "$\\displaystyle \\left[\\left(1,\\,0,\\,\\frac{4}{3} \\, {\\mathcal{C}}^{2} + 2 \\, {\\mathcal{C}} + \\frac{2}{3}\\right), \\left(0,\\,1,\\,-1\\right)\\right]$"
      ],
      "text/plain": [
       "[\n",
       "(1, 0, 4/3*C^2 + 2*C + 2/3),\n",
       "(0, 1, -1)\n",
       "]"
      ]
     },
     "metadata": {},
     "output_type": "display_data"
    }
   ],
   "source": [
    "### Critical point (1, 1) and blowup point (-1, -1) for the stable eigenvector\n",
    "forget()\n",
    "assume(C>0)\n",
    "print(\"Value of kminus at z=-1\")\n",
    "pretty_print(kminus.subs(z==-1).full_simplify())\n",
    "print(\"Value of kplus at z=-1\")\n",
    "pretty_print(kplus.subs(z==-1).full_simplify())\n",
    "print('Perturbation test')\n",
    "dz = var(\"dz\", latex_name=\"\\\\delta z\") \n",
    "print('For kminus')\n",
    "pretty_print(taylor(kminus.subs(z==-1-dz), dz, 0, 1))\n",
    "print('For kplus')\n",
    "pretty_print(taylor(kplus.subs(z==-1-dz), dz, 0, 1))\n",
    "print(\"Value of kminus at z=1\")\n",
    "pretty_print(kminus.subs(z==1).full_simplify())\n",
    "print(\"Value of kplus at z=1\")\n",
    "pretty_print(kplus.subs(z==1).full_simplify())\n",
    "\n",
    "ks = kplus.full_simplify()\n",
    "\n",
    "print(\"Group velocity of the stable mode at z=-1\")\n",
    "pretty_print((ks/z/(taylor(kplus.subs(z==-1-dz), dz, 0, 1) - 1).subs(dz==1)).subs(z==-1).full_simplify())\n",
    "\n",
    "print(\"Group velocity of the stable mode at z=1\")\n",
    "pretty_print((-ks/z/ks.derivative(z)).subs(z==1).full_simplify())\n",
    "\n",
    "\n",
    "LzOnStable = Lz.subs(k==ks) ### This is the matrix polynomial where k is replaced by ks (stable root)\n",
    "for i in range(q):\n",
    "    for j in range(q):\n",
    "        LzOnStable[i, j] = LzOnStable[i, j].full_simplify()\n",
    "        \n",
    "#pretty_print(LzOnStable.transpose().kernel()) #### This is the stable eigenvalue phi_s\n",
    "phiS = matrix([[LzOnStable.transpose().kernel().basis()[0][0]], \\\n",
    "               [LzOnStable.transpose().kernel().basis()[0][1].full_simplify()], \\\n",
    "               [LzOnStable.transpose().kernel().basis()[0][2].full_simplify()]])\n",
    "\n",
    "#### Structure of the eigenvector close to the critical points\n",
    "print('Expansion of the second component of phiS around z = -1')\n",
    "pretty_print(taylor(phiS[1][0], z, -1, -1).factor())\n",
    "print('Expansion of the third component of phiS around z = -1')\n",
    "pretty_print(taylor(phiS[2][0], z, -1, 0))\n",
    "print('Expansion of the second component of phiS around z = 1')\n",
    "pretty_print(taylor(phiS[1][0], z, 1, 1))\n",
    "print('Expansion of the third component of phiS around z = 1')\n",
    "pretty_print(taylor(phiS[2][0], z, 1, 1))\n",
    "\n",
    "\n",
    "\n",
    "#### We construct the eigenvectors for k = 0\n",
    "print(\"Basis for the eigenspace of k = 0\")\n",
    "pretty_print(Lz.subs(k==0).transpose().kernel().basis())\n",
    "phi01 = matrix([[Lz.subs(k==0).transpose().kernel().basis()[0][0]], \\\n",
    "                [Lz.subs(k==0).transpose().kernel().basis()[0][1]], \\\n",
    "                [Lz.subs(k==0).transpose().kernel().basis()[0][2]]]) ## First vector\n",
    "phi02 = matrix([[Lz.subs(k==0).transpose().kernel().basis()[1][0]], \\\n",
    "                [Lz.subs(k==0).transpose().kernel().basis()[1][1]], \\\n",
    "                [Lz.subs(k==0).transpose().kernel().basis()[1][2]]]) ## Second vector\n",
    "\n",
    "bd00  = matrix(SR, q, q)\n",
    "bd01 = matrix(SR, q, q)\n",
    "bd02 = matrix(SR, q, q)\n",
    "bd03 = matrix(SR, q, q)\n",
    "BKL = matrix(SR, q, q) #### Boundary matrix on the stable subspace\n",
    "\n",
    "\n",
    "g1m1Tilde = 1 ### Source term used in the experiments"
   ]
  },
  {
   "cell_type": "code",
   "execution_count": 13,
   "id": "2a94aa42",
   "metadata": {},
   "outputs": [
    {
     "name": "stdout",
     "output_type": "stream",
     "text": [
      "======= Bounce back ======\n",
      "Kreiss Lopatinskii determinant at z = -1\n"
     ]
    },
    {
     "data": {
      "text/html": [
       "<html>\\(\\displaystyle -\\frac{32 \\, {\\left(5 i \\, \\sqrt{3} \\sqrt{5 \\, {\\mathcal{C}}^{2} - 8} {\\mathcal{C}}^{4} + 3 \\, {\\mathcal{C}}^{5} - 10 i \\, \\sqrt{3} \\sqrt{5 \\, {\\mathcal{C}}^{2} - 8} {\\mathcal{C}}^{2} + 30 \\, {\\mathcal{C}}^{3} - 4 i \\, \\sqrt{3} \\sqrt{5 \\, {\\mathcal{C}}^{2} - 8} - 60 \\, {\\mathcal{C}}\\right)} {\\left({\\mathcal{C}} + 1\\right)}^{2} {\\left({\\mathcal{C}} - 1\\right)}^{2}}{9 \\, {\\left(-3 i \\, \\sqrt{3} \\sqrt{5 \\, {\\mathcal{C}}^{2} - 8} {\\mathcal{C}}^{5} + 11 \\, {\\mathcal{C}}^{6} - 60 \\, {\\mathcal{C}}^{4} + 12 i \\, \\sqrt{3} \\sqrt{5 \\, {\\mathcal{C}}^{2} - 8} {\\mathcal{C}} + 60 \\, {\\mathcal{C}}^{2} + 16\\right)} {\\left({z} + 1\\right)}}\\)</html>"
      ],
      "text/latex": [
       "$\\displaystyle -\\frac{32 \\, {\\left(5 i \\, \\sqrt{3} \\sqrt{5 \\, {\\mathcal{C}}^{2} - 8} {\\mathcal{C}}^{4} + 3 \\, {\\mathcal{C}}^{5} - 10 i \\, \\sqrt{3} \\sqrt{5 \\, {\\mathcal{C}}^{2} - 8} {\\mathcal{C}}^{2} + 30 \\, {\\mathcal{C}}^{3} - 4 i \\, \\sqrt{3} \\sqrt{5 \\, {\\mathcal{C}}^{2} - 8} - 60 \\, {\\mathcal{C}}\\right)} {\\left({\\mathcal{C}} + 1\\right)}^{2} {\\left({\\mathcal{C}} - 1\\right)}^{2}}{9 \\, {\\left(-3 i \\, \\sqrt{3} \\sqrt{5 \\, {\\mathcal{C}}^{2} - 8} {\\mathcal{C}}^{5} + 11 \\, {\\mathcal{C}}^{6} - 60 \\, {\\mathcal{C}}^{4} + 12 i \\, \\sqrt{3} \\sqrt{5 \\, {\\mathcal{C}}^{2} - 8} {\\mathcal{C}} + 60 \\, {\\mathcal{C}}^{2} + 16\\right)} {\\left({z} + 1\\right)}}$"
      ],
      "text/plain": [
       "-32/9*(5*I*sqrt(3)*sqrt(5*C^2 - 8)*C^4 + 3*C^5 - 10*I*sqrt(3)*sqrt(5*C^2 - 8)*C^2 + 30*C^3 - 4*I*sqrt(3)*sqrt(5*C^2 - 8) - 60*C)*(C + 1)^2*(C - 1)^2/((-3*I*sqrt(3)*sqrt(5*C^2 - 8)*C^5 + 11*C^6 - 60*C^4 + 12*I*sqrt(3)*sqrt(5*C^2 - 8)*C + 60*C^2 + 16)*(z + 1))"
      ]
     },
     "metadata": {},
     "output_type": "display_data"
    }
   ],
   "source": [
    "print(\"======= Bounce back ======\")\n",
    "\n",
    "for i in range(q):\n",
    "    for j in range(q):\n",
    "        bd00[i, j] = bdMat_BB[i, j].full_simplify().collect(k).coefficient(k, 0)\n",
    "        bd01[i, j] = bdMat_BB[i, j].full_simplify().collect(k).coefficient(k, 1)\n",
    "        \n",
    "BKL[:, 0] = (bd00 + bd01*ks)*phiS ### First column\n",
    "BKL[:, 1] = (bd00)*phi01 ### Second column\n",
    "BKL[:, 2] = (bd00)*phi02 ### Third column\n",
    "\n",
    "DetKL = BKL.determinant().full_simplify()\n",
    "\n",
    "print(\"Kreiss Lopatinskii determinant at z = -1\")\n",
    "pretty_print(taylor(DetKL, z, -1, -1).factor())"
   ]
  },
  {
   "cell_type": "code",
   "execution_count": 14,
   "id": "62c17817",
   "metadata": {},
   "outputs": [
    {
     "name": "stdout",
     "output_type": "stream",
     "text": [
      "======= Anti bounce back ======\n",
      "Kreiss Lopatinskii determinant at z = -1\n"
     ]
    },
    {
     "data": {
      "text/html": [
       "<html>\\(\\displaystyle \\frac{32 \\, {\\left({\\mathcal{C}} + 1\\right)}^{2} {\\left({\\mathcal{C}} - 1\\right)}^{2}}{9 \\, {\\left({z} + 1\\right)}}\\)</html>"
      ],
      "text/latex": [
       "$\\displaystyle \\frac{32 \\, {\\left({\\mathcal{C}} + 1\\right)}^{2} {\\left({\\mathcal{C}} - 1\\right)}^{2}}{9 \\, {\\left({z} + 1\\right)}}$"
      ],
      "text/plain": [
       "32/9*(C + 1)^2*(C - 1)^2/(z + 1)"
      ]
     },
     "metadata": {},
     "output_type": "display_data"
    }
   ],
   "source": [
    "print(\"======= Anti bounce back ======\")\n",
    "\n",
    "for i in range(q):\n",
    "    for j in range(q):\n",
    "        bd00[i, j] = bdMat_ABB[i, j].full_simplify().collect(k).coefficient(k, 0)\n",
    "        bd01[i, j] = bdMat_ABB[i, j].full_simplify().collect(k).coefficient(k, 1)\n",
    "        \n",
    "BKL[:, 0] = (bd00 + bd01*ks)*phiS ### First column\n",
    "BKL[:, 1] = (bd00)*phi01 ### Second column\n",
    "BKL[:, 2] = (bd00)*phi02 ### Third column\n",
    "\n",
    "DetKL = BKL.determinant().full_simplify()\n",
    "\n",
    "print(\"Kreiss Lopatinskii determinant at z = -1\")\n",
    "pretty_print(taylor(DetKL, z, -1, -1).factor())"
   ]
  },
  {
   "cell_type": "code",
   "execution_count": 26,
   "id": "5707eae2",
   "metadata": {},
   "outputs": [
    {
     "name": "stdout",
     "output_type": "stream",
     "text": [
      "======= Two-steps anti bounce back ======\n",
      "Kreiss Lopatinskii determinant at z = -1\n"
     ]
    },
    {
     "data": {
      "text/html": [
       "<html>\\(\\displaystyle \\frac{8}{3} \\, {\\left({\\mathcal{C}} + 1\\right)} {\\left({\\mathcal{C}} - 1\\right)}\\)</html>"
      ],
      "text/latex": [
       "$\\displaystyle \\frac{8}{3} \\, {\\left({\\mathcal{C}} + 1\\right)} {\\left({\\mathcal{C}} - 1\\right)}$"
      ],
      "text/plain": [
       "8/3*(C + 1)*(C - 1)"
      ]
     },
     "metadata": {},
     "output_type": "display_data"
    }
   ],
   "source": [
    "print(\"======= Two-steps anti bounce back ======\")\n",
    "\n",
    "for i in range(q):\n",
    "    for j in range(q):\n",
    "        bd00[i, j] = bdMat_TwoABB[i, j].full_simplify().collect(k).coefficient(k, 0)\n",
    "        bd01[i, j] = bdMat_TwoABB[i, j].full_simplify().collect(k).coefficient(k, 1)\n",
    "        \n",
    "BKL[:, 0] = (bd00 + bd01*ks)*phiS ### First column\n",
    "BKL[:, 1] = (bd00)*phi01 ### Second column\n",
    "BKL[:, 2] = (bd00)*phi02 ### Third column\n",
    "\n",
    "DetKL = BKL.determinant().full_simplify()\n",
    "\n",
    "print(\"Kreiss Lopatinskii determinant at z = -1\")\n",
    "pretty_print(taylor(DetKL, z, -1, 0).factor())\n"
   ]
  },
  {
   "cell_type": "code",
   "execution_count": 37,
   "id": "6dc806b9",
   "metadata": {},
   "outputs": [
    {
     "name": "stdout",
     "output_type": "stream",
     "text": [
      "======= Extrapolation sigma = 1 ======\n",
      "Kreiss Lopatinskii determinant at z = 1\n",
      "It is easier for Sage to show the first column of BKL\n"
     ]
    },
    {
     "data": {
      "text/html": [
       "<html>\\(\\displaystyle \\left(\\begin{array}{r}\n",
       "\\frac{{\\left(2 \\, {\\mathcal{C}}^{2} + 3 \\, {\\mathcal{C}} + 1\\right)} {\\left({z} - 1\\right)}}{6 \\, {\\mathcal{C}}} \\\\\n",
       "\\frac{{\\left(2 \\, {\\mathcal{C}}^{2} + 3 \\, {\\mathcal{C}} + 1\\right)} {\\left({z} - 1\\right)}}{6 \\, {\\mathcal{C}}} \\\\\n",
       "\\frac{{\\left(2 \\, {\\mathcal{C}}^{2} + 3 \\, {\\mathcal{C}} + 1\\right)} {\\left({z} - 1\\right)}}{6 \\, {\\mathcal{C}}}\n",
       "\\end{array}\\right)\\)</html>"
      ],
      "text/latex": [
       "$\\displaystyle \\left(\\begin{array}{r}\n",
       "\\frac{{\\left(2 \\, {\\mathcal{C}}^{2} + 3 \\, {\\mathcal{C}} + 1\\right)} {\\left({z} - 1\\right)}}{6 \\, {\\mathcal{C}}} \\\\\n",
       "\\frac{{\\left(2 \\, {\\mathcal{C}}^{2} + 3 \\, {\\mathcal{C}} + 1\\right)} {\\left({z} - 1\\right)}}{6 \\, {\\mathcal{C}}} \\\\\n",
       "\\frac{{\\left(2 \\, {\\mathcal{C}}^{2} + 3 \\, {\\mathcal{C}} + 1\\right)} {\\left({z} - 1\\right)}}{6 \\, {\\mathcal{C}}}\n",
       "\\end{array}\\right)$"
      ],
      "text/plain": [
       "[1/6*(2*C^2 + 3*C + 1)*(z - 1)/C]\n",
       "[1/6*(2*C^2 + 3*C + 1)*(z - 1)/C]\n",
       "[1/6*(2*C^2 + 3*C + 1)*(z - 1)/C]"
      ]
     },
     "metadata": {},
     "output_type": "display_data"
    }
   ],
   "source": [
    "print(\"======= Extrapolation sigma = 1 ======\")\n",
    "\n",
    "for i in range(q):\n",
    "    for j in range(q):\n",
    "        bd00[i, j] = bdMat_sigma1[i, j].full_simplify().collect(k).coefficient(k, 0)\n",
    "        bd01[i, j] = bdMat_sigma1[i, j].full_simplify().collect(k).coefficient(k, 1)\n",
    "        \n",
    "BKL[:, 0] = (bd00 + bd01*ks)*phiS ### First column\n",
    "BKL[:, 1] = (bd00)*phi01 ### Second column\n",
    "BKL[:, 2] = (bd00)*phi02 ### Third column\n",
    "\n",
    "BKL = BKL.simplify_full()\n",
    "\n",
    "DetKL = BKL.determinant().full_simplify()\n",
    "\n",
    "print(\"Kreiss Lopatinskii determinant at z = 1\")\n",
    "print(\"It is easier for Sage to show the first column of BKL\")\n",
    "pretty_print(taylor(BKL[:, 0], z, 1, 1))\n"
   ]
  },
  {
   "cell_type": "code",
   "execution_count": 38,
   "id": "4882d1f4",
   "metadata": {},
   "outputs": [
    {
     "name": "stdout",
     "output_type": "stream",
     "text": [
      "======= Extrapolation sigma = 2 ======\n",
      "Kreiss Lopatinskii determinant at z = 1\n",
      "It is easier for Sage to show the first column of BKL\n"
     ]
    },
    {
     "data": {
      "text/html": [
       "<html>\\(\\displaystyle \\left(\\begin{array}{r}\n",
       "\\frac{{\\left(2 \\, {\\mathcal{C}}^{2} + 3 \\, {\\mathcal{C}} + 1\\right)} {\\left({z} - 1\\right)}^{2}}{6 \\, {\\mathcal{C}}^{2}} \\\\\n",
       "\\frac{{\\left(2 \\, {\\mathcal{C}}^{2} + 3 \\, {\\mathcal{C}} + 1\\right)} {\\left({z} - 1\\right)}^{2}}{6 \\, {\\mathcal{C}}^{2}} \\\\\n",
       "\\frac{{\\left(2 \\, {\\mathcal{C}}^{2} + 3 \\, {\\mathcal{C}} + 1\\right)} {\\left({z} - 1\\right)}^{2}}{6 \\, {\\mathcal{C}}^{2}}\n",
       "\\end{array}\\right)\\)</html>"
      ],
      "text/latex": [
       "$\\displaystyle \\left(\\begin{array}{r}\n",
       "\\frac{{\\left(2 \\, {\\mathcal{C}}^{2} + 3 \\, {\\mathcal{C}} + 1\\right)} {\\left({z} - 1\\right)}^{2}}{6 \\, {\\mathcal{C}}^{2}} \\\\\n",
       "\\frac{{\\left(2 \\, {\\mathcal{C}}^{2} + 3 \\, {\\mathcal{C}} + 1\\right)} {\\left({z} - 1\\right)}^{2}}{6 \\, {\\mathcal{C}}^{2}} \\\\\n",
       "\\frac{{\\left(2 \\, {\\mathcal{C}}^{2} + 3 \\, {\\mathcal{C}} + 1\\right)} {\\left({z} - 1\\right)}^{2}}{6 \\, {\\mathcal{C}}^{2}}\n",
       "\\end{array}\\right)$"
      ],
      "text/plain": [
       "[1/6*(2*C^2 + 3*C + 1)*(z - 1)^2/C^2]\n",
       "[1/6*(2*C^2 + 3*C + 1)*(z - 1)^2/C^2]\n",
       "[1/6*(2*C^2 + 3*C + 1)*(z - 1)^2/C^2]"
      ]
     },
     "metadata": {},
     "output_type": "display_data"
    }
   ],
   "source": [
    "print(\"======= Extrapolation sigma = 2 ======\")\n",
    "\n",
    "for i in range(q):\n",
    "    for j in range(q):\n",
    "        bd00[i, j] = bdMat_sigma2[i, j].full_simplify().collect(k).coefficient(k, 0)\n",
    "        bd01[i, j] = bdMat_sigma2[i, j].full_simplify().collect(k).coefficient(k, 1)\n",
    "        \n",
    "BKL[:, 0] = (bd00 + bd01*ks)*phiS ### First column\n",
    "BKL[:, 1] = (bd00)*phi01 ### Second column\n",
    "BKL[:, 2] = (bd00)*phi02 ### Third column\n",
    "\n",
    "BKL = BKL.simplify_full()\n",
    "\n",
    "DetKL = BKL.determinant().full_simplify()\n",
    "\n",
    "print(\"Kreiss Lopatinskii determinant at z = 1\")\n",
    "print(\"It is easier for Sage to show the first column of BKL\")\n",
    "pretty_print(taylor(BKL[:, 0], z, 1, 2))\n"
   ]
  },
  {
   "cell_type": "code",
   "execution_count": 41,
   "id": "6bb6e704",
   "metadata": {},
   "outputs": [
    {
     "name": "stdout",
     "output_type": "stream",
     "text": [
      "======= Extrapolation sigma = 3 ======\n",
      "Kreiss Lopatinskii determinant at z = 1\n",
      "It is easier for Sage to show the first column of BKL\n"
     ]
    },
    {
     "data": {
      "text/html": [
       "<html>\\(\\displaystyle \\left(\\begin{array}{r}\n",
       "\\frac{{\\left(2 \\, {\\mathcal{C}}^{2} + 3 \\, {\\mathcal{C}} + 1\\right)} {\\left({z} - 1\\right)}^{3}}{6 \\, {\\mathcal{C}}^{3}} \\\\\n",
       "\\frac{{\\left(2 \\, {\\mathcal{C}}^{2} + 3 \\, {\\mathcal{C}} + 1\\right)} {\\left({z} - 1\\right)}^{3}}{6 \\, {\\mathcal{C}}^{3}} \\\\\n",
       "\\frac{{\\left(2 \\, {\\mathcal{C}}^{2} + 3 \\, {\\mathcal{C}} + 1\\right)} {\\left({z} - 1\\right)}^{3}}{6 \\, {\\mathcal{C}}^{3}}\n",
       "\\end{array}\\right)\\)</html>"
      ],
      "text/latex": [
       "$\\displaystyle \\left(\\begin{array}{r}\n",
       "\\frac{{\\left(2 \\, {\\mathcal{C}}^{2} + 3 \\, {\\mathcal{C}} + 1\\right)} {\\left({z} - 1\\right)}^{3}}{6 \\, {\\mathcal{C}}^{3}} \\\\\n",
       "\\frac{{\\left(2 \\, {\\mathcal{C}}^{2} + 3 \\, {\\mathcal{C}} + 1\\right)} {\\left({z} - 1\\right)}^{3}}{6 \\, {\\mathcal{C}}^{3}} \\\\\n",
       "\\frac{{\\left(2 \\, {\\mathcal{C}}^{2} + 3 \\, {\\mathcal{C}} + 1\\right)} {\\left({z} - 1\\right)}^{3}}{6 \\, {\\mathcal{C}}^{3}}\n",
       "\\end{array}\\right)$"
      ],
      "text/plain": [
       "[1/6*(2*C^2 + 3*C + 1)*(z - 1)^3/C^3]\n",
       "[1/6*(2*C^2 + 3*C + 1)*(z - 1)^3/C^3]\n",
       "[1/6*(2*C^2 + 3*C + 1)*(z - 1)^3/C^3]"
      ]
     },
     "metadata": {},
     "output_type": "display_data"
    }
   ],
   "source": [
    "print(\"======= Extrapolation sigma = 3 ======\")\n",
    "\n",
    "for i in range(q):\n",
    "    for j in range(q):\n",
    "        bd00[i, j] = bdMat_sigma3[i, j].full_simplify().collect(k).coefficient(k, 0)\n",
    "        bd01[i, j] = bdMat_sigma3[i, j].full_simplify().collect(k).coefficient(k, 1)\n",
    "        bd02[i, j] = bdMat_sigma3[i, j].full_simplify().collect(k).coefficient(k, 2)\n",
    "        \n",
    "BKL[:, 0] = (bd00 + bd01*ks + bd02*ks**2)*phiS ### First column\n",
    "BKL[:, 1] = (bd00)*phi01 ### Second column\n",
    "BKL[:, 2] = (bd00)*phi02 ### Third column\n",
    "\n",
    "BKL = BKL.simplify_full()\n",
    "\n",
    "DetKL = BKL.determinant().full_simplify()\n",
    "\n",
    "print(\"Kreiss Lopatinskii determinant at z = 1\")\n",
    "print(\"It is easier for Sage to show the first column of BKL\")\n",
    "pretty_print(taylor(BKL[:, 0], z, 1, 3))\n"
   ]
  },
  {
   "cell_type": "code",
   "execution_count": 42,
   "id": "dda1b3ac",
   "metadata": {},
   "outputs": [
    {
     "name": "stdout",
     "output_type": "stream",
     "text": [
      "======= Extrapolation sigma = 4 ======\n",
      "Kreiss Lopatinskii determinant at z = 1\n",
      "It is easier for Sage to show the first column of BKL\n"
     ]
    },
    {
     "data": {
      "text/html": [
       "<html>\\(\\displaystyle \\left(\\begin{array}{r}\n",
       "\\frac{{\\left(2 \\, {\\mathcal{C}}^{2} + 3 \\, {\\mathcal{C}} + 1\\right)} {\\left({z} - 1\\right)}^{4}}{6 \\, {\\mathcal{C}}^{4}} \\\\\n",
       "\\frac{{\\left(2 \\, {\\mathcal{C}}^{2} + 3 \\, {\\mathcal{C}} + 1\\right)} {\\left({z} - 1\\right)}^{4}}{6 \\, {\\mathcal{C}}^{4}} \\\\\n",
       "\\frac{{\\left(2 \\, {\\mathcal{C}}^{2} + 3 \\, {\\mathcal{C}} + 1\\right)} {\\left({z} - 1\\right)}^{4}}{6 \\, {\\mathcal{C}}^{4}}\n",
       "\\end{array}\\right)\\)</html>"
      ],
      "text/latex": [
       "$\\displaystyle \\left(\\begin{array}{r}\n",
       "\\frac{{\\left(2 \\, {\\mathcal{C}}^{2} + 3 \\, {\\mathcal{C}} + 1\\right)} {\\left({z} - 1\\right)}^{4}}{6 \\, {\\mathcal{C}}^{4}} \\\\\n",
       "\\frac{{\\left(2 \\, {\\mathcal{C}}^{2} + 3 \\, {\\mathcal{C}} + 1\\right)} {\\left({z} - 1\\right)}^{4}}{6 \\, {\\mathcal{C}}^{4}} \\\\\n",
       "\\frac{{\\left(2 \\, {\\mathcal{C}}^{2} + 3 \\, {\\mathcal{C}} + 1\\right)} {\\left({z} - 1\\right)}^{4}}{6 \\, {\\mathcal{C}}^{4}}\n",
       "\\end{array}\\right)$"
      ],
      "text/plain": [
       "[1/6*(2*C^2 + 3*C + 1)*(z - 1)^4/C^4]\n",
       "[1/6*(2*C^2 + 3*C + 1)*(z - 1)^4/C^4]\n",
       "[1/6*(2*C^2 + 3*C + 1)*(z - 1)^4/C^4]"
      ]
     },
     "metadata": {},
     "output_type": "display_data"
    }
   ],
   "source": [
    "print(\"======= Extrapolation sigma = 4 ======\")\n",
    "\n",
    "for i in range(q):\n",
    "    for j in range(q):\n",
    "        bd00[i, j] = bdMat_sigma4[i, j].full_simplify().collect(k).coefficient(k, 0)\n",
    "        bd01[i, j] = bdMat_sigma4[i, j].full_simplify().collect(k).coefficient(k, 1)\n",
    "        bd02[i, j] = bdMat_sigma4[i, j].full_simplify().collect(k).coefficient(k, 2)\n",
    "        bd03[i, j] = bdMat_sigma4[i, j].full_simplify().collect(k).coefficient(k, 3)\n",
    "        \n",
    "BKL[:, 0] = (bd00 + bd01*ks + bd02*ks**2 + bd03*ks**3)*phiS ### First column\n",
    "BKL[:, 1] = (bd00)*phi01 ### Second column\n",
    "BKL[:, 2] = (bd00)*phi02 ### Third column\n",
    "\n",
    "BKL = BKL.simplify_full()\n",
    "\n",
    "DetKL = BKL.determinant().full_simplify()\n",
    "\n",
    "print(\"Kreiss Lopatinskii determinant at z = 1\")\n",
    "print(\"It is easier for Sage to show the first column of BKL\")\n",
    "pretty_print(taylor(BKL[:, 0], z, 1, 4))\n"
   ]
  },
  {
   "cell_type": "code",
   "execution_count": 45,
   "id": "c866bd28",
   "metadata": {},
   "outputs": [
    {
     "name": "stdout",
     "output_type": "stream",
     "text": [
      "======= Kinetic Dirichlet ======\n",
      "Kreiss Lopatinskii determinant at z = -1\n"
     ]
    },
    {
     "data": {
      "text/html": [
       "<html>\\(\\displaystyle -\\frac{16 \\, {\\left(3 i \\, \\sqrt{3} \\sqrt{5 \\, {\\mathcal{C}}^{2} - 8} {\\mathcal{C}}^{4} - 11 \\, {\\mathcal{C}}^{5} + 2 i \\, \\sqrt{3} \\sqrt{5 \\, {\\mathcal{C}}^{2} - 8} {\\mathcal{C}}^{3} + 14 \\, {\\mathcal{C}}^{4} - 2 i \\, \\sqrt{3} \\sqrt{5 \\, {\\mathcal{C}}^{2} - 8} {\\mathcal{C}}^{2} + 46 \\, {\\mathcal{C}}^{3} - 8 i \\, \\sqrt{3} \\sqrt{5 \\, {\\mathcal{C}}^{2} - 8} {\\mathcal{C}} - 16 \\, {\\mathcal{C}}^{2} - 4 i \\, \\sqrt{3} \\sqrt{5 \\, {\\mathcal{C}}^{2} - 8} - 44 \\, {\\mathcal{C}} - 16\\right)} {\\left({\\mathcal{C}} + 1\\right)}^{3} {\\left({\\mathcal{C}} - 1\\right)}^{2}}{9 \\, {\\left(-3 i \\, \\sqrt{3} \\sqrt{5 \\, {\\mathcal{C}}^{2} - 8} {\\mathcal{C}}^{5} + 11 \\, {\\mathcal{C}}^{6} - 60 \\, {\\mathcal{C}}^{4} + 12 i \\, \\sqrt{3} \\sqrt{5 \\, {\\mathcal{C}}^{2} - 8} {\\mathcal{C}} + 60 \\, {\\mathcal{C}}^{2} + 16\\right)} {\\left({z} + 1\\right)}}\\)</html>"
      ],
      "text/latex": [
       "$\\displaystyle -\\frac{16 \\, {\\left(3 i \\, \\sqrt{3} \\sqrt{5 \\, {\\mathcal{C}}^{2} - 8} {\\mathcal{C}}^{4} - 11 \\, {\\mathcal{C}}^{5} + 2 i \\, \\sqrt{3} \\sqrt{5 \\, {\\mathcal{C}}^{2} - 8} {\\mathcal{C}}^{3} + 14 \\, {\\mathcal{C}}^{4} - 2 i \\, \\sqrt{3} \\sqrt{5 \\, {\\mathcal{C}}^{2} - 8} {\\mathcal{C}}^{2} + 46 \\, {\\mathcal{C}}^{3} - 8 i \\, \\sqrt{3} \\sqrt{5 \\, {\\mathcal{C}}^{2} - 8} {\\mathcal{C}} - 16 \\, {\\mathcal{C}}^{2} - 4 i \\, \\sqrt{3} \\sqrt{5 \\, {\\mathcal{C}}^{2} - 8} - 44 \\, {\\mathcal{C}} - 16\\right)} {\\left({\\mathcal{C}} + 1\\right)}^{3} {\\left({\\mathcal{C}} - 1\\right)}^{2}}{9 \\, {\\left(-3 i \\, \\sqrt{3} \\sqrt{5 \\, {\\mathcal{C}}^{2} - 8} {\\mathcal{C}}^{5} + 11 \\, {\\mathcal{C}}^{6} - 60 \\, {\\mathcal{C}}^{4} + 12 i \\, \\sqrt{3} \\sqrt{5 \\, {\\mathcal{C}}^{2} - 8} {\\mathcal{C}} + 60 \\, {\\mathcal{C}}^{2} + 16\\right)} {\\left({z} + 1\\right)}}$"
      ],
      "text/plain": [
       "-16/9*(3*I*sqrt(3)*sqrt(5*C^2 - 8)*C^4 - 11*C^5 + 2*I*sqrt(3)*sqrt(5*C^2 - 8)*C^3 + 14*C^4 - 2*I*sqrt(3)*sqrt(5*C^2 - 8)*C^2 + 46*C^3 - 8*I*sqrt(3)*sqrt(5*C^2 - 8)*C - 16*C^2 - 4*I*sqrt(3)*sqrt(5*C^2 - 8) - 44*C - 16)*(C + 1)^3*(C - 1)^2/((-3*I*sqrt(3)*sqrt(5*C^2 - 8)*C^5 + 11*C^6 - 60*C^4 + 12*I*sqrt(3)*sqrt(5*C^2 - 8)*C + 60*C^2 + 16)*(z + 1))"
      ]
     },
     "metadata": {},
     "output_type": "display_data"
    }
   ],
   "source": [
    "print(\"======= Kinetic Dirichlet ======\")\n",
    "\n",
    "for i in range(q):\n",
    "    for j in range(q):\n",
    "        bd00[i, j] = bdMat_kinDir[i, j].full_simplify().collect(k).coefficient(k, 0)\n",
    "        bd01[i, j] = bdMat_kinDir[i, j].full_simplify().collect(k).coefficient(k, 1)\n",
    "        \n",
    "BKL[:, 0] = (bd00 + bd01*ks)*phiS ### First column\n",
    "BKL[:, 1] = (bd00)*phi01 ### Second column\n",
    "BKL[:, 2] = (bd00)*phi02 ### Third column\n",
    "\n",
    "DetKL = BKL.determinant().full_simplify()\n",
    "\n",
    "print(\"Kreiss Lopatinskii determinant at z = -1\")\n",
    "pretty_print(taylor(DetKL, z, -1, -1).factor())\n"
   ]
  },
  {
   "cell_type": "code",
   "execution_count": null,
   "id": "709c2d0b",
   "metadata": {},
   "outputs": [],
   "source": []
  }
 ],
 "metadata": {
  "kernelspec": {
   "display_name": "SageMath 10.0",
   "language": "sage",
   "name": "sagemath"
  },
  "language_info": {
   "codemirror_mode": {
    "name": "ipython",
    "version": 3
   },
   "file_extension": ".py",
   "mimetype": "text/x-python",
   "name": "python",
   "nbconvert_exporter": "python",
   "pygments_lexer": "ipython3",
   "version": "3.11.9"
  }
 },
 "nbformat": 4,
 "nbformat_minor": 5
}
