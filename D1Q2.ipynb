{
 "cells": [
  {
   "cell_type": "code",
   "execution_count": 1,
   "id": "d86ea0bc",
   "metadata": {},
   "outputs": [
    {
     "name": "stdout",
     "output_type": "stream",
     "text": [
      "!! Sanity check: the result must be zero.\n"
     ]
    },
    {
     "data": {
      "text/html": [
       "<html>\\(\\displaystyle 0\\)</html>"
      ],
      "text/latex": [
       "$\\displaystyle 0$"
      ],
      "text/plain": [
       "0"
      ]
     },
     "metadata": {},
     "output_type": "display_data"
    }
   ],
   "source": [
    "#### Constants in the scheme\n",
    "C = var(\"C\", latex_name=\"\\\\mathcal{C}\") ## Courant number\n",
    "s1 = var(\"s1\", latex_name=\"s_1\")        ## First relaxation parameter (useless)\n",
    "s2 = var(\"s2\", latex_name=\"s_2\")        ## Second relaxation parameter\n",
    "\n",
    "assume(C,'real')\n",
    "assume(s2,'real')\n",
    "\n",
    "#### Pieces involved in the scheme\n",
    "q = 2 ## Number of discrete velocities\n",
    "c1 = 1  ## First discrete velocity\n",
    "c2 = -1 ## Second discrete velocity\n",
    "r = 1 ## Stencil to the left\n",
    "p = 1 ## Stencil to the right\n",
    "M = matrix([[1,  1], \\\n",
    "            [1, -1]]) ## Moment velocity\n",
    "eps1 = 1 ## First equilibrium coefficient (useless)\n",
    "eps2 = C ## Second equilibrium coefficient\n",
    "\n",
    "#### Construction of the objects involved in the analysis\n",
    "k = var(\"kappa\", latex_name=\"\\\\kappa\") \n",
    "\n",
    "Minv = M.inverse()\n",
    "K = identity_matrix(q)+diagonal_matrix([s1, s2])*(matrix([[eps1], [eps2]])*matrix([[1, 0]])-identity_matrix(q))\n",
    "Ehat = M*diagonal_matrix([k**(-c1), k**(-c2)])*Minv*K #### Bulk matrix scheme \"Fourier\"\n",
    "for i in range(q):\n",
    "    for j in range(q):\n",
    "        Ehat[i, j] = Ehat[i, j].full_simplify().collect(k)\n",
    "    \n",
    "z = var(\"z\", latex_name=\"z\") \n",
    "\n",
    "charEq = (z*identity_matrix(q)-Ehat).determinant().full_simplify().collect(k) #### Characteristic equation\n",
    "dm1 = charEq.coefficient(k, -1).collect(z) ### Coefficient d_{-1} of the characteristic equation\n",
    "d0  = charEq.coefficient(k,  0).collect(z) ### Coefficient d_{0} of the characteristic equation\n",
    "dp1 = charEq.coefficient(k,  1).collect(z) ### Coefficient d_{1} of the characteristic equation\n",
    "\n",
    "Em1 = matrix(SR, q, q) ### Matrix for the point -1\n",
    "E0  = matrix(SR, q, q) ### Matrix for the point 0\n",
    "Ep1 = matrix(SR, q, q) ### Matrix for the point 1\n",
    "for i in range(q):\n",
    "    for j in range(q):\n",
    "        Em1[i, j] = Ehat[i, j].coefficient(k, -1)\n",
    "        E0[i, j]  = Ehat[i, j].coefficient(k,  0)\n",
    "        Ep1[i, j] = Ehat[i, j].coefficient(k,  1)\n",
    "Lz = - Em1 + (z*identity_matrix(q)-E0)*k - Ep1*k**2 ### Matrix polynomial in k\n",
    "print('!! Sanity check: the result must be zero.')\n",
    "pretty_print((Lz.determinant()/k**(r*q)-charEq).full_simplify()) ### Sanity check\n",
    "\n",
    "kplus  = ((-d0+sqrt(d0**2-4*dp1*dm1))/2/dp1).full_simplify() ### Root of the char eq with the plus\n",
    "kminus = ((-d0-sqrt(d0**2-4*dp1*dm1))/2/dp1).full_simplify() ### Root of the char eq with the minus\n",
    "\n",
    "\n",
    "Pi = dm1/dp1 ### This is the product of the roots in k "
   ]
  },
  {
   "cell_type": "code",
   "execution_count": 2,
   "id": "2b8c21d3",
   "metadata": {},
   "outputs": [],
   "source": [
    "##### Boundary conditions that we analyze for any value of C and s_2\n",
    "bdMat_BB = z*identity_matrix(q) - M*matrix([[0, 1], [0, k]])*Minv*K ## Bounce back\n",
    "bdMat_ABB = z*identity_matrix(q) - M*matrix([[0, -1], [0, k]])*Minv*K ## Anti Bounce back\n",
    "bdMat_TwoABB = z*identity_matrix(q) - M*matrix([[0, -k], [0, k]])*Minv*K ## Two steps Anti Bounce back\n",
    "bdMat_sigma1 = z*identity_matrix(q) - M*matrix([[1, 0], [0, k]])*Minv*K ## Extrapolation sigma = 1\n",
    "bdMat_sigma2 = z*identity_matrix(q) - M*matrix([[2-k, 0], [0, k]])*Minv*K ## Extrapolation sigma = 2\n",
    "bdMat_sigma3 = z*identity_matrix(q) - M*matrix([[3-3*k+k**2, 0], [0, k]])*Minv*K ## Extrapolation sigma = 3\n",
    "bdMat_sigma4 = z*identity_matrix(q) - M*matrix([[4-6*k+4*k**2-k**3, 0], [0, k]])*Minv*K ## Extrapolation sigma = 4\n",
    "bdMat_kinDir = z*identity_matrix(q) - M*matrix([[0, 0], [0, k]])*Minv*K ## Kinetic dirichlet"
   ]
  },
  {
   "cell_type": "code",
   "execution_count": 3,
   "id": "9d9668b9",
   "metadata": {},
   "outputs": [
    {
     "name": "stdout",
     "output_type": "stream",
     "text": [
      "Bounce back\n"
     ]
    },
    {
     "data": {
      "text/html": [
       "<html>\\(\\displaystyle \\left[\\left[{z} = 0, {\\kappa} = 0\\right], \\left[{z} = -\\frac{1}{2} \\, {\\left({\\mathcal{C}} - 1\\right)} {s_2}, {\\kappa} = 0\\right], \\left[{z} = 1, {\\kappa} = -\\frac{{\\left({\\mathcal{C}} - 1\\right)} {s_2} + 2}{{\\left({\\mathcal{C}} + 1\\right)} {s_2} - 2}\\right], \\left[{z} = {s_2} - 1, {\\kappa} = \\left(-1\\right)\\right]\\right]\\)</html>"
      ],
      "text/latex": [
       "$\\displaystyle \\left[\\left[{z} = 0, {\\kappa} = 0\\right], \\left[{z} = -\\frac{1}{2} \\, {\\left({\\mathcal{C}} - 1\\right)} {s_2}, {\\kappa} = 0\\right], \\left[{z} = 1, {\\kappa} = -\\frac{{\\left({\\mathcal{C}} - 1\\right)} {s_2} + 2}{{\\left({\\mathcal{C}} + 1\\right)} {s_2} - 2}\\right], \\left[{z} = {s_2} - 1, {\\kappa} = \\left(-1\\right)\\right]\\right]$"
      ],
      "text/plain": [
       "[[z == 0, kappa == 0], [z == -1/2*(C - 1)*s2, kappa == 0], [z == 1, kappa == -((C - 1)*s2 + 2)/((C + 1)*s2 - 2)], [z == s2 - 1, kappa == -1]]"
      ]
     },
     "metadata": {},
     "output_type": "display_data"
    },
    {
     "name": "stdout",
     "output_type": "stream",
     "text": [
      "Anti Bounce back\n"
     ]
    },
    {
     "data": {
      "text/html": [
       "<html>\\(\\displaystyle \\left[\\left[{z} = 0, {\\kappa} = 0\\right], \\left[{z} = \\frac{1}{2} \\, {\\left({\\mathcal{C}} - 1\\right)} {s_2}, {\\kappa} = 0\\right], \\left[{z} = \\left(-1\\right), {\\kappa} = \\frac{{\\left({\\mathcal{C}} - 1\\right)} {s_2} + 2}{{\\left({\\mathcal{C}} + 1\\right)} {s_2} - 2}\\right], \\left[{z} = -{s_2} + 1, {\\kappa} = 1\\right]\\right]\\)</html>"
      ],
      "text/latex": [
       "$\\displaystyle \\left[\\left[{z} = 0, {\\kappa} = 0\\right], \\left[{z} = \\frac{1}{2} \\, {\\left({\\mathcal{C}} - 1\\right)} {s_2}, {\\kappa} = 0\\right], \\left[{z} = \\left(-1\\right), {\\kappa} = \\frac{{\\left({\\mathcal{C}} - 1\\right)} {s_2} + 2}{{\\left({\\mathcal{C}} + 1\\right)} {s_2} - 2}\\right], \\left[{z} = -{s_2} + 1, {\\kappa} = 1\\right]\\right]$"
      ],
      "text/plain": [
       "[[z == 0, kappa == 0], [z == 1/2*(C - 1)*s2, kappa == 0], [z == -1, kappa == ((C - 1)*s2 + 2)/((C + 1)*s2 - 2)], [z == -s2 + 1, kappa == 1]]"
      ]
     },
     "metadata": {},
     "output_type": "display_data"
    },
    {
     "name": "stdout",
     "output_type": "stream",
     "text": [
      "Two steps anti Bounce back\n"
     ]
    },
    {
     "data": {
      "text/html": [
       "<html>\\(\\displaystyle \\left[\\left[{z} = 0, {\\kappa} = 0\\right], \\left[{z} = {s_2} - 1, {\\kappa} = \\left(-1\\right)\\right], \\left[{z} = -{s_2} + 1, {\\kappa} = 1\\right]\\right]\\)</html>"
      ],
      "text/latex": [
       "$\\displaystyle \\left[\\left[{z} = 0, {\\kappa} = 0\\right], \\left[{z} = {s_2} - 1, {\\kappa} = \\left(-1\\right)\\right], \\left[{z} = -{s_2} + 1, {\\kappa} = 1\\right]\\right]$"
      ],
      "text/plain": [
       "[[z == 0, kappa == 0], [z == s2 - 1, kappa == -1], [z == -s2 + 1, kappa == 1]]"
      ]
     },
     "metadata": {},
     "output_type": "display_data"
    },
    {
     "name": "stdout",
     "output_type": "stream",
     "text": [
      "Extrapolation sigma = 1\n"
     ]
    },
    {
     "data": {
      "text/html": [
       "<html>\\(\\displaystyle \\left[\\left[{z} = \\frac{1}{2} \\, {\\left({\\mathcal{C}} - 1\\right)} {s_2} + 1, {\\kappa} = 0\\right], \\left[{z} = 0, {\\kappa} = 0\\right], \\left[{z} = 1, {\\kappa} = 1\\right], \\left[{z} = -{s_2} + 1, {\\kappa} = 1\\right]\\right]\\)</html>"
      ],
      "text/latex": [
       "$\\displaystyle \\left[\\left[{z} = \\frac{1}{2} \\, {\\left({\\mathcal{C}} - 1\\right)} {s_2} + 1, {\\kappa} = 0\\right], \\left[{z} = 0, {\\kappa} = 0\\right], \\left[{z} = 1, {\\kappa} = 1\\right], \\left[{z} = -{s_2} + 1, {\\kappa} = 1\\right]\\right]$"
      ],
      "text/plain": [
       "[[z == 1/2*(C - 1)*s2 + 1, kappa == 0], [z == 0, kappa == 0], [z == 1, kappa == 1], [z == -s2 + 1, kappa == 1]]"
      ]
     },
     "metadata": {},
     "output_type": "display_data"
    },
    {
     "name": "stdout",
     "output_type": "stream",
     "text": [
      "Extrapolation sigma = 2\n"
     ]
    },
    {
     "data": {
      "text/html": [
       "<html>\\(\\displaystyle \\left[\\left[{z} = {\\left({\\mathcal{C}} - 1\\right)} {s_2} + 2, {\\kappa} = 0\\right], \\left[{z} = 0, {\\kappa} = 0\\right], \\left[{z} = 1, {\\kappa} = 1\\right], \\left[{z} = -{s_2} + 1, {\\kappa} = 1\\right]\\right]\\)</html>"
      ],
      "text/latex": [
       "$\\displaystyle \\left[\\left[{z} = {\\left({\\mathcal{C}} - 1\\right)} {s_2} + 2, {\\kappa} = 0\\right], \\left[{z} = 0, {\\kappa} = 0\\right], \\left[{z} = 1, {\\kappa} = 1\\right], \\left[{z} = -{s_2} + 1, {\\kappa} = 1\\right]\\right]$"
      ],
      "text/plain": [
       "[[z == (C - 1)*s2 + 2, kappa == 0], [z == 0, kappa == 0], [z == 1, kappa == 1], [z == -s2 + 1, kappa == 1]]"
      ]
     },
     "metadata": {},
     "output_type": "display_data"
    },
    {
     "name": "stdout",
     "output_type": "stream",
     "text": [
      "Extrapolation sigma = 3\n"
     ]
    },
    {
     "data": {
      "text/html": [
       "<html>\\(\\displaystyle \\left[\\left[{z} = \\frac{3}{2} \\, {\\left({\\mathcal{C}} - 1\\right)} {s_2} + 3, {\\kappa} = 0\\right], \\left[{z} = 0, {\\kappa} = 0\\right], \\left[{z} = 1, {\\kappa} = 1\\right], \\left[{z} = -{s_2} + 1, {\\kappa} = 1\\right]\\right]\\)</html>"
      ],
      "text/latex": [
       "$\\displaystyle \\left[\\left[{z} = \\frac{3}{2} \\, {\\left({\\mathcal{C}} - 1\\right)} {s_2} + 3, {\\kappa} = 0\\right], \\left[{z} = 0, {\\kappa} = 0\\right], \\left[{z} = 1, {\\kappa} = 1\\right], \\left[{z} = -{s_2} + 1, {\\kappa} = 1\\right]\\right]$"
      ],
      "text/plain": [
       "[[z == 3/2*(C - 1)*s2 + 3, kappa == 0], [z == 0, kappa == 0], [z == 1, kappa == 1], [z == -s2 + 1, kappa == 1]]"
      ]
     },
     "metadata": {},
     "output_type": "display_data"
    },
    {
     "name": "stdout",
     "output_type": "stream",
     "text": [
      "Extrapolation sigma = 4\n"
     ]
    },
    {
     "data": {
      "text/html": [
       "<html>\\(\\displaystyle \\left[\\left[{z} = 2 \\, {\\left({\\mathcal{C}} - 1\\right)} {s_2} + 4, {\\kappa} = 0\\right], \\left[{z} = 0, {\\kappa} = 0\\right], \\left[{z} = 1, {\\kappa} = 1\\right], \\left[{z} = -{s_2} + 1, {\\kappa} = 1\\right]\\right]\\)</html>"
      ],
      "text/latex": [
       "$\\displaystyle \\left[\\left[{z} = 2 \\, {\\left({\\mathcal{C}} - 1\\right)} {s_2} + 4, {\\kappa} = 0\\right], \\left[{z} = 0, {\\kappa} = 0\\right], \\left[{z} = 1, {\\kappa} = 1\\right], \\left[{z} = -{s_2} + 1, {\\kappa} = 1\\right]\\right]$"
      ],
      "text/plain": [
       "[[z == 2*(C - 1)*s2 + 4, kappa == 0], [z == 0, kappa == 0], [z == 1, kappa == 1], [z == -s2 + 1, kappa == 1]]"
      ]
     },
     "metadata": {},
     "output_type": "display_data"
    },
    {
     "name": "stdout",
     "output_type": "stream",
     "text": [
      "Kinetic Dirichlet\n"
     ]
    },
    {
     "data": {
      "text/html": [
       "<html>\\(\\displaystyle \\left[\\left[{z} = 0, {\\kappa} = 0\\right]\\right]\\)</html>"
      ],
      "text/latex": [
       "$\\displaystyle \\left[\\left[{z} = 0, {\\kappa} = 0\\right]\\right]$"
      ],
      "text/plain": [
       "[[z == 0, kappa == 0]]"
      ]
     },
     "metadata": {},
     "output_type": "display_data"
    }
   ],
   "source": [
    "##### We find the critical (z, k) eigenvalues between boundary and bulk\n",
    "print(\"Bounce back\")\n",
    "pretty_print(solve([Lz.determinant().full_simplify(), bdMat_BB.determinant().full_simplify()], (z, k)))\n",
    "print(\"Anti Bounce back\")\n",
    "pretty_print(solve([Lz.determinant().full_simplify(), bdMat_ABB.determinant().full_simplify()], (z, k)))\n",
    "print(\"Two steps anti Bounce back\")\n",
    "pretty_print(solve([Lz.determinant().full_simplify(), bdMat_TwoABB.determinant().full_simplify()], (z, k)))\n",
    "print(\"Extrapolation sigma = 1\")\n",
    "pretty_print(solve([Lz.determinant().full_simplify(), bdMat_sigma1.determinant().full_simplify()], (z, k)))\n",
    "print(\"Extrapolation sigma = 2\")\n",
    "pretty_print(solve([Lz.determinant().full_simplify(), bdMat_sigma2.determinant().full_simplify()], (z, k)))\n",
    "print(\"Extrapolation sigma = 3\")\n",
    "pretty_print(solve([Lz.determinant().full_simplify(), bdMat_sigma3.determinant().full_simplify()], (z, k)))\n",
    "print(\"Extrapolation sigma = 4\")\n",
    "pretty_print(solve([Lz.determinant().full_simplify(), bdMat_sigma4.determinant().full_simplify()], (z, k)))\n",
    "print(\"Kinetic Dirichlet\")\n",
    "pretty_print(solve([Lz.determinant().full_simplify(), bdMat_kinDir.determinant().full_simplify()], (z, k)))"
   ]
  },
  {
   "cell_type": "code",
   "execution_count": 4,
   "id": "f2befaee",
   "metadata": {},
   "outputs": [
    {
     "name": "stdout",
     "output_type": "stream",
     "text": [
      "Bounce back\n"
     ]
    },
    {
     "data": {
      "text/html": [
       "<html>\\(\\displaystyle \\left[\\left[{z} = 0, {\\kappa} = 0\\right], \\left[{z} = \\left(\\frac{3}{2}\\right), {\\kappa} = 0\\right], \\left[{z} = 1, {\\kappa} = \\left(-1\\right)\\right]\\right]\\)</html>"
      ],
      "text/latex": [
       "$\\displaystyle \\left[\\left[{z} = 0, {\\kappa} = 0\\right], \\left[{z} = \\left(\\frac{3}{2}\\right), {\\kappa} = 0\\right], \\left[{z} = 1, {\\kappa} = \\left(-1\\right)\\right]\\right]$"
      ],
      "text/plain": [
       "[[z == 0, kappa == 0], [z == (3/2), kappa == 0], [z == 1, kappa == -1]]"
      ]
     },
     "metadata": {},
     "output_type": "display_data"
    },
    {
     "name": "stdout",
     "output_type": "stream",
     "text": [
      "Anti Bounce back\n"
     ]
    },
    {
     "data": {
      "text/html": [
       "<html>\\(\\displaystyle \\left[\\left[{z} = 0, {\\kappa} = 0\\right], \\left[{z} = \\left(-\\frac{3}{2}\\right), {\\kappa} = 0\\right], \\left[{z} = \\left(-1\\right), {\\kappa} = 1\\right]\\right]\\)</html>"
      ],
      "text/latex": [
       "$\\displaystyle \\left[\\left[{z} = 0, {\\kappa} = 0\\right], \\left[{z} = \\left(-\\frac{3}{2}\\right), {\\kappa} = 0\\right], \\left[{z} = \\left(-1\\right), {\\kappa} = 1\\right]\\right]$"
      ],
      "text/plain": [
       "[[z == 0, kappa == 0], [z == (-3/2), kappa == 0], [z == -1, kappa == 1]]"
      ]
     },
     "metadata": {},
     "output_type": "display_data"
    },
    {
     "name": "stdout",
     "output_type": "stream",
     "text": [
      "Two steps anti Bounce back\n"
     ]
    },
    {
     "data": {
      "text/html": [
       "<html>\\(\\displaystyle \\left[\\left[{z} = 0, {\\kappa} = 0\\right], \\left[{z} = \\left(-1\\right), {\\kappa} = 1\\right], \\left[{z} = 1, {\\kappa} = \\left(-1\\right)\\right]\\right]\\)</html>"
      ],
      "text/latex": [
       "$\\displaystyle \\left[\\left[{z} = 0, {\\kappa} = 0\\right], \\left[{z} = \\left(-1\\right), {\\kappa} = 1\\right], \\left[{z} = 1, {\\kappa} = \\left(-1\\right)\\right]\\right]$"
      ],
      "text/plain": [
       "[[z == 0, kappa == 0], [z == -1, kappa == 1], [z == 1, kappa == -1]]"
      ]
     },
     "metadata": {},
     "output_type": "display_data"
    },
    {
     "name": "stdout",
     "output_type": "stream",
     "text": [
      "Extrapolation sigma = 1\n"
     ]
    },
    {
     "data": {
      "text/html": [
       "<html>\\(\\displaystyle \\left[\\left[{z} = \\left(-\\frac{1}{2}\\right), {\\kappa} = 0\\right], \\left[{z} = 0, {\\kappa} = 0\\right], \\left[{z} = \\left(-1\\right), {\\kappa} = 1\\right], \\left[{z} = 1, {\\kappa} = 1\\right]\\right]\\)</html>"
      ],
      "text/latex": [
       "$\\displaystyle \\left[\\left[{z} = \\left(-\\frac{1}{2}\\right), {\\kappa} = 0\\right], \\left[{z} = 0, {\\kappa} = 0\\right], \\left[{z} = \\left(-1\\right), {\\kappa} = 1\\right], \\left[{z} = 1, {\\kappa} = 1\\right]\\right]$"
      ],
      "text/plain": [
       "[[z == (-1/2), kappa == 0], [z == 0, kappa == 0], [z == -1, kappa == 1], [z == 1, kappa == 1]]"
      ]
     },
     "metadata": {},
     "output_type": "display_data"
    },
    {
     "name": "stdout",
     "output_type": "stream",
     "text": [
      "Extrapolation sigma = 2\n"
     ]
    },
    {
     "data": {
      "text/html": [
       "<html>\\(\\displaystyle \\left[\\left[{z} = \\left(-1\\right), {\\kappa} = 0\\right], \\left[{z} = 0, {\\kappa} = 0\\right], \\left[{z} = \\left(-1\\right), {\\kappa} = 1\\right], \\left[{z} = 1, {\\kappa} = 1\\right]\\right]\\)</html>"
      ],
      "text/latex": [
       "$\\displaystyle \\left[\\left[{z} = \\left(-1\\right), {\\kappa} = 0\\right], \\left[{z} = 0, {\\kappa} = 0\\right], \\left[{z} = \\left(-1\\right), {\\kappa} = 1\\right], \\left[{z} = 1, {\\kappa} = 1\\right]\\right]$"
      ],
      "text/plain": [
       "[[z == -1, kappa == 0], [z == 0, kappa == 0], [z == -1, kappa == 1], [z == 1, kappa == 1]]"
      ]
     },
     "metadata": {},
     "output_type": "display_data"
    },
    {
     "name": "stdout",
     "output_type": "stream",
     "text": [
      "Extrapolation sigma = 3\n"
     ]
    },
    {
     "data": {
      "text/html": [
       "<html>\\(\\displaystyle \\left[\\left[{z} = \\left(-\\frac{3}{2}\\right), {\\kappa} = 0\\right], \\left[{z} = 0, {\\kappa} = 0\\right], \\left[{z} = \\left(-1\\right), {\\kappa} = 1\\right], \\left[{z} = 1, {\\kappa} = 1\\right]\\right]\\)</html>"
      ],
      "text/latex": [
       "$\\displaystyle \\left[\\left[{z} = \\left(-\\frac{3}{2}\\right), {\\kappa} = 0\\right], \\left[{z} = 0, {\\kappa} = 0\\right], \\left[{z} = \\left(-1\\right), {\\kappa} = 1\\right], \\left[{z} = 1, {\\kappa} = 1\\right]\\right]$"
      ],
      "text/plain": [
       "[[z == (-3/2), kappa == 0], [z == 0, kappa == 0], [z == -1, kappa == 1], [z == 1, kappa == 1]]"
      ]
     },
     "metadata": {},
     "output_type": "display_data"
    },
    {
     "name": "stdout",
     "output_type": "stream",
     "text": [
      "Extrapolation sigma = 4\n"
     ]
    },
    {
     "data": {
      "text/html": [
       "<html>\\(\\displaystyle \\left[\\left[{z} = \\left(-2\\right), {\\kappa} = 0\\right], \\left[{z} = 0, {\\kappa} = 0\\right], \\left[{z} = \\left(-1\\right), {\\kappa} = 1\\right], \\left[{z} = 1, {\\kappa} = 1\\right]\\right]\\)</html>"
      ],
      "text/latex": [
       "$\\displaystyle \\left[\\left[{z} = \\left(-2\\right), {\\kappa} = 0\\right], \\left[{z} = 0, {\\kappa} = 0\\right], \\left[{z} = \\left(-1\\right), {\\kappa} = 1\\right], \\left[{z} = 1, {\\kappa} = 1\\right]\\right]$"
      ],
      "text/plain": [
       "[[z == -2, kappa == 0], [z == 0, kappa == 0], [z == -1, kappa == 1], [z == 1, kappa == 1]]"
      ]
     },
     "metadata": {},
     "output_type": "display_data"
    },
    {
     "name": "stdout",
     "output_type": "stream",
     "text": [
      "Kinetic Dirichlet\n"
     ]
    },
    {
     "data": {
      "text/html": [
       "<html>\\(\\displaystyle \\left[\\left[{z} = 0, {\\kappa} = 0\\right]\\right]\\)</html>"
      ],
      "text/latex": [
       "$\\displaystyle \\left[\\left[{z} = 0, {\\kappa} = 0\\right]\\right]$"
      ],
      "text/plain": [
       "[[z == 0, kappa == 0]]"
      ]
     },
     "metadata": {},
     "output_type": "display_data"
    }
   ],
   "source": [
    "##### Sanity check : we set some values for s_2 and C and see if we find more\n",
    "##### Sometimes sagemath does not give all the roots\n",
    "s2_val = 2\n",
    "C_val = -1/2\n",
    "print(\"Bounce back\")\n",
    "pretty_print(solve([Lz.subs(s2==s2_val, C==C_val).determinant().full_simplify(), bdMat_BB.subs(s2==s2_val, C==C_val).determinant().full_simplify()], (z, k)))\n",
    "print(\"Anti Bounce back\")\n",
    "pretty_print(solve([Lz.subs(s2==s2_val, C==C_val).determinant().full_simplify(), bdMat_ABB.subs(s2==s2_val, C==C_val).determinant().full_simplify()], (z, k)))\n",
    "print(\"Two steps anti Bounce back\")\n",
    "pretty_print(solve([Lz.subs(s2==s2_val, C==C_val).determinant().full_simplify(), bdMat_TwoABB.subs(s2==s2_val, C==C_val).determinant().full_simplify()], (z, k)))\n",
    "print(\"Extrapolation sigma = 1\")\n",
    "pretty_print(solve([Lz.subs(s2==s2_val, C==C_val).determinant().full_simplify(), bdMat_sigma1.subs(s2==s2_val, C==C_val).determinant().full_simplify()], (z, k)))\n",
    "print(\"Extrapolation sigma = 2\")\n",
    "pretty_print(solve([Lz.subs(s2==s2_val, C==C_val).determinant().full_simplify(), bdMat_sigma2.subs(s2==s2_val, C==C_val).determinant().full_simplify()], (z, k)))\n",
    "print(\"Extrapolation sigma = 3\")\n",
    "pretty_print(solve([Lz.subs(s2==s2_val, C==C_val).determinant().full_simplify(), bdMat_sigma3.subs(s2==s2_val, C==C_val).determinant().full_simplify()], (z, k)))\n",
    "print(\"Extrapolation sigma = 4\")\n",
    "pretty_print(solve([Lz.subs(s2==s2_val, C==C_val).determinant().full_simplify(), bdMat_sigma4.subs(s2==s2_val, C==C_val).determinant().full_simplify()], (z, k)))\n",
    "print(\"Kinetic Dirichlet\")\n",
    "pretty_print(solve([Lz.subs(s2==s2_val, C==C_val).determinant().full_simplify(), bdMat_kinDir.subs(s2==s2_val, C==C_val).determinant().full_simplify()], (z, k)))"
   ]
  },
  {
   "cell_type": "code",
   "execution_count": 5,
   "id": "35ff86c0",
   "metadata": {},
   "outputs": [],
   "source": [
    "#### We make natural assumptions\n",
    "assume(s2>0)\n",
    "assume(s2<=2)"
   ]
  },
  {
   "cell_type": "code",
   "execution_count": 6,
   "id": "7c059398",
   "metadata": {},
   "outputs": [
    {
     "name": "stdout",
     "output_type": "stream",
     "text": [
      "Value of kminus at z=-1\n"
     ]
    },
    {
     "data": {
      "text/html": [
       "<html>\\(\\displaystyle -1\\)</html>"
      ],
      "text/latex": [
       "$\\displaystyle -1$"
      ],
      "text/plain": [
       "-1"
      ]
     },
     "metadata": {},
     "output_type": "display_data"
    },
    {
     "name": "stdout",
     "output_type": "stream",
     "text": [
      "Value of kplus at z=-1\n"
     ]
    },
    {
     "data": {
      "text/html": [
       "<html>\\(\\displaystyle \\frac{{\\left({\\mathcal{C}} - 1\\right)} {s_2} + 2}{{\\left({\\mathcal{C}} + 1\\right)} {s_2} - 2}\\)</html>"
      ],
      "text/latex": [
       "$\\displaystyle \\frac{{\\left({\\mathcal{C}} - 1\\right)} {s_2} + 2}{{\\left({\\mathcal{C}} + 1\\right)} {s_2} - 2}$"
      ],
      "text/plain": [
       "((C - 1)*s2 + 2)/((C + 1)*s2 - 2)"
      ]
     },
     "metadata": {},
     "output_type": "display_data"
    },
    {
     "name": "stdout",
     "output_type": "stream",
     "text": [
      "Value of kminus at z=1\n"
     ]
    },
    {
     "data": {
      "text/html": [
       "<html>\\(\\displaystyle 1\\)</html>"
      ],
      "text/latex": [
       "$\\displaystyle 1$"
      ],
      "text/plain": [
       "1"
      ]
     },
     "metadata": {},
     "output_type": "display_data"
    },
    {
     "name": "stdout",
     "output_type": "stream",
     "text": [
      "Value of kplus at z=1\n"
     ]
    },
    {
     "data": {
      "text/html": [
       "<html>\\(\\displaystyle -\\frac{{\\left({\\mathcal{C}} - 1\\right)} {s_2} + 2}{{\\left({\\mathcal{C}} + 1\\right)} {s_2} - 2}\\)</html>"
      ],
      "text/latex": [
       "$\\displaystyle -\\frac{{\\left({\\mathcal{C}} - 1\\right)} {s_2} + 2}{{\\left({\\mathcal{C}} + 1\\right)} {s_2} - 2}$"
      ],
      "text/plain": [
       "-((C - 1)*s2 + 2)/((C + 1)*s2 - 2)"
      ]
     },
     "metadata": {},
     "output_type": "display_data"
    },
    {
     "name": "stdout",
     "output_type": "stream",
     "text": [
      "Value of Pi\n"
     ]
    },
    {
     "data": {
      "text/html": [
       "<html>\\(\\displaystyle -\\frac{{\\mathcal{C}} {s_2} - {s_2} + 2}{{\\mathcal{C}} {s_2} + {s_2} - 2}\\)</html>"
      ],
      "text/latex": [
       "$\\displaystyle -\\frac{{\\mathcal{C}} {s_2} - {s_2} + 2}{{\\mathcal{C}} {s_2} + {s_2} - 2}$"
      ],
      "text/plain": [
       "-(C*s2 - s2 + 2)/(C*s2 + s2 - 2)"
      ]
     },
     "metadata": {},
     "output_type": "display_data"
    },
    {
     "name": "stdout",
     "output_type": "stream",
     "text": [
      "Expansion of the second component of phiS around z = -1 as s2 != 2\n"
     ]
    },
    {
     "data": {
      "text/html": [
       "<html>\\(\\displaystyle \\frac{{\\mathcal{C}} {s_2}}{{s_2} - 2} - \\frac{{\\left({\\left({\\mathcal{C}}^{2} - 1\\right)} {s_2}^{2} + 4 \\, {s_2} - 4\\right)} {\\left({z} + 1\\right)}}{{\\mathcal{C}} {s_2}^{3} - 4 \\, {\\mathcal{C}} {s_2}^{2} + 4 \\, {\\mathcal{C}} {s_2}}\\)</html>"
      ],
      "text/latex": [
       "$\\displaystyle \\frac{{\\mathcal{C}} {s_2}}{{s_2} - 2} - \\frac{{\\left({\\left({\\mathcal{C}}^{2} - 1\\right)} {s_2}^{2} + 4 \\, {s_2} - 4\\right)} {\\left({z} + 1\\right)}}{{\\mathcal{C}} {s_2}^{3} - 4 \\, {\\mathcal{C}} {s_2}^{2} + 4 \\, {\\mathcal{C}} {s_2}}$"
      ],
      "text/plain": [
       "C*s2/(s2 - 2) - ((C^2 - 1)*s2^2 + 4*s2 - 4)*(z + 1)/(C*s2^3 - 4*C*s2^2 + 4*C*s2)"
      ]
     },
     "metadata": {},
     "output_type": "display_data"
    },
    {
     "name": "stdout",
     "output_type": "stream",
     "text": [
      "Expansion of the second component of phiS around z = -1 as s2 = 2\n"
     ]
    },
    {
     "data": {
      "text/html": [
       "<html>\\(\\displaystyle \\frac{2 \\, {\\mathcal{C}}}{{z} + 1} + \\frac{{z} + 1}{2 \\, {\\mathcal{C}}}\\)</html>"
      ],
      "text/latex": [
       "$\\displaystyle \\frac{2 \\, {\\mathcal{C}}}{{z} + 1} + \\frac{{z} + 1}{2 \\, {\\mathcal{C}}}$"
      ],
      "text/plain": [
       "2*C/(z + 1) + 1/2*(z + 1)/C"
      ]
     },
     "metadata": {},
     "output_type": "display_data"
    },
    {
     "name": "stdout",
     "output_type": "stream",
     "text": [
      "Expansion of the second component of phiS around z = 1 as s2 != 2\n"
     ]
    },
    {
     "data": {
      "text/html": [
       "<html>\\(\\displaystyle \\frac{{\\mathcal{C}} {s_2}}{{s_2} - 2} + \\frac{{\\left({\\left({\\mathcal{C}}^{2} - 1\\right)} {s_2}^{2} + 4 \\, {s_2} - 4\\right)} {\\left({z} - 1\\right)}}{{\\mathcal{C}} {s_2}^{3} - 4 \\, {\\mathcal{C}} {s_2}^{2} + 4 \\, {\\mathcal{C}} {s_2}}\\)</html>"
      ],
      "text/latex": [
       "$\\displaystyle \\frac{{\\mathcal{C}} {s_2}}{{s_2} - 2} + \\frac{{\\left({\\left({\\mathcal{C}}^{2} - 1\\right)} {s_2}^{2} + 4 \\, {s_2} - 4\\right)} {\\left({z} - 1\\right)}}{{\\mathcal{C}} {s_2}^{3} - 4 \\, {\\mathcal{C}} {s_2}^{2} + 4 \\, {\\mathcal{C}} {s_2}}$"
      ],
      "text/plain": [
       "C*s2/(s2 - 2) + ((C^2 - 1)*s2^2 + 4*s2 - 4)*(z - 1)/(C*s2^3 - 4*C*s2^2 + 4*C*s2)"
      ]
     },
     "metadata": {},
     "output_type": "display_data"
    },
    {
     "name": "stdout",
     "output_type": "stream",
     "text": [
      "Expansion of the second component of phiS around z = 1 as s2 = 2\n"
     ]
    },
    {
     "data": {
      "text/html": [
       "<html>\\(\\displaystyle -\\frac{2 \\, {\\mathcal{C}}}{{z} - 1} - \\frac{{z} - 1}{2 \\, {\\mathcal{C}}}\\)</html>"
      ],
      "text/latex": [
       "$\\displaystyle -\\frac{2 \\, {\\mathcal{C}}}{{z} - 1} - \\frac{{z} - 1}{2 \\, {\\mathcal{C}}}$"
      ],
      "text/plain": [
       "-2*C/(z - 1) - 1/2*(z - 1)/C"
      ]
     },
     "metadata": {},
     "output_type": "display_data"
    },
    {
     "name": "stdout",
     "output_type": "stream",
     "text": [
      "Kreiss Lopatinskii determinant for BB with s2=2 at z=-1 (Taylor expansion)\n"
     ]
    },
    {
     "data": {
      "text/html": [
       "<html>\\(\\displaystyle \\frac{4 \\, {\\mathcal{C}}^{2}}{{z} + 1}\\)</html>"
      ],
      "text/latex": [
       "$\\displaystyle \\frac{4 \\, {\\mathcal{C}}^{2}}{{z} + 1}$"
      ],
      "text/plain": [
       "4*C^2/(z + 1)"
      ]
     },
     "metadata": {},
     "output_type": "display_data"
    },
    {
     "name": "stdout",
     "output_type": "stream",
     "text": [
      "Kreiss Lopatinskii determinant for ABB with s2 in (0, 2) at z=-1\n"
     ]
    },
    {
     "data": {
      "text/html": [
       "<html>\\(\\displaystyle 0\\)</html>"
      ],
      "text/latex": [
       "$\\displaystyle 0$"
      ],
      "text/plain": [
       "0"
      ]
     },
     "metadata": {},
     "output_type": "display_data"
    },
    {
     "name": "stdout",
     "output_type": "stream",
     "text": [
      "Boundary matrix on the stable subspace for ABB with s2 in (0, 2) at z=-1 (Taylor expansion)\n",
      "i = 0\n",
      "j = 0\n"
     ]
    },
    {
     "data": {
      "text/html": [
       "<html>\\(\\displaystyle \\frac{2 \\, {\\mathcal{C}} {s_2}}{{\\left({\\left({\\mathcal{C}} + 1\\right)} {s_2} - 2\\right)} {\\left({z} + 1\\right)}}\\)</html>"
      ],
      "text/latex": [
       "$\\displaystyle \\frac{2 \\, {\\mathcal{C}} {s_2}}{{\\left({\\left({\\mathcal{C}} + 1\\right)} {s_2} - 2\\right)} {\\left({z} + 1\\right)}}$"
      ],
      "text/plain": [
       "2*C*s2/(((C + 1)*s2 - 2)*(z + 1))"
      ]
     },
     "metadata": {},
     "output_type": "display_data"
    },
    {
     "name": "stdout",
     "output_type": "stream",
     "text": [
      "j = 1\n"
     ]
    },
    {
     "data": {
      "text/html": [
       "<html>\\(\\displaystyle 0\\)</html>"
      ],
      "text/latex": [
       "$\\displaystyle 0$"
      ],
      "text/plain": [
       "0"
      ]
     },
     "metadata": {},
     "output_type": "display_data"
    },
    {
     "name": "stdout",
     "output_type": "stream",
     "text": [
      "i = 1\n",
      "j = 0\n"
     ]
    },
    {
     "data": {
      "text/html": [
       "<html>\\(\\displaystyle 0\\)</html>"
      ],
      "text/latex": [
       "$\\displaystyle 0$"
      ],
      "text/plain": [
       "0"
      ]
     },
     "metadata": {},
     "output_type": "display_data"
    },
    {
     "name": "stdout",
     "output_type": "stream",
     "text": [
      "j = 1\n"
     ]
    },
    {
     "data": {
      "text/html": [
       "<html>\\(\\displaystyle 0\\)</html>"
      ],
      "text/latex": [
       "$\\displaystyle 0$"
      ],
      "text/plain": [
       "0"
      ]
     },
     "metadata": {},
     "output_type": "display_data"
    },
    {
     "name": "stdout",
     "output_type": "stream",
     "text": [
      "Computation of the long-time solution with residues\n",
      "For m_1 with s2 in (0, 2)\n"
     ]
    },
    {
     "data": {
      "text/html": [
       "<html>\\(\\displaystyle -\\frac{2 \\, \\left(-1\\right)^{n} {\\mathcal{C}} {s_2} \\left(\\frac{{\\left({\\mathcal{C}} - 1\\right)} {s_2} + 2}{{\\left({\\mathcal{C}} + 1\\right)} {s_2} - 2}\\right)^{j}}{{\\left({\\mathcal{C}} + 1\\right)} {s_2} - 2}\\)</html>"
      ],
      "text/latex": [
       "$\\displaystyle -\\frac{2 \\, \\left(-1\\right)^{n} {\\mathcal{C}} {s_2} \\left(\\frac{{\\left({\\mathcal{C}} - 1\\right)} {s_2} + 2}{{\\left({\\mathcal{C}} + 1\\right)} {s_2} - 2}\\right)^{j}}{{\\left({\\mathcal{C}} + 1\\right)} {s_2} - 2}$"
      ],
      "text/plain": [
       "-2*(-1)^n*C*s2*(((C - 1)*s2 + 2)/((C + 1)*s2 - 2))^j/((C + 1)*s2 - 2)"
      ]
     },
     "metadata": {},
     "output_type": "display_data"
    },
    {
     "name": "stdout",
     "output_type": "stream",
     "text": [
      "For m_2 with s2 in (0, 2)\n"
     ]
    },
    {
     "data": {
      "text/html": [
       "<html>\\(\\displaystyle -\\frac{2 \\, \\left(-1\\right)^{n} {\\mathcal{C}}^{2} {s_2}^{2} \\left(\\frac{{\\left({\\mathcal{C}} - 1\\right)} {s_2} + 2}{{\\left({\\mathcal{C}} + 1\\right)} {s_2} - 2}\\right)^{j}}{{\\left({\\mathcal{C}} + 1\\right)} {s_2}^{2} - 2 \\, {\\left({\\mathcal{C}} + 2\\right)} {s_2} + 4}\\)</html>"
      ],
      "text/latex": [
       "$\\displaystyle -\\frac{2 \\, \\left(-1\\right)^{n} {\\mathcal{C}}^{2} {s_2}^{2} \\left(\\frac{{\\left({\\mathcal{C}} - 1\\right)} {s_2} + 2}{{\\left({\\mathcal{C}} + 1\\right)} {s_2} - 2}\\right)^{j}}{{\\left({\\mathcal{C}} + 1\\right)} {s_2}^{2} - 2 \\, {\\left({\\mathcal{C}} + 2\\right)} {s_2} + 4}$"
      ],
      "text/plain": [
       "-2*(-1)^n*C^2*s2^2*(((C - 1)*s2 + 2)/((C + 1)*s2 - 2))^j/((C + 1)*s2^2 - 2*(C + 2)*s2 + 4)"
      ]
     },
     "metadata": {},
     "output_type": "display_data"
    },
    {
     "name": "stdout",
     "output_type": "stream",
     "text": [
      "For m_1 with s2=2\n"
     ]
    },
    {
     "data": {
      "text/html": [
       "<html>\\(\\displaystyle -2 \\, \\left(-1\\right)^{n}\\)</html>"
      ],
      "text/latex": [
       "$\\displaystyle -2 \\, \\left(-1\\right)^{n}$"
      ],
      "text/plain": [
       "-2*(-1)^n"
      ]
     },
     "metadata": {},
     "output_type": "display_data"
    },
    {
     "name": "stdout",
     "output_type": "stream",
     "text": [
      "For m_2 with s2=2\n"
     ]
    },
    {
     "data": {
      "text/html": [
       "<html>\\(\\displaystyle 2 \\, {\\left(2 \\, {\\mathcal{C}} n - 2 \\, {\\mathcal{C}} + 2 \\, j + 1\\right)} \\left(-1\\right)^{n}\\)</html>"
      ],
      "text/latex": [
       "$\\displaystyle 2 \\, {\\left(2 \\, {\\mathcal{C}} n - 2 \\, {\\mathcal{C}} + 2 \\, j + 1\\right)} \\left(-1\\right)^{n}$"
      ],
      "text/plain": [
       "2*(2*C*n - 2*C + 2*j + 1)*(-1)^n"
      ]
     },
     "metadata": {},
     "output_type": "display_data"
    },
    {
     "name": "stdout",
     "output_type": "stream",
     "text": [
      "Kreiss Lopatinskii determinant for ABB with s2=2/(1-C) in (0, 2) at z=-1\n"
     ]
    },
    {
     "data": {
      "text/html": [
       "<html>\\(\\displaystyle 0\\)</html>"
      ],
      "text/latex": [
       "$\\displaystyle 0$"
      ],
      "text/plain": [
       "0"
      ]
     },
     "metadata": {},
     "output_type": "display_data"
    },
    {
     "name": "stdout",
     "output_type": "stream",
     "text": [
      "Boundary matrix on the stable subspace for ABB with s2=2/(1-C) at z=-1 (Taylor expansion)\n",
      "i = 0\n",
      "j = 0\n"
     ]
    },
    {
     "data": {
      "text/html": [
       "<html>\\(\\displaystyle 0\\)</html>"
      ],
      "text/latex": [
       "$\\displaystyle 0$"
      ],
      "text/plain": [
       "0"
      ]
     },
     "metadata": {},
     "output_type": "display_data"
    },
    {
     "name": "stdout",
     "output_type": "stream",
     "text": [
      "j = 1\n"
     ]
    },
    {
     "data": {
      "text/html": [
       "<html>\\(\\displaystyle 0\\)</html>"
      ],
      "text/latex": [
       "$\\displaystyle 0$"
      ],
      "text/plain": [
       "0"
      ]
     },
     "metadata": {},
     "output_type": "display_data"
    },
    {
     "name": "stdout",
     "output_type": "stream",
     "text": [
      "i = 1\n",
      "j = 0\n"
     ]
    },
    {
     "data": {
      "text/html": [
       "<html>\\(\\displaystyle -\\frac{{\\mathcal{C}} - 1}{{\\left({\\mathcal{C}} + 1\\right)} {\\left({z} + 1\\right)}}\\)</html>"
      ],
      "text/latex": [
       "$\\displaystyle -\\frac{{\\mathcal{C}} - 1}{{\\left({\\mathcal{C}} + 1\\right)} {\\left({z} + 1\\right)}}$"
      ],
      "text/plain": [
       "-(C - 1)/((C + 1)*(z + 1))"
      ]
     },
     "metadata": {},
     "output_type": "display_data"
    },
    {
     "name": "stdout",
     "output_type": "stream",
     "text": [
      "j = 1\n"
     ]
    },
    {
     "data": {
      "text/html": [
       "<html>\\(\\displaystyle 0\\)</html>"
      ],
      "text/latex": [
       "$\\displaystyle 0$"
      ],
      "text/plain": [
       "0"
      ]
     },
     "metadata": {},
     "output_type": "display_data"
    },
    {
     "name": "stdout",
     "output_type": "stream",
     "text": [
      "Kreiss Lopatinskii determinant for Two steps ABB with s2=2 at z=-1\n"
     ]
    },
    {
     "data": {
      "text/html": [
       "<html>\\(\\displaystyle 2 \\, {\\mathcal{C}}\\)</html>"
      ],
      "text/latex": [
       "$\\displaystyle 2 \\, {\\mathcal{C}}$"
      ],
      "text/plain": [
       "2*C"
      ]
     },
     "metadata": {},
     "output_type": "display_data"
    },
    {
     "name": "stdout",
     "output_type": "stream",
     "text": [
      "Boundary matrix on the stable subspace for Two steps ABB with s2=2 at z=-1\n"
     ]
    },
    {
     "data": {
      "text/html": [
       "<html>\\(\\displaystyle \\left(\\begin{array}{rr}\n",
       "-1 & -1 \\\\\n",
       "-1 & -2 \\, {\\mathcal{C}} - 1\n",
       "\\end{array}\\right)\\)</html>"
      ],
      "text/latex": [
       "$\\displaystyle \\left(\\begin{array}{rr}\n",
       "-1 & -1 \\\\\n",
       "-1 & -2 \\, {\\mathcal{C}} - 1\n",
       "\\end{array}\\right)$"
      ],
      "text/plain": [
       "[      -1       -1]\n",
       "[      -1 -2*C - 1]"
      ]
     },
     "metadata": {},
     "output_type": "display_data"
    },
    {
     "name": "stdout",
     "output_type": "stream",
     "text": [
      "Kreiss Lopatinskii determinant for Extrapolation sigma = 1  with s2=2 at z=-1\n"
     ]
    },
    {
     "data": {
      "text/html": [
       "<html>\\(\\displaystyle 2 \\, {\\mathcal{C}}\\)</html>"
      ],
      "text/latex": [
       "$\\displaystyle 2 \\, {\\mathcal{C}}$"
      ],
      "text/plain": [
       "2*C"
      ]
     },
     "metadata": {},
     "output_type": "display_data"
    },
    {
     "name": "stdout",
     "output_type": "stream",
     "text": [
      "Boundary matrix on the stable subspace for Extrapolation sigma = 1  with s2=2 at z=-1\n"
     ]
    },
    {
     "data": {
      "text/html": [
       "<html>\\(\\displaystyle \\left(\\begin{array}{rr}\n",
       "-1 & -1 \\\\\n",
       "-1 & -2 \\, {\\mathcal{C}} - 1\n",
       "\\end{array}\\right)\\)</html>"
      ],
      "text/latex": [
       "$\\displaystyle \\left(\\begin{array}{rr}\n",
       "-1 & -1 \\\\\n",
       "-1 & -2 \\, {\\mathcal{C}} - 1\n",
       "\\end{array}\\right)$"
      ],
      "text/plain": [
       "[      -1       -1]\n",
       "[      -1 -2*C - 1]"
      ]
     },
     "metadata": {},
     "output_type": "display_data"
    },
    {
     "name": "stdout",
     "output_type": "stream",
     "text": [
      "Computation of the long-time solution with residues\n",
      "For m_1 with s2=2\n"
     ]
    },
    {
     "data": {
      "text/html": [
       "<html>\\(\\displaystyle 0\\)</html>"
      ],
      "text/latex": [
       "$\\displaystyle 0$"
      ],
      "text/plain": [
       "0"
      ]
     },
     "metadata": {},
     "output_type": "display_data"
    },
    {
     "name": "stdout",
     "output_type": "stream",
     "text": [
      "For m_2 with s2=2\n"
     ]
    },
    {
     "data": {
      "text/html": [
       "<html>\\(\\displaystyle 2 \\, \\left(-1\\right)^{n} {\\mathcal{C}}\\)</html>"
      ],
      "text/latex": [
       "$\\displaystyle 2 \\, \\left(-1\\right)^{n} {\\mathcal{C}}$"
      ],
      "text/plain": [
       "2*(-1)^n*C"
      ]
     },
     "metadata": {},
     "output_type": "display_data"
    },
    {
     "name": "stdout",
     "output_type": "stream",
     "text": [
      "Kreiss Lopatinskii determinant for Extrapolation sigma = 2  with s2=2 at z=-1 (Taylor)\n"
     ]
    },
    {
     "data": {
      "text/html": [
       "<html>\\(\\displaystyle -\\frac{{\\left(2 \\, {\\mathcal{C}} + 1\\right)} {\\left({z} + 1\\right)}^{2}}{{\\mathcal{C}}} + 2 \\, {z} + 2\\)</html>"
      ],
      "text/latex": [
       "$\\displaystyle -\\frac{{\\left(2 \\, {\\mathcal{C}} + 1\\right)} {\\left({z} + 1\\right)}^{2}}{{\\mathcal{C}}} + 2 \\, {z} + 2$"
      ],
      "text/plain": [
       "-(2*C + 1)*(z + 1)^2/C + 2*z + 2"
      ]
     },
     "metadata": {},
     "output_type": "display_data"
    },
    {
     "name": "stdout",
     "output_type": "stream",
     "text": [
      "Inverse of the boundary matrix on the stable subspace for Extrapolation sigma = 2  with s2=2 at z=-1 (Taylor)\n",
      "i = 0\n",
      "j = 0\n"
     ]
    },
    {
     "data": {
      "text/html": [
       "<html>\\(\\displaystyle -\\frac{2 \\, {\\mathcal{C}} + 1}{4 \\, {\\mathcal{C}}} - \\frac{2 \\, {\\mathcal{C}} + 1}{2 \\, {\\left({z} + 1\\right)}}\\)</html>"
      ],
      "text/latex": [
       "$\\displaystyle -\\frac{2 \\, {\\mathcal{C}} + 1}{4 \\, {\\mathcal{C}}} - \\frac{2 \\, {\\mathcal{C}} + 1}{2 \\, {\\left({z} + 1\\right)}}$"
      ],
      "text/plain": [
       "-1/4*(2*C + 1)/C - 1/2*(2*C + 1)/(z + 1)"
      ]
     },
     "metadata": {},
     "output_type": "display_data"
    },
    {
     "name": "stdout",
     "output_type": "stream",
     "text": [
      "j = 1\n"
     ]
    },
    {
     "data": {
      "text/html": [
       "<html>\\(\\displaystyle \\frac{1}{4 \\, {\\mathcal{C}}} + \\frac{1}{2 \\, {\\left({z} + 1\\right)}}\\)</html>"
      ],
      "text/latex": [
       "$\\displaystyle \\frac{1}{4 \\, {\\mathcal{C}}} + \\frac{1}{2 \\, {\\left({z} + 1\\right)}}$"
      ],
      "text/plain": [
       "1/4/C + 1/2/(z + 1)"
      ]
     },
     "metadata": {},
     "output_type": "display_data"
    },
    {
     "name": "stdout",
     "output_type": "stream",
     "text": [
      "i = 1\n",
      "j = 0\n"
     ]
    },
    {
     "data": {
      "text/html": [
       "<html>\\(\\displaystyle \\frac{1}{2 \\, {\\mathcal{C}}}\\)</html>"
      ],
      "text/latex": [
       "$\\displaystyle \\frac{1}{2 \\, {\\mathcal{C}}}$"
      ],
      "text/plain": [
       "1/2/C"
      ]
     },
     "metadata": {},
     "output_type": "display_data"
    },
    {
     "name": "stdout",
     "output_type": "stream",
     "text": [
      "j = 1\n"
     ]
    },
    {
     "data": {
      "text/html": [
       "<html>\\(\\displaystyle -\\frac{1}{2 \\, {\\mathcal{C}}}\\)</html>"
      ],
      "text/latex": [
       "$\\displaystyle -\\frac{1}{2 \\, {\\mathcal{C}}}$"
      ],
      "text/plain": [
       "-1/2/C"
      ]
     },
     "metadata": {},
     "output_type": "display_data"
    },
    {
     "name": "stdout",
     "output_type": "stream",
     "text": [
      "Computation of the long-time solution with residues\n",
      "For m_1 with s2=2\n"
     ]
    },
    {
     "data": {
      "text/html": [
       "<html>\\(\\displaystyle \\left(-1\\right)^{n} {\\mathcal{C}}\\)</html>"
      ],
      "text/latex": [
       "$\\displaystyle \\left(-1\\right)^{n} {\\mathcal{C}}$"
      ],
      "text/plain": [
       "(-1)^n*C"
      ]
     },
     "metadata": {},
     "output_type": "display_data"
    },
    {
     "name": "stdout",
     "output_type": "stream",
     "text": [
      "For m_2 with s2=2\n"
     ]
    },
    {
     "data": {
      "text/html": [
       "<html>\\(\\displaystyle -{\\left(2 \\, {\\mathcal{C}} n - 2 \\, {\\mathcal{C}} + 2 \\, j - 1\\right)} \\left(-1\\right)^{n} {\\mathcal{C}}\\)</html>"
      ],
      "text/latex": [
       "$\\displaystyle -{\\left(2 \\, {\\mathcal{C}} n - 2 \\, {\\mathcal{C}} + 2 \\, j - 1\\right)} \\left(-1\\right)^{n} {\\mathcal{C}}$"
      ],
      "text/plain": [
       "-(2*C*n - 2*C + 2*j - 1)*(-1)^n*C"
      ]
     },
     "metadata": {},
     "output_type": "display_data"
    },
    {
     "name": "stdout",
     "output_type": "stream",
     "text": [
      "Kreiss Lopatinskii determinant for Extrapolation sigma = 3  with s2=2 at z=-1 (Taylor)\n"
     ]
    },
    {
     "data": {
      "text/html": [
       "<html>\\(\\displaystyle \\frac{2 \\, {\\left({z} + 1\\right)}^{2}}{{\\mathcal{C}}}\\)</html>"
      ],
      "text/latex": [
       "$\\displaystyle \\frac{2 \\, {\\left({z} + 1\\right)}^{2}}{{\\mathcal{C}}}$"
      ],
      "text/plain": [
       "2*(z + 1)^2/C"
      ]
     },
     "metadata": {},
     "output_type": "display_data"
    },
    {
     "name": "stdout",
     "output_type": "stream",
     "text": [
      "Inverse of the boundary matrix on the stable subspace for Extrapolation sigma = 3  with s2=2 at z=-1 (Taylor)\n",
      "i = 0\n",
      "j = 0\n"
     ]
    },
    {
     "data": {
      "text/html": [
       "<html>\\(\\displaystyle \\frac{4 \\, {\\mathcal{C}}^{3} - 7 \\, {\\mathcal{C}} - 3}{8 \\, {\\mathcal{C}}} + \\frac{2 \\, {\\mathcal{C}}^{2} - 3 \\, {\\mathcal{C}} - 2}{4 \\, {\\left({z} + 1\\right)}} - \\frac{2 \\, {\\mathcal{C}}^{2} + {\\mathcal{C}}}{2 \\, {\\left({z} + 1\\right)}^{2}}\\)</html>"
      ],
      "text/latex": [
       "$\\displaystyle \\frac{4 \\, {\\mathcal{C}}^{3} - 7 \\, {\\mathcal{C}} - 3}{8 \\, {\\mathcal{C}}} + \\frac{2 \\, {\\mathcal{C}}^{2} - 3 \\, {\\mathcal{C}} - 2}{4 \\, {\\left({z} + 1\\right)}} - \\frac{2 \\, {\\mathcal{C}}^{2} + {\\mathcal{C}}}{2 \\, {\\left({z} + 1\\right)}^{2}}$"
      ],
      "text/plain": [
       "1/8*(4*C^3 - 7*C - 3)/C + 1/4*(2*C^2 - 3*C - 2)/(z + 1) - 1/2*(2*C^2 + C)/(z + 1)^2"
      ]
     },
     "metadata": {},
     "output_type": "display_data"
    },
    {
     "name": "stdout",
     "output_type": "stream",
     "text": [
      "j = 1\n"
     ]
    },
    {
     "data": {
      "text/html": [
       "<html>\\(\\displaystyle -\\frac{2 \\, {\\mathcal{C}}^{2} - {\\mathcal{C}} - 3}{8 \\, {\\mathcal{C}}} - \\frac{{\\mathcal{C}} - 2}{4 \\, {\\left({z} + 1\\right)}} + \\frac{{\\mathcal{C}}}{2 \\, {\\left({z} + 1\\right)}^{2}}\\)</html>"
      ],
      "text/latex": [
       "$\\displaystyle -\\frac{2 \\, {\\mathcal{C}}^{2} - {\\mathcal{C}} - 3}{8 \\, {\\mathcal{C}}} - \\frac{{\\mathcal{C}} - 2}{4 \\, {\\left({z} + 1\\right)}} + \\frac{{\\mathcal{C}}}{2 \\, {\\left({z} + 1\\right)}^{2}}$"
      ],
      "text/plain": [
       "-1/8*(2*C^2 - C - 3)/C - 1/4*(C - 2)/(z + 1) + 1/2*C/(z + 1)^2"
      ]
     },
     "metadata": {},
     "output_type": "display_data"
    },
    {
     "name": "stdout",
     "output_type": "stream",
     "text": [
      "i = 1\n",
      "j = 0\n"
     ]
    },
    {
     "data": {
      "text/html": [
       "<html>\\(\\displaystyle \\frac{1}{2 \\, {\\mathcal{C}}}\\)</html>"
      ],
      "text/latex": [
       "$\\displaystyle \\frac{1}{2 \\, {\\mathcal{C}}}$"
      ],
      "text/plain": [
       "1/2/C"
      ]
     },
     "metadata": {},
     "output_type": "display_data"
    },
    {
     "name": "stdout",
     "output_type": "stream",
     "text": [
      "j = 1\n"
     ]
    },
    {
     "data": {
      "text/html": [
       "<html>\\(\\displaystyle -\\frac{1}{2 \\, {\\mathcal{C}}}\\)</html>"
      ],
      "text/latex": [
       "$\\displaystyle -\\frac{1}{2 \\, {\\mathcal{C}}}$"
      ],
      "text/plain": [
       "-1/2/C"
      ]
     },
     "metadata": {},
     "output_type": "display_data"
    },
    {
     "name": "stdout",
     "output_type": "stream",
     "text": [
      "Computation of the long-time solution with residues\n",
      "For m_1 with s2=2\n"
     ]
    },
    {
     "data": {
      "text/html": [
       "<html>\\(\\displaystyle -\\frac{1}{2} \\, {\\left(2 \\, {\\mathcal{C}}^{2} n - {\\mathcal{C}}^{2} + 2 \\, {\\mathcal{C}} j - 2 \\, {\\mathcal{C}}\\right)} \\left(-1\\right)^{n}\\)</html>"
      ],
      "text/latex": [
       "$\\displaystyle -\\frac{1}{2} \\, {\\left(2 \\, {\\mathcal{C}}^{2} n - {\\mathcal{C}}^{2} + 2 \\, {\\mathcal{C}} j - 2 \\, {\\mathcal{C}}\\right)} \\left(-1\\right)^{n}$"
      ],
      "text/plain": [
       "-1/2*(2*C^2*n - C^2 + 2*C*j - 2*C)*(-1)^n"
      ]
     },
     "metadata": {},
     "output_type": "display_data"
    },
    {
     "name": "stdout",
     "output_type": "stream",
     "text": [
      "For m_2 with s2=2\n"
     ]
    },
    {
     "data": {
      "text/html": [
       "<html>\\(\\displaystyle \\frac{1}{2} \\, {\\left(2 \\, {\\mathcal{C}}^{2} n^{2} - 4 \\, {\\mathcal{C}}^{2} n + 4 \\, {\\mathcal{C}} j n - 4 \\, {\\mathcal{C}} j + 2 \\, j^{2} - 4 \\, {\\mathcal{C}} n + 5 \\, {\\mathcal{C}} - 4 \\, j + 4\\right)} \\left(-1\\right)^{n} {\\mathcal{C}}\\)</html>"
      ],
      "text/latex": [
       "$\\displaystyle \\frac{1}{2} \\, {\\left(2 \\, {\\mathcal{C}}^{2} n^{2} - 4 \\, {\\mathcal{C}}^{2} n + 4 \\, {\\mathcal{C}} j n - 4 \\, {\\mathcal{C}} j + 2 \\, j^{2} - 4 \\, {\\mathcal{C}} n + 5 \\, {\\mathcal{C}} - 4 \\, j + 4\\right)} \\left(-1\\right)^{n} {\\mathcal{C}}$"
      ],
      "text/plain": [
       "1/2*(2*C^2*n^2 - 4*C^2*n + 4*C*j*n - 4*C*j + 2*j^2 - 4*C*n + 5*C - 4*j + 4)*(-1)^n*C"
      ]
     },
     "metadata": {},
     "output_type": "display_data"
    },
    {
     "name": "stdout",
     "output_type": "stream",
     "text": [
      "Kreiss Lopatinskii determinant for Extrapolation sigma = 4  with s2=2 at z=-1 (Taylor)\n"
     ]
    },
    {
     "data": {
      "text/html": [
       "<html>\\(\\displaystyle 0\\)</html>"
      ],
      "text/latex": [
       "$\\displaystyle 0$"
      ],
      "text/plain": [
       "0"
      ]
     },
     "metadata": {},
     "output_type": "display_data"
    },
    {
     "name": "stdout",
     "output_type": "stream",
     "text": [
      "Inverse of the boundary matrix on the stable subspace for Extrapolation sigma = 4  with s2=2 at z=-1 (Taylor)\n",
      "i = 0\n",
      "j = 0\n"
     ]
    },
    {
     "data": {
      "text/html": [
       "<html>\\(\\displaystyle \\frac{12 \\, {\\mathcal{C}}^{3} - 17 \\, {\\mathcal{C}} - 7}{16 \\, {\\mathcal{C}}} + \\frac{2 \\, {\\mathcal{C}}^{3} + 3 \\, {\\mathcal{C}}^{2} - 5 \\, {\\mathcal{C}} - 3}{4 \\, {\\left({z} + 1\\right)}} + \\frac{4 \\, {\\mathcal{C}}^{3} - 4 \\, {\\mathcal{C}}^{2} - 3 \\, {\\mathcal{C}}}{4 \\, {\\left({z} + 1\\right)}^{2}} - \\frac{2 \\, {\\mathcal{C}}^{3} + {\\mathcal{C}}^{2}}{2 \\, {\\left({z} + 1\\right)}^{3}}\\)</html>"
      ],
      "text/latex": [
       "$\\displaystyle \\frac{12 \\, {\\mathcal{C}}^{3} - 17 \\, {\\mathcal{C}} - 7}{16 \\, {\\mathcal{C}}} + \\frac{2 \\, {\\mathcal{C}}^{3} + 3 \\, {\\mathcal{C}}^{2} - 5 \\, {\\mathcal{C}} - 3}{4 \\, {\\left({z} + 1\\right)}} + \\frac{4 \\, {\\mathcal{C}}^{3} - 4 \\, {\\mathcal{C}}^{2} - 3 \\, {\\mathcal{C}}}{4 \\, {\\left({z} + 1\\right)}^{2}} - \\frac{2 \\, {\\mathcal{C}}^{3} + {\\mathcal{C}}^{2}}{2 \\, {\\left({z} + 1\\right)}^{3}}$"
      ],
      "text/plain": [
       "1/16*(12*C^3 - 17*C - 7)/C + 1/4*(2*C^3 + 3*C^2 - 5*C - 3)/(z + 1) + 1/4*(4*C^3 - 4*C^2 - 3*C)/(z + 1)^2 - 1/2*(2*C^3 + C^2)/(z + 1)^3"
      ]
     },
     "metadata": {},
     "output_type": "display_data"
    },
    {
     "name": "stdout",
     "output_type": "stream",
     "text": [
      "j = 1\n"
     ]
    },
    {
     "data": {
      "text/html": [
       "<html>\\(\\displaystyle -\\frac{6 \\, {\\mathcal{C}}^{2} - 3 \\, {\\mathcal{C}} - 7}{16 \\, {\\mathcal{C}}} - \\frac{{\\mathcal{C}}^{2} + {\\mathcal{C}} - 3}{4 \\, {\\left({z} + 1\\right)}} + \\frac{{\\mathcal{C}}^{2}}{2 \\, {\\left({z} + 1\\right)}^{3}} - \\frac{2 \\, {\\mathcal{C}}^{2} - 3 \\, {\\mathcal{C}}}{4 \\, {\\left({z} + 1\\right)}^{2}}\\)</html>"
      ],
      "text/latex": [
       "$\\displaystyle -\\frac{6 \\, {\\mathcal{C}}^{2} - 3 \\, {\\mathcal{C}} - 7}{16 \\, {\\mathcal{C}}} - \\frac{{\\mathcal{C}}^{2} + {\\mathcal{C}} - 3}{4 \\, {\\left({z} + 1\\right)}} + \\frac{{\\mathcal{C}}^{2}}{2 \\, {\\left({z} + 1\\right)}^{3}} - \\frac{2 \\, {\\mathcal{C}}^{2} - 3 \\, {\\mathcal{C}}}{4 \\, {\\left({z} + 1\\right)}^{2}}$"
      ],
      "text/plain": [
       "-1/16*(6*C^2 - 3*C - 7)/C - 1/4*(C^2 + C - 3)/(z + 1) + 1/2*C^2/(z + 1)^3 - 1/4*(2*C^2 - 3*C)/(z + 1)^2"
      ]
     },
     "metadata": {},
     "output_type": "display_data"
    },
    {
     "name": "stdout",
     "output_type": "stream",
     "text": [
      "i = 1\n",
      "j = 0\n"
     ]
    },
    {
     "data": {
      "text/html": [
       "<html>\\(\\displaystyle \\frac{1}{2 \\, {\\mathcal{C}}}\\)</html>"
      ],
      "text/latex": [
       "$\\displaystyle \\frac{1}{2 \\, {\\mathcal{C}}}$"
      ],
      "text/plain": [
       "1/2/C"
      ]
     },
     "metadata": {},
     "output_type": "display_data"
    },
    {
     "name": "stdout",
     "output_type": "stream",
     "text": [
      "j = 1\n"
     ]
    },
    {
     "data": {
      "text/html": [
       "<html>\\(\\displaystyle -\\frac{1}{2 \\, {\\mathcal{C}}}\\)</html>"
      ],
      "text/latex": [
       "$\\displaystyle -\\frac{1}{2 \\, {\\mathcal{C}}}$"
      ],
      "text/plain": [
       "-1/2/C"
      ]
     },
     "metadata": {},
     "output_type": "display_data"
    },
    {
     "name": "stdout",
     "output_type": "stream",
     "text": [
      "Computation of the long-time solution with residues\n",
      "For m_1 with s2=2\n"
     ]
    },
    {
     "data": {
      "text/html": [
       "<html>\\(\\displaystyle \\frac{1}{2} \\, {\\left({\\mathcal{C}}^{3} n^{2} - {\\mathcal{C}}^{3} + {\\mathcal{C}} j^{2} + 2 \\, {\\mathcal{C}}^{2} - {\\left({\\mathcal{C}}^{2} + 3 \\, {\\mathcal{C}}\\right)} j - {\\left({\\mathcal{C}}^{3} - 2 \\, {\\mathcal{C}}^{2} j + 3 \\, {\\mathcal{C}}^{2}\\right)} n + 3 \\, {\\mathcal{C}}\\right)} \\left(-1\\right)^{n}\\)</html>"
      ],
      "text/latex": [
       "$\\displaystyle \\frac{1}{2} \\, {\\left({\\mathcal{C}}^{3} n^{2} - {\\mathcal{C}}^{3} + {\\mathcal{C}} j^{2} + 2 \\, {\\mathcal{C}}^{2} - {\\left({\\mathcal{C}}^{2} + 3 \\, {\\mathcal{C}}\\right)} j - {\\left({\\mathcal{C}}^{3} - 2 \\, {\\mathcal{C}}^{2} j + 3 \\, {\\mathcal{C}}^{2}\\right)} n + 3 \\, {\\mathcal{C}}\\right)} \\left(-1\\right)^{n}$"
      ],
      "text/plain": [
       "1/2*(C^3*n^2 - C^3 + C*j^2 + 2*C^2 - (C^2 + 3*C)*j - (C^3 - 2*C^2*j + 3*C^2)*n + 3*C)*(-1)^n"
      ]
     },
     "metadata": {},
     "output_type": "display_data"
    },
    {
     "name": "stdout",
     "output_type": "stream",
     "text": [
      "For m_2 with s2=2\n"
     ]
    },
    {
     "data": {
      "text/html": [
       "<html>\\(\\displaystyle -\\frac{1}{6} \\, {\\left(2 \\, {\\mathcal{C}}^{3} n^{3} - 6 \\, {\\mathcal{C}}^{3} n^{2} + 6 \\, {\\mathcal{C}}^{2} j n^{2} - 2 \\, {\\mathcal{C}}^{3} n - 12 \\, {\\mathcal{C}}^{2} j n + 6 \\, {\\mathcal{C}} j^{2} n - 9 \\, {\\mathcal{C}}^{2} n^{2} + 6 \\, {\\mathcal{C}}^{3} - 6 \\, {\\mathcal{C}} j^{2} + 2 \\, j^{3} + 21 \\, {\\mathcal{C}}^{2} n - 18 \\, {\\mathcal{C}} j n - 3 \\, {\\mathcal{C}}^{2} + 21 \\, {\\mathcal{C}} j - 9 \\, j^{2} + 21 \\, {\\mathcal{C}} n - 24 \\, {\\mathcal{C}} + 19 \\, j - 15\\right)} \\left(-1\\right)^{n} {\\mathcal{C}}\\)</html>"
      ],
      "text/latex": [
       "$\\displaystyle -\\frac{1}{6} \\, {\\left(2 \\, {\\mathcal{C}}^{3} n^{3} - 6 \\, {\\mathcal{C}}^{3} n^{2} + 6 \\, {\\mathcal{C}}^{2} j n^{2} - 2 \\, {\\mathcal{C}}^{3} n - 12 \\, {\\mathcal{C}}^{2} j n + 6 \\, {\\mathcal{C}} j^{2} n - 9 \\, {\\mathcal{C}}^{2} n^{2} + 6 \\, {\\mathcal{C}}^{3} - 6 \\, {\\mathcal{C}} j^{2} + 2 \\, j^{3} + 21 \\, {\\mathcal{C}}^{2} n - 18 \\, {\\mathcal{C}} j n - 3 \\, {\\mathcal{C}}^{2} + 21 \\, {\\mathcal{C}} j - 9 \\, j^{2} + 21 \\, {\\mathcal{C}} n - 24 \\, {\\mathcal{C}} + 19 \\, j - 15\\right)} \\left(-1\\right)^{n} {\\mathcal{C}}$"
      ],
      "text/plain": [
       "-1/6*(2*C^3*n^3 - 6*C^3*n^2 + 6*C^2*j*n^2 - 2*C^3*n - 12*C^2*j*n + 6*C*j^2*n - 9*C^2*n^2 + 6*C^3 - 6*C*j^2 + 2*j^3 + 21*C^2*n - 18*C*j*n - 3*C^2 + 21*C*j - 9*j^2 + 21*C*n - 24*C + 19*j - 15)*(-1)^n*C"
      ]
     },
     "metadata": {},
     "output_type": "display_data"
    }
   ],
   "source": [
    "#### Critical points (-1, -Pi) and (1, Pi) --- For C<0\n",
    "assume(C<0)\n",
    "print(\"Value of kminus at z=-1\")\n",
    "pretty_print(kminus.subs(z==-1).full_simplify())\n",
    "print(\"Value of kplus at z=-1\")\n",
    "pretty_print(kplus.subs(z==-1).full_simplify())\n",
    "print(\"Value of kminus at z=1\")\n",
    "pretty_print(kminus.subs(z==1).full_simplify())\n",
    "print(\"Value of kplus at z=1\")\n",
    "pretty_print(kplus.subs(z==1).full_simplify())\n",
    "\n",
    "print(\"Value of Pi\")\n",
    "pretty_print(Pi)\n",
    "\n",
    "ks = kplus.full_simplify()\n",
    "\n",
    "LzOnStable = Lz.subs(k==ks) ### This is the matrix polynomial where k is replaced by ks (stable root)\n",
    "for i in range(q):\n",
    "    for j in range(q):\n",
    "        LzOnStable[i, j] = LzOnStable[i, j].full_simplify()\n",
    "        \n",
    "#pretty_print(LzOnStable.transpose().kernel()) #### This is the stable eigenvalue phi_s\n",
    "phiS = matrix([[LzOnStable.transpose().kernel().basis()[0][0]], \\\n",
    "               [LzOnStable.transpose().kernel().basis()[0][1].full_simplify()]])\n",
    "\n",
    "#### Structure of the eigenvector close to the critical points\n",
    "print('Expansion of the second component of phiS around z = -1 as s2 != 2')\n",
    "pretty_print(taylor(phiS[1][0], z, -1, 1))\n",
    "print('Expansion of the second component of phiS around z = -1 as s2 = 2')\n",
    "pretty_print(taylor(phiS[1][0].subs(s2=2), z, -1, 1))\n",
    "print('Expansion of the second component of phiS around z = 1 as s2 != 2')\n",
    "pretty_print(taylor(phiS[1][0], z, 1, 1))\n",
    "print('Expansion of the second component of phiS around z = 1 as s2 = 2')\n",
    "pretty_print(taylor(phiS[1][0].subs(s2=2), z, 1, 1))\n",
    "\n",
    "#### We construct the eigenvector of k = 0\n",
    "phi0 = matrix([[ (s2-1)*Lz.subs(k==0).transpose().kernel().basis()[0][0]], \\\n",
    "               [((s2-1)*Lz.subs(k==0).transpose().kernel().basis()[0][1]).full_simplify()]])\n",
    "\n",
    "#### We start analyzing critical points and Kreiss Lopatinskii determinants\n",
    "#### (-1, -Pi)\n",
    "\n",
    "\n",
    "bd00  = matrix(SR, q, q)\n",
    "bd01 = matrix(SR, q, q)\n",
    "bd02 = matrix(SR, q, q)\n",
    "bd03 = matrix(SR, q, q)\n",
    "Bs = matrix(SR, q, q) #### Boundary matrix on the stable subspace\n",
    "\n",
    "#### Bounce back for s_2 = 2\n",
    "for i in range(q):\n",
    "    for j in range(q):\n",
    "        bd00[i, j] = bdMat_BB[i, j].subs(s2==2).full_simplify().collect(k).coefficient(k, 0)\n",
    "        bd01[i, j] = bdMat_BB[i, j].subs(s2==2).full_simplify().collect(k).coefficient(k, 1)\n",
    "        \n",
    "Bs[:, 0] = (bd00 + bd01*ks.subs(s2==2))*phiS.subs(s2==2) ### First column\n",
    "Bs[:, 1] = (bd00)*phi0.subs(s2==2) ### Second column\n",
    "\n",
    "for i in range(q):\n",
    "    for j in range(q):\n",
    "        Bs[i, j] = Bs[i, j].full_simplify()\n",
    "KLDet = Bs.determinant().full_simplify()\n",
    "\n",
    "print(\"Kreiss Lopatinskii determinant for BB with s2=2 at z=-1 (Taylor expansion)\")\n",
    "pretty_print(taylor(KLDet, z, -1, -1))\n",
    "\n",
    "\n",
    "#### Anti-bounce back for s_2 in (0, 2)\n",
    "for i in range(q):\n",
    "    for j in range(q):\n",
    "        bd00[i, j] = bdMat_ABB[i, j].full_simplify().collect(k).coefficient(k, 0)\n",
    "        bd01[i, j] = bdMat_ABB[i, j].full_simplify().collect(k).coefficient(k, 1)\n",
    "        \n",
    "Bs[:, 0] = (bd00 + bd01*ks)*phiS ### First column\n",
    "Bs[:, 1] = (bd00)*phi0 ### Second column\n",
    "\n",
    "for i in range(q):\n",
    "    for j in range(q):\n",
    "        Bs[i, j] = Bs[i, j].full_simplify()\n",
    "KLDet = Bs.determinant().full_simplify()\n",
    "\n",
    "print(\"Kreiss Lopatinskii determinant for ABB with s2 in (0, 2) at z=-1\")\n",
    "pretty_print(KLDet.subs(z==-1).full_simplify())\n",
    "print(\"Boundary matrix on the stable subspace for ABB with s2 in (0, 2) at z=-1 (Taylor expansion)\")\n",
    "KLAdjugate = Bs.adjugate()\n",
    "for i in range(q):\n",
    "    print('i = '+str(i))\n",
    "    for j in range(q):\n",
    "        print('j = '+str(j))\n",
    "        pretty_print(taylor(KLAdjugate[i, j]/KLDet, z, -1, -1))\n",
    "        \n",
    "print(\"Computation of the long-time solution with residues\")\n",
    "g0Tilde = matrix([[1], [1]])\n",
    "var('n') ### Time index\n",
    "var('j') ### Space index\n",
    "print('For m_1 with s2 in (0, 2)')\n",
    "pretty_print(((KLAdjugate/KLDet*g0Tilde)[0][0]*phiS[0][0]*z**(n-1)*ks**(j)).maxima_methods().residue(z,-1).full_simplify())       \n",
    "print('For m_2 with s2 in (0, 2)')\n",
    "pretty_print(((KLAdjugate/KLDet*g0Tilde)[0][0]*phiS[1][0]*z**(n-1)*ks**(j)).maxima_methods().residue(z,-1).full_simplify())\n",
    "print('For m_1 with s2=2')\n",
    "pretty_print(((KLAdjugate/KLDet*g0Tilde)[0][0]*phiS[0][0]*z**(n-1)*ks**(j)).subs(s2==2).maxima_methods().residue(z,-1).full_simplify())       \n",
    "print('For m_2 with s2=2')\n",
    "pretty_print(((KLAdjugate/KLDet*g0Tilde)[0][0]*phiS[1][0]*z**(n-1)*ks**(j)).subs(s2==2).maxima_methods().residue(z,-1).full_simplify())\n",
    "      \n",
    "    \n",
    "#print('For m_1 with s2 in (0, 2)')\n",
    "#print(latex(((KLAdjugate/KLDet*g0Tilde)[0][0]*phiS[0][0]*z**(n-1)*ks**(j)).maxima_methods().residue(z,-1).full_simplify()))       \n",
    "#print('For m_2 with s2 in (0, 2)')\n",
    "#print(latex(((KLAdjugate/KLDet*g0Tilde)[0][0]*phiS[1][0]*z**(n-1)*ks**(j)).maxima_methods().residue(z,-1).full_simplify()))\n",
    "#print('For m_1 with s2=2')\n",
    "#print(latex(((KLAdjugate/KLDet*g0Tilde)[0][0]*phiS[0][0]*z**(n-1)*ks**(j)).subs(s2==2).maxima_methods().residue(z,-1).full_simplify()))       \n",
    "#print('For m_2 with s2=2')\n",
    "#print(latex(((KLAdjugate/KLDet*g0Tilde)[0][0]*phiS[1][0]*z**(n-1)*ks**(j)).subs(s2==2).maxima_methods().residue(z,-1).full_simplify()))\n",
    "       \n",
    "#### Anti-bounce back for s_2=2/(1-C)\n",
    "phi0Tilde = matrix([[1], [1-2*z]])\n",
    "for i in range(q):\n",
    "    for j in range(q):\n",
    "        bd00[i, j] = bdMat_ABB[i, j].subs(s2==2/(1-C)).full_simplify().collect(k).coefficient(k, 0)\n",
    "        bd01[i, j] = bdMat_ABB[i, j].subs(s2==2/(1-C)).full_simplify().collect(k).coefficient(k, 1)\n",
    "        \n",
    "Bs[:, 0] = (bd00)*phi0Tilde + bd01*phi0.subs(s2==2/(1-C)) ### First column\n",
    "Bs[:, 1] = (bd00)*phi0.subs(s2==2/(1-C)) ### Second column\n",
    "\n",
    "for i in range(q):\n",
    "    for j in range(q):\n",
    "        Bs[i, j] = Bs[i, j].full_simplify()\n",
    "KLDet = Bs.determinant().full_simplify()\n",
    "\n",
    "print(\"Kreiss Lopatinskii determinant for ABB with s2=2/(1-C) in (0, 2) at z=-1\")\n",
    "pretty_print(KLDet.subs(z==-1).full_simplify())\n",
    "print(\"Boundary matrix on the stable subspace for ABB with s2=2/(1-C) at z=-1 (Taylor expansion)\")\n",
    "KLAdjugate = Bs.adjugate()\n",
    "for i in range(q):\n",
    "    print('i = '+str(i))\n",
    "    for j in range(q):\n",
    "        print('j = '+str(j))\n",
    "        pretty_print(taylor(KLAdjugate[i, j]/KLDet, z, -1, -1))\n",
    "\n",
    "        \n",
    "#### Two steps anti Bounce back for s_2 = 2\n",
    "for i in range(q):\n",
    "    for j in range(q):\n",
    "        bd00[i, j] = bdMat_TwoABB[i, j].subs(s2==2).full_simplify().collect(k).coefficient(k, 0)\n",
    "        bd01[i, j] = bdMat_TwoABB[i, j].subs(s2==2).full_simplify().collect(k).coefficient(k, 1)\n",
    "        \n",
    "Bs[:, 0] = (bd00 + bd01*ks.subs(s2==2))*phiS.subs(s2==2) ### First column\n",
    "Bs[:, 1] = (bd00)*phi0.subs(s2==2) ### Second column\n",
    "\n",
    "for i in range(q):\n",
    "    for j in range(q):\n",
    "        Bs[i, j] = Bs[i, j].full_simplify()\n",
    "KLDet = Bs.determinant().full_simplify()\n",
    "\n",
    "print(\"Kreiss Lopatinskii determinant for Two steps ABB with s2=2 at z=-1\")\n",
    "pretty_print(KLDet.subs(z==-1))\n",
    "print(\"Boundary matrix on the stable subspace for Two steps ABB with s2=2 at z=-1\")\n",
    "pretty_print(Bs.subs(z==-1))\n",
    "\n",
    "\n",
    "#### Extrapolation sigma = 1 for s_2 = 2\n",
    "for i in range(q):\n",
    "    for j in range(q):\n",
    "        bd00[i, j] = bdMat_sigma1[i, j].subs(s2==2).full_simplify().collect(k).coefficient(k, 0)\n",
    "        bd01[i, j] = bdMat_sigma1[i, j].subs(s2==2).full_simplify().collect(k).coefficient(k, 1)\n",
    "        \n",
    "Bs[:, 0] = (bd00 + bd01*ks.subs(s2==2))*phiS.subs(s2==2) ### First column\n",
    "Bs[:, 1] = (bd00)*phi0.subs(s2==2) ### Second column\n",
    "\n",
    "for i in range(q):\n",
    "    for j in range(q):\n",
    "        Bs[i, j] = Bs[i, j].full_simplify()\n",
    "KLDet = Bs.determinant().full_simplify()\n",
    "\n",
    "print(\"Kreiss Lopatinskii determinant for Extrapolation sigma = 1  with s2=2 at z=-1\")\n",
    "pretty_print(KLDet.subs(z==-1))\n",
    "print(\"Boundary matrix on the stable subspace for Extrapolation sigma = 1  with s2=2 at z=-1\")\n",
    "pretty_print(Bs.subs(z==-1).simplify_full())\n",
    "\n",
    "print(\"Computation of the long-time solution with residues\")\n",
    "g0Tilde = matrix([[1], [1]])\n",
    "var('n') ### Time index\n",
    "var('j') ### Space index\n",
    "print('For m_1 with s2=2')\n",
    "pretty_print(((Bs.inverse()*g0Tilde)[0][0]*phiS[0][0]*z**(n-1)*ks**(j)).subs(s2==2).maxima_methods().residue(z,-1).full_simplify())       \n",
    "print('For m_2 with s2=2')\n",
    "pretty_print(((Bs.inverse()*g0Tilde)[0][0]*phiS[1][0]*z**(n-1)*ks**(j)).subs(s2==2).maxima_methods().residue(z,-1).full_simplify())\n",
    "      \n",
    "    \n",
    "#### Extrapolation sigma = 2 for s_2 = 2\n",
    "for i in range(q):\n",
    "    for j in range(q):\n",
    "        bd00[i, j] = bdMat_sigma2[i, j].subs(s2==2).full_simplify().collect(k).coefficient(k, 0)\n",
    "        bd01[i, j] = bdMat_sigma2[i, j].subs(s2==2).full_simplify().collect(k).coefficient(k, 1)\n",
    "        bd02[i, j] = bdMat_sigma2[i, j].subs(s2==2).full_simplify().collect(k).coefficient(k, 2)\n",
    "        \n",
    "Bs[:, 0] = (bd00 + bd01*ks.subs(s2==2) + bd02*(ks**2).subs(s2==2))*phiS.subs(s2==2) ### First column\n",
    "Bs[:, 1] = (bd00)*phi0.subs(s2==2) ### Second column\n",
    "\n",
    "for i in range(q):\n",
    "    for j in range(q):\n",
    "        Bs[i, j] = Bs[i, j].full_simplify()\n",
    "KLDet = Bs.determinant().full_simplify()\n",
    "\n",
    "print(\"Kreiss Lopatinskii determinant for Extrapolation sigma = 2  with s2=2 at z=-1 (Taylor)\")\n",
    "pretty_print(taylor(KLDet, z, -1, 2))\n",
    "\n",
    "BsInv = Bs.inverse()\n",
    "print(\"Inverse of the boundary matrix on the stable subspace for Extrapolation sigma = 2  with s2=2 at z=-1 (Taylor)\")\n",
    "\n",
    "for i in range(q):\n",
    "    print('i = '+str(i))\n",
    "    for j in range(q):\n",
    "        print('j = '+str(j))\n",
    "        pretty_print(taylor(BsInv[i, j], z, -1, 0))\n",
    "        \n",
    "print(\"Computation of the long-time solution with residues\")\n",
    "g0Tilde = matrix([[1], [1]])\n",
    "var('n') ### Time index\n",
    "var('j') ### Space index\n",
    "print('For m_1 with s2=2')\n",
    "pretty_print(((Bs.inverse()*g0Tilde)[0][0]*phiS[0][0]*z**(n-1)*ks**(j)).subs(s2==2).maxima_methods().residue(z,-1).full_simplify())       \n",
    "print('For m_2 with s2=2')\n",
    "pretty_print(((Bs.inverse()*g0Tilde)[0][0]*phiS[1][0]*z**(n-1)*ks**(j)).subs(s2==2).maxima_methods().residue(z,-1).full_simplify().factor())\n",
    "      \n",
    "    \n",
    "\n",
    "#### Extrapolation sigma = 3 for s_2 = 2\n",
    "for i in range(q):\n",
    "    for j in range(q):\n",
    "        bd00[i, j] = bdMat_sigma3[i, j].subs(s2==2).full_simplify().collect(k).coefficient(k, 0)\n",
    "        bd01[i, j] = bdMat_sigma3[i, j].subs(s2==2).full_simplify().collect(k).coefficient(k, 1)\n",
    "        bd02[i, j] = bdMat_sigma3[i, j].subs(s2==2).full_simplify().collect(k).coefficient(k, 2)\n",
    "        \n",
    "Bs[:, 0] = (bd00 + bd01*ks.subs(s2==2) + bd02*(ks**2).subs(s2==2))*phiS.subs(s2==2) ### First column\n",
    "Bs[:, 1] = (bd00)*phi0.subs(s2==2) ### Second column\n",
    "\n",
    "for i in range(q):\n",
    "    for j in range(q):\n",
    "        Bs[i, j] = Bs[i, j].full_simplify()\n",
    "KLDet = Bs.determinant().full_simplify()\n",
    "\n",
    "print(\"Kreiss Lopatinskii determinant for Extrapolation sigma = 3  with s2=2 at z=-1 (Taylor)\")\n",
    "pretty_print(taylor(KLDet, z, -1, 2))\n",
    "\n",
    "BsInv = Bs.inverse()\n",
    "print(\"Inverse of the boundary matrix on the stable subspace for Extrapolation sigma = 3  with s2=2 at z=-1 (Taylor)\")\n",
    "\n",
    "for i in range(q):\n",
    "    print('i = '+str(i))\n",
    "    for j in range(q):\n",
    "        print('j = '+str(j))\n",
    "        pretty_print(taylor(BsInv[i, j], z, -1, 0))\n",
    "        \n",
    "print(\"Computation of the long-time solution with residues\")\n",
    "g0Tilde = matrix([[1], [1]])\n",
    "var('n') ### Time index\n",
    "var('j') ### Space index\n",
    "print('For m_1 with s2=2')\n",
    "pretty_print(((Bs.inverse()*g0Tilde)[0][0]*phiS[0][0]*z**(n-1)*ks**(j)).subs(s2==2).maxima_methods().residue(z,-1).full_simplify())       \n",
    "print('For m_2 with s2=2')\n",
    "pretty_print(((Bs.inverse()*g0Tilde)[0][0]*phiS[1][0]*z**(n-1)*ks**(j)).subs(s2==2).maxima_methods().residue(z,-1).full_simplify().factor())\n",
    "      \n",
    "    \n",
    "\n",
    "#### Extrapolation sigma = 4 for s_2 = 2\n",
    "for i in range(q):\n",
    "    for j in range(q):\n",
    "        bd00[i, j] = bdMat_sigma4[i, j].subs(s2==2).full_simplify().collect(k).coefficient(k, 0)\n",
    "        bd01[i, j] = bdMat_sigma4[i, j].subs(s2==2).full_simplify().collect(k).coefficient(k, 1)\n",
    "        bd02[i, j] = bdMat_sigma4[i, j].subs(s2==2).full_simplify().collect(k).coefficient(k, 2)\n",
    "        bd03[i, j] = bdMat_sigma4[i, j].subs(s2==2).full_simplify().collect(k).coefficient(k, 3)\n",
    "        \n",
    "Bs[:, 0] = (bd00 + bd01*ks.subs(s2==2) + bd02*(ks**2).subs(s2==2) + bd03*(ks**3).subs(s2==2))*phiS.subs(s2==2) ### First column\n",
    "Bs[:, 1] = (bd00)*phi0.subs(s2==2) ### Second column\n",
    "\n",
    "for i in range(q):\n",
    "    for j in range(q):\n",
    "        Bs[i, j] = Bs[i, j].full_simplify()\n",
    "KLDet = Bs.determinant().full_simplify()\n",
    "\n",
    "print(\"Kreiss Lopatinskii determinant for Extrapolation sigma = 4  with s2=2 at z=-1 (Taylor)\")\n",
    "pretty_print(taylor(KLDet, z, -1, 2))\n",
    "\n",
    "BsInv = Bs.inverse()\n",
    "print(\"Inverse of the boundary matrix on the stable subspace for Extrapolation sigma = 4  with s2=2 at z=-1 (Taylor)\")\n",
    "\n",
    "for i in range(q):\n",
    "    print('i = '+str(i))\n",
    "    for j in range(q):\n",
    "        print('j = '+str(j))\n",
    "        pretty_print(taylor(BsInv[i, j], z, -1, 0))\n",
    "        \n",
    "print(\"Computation of the long-time solution with residues\")\n",
    "g0Tilde = matrix([[1], [1]])\n",
    "var('n') ### Time index\n",
    "var('j') ### Space index\n",
    "print('For m_1 with s2=2')\n",
    "pretty_print(((Bs.inverse()*g0Tilde)[0][0]*phiS[0][0]*z**(n-1)*ks**(j)).subs(s2==2).maxima_methods().residue(z,-1).full_simplify())       \n",
    "print('For m_2 with s2=2')\n",
    "pretty_print(((Bs.inverse()*g0Tilde)[0][0]*phiS[1][0]*z**(n-1)*ks**(j)).subs(s2==2).maxima_methods().residue(z,-1).full_simplify().factor())\n",
    "      "
   ]
  },
  {
   "cell_type": "code",
   "execution_count": 7,
   "id": "6a6964da",
   "metadata": {},
   "outputs": [
    {
     "name": "stdout",
     "output_type": "stream",
     "text": [
      "Kreiss Lopatinskii determinant for BB with s2 in (0, 2) at z=1\n"
     ]
    },
    {
     "data": {
      "text/html": [
       "<html>\\(\\displaystyle 0\\)</html>"
      ],
      "text/latex": [
       "$\\displaystyle 0$"
      ],
      "text/plain": [
       "0"
      ]
     },
     "metadata": {},
     "output_type": "display_data"
    },
    {
     "name": "stdout",
     "output_type": "stream",
     "text": [
      "Boundary matrix on the stable subspace for BB with s2 in (0, 2) at z=1 (Taylor expansion)\n",
      "i = 0\n",
      "j = 0\n"
     ]
    },
    {
     "data": {
      "text/html": [
       "<html>\\(\\displaystyle \\frac{2 \\, {\\mathcal{C}} {s_2}}{{\\left({\\left({\\mathcal{C}} + 1\\right)} {s_2} - 2\\right)} {\\left({z} - 1\\right)}}\\)</html>"
      ],
      "text/latex": [
       "$\\displaystyle \\frac{2 \\, {\\mathcal{C}} {s_2}}{{\\left({\\left({\\mathcal{C}} + 1\\right)} {s_2} - 2\\right)} {\\left({z} - 1\\right)}}$"
      ],
      "text/plain": [
       "2*C*s2/(((C + 1)*s2 - 2)*(z - 1))"
      ]
     },
     "metadata": {},
     "output_type": "display_data"
    },
    {
     "name": "stdout",
     "output_type": "stream",
     "text": [
      "j = 1\n"
     ]
    },
    {
     "data": {
      "text/html": [
       "<html>\\(\\displaystyle 0\\)</html>"
      ],
      "text/latex": [
       "$\\displaystyle 0$"
      ],
      "text/plain": [
       "0"
      ]
     },
     "metadata": {},
     "output_type": "display_data"
    },
    {
     "name": "stdout",
     "output_type": "stream",
     "text": [
      "i = 1\n",
      "j = 0\n"
     ]
    },
    {
     "data": {
      "text/html": [
       "<html>\\(\\displaystyle 0\\)</html>"
      ],
      "text/latex": [
       "$\\displaystyle 0$"
      ],
      "text/plain": [
       "0"
      ]
     },
     "metadata": {},
     "output_type": "display_data"
    },
    {
     "name": "stdout",
     "output_type": "stream",
     "text": [
      "j = 1\n"
     ]
    },
    {
     "data": {
      "text/html": [
       "<html>\\(\\displaystyle 0\\)</html>"
      ],
      "text/latex": [
       "$\\displaystyle 0$"
      ],
      "text/plain": [
       "0"
      ]
     },
     "metadata": {},
     "output_type": "display_data"
    },
    {
     "name": "stdout",
     "output_type": "stream",
     "text": [
      "Computation of the long-time solution with residues\n",
      "For m_1 with s2 in (0, 2)\n"
     ]
    },
    {
     "data": {
      "text/html": [
       "<html>\\(\\displaystyle \\frac{2 \\, {\\mathcal{C}} {s_2} \\left(-\\frac{{\\left({\\mathcal{C}} - 1\\right)} {s_2} + 2}{{\\left({\\mathcal{C}} + 1\\right)} {s_2} - 2}\\right)^{j}}{{\\left({\\mathcal{C}} + 1\\right)} {s_2} - 2}\\)</html>"
      ],
      "text/latex": [
       "$\\displaystyle \\frac{2 \\, {\\mathcal{C}} {s_2} \\left(-\\frac{{\\left({\\mathcal{C}} - 1\\right)} {s_2} + 2}{{\\left({\\mathcal{C}} + 1\\right)} {s_2} - 2}\\right)^{j}}{{\\left({\\mathcal{C}} + 1\\right)} {s_2} - 2}$"
      ],
      "text/plain": [
       "2*C*s2*(-((C - 1)*s2 + 2)/((C + 1)*s2 - 2))^j/((C + 1)*s2 - 2)"
      ]
     },
     "metadata": {},
     "output_type": "display_data"
    },
    {
     "name": "stdout",
     "output_type": "stream",
     "text": [
      "For m_2 with s2 in (0, 2)\n"
     ]
    },
    {
     "data": {
      "text/html": [
       "<html>\\(\\displaystyle \\frac{2 \\, {\\mathcal{C}}^{2} {s_2}^{2} \\left(-\\frac{{\\left({\\mathcal{C}} - 1\\right)} {s_2} + 2}{{\\left({\\mathcal{C}} + 1\\right)} {s_2} - 2}\\right)^{j}}{{\\left({\\mathcal{C}} + 1\\right)} {s_2}^{2} - 2 \\, {\\left({\\mathcal{C}} + 2\\right)} {s_2} + 4}\\)</html>"
      ],
      "text/latex": [
       "$\\displaystyle \\frac{2 \\, {\\mathcal{C}}^{2} {s_2}^{2} \\left(-\\frac{{\\left({\\mathcal{C}} - 1\\right)} {s_2} + 2}{{\\left({\\mathcal{C}} + 1\\right)} {s_2} - 2}\\right)^{j}}{{\\left({\\mathcal{C}} + 1\\right)} {s_2}^{2} - 2 \\, {\\left({\\mathcal{C}} + 2\\right)} {s_2} + 4}$"
      ],
      "text/plain": [
       "2*C^2*s2^2*(-((C - 1)*s2 + 2)/((C + 1)*s2 - 2))^j/((C + 1)*s2^2 - 2*(C + 2)*s2 + 4)"
      ]
     },
     "metadata": {},
     "output_type": "display_data"
    },
    {
     "name": "stdout",
     "output_type": "stream",
     "text": [
      "For m_1 with s2=2\n"
     ]
    },
    {
     "data": {
      "text/html": [
       "<html>\\(\\displaystyle 2 \\, \\left(-1\\right)^{j}\\)</html>"
      ],
      "text/latex": [
       "$\\displaystyle 2 \\, \\left(-1\\right)^{j}$"
      ],
      "text/plain": [
       "2*(-1)^j"
      ]
     },
     "metadata": {},
     "output_type": "display_data"
    },
    {
     "name": "stdout",
     "output_type": "stream",
     "text": [
      "For m_2 with s2=2\n"
     ]
    },
    {
     "data": {
      "text/html": [
       "<html>\\(\\displaystyle -2 \\, {\\left(2 \\, {\\mathcal{C}} n - 2 \\, {\\mathcal{C}} + 2 \\, j + 1\\right)} \\left(-1\\right)^{j}\\)</html>"
      ],
      "text/latex": [
       "$\\displaystyle -2 \\, {\\left(2 \\, {\\mathcal{C}} n - 2 \\, {\\mathcal{C}} + 2 \\, j + 1\\right)} \\left(-1\\right)^{j}$"
      ],
      "text/plain": [
       "-2*(2*C*n - 2*C + 2*j + 1)*(-1)^j"
      ]
     },
     "metadata": {},
     "output_type": "display_data"
    },
    {
     "name": "stdout",
     "output_type": "stream",
     "text": [
      "Kreiss Lopatinskii determinant for BB with s2=2/(1-C) in (0, 2) at z=1\n"
     ]
    },
    {
     "data": {
      "text/html": [
       "<html>\\(\\displaystyle 0\\)</html>"
      ],
      "text/latex": [
       "$\\displaystyle 0$"
      ],
      "text/plain": [
       "0"
      ]
     },
     "metadata": {},
     "output_type": "display_data"
    },
    {
     "name": "stdout",
     "output_type": "stream",
     "text": [
      "Boundary matrix on the stable subspace for BB with s2=2/(1-C) at z=1 (Taylor expansion)\n",
      "i = 0\n",
      "j = 0\n"
     ]
    },
    {
     "data": {
      "text/html": [
       "<html>\\(\\displaystyle \\frac{{\\mathcal{C}} - 1}{4 \\, {\\mathcal{C}}}\\)</html>"
      ],
      "text/latex": [
       "$\\displaystyle \\frac{{\\mathcal{C}} - 1}{4 \\, {\\mathcal{C}}}$"
      ],
      "text/plain": [
       "1/4*(C - 1)/C"
      ]
     },
     "metadata": {},
     "output_type": "display_data"
    },
    {
     "name": "stdout",
     "output_type": "stream",
     "text": [
      "j = 1\n"
     ]
    },
    {
     "data": {
      "text/html": [
       "<html>\\(\\displaystyle -\\frac{{\\mathcal{C}} - 1}{4 \\, {\\mathcal{C}}}\\)</html>"
      ],
      "text/latex": [
       "$\\displaystyle -\\frac{{\\mathcal{C}} - 1}{4 \\, {\\mathcal{C}}}$"
      ],
      "text/plain": [
       "-1/4*(C - 1)/C"
      ]
     },
     "metadata": {},
     "output_type": "display_data"
    },
    {
     "name": "stdout",
     "output_type": "stream",
     "text": [
      "i = 1\n",
      "j = 0\n"
     ]
    },
    {
     "data": {
      "text/html": [
       "<html>\\(\\displaystyle -\\frac{{\\mathcal{C}} - 1}{2 \\, {\\left({\\mathcal{C}}^{2} + {\\mathcal{C}}\\right)}} - \\frac{{\\mathcal{C}} - 1}{{\\left({\\mathcal{C}} + 1\\right)} {\\left({z} - 1\\right)}}\\)</html>"
      ],
      "text/latex": [
       "$\\displaystyle -\\frac{{\\mathcal{C}} - 1}{2 \\, {\\left({\\mathcal{C}}^{2} + {\\mathcal{C}}\\right)}} - \\frac{{\\mathcal{C}} - 1}{{\\left({\\mathcal{C}} + 1\\right)} {\\left({z} - 1\\right)}}$"
      ],
      "text/plain": [
       "-1/2*(C - 1)/(C^2 + C) - (C - 1)/((C + 1)*(z - 1))"
      ]
     },
     "metadata": {},
     "output_type": "display_data"
    },
    {
     "name": "stdout",
     "output_type": "stream",
     "text": [
      "j = 1\n"
     ]
    },
    {
     "data": {
      "text/html": [
       "<html>\\(\\displaystyle \\frac{{\\mathcal{C}} - 1}{2 \\, {\\left({\\mathcal{C}}^{2} + {\\mathcal{C}}\\right)}}\\)</html>"
      ],
      "text/latex": [
       "$\\displaystyle \\frac{{\\mathcal{C}} - 1}{2 \\, {\\left({\\mathcal{C}}^{2} + {\\mathcal{C}}\\right)}}$"
      ],
      "text/plain": [
       "1/2*(C - 1)/(C^2 + C)"
      ]
     },
     "metadata": {},
     "output_type": "display_data"
    },
    {
     "name": "stdout",
     "output_type": "stream",
     "text": [
      "Kreiss Lopatinskii determinant for Two steps ABB with s2=2 at z=1\n"
     ]
    },
    {
     "data": {
      "text/html": [
       "<html>\\(\\displaystyle 2 \\, {\\mathcal{C}}\\)</html>"
      ],
      "text/latex": [
       "$\\displaystyle 2 \\, {\\mathcal{C}}$"
      ],
      "text/plain": [
       "2*C"
      ]
     },
     "metadata": {},
     "output_type": "display_data"
    },
    {
     "name": "stdout",
     "output_type": "stream",
     "text": [
      "Boundary matrix on the stable subspace for Two steps ABB with s2=2 at z=1\n"
     ]
    },
    {
     "data": {
      "text/html": [
       "<html>\\(\\displaystyle \\left(\\begin{array}{rr}\n",
       "1 & 1 \\\\\n",
       "1 & 2 \\, {\\mathcal{C}} + 1\n",
       "\\end{array}\\right)\\)</html>"
      ],
      "text/latex": [
       "$\\displaystyle \\left(\\begin{array}{rr}\n",
       "1 & 1 \\\\\n",
       "1 & 2 \\, {\\mathcal{C}} + 1\n",
       "\\end{array}\\right)$"
      ],
      "text/plain": [
       "[      1       1]\n",
       "[      1 2*C + 1]"
      ]
     },
     "metadata": {},
     "output_type": "display_data"
    },
    {
     "name": "stdout",
     "output_type": "stream",
     "text": [
      "Computation of the long-time solution with residues\n",
      "For m_1 with s2=2\n"
     ]
    },
    {
     "data": {
      "text/html": [
       "<html>\\(\\displaystyle 0\\)</html>"
      ],
      "text/latex": [
       "$\\displaystyle 0$"
      ],
      "text/plain": [
       "0"
      ]
     },
     "metadata": {},
     "output_type": "display_data"
    },
    {
     "name": "stdout",
     "output_type": "stream",
     "text": [
      "For m_2 with s2=2\n"
     ]
    },
    {
     "data": {
      "text/html": [
       "<html>\\(\\displaystyle -2 \\, {\\left(\\left(-1\\right)^{j} - \\left(-1\\right)^{n}\\right)} {\\mathcal{C}}\\)</html>"
      ],
      "text/latex": [
       "$\\displaystyle -2 \\, {\\left(\\left(-1\\right)^{j} - \\left(-1\\right)^{n}\\right)} {\\mathcal{C}}$"
      ],
      "text/plain": [
       "-2*((-1)^j - (-1)^n)*C"
      ]
     },
     "metadata": {},
     "output_type": "display_data"
    }
   ],
   "source": [
    "#### (1, Pi)\n",
    "\n",
    "#### Bounce back for s_2 in (0, 2)\n",
    "for i in range(q):\n",
    "    for j in range(q):\n",
    "        bd00[i, j] = bdMat_BB[i, j].full_simplify().collect(k).coefficient(k, 0)\n",
    "        bd01[i, j] = bdMat_BB[i, j].full_simplify().collect(k).coefficient(k, 1)\n",
    "        \n",
    "Bs[:, 0] = (bd00 + bd01*ks)*phiS ### First column\n",
    "Bs[:, 1] = (bd00)*phi0 ### Second column\n",
    "\n",
    "for i in range(q):\n",
    "    for j in range(q):\n",
    "        Bs[i, j] = Bs[i, j].full_simplify()\n",
    "KLDet = Bs.determinant().full_simplify()\n",
    "\n",
    "print(\"Kreiss Lopatinskii determinant for BB with s2 in (0, 2) at z=1\")\n",
    "pretty_print(KLDet.subs(z==1).full_simplify())\n",
    "print(\"Boundary matrix on the stable subspace for BB with s2 in (0, 2) at z=1 (Taylor expansion)\")\n",
    "KLAdjugate = Bs.adjugate()\n",
    "for i in range(q):\n",
    "    print('i = '+str(i))\n",
    "    for j in range(q):\n",
    "        print('j = '+str(j))\n",
    "        pretty_print(taylor(KLAdjugate[i, j]/KLDet, z, 1, -1))\n",
    "        \n",
    "print(\"Computation of the long-time solution with residues\")\n",
    "g0Tilde = matrix([[1], [1]])\n",
    "var('n') ### Time index\n",
    "var('j') ### Space index\n",
    "print('For m_1 with s2 in (0, 2)')\n",
    "pretty_print(((KLAdjugate/KLDet*g0Tilde)[0][0]*phiS[0][0]*z**(n-1)*ks**(j)).maxima_methods().residue(z,1).full_simplify())       \n",
    "print('For m_2 with s2 in (0, 2)')\n",
    "pretty_print(((KLAdjugate/KLDet*g0Tilde)[0][0]*phiS[1][0]*z**(n-1)*ks**(j)).maxima_methods().residue(z,1).full_simplify())\n",
    "print('For m_1 with s2=2')\n",
    "pretty_print(((KLAdjugate/KLDet*g0Tilde)[0][0]*phiS[0][0]*z**(n-1)*ks**(j)).subs(s2==2).maxima_methods().residue(z,1).full_simplify().factor())       \n",
    "print('For m_2 with s2=2')\n",
    "pretty_print(((KLAdjugate/KLDet*g0Tilde)[0][0]*phiS[1][0]*z**(n-1)*ks**(j)).subs(s2==2).maxima_methods().residue(z,1).full_simplify().factor())\n",
    "      \n",
    "    \n",
    "#### bounce back for s_2=2/(1-C)\n",
    "phi0Tilde = matrix([[1], [1-2*z]])\n",
    "for i in range(q):\n",
    "    for j in range(q):\n",
    "        bd00[i, j] = bdMat_BB[i, j].subs(s2==2/(1-C)).full_simplify().collect(k).coefficient(k, 0)\n",
    "        bd01[i, j] = bdMat_BB[i, j].subs(s2==2/(1-C)).full_simplify().collect(k).coefficient(k, 1)\n",
    "        \n",
    "Bs[:, 0] = (bd00)*phi0Tilde + bd01*phi0.subs(s2==2/(1-C)) ### First column\n",
    "Bs[:, 1] = (bd00)*phi0.subs(s2==2/(1-C)) ### Second column\n",
    "\n",
    "for i in range(q):\n",
    "    for j in range(q):\n",
    "        Bs[i, j] = Bs[i, j].full_simplify()\n",
    "KLDet = Bs.determinant().full_simplify()\n",
    "\n",
    "print(\"Kreiss Lopatinskii determinant for BB with s2=2/(1-C) in (0, 2) at z=1\")\n",
    "pretty_print(KLDet.subs(z==1).full_simplify())\n",
    "print(\"Boundary matrix on the stable subspace for BB with s2=2/(1-C) at z=1 (Taylor expansion)\")\n",
    "KLAdjugate = Bs.adjugate()\n",
    "for i in range(q):\n",
    "    print('i = '+str(i))\n",
    "    for j in range(q):\n",
    "        print('j = '+str(j))\n",
    "        pretty_print(taylor(KLAdjugate[i, j]/KLDet, z, 1, 0))\n",
    "\n",
    "        \n",
    "\n",
    "#### Two steps anti Bounce back for s_2 = 2\n",
    "for i in range(q):\n",
    "    for j in range(q):\n",
    "        bd00[i, j] = bdMat_TwoABB[i, j].subs(s2==2).full_simplify().collect(k).coefficient(k, 0)\n",
    "        bd01[i, j] = bdMat_TwoABB[i, j].subs(s2==2).full_simplify().collect(k).coefficient(k, 1)\n",
    "        \n",
    "Bs[:, 0] = (bd00 + bd01*ks.subs(s2==2))*phiS.subs(s2==2) ### First column\n",
    "Bs[:, 1] = (bd00)*phi0.subs(s2==2) ### Second column\n",
    "\n",
    "for i in range(q):\n",
    "    for j in range(q):\n",
    "        Bs[i, j] = Bs[i, j].full_simplify()\n",
    "KLDet = Bs.determinant().full_simplify()\n",
    "\n",
    "print(\"Kreiss Lopatinskii determinant for Two steps ABB with s2=2 at z=1\")\n",
    "pretty_print(KLDet.subs(z==1))\n",
    "print(\"Boundary matrix on the stable subspace for Two steps ABB with s2=2 at z=1\")\n",
    "pretty_print(Bs.subs(z==1))\n",
    "\n",
    "\n",
    "print(\"Computation of the long-time solution with residues\")\n",
    "g0Tilde = matrix([[1], [1]])\n",
    "var('n') ### Time index\n",
    "var('j') ### Space index\n",
    "print('For m_1 with s2=2')\n",
    "pretty_print((((Bs.inverse()*g0Tilde)[0][0]*phiS[0][0]*z**(n-1)*ks**(j)).subs(s2==2).maxima_methods().residue(z,1)+\\\n",
    "              ((Bs.inverse()*g0Tilde)[0][0]*phiS[0][0]*z**(n-1)*ks**(j)).subs(s2==2).maxima_methods().residue(z,-1)).full_simplify().factor())       \n",
    "print('For m_2 with s2=2')\n",
    "pretty_print((((Bs.inverse()*g0Tilde)[0][0]*phiS[1][0]*z**(n-1)*ks**(j)).subs(s2==2).maxima_methods().residue(z,1)+\\\n",
    "              ((Bs.inverse()*g0Tilde)[0][0]*phiS[1][0]*z**(n-1)*ks**(j)).subs(s2==2).maxima_methods().residue(z,-1)).full_simplify().factor())  "
   ]
  },
  {
   "cell_type": "code",
   "execution_count": null,
   "id": "78ef5134",
   "metadata": {},
   "outputs": [],
   "source": []
  },
  {
   "cell_type": "code",
   "execution_count": null,
   "id": "7b6256bc",
   "metadata": {},
   "outputs": [],
   "source": []
  },
  {
   "cell_type": "code",
   "execution_count": null,
   "id": "debc5ac8",
   "metadata": {},
   "outputs": [],
   "source": []
  },
  {
   "cell_type": "code",
   "execution_count": null,
   "id": "98db673a",
   "metadata": {},
   "outputs": [],
   "source": []
  },
  {
   "cell_type": "code",
   "execution_count": null,
   "id": "3ced3286",
   "metadata": {},
   "outputs": [],
   "source": []
  },
  {
   "cell_type": "code",
   "execution_count": null,
   "id": "8ddbe1e4",
   "metadata": {},
   "outputs": [],
   "source": []
  },
  {
   "cell_type": "code",
   "execution_count": null,
   "id": "9a482989",
   "metadata": {},
   "outputs": [],
   "source": []
  }
 ],
 "metadata": {
  "kernelspec": {
   "display_name": "SageMath 10.0",
   "language": "sage",
   "name": "sagemath"
  },
  "language_info": {
   "codemirror_mode": {
    "name": "ipython",
    "version": 3
   },
   "file_extension": ".py",
   "mimetype": "text/x-python",
   "name": "python",
   "nbconvert_exporter": "python",
   "pygments_lexer": "ipython3",
   "version": "3.11.9"
  }
 },
 "nbformat": 4,
 "nbformat_minor": 5
}
