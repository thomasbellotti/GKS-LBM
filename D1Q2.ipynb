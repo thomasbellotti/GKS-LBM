{
 "cells": [
  {
   "cell_type": "code",
   "execution_count": 1,
   "id": "d86ea0bc",
   "metadata": {},
   "outputs": [
    {
     "name": "stdout",
     "output_type": "stream",
     "text": [
      "!! Sanity check: the result must be zero.\n"
     ]
    },
    {
     "data": {
      "text/html": [
       "<html>\\(\\displaystyle 0\\)</html>"
      ],
      "text/latex": [
       "$\\displaystyle 0$"
      ],
      "text/plain": [
       "0"
      ]
     },
     "metadata": {},
     "output_type": "display_data"
    }
   ],
   "source": [
    "#### Constants in the scheme\n",
    "C = var(\"C\", latex_name=\"\\\\mathcal{C}\") ## Courant number\n",
    "s1 = var(\"s1\", latex_name=\"s_1\")        ## First relaxation parameter (useless)\n",
    "s2 = var(\"s2\", latex_name=\"s_2\")        ## Second relaxation parameter\n",
    "\n",
    "assume(C,'real')\n",
    "assume(s2,'real')\n",
    "\n",
    "#### Pieces involved in the scheme\n",
    "q = 2 ## Number of discrete velocities\n",
    "c1 = 1  ## First discrete velocity\n",
    "c2 = -1 ## Second discrete velocity\n",
    "r = 1 ## Stencil to the left\n",
    "p = 1 ## Stencil to the right\n",
    "M = matrix([[1,  1], \\\n",
    "            [1, -1]]) ## Moment matrix\n",
    "eps1 = 1 ## First equilibrium coefficient (useless)\n",
    "eps2 = C ## Second equilibrium coefficient\n",
    "\n",
    "#### Construction of the objects involved in the analysis\n",
    "k = var(\"kappa\", latex_name=\"\\\\kappa\") \n",
    "\n",
    "Minv = M.inverse()\n",
    "K = identity_matrix(q)+diagonal_matrix([s1, s2])*(matrix([[eps1], [eps2]])*matrix([[1, 0]])-identity_matrix(q))\n",
    "Ehat = M*diagonal_matrix([k**(-c1), k**(-c2)])*Minv*K #### Bulk matrix scheme \"Fourier\"\n",
    "for i in range(q):\n",
    "    for j in range(q):\n",
    "        Ehat[i, j] = Ehat[i, j].full_simplify().collect(k)\n",
    "    \n",
    "z = var(\"z\", latex_name=\"z\") \n",
    "\n",
    "charEq = (z*identity_matrix(q)-Ehat).determinant().full_simplify().collect(k) #### Characteristic equation\n",
    "dm1 = charEq.coefficient(k, -1).collect(z) ### Coefficient d_{-1} of the characteristic equation\n",
    "d0  = charEq.coefficient(k,  0).collect(z) ### Coefficient d_{0} of the characteristic equation\n",
    "dp1 = charEq.coefficient(k,  1).collect(z) ### Coefficient d_{1} of the characteristic equation\n",
    "\n",
    "Em1 = matrix(SR, q, q) ### Matrix for the point -1\n",
    "E0  = matrix(SR, q, q) ### Matrix for the point 0\n",
    "Ep1 = matrix(SR, q, q) ### Matrix for the point 1\n",
    "for i in range(q):\n",
    "    for j in range(q):\n",
    "        Em1[i, j] = Ehat[i, j].coefficient(k, -1)\n",
    "        E0[i, j]  = Ehat[i, j].coefficient(k,  0)\n",
    "        Ep1[i, j] = Ehat[i, j].coefficient(k,  1)\n",
    "Lz = - Em1 + (z*identity_matrix(q)-E0)*k - Ep1*k**2 ### Matrix polynomial in k\n",
    "print('!! Sanity check: the result must be zero.')\n",
    "pretty_print((Lz.determinant()/k**(r*q)-charEq).full_simplify()) ### Sanity check\n",
    "\n",
    "kplus  = ((-d0+sqrt(d0**2-4*dp1*dm1))/2/dp1).full_simplify() ### Root of the char eq with the plus\n",
    "kminus = ((-d0-sqrt(d0**2-4*dp1*dm1))/2/dp1).full_simplify() ### Root of the char eq with the minus\n",
    "\n",
    "\n",
    "Pi = dm1/dp1 ### This is the product of the roots in k "
   ]
  },
  {
   "cell_type": "code",
   "execution_count": 2,
   "id": "2b8c21d3",
   "metadata": {},
   "outputs": [],
   "source": [
    "##### Boundary conditions that we analyze for any value of C and s_2\n",
    "bdMat_BB = z*identity_matrix(q) - M*matrix([[0, 1], [0, k]])*Minv*K ## Bounce back\n",
    "bdMat_ABB = z*identity_matrix(q) - M*matrix([[0, -1], [0, k]])*Minv*K ## Anti Bounce back\n",
    "bdMat_TwoABB = z*identity_matrix(q) - M*matrix([[0, -k], [0, k]])*Minv*K ## Two steps Anti Bounce back\n",
    "bdMat_sigma1 = z*identity_matrix(q) - M*matrix([[1, 0], [0, k]])*Minv*K ## Extrapolation sigma = 1\n",
    "bdMat_sigma2 = z*identity_matrix(q) - M*matrix([[2-k, 0], [0, k]])*Minv*K ## Extrapolation sigma = 2\n",
    "bdMat_sigma3 = z*identity_matrix(q) - M*matrix([[3-3*k+k**2, 0], [0, k]])*Minv*K ## Extrapolation sigma = 3\n",
    "bdMat_sigma4 = z*identity_matrix(q) - M*matrix([[4-6*k+4*k**2-k**3, 0], [0, k]])*Minv*K ## Extrapolation sigma = 4\n",
    "bdMat_kinDir = z*identity_matrix(q) - M*matrix([[0, 0], [0, k]])*Minv*K ## Kinetic dirichlet"
   ]
  },
  {
   "cell_type": "code",
   "execution_count": 3,
   "id": "9d9668b9",
   "metadata": {},
   "outputs": [
    {
     "name": "stdout",
     "output_type": "stream",
     "text": [
      "Bounce back\n"
     ]
    },
    {
     "data": {
      "text/html": [
       "<html>\\(\\displaystyle \\left[\\left[{z} = 0, {\\kappa} = 0\\right], \\left[{z} = -\\frac{1}{2} \\, {\\left({\\mathcal{C}} - 1\\right)} {s_2}, {\\kappa} = 0\\right], \\left[{z} = 1, {\\kappa} = -\\frac{{\\left({\\mathcal{C}} - 1\\right)} {s_2} + 2}{{\\left({\\mathcal{C}} + 1\\right)} {s_2} - 2}\\right], \\left[{z} = {s_2} - 1, {\\kappa} = \\left(-1\\right)\\right]\\right]\\)</html>"
      ],
      "text/latex": [
       "$\\displaystyle \\left[\\left[{z} = 0, {\\kappa} = 0\\right], \\left[{z} = -\\frac{1}{2} \\, {\\left({\\mathcal{C}} - 1\\right)} {s_2}, {\\kappa} = 0\\right], \\left[{z} = 1, {\\kappa} = -\\frac{{\\left({\\mathcal{C}} - 1\\right)} {s_2} + 2}{{\\left({\\mathcal{C}} + 1\\right)} {s_2} - 2}\\right], \\left[{z} = {s_2} - 1, {\\kappa} = \\left(-1\\right)\\right]\\right]$"
      ],
      "text/plain": [
       "[[z == 0, kappa == 0], [z == -1/2*(C - 1)*s2, kappa == 0], [z == 1, kappa == -((C - 1)*s2 + 2)/((C + 1)*s2 - 2)], [z == s2 - 1, kappa == -1]]"
      ]
     },
     "metadata": {},
     "output_type": "display_data"
    },
    {
     "name": "stdout",
     "output_type": "stream",
     "text": [
      "Anti Bounce back\n"
     ]
    },
    {
     "data": {
      "text/html": [
       "<html>\\(\\displaystyle \\left[\\left[{z} = 0, {\\kappa} = 0\\right], \\left[{z} = \\frac{1}{2} \\, {\\left({\\mathcal{C}} - 1\\right)} {s_2}, {\\kappa} = 0\\right], \\left[{z} = \\left(-1\\right), {\\kappa} = \\frac{{\\left({\\mathcal{C}} - 1\\right)} {s_2} + 2}{{\\left({\\mathcal{C}} + 1\\right)} {s_2} - 2}\\right], \\left[{z} = -{s_2} + 1, {\\kappa} = 1\\right]\\right]\\)</html>"
      ],
      "text/latex": [
       "$\\displaystyle \\left[\\left[{z} = 0, {\\kappa} = 0\\right], \\left[{z} = \\frac{1}{2} \\, {\\left({\\mathcal{C}} - 1\\right)} {s_2}, {\\kappa} = 0\\right], \\left[{z} = \\left(-1\\right), {\\kappa} = \\frac{{\\left({\\mathcal{C}} - 1\\right)} {s_2} + 2}{{\\left({\\mathcal{C}} + 1\\right)} {s_2} - 2}\\right], \\left[{z} = -{s_2} + 1, {\\kappa} = 1\\right]\\right]$"
      ],
      "text/plain": [
       "[[z == 0, kappa == 0], [z == 1/2*(C - 1)*s2, kappa == 0], [z == -1, kappa == ((C - 1)*s2 + 2)/((C + 1)*s2 - 2)], [z == -s2 + 1, kappa == 1]]"
      ]
     },
     "metadata": {},
     "output_type": "display_data"
    },
    {
     "name": "stdout",
     "output_type": "stream",
     "text": [
      "Two steps anti Bounce back\n"
     ]
    },
    {
     "data": {
      "text/html": [
       "<html>\\(\\displaystyle \\left[\\left[{z} = 0, {\\kappa} = 0\\right], \\left[{z} = {s_2} - 1, {\\kappa} = \\left(-1\\right)\\right], \\left[{z} = -{s_2} + 1, {\\kappa} = 1\\right]\\right]\\)</html>"
      ],
      "text/latex": [
       "$\\displaystyle \\left[\\left[{z} = 0, {\\kappa} = 0\\right], \\left[{z} = {s_2} - 1, {\\kappa} = \\left(-1\\right)\\right], \\left[{z} = -{s_2} + 1, {\\kappa} = 1\\right]\\right]$"
      ],
      "text/plain": [
       "[[z == 0, kappa == 0], [z == s2 - 1, kappa == -1], [z == -s2 + 1, kappa == 1]]"
      ]
     },
     "metadata": {},
     "output_type": "display_data"
    },
    {
     "name": "stdout",
     "output_type": "stream",
     "text": [
      "Extrapolation sigma = 1\n"
     ]
    },
    {
     "data": {
      "text/html": [
       "<html>\\(\\displaystyle \\left[\\left[{z} = \\frac{1}{2} \\, {\\left({\\mathcal{C}} - 1\\right)} {s_2} + 1, {\\kappa} = 0\\right], \\left[{z} = 0, {\\kappa} = 0\\right], \\left[{z} = 1, {\\kappa} = 1\\right], \\left[{z} = -{s_2} + 1, {\\kappa} = 1\\right]\\right]\\)</html>"
      ],
      "text/latex": [
       "$\\displaystyle \\left[\\left[{z} = \\frac{1}{2} \\, {\\left({\\mathcal{C}} - 1\\right)} {s_2} + 1, {\\kappa} = 0\\right], \\left[{z} = 0, {\\kappa} = 0\\right], \\left[{z} = 1, {\\kappa} = 1\\right], \\left[{z} = -{s_2} + 1, {\\kappa} = 1\\right]\\right]$"
      ],
      "text/plain": [
       "[[z == 1/2*(C - 1)*s2 + 1, kappa == 0], [z == 0, kappa == 0], [z == 1, kappa == 1], [z == -s2 + 1, kappa == 1]]"
      ]
     },
     "metadata": {},
     "output_type": "display_data"
    },
    {
     "name": "stdout",
     "output_type": "stream",
     "text": [
      "Extrapolation sigma = 2\n"
     ]
    },
    {
     "data": {
      "text/html": [
       "<html>\\(\\displaystyle \\left[\\left[{z} = {\\left({\\mathcal{C}} - 1\\right)} {s_2} + 2, {\\kappa} = 0\\right], \\left[{z} = 0, {\\kappa} = 0\\right], \\left[{z} = 1, {\\kappa} = 1\\right], \\left[{z} = -{s_2} + 1, {\\kappa} = 1\\right]\\right]\\)</html>"
      ],
      "text/latex": [
       "$\\displaystyle \\left[\\left[{z} = {\\left({\\mathcal{C}} - 1\\right)} {s_2} + 2, {\\kappa} = 0\\right], \\left[{z} = 0, {\\kappa} = 0\\right], \\left[{z} = 1, {\\kappa} = 1\\right], \\left[{z} = -{s_2} + 1, {\\kappa} = 1\\right]\\right]$"
      ],
      "text/plain": [
       "[[z == (C - 1)*s2 + 2, kappa == 0], [z == 0, kappa == 0], [z == 1, kappa == 1], [z == -s2 + 1, kappa == 1]]"
      ]
     },
     "metadata": {},
     "output_type": "display_data"
    },
    {
     "name": "stdout",
     "output_type": "stream",
     "text": [
      "Extrapolation sigma = 3\n"
     ]
    },
    {
     "data": {
      "text/html": [
       "<html>\\(\\displaystyle \\left[\\left[{z} = \\frac{3}{2} \\, {\\left({\\mathcal{C}} - 1\\right)} {s_2} + 3, {\\kappa} = 0\\right], \\left[{z} = 0, {\\kappa} = 0\\right], \\left[{z} = 1, {\\kappa} = 1\\right], \\left[{z} = -{s_2} + 1, {\\kappa} = 1\\right]\\right]\\)</html>"
      ],
      "text/latex": [
       "$\\displaystyle \\left[\\left[{z} = \\frac{3}{2} \\, {\\left({\\mathcal{C}} - 1\\right)} {s_2} + 3, {\\kappa} = 0\\right], \\left[{z} = 0, {\\kappa} = 0\\right], \\left[{z} = 1, {\\kappa} = 1\\right], \\left[{z} = -{s_2} + 1, {\\kappa} = 1\\right]\\right]$"
      ],
      "text/plain": [
       "[[z == 3/2*(C - 1)*s2 + 3, kappa == 0], [z == 0, kappa == 0], [z == 1, kappa == 1], [z == -s2 + 1, kappa == 1]]"
      ]
     },
     "metadata": {},
     "output_type": "display_data"
    },
    {
     "name": "stdout",
     "output_type": "stream",
     "text": [
      "Extrapolation sigma = 4\n"
     ]
    },
    {
     "data": {
      "text/html": [
       "<html>\\(\\displaystyle \\left[\\left[{z} = 2 \\, {\\left({\\mathcal{C}} - 1\\right)} {s_2} + 4, {\\kappa} = 0\\right], \\left[{z} = 0, {\\kappa} = 0\\right], \\left[{z} = 1, {\\kappa} = 1\\right], \\left[{z} = -{s_2} + 1, {\\kappa} = 1\\right]\\right]\\)</html>"
      ],
      "text/latex": [
       "$\\displaystyle \\left[\\left[{z} = 2 \\, {\\left({\\mathcal{C}} - 1\\right)} {s_2} + 4, {\\kappa} = 0\\right], \\left[{z} = 0, {\\kappa} = 0\\right], \\left[{z} = 1, {\\kappa} = 1\\right], \\left[{z} = -{s_2} + 1, {\\kappa} = 1\\right]\\right]$"
      ],
      "text/plain": [
       "[[z == 2*(C - 1)*s2 + 4, kappa == 0], [z == 0, kappa == 0], [z == 1, kappa == 1], [z == -s2 + 1, kappa == 1]]"
      ]
     },
     "metadata": {},
     "output_type": "display_data"
    },
    {
     "name": "stdout",
     "output_type": "stream",
     "text": [
      "Kinetic Dirichlet\n"
     ]
    },
    {
     "data": {
      "text/html": [
       "<html>\\(\\displaystyle \\left[\\left[{z} = 0, {\\kappa} = 0\\right]\\right]\\)</html>"
      ],
      "text/latex": [
       "$\\displaystyle \\left[\\left[{z} = 0, {\\kappa} = 0\\right]\\right]$"
      ],
      "text/plain": [
       "[[z == 0, kappa == 0]]"
      ]
     },
     "metadata": {},
     "output_type": "display_data"
    }
   ],
   "source": [
    "##### We find the critical (z, k) eigenvalues between boundary and bulk\n",
    "print(\"Bounce back\")\n",
    "pretty_print(solve([Lz.determinant().full_simplify(), bdMat_BB.determinant().full_simplify()], (z, k)))\n",
    "print(\"Anti Bounce back\")\n",
    "pretty_print(solve([Lz.determinant().full_simplify(), bdMat_ABB.determinant().full_simplify()], (z, k)))\n",
    "print(\"Two steps anti Bounce back\")\n",
    "pretty_print(solve([Lz.determinant().full_simplify(), bdMat_TwoABB.determinant().full_simplify()], (z, k)))\n",
    "print(\"Extrapolation sigma = 1\")\n",
    "pretty_print(solve([Lz.determinant().full_simplify(), bdMat_sigma1.determinant().full_simplify()], (z, k)))\n",
    "print(\"Extrapolation sigma = 2\")\n",
    "pretty_print(solve([Lz.determinant().full_simplify(), bdMat_sigma2.determinant().full_simplify()], (z, k)))\n",
    "print(\"Extrapolation sigma = 3\")\n",
    "pretty_print(solve([Lz.determinant().full_simplify(), bdMat_sigma3.determinant().full_simplify()], (z, k)))\n",
    "print(\"Extrapolation sigma = 4\")\n",
    "pretty_print(solve([Lz.determinant().full_simplify(), bdMat_sigma4.determinant().full_simplify()], (z, k)))\n",
    "print(\"Kinetic Dirichlet\")\n",
    "pretty_print(solve([Lz.determinant().full_simplify(), bdMat_kinDir.determinant().full_simplify()], (z, k)))"
   ]
  },
  {
   "cell_type": "code",
   "execution_count": 4,
   "id": "f2befaee",
   "metadata": {},
   "outputs": [
    {
     "name": "stdout",
     "output_type": "stream",
     "text": [
      "Bounce back\n"
     ]
    },
    {
     "data": {
      "text/html": [
       "<html>\\(\\displaystyle \\left[\\left[{z} = 0, {\\kappa} = 0\\right], \\left[{z} = \\left(\\frac{3}{2}\\right), {\\kappa} = 0\\right], \\left[{z} = 1, {\\kappa} = \\left(-1\\right)\\right]\\right]\\)</html>"
      ],
      "text/latex": [
       "$\\displaystyle \\left[\\left[{z} = 0, {\\kappa} = 0\\right], \\left[{z} = \\left(\\frac{3}{2}\\right), {\\kappa} = 0\\right], \\left[{z} = 1, {\\kappa} = \\left(-1\\right)\\right]\\right]$"
      ],
      "text/plain": [
       "[[z == 0, kappa == 0], [z == (3/2), kappa == 0], [z == 1, kappa == -1]]"
      ]
     },
     "metadata": {},
     "output_type": "display_data"
    },
    {
     "name": "stdout",
     "output_type": "stream",
     "text": [
      "Anti Bounce back\n"
     ]
    },
    {
     "data": {
      "text/html": [
       "<html>\\(\\displaystyle \\left[\\left[{z} = 0, {\\kappa} = 0\\right], \\left[{z} = \\left(-\\frac{3}{2}\\right), {\\kappa} = 0\\right], \\left[{z} = \\left(-1\\right), {\\kappa} = 1\\right]\\right]\\)</html>"
      ],
      "text/latex": [
       "$\\displaystyle \\left[\\left[{z} = 0, {\\kappa} = 0\\right], \\left[{z} = \\left(-\\frac{3}{2}\\right), {\\kappa} = 0\\right], \\left[{z} = \\left(-1\\right), {\\kappa} = 1\\right]\\right]$"
      ],
      "text/plain": [
       "[[z == 0, kappa == 0], [z == (-3/2), kappa == 0], [z == -1, kappa == 1]]"
      ]
     },
     "metadata": {},
     "output_type": "display_data"
    },
    {
     "name": "stdout",
     "output_type": "stream",
     "text": [
      "Two steps anti Bounce back\n"
     ]
    },
    {
     "data": {
      "text/html": [
       "<html>\\(\\displaystyle \\left[\\left[{z} = 0, {\\kappa} = 0\\right], \\left[{z} = \\left(-1\\right), {\\kappa} = 1\\right], \\left[{z} = 1, {\\kappa} = \\left(-1\\right)\\right]\\right]\\)</html>"
      ],
      "text/latex": [
       "$\\displaystyle \\left[\\left[{z} = 0, {\\kappa} = 0\\right], \\left[{z} = \\left(-1\\right), {\\kappa} = 1\\right], \\left[{z} = 1, {\\kappa} = \\left(-1\\right)\\right]\\right]$"
      ],
      "text/plain": [
       "[[z == 0, kappa == 0], [z == -1, kappa == 1], [z == 1, kappa == -1]]"
      ]
     },
     "metadata": {},
     "output_type": "display_data"
    },
    {
     "name": "stdout",
     "output_type": "stream",
     "text": [
      "Extrapolation sigma = 1\n"
     ]
    },
    {
     "data": {
      "text/html": [
       "<html>\\(\\displaystyle \\left[\\left[{z} = \\left(-\\frac{1}{2}\\right), {\\kappa} = 0\\right], \\left[{z} = 0, {\\kappa} = 0\\right], \\left[{z} = \\left(-1\\right), {\\kappa} = 1\\right], \\left[{z} = 1, {\\kappa} = 1\\right]\\right]\\)</html>"
      ],
      "text/latex": [
       "$\\displaystyle \\left[\\left[{z} = \\left(-\\frac{1}{2}\\right), {\\kappa} = 0\\right], \\left[{z} = 0, {\\kappa} = 0\\right], \\left[{z} = \\left(-1\\right), {\\kappa} = 1\\right], \\left[{z} = 1, {\\kappa} = 1\\right]\\right]$"
      ],
      "text/plain": [
       "[[z == (-1/2), kappa == 0], [z == 0, kappa == 0], [z == -1, kappa == 1], [z == 1, kappa == 1]]"
      ]
     },
     "metadata": {},
     "output_type": "display_data"
    },
    {
     "name": "stdout",
     "output_type": "stream",
     "text": [
      "Extrapolation sigma = 2\n"
     ]
    },
    {
     "data": {
      "text/html": [
       "<html>\\(\\displaystyle \\left[\\left[{z} = \\left(-1\\right), {\\kappa} = 0\\right], \\left[{z} = 0, {\\kappa} = 0\\right], \\left[{z} = \\left(-1\\right), {\\kappa} = 1\\right], \\left[{z} = 1, {\\kappa} = 1\\right]\\right]\\)</html>"
      ],
      "text/latex": [
       "$\\displaystyle \\left[\\left[{z} = \\left(-1\\right), {\\kappa} = 0\\right], \\left[{z} = 0, {\\kappa} = 0\\right], \\left[{z} = \\left(-1\\right), {\\kappa} = 1\\right], \\left[{z} = 1, {\\kappa} = 1\\right]\\right]$"
      ],
      "text/plain": [
       "[[z == -1, kappa == 0], [z == 0, kappa == 0], [z == -1, kappa == 1], [z == 1, kappa == 1]]"
      ]
     },
     "metadata": {},
     "output_type": "display_data"
    },
    {
     "name": "stdout",
     "output_type": "stream",
     "text": [
      "Extrapolation sigma = 3\n"
     ]
    },
    {
     "data": {
      "text/html": [
       "<html>\\(\\displaystyle \\left[\\left[{z} = \\left(-\\frac{3}{2}\\right), {\\kappa} = 0\\right], \\left[{z} = 0, {\\kappa} = 0\\right], \\left[{z} = \\left(-1\\right), {\\kappa} = 1\\right], \\left[{z} = 1, {\\kappa} = 1\\right]\\right]\\)</html>"
      ],
      "text/latex": [
       "$\\displaystyle \\left[\\left[{z} = \\left(-\\frac{3}{2}\\right), {\\kappa} = 0\\right], \\left[{z} = 0, {\\kappa} = 0\\right], \\left[{z} = \\left(-1\\right), {\\kappa} = 1\\right], \\left[{z} = 1, {\\kappa} = 1\\right]\\right]$"
      ],
      "text/plain": [
       "[[z == (-3/2), kappa == 0], [z == 0, kappa == 0], [z == -1, kappa == 1], [z == 1, kappa == 1]]"
      ]
     },
     "metadata": {},
     "output_type": "display_data"
    },
    {
     "name": "stdout",
     "output_type": "stream",
     "text": [
      "Extrapolation sigma = 4\n"
     ]
    },
    {
     "data": {
      "text/html": [
       "<html>\\(\\displaystyle \\left[\\left[{z} = \\left(-2\\right), {\\kappa} = 0\\right], \\left[{z} = 0, {\\kappa} = 0\\right], \\left[{z} = \\left(-1\\right), {\\kappa} = 1\\right], \\left[{z} = 1, {\\kappa} = 1\\right]\\right]\\)</html>"
      ],
      "text/latex": [
       "$\\displaystyle \\left[\\left[{z} = \\left(-2\\right), {\\kappa} = 0\\right], \\left[{z} = 0, {\\kappa} = 0\\right], \\left[{z} = \\left(-1\\right), {\\kappa} = 1\\right], \\left[{z} = 1, {\\kappa} = 1\\right]\\right]$"
      ],
      "text/plain": [
       "[[z == -2, kappa == 0], [z == 0, kappa == 0], [z == -1, kappa == 1], [z == 1, kappa == 1]]"
      ]
     },
     "metadata": {},
     "output_type": "display_data"
    },
    {
     "name": "stdout",
     "output_type": "stream",
     "text": [
      "Kinetic Dirichlet\n"
     ]
    },
    {
     "data": {
      "text/html": [
       "<html>\\(\\displaystyle \\left[\\left[{z} = 0, {\\kappa} = 0\\right]\\right]\\)</html>"
      ],
      "text/latex": [
       "$\\displaystyle \\left[\\left[{z} = 0, {\\kappa} = 0\\right]\\right]$"
      ],
      "text/plain": [
       "[[z == 0, kappa == 0]]"
      ]
     },
     "metadata": {},
     "output_type": "display_data"
    }
   ],
   "source": [
    "##### Sanity check : we set some values for s_2 and C and see if we find more\n",
    "##### Sometimes sagemath does not give all the roots\n",
    "s2_val = 2\n",
    "C_val = -1/2\n",
    "print(\"Bounce back\")\n",
    "pretty_print(solve([Lz.subs(s2==s2_val, C==C_val).determinant().full_simplify(), bdMat_BB.subs(s2==s2_val, C==C_val).determinant().full_simplify()], (z, k)))\n",
    "print(\"Anti Bounce back\")\n",
    "pretty_print(solve([Lz.subs(s2==s2_val, C==C_val).determinant().full_simplify(), bdMat_ABB.subs(s2==s2_val, C==C_val).determinant().full_simplify()], (z, k)))\n",
    "print(\"Two steps anti Bounce back\")\n",
    "pretty_print(solve([Lz.subs(s2==s2_val, C==C_val).determinant().full_simplify(), bdMat_TwoABB.subs(s2==s2_val, C==C_val).determinant().full_simplify()], (z, k)))\n",
    "print(\"Extrapolation sigma = 1\")\n",
    "pretty_print(solve([Lz.subs(s2==s2_val, C==C_val).determinant().full_simplify(), bdMat_sigma1.subs(s2==s2_val, C==C_val).determinant().full_simplify()], (z, k)))\n",
    "print(\"Extrapolation sigma = 2\")\n",
    "pretty_print(solve([Lz.subs(s2==s2_val, C==C_val).determinant().full_simplify(), bdMat_sigma2.subs(s2==s2_val, C==C_val).determinant().full_simplify()], (z, k)))\n",
    "print(\"Extrapolation sigma = 3\")\n",
    "pretty_print(solve([Lz.subs(s2==s2_val, C==C_val).determinant().full_simplify(), bdMat_sigma3.subs(s2==s2_val, C==C_val).determinant().full_simplify()], (z, k)))\n",
    "print(\"Extrapolation sigma = 4\")\n",
    "pretty_print(solve([Lz.subs(s2==s2_val, C==C_val).determinant().full_simplify(), bdMat_sigma4.subs(s2==s2_val, C==C_val).determinant().full_simplify()], (z, k)))\n",
    "print(\"Kinetic Dirichlet\")\n",
    "pretty_print(solve([Lz.subs(s2==s2_val, C==C_val).determinant().full_simplify(), bdMat_kinDir.subs(s2==s2_val, C==C_val).determinant().full_simplify()], (z, k)))"
   ]
  },
  {
   "cell_type": "code",
   "execution_count": 5,
   "id": "35ff86c0",
   "metadata": {},
   "outputs": [],
   "source": [
    "#### We make natural assumptions\n",
    "assume(s2>0)\n",
    "assume(s2<=2)"
   ]
  },
  {
   "cell_type": "code",
   "execution_count": 6,
   "id": "7c059398",
   "metadata": {},
   "outputs": [
    {
     "name": "stdout",
     "output_type": "stream",
     "text": [
      "Value of kminus at z=-1\n"
     ]
    },
    {
     "data": {
      "text/html": [
       "<html>\\(\\displaystyle -1\\)</html>"
      ],
      "text/latex": [
       "$\\displaystyle -1$"
      ],
      "text/plain": [
       "-1"
      ]
     },
     "metadata": {},
     "output_type": "display_data"
    },
    {
     "name": "stdout",
     "output_type": "stream",
     "text": [
      "Value of kplus at z=-1\n"
     ]
    },
    {
     "data": {
      "text/html": [
       "<html>\\(\\displaystyle \\frac{{\\left({\\mathcal{C}} - 1\\right)} {s_2} + 2}{{\\left({\\mathcal{C}} + 1\\right)} {s_2} - 2}\\)</html>"
      ],
      "text/latex": [
       "$\\displaystyle \\frac{{\\left({\\mathcal{C}} - 1\\right)} {s_2} + 2}{{\\left({\\mathcal{C}} + 1\\right)} {s_2} - 2}$"
      ],
      "text/plain": [
       "((C - 1)*s2 + 2)/((C + 1)*s2 - 2)"
      ]
     },
     "metadata": {},
     "output_type": "display_data"
    },
    {
     "name": "stdout",
     "output_type": "stream",
     "text": [
      "Value of kminus at z=1\n"
     ]
    },
    {
     "data": {
      "text/html": [
       "<html>\\(\\displaystyle 1\\)</html>"
      ],
      "text/latex": [
       "$\\displaystyle 1$"
      ],
      "text/plain": [
       "1"
      ]
     },
     "metadata": {},
     "output_type": "display_data"
    },
    {
     "name": "stdout",
     "output_type": "stream",
     "text": [
      "Value of kplus at z=1\n"
     ]
    },
    {
     "data": {
      "text/html": [
       "<html>\\(\\displaystyle -\\frac{{\\left({\\mathcal{C}} - 1\\right)} {s_2} + 2}{{\\left({\\mathcal{C}} + 1\\right)} {s_2} - 2}\\)</html>"
      ],
      "text/latex": [
       "$\\displaystyle -\\frac{{\\left({\\mathcal{C}} - 1\\right)} {s_2} + 2}{{\\left({\\mathcal{C}} + 1\\right)} {s_2} - 2}$"
      ],
      "text/plain": [
       "-((C - 1)*s2 + 2)/((C + 1)*s2 - 2)"
      ]
     },
     "metadata": {},
     "output_type": "display_data"
    },
    {
     "name": "stdout",
     "output_type": "stream",
     "text": [
      "Value of Pi\n"
     ]
    },
    {
     "data": {
      "text/html": [
       "<html>\\(\\displaystyle -\\frac{{\\mathcal{C}} {s_2} - {s_2} + 2}{{\\mathcal{C}} {s_2} + {s_2} - 2}\\)</html>"
      ],
      "text/latex": [
       "$\\displaystyle -\\frac{{\\mathcal{C}} {s_2} - {s_2} + 2}{{\\mathcal{C}} {s_2} + {s_2} - 2}$"
      ],
      "text/plain": [
       "-(C*s2 - s2 + 2)/(C*s2 + s2 - 2)"
      ]
     },
     "metadata": {},
     "output_type": "display_data"
    },
    {
     "name": "stdout",
     "output_type": "stream",
     "text": [
      "Expansion of the second component of phiS around z = -1 as s2 != 2\n"
     ]
    },
    {
     "data": {
      "text/html": [
       "<html>\\(\\displaystyle \\frac{{\\mathcal{C}} {s_2}}{{s_2} - 2} - \\frac{{\\left({\\left({\\mathcal{C}}^{2} - 1\\right)} {s_2}^{2} + 4 \\, {s_2} - 4\\right)} {\\left({z} + 1\\right)}}{{\\mathcal{C}} {s_2}^{3} - 4 \\, {\\mathcal{C}} {s_2}^{2} + 4 \\, {\\mathcal{C}} {s_2}}\\)</html>"
      ],
      "text/latex": [
       "$\\displaystyle \\frac{{\\mathcal{C}} {s_2}}{{s_2} - 2} - \\frac{{\\left({\\left({\\mathcal{C}}^{2} - 1\\right)} {s_2}^{2} + 4 \\, {s_2} - 4\\right)} {\\left({z} + 1\\right)}}{{\\mathcal{C}} {s_2}^{3} - 4 \\, {\\mathcal{C}} {s_2}^{2} + 4 \\, {\\mathcal{C}} {s_2}}$"
      ],
      "text/plain": [
       "C*s2/(s2 - 2) - ((C^2 - 1)*s2^2 + 4*s2 - 4)*(z + 1)/(C*s2^3 - 4*C*s2^2 + 4*C*s2)"
      ]
     },
     "metadata": {},
     "output_type": "display_data"
    },
    {
     "name": "stdout",
     "output_type": "stream",
     "text": [
      "Expansion of the second component of phiS around z = -1 as s2 = 2\n"
     ]
    },
    {
     "data": {
      "text/html": [
       "<html>\\(\\displaystyle \\frac{2 \\, {\\mathcal{C}}}{{z} + 1} + \\frac{{z} + 1}{2 \\, {\\mathcal{C}}}\\)</html>"
      ],
      "text/latex": [
       "$\\displaystyle \\frac{2 \\, {\\mathcal{C}}}{{z} + 1} + \\frac{{z} + 1}{2 \\, {\\mathcal{C}}}$"
      ],
      "text/plain": [
       "2*C/(z + 1) + 1/2*(z + 1)/C"
      ]
     },
     "metadata": {},
     "output_type": "display_data"
    },
    {
     "name": "stdout",
     "output_type": "stream",
     "text": [
      "Expansion of the second component of phiS around z = 1 as s2 != 2\n"
     ]
    },
    {
     "data": {
      "text/html": [
       "<html>\\(\\displaystyle \\frac{{\\mathcal{C}} {s_2}}{{s_2} - 2} + \\frac{{\\left({\\left({\\mathcal{C}}^{2} - 1\\right)} {s_2}^{2} + 4 \\, {s_2} - 4\\right)} {\\left({z} - 1\\right)}}{{\\mathcal{C}} {s_2}^{3} - 4 \\, {\\mathcal{C}} {s_2}^{2} + 4 \\, {\\mathcal{C}} {s_2}}\\)</html>"
      ],
      "text/latex": [
       "$\\displaystyle \\frac{{\\mathcal{C}} {s_2}}{{s_2} - 2} + \\frac{{\\left({\\left({\\mathcal{C}}^{2} - 1\\right)} {s_2}^{2} + 4 \\, {s_2} - 4\\right)} {\\left({z} - 1\\right)}}{{\\mathcal{C}} {s_2}^{3} - 4 \\, {\\mathcal{C}} {s_2}^{2} + 4 \\, {\\mathcal{C}} {s_2}}$"
      ],
      "text/plain": [
       "C*s2/(s2 - 2) + ((C^2 - 1)*s2^2 + 4*s2 - 4)*(z - 1)/(C*s2^3 - 4*C*s2^2 + 4*C*s2)"
      ]
     },
     "metadata": {},
     "output_type": "display_data"
    },
    {
     "name": "stdout",
     "output_type": "stream",
     "text": [
      "Expansion of the second component of phiS around z = 1 as s2 = 2\n"
     ]
    },
    {
     "data": {
      "text/html": [
       "<html>\\(\\displaystyle -\\frac{2 \\, {\\mathcal{C}}}{{z} - 1} - \\frac{{z} - 1}{2 \\, {\\mathcal{C}}}\\)</html>"
      ],
      "text/latex": [
       "$\\displaystyle -\\frac{2 \\, {\\mathcal{C}}}{{z} - 1} - \\frac{{z} - 1}{2 \\, {\\mathcal{C}}}$"
      ],
      "text/plain": [
       "-2*C/(z - 1) - 1/2*(z - 1)/C"
      ]
     },
     "metadata": {},
     "output_type": "display_data"
    },
    {
     "name": "stdout",
     "output_type": "stream",
     "text": [
      "Kreiss Lopatinskii determinant for BB with s2=2 at z=-1 (Taylor expansion)\n"
     ]
    },
    {
     "data": {
      "text/html": [
       "<html>\\(\\displaystyle \\frac{4 \\, {\\mathcal{C}}^{2}}{{z} + 1}\\)</html>"
      ],
      "text/latex": [
       "$\\displaystyle \\frac{4 \\, {\\mathcal{C}}^{2}}{{z} + 1}$"
      ],
      "text/plain": [
       "4*C^2/(z + 1)"
      ]
     },
     "metadata": {},
     "output_type": "display_data"
    },
    {
     "name": "stdout",
     "output_type": "stream",
     "text": [
      "Kreiss Lopatinskii determinant for ABB with s2 in (0, 2) at z=-1\n"
     ]
    },
    {
     "data": {
      "text/html": [
       "<html>\\(\\displaystyle 0\\)</html>"
      ],
      "text/latex": [
       "$\\displaystyle 0$"
      ],
      "text/plain": [
       "0"
      ]
     },
     "metadata": {},
     "output_type": "display_data"
    },
    {
     "name": "stdout",
     "output_type": "stream",
     "text": [
      "Boundary matrix on the stable subspace for ABB with s2 in (0, 2) at z=-1 (Taylor expansion)\n",
      "i = 0\n",
      "j = 0\n"
     ]
    },
    {
     "data": {
      "text/html": [
       "<html>\\(\\displaystyle \\frac{2 \\, {\\mathcal{C}} {s_2}}{{\\left({\\left({\\mathcal{C}} + 1\\right)} {s_2} - 2\\right)} {\\left({z} + 1\\right)}}\\)</html>"
      ],
      "text/latex": [
       "$\\displaystyle \\frac{2 \\, {\\mathcal{C}} {s_2}}{{\\left({\\left({\\mathcal{C}} + 1\\right)} {s_2} - 2\\right)} {\\left({z} + 1\\right)}}$"
      ],
      "text/plain": [
       "2*C*s2/(((C + 1)*s2 - 2)*(z + 1))"
      ]
     },
     "metadata": {},
     "output_type": "display_data"
    },
    {
     "name": "stdout",
     "output_type": "stream",
     "text": [
      "j = 1\n"
     ]
    },
    {
     "data": {
      "text/html": [
       "<html>\\(\\displaystyle 0\\)</html>"
      ],
      "text/latex": [
       "$\\displaystyle 0$"
      ],
      "text/plain": [
       "0"
      ]
     },
     "metadata": {},
     "output_type": "display_data"
    },
    {
     "name": "stdout",
     "output_type": "stream",
     "text": [
      "i = 1\n",
      "j = 0\n"
     ]
    },
    {
     "data": {
      "text/html": [
       "<html>\\(\\displaystyle 0\\)</html>"
      ],
      "text/latex": [
       "$\\displaystyle 0$"
      ],
      "text/plain": [
       "0"
      ]
     },
     "metadata": {},
     "output_type": "display_data"
    },
    {
     "name": "stdout",
     "output_type": "stream",
     "text": [
      "j = 1\n"
     ]
    },
    {
     "data": {
      "text/html": [
       "<html>\\(\\displaystyle 0\\)</html>"
      ],
      "text/latex": [
       "$\\displaystyle 0$"
      ],
      "text/plain": [
       "0"
      ]
     },
     "metadata": {},
     "output_type": "display_data"
    },
    {
     "name": "stdout",
     "output_type": "stream",
     "text": [
      "Computation of the long-time solution with residues\n",
      "For m_1 with s2 in (0, 2)\n"
     ]
    },
    {
     "data": {
      "text/html": [
       "<html>\\(\\displaystyle -\\frac{2 \\, \\left(-1\\right)^{n} {\\mathcal{C}} {s_2} \\left(\\frac{{\\left({\\mathcal{C}} - 1\\right)} {s_2} + 2}{{\\left({\\mathcal{C}} + 1\\right)} {s_2} - 2}\\right)^{j}}{{\\left({\\mathcal{C}} + 1\\right)} {s_2} - 2}\\)</html>"
      ],
      "text/latex": [
       "$\\displaystyle -\\frac{2 \\, \\left(-1\\right)^{n} {\\mathcal{C}} {s_2} \\left(\\frac{{\\left({\\mathcal{C}} - 1\\right)} {s_2} + 2}{{\\left({\\mathcal{C}} + 1\\right)} {s_2} - 2}\\right)^{j}}{{\\left({\\mathcal{C}} + 1\\right)} {s_2} - 2}$"
      ],
      "text/plain": [
       "-2*(-1)^n*C*s2*(((C - 1)*s2 + 2)/((C + 1)*s2 - 2))^j/((C + 1)*s2 - 2)"
      ]
     },
     "metadata": {},
     "output_type": "display_data"
    },
    {
     "name": "stdout",
     "output_type": "stream",
     "text": [
      "For m_2 with s2 in (0, 2)\n"
     ]
    },
    {
     "data": {
      "text/html": [
       "<html>\\(\\displaystyle -\\frac{2 \\, \\left(-1\\right)^{n} {\\mathcal{C}}^{2} {s_2}^{2} \\left(\\frac{{\\left({\\mathcal{C}} - 1\\right)} {s_2} + 2}{{\\left({\\mathcal{C}} + 1\\right)} {s_2} - 2}\\right)^{j}}{{\\left({\\mathcal{C}} + 1\\right)} {s_2}^{2} - 2 \\, {\\left({\\mathcal{C}} + 2\\right)} {s_2} + 4}\\)</html>"
      ],
      "text/latex": [
       "$\\displaystyle -\\frac{2 \\, \\left(-1\\right)^{n} {\\mathcal{C}}^{2} {s_2}^{2} \\left(\\frac{{\\left({\\mathcal{C}} - 1\\right)} {s_2} + 2}{{\\left({\\mathcal{C}} + 1\\right)} {s_2} - 2}\\right)^{j}}{{\\left({\\mathcal{C}} + 1\\right)} {s_2}^{2} - 2 \\, {\\left({\\mathcal{C}} + 2\\right)} {s_2} + 4}$"
      ],
      "text/plain": [
       "-2*(-1)^n*C^2*s2^2*(((C - 1)*s2 + 2)/((C + 1)*s2 - 2))^j/((C + 1)*s2^2 - 2*(C + 2)*s2 + 4)"
      ]
     },
     "metadata": {},
     "output_type": "display_data"
    },
    {
     "name": "stdout",
     "output_type": "stream",
     "text": [
      "For m_1 with s2=2\n"
     ]
    },
    {
     "data": {
      "text/html": [
       "<html>\\(\\displaystyle -2 \\, \\left(-1\\right)^{n}\\)</html>"
      ],
      "text/latex": [
       "$\\displaystyle -2 \\, \\left(-1\\right)^{n}$"
      ],
      "text/plain": [
       "-2*(-1)^n"
      ]
     },
     "metadata": {},
     "output_type": "display_data"
    },
    {
     "name": "stdout",
     "output_type": "stream",
     "text": [
      "For m_2 with s2=2\n"
     ]
    },
    {
     "data": {
      "text/html": [
       "<html>\\(\\displaystyle 2 \\, {\\left(2 \\, {\\mathcal{C}} n - 2 \\, {\\mathcal{C}} + 2 \\, j + 1\\right)} \\left(-1\\right)^{n}\\)</html>"
      ],
      "text/latex": [
       "$\\displaystyle 2 \\, {\\left(2 \\, {\\mathcal{C}} n - 2 \\, {\\mathcal{C}} + 2 \\, j + 1\\right)} \\left(-1\\right)^{n}$"
      ],
      "text/plain": [
       "2*(2*C*n - 2*C + 2*j + 1)*(-1)^n"
      ]
     },
     "metadata": {},
     "output_type": "display_data"
    },
    {
     "name": "stdout",
     "output_type": "stream",
     "text": [
      "Kreiss Lopatinskii determinant for ABB with s2=2/(1-C) in (0, 2) at z=-1\n"
     ]
    },
    {
     "data": {
      "text/html": [
       "<html>\\(\\displaystyle 0\\)</html>"
      ],
      "text/latex": [
       "$\\displaystyle 0$"
      ],
      "text/plain": [
       "0"
      ]
     },
     "metadata": {},
     "output_type": "display_data"
    },
    {
     "name": "stdout",
     "output_type": "stream",
     "text": [
      "Boundary matrix on the stable subspace for ABB with s2=2/(1-C) at z=-1 (Taylor expansion)\n",
      "i = 0\n",
      "j = 0\n"
     ]
    },
    {
     "data": {
      "text/html": [
       "<html>\\(\\displaystyle 0\\)</html>"
      ],
      "text/latex": [
       "$\\displaystyle 0$"
      ],
      "text/plain": [
       "0"
      ]
     },
     "metadata": {},
     "output_type": "display_data"
    },
    {
     "name": "stdout",
     "output_type": "stream",
     "text": [
      "j = 1\n"
     ]
    },
    {
     "data": {
      "text/html": [
       "<html>\\(\\displaystyle 0\\)</html>"
      ],
      "text/latex": [
       "$\\displaystyle 0$"
      ],
      "text/plain": [
       "0"
      ]
     },
     "metadata": {},
     "output_type": "display_data"
    },
    {
     "name": "stdout",
     "output_type": "stream",
     "text": [
      "i = 1\n",
      "j = 0\n"
     ]
    },
    {
     "data": {
      "text/html": [
       "<html>\\(\\displaystyle -\\frac{{\\mathcal{C}} - 1}{{\\left({\\mathcal{C}} + 1\\right)} {\\left({z} + 1\\right)}}\\)</html>"
      ],
      "text/latex": [
       "$\\displaystyle -\\frac{{\\mathcal{C}} - 1}{{\\left({\\mathcal{C}} + 1\\right)} {\\left({z} + 1\\right)}}$"
      ],
      "text/plain": [
       "-(C - 1)/((C + 1)*(z + 1))"
      ]
     },
     "metadata": {},
     "output_type": "display_data"
    },
    {
     "name": "stdout",
     "output_type": "stream",
     "text": [
      "j = 1\n"
     ]
    },
    {
     "data": {
      "text/html": [
       "<html>\\(\\displaystyle 0\\)</html>"
      ],
      "text/latex": [
       "$\\displaystyle 0$"
      ],
      "text/plain": [
       "0"
      ]
     },
     "metadata": {},
     "output_type": "display_data"
    },
    {
     "name": "stdout",
     "output_type": "stream",
     "text": [
      "Kreiss Lopatinskii determinant for Two steps ABB with s2=2 at z=-1\n"
     ]
    },
    {
     "data": {
      "text/html": [
       "<html>\\(\\displaystyle 2 \\, {\\mathcal{C}}\\)</html>"
      ],
      "text/latex": [
       "$\\displaystyle 2 \\, {\\mathcal{C}}$"
      ],
      "text/plain": [
       "2*C"
      ]
     },
     "metadata": {},
     "output_type": "display_data"
    },
    {
     "name": "stdout",
     "output_type": "stream",
     "text": [
      "Boundary matrix on the stable subspace for Two steps ABB with s2=2 at z=-1\n"
     ]
    },
    {
     "data": {
      "text/html": [
       "<html>\\(\\displaystyle \\left(\\begin{array}{rr}\n",
       "-1 & -1 \\\\\n",
       "-1 & -2 \\, {\\mathcal{C}} - 1\n",
       "\\end{array}\\right)\\)</html>"
      ],
      "text/latex": [
       "$\\displaystyle \\left(\\begin{array}{rr}\n",
       "-1 & -1 \\\\\n",
       "-1 & -2 \\, {\\mathcal{C}} - 1\n",
       "\\end{array}\\right)$"
      ],
      "text/plain": [
       "[      -1       -1]\n",
       "[      -1 -2*C - 1]"
      ]
     },
     "metadata": {},
     "output_type": "display_data"
    },
    {
     "name": "stdout",
     "output_type": "stream",
     "text": [
      "Kreiss Lopatinskii determinant for Extrapolation sigma = 1  with s2=2 at z=-1\n"
     ]
    },
    {
     "data": {
      "text/html": [
       "<html>\\(\\displaystyle 2 \\, {\\mathcal{C}}\\)</html>"
      ],
      "text/latex": [
       "$\\displaystyle 2 \\, {\\mathcal{C}}$"
      ],
      "text/plain": [
       "2*C"
      ]
     },
     "metadata": {},
     "output_type": "display_data"
    },
    {
     "name": "stdout",
     "output_type": "stream",
     "text": [
      "Boundary matrix on the stable subspace for Extrapolation sigma = 1  with s2=2 at z=-1\n"
     ]
    },
    {
     "data": {
      "text/html": [
       "<html>\\(\\displaystyle \\left(\\begin{array}{rr}\n",
       "-1 & -1 \\\\\n",
       "-1 & -2 \\, {\\mathcal{C}} - 1\n",
       "\\end{array}\\right)\\)</html>"
      ],
      "text/latex": [
       "$\\displaystyle \\left(\\begin{array}{rr}\n",
       "-1 & -1 \\\\\n",
       "-1 & -2 \\, {\\mathcal{C}} - 1\n",
       "\\end{array}\\right)$"
      ],
      "text/plain": [
       "[      -1       -1]\n",
       "[      -1 -2*C - 1]"
      ]
     },
     "metadata": {},
     "output_type": "display_data"
    },
    {
     "name": "stdout",
     "output_type": "stream",
     "text": [
      "Computation of the long-time solution with residues\n",
      "For m_1 with s2=2\n"
     ]
    },
    {
     "data": {
      "text/html": [
       "<html>\\(\\displaystyle 0\\)</html>"
      ],
      "text/latex": [
       "$\\displaystyle 0$"
      ],
      "text/plain": [
       "0"
      ]
     },
     "metadata": {},
     "output_type": "display_data"
    },
    {
     "name": "stdout",
     "output_type": "stream",
     "text": [
      "For m_2 with s2=2\n"
     ]
    },
    {
     "data": {
      "text/html": [
       "<html>\\(\\displaystyle 2 \\, \\left(-1\\right)^{n} {\\mathcal{C}}\\)</html>"
      ],
      "text/latex": [
       "$\\displaystyle 2 \\, \\left(-1\\right)^{n} {\\mathcal{C}}$"
      ],
      "text/plain": [
       "2*(-1)^n*C"
      ]
     },
     "metadata": {},
     "output_type": "display_data"
    },
    {
     "name": "stdout",
     "output_type": "stream",
     "text": [
      "Kreiss Lopatinskii determinant for Extrapolation sigma = 2  with s2=2 at z=-1 (Taylor)\n"
     ]
    },
    {
     "data": {
      "text/html": [
       "<html>\\(\\displaystyle -\\frac{{\\left(2 \\, {\\mathcal{C}} + 1\\right)} {\\left({z} + 1\\right)}^{2}}{{\\mathcal{C}}} + 2 \\, {z} + 2\\)</html>"
      ],
      "text/latex": [
       "$\\displaystyle -\\frac{{\\left(2 \\, {\\mathcal{C}} + 1\\right)} {\\left({z} + 1\\right)}^{2}}{{\\mathcal{C}}} + 2 \\, {z} + 2$"
      ],
      "text/plain": [
       "-(2*C + 1)*(z + 1)^2/C + 2*z + 2"
      ]
     },
     "metadata": {},
     "output_type": "display_data"
    },
    {
     "name": "stdout",
     "output_type": "stream",
     "text": [
      "Inverse of the boundary matrix on the stable subspace for Extrapolation sigma = 2  with s2=2 at z=-1 (Taylor)\n",
      "i = 0\n",
      "j = 0\n"
     ]
    },
    {
     "data": {
      "text/html": [
       "<html>\\(\\displaystyle -\\frac{2 \\, {\\mathcal{C}} + 1}{4 \\, {\\mathcal{C}}} - \\frac{2 \\, {\\mathcal{C}} + 1}{2 \\, {\\left({z} + 1\\right)}}\\)</html>"
      ],
      "text/latex": [
       "$\\displaystyle -\\frac{2 \\, {\\mathcal{C}} + 1}{4 \\, {\\mathcal{C}}} - \\frac{2 \\, {\\mathcal{C}} + 1}{2 \\, {\\left({z} + 1\\right)}}$"
      ],
      "text/plain": [
       "-1/4*(2*C + 1)/C - 1/2*(2*C + 1)/(z + 1)"
      ]
     },
     "metadata": {},
     "output_type": "display_data"
    },
    {
     "name": "stdout",
     "output_type": "stream",
     "text": [
      "j = 1\n"
     ]
    },
    {
     "data": {
      "text/html": [
       "<html>\\(\\displaystyle \\frac{1}{4 \\, {\\mathcal{C}}} + \\frac{1}{2 \\, {\\left({z} + 1\\right)}}\\)</html>"
      ],
      "text/latex": [
       "$\\displaystyle \\frac{1}{4 \\, {\\mathcal{C}}} + \\frac{1}{2 \\, {\\left({z} + 1\\right)}}$"
      ],
      "text/plain": [
       "1/4/C + 1/2/(z + 1)"
      ]
     },
     "metadata": {},
     "output_type": "display_data"
    },
    {
     "name": "stdout",
     "output_type": "stream",
     "text": [
      "i = 1\n",
      "j = 0\n"
     ]
    },
    {
     "data": {
      "text/html": [
       "<html>\\(\\displaystyle \\frac{1}{2 \\, {\\mathcal{C}}}\\)</html>"
      ],
      "text/latex": [
       "$\\displaystyle \\frac{1}{2 \\, {\\mathcal{C}}}$"
      ],
      "text/plain": [
       "1/2/C"
      ]
     },
     "metadata": {},
     "output_type": "display_data"
    },
    {
     "name": "stdout",
     "output_type": "stream",
     "text": [
      "j = 1\n"
     ]
    },
    {
     "data": {
      "text/html": [
       "<html>\\(\\displaystyle -\\frac{1}{2 \\, {\\mathcal{C}}}\\)</html>"
      ],
      "text/latex": [
       "$\\displaystyle -\\frac{1}{2 \\, {\\mathcal{C}}}$"
      ],
      "text/plain": [
       "-1/2/C"
      ]
     },
     "metadata": {},
     "output_type": "display_data"
    },
    {
     "name": "stdout",
     "output_type": "stream",
     "text": [
      "Computation of the long-time solution with residues\n",
      "For m_1 with s2=2\n"
     ]
    },
    {
     "data": {
      "text/html": [
       "<html>\\(\\displaystyle \\left(-1\\right)^{n} {\\mathcal{C}}\\)</html>"
      ],
      "text/latex": [
       "$\\displaystyle \\left(-1\\right)^{n} {\\mathcal{C}}$"
      ],
      "text/plain": [
       "(-1)^n*C"
      ]
     },
     "metadata": {},
     "output_type": "display_data"
    },
    {
     "name": "stdout",
     "output_type": "stream",
     "text": [
      "For m_2 with s2=2\n"
     ]
    },
    {
     "data": {
      "text/html": [
       "<html>\\(\\displaystyle -{\\left(2 \\, {\\mathcal{C}} n - 2 \\, {\\mathcal{C}} + 2 \\, j - 1\\right)} \\left(-1\\right)^{n} {\\mathcal{C}}\\)</html>"
      ],
      "text/latex": [
       "$\\displaystyle -{\\left(2 \\, {\\mathcal{C}} n - 2 \\, {\\mathcal{C}} + 2 \\, j - 1\\right)} \\left(-1\\right)^{n} {\\mathcal{C}}$"
      ],
      "text/plain": [
       "-(2*C*n - 2*C + 2*j - 1)*(-1)^n*C"
      ]
     },
     "metadata": {},
     "output_type": "display_data"
    },
    {
     "name": "stdout",
     "output_type": "stream",
     "text": [
      "Kreiss Lopatinskii determinant for Extrapolation sigma = 3  with s2=2 at z=-1 (Taylor)\n"
     ]
    },
    {
     "data": {
      "text/html": [
       "<html>\\(\\displaystyle \\frac{2 \\, {\\left({z} + 1\\right)}^{2}}{{\\mathcal{C}}}\\)</html>"
      ],
      "text/latex": [
       "$\\displaystyle \\frac{2 \\, {\\left({z} + 1\\right)}^{2}}{{\\mathcal{C}}}$"
      ],
      "text/plain": [
       "2*(z + 1)^2/C"
      ]
     },
     "metadata": {},
     "output_type": "display_data"
    },
    {
     "name": "stdout",
     "output_type": "stream",
     "text": [
      "Inverse of the boundary matrix on the stable subspace for Extrapolation sigma = 3  with s2=2 at z=-1 (Taylor)\n",
      "i = 0\n",
      "j = 0\n"
     ]
    },
    {
     "data": {
      "text/html": [
       "<html>\\(\\displaystyle \\frac{4 \\, {\\mathcal{C}}^{3} - 7 \\, {\\mathcal{C}} - 3}{8 \\, {\\mathcal{C}}} + \\frac{2 \\, {\\mathcal{C}}^{2} - 3 \\, {\\mathcal{C}} - 2}{4 \\, {\\left({z} + 1\\right)}} - \\frac{2 \\, {\\mathcal{C}}^{2} + {\\mathcal{C}}}{2 \\, {\\left({z} + 1\\right)}^{2}}\\)</html>"
      ],
      "text/latex": [
       "$\\displaystyle \\frac{4 \\, {\\mathcal{C}}^{3} - 7 \\, {\\mathcal{C}} - 3}{8 \\, {\\mathcal{C}}} + \\frac{2 \\, {\\mathcal{C}}^{2} - 3 \\, {\\mathcal{C}} - 2}{4 \\, {\\left({z} + 1\\right)}} - \\frac{2 \\, {\\mathcal{C}}^{2} + {\\mathcal{C}}}{2 \\, {\\left({z} + 1\\right)}^{2}}$"
      ],
      "text/plain": [
       "1/8*(4*C^3 - 7*C - 3)/C + 1/4*(2*C^2 - 3*C - 2)/(z + 1) - 1/2*(2*C^2 + C)/(z + 1)^2"
      ]
     },
     "metadata": {},
     "output_type": "display_data"
    },
    {
     "name": "stdout",
     "output_type": "stream",
     "text": [
      "j = 1\n"
     ]
    },
    {
     "data": {
      "text/html": [
       "<html>\\(\\displaystyle -\\frac{2 \\, {\\mathcal{C}}^{2} - {\\mathcal{C}} - 3}{8 \\, {\\mathcal{C}}} - \\frac{{\\mathcal{C}} - 2}{4 \\, {\\left({z} + 1\\right)}} + \\frac{{\\mathcal{C}}}{2 \\, {\\left({z} + 1\\right)}^{2}}\\)</html>"
      ],
      "text/latex": [
       "$\\displaystyle -\\frac{2 \\, {\\mathcal{C}}^{2} - {\\mathcal{C}} - 3}{8 \\, {\\mathcal{C}}} - \\frac{{\\mathcal{C}} - 2}{4 \\, {\\left({z} + 1\\right)}} + \\frac{{\\mathcal{C}}}{2 \\, {\\left({z} + 1\\right)}^{2}}$"
      ],
      "text/plain": [
       "-1/8*(2*C^2 - C - 3)/C - 1/4*(C - 2)/(z + 1) + 1/2*C/(z + 1)^2"
      ]
     },
     "metadata": {},
     "output_type": "display_data"
    },
    {
     "name": "stdout",
     "output_type": "stream",
     "text": [
      "i = 1\n",
      "j = 0\n"
     ]
    },
    {
     "data": {
      "text/html": [
       "<html>\\(\\displaystyle \\frac{1}{2 \\, {\\mathcal{C}}}\\)</html>"
      ],
      "text/latex": [
       "$\\displaystyle \\frac{1}{2 \\, {\\mathcal{C}}}$"
      ],
      "text/plain": [
       "1/2/C"
      ]
     },
     "metadata": {},
     "output_type": "display_data"
    },
    {
     "name": "stdout",
     "output_type": "stream",
     "text": [
      "j = 1\n"
     ]
    },
    {
     "data": {
      "text/html": [
       "<html>\\(\\displaystyle -\\frac{1}{2 \\, {\\mathcal{C}}}\\)</html>"
      ],
      "text/latex": [
       "$\\displaystyle -\\frac{1}{2 \\, {\\mathcal{C}}}$"
      ],
      "text/plain": [
       "-1/2/C"
      ]
     },
     "metadata": {},
     "output_type": "display_data"
    },
    {
     "name": "stdout",
     "output_type": "stream",
     "text": [
      "Computation of the long-time solution with residues\n",
      "For m_1 with s2=2\n"
     ]
    },
    {
     "data": {
      "text/html": [
       "<html>\\(\\displaystyle -\\frac{1}{2} \\, {\\left(2 \\, {\\mathcal{C}}^{2} n - {\\mathcal{C}}^{2} + 2 \\, {\\mathcal{C}} j - 2 \\, {\\mathcal{C}}\\right)} \\left(-1\\right)^{n}\\)</html>"
      ],
      "text/latex": [
       "$\\displaystyle -\\frac{1}{2} \\, {\\left(2 \\, {\\mathcal{C}}^{2} n - {\\mathcal{C}}^{2} + 2 \\, {\\mathcal{C}} j - 2 \\, {\\mathcal{C}}\\right)} \\left(-1\\right)^{n}$"
      ],
      "text/plain": [
       "-1/2*(2*C^2*n - C^2 + 2*C*j - 2*C)*(-1)^n"
      ]
     },
     "metadata": {},
     "output_type": "display_data"
    },
    {
     "name": "stdout",
     "output_type": "stream",
     "text": [
      "For m_2 with s2=2\n"
     ]
    },
    {
     "data": {
      "text/html": [
       "<html>\\(\\displaystyle \\frac{1}{2} \\, {\\left(2 \\, {\\mathcal{C}}^{2} n^{2} - 4 \\, {\\mathcal{C}}^{2} n + 4 \\, {\\mathcal{C}} j n - 4 \\, {\\mathcal{C}} j + 2 \\, j^{2} - 4 \\, {\\mathcal{C}} n + 5 \\, {\\mathcal{C}} - 4 \\, j + 4\\right)} \\left(-1\\right)^{n} {\\mathcal{C}}\\)</html>"
      ],
      "text/latex": [
       "$\\displaystyle \\frac{1}{2} \\, {\\left(2 \\, {\\mathcal{C}}^{2} n^{2} - 4 \\, {\\mathcal{C}}^{2} n + 4 \\, {\\mathcal{C}} j n - 4 \\, {\\mathcal{C}} j + 2 \\, j^{2} - 4 \\, {\\mathcal{C}} n + 5 \\, {\\mathcal{C}} - 4 \\, j + 4\\right)} \\left(-1\\right)^{n} {\\mathcal{C}}$"
      ],
      "text/plain": [
       "1/2*(2*C^2*n^2 - 4*C^2*n + 4*C*j*n - 4*C*j + 2*j^2 - 4*C*n + 5*C - 4*j + 4)*(-1)^n*C"
      ]
     },
     "metadata": {},
     "output_type": "display_data"
    },
    {
     "name": "stdout",
     "output_type": "stream",
     "text": [
      "Kreiss Lopatinskii determinant for Extrapolation sigma = 4  with s2=2 at z=-1 (Taylor)\n"
     ]
    },
    {
     "data": {
      "text/html": [
       "<html>\\(\\displaystyle 0\\)</html>"
      ],
      "text/latex": [
       "$\\displaystyle 0$"
      ],
      "text/plain": [
       "0"
      ]
     },
     "metadata": {},
     "output_type": "display_data"
    },
    {
     "name": "stdout",
     "output_type": "stream",
     "text": [
      "Inverse of the boundary matrix on the stable subspace for Extrapolation sigma = 4  with s2=2 at z=-1 (Taylor)\n",
      "i = 0\n",
      "j = 0\n"
     ]
    },
    {
     "data": {
      "text/html": [
       "<html>\\(\\displaystyle \\frac{12 \\, {\\mathcal{C}}^{3} - 17 \\, {\\mathcal{C}} - 7}{16 \\, {\\mathcal{C}}} + \\frac{2 \\, {\\mathcal{C}}^{3} + 3 \\, {\\mathcal{C}}^{2} - 5 \\, {\\mathcal{C}} - 3}{4 \\, {\\left({z} + 1\\right)}} + \\frac{4 \\, {\\mathcal{C}}^{3} - 4 \\, {\\mathcal{C}}^{2} - 3 \\, {\\mathcal{C}}}{4 \\, {\\left({z} + 1\\right)}^{2}} - \\frac{2 \\, {\\mathcal{C}}^{3} + {\\mathcal{C}}^{2}}{2 \\, {\\left({z} + 1\\right)}^{3}}\\)</html>"
      ],
      "text/latex": [
       "$\\displaystyle \\frac{12 \\, {\\mathcal{C}}^{3} - 17 \\, {\\mathcal{C}} - 7}{16 \\, {\\mathcal{C}}} + \\frac{2 \\, {\\mathcal{C}}^{3} + 3 \\, {\\mathcal{C}}^{2} - 5 \\, {\\mathcal{C}} - 3}{4 \\, {\\left({z} + 1\\right)}} + \\frac{4 \\, {\\mathcal{C}}^{3} - 4 \\, {\\mathcal{C}}^{2} - 3 \\, {\\mathcal{C}}}{4 \\, {\\left({z} + 1\\right)}^{2}} - \\frac{2 \\, {\\mathcal{C}}^{3} + {\\mathcal{C}}^{2}}{2 \\, {\\left({z} + 1\\right)}^{3}}$"
      ],
      "text/plain": [
       "1/16*(12*C^3 - 17*C - 7)/C + 1/4*(2*C^3 + 3*C^2 - 5*C - 3)/(z + 1) + 1/4*(4*C^3 - 4*C^2 - 3*C)/(z + 1)^2 - 1/2*(2*C^3 + C^2)/(z + 1)^3"
      ]
     },
     "metadata": {},
     "output_type": "display_data"
    },
    {
     "name": "stdout",
     "output_type": "stream",
     "text": [
      "j = 1\n"
     ]
    },
    {
     "data": {
      "text/html": [
       "<html>\\(\\displaystyle -\\frac{6 \\, {\\mathcal{C}}^{2} - 3 \\, {\\mathcal{C}} - 7}{16 \\, {\\mathcal{C}}} - \\frac{{\\mathcal{C}}^{2} + {\\mathcal{C}} - 3}{4 \\, {\\left({z} + 1\\right)}} + \\frac{{\\mathcal{C}}^{2}}{2 \\, {\\left({z} + 1\\right)}^{3}} - \\frac{2 \\, {\\mathcal{C}}^{2} - 3 \\, {\\mathcal{C}}}{4 \\, {\\left({z} + 1\\right)}^{2}}\\)</html>"
      ],
      "text/latex": [
       "$\\displaystyle -\\frac{6 \\, {\\mathcal{C}}^{2} - 3 \\, {\\mathcal{C}} - 7}{16 \\, {\\mathcal{C}}} - \\frac{{\\mathcal{C}}^{2} + {\\mathcal{C}} - 3}{4 \\, {\\left({z} + 1\\right)}} + \\frac{{\\mathcal{C}}^{2}}{2 \\, {\\left({z} + 1\\right)}^{3}} - \\frac{2 \\, {\\mathcal{C}}^{2} - 3 \\, {\\mathcal{C}}}{4 \\, {\\left({z} + 1\\right)}^{2}}$"
      ],
      "text/plain": [
       "-1/16*(6*C^2 - 3*C - 7)/C - 1/4*(C^2 + C - 3)/(z + 1) + 1/2*C^2/(z + 1)^3 - 1/4*(2*C^2 - 3*C)/(z + 1)^2"
      ]
     },
     "metadata": {},
     "output_type": "display_data"
    },
    {
     "name": "stdout",
     "output_type": "stream",
     "text": [
      "i = 1\n",
      "j = 0\n"
     ]
    },
    {
     "data": {
      "text/html": [
       "<html>\\(\\displaystyle \\frac{1}{2 \\, {\\mathcal{C}}}\\)</html>"
      ],
      "text/latex": [
       "$\\displaystyle \\frac{1}{2 \\, {\\mathcal{C}}}$"
      ],
      "text/plain": [
       "1/2/C"
      ]
     },
     "metadata": {},
     "output_type": "display_data"
    },
    {
     "name": "stdout",
     "output_type": "stream",
     "text": [
      "j = 1\n"
     ]
    },
    {
     "data": {
      "text/html": [
       "<html>\\(\\displaystyle -\\frac{1}{2 \\, {\\mathcal{C}}}\\)</html>"
      ],
      "text/latex": [
       "$\\displaystyle -\\frac{1}{2 \\, {\\mathcal{C}}}$"
      ],
      "text/plain": [
       "-1/2/C"
      ]
     },
     "metadata": {},
     "output_type": "display_data"
    },
    {
     "name": "stdout",
     "output_type": "stream",
     "text": [
      "Computation of the long-time solution with residues\n",
      "For m_1 with s2=2\n"
     ]
    },
    {
     "data": {
      "text/html": [
       "<html>\\(\\displaystyle \\frac{1}{2} \\, {\\left({\\mathcal{C}}^{3} n^{2} - {\\mathcal{C}}^{3} + {\\mathcal{C}} j^{2} + 2 \\, {\\mathcal{C}}^{2} - {\\left({\\mathcal{C}}^{2} + 3 \\, {\\mathcal{C}}\\right)} j - {\\left({\\mathcal{C}}^{3} - 2 \\, {\\mathcal{C}}^{2} j + 3 \\, {\\mathcal{C}}^{2}\\right)} n + 3 \\, {\\mathcal{C}}\\right)} \\left(-1\\right)^{n}\\)</html>"
      ],
      "text/latex": [
       "$\\displaystyle \\frac{1}{2} \\, {\\left({\\mathcal{C}}^{3} n^{2} - {\\mathcal{C}}^{3} + {\\mathcal{C}} j^{2} + 2 \\, {\\mathcal{C}}^{2} - {\\left({\\mathcal{C}}^{2} + 3 \\, {\\mathcal{C}}\\right)} j - {\\left({\\mathcal{C}}^{3} - 2 \\, {\\mathcal{C}}^{2} j + 3 \\, {\\mathcal{C}}^{2}\\right)} n + 3 \\, {\\mathcal{C}}\\right)} \\left(-1\\right)^{n}$"
      ],
      "text/plain": [
       "1/2*(C^3*n^2 - C^3 + C*j^2 + 2*C^2 - (C^2 + 3*C)*j - (C^3 - 2*C^2*j + 3*C^2)*n + 3*C)*(-1)^n"
      ]
     },
     "metadata": {},
     "output_type": "display_data"
    },
    {
     "name": "stdout",
     "output_type": "stream",
     "text": [
      "For m_2 with s2=2\n"
     ]
    },
    {
     "data": {
      "text/html": [
       "<html>\\(\\displaystyle -\\frac{1}{6} \\, {\\left(2 \\, {\\mathcal{C}}^{3} n^{3} - 6 \\, {\\mathcal{C}}^{3} n^{2} + 6 \\, {\\mathcal{C}}^{2} j n^{2} - 2 \\, {\\mathcal{C}}^{3} n - 12 \\, {\\mathcal{C}}^{2} j n + 6 \\, {\\mathcal{C}} j^{2} n - 9 \\, {\\mathcal{C}}^{2} n^{2} + 6 \\, {\\mathcal{C}}^{3} - 6 \\, {\\mathcal{C}} j^{2} + 2 \\, j^{3} + 21 \\, {\\mathcal{C}}^{2} n - 18 \\, {\\mathcal{C}} j n - 3 \\, {\\mathcal{C}}^{2} + 21 \\, {\\mathcal{C}} j - 9 \\, j^{2} + 21 \\, {\\mathcal{C}} n - 24 \\, {\\mathcal{C}} + 19 \\, j - 15\\right)} \\left(-1\\right)^{n} {\\mathcal{C}}\\)</html>"
      ],
      "text/latex": [
       "$\\displaystyle -\\frac{1}{6} \\, {\\left(2 \\, {\\mathcal{C}}^{3} n^{3} - 6 \\, {\\mathcal{C}}^{3} n^{2} + 6 \\, {\\mathcal{C}}^{2} j n^{2} - 2 \\, {\\mathcal{C}}^{3} n - 12 \\, {\\mathcal{C}}^{2} j n + 6 \\, {\\mathcal{C}} j^{2} n - 9 \\, {\\mathcal{C}}^{2} n^{2} + 6 \\, {\\mathcal{C}}^{3} - 6 \\, {\\mathcal{C}} j^{2} + 2 \\, j^{3} + 21 \\, {\\mathcal{C}}^{2} n - 18 \\, {\\mathcal{C}} j n - 3 \\, {\\mathcal{C}}^{2} + 21 \\, {\\mathcal{C}} j - 9 \\, j^{2} + 21 \\, {\\mathcal{C}} n - 24 \\, {\\mathcal{C}} + 19 \\, j - 15\\right)} \\left(-1\\right)^{n} {\\mathcal{C}}$"
      ],
      "text/plain": [
       "-1/6*(2*C^3*n^3 - 6*C^3*n^2 + 6*C^2*j*n^2 - 2*C^3*n - 12*C^2*j*n + 6*C*j^2*n - 9*C^2*n^2 + 6*C^3 - 6*C*j^2 + 2*j^3 + 21*C^2*n - 18*C*j*n - 3*C^2 + 21*C*j - 9*j^2 + 21*C*n - 24*C + 19*j - 15)*(-1)^n*C"
      ]
     },
     "metadata": {},
     "output_type": "display_data"
    }
   ],
   "source": [
    "#### Critical points (-1, -Pi) and (1, Pi) --- For C<0\n",
    "assume(C<0)\n",
    "print(\"Value of kminus at z=-1\")\n",
    "pretty_print(kminus.subs(z==-1).full_simplify())\n",
    "print(\"Value of kplus at z=-1\")\n",
    "pretty_print(kplus.subs(z==-1).full_simplify())\n",
    "print(\"Value of kminus at z=1\")\n",
    "pretty_print(kminus.subs(z==1).full_simplify())\n",
    "print(\"Value of kplus at z=1\")\n",
    "pretty_print(kplus.subs(z==1).full_simplify())\n",
    "\n",
    "print(\"Value of Pi\")\n",
    "pretty_print(Pi)\n",
    "\n",
    "ks = kplus.full_simplify()\n",
    "\n",
    "LzOnStable = Lz.subs(k==ks) ### This is the matrix polynomial where k is replaced by ks (stable root)\n",
    "for i in range(q):\n",
    "    for j in range(q):\n",
    "        LzOnStable[i, j] = LzOnStable[i, j].full_simplify()\n",
    "        \n",
    "#pretty_print(LzOnStable.transpose().kernel()) #### This is the stable eigenvalue phi_s\n",
    "phiS = matrix([[LzOnStable.transpose().kernel().basis()[0][0]], \\\n",
    "               [LzOnStable.transpose().kernel().basis()[0][1].full_simplify()]])\n",
    "\n",
    "#### Structure of the eigenvector close to the critical points\n",
    "print('Expansion of the second component of phiS around z = -1 as s2 != 2')\n",
    "pretty_print(taylor(phiS[1][0], z, -1, 1))\n",
    "print('Expansion of the second component of phiS around z = -1 as s2 = 2')\n",
    "pretty_print(taylor(phiS[1][0].subs(s2=2), z, -1, 1))\n",
    "print('Expansion of the second component of phiS around z = 1 as s2 != 2')\n",
    "pretty_print(taylor(phiS[1][0], z, 1, 1))\n",
    "print('Expansion of the second component of phiS around z = 1 as s2 = 2')\n",
    "pretty_print(taylor(phiS[1][0].subs(s2=2), z, 1, 1))\n",
    "\n",
    "#### We construct the eigenvector of k = 0\n",
    "phi0 = matrix([[ (s2-1)*Lz.subs(k==0).transpose().kernel().basis()[0][0]], \\\n",
    "               [((s2-1)*Lz.subs(k==0).transpose().kernel().basis()[0][1]).full_simplify()]])\n",
    "\n",
    "#### We start analyzing critical points and Kreiss Lopatinskii determinants\n",
    "#### (-1, -Pi)\n",
    "\n",
    "\n",
    "bd00  = matrix(SR, q, q)\n",
    "bd01 = matrix(SR, q, q)\n",
    "bd02 = matrix(SR, q, q)\n",
    "bd03 = matrix(SR, q, q)\n",
    "Bs = matrix(SR, q, q) #### Boundary matrix on the stable subspace\n",
    "\n",
    "#### Bounce back for s_2 = 2\n",
    "for i in range(q):\n",
    "    for j in range(q):\n",
    "        bd00[i, j] = bdMat_BB[i, j].subs(s2==2).full_simplify().collect(k).coefficient(k, 0)\n",
    "        bd01[i, j] = bdMat_BB[i, j].subs(s2==2).full_simplify().collect(k).coefficient(k, 1)\n",
    "        \n",
    "Bs[:, 0] = (bd00 + bd01*ks.subs(s2==2))*phiS.subs(s2==2) ### First column\n",
    "Bs[:, 1] = (bd00)*phi0.subs(s2==2) ### Second column\n",
    "\n",
    "for i in range(q):\n",
    "    for j in range(q):\n",
    "        Bs[i, j] = Bs[i, j].full_simplify()\n",
    "KLDet = Bs.determinant().full_simplify()\n",
    "\n",
    "print(\"Kreiss Lopatinskii determinant for BB with s2=2 at z=-1 (Taylor expansion)\")\n",
    "pretty_print(taylor(KLDet, z, -1, -1))\n",
    "\n",
    "\n",
    "#### Anti-bounce back for s_2 in (0, 2)\n",
    "for i in range(q):\n",
    "    for j in range(q):\n",
    "        bd00[i, j] = bdMat_ABB[i, j].full_simplify().collect(k).coefficient(k, 0)\n",
    "        bd01[i, j] = bdMat_ABB[i, j].full_simplify().collect(k).coefficient(k, 1)\n",
    "        \n",
    "Bs[:, 0] = (bd00 + bd01*ks)*phiS ### First column\n",
    "Bs[:, 1] = (bd00)*phi0 ### Second column\n",
    "\n",
    "for i in range(q):\n",
    "    for j in range(q):\n",
    "        Bs[i, j] = Bs[i, j].full_simplify()\n",
    "KLDet = Bs.determinant().full_simplify()\n",
    "\n",
    "print(\"Kreiss Lopatinskii determinant for ABB with s2 in (0, 2) at z=-1\")\n",
    "pretty_print(KLDet.subs(z==-1).full_simplify())\n",
    "print(\"Boundary matrix on the stable subspace for ABB with s2 in (0, 2) at z=-1 (Taylor expansion)\")\n",
    "KLAdjugate = Bs.adjugate()\n",
    "for i in range(q):\n",
    "    print('i = '+str(i))\n",
    "    for j in range(q):\n",
    "        print('j = '+str(j))\n",
    "        pretty_print(taylor(KLAdjugate[i, j]/KLDet, z, -1, -1))\n",
    "        \n",
    "print(\"Computation of the long-time solution with residues\")\n",
    "g0Tilde = matrix([[1], [1]])\n",
    "var('n') ### Time index\n",
    "var('j') ### Space index\n",
    "print('For m_1 with s2 in (0, 2)')\n",
    "pretty_print(((KLAdjugate/KLDet*g0Tilde)[0][0]*phiS[0][0]*z**(n-1)*ks**(j)).maxima_methods().residue(z,-1).full_simplify())       \n",
    "print('For m_2 with s2 in (0, 2)')\n",
    "pretty_print(((KLAdjugate/KLDet*g0Tilde)[0][0]*phiS[1][0]*z**(n-1)*ks**(j)).maxima_methods().residue(z,-1).full_simplify())\n",
    "print('For m_1 with s2=2')\n",
    "pretty_print(((KLAdjugate/KLDet*g0Tilde)[0][0]*phiS[0][0]*z**(n-1)*ks**(j)).subs(s2==2).maxima_methods().residue(z,-1).full_simplify())       \n",
    "print('For m_2 with s2=2')\n",
    "pretty_print(((KLAdjugate/KLDet*g0Tilde)[0][0]*phiS[1][0]*z**(n-1)*ks**(j)).subs(s2==2).maxima_methods().residue(z,-1).full_simplify())\n",
    "      \n",
    "    \n",
    "#print('For m_1 with s2 in (0, 2)')\n",
    "#print(latex(((KLAdjugate/KLDet*g0Tilde)[0][0]*phiS[0][0]*z**(n-1)*ks**(j)).maxima_methods().residue(z,-1).full_simplify()))       \n",
    "#print('For m_2 with s2 in (0, 2)')\n",
    "#print(latex(((KLAdjugate/KLDet*g0Tilde)[0][0]*phiS[1][0]*z**(n-1)*ks**(j)).maxima_methods().residue(z,-1).full_simplify()))\n",
    "#print('For m_1 with s2=2')\n",
    "#print(latex(((KLAdjugate/KLDet*g0Tilde)[0][0]*phiS[0][0]*z**(n-1)*ks**(j)).subs(s2==2).maxima_methods().residue(z,-1).full_simplify()))       \n",
    "#print('For m_2 with s2=2')\n",
    "#print(latex(((KLAdjugate/KLDet*g0Tilde)[0][0]*phiS[1][0]*z**(n-1)*ks**(j)).subs(s2==2).maxima_methods().residue(z,-1).full_simplify()))\n",
    "       \n",
    "#### Anti-bounce back for s_2=2/(1-C)\n",
    "phi0Tilde = matrix([[1], [1-2*z]])\n",
    "for i in range(q):\n",
    "    for j in range(q):\n",
    "        bd00[i, j] = bdMat_ABB[i, j].subs(s2==2/(1-C)).full_simplify().collect(k).coefficient(k, 0)\n",
    "        bd01[i, j] = bdMat_ABB[i, j].subs(s2==2/(1-C)).full_simplify().collect(k).coefficient(k, 1)\n",
    "        \n",
    "Bs[:, 0] = (bd00)*phi0Tilde + bd01*phi0.subs(s2==2/(1-C)) ### First column\n",
    "Bs[:, 1] = (bd00)*phi0.subs(s2==2/(1-C)) ### Second column\n",
    "\n",
    "for i in range(q):\n",
    "    for j in range(q):\n",
    "        Bs[i, j] = Bs[i, j].full_simplify()\n",
    "KLDet = Bs.determinant().full_simplify()\n",
    "\n",
    "print(\"Kreiss Lopatinskii determinant for ABB with s2=2/(1-C) in (0, 2) at z=-1\")\n",
    "pretty_print(KLDet.subs(z==-1).full_simplify())\n",
    "print(\"Boundary matrix on the stable subspace for ABB with s2=2/(1-C) at z=-1 (Taylor expansion)\")\n",
    "KLAdjugate = Bs.adjugate()\n",
    "for i in range(q):\n",
    "    print('i = '+str(i))\n",
    "    for j in range(q):\n",
    "        print('j = '+str(j))\n",
    "        pretty_print(taylor(KLAdjugate[i, j]/KLDet, z, -1, -1))\n",
    "\n",
    "        \n",
    "#### Two steps anti Bounce back for s_2 = 2\n",
    "for i in range(q):\n",
    "    for j in range(q):\n",
    "        bd00[i, j] = bdMat_TwoABB[i, j].subs(s2==2).full_simplify().collect(k).coefficient(k, 0)\n",
    "        bd01[i, j] = bdMat_TwoABB[i, j].subs(s2==2).full_simplify().collect(k).coefficient(k, 1)\n",
    "        \n",
    "Bs[:, 0] = (bd00 + bd01*ks.subs(s2==2))*phiS.subs(s2==2) ### First column\n",
    "Bs[:, 1] = (bd00)*phi0.subs(s2==2) ### Second column\n",
    "\n",
    "for i in range(q):\n",
    "    for j in range(q):\n",
    "        Bs[i, j] = Bs[i, j].full_simplify()\n",
    "KLDet = Bs.determinant().full_simplify()\n",
    "\n",
    "print(\"Kreiss Lopatinskii determinant for Two steps ABB with s2=2 at z=-1\")\n",
    "pretty_print(KLDet.subs(z==-1))\n",
    "print(\"Boundary matrix on the stable subspace for Two steps ABB with s2=2 at z=-1\")\n",
    "pretty_print(Bs.subs(z==-1))\n",
    "\n",
    "\n",
    "#### Extrapolation sigma = 1 for s_2 = 2\n",
    "for i in range(q):\n",
    "    for j in range(q):\n",
    "        bd00[i, j] = bdMat_sigma1[i, j].subs(s2==2).full_simplify().collect(k).coefficient(k, 0)\n",
    "        bd01[i, j] = bdMat_sigma1[i, j].subs(s2==2).full_simplify().collect(k).coefficient(k, 1)\n",
    "        \n",
    "Bs[:, 0] = (bd00 + bd01*ks.subs(s2==2))*phiS.subs(s2==2) ### First column\n",
    "Bs[:, 1] = (bd00)*phi0.subs(s2==2) ### Second column\n",
    "\n",
    "for i in range(q):\n",
    "    for j in range(q):\n",
    "        Bs[i, j] = Bs[i, j].full_simplify()\n",
    "KLDet = Bs.determinant().full_simplify()\n",
    "\n",
    "print(\"Kreiss Lopatinskii determinant for Extrapolation sigma = 1  with s2=2 at z=-1\")\n",
    "pretty_print(KLDet.subs(z==-1))\n",
    "print(\"Boundary matrix on the stable subspace for Extrapolation sigma = 1  with s2=2 at z=-1\")\n",
    "pretty_print(Bs.subs(z==-1).simplify_full())\n",
    "\n",
    "print(\"Computation of the long-time solution with residues\")\n",
    "g0Tilde = matrix([[1], [1]])\n",
    "var('n') ### Time index\n",
    "var('j') ### Space index\n",
    "print('For m_1 with s2=2')\n",
    "pretty_print(((Bs.inverse()*g0Tilde)[0][0]*phiS[0][0]*z**(n-1)*ks**(j)).subs(s2==2).maxima_methods().residue(z,-1).full_simplify())       \n",
    "print('For m_2 with s2=2')\n",
    "pretty_print(((Bs.inverse()*g0Tilde)[0][0]*phiS[1][0]*z**(n-1)*ks**(j)).subs(s2==2).maxima_methods().residue(z,-1).full_simplify())\n",
    "      \n",
    "    \n",
    "#### Extrapolation sigma = 2 for s_2 = 2\n",
    "for i in range(q):\n",
    "    for j in range(q):\n",
    "        bd00[i, j] = bdMat_sigma2[i, j].subs(s2==2).full_simplify().collect(k).coefficient(k, 0)\n",
    "        bd01[i, j] = bdMat_sigma2[i, j].subs(s2==2).full_simplify().collect(k).coefficient(k, 1)\n",
    "        bd02[i, j] = bdMat_sigma2[i, j].subs(s2==2).full_simplify().collect(k).coefficient(k, 2)\n",
    "        \n",
    "Bs[:, 0] = (bd00 + bd01*ks.subs(s2==2) + bd02*(ks**2).subs(s2==2))*phiS.subs(s2==2) ### First column\n",
    "Bs[:, 1] = (bd00)*phi0.subs(s2==2) ### Second column\n",
    "\n",
    "for i in range(q):\n",
    "    for j in range(q):\n",
    "        Bs[i, j] = Bs[i, j].full_simplify()\n",
    "KLDet = Bs.determinant().full_simplify()\n",
    "\n",
    "print(\"Kreiss Lopatinskii determinant for Extrapolation sigma = 2  with s2=2 at z=-1 (Taylor)\")\n",
    "pretty_print(taylor(KLDet, z, -1, 2))\n",
    "\n",
    "BsInv = Bs.inverse()\n",
    "print(\"Inverse of the boundary matrix on the stable subspace for Extrapolation sigma = 2  with s2=2 at z=-1 (Taylor)\")\n",
    "\n",
    "for i in range(q):\n",
    "    print('i = '+str(i))\n",
    "    for j in range(q):\n",
    "        print('j = '+str(j))\n",
    "        pretty_print(taylor(BsInv[i, j], z, -1, 0))\n",
    "        \n",
    "print(\"Computation of the long-time solution with residues\")\n",
    "g0Tilde = matrix([[1], [1]])\n",
    "var('n') ### Time index\n",
    "var('j') ### Space index\n",
    "print('For m_1 with s2=2')\n",
    "pretty_print(((Bs.inverse()*g0Tilde)[0][0]*phiS[0][0]*z**(n-1)*ks**(j)).subs(s2==2).maxima_methods().residue(z,-1).full_simplify())       \n",
    "print('For m_2 with s2=2')\n",
    "pretty_print(((Bs.inverse()*g0Tilde)[0][0]*phiS[1][0]*z**(n-1)*ks**(j)).subs(s2==2).maxima_methods().residue(z,-1).full_simplify().factor())\n",
    "      \n",
    "    \n",
    "\n",
    "#### Extrapolation sigma = 3 for s_2 = 2\n",
    "for i in range(q):\n",
    "    for j in range(q):\n",
    "        bd00[i, j] = bdMat_sigma3[i, j].subs(s2==2).full_simplify().collect(k).coefficient(k, 0)\n",
    "        bd01[i, j] = bdMat_sigma3[i, j].subs(s2==2).full_simplify().collect(k).coefficient(k, 1)\n",
    "        bd02[i, j] = bdMat_sigma3[i, j].subs(s2==2).full_simplify().collect(k).coefficient(k, 2)\n",
    "        \n",
    "Bs[:, 0] = (bd00 + bd01*ks.subs(s2==2) + bd02*(ks**2).subs(s2==2))*phiS.subs(s2==2) ### First column\n",
    "Bs[:, 1] = (bd00)*phi0.subs(s2==2) ### Second column\n",
    "\n",
    "for i in range(q):\n",
    "    for j in range(q):\n",
    "        Bs[i, j] = Bs[i, j].full_simplify()\n",
    "KLDet = Bs.determinant().full_simplify()\n",
    "\n",
    "print(\"Kreiss Lopatinskii determinant for Extrapolation sigma = 3  with s2=2 at z=-1 (Taylor)\")\n",
    "pretty_print(taylor(KLDet, z, -1, 2))\n",
    "\n",
    "BsInv = Bs.inverse()\n",
    "print(\"Inverse of the boundary matrix on the stable subspace for Extrapolation sigma = 3  with s2=2 at z=-1 (Taylor)\")\n",
    "\n",
    "for i in range(q):\n",
    "    print('i = '+str(i))\n",
    "    for j in range(q):\n",
    "        print('j = '+str(j))\n",
    "        pretty_print(taylor(BsInv[i, j], z, -1, 0))\n",
    "        \n",
    "print(\"Computation of the long-time solution with residues\")\n",
    "g0Tilde = matrix([[1], [1]])\n",
    "var('n') ### Time index\n",
    "var('j') ### Space index\n",
    "print('For m_1 with s2=2')\n",
    "pretty_print(((Bs.inverse()*g0Tilde)[0][0]*phiS[0][0]*z**(n-1)*ks**(j)).subs(s2==2).maxima_methods().residue(z,-1).full_simplify())       \n",
    "print('For m_2 with s2=2')\n",
    "pretty_print(((Bs.inverse()*g0Tilde)[0][0]*phiS[1][0]*z**(n-1)*ks**(j)).subs(s2==2).maxima_methods().residue(z,-1).full_simplify().factor())\n",
    "      \n",
    "    \n",
    "\n",
    "#### Extrapolation sigma = 4 for s_2 = 2\n",
    "for i in range(q):\n",
    "    for j in range(q):\n",
    "        bd00[i, j] = bdMat_sigma4[i, j].subs(s2==2).full_simplify().collect(k).coefficient(k, 0)\n",
    "        bd01[i, j] = bdMat_sigma4[i, j].subs(s2==2).full_simplify().collect(k).coefficient(k, 1)\n",
    "        bd02[i, j] = bdMat_sigma4[i, j].subs(s2==2).full_simplify().collect(k).coefficient(k, 2)\n",
    "        bd03[i, j] = bdMat_sigma4[i, j].subs(s2==2).full_simplify().collect(k).coefficient(k, 3)\n",
    "        \n",
    "Bs[:, 0] = (bd00 + bd01*ks.subs(s2==2) + bd02*(ks**2).subs(s2==2) + bd03*(ks**3).subs(s2==2))*phiS.subs(s2==2) ### First column\n",
    "Bs[:, 1] = (bd00)*phi0.subs(s2==2) ### Second column\n",
    "\n",
    "for i in range(q):\n",
    "    for j in range(q):\n",
    "        Bs[i, j] = Bs[i, j].full_simplify()\n",
    "KLDet = Bs.determinant().full_simplify()\n",
    "\n",
    "print(\"Kreiss Lopatinskii determinant for Extrapolation sigma = 4  with s2=2 at z=-1 (Taylor)\")\n",
    "pretty_print(taylor(KLDet, z, -1, 2))\n",
    "\n",
    "BsInv = Bs.inverse()\n",
    "print(\"Inverse of the boundary matrix on the stable subspace for Extrapolation sigma = 4  with s2=2 at z=-1 (Taylor)\")\n",
    "\n",
    "for i in range(q):\n",
    "    print('i = '+str(i))\n",
    "    for j in range(q):\n",
    "        print('j = '+str(j))\n",
    "        pretty_print(taylor(BsInv[i, j], z, -1, 0))\n",
    "        \n",
    "print(\"Computation of the long-time solution with residues\")\n",
    "g0Tilde = matrix([[1], [1]])\n",
    "var('n') ### Time index\n",
    "var('j') ### Space index\n",
    "print('For m_1 with s2=2')\n",
    "pretty_print(((Bs.inverse()*g0Tilde)[0][0]*phiS[0][0]*z**(n-1)*ks**(j)).subs(s2==2).maxima_methods().residue(z,-1).full_simplify())       \n",
    "print('For m_2 with s2=2')\n",
    "pretty_print(((Bs.inverse()*g0Tilde)[0][0]*phiS[1][0]*z**(n-1)*ks**(j)).subs(s2==2).maxima_methods().residue(z,-1).full_simplify().factor())\n",
    "      "
   ]
  },
  {
   "cell_type": "code",
   "execution_count": 7,
   "id": "6a6964da",
   "metadata": {},
   "outputs": [
    {
     "name": "stdout",
     "output_type": "stream",
     "text": [
      "Kreiss Lopatinskii determinant for BB with s2 in (0, 2) at z=1\n"
     ]
    },
    {
     "data": {
      "text/html": [
       "<html>\\(\\displaystyle 0\\)</html>"
      ],
      "text/latex": [
       "$\\displaystyle 0$"
      ],
      "text/plain": [
       "0"
      ]
     },
     "metadata": {},
     "output_type": "display_data"
    },
    {
     "name": "stdout",
     "output_type": "stream",
     "text": [
      "Boundary matrix on the stable subspace for BB with s2 in (0, 2) at z=1 (Taylor expansion)\n",
      "i = 0\n",
      "j = 0\n"
     ]
    },
    {
     "data": {
      "text/html": [
       "<html>\\(\\displaystyle \\frac{2 \\, {\\mathcal{C}} {s_2}}{{\\left({\\left({\\mathcal{C}} + 1\\right)} {s_2} - 2\\right)} {\\left({z} - 1\\right)}}\\)</html>"
      ],
      "text/latex": [
       "$\\displaystyle \\frac{2 \\, {\\mathcal{C}} {s_2}}{{\\left({\\left({\\mathcal{C}} + 1\\right)} {s_2} - 2\\right)} {\\left({z} - 1\\right)}}$"
      ],
      "text/plain": [
       "2*C*s2/(((C + 1)*s2 - 2)*(z - 1))"
      ]
     },
     "metadata": {},
     "output_type": "display_data"
    },
    {
     "name": "stdout",
     "output_type": "stream",
     "text": [
      "j = 1\n"
     ]
    },
    {
     "data": {
      "text/html": [
       "<html>\\(\\displaystyle 0\\)</html>"
      ],
      "text/latex": [
       "$\\displaystyle 0$"
      ],
      "text/plain": [
       "0"
      ]
     },
     "metadata": {},
     "output_type": "display_data"
    },
    {
     "name": "stdout",
     "output_type": "stream",
     "text": [
      "i = 1\n",
      "j = 0\n"
     ]
    },
    {
     "data": {
      "text/html": [
       "<html>\\(\\displaystyle 0\\)</html>"
      ],
      "text/latex": [
       "$\\displaystyle 0$"
      ],
      "text/plain": [
       "0"
      ]
     },
     "metadata": {},
     "output_type": "display_data"
    },
    {
     "name": "stdout",
     "output_type": "stream",
     "text": [
      "j = 1\n"
     ]
    },
    {
     "data": {
      "text/html": [
       "<html>\\(\\displaystyle 0\\)</html>"
      ],
      "text/latex": [
       "$\\displaystyle 0$"
      ],
      "text/plain": [
       "0"
      ]
     },
     "metadata": {},
     "output_type": "display_data"
    },
    {
     "name": "stdout",
     "output_type": "stream",
     "text": [
      "Computation of the long-time solution with residues\n",
      "For m_1 with s2 in (0, 2)\n"
     ]
    },
    {
     "data": {
      "text/html": [
       "<html>\\(\\displaystyle \\frac{2 \\, {\\mathcal{C}} {s_2} \\left(-\\frac{{\\left({\\mathcal{C}} - 1\\right)} {s_2} + 2}{{\\left({\\mathcal{C}} + 1\\right)} {s_2} - 2}\\right)^{j}}{{\\left({\\mathcal{C}} + 1\\right)} {s_2} - 2}\\)</html>"
      ],
      "text/latex": [
       "$\\displaystyle \\frac{2 \\, {\\mathcal{C}} {s_2} \\left(-\\frac{{\\left({\\mathcal{C}} - 1\\right)} {s_2} + 2}{{\\left({\\mathcal{C}} + 1\\right)} {s_2} - 2}\\right)^{j}}{{\\left({\\mathcal{C}} + 1\\right)} {s_2} - 2}$"
      ],
      "text/plain": [
       "2*C*s2*(-((C - 1)*s2 + 2)/((C + 1)*s2 - 2))^j/((C + 1)*s2 - 2)"
      ]
     },
     "metadata": {},
     "output_type": "display_data"
    },
    {
     "name": "stdout",
     "output_type": "stream",
     "text": [
      "For m_2 with s2 in (0, 2)\n"
     ]
    },
    {
     "data": {
      "text/html": [
       "<html>\\(\\displaystyle \\frac{2 \\, {\\mathcal{C}}^{2} {s_2}^{2} \\left(-\\frac{{\\left({\\mathcal{C}} - 1\\right)} {s_2} + 2}{{\\left({\\mathcal{C}} + 1\\right)} {s_2} - 2}\\right)^{j}}{{\\left({\\mathcal{C}} + 1\\right)} {s_2}^{2} - 2 \\, {\\left({\\mathcal{C}} + 2\\right)} {s_2} + 4}\\)</html>"
      ],
      "text/latex": [
       "$\\displaystyle \\frac{2 \\, {\\mathcal{C}}^{2} {s_2}^{2} \\left(-\\frac{{\\left({\\mathcal{C}} - 1\\right)} {s_2} + 2}{{\\left({\\mathcal{C}} + 1\\right)} {s_2} - 2}\\right)^{j}}{{\\left({\\mathcal{C}} + 1\\right)} {s_2}^{2} - 2 \\, {\\left({\\mathcal{C}} + 2\\right)} {s_2} + 4}$"
      ],
      "text/plain": [
       "2*C^2*s2^2*(-((C - 1)*s2 + 2)/((C + 1)*s2 - 2))^j/((C + 1)*s2^2 - 2*(C + 2)*s2 + 4)"
      ]
     },
     "metadata": {},
     "output_type": "display_data"
    },
    {
     "name": "stdout",
     "output_type": "stream",
     "text": [
      "For m_1 with s2=2\n"
     ]
    },
    {
     "data": {
      "text/html": [
       "<html>\\(\\displaystyle 2 \\, \\left(-1\\right)^{j}\\)</html>"
      ],
      "text/latex": [
       "$\\displaystyle 2 \\, \\left(-1\\right)^{j}$"
      ],
      "text/plain": [
       "2*(-1)^j"
      ]
     },
     "metadata": {},
     "output_type": "display_data"
    },
    {
     "name": "stdout",
     "output_type": "stream",
     "text": [
      "For m_2 with s2=2\n"
     ]
    },
    {
     "data": {
      "text/html": [
       "<html>\\(\\displaystyle -2 \\, {\\left(2 \\, {\\mathcal{C}} n - 2 \\, {\\mathcal{C}} + 2 \\, j + 1\\right)} \\left(-1\\right)^{j}\\)</html>"
      ],
      "text/latex": [
       "$\\displaystyle -2 \\, {\\left(2 \\, {\\mathcal{C}} n - 2 \\, {\\mathcal{C}} + 2 \\, j + 1\\right)} \\left(-1\\right)^{j}$"
      ],
      "text/plain": [
       "-2*(2*C*n - 2*C + 2*j + 1)*(-1)^j"
      ]
     },
     "metadata": {},
     "output_type": "display_data"
    },
    {
     "name": "stdout",
     "output_type": "stream",
     "text": [
      "Kreiss Lopatinskii determinant for BB with s2=2/(1-C) in (0, 2) at z=1\n"
     ]
    },
    {
     "data": {
      "text/html": [
       "<html>\\(\\displaystyle 0\\)</html>"
      ],
      "text/latex": [
       "$\\displaystyle 0$"
      ],
      "text/plain": [
       "0"
      ]
     },
     "metadata": {},
     "output_type": "display_data"
    },
    {
     "name": "stdout",
     "output_type": "stream",
     "text": [
      "Boundary matrix on the stable subspace for BB with s2=2/(1-C) at z=1 (Taylor expansion)\n",
      "i = 0\n",
      "j = 0\n"
     ]
    },
    {
     "data": {
      "text/html": [
       "<html>\\(\\displaystyle \\frac{{\\mathcal{C}} - 1}{4 \\, {\\mathcal{C}}}\\)</html>"
      ],
      "text/latex": [
       "$\\displaystyle \\frac{{\\mathcal{C}} - 1}{4 \\, {\\mathcal{C}}}$"
      ],
      "text/plain": [
       "1/4*(C - 1)/C"
      ]
     },
     "metadata": {},
     "output_type": "display_data"
    },
    {
     "name": "stdout",
     "output_type": "stream",
     "text": [
      "j = 1\n"
     ]
    },
    {
     "data": {
      "text/html": [
       "<html>\\(\\displaystyle -\\frac{{\\mathcal{C}} - 1}{4 \\, {\\mathcal{C}}}\\)</html>"
      ],
      "text/latex": [
       "$\\displaystyle -\\frac{{\\mathcal{C}} - 1}{4 \\, {\\mathcal{C}}}$"
      ],
      "text/plain": [
       "-1/4*(C - 1)/C"
      ]
     },
     "metadata": {},
     "output_type": "display_data"
    },
    {
     "name": "stdout",
     "output_type": "stream",
     "text": [
      "i = 1\n",
      "j = 0\n"
     ]
    },
    {
     "data": {
      "text/html": [
       "<html>\\(\\displaystyle -\\frac{{\\mathcal{C}} - 1}{2 \\, {\\left({\\mathcal{C}}^{2} + {\\mathcal{C}}\\right)}} - \\frac{{\\mathcal{C}} - 1}{{\\left({\\mathcal{C}} + 1\\right)} {\\left({z} - 1\\right)}}\\)</html>"
      ],
      "text/latex": [
       "$\\displaystyle -\\frac{{\\mathcal{C}} - 1}{2 \\, {\\left({\\mathcal{C}}^{2} + {\\mathcal{C}}\\right)}} - \\frac{{\\mathcal{C}} - 1}{{\\left({\\mathcal{C}} + 1\\right)} {\\left({z} - 1\\right)}}$"
      ],
      "text/plain": [
       "-1/2*(C - 1)/(C^2 + C) - (C - 1)/((C + 1)*(z - 1))"
      ]
     },
     "metadata": {},
     "output_type": "display_data"
    },
    {
     "name": "stdout",
     "output_type": "stream",
     "text": [
      "j = 1\n"
     ]
    },
    {
     "data": {
      "text/html": [
       "<html>\\(\\displaystyle \\frac{{\\mathcal{C}} - 1}{2 \\, {\\left({\\mathcal{C}}^{2} + {\\mathcal{C}}\\right)}}\\)</html>"
      ],
      "text/latex": [
       "$\\displaystyle \\frac{{\\mathcal{C}} - 1}{2 \\, {\\left({\\mathcal{C}}^{2} + {\\mathcal{C}}\\right)}}$"
      ],
      "text/plain": [
       "1/2*(C - 1)/(C^2 + C)"
      ]
     },
     "metadata": {},
     "output_type": "display_data"
    },
    {
     "name": "stdout",
     "output_type": "stream",
     "text": [
      "Kreiss Lopatinskii determinant for Two steps ABB with s2=2 at z=1\n"
     ]
    },
    {
     "data": {
      "text/html": [
       "<html>\\(\\displaystyle 2 \\, {\\mathcal{C}}\\)</html>"
      ],
      "text/latex": [
       "$\\displaystyle 2 \\, {\\mathcal{C}}$"
      ],
      "text/plain": [
       "2*C"
      ]
     },
     "metadata": {},
     "output_type": "display_data"
    },
    {
     "name": "stdout",
     "output_type": "stream",
     "text": [
      "Boundary matrix on the stable subspace for Two steps ABB with s2=2 at z=1\n"
     ]
    },
    {
     "data": {
      "text/html": [
       "<html>\\(\\displaystyle \\left(\\begin{array}{rr}\n",
       "1 & 1 \\\\\n",
       "1 & 2 \\, {\\mathcal{C}} + 1\n",
       "\\end{array}\\right)\\)</html>"
      ],
      "text/latex": [
       "$\\displaystyle \\left(\\begin{array}{rr}\n",
       "1 & 1 \\\\\n",
       "1 & 2 \\, {\\mathcal{C}} + 1\n",
       "\\end{array}\\right)$"
      ],
      "text/plain": [
       "[      1       1]\n",
       "[      1 2*C + 1]"
      ]
     },
     "metadata": {},
     "output_type": "display_data"
    },
    {
     "name": "stdout",
     "output_type": "stream",
     "text": [
      "Computation of the long-time solution with residues\n",
      "For m_1 with s2=2\n"
     ]
    },
    {
     "data": {
      "text/html": [
       "<html>\\(\\displaystyle 0\\)</html>"
      ],
      "text/latex": [
       "$\\displaystyle 0$"
      ],
      "text/plain": [
       "0"
      ]
     },
     "metadata": {},
     "output_type": "display_data"
    },
    {
     "name": "stdout",
     "output_type": "stream",
     "text": [
      "For m_2 with s2=2\n"
     ]
    },
    {
     "data": {
      "text/html": [
       "<html>\\(\\displaystyle -2 \\, {\\left(\\left(-1\\right)^{j} - \\left(-1\\right)^{n}\\right)} {\\mathcal{C}}\\)</html>"
      ],
      "text/latex": [
       "$\\displaystyle -2 \\, {\\left(\\left(-1\\right)^{j} - \\left(-1\\right)^{n}\\right)} {\\mathcal{C}}$"
      ],
      "text/plain": [
       "-2*((-1)^j - (-1)^n)*C"
      ]
     },
     "metadata": {},
     "output_type": "display_data"
    }
   ],
   "source": [
    "#### (1, Pi)\n",
    "\n",
    "#### Bounce back for s_2 in (0, 2)\n",
    "for i in range(q):\n",
    "    for j in range(q):\n",
    "        bd00[i, j] = bdMat_BB[i, j].full_simplify().collect(k).coefficient(k, 0)\n",
    "        bd01[i, j] = bdMat_BB[i, j].full_simplify().collect(k).coefficient(k, 1)\n",
    "        \n",
    "Bs[:, 0] = (bd00 + bd01*ks)*phiS ### First column\n",
    "Bs[:, 1] = (bd00)*phi0 ### Second column\n",
    "\n",
    "for i in range(q):\n",
    "    for j in range(q):\n",
    "        Bs[i, j] = Bs[i, j].full_simplify()\n",
    "KLDet = Bs.determinant().full_simplify()\n",
    "\n",
    "print(\"Kreiss Lopatinskii determinant for BB with s2 in (0, 2) at z=1\")\n",
    "pretty_print(KLDet.subs(z==1).full_simplify())\n",
    "print(\"Boundary matrix on the stable subspace for BB with s2 in (0, 2) at z=1 (Taylor expansion)\")\n",
    "KLAdjugate = Bs.adjugate()\n",
    "for i in range(q):\n",
    "    print('i = '+str(i))\n",
    "    for j in range(q):\n",
    "        print('j = '+str(j))\n",
    "        pretty_print(taylor(KLAdjugate[i, j]/KLDet, z, 1, -1))\n",
    "        \n",
    "print(\"Computation of the long-time solution with residues\")\n",
    "g0Tilde = matrix([[1], [1]])\n",
    "var('n') ### Time index\n",
    "var('j') ### Space index\n",
    "print('For m_1 with s2 in (0, 2)')\n",
    "pretty_print(((KLAdjugate/KLDet*g0Tilde)[0][0]*phiS[0][0]*z**(n-1)*ks**(j)).maxima_methods().residue(z,1).full_simplify())       \n",
    "print('For m_2 with s2 in (0, 2)')\n",
    "pretty_print(((KLAdjugate/KLDet*g0Tilde)[0][0]*phiS[1][0]*z**(n-1)*ks**(j)).maxima_methods().residue(z,1).full_simplify())\n",
    "print('For m_1 with s2=2')\n",
    "pretty_print(((KLAdjugate/KLDet*g0Tilde)[0][0]*phiS[0][0]*z**(n-1)*ks**(j)).subs(s2==2).maxima_methods().residue(z,1).full_simplify().factor())       \n",
    "print('For m_2 with s2=2')\n",
    "pretty_print(((KLAdjugate/KLDet*g0Tilde)[0][0]*phiS[1][0]*z**(n-1)*ks**(j)).subs(s2==2).maxima_methods().residue(z,1).full_simplify().factor())\n",
    "      \n",
    "    \n",
    "#### bounce back for s_2=2/(1-C)\n",
    "phi0Tilde = matrix([[1], [1-2*z]])\n",
    "for i in range(q):\n",
    "    for j in range(q):\n",
    "        bd00[i, j] = bdMat_BB[i, j].subs(s2==2/(1-C)).full_simplify().collect(k).coefficient(k, 0)\n",
    "        bd01[i, j] = bdMat_BB[i, j].subs(s2==2/(1-C)).full_simplify().collect(k).coefficient(k, 1)\n",
    "        \n",
    "Bs[:, 0] = (bd00)*phi0Tilde + bd01*phi0.subs(s2==2/(1-C)) ### First column\n",
    "Bs[:, 1] = (bd00)*phi0.subs(s2==2/(1-C)) ### Second column\n",
    "\n",
    "for i in range(q):\n",
    "    for j in range(q):\n",
    "        Bs[i, j] = Bs[i, j].full_simplify()\n",
    "KLDet = Bs.determinant().full_simplify()\n",
    "\n",
    "print(\"Kreiss Lopatinskii determinant for BB with s2=2/(1-C) in (0, 2) at z=1\")\n",
    "pretty_print(KLDet.subs(z==1).full_simplify())\n",
    "print(\"Boundary matrix on the stable subspace for BB with s2=2/(1-C) at z=1 (Taylor expansion)\")\n",
    "KLAdjugate = Bs.adjugate()\n",
    "for i in range(q):\n",
    "    print('i = '+str(i))\n",
    "    for j in range(q):\n",
    "        print('j = '+str(j))\n",
    "        pretty_print(taylor(KLAdjugate[i, j]/KLDet, z, 1, 0))\n",
    "\n",
    "        \n",
    "\n",
    "#### Two steps anti Bounce back for s_2 = 2\n",
    "for i in range(q):\n",
    "    for j in range(q):\n",
    "        bd00[i, j] = bdMat_TwoABB[i, j].subs(s2==2).full_simplify().collect(k).coefficient(k, 0)\n",
    "        bd01[i, j] = bdMat_TwoABB[i, j].subs(s2==2).full_simplify().collect(k).coefficient(k, 1)\n",
    "        \n",
    "Bs[:, 0] = (bd00 + bd01*ks.subs(s2==2))*phiS.subs(s2==2) ### First column\n",
    "Bs[:, 1] = (bd00)*phi0.subs(s2==2) ### Second column\n",
    "\n",
    "for i in range(q):\n",
    "    for j in range(q):\n",
    "        Bs[i, j] = Bs[i, j].full_simplify()\n",
    "KLDet = Bs.determinant().full_simplify()\n",
    "\n",
    "print(\"Kreiss Lopatinskii determinant for Two steps ABB with s2=2 at z=1\")\n",
    "pretty_print(KLDet.subs(z==1))\n",
    "print(\"Boundary matrix on the stable subspace for Two steps ABB with s2=2 at z=1\")\n",
    "pretty_print(Bs.subs(z==1))\n",
    "\n",
    "\n",
    "print(\"Computation of the long-time solution with residues\")\n",
    "g0Tilde = matrix([[1], [1]])\n",
    "var('n') ### Time index\n",
    "var('j') ### Space index\n",
    "print('For m_1 with s2=2')\n",
    "pretty_print((((Bs.inverse()*g0Tilde)[0][0]*phiS[0][0]*z**(n-1)*ks**(j)).subs(s2==2).maxima_methods().residue(z,1)+\\\n",
    "              ((Bs.inverse()*g0Tilde)[0][0]*phiS[0][0]*z**(n-1)*ks**(j)).subs(s2==2).maxima_methods().residue(z,-1)).full_simplify().factor())       \n",
    "print('For m_2 with s2=2')\n",
    "pretty_print((((Bs.inverse()*g0Tilde)[0][0]*phiS[1][0]*z**(n-1)*ks**(j)).subs(s2==2).maxima_methods().residue(z,1)+\\\n",
    "              ((Bs.inverse()*g0Tilde)[0][0]*phiS[1][0]*z**(n-1)*ks**(j)).subs(s2==2).maxima_methods().residue(z,-1)).full_simplify().factor())  "
   ]
  },
  {
   "cell_type": "code",
   "execution_count": 8,
   "id": "78ef5134",
   "metadata": {},
   "outputs": [
    {
     "name": "stdout",
     "output_type": "stream",
     "text": [
      "Value of kminus at z=1\n"
     ]
    },
    {
     "data": {
      "text/html": [
       "<html>\\(\\displaystyle -\\frac{{\\left({\\mathcal{C}} - 1\\right)} {s_2} + 2}{{\\left({\\mathcal{C}} + 1\\right)} {s_2} - 2}\\)</html>"
      ],
      "text/latex": [
       "$\\displaystyle -\\frac{{\\left({\\mathcal{C}} - 1\\right)} {s_2} + 2}{{\\left({\\mathcal{C}} + 1\\right)} {s_2} - 2}$"
      ],
      "text/plain": [
       "-((C - 1)*s2 + 2)/((C + 1)*s2 - 2)"
      ]
     },
     "metadata": {},
     "output_type": "display_data"
    },
    {
     "name": "stdout",
     "output_type": "stream",
     "text": [
      "Value of kplus at z=1\n"
     ]
    },
    {
     "data": {
      "text/html": [
       "<html>\\(\\displaystyle 1\\)</html>"
      ],
      "text/latex": [
       "$\\displaystyle 1$"
      ],
      "text/plain": [
       "1"
      ]
     },
     "metadata": {},
     "output_type": "display_data"
    },
    {
     "name": "stdout",
     "output_type": "stream",
     "text": [
      "Expansion of the second component of phiS around z = 1\n"
     ]
    },
    {
     "data": {
      "text/html": [
       "<html>\\(\\displaystyle {\\mathcal{C}} - \\frac{{\\left({\\mathcal{C}}^{2} - 1\\right)} {\\left({z} - 1\\right)}}{{\\mathcal{C}} {s_2}}\\)</html>"
      ],
      "text/latex": [
       "$\\displaystyle {\\mathcal{C}} - \\frac{{\\left({\\mathcal{C}}^{2} - 1\\right)} {\\left({z} - 1\\right)}}{{\\mathcal{C}} {s_2}}$"
      ],
      "text/plain": [
       "C - (C^2 - 1)*(z - 1)/(C*s2)"
      ]
     },
     "metadata": {},
     "output_type": "display_data"
    },
    {
     "name": "stdout",
     "output_type": "stream",
     "text": [
      "Expansion of the second component of phiS around z = 1 as s2 = 2\n"
     ]
    },
    {
     "data": {
      "text/html": [
       "<html>\\(\\displaystyle {\\mathcal{C}} - \\frac{{\\left({\\mathcal{C}}^{2} - 1\\right)} {\\left({z} - 1\\right)}}{2 \\, {\\mathcal{C}}}\\)</html>"
      ],
      "text/latex": [
       "$\\displaystyle {\\mathcal{C}} - \\frac{{\\left({\\mathcal{C}}^{2} - 1\\right)} {\\left({z} - 1\\right)}}{2 \\, {\\mathcal{C}}}$"
      ],
      "text/plain": [
       "C - 1/2*(C^2 - 1)*(z - 1)/C"
      ]
     },
     "metadata": {},
     "output_type": "display_data"
    },
    {
     "name": "stdout",
     "output_type": "stream",
     "text": [
      "Kreiss Lopatinskii determinant for Extrapolation sigma = 1 at z=1\n"
     ]
    },
    {
     "data": {
      "text/html": [
       "<html>\\(\\displaystyle 0\\)</html>"
      ],
      "text/latex": [
       "$\\displaystyle 0$"
      ],
      "text/plain": [
       "0"
      ]
     },
     "metadata": {},
     "output_type": "display_data"
    },
    {
     "name": "stdout",
     "output_type": "stream",
     "text": [
      "Boundary matrix on the stable subspace for Extrapolation sigma = 1  at z=1\n"
     ]
    },
    {
     "data": {
      "text/html": [
       "<html>\\(\\displaystyle \\left(\\begin{array}{rr}\n",
       "0 & {s_2} - 1 \\\\\n",
       "0 & {\\mathcal{C}} {s_2} + 1\n",
       "\\end{array}\\right)\\)</html>"
      ],
      "text/latex": [
       "$\\displaystyle \\left(\\begin{array}{rr}\n",
       "0 & {s_2} - 1 \\\\\n",
       "0 & {\\mathcal{C}} {s_2} + 1\n",
       "\\end{array}\\right)$"
      ],
      "text/plain": [
       "[       0   s2 - 1]\n",
       "[       0 C*s2 + 1]"
      ]
     },
     "metadata": {},
     "output_type": "display_data"
    },
    {
     "name": "stdout",
     "output_type": "stream",
     "text": [
      "Computation of the long-time solution with residues\n",
      "For m_1\n"
     ]
    },
    {
     "data": {
      "text/html": [
       "<html>\\(\\displaystyle \\frac{2 \\, {\\mathcal{C}}}{{\\mathcal{C}} + 1}\\)</html>"
      ],
      "text/latex": [
       "$\\displaystyle \\frac{2 \\, {\\mathcal{C}}}{{\\mathcal{C}} + 1}$"
      ],
      "text/plain": [
       "2*C/(C + 1)"
      ]
     },
     "metadata": {},
     "output_type": "display_data"
    },
    {
     "name": "stdout",
     "output_type": "stream",
     "text": [
      "For m_2\n"
     ]
    },
    {
     "data": {
      "text/html": [
       "<html>\\(\\displaystyle \\frac{2 \\, {\\mathcal{C}}^{2}}{{\\mathcal{C}} + 1}\\)</html>"
      ],
      "text/latex": [
       "$\\displaystyle \\frac{2 \\, {\\mathcal{C}}^{2}}{{\\mathcal{C}} + 1}$"
      ],
      "text/plain": [
       "2*C^2/(C + 1)"
      ]
     },
     "metadata": {},
     "output_type": "display_data"
    },
    {
     "name": "stdout",
     "output_type": "stream",
     "text": [
      "Kreiss Lopatinskii determinant for Extrapolation sigma = 2 at z=1\n"
     ]
    },
    {
     "data": {
      "text/html": [
       "<html>\\(\\displaystyle 0\\)</html>"
      ],
      "text/latex": [
       "$\\displaystyle 0$"
      ],
      "text/plain": [
       "0"
      ]
     },
     "metadata": {},
     "output_type": "display_data"
    },
    {
     "name": "stdout",
     "output_type": "stream",
     "text": [
      "Boundary matrix on the stable subspace for Extrapolation sigma = 2 at z=1\n"
     ]
    },
    {
     "data": {
      "text/html": [
       "<html>\\(\\displaystyle \\left(\\begin{array}{rr}\n",
       "0 & {s_2} - 1 \\\\\n",
       "0 & {\\mathcal{C}} {s_2} + 1\n",
       "\\end{array}\\right)\\)</html>"
      ],
      "text/latex": [
       "$\\displaystyle \\left(\\begin{array}{rr}\n",
       "0 & {s_2} - 1 \\\\\n",
       "0 & {\\mathcal{C}} {s_2} + 1\n",
       "\\end{array}\\right)$"
      ],
      "text/plain": [
       "[       0   s2 - 1]\n",
       "[       0 C*s2 + 1]"
      ]
     },
     "metadata": {},
     "output_type": "display_data"
    },
    {
     "name": "stdout",
     "output_type": "stream",
     "text": [
      "Computation of the long-time solution with residues\n",
      "For m_1\n"
     ]
    },
    {
     "data": {
      "text/html": [
       "<html>\\(\\displaystyle \\frac{2 \\, {\\left({\\mathcal{C}}^{2} n {s_2} - {\\mathcal{C}} j {s_2} - {\\mathcal{C}}^{2} + {\\mathcal{C}} {s_2} - {\\mathcal{C}} - {s_2} + 2\\right)}}{{\\left({\\mathcal{C}} + 1\\right)} {s_2}}\\)</html>"
      ],
      "text/latex": [
       "$\\displaystyle \\frac{2 \\, {\\left({\\mathcal{C}}^{2} n {s_2} - {\\mathcal{C}} j {s_2} - {\\mathcal{C}}^{2} + {\\mathcal{C}} {s_2} - {\\mathcal{C}} - {s_2} + 2\\right)}}{{\\left({\\mathcal{C}} + 1\\right)} {s_2}}$"
      ],
      "text/plain": [
       "2*(C^2*n*s2 - C*j*s2 - C^2 + C*s2 - C - s2 + 2)/((C + 1)*s2)"
      ]
     },
     "metadata": {},
     "output_type": "display_data"
    },
    {
     "name": "stdout",
     "output_type": "stream",
     "text": [
      "For m_2\n"
     ]
    },
    {
     "data": {
      "text/html": [
       "<html>\\(\\displaystyle \\frac{2 \\, {\\left({\\mathcal{C}}^{2} n {s_2} - {\\mathcal{C}} j {s_2} - 2 \\, {\\mathcal{C}}^{2} + {\\mathcal{C}} {s_2} - {\\mathcal{C}} - {s_2} + 3\\right)} {\\mathcal{C}}}{{\\left({\\mathcal{C}} + 1\\right)} {s_2}}\\)</html>"
      ],
      "text/latex": [
       "$\\displaystyle \\frac{2 \\, {\\left({\\mathcal{C}}^{2} n {s_2} - {\\mathcal{C}} j {s_2} - 2 \\, {\\mathcal{C}}^{2} + {\\mathcal{C}} {s_2} - {\\mathcal{C}} - {s_2} + 3\\right)} {\\mathcal{C}}}{{\\left({\\mathcal{C}} + 1\\right)} {s_2}}$"
      ],
      "text/plain": [
       "2*(C^2*n*s2 - C*j*s2 - 2*C^2 + C*s2 - C - s2 + 3)*C/((C + 1)*s2)"
      ]
     },
     "metadata": {},
     "output_type": "display_data"
    },
    {
     "name": "stdout",
     "output_type": "stream",
     "text": [
      "Kreiss Lopatinskii determinant for Extrapolation sigma = 3 at z=1\n"
     ]
    },
    {
     "data": {
      "text/html": [
       "<html>\\(\\displaystyle 0\\)</html>"
      ],
      "text/latex": [
       "$\\displaystyle 0$"
      ],
      "text/plain": [
       "0"
      ]
     },
     "metadata": {},
     "output_type": "display_data"
    },
    {
     "name": "stdout",
     "output_type": "stream",
     "text": [
      "Boundary matrix on the stable subspace for Extrapolation sigma = 3 at z=1\n"
     ]
    },
    {
     "data": {
      "text/html": [
       "<html>\\(\\displaystyle \\left(\\begin{array}{rr}\n",
       "0 & {s_2} - 1 \\\\\n",
       "0 & {\\mathcal{C}} {s_2} + 1\n",
       "\\end{array}\\right)\\)</html>"
      ],
      "text/latex": [
       "$\\displaystyle \\left(\\begin{array}{rr}\n",
       "0 & {s_2} - 1 \\\\\n",
       "0 & {\\mathcal{C}} {s_2} + 1\n",
       "\\end{array}\\right)$"
      ],
      "text/plain": [
       "[       0   s2 - 1]\n",
       "[       0 C*s2 + 1]"
      ]
     },
     "metadata": {},
     "output_type": "display_data"
    },
    {
     "name": "stdout",
     "output_type": "stream",
     "text": [
      "Computation of the long-time solution with residues\n",
      "For m_1\n"
     ]
    },
    {
     "data": {
      "text/html": [
       "<html>\\(\\displaystyle \\frac{{\\mathcal{C}}^{3} n^{2} {s_2}^{2} + {\\mathcal{C}}^{3} n {s_2}^{2} - 2 \\, {\\mathcal{C}}^{2} j n {s_2}^{2} - 4 \\, {\\mathcal{C}}^{3} n {s_2} + {\\mathcal{C}} j^{2} {s_2}^{2} + 3 \\, {\\mathcal{C}}^{2} n {s_2}^{2} - 4 \\, {\\mathcal{C}}^{3} {s_2} + 2 \\, {\\mathcal{C}}^{2} j {s_2} - 2 \\, {\\mathcal{C}}^{2} n {s_2} - 3 \\, {\\mathcal{C}} j {s_2}^{2} - 3 \\, {\\mathcal{C}} n {s_2}^{2} + 6 \\, {\\mathcal{C}}^{3} - 5 \\, {\\mathcal{C}}^{2} {s_2} + 2 \\, {\\mathcal{C}} j {s_2} + 6 \\, {\\mathcal{C}} n {s_2} + 3 \\, {\\mathcal{C}} {s_2}^{2} + 2 \\, j {s_2}^{2} + 4 \\, {\\mathcal{C}}^{2} + {\\mathcal{C}} {s_2} - 4 \\, j {s_2} - 3 \\, {s_2}^{2} - 6 \\, {\\mathcal{C}} + 8 \\, {s_2} - 4}{{\\left({\\mathcal{C}} + 1\\right)} {s_2}^{2}}\\)</html>"
      ],
      "text/latex": [
       "$\\displaystyle \\frac{{\\mathcal{C}}^{3} n^{2} {s_2}^{2} + {\\mathcal{C}}^{3} n {s_2}^{2} - 2 \\, {\\mathcal{C}}^{2} j n {s_2}^{2} - 4 \\, {\\mathcal{C}}^{3} n {s_2} + {\\mathcal{C}} j^{2} {s_2}^{2} + 3 \\, {\\mathcal{C}}^{2} n {s_2}^{2} - 4 \\, {\\mathcal{C}}^{3} {s_2} + 2 \\, {\\mathcal{C}}^{2} j {s_2} - 2 \\, {\\mathcal{C}}^{2} n {s_2} - 3 \\, {\\mathcal{C}} j {s_2}^{2} - 3 \\, {\\mathcal{C}} n {s_2}^{2} + 6 \\, {\\mathcal{C}}^{3} - 5 \\, {\\mathcal{C}}^{2} {s_2} + 2 \\, {\\mathcal{C}} j {s_2} + 6 \\, {\\mathcal{C}} n {s_2} + 3 \\, {\\mathcal{C}} {s_2}^{2} + 2 \\, j {s_2}^{2} + 4 \\, {\\mathcal{C}}^{2} + {\\mathcal{C}} {s_2} - 4 \\, j {s_2} - 3 \\, {s_2}^{2} - 6 \\, {\\mathcal{C}} + 8 \\, {s_2} - 4}{{\\left({\\mathcal{C}} + 1\\right)} {s_2}^{2}}$"
      ],
      "text/plain": [
       "(C^3*n^2*s2^2 + C^3*n*s2^2 - 2*C^2*j*n*s2^2 - 4*C^3*n*s2 + C*j^2*s2^2 + 3*C^2*n*s2^2 - 4*C^3*s2 + 2*C^2*j*s2 - 2*C^2*n*s2 - 3*C*j*s2^2 - 3*C*n*s2^2 + 6*C^3 - 5*C^2*s2 + 2*C*j*s2 + 6*C*n*s2 + 3*C*s2^2 + 2*j*s2^2 + 4*C^2 + C*s2 - 4*j*s2 - 3*s2^2 - 6*C + 8*s2 - 4)/((C + 1)*s2^2)"
      ]
     },
     "metadata": {},
     "output_type": "display_data"
    },
    {
     "name": "stdout",
     "output_type": "stream",
     "text": [
      "For m_2\n"
     ]
    },
    {
     "data": {
      "text/html": [
       "<html>\\(\\displaystyle \\frac{{\\mathcal{C}}^{4} n^{2} {s_2}^{2} + {\\mathcal{C}}^{4} n {s_2}^{2} - 2 \\, {\\mathcal{C}}^{3} j n {s_2}^{2} - 6 \\, {\\mathcal{C}}^{4} n {s_2} + {\\mathcal{C}}^{2} j^{2} {s_2}^{2} + 3 \\, {\\mathcal{C}}^{3} n {s_2}^{2} - 6 \\, {\\mathcal{C}}^{4} {s_2} + 4 \\, {\\mathcal{C}}^{3} j {s_2} - 2 \\, {\\mathcal{C}}^{3} n {s_2} - 3 \\, {\\mathcal{C}}^{2} j {s_2}^{2} - 3 \\, {\\mathcal{C}}^{2} n {s_2}^{2} + 12 \\, {\\mathcal{C}}^{4} - 8 \\, {\\mathcal{C}}^{3} {s_2} + 2 \\, {\\mathcal{C}}^{2} j {s_2} + 8 \\, {\\mathcal{C}}^{2} n {s_2} + 3 \\, {\\mathcal{C}}^{2} {s_2}^{2} + 2 \\, {\\mathcal{C}} j {s_2}^{2} + 6 \\, {\\mathcal{C}}^{3} + 5 \\, {\\mathcal{C}}^{2} {s_2} - 6 \\, {\\mathcal{C}} j {s_2} - 3 \\, {\\mathcal{C}} {s_2}^{2} - 16 \\, {\\mathcal{C}}^{2} + 11 \\, {\\mathcal{C}} {s_2} - 6 \\, {\\mathcal{C}} - 2 \\, {s_2} + 4}{{\\left({\\mathcal{C}} + 1\\right)} {s_2}^{2}}\\)</html>"
      ],
      "text/latex": [
       "$\\displaystyle \\frac{{\\mathcal{C}}^{4} n^{2} {s_2}^{2} + {\\mathcal{C}}^{4} n {s_2}^{2} - 2 \\, {\\mathcal{C}}^{3} j n {s_2}^{2} - 6 \\, {\\mathcal{C}}^{4} n {s_2} + {\\mathcal{C}}^{2} j^{2} {s_2}^{2} + 3 \\, {\\mathcal{C}}^{3} n {s_2}^{2} - 6 \\, {\\mathcal{C}}^{4} {s_2} + 4 \\, {\\mathcal{C}}^{3} j {s_2} - 2 \\, {\\mathcal{C}}^{3} n {s_2} - 3 \\, {\\mathcal{C}}^{2} j {s_2}^{2} - 3 \\, {\\mathcal{C}}^{2} n {s_2}^{2} + 12 \\, {\\mathcal{C}}^{4} - 8 \\, {\\mathcal{C}}^{3} {s_2} + 2 \\, {\\mathcal{C}}^{2} j {s_2} + 8 \\, {\\mathcal{C}}^{2} n {s_2} + 3 \\, {\\mathcal{C}}^{2} {s_2}^{2} + 2 \\, {\\mathcal{C}} j {s_2}^{2} + 6 \\, {\\mathcal{C}}^{3} + 5 \\, {\\mathcal{C}}^{2} {s_2} - 6 \\, {\\mathcal{C}} j {s_2} - 3 \\, {\\mathcal{C}} {s_2}^{2} - 16 \\, {\\mathcal{C}}^{2} + 11 \\, {\\mathcal{C}} {s_2} - 6 \\, {\\mathcal{C}} - 2 \\, {s_2} + 4}{{\\left({\\mathcal{C}} + 1\\right)} {s_2}^{2}}$"
      ],
      "text/plain": [
       "(C^4*n^2*s2^2 + C^4*n*s2^2 - 2*C^3*j*n*s2^2 - 6*C^4*n*s2 + C^2*j^2*s2^2 + 3*C^3*n*s2^2 - 6*C^4*s2 + 4*C^3*j*s2 - 2*C^3*n*s2 - 3*C^2*j*s2^2 - 3*C^2*n*s2^2 + 12*C^4 - 8*C^3*s2 + 2*C^2*j*s2 + 8*C^2*n*s2 + 3*C^2*s2^2 + 2*C*j*s2^2 + 6*C^3 + 5*C^2*s2 - 6*C*j*s2 - 3*C*s2^2 - 16*C^2 + 11*C*s2 - 6*C - 2*s2 + 4)/((C + 1)*s2^2)"
      ]
     },
     "metadata": {},
     "output_type": "display_data"
    }
   ],
   "source": [
    "forget()\n",
    "\n",
    "#### We make natural assumptions\n",
    "assume(s2>0)\n",
    "assume(s2<=2)\n",
    "\n",
    "#### Critical points (1, 1)\n",
    "assume(C>0)\n",
    "\n",
    "print(\"Value of kminus at z=1\")\n",
    "pretty_print(kminus.subs(z==1).full_simplify())\n",
    "print(\"Value of kplus at z=1\")\n",
    "pretty_print(kplus.subs(z==1).full_simplify())\n",
    "\n",
    "ks = kplus.full_simplify()\n",
    "\n",
    "LzOnStable = Lz.subs(k==ks) ### This is the matrix polynomial where k is replaced by ks (stable root)\n",
    "for i in range(q):\n",
    "    for j in range(q):\n",
    "        LzOnStable[i, j] = LzOnStable[i, j].full_simplify()\n",
    "        \n",
    "#pretty_print(LzOnStable.transpose().kernel()) #### This is the stable eigenvalue phi_s\n",
    "phiS = matrix([[LzOnStable.transpose().kernel().basis()[0][0]], \\\n",
    "               [LzOnStable.transpose().kernel().basis()[0][1].full_simplify()]])\n",
    "\n",
    "#### Structure of the eigenvector close to the critical points\n",
    "print('Expansion of the second component of phiS around z = 1')\n",
    "pretty_print(taylor(phiS[1][0], z, 1, 1)) # I do not know why taking .subs(z==1) gives wrong results\n",
    "print('Expansion of the second component of phiS around z = 1 as s2 = 2')\n",
    "pretty_print(taylor(phiS[1][0].subs(s2=2), z, 1, 1))\n",
    "\n",
    "\n",
    "#### We construct the eigenvector of k = 0\n",
    "phi0 = matrix([[ (s2-1)*Lz.subs(k==0).transpose().kernel().basis()[0][0]], \\\n",
    "               [((s2-1)*Lz.subs(k==0).transpose().kernel().basis()[0][1]).full_simplify()]])\n",
    "\n",
    "\n",
    "#### Extrapolation sigma = 1\n",
    "\n",
    "for i in range(q):\n",
    "    for j in range(q):\n",
    "        bd00[i, j] = bdMat_sigma1[i, j].full_simplify().collect(k).coefficient(k, 0)\n",
    "        bd01[i, j] = bdMat_sigma1[i, j].full_simplify().collect(k).coefficient(k, 1)\n",
    "        \n",
    "Bs[:, 0] = (bd00 + bd01*ks)*phiS ### First column\n",
    "Bs[:, 1] = (bd00)*phi0 ### Second column\n",
    "\n",
    "for i in range(q):\n",
    "    for j in range(q):\n",
    "        Bs[i, j] = Bs[i, j].full_simplify()\n",
    "KLDet = Bs.determinant().full_simplify()\n",
    "\n",
    "print(\"Kreiss Lopatinskii determinant for Extrapolation sigma = 1 at z=1\")\n",
    "pretty_print(taylor(KLDet, z, 1, 0))\n",
    "print(\"Boundary matrix on the stable subspace for Extrapolation sigma = 1  at z=1\")\n",
    "pretty_print(taylor(Bs, z, 1, 0))\n",
    "\n",
    "print(\"Computation of the long-time solution with residues\")\n",
    "g0Tilde = matrix([[1], [1]])\n",
    "var('n') ### Time index\n",
    "var('j') ### Space index\n",
    "print('For m_1')\n",
    "pretty_print(((Bs.inverse()*g0Tilde)[0][0]*phiS[0][0]*z**(n-1)*ks**(j)).maxima_methods().residue(z,1).full_simplify())       \n",
    "print('For m_2')\n",
    "pretty_print(((Bs.inverse()*g0Tilde)[0][0]*phiS[1][0]*z**(n-1)*ks**(j)).maxima_methods().residue(z,1).full_simplify())\n",
    "      \n",
    "    \n",
    "#### Extrapolation sigma = 2\n",
    "\n",
    "for i in range(q):\n",
    "    for j in range(q):\n",
    "        bd00[i, j] = bdMat_sigma2[i, j].full_simplify().collect(k).coefficient(k, 0)\n",
    "        bd01[i, j] = bdMat_sigma2[i, j].full_simplify().collect(k).coefficient(k, 1)\n",
    "        \n",
    "Bs[:, 0] = (bd00 + bd01*ks)*phiS ### First column\n",
    "Bs[:, 1] = (bd00)*phi0 ### Second column\n",
    "\n",
    "for i in range(q):\n",
    "    for j in range(q):\n",
    "        Bs[i, j] = Bs[i, j].full_simplify()\n",
    "KLDet = Bs.determinant().full_simplify()\n",
    "\n",
    "print(\"Kreiss Lopatinskii determinant for Extrapolation sigma = 2 at z=1\")\n",
    "pretty_print(taylor(KLDet, z, 1, 0))\n",
    "print(\"Boundary matrix on the stable subspace for Extrapolation sigma = 2 at z=1\")\n",
    "pretty_print(taylor(Bs, z, 1, 0))\n",
    "\n",
    "print(\"Computation of the long-time solution with residues\")\n",
    "g0Tilde = matrix([[1], [1]])\n",
    "var('n') ### Time index\n",
    "var('j') ### Space index\n",
    "print('For m_1')\n",
    "pretty_print(((Bs.inverse()*g0Tilde)[0][0]*phiS[0][0]*z**(n-1)*ks**(j)).maxima_methods().residue(z,1).full_simplify().factor())       \n",
    "print('For m_2')\n",
    "pretty_print(((Bs.inverse()*g0Tilde)[0][0]*phiS[1][0]*z**(n-1)*ks**(j)).maxima_methods().residue(z,1).full_simplify().factor())\n",
    "      \n",
    "    \n",
    "#### Extrapolation sigma = 3\n",
    "\n",
    "for i in range(q):\n",
    "    for j in range(q):\n",
    "        bd00[i, j] = bdMat_sigma3[i, j].full_simplify().collect(k).coefficient(k, 0)\n",
    "        bd01[i, j] = bdMat_sigma3[i, j].full_simplify().collect(k).coefficient(k, 1)\n",
    "        bd02[i, j] = bdMat_sigma3[i, j].full_simplify().collect(k).coefficient(k, 2)\n",
    "        \n",
    "Bs[:, 0] = (bd00 + bd01*ks+ bd02*ks**2)*phiS ### First column\n",
    "Bs[:, 1] = (bd00)*phi0 ### Second column\n",
    "\n",
    "for i in range(q):\n",
    "    for j in range(q):\n",
    "        Bs[i, j] = Bs[i, j].full_simplify()\n",
    "KLDet = Bs.determinant().full_simplify()\n",
    "\n",
    "print(\"Kreiss Lopatinskii determinant for Extrapolation sigma = 3 at z=1\")\n",
    "pretty_print(taylor(KLDet, z, 1, 0))\n",
    "print(\"Boundary matrix on the stable subspace for Extrapolation sigma = 3 at z=1\")\n",
    "pretty_print(taylor(Bs, z, 1, 0))\n",
    "\n",
    "print(\"Computation of the long-time solution with residues\")\n",
    "g0Tilde = matrix([[1], [1]])\n",
    "var('n') ### Time index\n",
    "var('j') ### Space index\n",
    "print('For m_1')\n",
    "pretty_print(((Bs.inverse()*g0Tilde)[0][0]*phiS[0][0]*z**(n-1)*ks**(j)).maxima_methods().residue(z,1).full_simplify().factor())       \n",
    "print('For m_2')\n",
    "pretty_print(((Bs.inverse()*g0Tilde)[0][0]*phiS[1][0]*z**(n-1)*ks**(j)).maxima_methods().residue(z,1).full_simplify().factor())\n",
    "      "
   ]
  },
  {
   "cell_type": "code",
   "execution_count": null,
   "id": "7b6256bc",
   "metadata": {},
   "outputs": [],
   "source": []
  },
  {
   "cell_type": "code",
   "execution_count": null,
   "id": "debc5ac8",
   "metadata": {},
   "outputs": [],
   "source": []
  },
  {
   "cell_type": "code",
   "execution_count": null,
   "id": "98db673a",
   "metadata": {},
   "outputs": [],
   "source": []
  },
  {
   "cell_type": "code",
   "execution_count": null,
   "id": "3ced3286",
   "metadata": {},
   "outputs": [],
   "source": []
  },
  {
   "cell_type": "code",
   "execution_count": null,
   "id": "8ddbe1e4",
   "metadata": {},
   "outputs": [],
   "source": []
  },
  {
   "cell_type": "code",
   "execution_count": 9,
   "id": "9a482989",
   "metadata": {},
   "outputs": [
    {
     "name": "stdout",
     "output_type": "stream",
     "text": [
      "======== s2 = 3/2   C = -1/2 ========\n",
      "Extrapolated equilibrium sigma = 1\n"
     ]
    },
    {
     "data": {
      "text/html": [
       "<html>\\(\\displaystyle \\left[{z} = 1, {\\kappa} = 1\\right]\\)</html>"
      ],
      "text/latex": [
       "$\\displaystyle \\left[{z} = 1, {\\kappa} = 1\\right]$"
      ],
      "text/plain": [
       "[z == 1, kappa == 1]"
      ]
     },
     "metadata": {},
     "output_type": "display_data"
    },
    {
     "name": "stdout",
     "output_type": "stream",
     "text": [
      "abs of z = 1.00000000000000   abs of k = 1.00000000000000\n"
     ]
    },
    {
     "data": {
      "text/html": [
       "<html>\\(\\displaystyle \\left[{z} = \\frac{1}{32} \\, \\sqrt{73} + \\frac{3}{32}, {\\kappa} = -\\frac{1}{4} \\, \\sqrt{73} + \\frac{9}{4}\\right]\\)</html>"
      ],
      "text/latex": [
       "$\\displaystyle \\left[{z} = \\frac{1}{32} \\, \\sqrt{73} + \\frac{3}{32}, {\\kappa} = -\\frac{1}{4} \\, \\sqrt{73} + \\frac{9}{4}\\right]$"
      ],
      "text/plain": [
       "[z == 1/32*sqrt(73) + 3/32, kappa == -1/4*sqrt(73) + 9/4]"
      ]
     },
     "metadata": {},
     "output_type": "display_data"
    },
    {
     "name": "stdout",
     "output_type": "stream",
     "text": [
      "abs of z = 0.360750117041173   abs of k = 0.113999063670617\n"
     ]
    },
    {
     "data": {
      "text/html": [
       "<html>\\(\\displaystyle \\left[{z} = -\\frac{1}{32} \\, \\sqrt{73} + \\frac{3}{32}, {\\kappa} = \\frac{1}{4} \\, \\sqrt{73} + \\frac{9}{4}\\right]\\)</html>"
      ],
      "text/latex": [
       "$\\displaystyle \\left[{z} = -\\frac{1}{32} \\, \\sqrt{73} + \\frac{3}{32}, {\\kappa} = \\frac{1}{4} \\, \\sqrt{73} + \\frac{9}{4}\\right]$"
      ],
      "text/plain": [
       "[z == -1/32*sqrt(73) + 3/32, kappa == 1/4*sqrt(73) + 9/4]"
      ]
     },
     "metadata": {},
     "output_type": "display_data"
    },
    {
     "name": "stdout",
     "output_type": "stream",
     "text": [
      "abs of z = 0.173250117041173   abs of k = 4.38600093632938\n"
     ]
    },
    {
     "data": {
      "text/html": [
       "<html>\\(\\displaystyle \\left[{z} = 0, {\\kappa} = 0\\right]\\)</html>"
      ],
      "text/latex": [
       "$\\displaystyle \\left[{z} = 0, {\\kappa} = 0\\right]$"
      ],
      "text/plain": [
       "[z == 0, kappa == 0]"
      ]
     },
     "metadata": {},
     "output_type": "display_data"
    },
    {
     "name": "stdout",
     "output_type": "stream",
     "text": [
      "abs of z = 0.000000000000000   abs of k = 0.000000000000000\n",
      "------\n",
      "Extrapolated equilibrium sigma = 3\n"
     ]
    },
    {
     "data": {
      "text/html": [
       "<html>\\(\\displaystyle \\left[{z} = 1, {\\kappa} = 1\\right]\\)</html>"
      ],
      "text/latex": [
       "$\\displaystyle \\left[{z} = 1, {\\kappa} = 1\\right]$"
      ],
      "text/plain": [
       "[z == 1, kappa == 1]"
      ]
     },
     "metadata": {},
     "output_type": "display_data"
    },
    {
     "name": "stdout",
     "output_type": "stream",
     "text": [
      "abs of z = 1.00000000000000   abs of k = 1.00000000000000\n"
     ]
    },
    {
     "data": {
      "text/html": [
       "<html>\\(\\displaystyle \\left[{z} = \\left(0.7016441993567356 + 0.1929312721309412i\\right), {\\kappa} = \\left(-0.3029445572847104 + 0.2719828611080649i\\right)\\right]\\)</html>"
      ],
      "text/latex": [
       "$\\displaystyle \\left[{z} = \\left(0.7016441993567356 + 0.1929312721309412i\\right), {\\kappa} = \\left(-0.3029445572847104 + 0.2719828611080649i\\right)\\right]$"
      ],
      "text/plain": [
       "[z == (0.7016441993567356 + 0.1929312721309412*I),\n",
       " kappa == (-0.3029445572847104 + 0.2719828611080649*I)]"
      ]
     },
     "metadata": {},
     "output_type": "display_data"
    },
    {
     "name": "stdout",
     "output_type": "stream",
     "text": [
      "abs of z = 0.727686098710851   abs of k = 0.407124159839426\n"
     ]
    },
    {
     "data": {
      "text/html": [
       "<html>\\(\\displaystyle \\left[{z} = \\left(0.7016441993567356 - 0.1929312721309412i\\right), {\\kappa} = \\left(-0.3029445572847104 - 0.2719828611080649i\\right)\\right]\\)</html>"
      ],
      "text/latex": [
       "$\\displaystyle \\left[{z} = \\left(0.7016441993567356 - 0.1929312721309412i\\right), {\\kappa} = \\left(-0.3029445572847104 - 0.2719828611080649i\\right)\\right]$"
      ],
      "text/plain": [
       "[z == (0.7016441993567356 - 0.1929312721309412*I),\n",
       " kappa == (-0.3029445572847104 - 0.2719828611080649*I)]"
      ]
     },
     "metadata": {},
     "output_type": "display_data"
    },
    {
     "name": "stdout",
     "output_type": "stream",
     "text": [
      "abs of z = 0.727686098710851   abs of k = 0.407124159839426\n"
     ]
    },
    {
     "data": {
      "text/html": [
       "<html>\\(\\displaystyle \\left[{z} = \\left(-0.4049195117017587 + 0.2969035262308976i\\right), {\\kappa} = \\left(0.7014728678499256 + 1.297921778345194i\\right)\\right]\\)</html>"
      ],
      "text/latex": [
       "$\\displaystyle \\left[{z} = \\left(-0.4049195117017587 + 0.2969035262308976i\\right), {\\kappa} = \\left(0.7014728678499256 + 1.297921778345194i\\right)\\right]$"
      ],
      "text/plain": [
       "[z == (-0.4049195117017587 + 0.2969035262308976*I),\n",
       " kappa == (0.7014728678499256 + 1.297921778345194*I)]"
      ]
     },
     "metadata": {},
     "output_type": "display_data"
    },
    {
     "name": "stdout",
     "output_type": "stream",
     "text": [
      "abs of z = 0.502107075079740   abs of k = 1.47535254330358\n"
     ]
    },
    {
     "data": {
      "text/html": [
       "<html>\\(\\displaystyle \\left[{z} = \\left(-0.4049195117017587 - 0.2969035262308976i\\right), {\\kappa} = \\left(0.7014728678499256 - 1.297921778345194i\\right)\\right]\\)</html>"
      ],
      "text/latex": [
       "$\\displaystyle \\left[{z} = \\left(-0.4049195117017587 - 0.2969035262308976i\\right), {\\kappa} = \\left(0.7014728678499256 - 1.297921778345194i\\right)\\right]$"
      ],
      "text/plain": [
       "[z == (-0.4049195117017587 - 0.2969035262308976*I),\n",
       " kappa == (0.7014728678499256 - 1.297921778345194*I)]"
      ]
     },
     "metadata": {},
     "output_type": "display_data"
    },
    {
     "name": "stdout",
     "output_type": "stream",
     "text": [
      "abs of z = 0.502107075079740   abs of k = 1.47535254330358\n"
     ]
    },
    {
     "data": {
      "text/html": [
       "<html>\\(\\displaystyle \\left[{z} = 1.301362948006058, {\\kappa} = 1.592990840302668\\right]\\)</html>"
      ],
      "text/latex": [
       "$\\displaystyle \\left[{z} = 1.301362948006058, {\\kappa} = 1.592990840302668\\right]$"
      ],
      "text/plain": [
       "[z == 1.301362948006058, kappa == 1.592990840302668]"
      ]
     },
     "metadata": {},
     "output_type": "display_data"
    },
    {
     "name": "stdout",
     "output_type": "stream",
     "text": [
      "abs of z = 1.30136294800606   abs of k = 1.59299084030267\n"
     ]
    },
    {
     "data": {
      "text/html": [
       "<html>\\(\\displaystyle \\left[{z} = \\left(-0.2698124621899576\\right), {\\kappa} = 2.609952606635071\\right]\\)</html>"
      ],
      "text/latex": [
       "$\\displaystyle \\left[{z} = \\left(-0.2698124621899576\\right), {\\kappa} = 2.609952606635071\\right]$"
      ],
      "text/plain": [
       "[z == -0.2698124621899576, kappa == 2.609952606635071]"
      ]
     },
     "metadata": {},
     "output_type": "display_data"
    },
    {
     "name": "stdout",
     "output_type": "stream",
     "text": [
      "abs of z = 0.269812462189958   abs of k = 2.60995260663507\n"
     ]
    },
    {
     "data": {
      "text/html": [
       "<html>\\(\\displaystyle \\left[{z} = 0, {\\kappa} = 0\\right]\\)</html>"
      ],
      "text/latex": [
       "$\\displaystyle \\left[{z} = 0, {\\kappa} = 0\\right]$"
      ],
      "text/plain": [
       "[z == 0, kappa == 0]"
      ]
     },
     "metadata": {},
     "output_type": "display_data"
    },
    {
     "name": "stdout",
     "output_type": "stream",
     "text": [
      "abs of z = 0.000000000000000   abs of k = 0.000000000000000\n",
      "------\n",
      "Future\n"
     ]
    },
    {
     "data": {
      "text/html": [
       "<html>\\(\\displaystyle \\left[{z} = 1, {\\kappa} = 1\\right]\\)</html>"
      ],
      "text/latex": [
       "$\\displaystyle \\left[{z} = 1, {\\kappa} = 1\\right]$"
      ],
      "text/plain": [
       "[z == 1, kappa == 1]"
      ]
     },
     "metadata": {},
     "output_type": "display_data"
    },
    {
     "name": "stdout",
     "output_type": "stream",
     "text": [
      "abs of z = 1.00000000000000   abs of k = 1.00000000000000\n"
     ]
    },
    {
     "data": {
      "text/html": [
       "<html>\\(\\displaystyle \\left[{z} = \\left(-0.5860923654618595 + 0.5671836376280159i\\right), {\\kappa} = \\left(-0.2563307777738857 + 1.456415829911178i\\right)\\right]\\)</html>"
      ],
      "text/latex": [
       "$\\displaystyle \\left[{z} = \\left(-0.5860923654618595 + 0.5671836376280159i\\right), {\\kappa} = \\left(-0.2563307777738857 + 1.456415829911178i\\right)\\right]$"
      ],
      "text/plain": [
       "[z == (-0.5860923654618595 + 0.5671836376280159*I),\n",
       " kappa == (-0.2563307777738857 + 1.456415829911178*I)]"
      ]
     },
     "metadata": {},
     "output_type": "display_data"
    },
    {
     "name": "stdout",
     "output_type": "stream",
     "text": [
      "abs of z = 0.815598884038978   abs of k = 1.47880104721698\n"
     ]
    },
    {
     "data": {
      "text/html": [
       "<html>\\(\\displaystyle \\left[{z} = \\left(-0.5860923654618595 - 0.5671836376280159i\\right), {\\kappa} = \\left(-0.2563307777738857 - 1.456415829911178i\\right)\\right]\\)</html>"
      ],
      "text/latex": [
       "$\\displaystyle \\left[{z} = \\left(-0.5860923654618595 - 0.5671836376280159i\\right), {\\kappa} = \\left(-0.2563307777738857 - 1.456415829911178i\\right)\\right]$"
      ],
      "text/plain": [
       "[z == (-0.5860923654618595 - 0.5671836376280159*I),\n",
       " kappa == (-0.2563307777738857 - 1.456415829911178*I)]"
      ]
     },
     "metadata": {},
     "output_type": "display_data"
    },
    {
     "name": "stdout",
     "output_type": "stream",
     "text": [
      "abs of z = 0.815598884038978   abs of k = 1.47880104721698\n"
     ]
    },
    {
     "data": {
      "text/html": [
       "<html>\\(\\displaystyle \\left[{z} = 0.1409347417161048, {\\kappa} = \\left(-5.48733821046708\\right)\\right]\\)</html>"
      ],
      "text/latex": [
       "$\\displaystyle \\left[{z} = 0.1409347417161048, {\\kappa} = \\left(-5.48733821046708\\right)\\right]$"
      ],
      "text/plain": [
       "[z == 0.1409347417161048, kappa == -5.48733821046708]"
      ]
     },
     "metadata": {},
     "output_type": "display_data"
    },
    {
     "name": "stdout",
     "output_type": "stream",
     "text": [
      "abs of z = 0.140934741716105   abs of k = 5.48733821046708\n"
     ]
    },
    {
     "data": {
      "text/html": [
       "<html>\\(\\displaystyle \\left[{z} = 0, {\\kappa} = 0\\right]\\)</html>"
      ],
      "text/latex": [
       "$\\displaystyle \\left[{z} = 0, {\\kappa} = 0\\right]$"
      ],
      "text/plain": [
       "[z == 0, kappa == 0]"
      ]
     },
     "metadata": {},
     "output_type": "display_data"
    },
    {
     "name": "stdout",
     "output_type": "stream",
     "text": [
      "abs of z = 0.000000000000000   abs of k = 0.000000000000000\n",
      "------\n",
      "Invented\n"
     ]
    },
    {
     "data": {
      "text/html": [
       "<html>\\(\\displaystyle \\left[{z} = \\left(\\frac{1}{2}\\right), {\\kappa} = \\left(-1\\right)\\right]\\)</html>"
      ],
      "text/latex": [
       "$\\displaystyle \\left[{z} = \\left(\\frac{1}{2}\\right), {\\kappa} = \\left(-1\\right)\\right]$"
      ],
      "text/plain": [
       "[z == (1/2), kappa == -1]"
      ]
     },
     "metadata": {},
     "output_type": "display_data"
    },
    {
     "name": "stdout",
     "output_type": "stream",
     "text": [
      "abs of z = 0.500000000000000   abs of k = 1.00000000000000\n"
     ]
    },
    {
     "data": {
      "text/html": [
       "<html>\\(\\displaystyle \\left[{z} = \\frac{3}{26} \\, \\sqrt{105} + \\frac{23}{26}, {\\kappa} = -\\frac{3}{26} \\, \\sqrt{105} + \\frac{29}{26}\\right]\\)</html>"
      ],
      "text/latex": [
       "$\\displaystyle \\left[{z} = \\frac{3}{26} \\, \\sqrt{105} + \\frac{23}{26}, {\\kappa} = -\\frac{3}{26} \\, \\sqrt{105} + \\frac{29}{26}\\right]$"
      ],
      "text/plain": [
       "[z == 3/26*sqrt(105) + 23/26, kappa == -3/26*sqrt(105) + 29/26]"
      ]
     },
     "metadata": {},
     "output_type": "display_data"
    },
    {
     "name": "stdout",
     "output_type": "stream",
     "text": [
      "abs of z = 2.06695585761072   abs of k = 0.0669558576107230\n"
     ]
    },
    {
     "data": {
      "text/html": [
       "<html>\\(\\displaystyle \\left[{z} = -\\frac{3}{26} \\, \\sqrt{105} + \\frac{23}{26}, {\\kappa} = \\frac{3}{26} \\, \\sqrt{105} + \\frac{29}{26}\\right]\\)</html>"
      ],
      "text/latex": [
       "$\\displaystyle \\left[{z} = -\\frac{3}{26} \\, \\sqrt{105} + \\frac{23}{26}, {\\kappa} = \\frac{3}{26} \\, \\sqrt{105} + \\frac{29}{26}\\right]$"
      ],
      "text/plain": [
       "[z == -3/26*sqrt(105) + 23/26, kappa == 3/26*sqrt(105) + 29/26]"
      ]
     },
     "metadata": {},
     "output_type": "display_data"
    },
    {
     "name": "stdout",
     "output_type": "stream",
     "text": [
      "abs of z = 0.297725088379954   abs of k = 2.29772508837995\n"
     ]
    },
    {
     "data": {
      "text/html": [
       "<html>\\(\\displaystyle \\left[{z} = 0, {\\kappa} = 0\\right]\\)</html>"
      ],
      "text/latex": [
       "$\\displaystyle \\left[{z} = 0, {\\kappa} = 0\\right]$"
      ],
      "text/plain": [
       "[z == 0, kappa == 0]"
      ]
     },
     "metadata": {},
     "output_type": "display_data"
    },
    {
     "name": "stdout",
     "output_type": "stream",
     "text": [
      "abs of z = 0.000000000000000   abs of k = 0.000000000000000\n",
      "======== s2 = 2   C = -1/2 ========\n",
      "Extrapolated equilibrium sigma = 1\n"
     ]
    },
    {
     "data": {
      "text/html": [
       "<html>\\(\\displaystyle \\left[{z} = 1, {\\kappa} = 1\\right]\\)</html>"
      ],
      "text/latex": [
       "$\\displaystyle \\left[{z} = 1, {\\kappa} = 1\\right]$"
      ],
      "text/plain": [
       "[z == 1, kappa == 1]"
      ]
     },
     "metadata": {},
     "output_type": "display_data"
    },
    {
     "name": "stdout",
     "output_type": "stream",
     "text": [
      "abs of z = 1.00000000000000   abs of k = 1.00000000000000\n"
     ]
    },
    {
     "data": {
      "text/html": [
       "<html>\\(\\displaystyle \\left[{z} = \\frac{1}{8} \\, \\sqrt{17} + \\frac{1}{8}, {\\kappa} = -\\frac{1}{2} \\, \\sqrt{17} + \\frac{5}{2}\\right]\\)</html>"
      ],
      "text/latex": [
       "$\\displaystyle \\left[{z} = \\frac{1}{8} \\, \\sqrt{17} + \\frac{1}{8}, {\\kappa} = -\\frac{1}{2} \\, \\sqrt{17} + \\frac{5}{2}\\right]$"
      ],
      "text/plain": [
       "[z == 1/8*sqrt(17) + 1/8, kappa == -1/2*sqrt(17) + 5/2]"
      ]
     },
     "metadata": {},
     "output_type": "display_data"
    },
    {
     "name": "stdout",
     "output_type": "stream",
     "text": [
      "abs of z = 0.640388203202208   abs of k = 0.438447187191170\n"
     ]
    },
    {
     "data": {
      "text/html": [
       "<html>\\(\\displaystyle \\left[{z} = -\\frac{1}{8} \\, \\sqrt{17} + \\frac{1}{8}, {\\kappa} = \\frac{1}{2} \\, \\sqrt{17} + \\frac{5}{2}\\right]\\)</html>"
      ],
      "text/latex": [
       "$\\displaystyle \\left[{z} = -\\frac{1}{8} \\, \\sqrt{17} + \\frac{1}{8}, {\\kappa} = \\frac{1}{2} \\, \\sqrt{17} + \\frac{5}{2}\\right]$"
      ],
      "text/plain": [
       "[z == -1/8*sqrt(17) + 1/8, kappa == 1/2*sqrt(17) + 5/2]"
      ]
     },
     "metadata": {},
     "output_type": "display_data"
    },
    {
     "name": "stdout",
     "output_type": "stream",
     "text": [
      "abs of z = 0.390388203202208   abs of k = 4.56155281280883\n"
     ]
    },
    {
     "data": {
      "text/html": [
       "<html>\\(\\displaystyle \\left[{z} = 0, {\\kappa} = 0\\right]\\)</html>"
      ],
      "text/latex": [
       "$\\displaystyle \\left[{z} = 0, {\\kappa} = 0\\right]$"
      ],
      "text/plain": [
       "[z == 0, kappa == 0]"
      ]
     },
     "metadata": {},
     "output_type": "display_data"
    },
    {
     "name": "stdout",
     "output_type": "stream",
     "text": [
      "abs of z = 0.000000000000000   abs of k = 0.000000000000000\n",
      "------\n",
      "Extrapolated equilibrium sigma = 3\n"
     ]
    },
    {
     "data": {
      "text/html": [
       "<html>\\(\\displaystyle \\left[{z} = 1, {\\kappa} = 1\\right]\\)</html>"
      ],
      "text/latex": [
       "$\\displaystyle \\left[{z} = 1, {\\kappa} = 1\\right]$"
      ],
      "text/plain": [
       "[z == 1, kappa == 1]"
      ]
     },
     "metadata": {},
     "output_type": "display_data"
    },
    {
     "name": "stdout",
     "output_type": "stream",
     "text": [
      "abs of z = 1.00000000000000   abs of k = 1.00000000000000\n"
     ]
    },
    {
     "data": {
      "text/html": [
       "<html>\\(\\displaystyle \\left[{z} = \\left(1.018741332422399 + 0.4653840017729137i\\right), {\\kappa} = \\left(-0.4376661032093899 + 0.5681588348589154i\\right)\\right]\\)</html>"
      ],
      "text/latex": [
       "$\\displaystyle \\left[{z} = \\left(1.018741332422399 + 0.4653840017729137i\\right), {\\kappa} = \\left(-0.4376661032093899 + 0.5681588348589154i\\right)\\right]$"
      ],
      "text/plain": [
       "[z == (1.018741332422399 + 0.4653840017729137*I),\n",
       " kappa == (-0.4376661032093899 + 0.5681588348589154*I)]"
      ]
     },
     "metadata": {},
     "output_type": "display_data"
    },
    {
     "name": "stdout",
     "output_type": "stream",
     "text": [
      "abs of z = 1.12000721939278   abs of k = 0.717186223742992\n"
     ]
    },
    {
     "data": {
      "text/html": [
       "<html>\\(\\displaystyle \\left[{z} = \\left(1.018741332422399 - 0.4653840017729137i\\right), {\\kappa} = \\left(-0.4376661032093899 - 0.5681588348589154i\\right)\\right]\\)</html>"
      ],
      "text/latex": [
       "$\\displaystyle \\left[{z} = \\left(1.018741332422399 - 0.4653840017729137i\\right), {\\kappa} = \\left(-0.4376661032093899 - 0.5681588348589154i\\right)\\right]$"
      ],
      "text/plain": [
       "[z == (1.018741332422399 - 0.4653840017729137*I),\n",
       " kappa == (-0.4376661032093899 - 0.5681588348589154*I)]"
      ]
     },
     "metadata": {},
     "output_type": "display_data"
    },
    {
     "name": "stdout",
     "output_type": "stream",
     "text": [
      "abs of z = 1.12000721939278   abs of k = 0.717186223742992\n"
     ]
    },
    {
     "data": {
      "text/html": [
       "<html>\\(\\displaystyle \\left[{z} = \\left(-0.7693494130384367 + 0.4293250233628014i\\right), {\\kappa} = \\left(0.7355495784231985 + 1.406565834218099i\\right)\\right]\\)</html>"
      ],
      "text/latex": [
       "$\\displaystyle \\left[{z} = \\left(-0.7693494130384367 + 0.4293250233628014i\\right), {\\kappa} = \\left(0.7355495784231985 + 1.406565834218099i\\right)\\right]$"
      ],
      "text/plain": [
       "[z == (-0.7693494130384367 + 0.4293250233628014*I),\n",
       " kappa == (0.7355495784231985 + 1.406565834218099*I)]"
      ]
     },
     "metadata": {},
     "output_type": "display_data"
    },
    {
     "name": "stdout",
     "output_type": "stream",
     "text": [
      "abs of z = 0.881032629945144   abs of k = 1.58728089143296\n"
     ]
    },
    {
     "data": {
      "text/html": [
       "<html>\\(\\displaystyle \\left[{z} = \\left(-0.7693494130384367 - 0.4293250233628014i\\right), {\\kappa} = \\left(0.7355495784231985 - 1.406565834218099i\\right)\\right]\\)</html>"
      ],
      "text/latex": [
       "$\\displaystyle \\left[{z} = \\left(-0.7693494130384367 - 0.4293250233628014i\\right), {\\kappa} = \\left(0.7355495784231985 - 1.406565834218099i\\right)\\right]$"
      ],
      "text/plain": [
       "[z == (-0.7693494130384367 - 0.4293250233628014*I),\n",
       " kappa == (0.7355495784231985 - 1.406565834218099*I)]"
      ]
     },
     "metadata": {},
     "output_type": "display_data"
    },
    {
     "name": "stdout",
     "output_type": "stream",
     "text": [
      "abs of z = 0.881032629945144   abs of k = 1.58728089143296\n"
     ]
    },
    {
     "data": {
      "text/html": [
       "<html>\\(\\displaystyle \\left[{z} = 1.330248416950804, {\\kappa} = 1.7337899543379\\right]\\)</html>"
      ],
      "text/latex": [
       "$\\displaystyle \\left[{z} = 1.330248416950804, {\\kappa} = 1.7337899543379\\right]$"
      ],
      "text/plain": [
       "[z == 1.330248416950804, kappa == 1.7337899543379]"
      ]
     },
     "metadata": {},
     "output_type": "display_data"
    },
    {
     "name": "stdout",
     "output_type": "stream",
     "text": [
      "abs of z = 1.33024841695080   abs of k = 1.73378995433790\n"
     ]
    },
    {
     "data": {
      "text/html": [
       "<html>\\(\\displaystyle \\left[{z} = \\left(-0.579032376477498\\right), {\\kappa} = 2.670443349753695\\right]\\)</html>"
      ],
      "text/latex": [
       "$\\displaystyle \\left[{z} = \\left(-0.579032376477498\\right), {\\kappa} = 2.670443349753695\\right]$"
      ],
      "text/plain": [
       "[z == -0.579032376477498, kappa == 2.670443349753695]"
      ]
     },
     "metadata": {},
     "output_type": "display_data"
    },
    {
     "name": "stdout",
     "output_type": "stream",
     "text": [
      "abs of z = 0.579032376477498   abs of k = 2.67044334975370\n"
     ]
    },
    {
     "data": {
      "text/html": [
       "<html>\\(\\displaystyle \\left[{z} = 0, {\\kappa} = 0\\right]\\)</html>"
      ],
      "text/latex": [
       "$\\displaystyle \\left[{z} = 0, {\\kappa} = 0\\right]$"
      ],
      "text/plain": [
       "[z == 0, kappa == 0]"
      ]
     },
     "metadata": {},
     "output_type": "display_data"
    },
    {
     "name": "stdout",
     "output_type": "stream",
     "text": [
      "abs of z = 0.000000000000000   abs of k = 0.000000000000000\n",
      "------\n",
      "Future\n"
     ]
    },
    {
     "data": {
      "text/html": [
       "<html>\\(\\displaystyle \\left[{z} = 1, {\\kappa} = 1\\right]\\)</html>"
      ],
      "text/latex": [
       "$\\displaystyle \\left[{z} = 1, {\\kappa} = 1\\right]$"
      ],
      "text/plain": [
       "[z == 1, kappa == 1]"
      ]
     },
     "metadata": {},
     "output_type": "display_data"
    },
    {
     "name": "stdout",
     "output_type": "stream",
     "text": [
      "abs of z = 1.00000000000000   abs of k = 1.00000000000000\n"
     ]
    },
    {
     "data": {
      "text/html": [
       "<html>\\(\\displaystyle \\left[{z} = \\left(-0.8201576720628829 + 0.5455465690381858i\\right), {\\kappa} = \\left(0.08315637369889455 + 1.587350997622649i\\right)\\right]\\)</html>"
      ],
      "text/latex": [
       "$\\displaystyle \\left[{z} = \\left(-0.8201576720628829 + 0.5455465690381858i\\right), {\\kappa} = \\left(0.08315637369889455 + 1.587350997622649i\\right)\\right]$"
      ],
      "text/plain": [
       "[z == (-0.8201576720628829 + 0.5455465690381858*I),\n",
       " kappa == (0.08315637369889455 + 1.587350997622649*I)]"
      ]
     },
     "metadata": {},
     "output_type": "display_data"
    },
    {
     "name": "stdout",
     "output_type": "stream",
     "text": [
      "abs of z = 0.985027748864439   abs of k = 1.58952765692843\n"
     ]
    },
    {
     "data": {
      "text/html": [
       "<html>\\(\\displaystyle \\left[{z} = \\left(-0.8201576720628829 - 0.5455465690381858i\\right), {\\kappa} = \\left(0.08315637369889455 - 1.587350997622649i\\right)\\right]\\)</html>"
      ],
      "text/latex": [
       "$\\displaystyle \\left[{z} = \\left(-0.8201576720628829 - 0.5455465690381858i\\right), {\\kappa} = \\left(0.08315637369889455 - 1.587350997622649i\\right)\\right]$"
      ],
      "text/plain": [
       "[z == (-0.8201576720628829 - 0.5455465690381858*I),\n",
       " kappa == (0.08315637369889455 - 1.587350997622649*I)]"
      ]
     },
     "metadata": {},
     "output_type": "display_data"
    },
    {
     "name": "stdout",
     "output_type": "stream",
     "text": [
      "abs of z = 0.985027748864439   abs of k = 1.58952765692843\n"
     ]
    },
    {
     "data": {
      "text/html": [
       "<html>\\(\\displaystyle \\left[{z} = 0.5153153153153153, {\\kappa} = \\left(-3.166312809624912\\right)\\right]\\)</html>"
      ],
      "text/latex": [
       "$\\displaystyle \\left[{z} = 0.5153153153153153, {\\kappa} = \\left(-3.166312809624912\\right)\\right]$"
      ],
      "text/plain": [
       "[z == 0.5153153153153153, kappa == -3.166312809624912]"
      ]
     },
     "metadata": {},
     "output_type": "display_data"
    },
    {
     "name": "stdout",
     "output_type": "stream",
     "text": [
      "abs of z = 0.515315315315315   abs of k = 3.16631280962491\n"
     ]
    },
    {
     "data": {
      "text/html": [
       "<html>\\(\\displaystyle \\left[{z} = 0, {\\kappa} = 0\\right]\\)</html>"
      ],
      "text/latex": [
       "$\\displaystyle \\left[{z} = 0, {\\kappa} = 0\\right]$"
      ],
      "text/plain": [
       "[z == 0, kappa == 0]"
      ]
     },
     "metadata": {},
     "output_type": "display_data"
    },
    {
     "name": "stdout",
     "output_type": "stream",
     "text": [
      "abs of z = 0.000000000000000   abs of k = 0.000000000000000\n",
      "------\n",
      "Invented\n"
     ]
    },
    {
     "data": {
      "text/html": [
       "<html>\\(\\displaystyle \\left[{z} = 1, {\\kappa} = \\left(-1\\right)\\right]\\)</html>"
      ],
      "text/latex": [
       "$\\displaystyle \\left[{z} = 1, {\\kappa} = \\left(-1\\right)\\right]$"
      ],
      "text/plain": [
       "[z == 1, kappa == -1]"
      ]
     },
     "metadata": {},
     "output_type": "display_data"
    },
    {
     "name": "stdout",
     "output_type": "stream",
     "text": [
      "abs of z = 1.00000000000000   abs of k = 1.00000000000000\n"
     ]
    },
    {
     "data": {
      "text/html": [
       "<html>\\(\\displaystyle \\left[{z} = \\frac{1}{6} \\, \\sqrt{73} + \\frac{5}{6}, {\\kappa} = -\\frac{1}{6} \\, \\sqrt{73} + \\frac{7}{6}\\right]\\)</html>"
      ],
      "text/latex": [
       "$\\displaystyle \\left[{z} = \\frac{1}{6} \\, \\sqrt{73} + \\frac{5}{6}, {\\kappa} = -\\frac{1}{6} \\, \\sqrt{73} + \\frac{7}{6}\\right]$"
      ],
      "text/plain": [
       "[z == 1/6*sqrt(73) + 5/6, kappa == -1/6*sqrt(73) + 7/6]"
      ]
     },
     "metadata": {},
     "output_type": "display_data"
    },
    {
     "name": "stdout",
     "output_type": "stream",
     "text": [
      "abs of z = 2.25733395755292   abs of k = 0.257333957552922\n"
     ]
    },
    {
     "data": {
      "text/html": [
       "<html>\\(\\displaystyle \\left[{z} = -\\frac{1}{6} \\, \\sqrt{73} + \\frac{5}{6}, {\\kappa} = \\frac{1}{6} \\, \\sqrt{73} + \\frac{7}{6}\\right]\\)</html>"
      ],
      "text/latex": [
       "$\\displaystyle \\left[{z} = -\\frac{1}{6} \\, \\sqrt{73} + \\frac{5}{6}, {\\kappa} = \\frac{1}{6} \\, \\sqrt{73} + \\frac{7}{6}\\right]$"
      ],
      "text/plain": [
       "[z == -1/6*sqrt(73) + 5/6, kappa == 1/6*sqrt(73) + 7/6]"
      ]
     },
     "metadata": {},
     "output_type": "display_data"
    },
    {
     "name": "stdout",
     "output_type": "stream",
     "text": [
      "abs of z = 0.590667290886255   abs of k = 2.59066729088626\n"
     ]
    },
    {
     "data": {
      "text/html": [
       "<html>\\(\\displaystyle \\left[{z} = 0, {\\kappa} = 0\\right]\\)</html>"
      ],
      "text/latex": [
       "$\\displaystyle \\left[{z} = 0, {\\kappa} = 0\\right]$"
      ],
      "text/plain": [
       "[z == 0, kappa == 0]"
      ]
     },
     "metadata": {},
     "output_type": "display_data"
    },
    {
     "name": "stdout",
     "output_type": "stream",
     "text": [
      "abs of z = 0.000000000000000   abs of k = 0.000000000000000\n",
      "======== s2 = 3/2   C = 1/2 ========\n",
      "Extrapolated equilibrium sigma = 1\n"
     ]
    },
    {
     "data": {
      "text/html": [
       "<html>\\(\\displaystyle \\left[{z} = 1, {\\kappa} = 1\\right]\\)</html>"
      ],
      "text/latex": [
       "$\\displaystyle \\left[{z} = 1, {\\kappa} = 1\\right]$"
      ],
      "text/plain": [
       "[z == 1, kappa == 1]"
      ]
     },
     "metadata": {},
     "output_type": "display_data"
    },
    {
     "name": "stdout",
     "output_type": "stream",
     "text": [
      "abs of z = 1.00000000000000   abs of k = 1.00000000000000\n"
     ]
    },
    {
     "data": {
      "text/html": [
       "<html>\\(\\displaystyle \\left[{z} = \\frac{1}{32} \\, \\sqrt{241} - \\frac{7}{32}, {\\kappa} = -\\frac{1}{12} \\, \\sqrt{241} + \\frac{11}{12}\\right]\\)</html>"
      ],
      "text/latex": [
       "$\\displaystyle \\left[{z} = \\frac{1}{32} \\, \\sqrt{241} - \\frac{7}{32}, {\\kappa} = -\\frac{1}{12} \\, \\sqrt{241} + \\frac{11}{12}\\right]$"
      ],
      "text/plain": [
       "[z == 1/32*sqrt(241) - 7/32, kappa == -1/12*sqrt(241) + 11/12]"
      ]
     },
     "metadata": {},
     "output_type": "display_data"
    },
    {
     "name": "stdout",
     "output_type": "stream",
     "text": [
      "abs of z = 0.266380459258126   abs of k = 0.377014558021669\n"
     ]
    },
    {
     "data": {
      "text/html": [
       "<html>\\(\\displaystyle \\left[{z} = -\\frac{1}{32} \\, \\sqrt{241} - \\frac{7}{32}, {\\kappa} = \\frac{1}{12} \\, \\sqrt{241} + \\frac{11}{12}\\right]\\)</html>"
      ],
      "text/latex": [
       "$\\displaystyle \\left[{z} = -\\frac{1}{32} \\, \\sqrt{241} - \\frac{7}{32}, {\\kappa} = \\frac{1}{12} \\, \\sqrt{241} + \\frac{11}{12}\\right]$"
      ],
      "text/plain": [
       "[z == -1/32*sqrt(241) - 7/32, kappa == 1/12*sqrt(241) + 11/12]"
      ]
     },
     "metadata": {},
     "output_type": "display_data"
    },
    {
     "name": "stdout",
     "output_type": "stream",
     "text": [
      "abs of z = 0.703880459258126   abs of k = 2.21034789135500\n"
     ]
    },
    {
     "data": {
      "text/html": [
       "<html>\\(\\displaystyle \\left[{z} = 0, {\\kappa} = 0\\right]\\)</html>"
      ],
      "text/latex": [
       "$\\displaystyle \\left[{z} = 0, {\\kappa} = 0\\right]$"
      ],
      "text/plain": [
       "[z == 0, kappa == 0]"
      ]
     },
     "metadata": {},
     "output_type": "display_data"
    },
    {
     "name": "stdout",
     "output_type": "stream",
     "text": [
      "abs of z = 0.000000000000000   abs of k = 0.000000000000000\n",
      "------\n",
      "Extrapolated equilibrium sigma = 3\n"
     ]
    },
    {
     "data": {
      "text/html": [
       "<html>\\(\\displaystyle \\left[{z} = 1, {\\kappa} = 1\\right]\\)</html>"
      ],
      "text/latex": [
       "$\\displaystyle \\left[{z} = 1, {\\kappa} = 1\\right]$"
      ],
      "text/plain": [
       "[z == 1, kappa == 1]"
      ]
     },
     "metadata": {},
     "output_type": "display_data"
    },
    {
     "name": "stdout",
     "output_type": "stream",
     "text": [
      "abs of z = 1.00000000000000   abs of k = 1.00000000000000\n"
     ]
    },
    {
     "data": {
      "text/html": [
       "<html>\\(\\displaystyle \\left[{z} = 1.39470782800441, {\\kappa} = 0.5646927374301676\\right]\\)</html>"
      ],
      "text/latex": [
       "$\\displaystyle \\left[{z} = 1.39470782800441, {\\kappa} = 0.5646927374301676\\right]$"
      ],
      "text/plain": [
       "[z == 1.39470782800441, kappa == 0.5646927374301676]"
      ]
     },
     "metadata": {},
     "output_type": "display_data"
    },
    {
     "name": "stdout",
     "output_type": "stream",
     "text": [
      "abs of z = 1.39470782800441   abs of k = 0.564692737430168\n"
     ]
    },
    {
     "data": {
      "text/html": [
       "<html>\\(\\displaystyle \\left[{z} = 0.4592413236481033, {\\kappa} = \\left(-0.8495286439448876\\right)\\right]\\)</html>"
      ],
      "text/latex": [
       "$\\displaystyle \\left[{z} = 0.4592413236481033, {\\kappa} = \\left(-0.8495286439448876\\right)\\right]$"
      ],
      "text/plain": [
       "[z == 0.4592413236481033, kappa == -0.8495286439448876]"
      ]
     },
     "metadata": {},
     "output_type": "display_data"
    },
    {
     "name": "stdout",
     "output_type": "stream",
     "text": [
      "abs of z = 0.459241323648103   abs of k = 0.849528643944888\n"
     ]
    },
    {
     "data": {
      "text/html": [
       "<html>\\(\\displaystyle \\left[{z} = \\left(-0.575333161249601 - 0.1990523192361407i\\right), {\\kappa} = \\left(0.9055453017364968 + 0.991129378888277i\\right)\\right]\\)</html>"
      ],
      "text/latex": [
       "$\\displaystyle \\left[{z} = \\left(-0.575333161249601 - 0.1990523192361407i\\right), {\\kappa} = \\left(0.9055453017364968 + 0.991129378888277i\\right)\\right]$"
      ],
      "text/plain": [
       "[z == (-0.575333161249601 - 0.1990523192361407*I),\n",
       " kappa == (0.9055453017364968 + 0.991129378888277*I)]"
      ]
     },
     "metadata": {},
     "output_type": "display_data"
    },
    {
     "name": "stdout",
     "output_type": "stream",
     "text": [
      "abs of z = 0.608793948907794   abs of k = 1.34251619699447\n"
     ]
    },
    {
     "data": {
      "text/html": [
       "<html>\\(\\displaystyle \\left[{z} = \\left(-0.575333161249601 + 0.1990523192361406i\\right), {\\kappa} = \\left(0.9055453017364968 - 0.991129378888277i\\right)\\right]\\)</html>"
      ],
      "text/latex": [
       "$\\displaystyle \\left[{z} = \\left(-0.575333161249601 + 0.1990523192361406i\\right), {\\kappa} = \\left(0.9055453017364968 - 0.991129378888277i\\right)\\right]$"
      ],
      "text/plain": [
       "[z == (-0.575333161249601 + 0.1990523192361406*I),\n",
       " kappa == (0.9055453017364968 - 0.991129378888277*I)]"
      ]
     },
     "metadata": {},
     "output_type": "display_data"
    },
    {
     "name": "stdout",
     "output_type": "stream",
     "text": [
      "abs of z = 0.608793948907794   abs of k = 1.34251619699447\n"
     ]
    },
    {
     "data": {
      "text/html": [
       "<html>\\(\\displaystyle \\left[{z} = 0.8602925125518446, {\\kappa} = 1.382881002087683\\right]\\)</html>"
      ],
      "text/latex": [
       "$\\displaystyle \\left[{z} = 0.8602925125518446, {\\kappa} = 1.382881002087683\\right]$"
      ],
      "text/plain": [
       "[z == 0.8602925125518446, kappa == 1.382881002087683]"
      ]
     },
     "metadata": {},
     "output_type": "display_data"
    },
    {
     "name": "stdout",
     "output_type": "stream",
     "text": [
      "abs of z = 0.860292512551845   abs of k = 1.38288100208768\n"
     ]
    },
    {
     "data": {
      "text/html": [
       "<html>\\(\\displaystyle \\left[{z} = \\left(-0.6885754583921015\\right), {\\kappa} = 2.090864197530864\\right]\\)</html>"
      ],
      "text/latex": [
       "$\\displaystyle \\left[{z} = \\left(-0.6885754583921015\\right), {\\kappa} = 2.090864197530864\\right]$"
      ],
      "text/plain": [
       "[z == -0.6885754583921015, kappa == 2.090864197530864]"
      ]
     },
     "metadata": {},
     "output_type": "display_data"
    },
    {
     "name": "stdout",
     "output_type": "stream",
     "text": [
      "abs of z = 0.688575458392102   abs of k = 2.09086419753086\n"
     ]
    },
    {
     "data": {
      "text/html": [
       "<html>\\(\\displaystyle \\left[{z} = 0, {\\kappa} = 0\\right]\\)</html>"
      ],
      "text/latex": [
       "$\\displaystyle \\left[{z} = 0, {\\kappa} = 0\\right]$"
      ],
      "text/plain": [
       "[z == 0, kappa == 0]"
      ]
     },
     "metadata": {},
     "output_type": "display_data"
    },
    {
     "name": "stdout",
     "output_type": "stream",
     "text": [
      "abs of z = 0.000000000000000   abs of k = 0.000000000000000\n",
      "------\n",
      "Future\n"
     ]
    },
    {
     "data": {
      "text/html": [
       "<html>\\(\\displaystyle \\left[{z} = 1, {\\kappa} = 1\\right]\\)</html>"
      ],
      "text/latex": [
       "$\\displaystyle \\left[{z} = 1, {\\kappa} = 1\\right]$"
      ],
      "text/plain": [
       "[z == 1, kappa == 1]"
      ]
     },
     "metadata": {},
     "output_type": "display_data"
    },
    {
     "name": "stdout",
     "output_type": "stream",
     "text": [
      "abs of z = 1.00000000000000   abs of k = 1.00000000000000\n"
     ]
    },
    {
     "data": {
      "text/html": [
       "<html>\\(\\displaystyle \\left[{z} = \\left(-0.5986107442266557 - 0.2529437755113792i\\right), {\\kappa} = \\left(0.6278718293409494 + 1.298652458522981i\\right)\\right]\\)</html>"
      ],
      "text/latex": [
       "$\\displaystyle \\left[{z} = \\left(-0.5986107442266557 - 0.2529437755113792i\\right), {\\kappa} = \\left(0.6278718293409494 + 1.298652458522981i\\right)\\right]$"
      ],
      "text/plain": [
       "[z == (-0.5986107442266557 - 0.2529437755113792*I),\n",
       " kappa == (0.6278718293409494 + 1.298652458522981*I)]"
      ]
     },
     "metadata": {},
     "output_type": "display_data"
    },
    {
     "name": "stdout",
     "output_type": "stream",
     "text": [
      "abs of z = 0.649857966538490   abs of k = 1.44247053422513\n"
     ]
    },
    {
     "data": {
      "text/html": [
       "<html>\\(\\displaystyle \\left[{z} = \\left(-0.598610744226656 + 0.2529437755113793i\\right), {\\kappa} = \\left(0.6278718293409494 - 1.298652458522981i\\right)\\right]\\)</html>"
      ],
      "text/latex": [
       "$\\displaystyle \\left[{z} = \\left(-0.598610744226656 + 0.2529437755113793i\\right), {\\kappa} = \\left(0.6278718293409494 - 1.298652458522981i\\right)\\right]$"
      ],
      "text/plain": [
       "[z == (-0.598610744226656 + 0.2529437755113793*I),\n",
       " kappa == (0.6278718293409494 - 1.298652458522981*I)]"
      ]
     },
     "metadata": {},
     "output_type": "display_data"
    },
    {
     "name": "stdout",
     "output_type": "stream",
     "text": [
      "abs of z = 0.649857966538491   abs of k = 1.44247053422513\n"
     ]
    },
    {
     "data": {
      "text/html": [
       "<html>\\(\\displaystyle \\left[{z} = 0.6659714980882864, {\\kappa} = \\left(-1.922410235245563\\right)\\right]\\)</html>"
      ],
      "text/latex": [
       "$\\displaystyle \\left[{z} = 0.6659714980882864, {\\kappa} = \\left(-1.922410235245563\\right)\\right]$"
      ],
      "text/plain": [
       "[z == 0.6659714980882864, kappa == -1.922410235245563]"
      ]
     },
     "metadata": {},
     "output_type": "display_data"
    },
    {
     "name": "stdout",
     "output_type": "stream",
     "text": [
      "abs of z = 0.665971498088286   abs of k = 1.92241023524556\n"
     ]
    },
    {
     "data": {
      "text/html": [
       "<html>\\(\\displaystyle \\left[{z} = 0, {\\kappa} = 0\\right]\\)</html>"
      ],
      "text/latex": [
       "$\\displaystyle \\left[{z} = 0, {\\kappa} = 0\\right]$"
      ],
      "text/plain": [
       "[z == 0, kappa == 0]"
      ]
     },
     "metadata": {},
     "output_type": "display_data"
    },
    {
     "name": "stdout",
     "output_type": "stream",
     "text": [
      "abs of z = 0.000000000000000   abs of k = 0.000000000000000\n",
      "------\n",
      "Invented\n"
     ]
    },
    {
     "data": {
      "text/html": [
       "<html>\\(\\displaystyle \\left[{z} = \\left(\\frac{1}{2}\\right), {\\kappa} = \\left(-1\\right)\\right]\\)</html>"
      ],
      "text/latex": [
       "$\\displaystyle \\left[{z} = \\left(\\frac{1}{2}\\right), {\\kappa} = \\left(-1\\right)\\right]$"
      ],
      "text/plain": [
       "[z == (1/2), kappa == -1]"
      ]
     },
     "metadata": {},
     "output_type": "display_data"
    },
    {
     "name": "stdout",
     "output_type": "stream",
     "text": [
      "abs of z = 0.500000000000000   abs of k = 1.00000000000000\n"
     ]
    },
    {
     "data": {
      "text/html": [
       "<html>\\(\\displaystyle \\left[{z} = \\frac{1}{14} \\, \\sqrt{249} + \\frac{5}{14}, {\\kappa} = -\\frac{1}{14} \\, \\sqrt{249} + \\frac{23}{14}\\right]\\)</html>"
      ],
      "text/latex": [
       "$\\displaystyle \\left[{z} = \\frac{1}{14} \\, \\sqrt{249} + \\frac{5}{14}, {\\kappa} = -\\frac{1}{14} \\, \\sqrt{249} + \\frac{23}{14}\\right]$"
      ],
      "text/plain": [
       "[z == 1/14*sqrt(249) + 5/14, kappa == -1/14*sqrt(249) + 23/14]"
      ]
     },
     "metadata": {},
     "output_type": "display_data"
    },
    {
     "name": "stdout",
     "output_type": "stream",
     "text": [
      "abs of z = 1.48426670271854   abs of k = 0.515733297281464\n"
     ]
    },
    {
     "data": {
      "text/html": [
       "<html>\\(\\displaystyle \\left[{z} = -\\frac{1}{14} \\, \\sqrt{249} + \\frac{5}{14}, {\\kappa} = \\frac{1}{14} \\, \\sqrt{249} + \\frac{23}{14}\\right]\\)</html>"
      ],
      "text/latex": [
       "$\\displaystyle \\left[{z} = -\\frac{1}{14} \\, \\sqrt{249} + \\frac{5}{14}, {\\kappa} = \\frac{1}{14} \\, \\sqrt{249} + \\frac{23}{14}\\right]$"
      ],
      "text/plain": [
       "[z == -1/14*sqrt(249) + 5/14, kappa == 1/14*sqrt(249) + 23/14]"
      ]
     },
     "metadata": {},
     "output_type": "display_data"
    },
    {
     "name": "stdout",
     "output_type": "stream",
     "text": [
      "abs of z = 0.769980988432821   abs of k = 2.76998098843282\n"
     ]
    },
    {
     "data": {
      "text/html": [
       "<html>\\(\\displaystyle \\left[{z} = 0, {\\kappa} = 0\\right]\\)</html>"
      ],
      "text/latex": [
       "$\\displaystyle \\left[{z} = 0, {\\kappa} = 0\\right]$"
      ],
      "text/plain": [
       "[z == 0, kappa == 0]"
      ]
     },
     "metadata": {},
     "output_type": "display_data"
    },
    {
     "name": "stdout",
     "output_type": "stream",
     "text": [
      "abs of z = 0.000000000000000   abs of k = 0.000000000000000\n",
      "======== s2 = 2   C = 1/2 ========\n",
      "Extrapolated equilibrium sigma = 1\n"
     ]
    },
    {
     "data": {
      "text/html": [
       "<html>\\(\\displaystyle \\left[{z} = 1, {\\kappa} = 1\\right]\\)</html>"
      ],
      "text/latex": [
       "$\\displaystyle \\left[{z} = 1, {\\kappa} = 1\\right]$"
      ],
      "text/plain": [
       "[z == 1, kappa == 1]"
      ]
     },
     "metadata": {},
     "output_type": "display_data"
    },
    {
     "name": "stdout",
     "output_type": "stream",
     "text": [
      "abs of z = 1.00000000000000   abs of k = 1.00000000000000\n"
     ]
    },
    {
     "data": {
      "text/html": [
       "<html>\\(\\displaystyle \\left[{z} = \\frac{1}{8} \\, \\sqrt{73} - \\frac{5}{8}, {\\kappa} = -\\frac{1}{6} \\, \\sqrt{73} + \\frac{7}{6}\\right]\\)</html>"
      ],
      "text/latex": [
       "$\\displaystyle \\left[{z} = \\frac{1}{8} \\, \\sqrt{73} - \\frac{5}{8}, {\\kappa} = -\\frac{1}{6} \\, \\sqrt{73} + \\frac{7}{6}\\right]$"
      ],
      "text/plain": [
       "[z == 1/8*sqrt(73) - 5/8, kappa == -1/6*sqrt(73) + 7/6]"
      ]
     },
     "metadata": {},
     "output_type": "display_data"
    },
    {
     "name": "stdout",
     "output_type": "stream",
     "text": [
      "abs of z = 0.443000468164691   abs of k = 0.257333957552922\n"
     ]
    },
    {
     "data": {
      "text/html": [
       "<html>\\(\\displaystyle \\left[{z} = -\\frac{1}{8} \\, \\sqrt{73} - \\frac{5}{8}, {\\kappa} = \\frac{1}{6} \\, \\sqrt{73} + \\frac{7}{6}\\right]\\)</html>"
      ],
      "text/latex": [
       "$\\displaystyle \\left[{z} = -\\frac{1}{8} \\, \\sqrt{73} - \\frac{5}{8}, {\\kappa} = \\frac{1}{6} \\, \\sqrt{73} + \\frac{7}{6}\\right]$"
      ],
      "text/plain": [
       "[z == -1/8*sqrt(73) - 5/8, kappa == 1/6*sqrt(73) + 7/6]"
      ]
     },
     "metadata": {},
     "output_type": "display_data"
    },
    {
     "name": "stdout",
     "output_type": "stream",
     "text": [
      "abs of z = 1.69300046816469   abs of k = 2.59066729088626\n"
     ]
    },
    {
     "data": {
      "text/html": [
       "<html>\\(\\displaystyle \\left[{z} = 0, {\\kappa} = 0\\right]\\)</html>"
      ],
      "text/latex": [
       "$\\displaystyle \\left[{z} = 0, {\\kappa} = 0\\right]$"
      ],
      "text/plain": [
       "[z == 0, kappa == 0]"
      ]
     },
     "metadata": {},
     "output_type": "display_data"
    },
    {
     "name": "stdout",
     "output_type": "stream",
     "text": [
      "abs of z = 0.000000000000000   abs of k = 0.000000000000000\n",
      "------\n",
      "Extrapolated equilibrium sigma = 3\n"
     ]
    },
    {
     "data": {
      "text/html": [
       "<html>\\(\\displaystyle \\left[{z} = 1, {\\kappa} = 1\\right]\\)</html>"
      ],
      "text/latex": [
       "$\\displaystyle \\left[{z} = 1, {\\kappa} = 1\\right]$"
      ],
      "text/plain": [
       "[z == 1, kappa == 1]"
      ]
     },
     "metadata": {},
     "output_type": "display_data"
    },
    {
     "name": "stdout",
     "output_type": "stream",
     "text": [
      "abs of z = 1.00000000000000   abs of k = 1.00000000000000\n"
     ]
    },
    {
     "data": {
      "text/html": [
       "<html>\\(\\displaystyle \\left[{z} = 1.603436426116839, {\\kappa} = 0.4202101050525263\\right]\\)</html>"
      ],
      "text/latex": [
       "$\\displaystyle \\left[{z} = 1.603436426116839, {\\kappa} = 0.4202101050525263\\right]$"
      ],
      "text/plain": [
       "[z == 1.603436426116839, kappa == 0.4202101050525263]"
      ]
     },
     "metadata": {},
     "output_type": "display_data"
    },
    {
     "name": "stdout",
     "output_type": "stream",
     "text": [
      "abs of z = 1.60343642611684   abs of k = 0.420210105052526\n"
     ]
    },
    {
     "data": {
      "text/html": [
       "<html>\\(\\displaystyle \\left[{z} = 0.8890082348728965, {\\kappa} = \\left(-0.7915933872669715\\right)\\right]\\)</html>"
      ],
      "text/latex": [
       "$\\displaystyle \\left[{z} = 0.8890082348728965, {\\kappa} = \\left(-0.7915933872669715\\right)\\right]$"
      ],
      "text/plain": [
       "[z == 0.8890082348728965, kappa == -0.7915933872669715]"
      ]
     },
     "metadata": {},
     "output_type": "display_data"
    },
    {
     "name": "stdout",
     "output_type": "stream",
     "text": [
      "abs of z = 0.889008234872896   abs of k = 0.791593387266971\n"
     ]
    },
    {
     "data": {
      "text/html": [
       "<html>\\(\\displaystyle \\left[{z} = \\left(-1.016660954608256 - 0.4548424699909462i\\right), {\\kappa} = \\left(0.8494479855517071 + 1.069704149645007i\\right)\\right]\\)</html>"
      ],
      "text/latex": [
       "$\\displaystyle \\left[{z} = \\left(-1.016660954608256 - 0.4548424699909462i\\right), {\\kappa} = \\left(0.8494479855517071 + 1.069704149645007i\\right)\\right]$"
      ],
      "text/plain": [
       "[z == (-1.016660954608256 - 0.4548424699909462*I),\n",
       " kappa == (0.8494479855517071 + 1.069704149645007*I)]"
      ]
     },
     "metadata": {},
     "output_type": "display_data"
    },
    {
     "name": "stdout",
     "output_type": "stream",
     "text": [
      "abs of z = 1.11376890292934   abs of k = 1.36595345745219\n"
     ]
    },
    {
     "data": {
      "text/html": [
       "<html>\\(\\displaystyle \\left[{z} = \\left(-1.016660954608255 + 0.4548424699909457i\\right), {\\kappa} = \\left(0.8494479855517071 - 1.069704149645007i\\right)\\right]\\)</html>"
      ],
      "text/latex": [
       "$\\displaystyle \\left[{z} = \\left(-1.016660954608255 + 0.4548424699909457i\\right), {\\kappa} = \\left(0.8494479855517071 - 1.069704149645007i\\right)\\right]$"
      ],
      "text/plain": [
       "[z == (-1.016660954608255 + 0.4548424699909457*I),\n",
       " kappa == (0.8494479855517071 - 1.069704149645007*I)]"
      ]
     },
     "metadata": {},
     "output_type": "display_data"
    },
    {
     "name": "stdout",
     "output_type": "stream",
     "text": [
      "abs of z = 1.11376890292934   abs of k = 1.36595345745219\n"
     ]
    },
    {
     "data": {
      "text/html": [
       "<html>\\(\\displaystyle \\left[{z} = 0.8278711098870835, {\\kappa} = 1.449829351535836\\right]\\)</html>"
      ],
      "text/latex": [
       "$\\displaystyle \\left[{z} = 0.8278711098870835, {\\kappa} = 1.449829351535836\\right]$"
      ],
      "text/plain": [
       "[z == 0.8278711098870835, kappa == 1.449829351535836]"
      ]
     },
     "metadata": {},
     "output_type": "display_data"
    },
    {
     "name": "stdout",
     "output_type": "stream",
     "text": [
      "abs of z = 0.827871109887083   abs of k = 1.44982935153584\n"
     ]
    },
    {
     "data": {
      "text/html": [
       "<html>\\(\\displaystyle \\left[{z} = \\left(-1.536993769470405\\right), {\\kappa} = 2.222657952069717\\right]\\)</html>"
      ],
      "text/latex": [
       "$\\displaystyle \\left[{z} = \\left(-1.536993769470405\\right), {\\kappa} = 2.222657952069717\\right]$"
      ],
      "text/plain": [
       "[z == -1.536993769470405, kappa == 2.222657952069717]"
      ]
     },
     "metadata": {},
     "output_type": "display_data"
    },
    {
     "name": "stdout",
     "output_type": "stream",
     "text": [
      "abs of z = 1.53699376947041   abs of k = 2.22265795206972\n"
     ]
    },
    {
     "data": {
      "text/html": [
       "<html>\\(\\displaystyle \\left[{z} = 0, {\\kappa} = 0\\right]\\)</html>"
      ],
      "text/latex": [
       "$\\displaystyle \\left[{z} = 0, {\\kappa} = 0\\right]$"
      ],
      "text/plain": [
       "[z == 0, kappa == 0]"
      ]
     },
     "metadata": {},
     "output_type": "display_data"
    },
    {
     "name": "stdout",
     "output_type": "stream",
     "text": [
      "abs of z = 0.000000000000000   abs of k = 0.000000000000000\n",
      "------\n",
      "Future\n"
     ]
    },
    {
     "data": {
      "text/html": [
       "<html>\\(\\displaystyle \\left[{z} = 1, {\\kappa} = 1\\right]\\)</html>"
      ],
      "text/latex": [
       "$\\displaystyle \\left[{z} = 1, {\\kappa} = 1\\right]$"
      ],
      "text/plain": [
       "[z == 1, kappa == 1]"
      ]
     },
     "metadata": {},
     "output_type": "display_data"
    },
    {
     "name": "stdout",
     "output_type": "stream",
     "text": [
      "abs of z = 1.00000000000000   abs of k = 1.00000000000000\n"
     ]
    },
    {
     "data": {
      "text/html": [
       "<html>\\(\\displaystyle \\left[{z} = \\left(-0.9657015241430887 - 0.4643397420187009i\\right), {\\kappa} = \\left(0.6722715506955346 + 1.066471509583867i\\right)\\right]\\)</html>"
      ],
      "text/latex": [
       "$\\displaystyle \\left[{z} = \\left(-0.9657015241430887 - 0.4643397420187009i\\right), {\\kappa} = \\left(0.6722715506955346 + 1.066471509583867i\\right)\\right]$"
      ],
      "text/plain": [
       "[z == (-0.9657015241430887 - 0.4643397420187009*I),\n",
       " kappa == (0.6722715506955346 + 1.066471509583867*I)]"
      ]
     },
     "metadata": {},
     "output_type": "display_data"
    },
    {
     "name": "stdout",
     "output_type": "stream",
     "text": [
      "abs of z = 1.07153666747820   abs of k = 1.26067859449928\n"
     ]
    },
    {
     "data": {
      "text/html": [
       "<html>\\(\\displaystyle \\left[{z} = \\left(-0.9657015241430887 + 0.4643397420187009i\\right), {\\kappa} = \\left(0.6722715506955346 - 1.066471509583867i\\right)\\right]\\)</html>"
      ],
      "text/latex": [
       "$\\displaystyle \\left[{z} = \\left(-0.9657015241430887 + 0.4643397420187009i\\right), {\\kappa} = \\left(0.6722715506955346 - 1.066471509583867i\\right)\\right]$"
      ],
      "text/plain": [
       "[z == (-0.9657015241430887 + 0.4643397420187009*I),\n",
       " kappa == (0.6722715506955346 - 1.066471509583867*I)]"
      ]
     },
     "metadata": {},
     "output_type": "display_data"
    },
    {
     "name": "stdout",
     "output_type": "stream",
     "text": [
      "abs of z = 1.07153666747820   abs of k = 1.26067859449928\n"
     ]
    },
    {
     "data": {
      "text/html": [
       "<html>\\(\\displaystyle \\left[{z} = 1.306403094112591, {\\kappa} = \\left(-1.677876440581901\\right)\\right]\\)</html>"
      ],
      "text/latex": [
       "$\\displaystyle \\left[{z} = 1.306403094112591, {\\kappa} = \\left(-1.677876440581901\\right)\\right]$"
      ],
      "text/plain": [
       "[z == 1.306403094112591, kappa == -1.677876440581901]"
      ]
     },
     "metadata": {},
     "output_type": "display_data"
    },
    {
     "name": "stdout",
     "output_type": "stream",
     "text": [
      "abs of z = 1.30640309411259   abs of k = 1.67787644058190\n"
     ]
    },
    {
     "data": {
      "text/html": [
       "<html>\\(\\displaystyle \\left[{z} = 0, {\\kappa} = 0\\right]\\)</html>"
      ],
      "text/latex": [
       "$\\displaystyle \\left[{z} = 0, {\\kappa} = 0\\right]$"
      ],
      "text/plain": [
       "[z == 0, kappa == 0]"
      ]
     },
     "metadata": {},
     "output_type": "display_data"
    },
    {
     "name": "stdout",
     "output_type": "stream",
     "text": [
      "abs of z = 0.000000000000000   abs of k = 0.000000000000000\n",
      "------\n",
      "Invented\n"
     ]
    },
    {
     "data": {
      "text/html": [
       "<html>\\(\\displaystyle \\left[{z} = 1, {\\kappa} = \\left(-1\\right)\\right]\\)</html>"
      ],
      "text/latex": [
       "$\\displaystyle \\left[{z} = 1, {\\kappa} = \\left(-1\\right)\\right]$"
      ],
      "text/plain": [
       "[z == 1, kappa == -1]"
      ]
     },
     "metadata": {},
     "output_type": "display_data"
    },
    {
     "name": "stdout",
     "output_type": "stream",
     "text": [
      "abs of z = 1.00000000000000   abs of k = 1.00000000000000\n"
     ]
    },
    {
     "data": {
      "text/html": [
       "<html>\\(\\displaystyle \\left[{z} = \\frac{1}{2} \\, \\sqrt{17} - \\frac{1}{2}, {\\kappa} = -\\frac{1}{2} \\, \\sqrt{17} + \\frac{5}{2}\\right]\\)</html>"
      ],
      "text/latex": [
       "$\\displaystyle \\left[{z} = \\frac{1}{2} \\, \\sqrt{17} - \\frac{1}{2}, {\\kappa} = -\\frac{1}{2} \\, \\sqrt{17} + \\frac{5}{2}\\right]$"
      ],
      "text/plain": [
       "[z == 1/2*sqrt(17) - 1/2, kappa == -1/2*sqrt(17) + 5/2]"
      ]
     },
     "metadata": {},
     "output_type": "display_data"
    },
    {
     "name": "stdout",
     "output_type": "stream",
     "text": [
      "abs of z = 1.56155281280883   abs of k = 0.438447187191170\n"
     ]
    },
    {
     "data": {
      "text/html": [
       "<html>\\(\\displaystyle \\left[{z} = -\\frac{1}{2} \\, \\sqrt{17} - \\frac{1}{2}, {\\kappa} = \\frac{1}{2} \\, \\sqrt{17} + \\frac{5}{2}\\right]\\)</html>"
      ],
      "text/latex": [
       "$\\displaystyle \\left[{z} = -\\frac{1}{2} \\, \\sqrt{17} - \\frac{1}{2}, {\\kappa} = \\frac{1}{2} \\, \\sqrt{17} + \\frac{5}{2}\\right]$"
      ],
      "text/plain": [
       "[z == -1/2*sqrt(17) - 1/2, kappa == 1/2*sqrt(17) + 5/2]"
      ]
     },
     "metadata": {},
     "output_type": "display_data"
    },
    {
     "name": "stdout",
     "output_type": "stream",
     "text": [
      "abs of z = 2.56155281280883   abs of k = 4.56155281280883\n"
     ]
    },
    {
     "data": {
      "text/html": [
       "<html>\\(\\displaystyle \\left[{z} = 0, {\\kappa} = 0\\right]\\)</html>"
      ],
      "text/latex": [
       "$\\displaystyle \\left[{z} = 0, {\\kappa} = 0\\right]$"
      ],
      "text/plain": [
       "[z == 0, kappa == 0]"
      ]
     },
     "metadata": {},
     "output_type": "display_data"
    },
    {
     "name": "stdout",
     "output_type": "stream",
     "text": [
      "abs of z = 0.000000000000000   abs of k = 0.000000000000000\n"
     ]
    }
   ],
   "source": [
    "#### We now consider specific values of C and s2, for those boundary conditions which we have not considered so far\n",
    "\n",
    "bdMat_Ext_Eq_sigma1 = z*identity_matrix(q) - M*matrix([[1/2*(1+C), 1/2*(1+C)], [0, k]])*Minv*K ## Extr eq. sigma=1\n",
    "bdMat_Ext_Eq_sigma3 = z*identity_matrix(q) - \\\n",
    "          M*matrix([[1/2*(1+C)*(3-3*k+k**2), 1/2*(1+C)*(3-3*k+k**2)], [0, k]])*Minv*K ## Extr eq. sigma=3\n",
    "bdMat_future = z*identity_matrix(q) - M*matrix([[1/2*(1+C), 1/2*(1+C)*k**2], [0, k]])*Minv*K ## Future\n",
    "bdMat_invented = z*identity_matrix(q) - M*matrix([[1, 2], [0, k]])*Minv*K ## Invented\n",
    "\n",
    "\n",
    "for param in [(3/2, -1/2), (2, -1/2), (3/2, 1/2), (2, 1/2)]:\n",
    "#for param in [(3/2, -1/2)]:\n",
    "\n",
    "    s2Val = param[0]\n",
    "    CVal  = param[1]\n",
    "    \n",
    "    print('======== s2 = '+str(s2Val)+'   C = '+str(CVal)+' ========')\n",
    "    \n",
    "    print('Extrapolated equilibrium sigma = 1')\n",
    "    roots = solve([charEq.subs(s2==s2Val, C==CVal).full_simplify(), \\\n",
    "                   bdMat_Ext_Eq_sigma1.subs(s2==s2Val, C==CVal).determinant().full_simplify()], [z, k])\n",
    "    for root in roots:\n",
    "        pretty_print(root)\n",
    "        print('abs of z = '+str(abs(root[0].rhs()).n())+'   abs of k = '+str(abs(root[1].rhs()).n()))\n",
    "        \n",
    "    print('------')\n",
    "    print('Extrapolated equilibrium sigma = 3')\n",
    "    roots = solve([charEq.subs(s2==s2Val, C==CVal).full_simplify(), \\\n",
    "                   bdMat_Ext_Eq_sigma3.subs(s2==s2Val, C==CVal).determinant().full_simplify()], [z, k])\n",
    "    for root in roots:\n",
    "        pretty_print(root)\n",
    "        print('abs of z = '+str(abs(root[0].rhs()).n())+'   abs of k = '+str(abs(root[1].rhs()).n()))\n",
    "    \n",
    "    print('------')\n",
    "    print('Future')\n",
    "    roots = solve([charEq.subs(s2==s2Val, C==CVal).full_simplify(), \\\n",
    "                   bdMat_future.subs(s2==s2Val, C==CVal).determinant().full_simplify()], [z, k])\n",
    "    for root in roots:\n",
    "        pretty_print(root)\n",
    "        print('abs of z = '+str(abs(root[0].rhs()).n())+'   abs of k = '+str(abs(root[1].rhs()).n()))\n",
    "        \n",
    "    print('------')\n",
    "    print('Invented')\n",
    "    roots = solve([charEq.subs(s2==s2Val, C==CVal).full_simplify(), \\\n",
    "                   bdMat_invented.subs(s2==s2Val, C==CVal).determinant().full_simplify()], [z, k])\n",
    "    for root in roots:\n",
    "        pretty_print(root)\n",
    "        print('abs of z = '+str(abs(root[0].rhs()).n())+'   abs of k = '+str(abs(root[1].rhs()).n()))"
   ]
  },
  {
   "cell_type": "code",
   "execution_count": null,
   "id": "92dd956c",
   "metadata": {},
   "outputs": [],
   "source": []
  },
  {
   "cell_type": "code",
   "execution_count": null,
   "id": "5568d697",
   "metadata": {},
   "outputs": [],
   "source": []
  },
  {
   "cell_type": "code",
   "execution_count": null,
   "id": "3b5c8188",
   "metadata": {},
   "outputs": [],
   "source": []
  },
  {
   "cell_type": "code",
   "execution_count": null,
   "id": "e97f433e",
   "metadata": {},
   "outputs": [],
   "source": []
  },
  {
   "cell_type": "code",
   "execution_count": null,
   "id": "1852534f",
   "metadata": {},
   "outputs": [],
   "source": []
  },
  {
   "cell_type": "code",
   "execution_count": null,
   "id": "e1ede345",
   "metadata": {},
   "outputs": [],
   "source": []
  },
  {
   "cell_type": "code",
   "execution_count": 34,
   "id": "39692c24",
   "metadata": {},
   "outputs": [
    {
     "data": {
      "text/html": [
       "<html>\\(\\displaystyle \\left[{z} = -\\frac{1}{2} \\, \\sqrt{\\sqrt{16 \\, {z}^{4} - 11 \\, {z}^{2} + 4} + 2}, {z} = \\frac{1}{2} \\, \\sqrt{\\sqrt{16 \\, {z}^{4} - 11 \\, {z}^{2} + 4} + 2}\\right]\\)</html>"
      ],
      "text/latex": [
       "$\\displaystyle \\left[{z} = -\\frac{1}{2} \\, \\sqrt{\\sqrt{16 \\, {z}^{4} - 11 \\, {z}^{2} + 4} + 2}, {z} = \\frac{1}{2} \\, \\sqrt{\\sqrt{16 \\, {z}^{4} - 11 \\, {z}^{2} + 4} + 2}\\right]$"
      ],
      "text/plain": [
       "[z == -1/2*sqrt(sqrt(16*z^4 - 11*z^2 + 4) + 2), z == 1/2*sqrt(sqrt(16*z^4 - 11*z^2 + 4) + 2)]"
      ]
     },
     "metadata": {},
     "output_type": "display_data"
    }
   ],
   "source": [
    "pretty_print(solve(ks.subs(s2==3/2, C==-1/2),z))"
   ]
  },
  {
   "cell_type": "code",
   "execution_count": 28,
   "id": "688c410d",
   "metadata": {},
   "outputs": [
    {
     "data": {
      "text/html": [
       "<html>\\(\\displaystyle \\left(\\begin{array}{r}\n",
       "\\frac{1}{2} \\, {\\left({\\mathcal{C}} - 1\\right)} {s_2}^{2} - \\frac{1}{2} \\, {\\left({\\mathcal{C}} - 3\\right)} {s_2} - 1 \\\\\n",
       "\\frac{1}{2} \\, {\\left({\\mathcal{C}}^{2} - {\\mathcal{C}}\\right)} {s_2}^{2} + \\frac{1}{2} \\, {\\left(3 \\, {\\mathcal{C}} - 1\\right)} {s_2} + 1\n",
       "\\end{array}\\right)\\)</html>"
      ],
      "text/latex": [
       "$\\displaystyle \\left(\\begin{array}{r}\n",
       "\\frac{1}{2} \\, {\\left({\\mathcal{C}} - 1\\right)} {s_2}^{2} - \\frac{1}{2} \\, {\\left({\\mathcal{C}} - 3\\right)} {s_2} - 1 \\\\\n",
       "\\frac{1}{2} \\, {\\left({\\mathcal{C}}^{2} - {\\mathcal{C}}\\right)} {s_2}^{2} + \\frac{1}{2} \\, {\\left(3 \\, {\\mathcal{C}} - 1\\right)} {s_2} + 1\n",
       "\\end{array}\\right)$"
      ],
      "text/plain": [
       "[    1/2*(C - 1)*s2^2 - 1/2*(C - 3)*s2 - 1]\n",
       "[1/2*(C^2 - C)*s2^2 + 1/2*(3*C - 1)*s2 + 1]"
      ]
     },
     "metadata": {},
     "output_type": "display_data"
    },
    {
     "data": {
      "text/html": [
       "<html>\\(\\displaystyle \\left(\\begin{array}{r}\n",
       "{\\left({\\mathcal{C}} - 1\\right)} {s_2}^{2} - {\\left({\\mathcal{C}} - 3\\right)} {s_2} - 2 \\\\\n",
       "{\\left({\\mathcal{C}}^{2} - {\\mathcal{C}}\\right)} {s_2}^{2} + {\\left(3 \\, {\\mathcal{C}} - 1\\right)} {s_2} + 2\n",
       "\\end{array}\\right)\\)</html>"
      ],
      "text/latex": [
       "$\\displaystyle \\left(\\begin{array}{r}\n",
       "{\\left({\\mathcal{C}} - 1\\right)} {s_2}^{2} - {\\left({\\mathcal{C}} - 3\\right)} {s_2} - 2 \\\\\n",
       "{\\left({\\mathcal{C}}^{2} - {\\mathcal{C}}\\right)} {s_2}^{2} + {\\left(3 \\, {\\mathcal{C}} - 1\\right)} {s_2} + 2\n",
       "\\end{array}\\right)$"
      ],
      "text/plain": [
       "[    (C - 1)*s2^2 - (C - 3)*s2 - 2]\n",
       "[(C^2 - C)*s2^2 + (3*C - 1)*s2 + 2]"
      ]
     },
     "metadata": {},
     "output_type": "display_data"
    },
    {
     "data": {
      "text/html": [
       "<html>\\(\\displaystyle \\left(\\begin{array}{r}\n",
       "\\frac{3}{2} \\, {\\left({\\mathcal{C}} - 1\\right)} {s_2}^{2} - \\frac{3}{2} \\, {\\left({\\mathcal{C}} - 3\\right)} {s_2} - 3 \\\\\n",
       "\\frac{3}{2} \\, {\\left({\\mathcal{C}}^{2} - {\\mathcal{C}}\\right)} {s_2}^{2} + \\frac{3}{2} \\, {\\left(3 \\, {\\mathcal{C}} - 1\\right)} {s_2} + 3\n",
       "\\end{array}\\right)\\)</html>"
      ],
      "text/latex": [
       "$\\displaystyle \\left(\\begin{array}{r}\n",
       "\\frac{3}{2} \\, {\\left({\\mathcal{C}} - 1\\right)} {s_2}^{2} - \\frac{3}{2} \\, {\\left({\\mathcal{C}} - 3\\right)} {s_2} - 3 \\\\\n",
       "\\frac{3}{2} \\, {\\left({\\mathcal{C}}^{2} - {\\mathcal{C}}\\right)} {s_2}^{2} + \\frac{3}{2} \\, {\\left(3 \\, {\\mathcal{C}} - 1\\right)} {s_2} + 3\n",
       "\\end{array}\\right)$"
      ],
      "text/plain": [
       "[    3/2*(C - 1)*s2^2 - 3/2*(C - 3)*s2 - 3]\n",
       "[3/2*(C^2 - C)*s2^2 + 3/2*(3*C - 1)*s2 + 3]"
      ]
     },
     "metadata": {},
     "output_type": "display_data"
    }
   ],
   "source": [
    "pretty_print((bdMat_sigma1.subs(k==0, z==1*(1/2*(C-1)*s2+1))*phi0).simplify_full())\n",
    "pretty_print((bdMat_sigma2.subs(k==0, z==2*(1/2*(C-1)*s2+1))*phi0).simplify_full())\n",
    "pretty_print((bdMat_sigma3.subs(k==0, z==3*(1/2*(C-1)*s2+1))*phi0).simplify_full())"
   ]
  },
  {
   "cell_type": "code",
   "execution_count": 18,
   "id": "d2b0367a",
   "metadata": {},
   "outputs": [
    {
     "data": {
      "text/html": [
       "<html>\\(\\displaystyle \\left(\\begin{array}{r}\n",
       "{s_2} - 1 \\\\\n",
       "{\\mathcal{C}} {s_2} + 1\n",
       "\\end{array}\\right)\\)</html>"
      ],
      "text/latex": [
       "$\\displaystyle \\left(\\begin{array}{r}\n",
       "{s_2} - 1 \\\\\n",
       "{\\mathcal{C}} {s_2} + 1\n",
       "\\end{array}\\right)$"
      ],
      "text/plain": [
       "[  s2 - 1]\n",
       "[C*s2 + 1]"
      ]
     },
     "metadata": {},
     "output_type": "display_data"
    }
   ],
   "source": [
    "pretty_print(phi0)"
   ]
  },
  {
   "cell_type": "code",
   "execution_count": null,
   "id": "d2aeca02",
   "metadata": {},
   "outputs": [],
   "source": []
  }
 ],
 "metadata": {
  "kernelspec": {
   "display_name": "SageMath 10.0",
   "language": "sage",
   "name": "sagemath"
  },
  "language_info": {
   "codemirror_mode": {
    "name": "ipython",
    "version": 3
   },
   "file_extension": ".py",
   "mimetype": "text/x-python",
   "name": "python",
   "nbconvert_exporter": "python",
   "pygments_lexer": "ipython3",
   "version": "3.11.9"
  }
 },
 "nbformat": 4,
 "nbformat_minor": 5
}
