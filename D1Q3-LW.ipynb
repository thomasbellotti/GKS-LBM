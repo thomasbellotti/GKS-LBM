{
 "cells": [
  {
   "cell_type": "code",
   "execution_count": 1,
   "id": "3621d3cd",
   "metadata": {},
   "outputs": [
    {
     "name": "stdout",
     "output_type": "stream",
     "text": [
      "!! Sanity check: the result must be zero.\n"
     ]
    },
    {
     "data": {
      "text/html": [
       "<html>\\(\\displaystyle 0\\)</html>"
      ],
      "text/latex": [
       "$\\displaystyle 0$"
      ],
      "text/plain": [
       "0"
      ]
     },
     "metadata": {},
     "output_type": "display_data"
    }
   ],
   "source": [
    "#### Constants in the scheme\n",
    "C = var(\"C\", latex_name=\"\\\\mathcal{C}\") ## Courant number\n",
    "s1 = var(\"s1\", latex_name=\"s_1\")        ## First relaxation parameter (useless)\n",
    "s2 = var(\"s2\", latex_name=\"s_2\")        ## Second relaxation parameter\n",
    "s3 = var(\"s3\", latex_name=\"s_3\")        ## Third relaxation parameter\n",
    "\n",
    "assume(C,'real')\n",
    "assume(s2,'real')\n",
    "assume(s3,'real')\n",
    "\n",
    "#assume(s2>0)\n",
    "#assume(s3>0)\n",
    "\n",
    "#### Pieces involved in the scheme\n",
    "q = 3 ## Number of discrete velocities\n",
    "c1 = 0  ## First discrete velocity\n",
    "c2 = 1  ## Second discrete velocity\n",
    "c3 = -1 ## Third discrete velocity\n",
    "r = 1 ## Stencil to the left\n",
    "p = 1 ## Stencil to the right\n",
    "M = matrix([[1,  1,  1], \\\n",
    "            [0,  1, -1], \\\n",
    "            [0,  1,  1]]) ## Moment matrix\n",
    "eps1 = 1    ## First equilibrium coefficient (useless)\n",
    "eps2 = C    ## Second equilibrium coefficient\n",
    "eps3 = C**2 ## Third equilibrium coefficient\n",
    "\n",
    "#### Construction of the objects involved in the analysis\n",
    "k = var(\"kappa\", latex_name=\"\\\\kappa\") \n",
    "\n",
    "Minv = M.inverse()\n",
    "K = identity_matrix(q)+diagonal_matrix([s1, s2, s3])\\\n",
    "        *(matrix([[eps1], [eps2], [eps3]])*matrix([[1, 0, 0]])-identity_matrix(q))\n",
    "Ehat = M*diagonal_matrix([k**(-c1), k**(-c2), k**(-c3)])*Minv*K #### Bulk matrix scheme \"Fourier\"\n",
    "for i in range(q):\n",
    "    for j in range(q):\n",
    "        Ehat[i, j] = Ehat[i, j].full_simplify().collect(k)\n",
    "    \n",
    "z = var(\"z\", latex_name=\"z\") \n",
    "\n",
    "charEq = (z*identity_matrix(q)-Ehat).determinant().full_simplify().collect(k) #### Characteristic equation\n",
    "dm1 = charEq.coefficient(k, -1).collect(z) ### Coefficient d_{-1} of the characteristic equation\n",
    "d0  = charEq.coefficient(k,  0).collect(z) ### Coefficient d_{0} of the characteristic equation\n",
    "dp1 = charEq.coefficient(k,  1).collect(z) ### Coefficient d_{1} of the characteristic equation\n",
    "\n",
    "Em1 = matrix(SR, q, q) ### Matrix for the point -1\n",
    "E0  = matrix(SR, q, q) ### Matrix for the point 0\n",
    "Ep1 = matrix(SR, q, q) ### Matrix for the point 1\n",
    "for i in range(q):\n",
    "    for j in range(q):\n",
    "        Em1[i, j] = Ehat[i, j].coefficient(k, -1)\n",
    "        E0[i, j]  = Ehat[i, j].coefficient(k,  0)\n",
    "        Ep1[i, j] = Ehat[i, j].coefficient(k,  1)\n",
    "Lz = - Em1 + (z*identity_matrix(q)-E0)*k - Ep1*k**2 ### Matrix polynomial in k\n",
    "print('!! Sanity check: the result must be zero.')\n",
    "pretty_print((Lz.determinant()/k**(r*q)-charEq).full_simplify()) ### Sanity check\n",
    "\n",
    "kplus  = ((-d0+sqrt(d0**2-4*dp1*dm1))/2/dp1).full_simplify() ### Root of the char eq with the plus\n",
    "kminus = ((-d0-sqrt(d0**2-4*dp1*dm1))/2/dp1).full_simplify() ### Root of the char eq with the minus\n",
    "\n",
    "\n",
    "Pi = (dm1/dp1).full_simplify() ### This is the product of the roots in k "
   ]
  },
  {
   "cell_type": "code",
   "execution_count": 2,
   "id": "d2815903",
   "metadata": {},
   "outputs": [],
   "source": [
    "##### Boundary conditions that we analyze for any value of C and s_2 and s_3\n",
    "bdMat_BB = z*identity_matrix(q) - M*matrix([[1, 0, 0], [0, 0, 1], [0, 0, k]])*Minv*K ## Bounce back\n",
    "bdMat_ABB = z*identity_matrix(q) - M*matrix([[1, 0, 0], [0, 0, -1], [0, 0, k]])*Minv*K ## Anti Bounce back\n",
    "bdMat_TwoABB = z*identity_matrix(q) - M*matrix([[1, 0, 0], [-1, 0, -k], [0, 0, k]])*Minv*K ## Two steps Anti Bounce back\n",
    "bdMat_sigma1 = z*identity_matrix(q) - M*matrix([[1, 0, 0], [0, 1, 0], [0, 0, k]])*Minv*K ## Extrapolation sigma = 1\n",
    "bdMat_sigma2 = z*identity_matrix(q) - M*matrix([[1, 0, 0], [0, 2-k, 0], [0, 0, k]])*Minv*K ## Extrapolation sigma = 2\n",
    "bdMat_sigma3 = z*identity_matrix(q) - M*matrix([[1, 0, 0], [0, 3-3*k+k**2, 0], [0, 0, k]])*Minv*K ## Extrapolation sigma = 3\n",
    "bdMat_sigma4 = z*identity_matrix(q) - M*matrix([[1, 0, 0], [0, 4-6*k+4*k**2-k**3, 0], [0, 0, k]])*Minv*K ## Extrapolation sigma = 4\n",
    "bdMat_kinDir = z*identity_matrix(q) - M*matrix([[1, 0, 0], [0, 0, 0], [0, 0, k]])*Minv*K ## Kinetic dirichlet"
   ]
  },
  {
   "cell_type": "code",
   "execution_count": 3,
   "id": "7638f9ca",
   "metadata": {},
   "outputs": [
    {
     "name": "stdout",
     "output_type": "stream",
     "text": [
      "Bounce back\n"
     ]
    },
    {
     "data": {
      "text/html": [
       "<html>\\(\\displaystyle \\left[\\left[{z} = 0, {\\kappa} = 0\\right], \\left[{z} = {s_2} - 1, {\\kappa} = \\left(-1\\right)\\right], \\left[{z} = -{s_3} + 1, {\\kappa} = 1\\right], \\left[{z} = 1, {\\kappa} = \\frac{{\\left({\\mathcal{C}} - 1\\right)} {s_2} - 2 \\, {\\mathcal{C}}}{{\\left({\\mathcal{C}} + 1\\right)} {s_2} - 2 \\, {\\mathcal{C}}}\\right], \\left[{z} = -\\frac{{\\left({\\mathcal{C}} {s_2} - {\\mathcal{C}} - 1\\right)} {s_3} + {s_2}}{{\\left({\\mathcal{C}} + 1\\right)} {s_3} - {s_2}}, {\\kappa} = -\\frac{{\\left({\\mathcal{C}} {s_2} - {\\mathcal{C}} - 1\\right)} {s_3} + {s_2}}{{s_2}^{2} - {\\left({\\left({\\mathcal{C}} + 1\\right)} {s_2} - {\\mathcal{C}} - 1\\right)} {s_3} - {s_2}}\\right]\\right]\\)</html>"
      ],
      "text/latex": [
       "$\\displaystyle \\left[\\left[{z} = 0, {\\kappa} = 0\\right], \\left[{z} = {s_2} - 1, {\\kappa} = \\left(-1\\right)\\right], \\left[{z} = -{s_3} + 1, {\\kappa} = 1\\right], \\left[{z} = 1, {\\kappa} = \\frac{{\\left({\\mathcal{C}} - 1\\right)} {s_2} - 2 \\, {\\mathcal{C}}}{{\\left({\\mathcal{C}} + 1\\right)} {s_2} - 2 \\, {\\mathcal{C}}}\\right], \\left[{z} = -\\frac{{\\left({\\mathcal{C}} {s_2} - {\\mathcal{C}} - 1\\right)} {s_3} + {s_2}}{{\\left({\\mathcal{C}} + 1\\right)} {s_3} - {s_2}}, {\\kappa} = -\\frac{{\\left({\\mathcal{C}} {s_2} - {\\mathcal{C}} - 1\\right)} {s_3} + {s_2}}{{s_2}^{2} - {\\left({\\left({\\mathcal{C}} + 1\\right)} {s_2} - {\\mathcal{C}} - 1\\right)} {s_3} - {s_2}}\\right]\\right]$"
      ],
      "text/plain": [
       "[[z == 0, kappa == 0], [z == s2 - 1, kappa == -1], [z == -s3 + 1, kappa == 1], [z == 1, kappa == ((C - 1)*s2 - 2*C)/((C + 1)*s2 - 2*C)], [z == -((C*s2 - C - 1)*s3 + s2)/((C + 1)*s3 - s2), kappa == -((C*s2 - C - 1)*s3 + s2)/(s2^2 - ((C + 1)*s2 - C - 1)*s3 - s2)]]"
      ]
     },
     "metadata": {},
     "output_type": "display_data"
    },
    {
     "name": "stdout",
     "output_type": "stream",
     "text": [
      "Anti Bounce back\n"
     ]
    },
    {
     "data": {
      "text/html": [
       "<html>\\(\\displaystyle \\left[{z} = -\\frac{1}{2} \\, {\\left(2 \\, {\\mathcal{C}}^{2} - 1\\right)} {s_3} - \\frac{1}{2} \\, \\sqrt{{\\left(4 \\, {\\mathcal{C}}^{4} - 4 \\, {\\mathcal{C}}^{2} + 1\\right)} {s_3}^{2} - 4 \\, {s_3} + 4}, {z} = -\\frac{1}{2} \\, {\\left(2 \\, {\\mathcal{C}}^{2} - 1\\right)} {s_3} + \\frac{1}{2} \\, \\sqrt{{\\left(4 \\, {\\mathcal{C}}^{4} - 4 \\, {\\mathcal{C}}^{2} + 1\\right)} {s_3}^{2} - 4 \\, {s_3} + 4}, {z} = -\\frac{{\\left({s_2} {s_3} - {s_3}\\right)} {\\mathcal{C}} + {s_2} - {s_3}}{{\\mathcal{C}} {s_3} - {s_2} + {s_3}}, {z} = -{s_2} + 1\\right]\\)</html>"
      ],
      "text/latex": [
       "$\\displaystyle \\left[{z} = -\\frac{1}{2} \\, {\\left(2 \\, {\\mathcal{C}}^{2} - 1\\right)} {s_3} - \\frac{1}{2} \\, \\sqrt{{\\left(4 \\, {\\mathcal{C}}^{4} - 4 \\, {\\mathcal{C}}^{2} + 1\\right)} {s_3}^{2} - 4 \\, {s_3} + 4}, {z} = -\\frac{1}{2} \\, {\\left(2 \\, {\\mathcal{C}}^{2} - 1\\right)} {s_3} + \\frac{1}{2} \\, \\sqrt{{\\left(4 \\, {\\mathcal{C}}^{4} - 4 \\, {\\mathcal{C}}^{2} + 1\\right)} {s_3}^{2} - 4 \\, {s_3} + 4}, {z} = -\\frac{{\\left({s_2} {s_3} - {s_3}\\right)} {\\mathcal{C}} + {s_2} - {s_3}}{{\\mathcal{C}} {s_3} - {s_2} + {s_3}}, {z} = -{s_2} + 1\\right]$"
      ],
      "text/plain": [
       "[z == -1/2*(2*C^2 - 1)*s3 - 1/2*sqrt((4*C^4 - 4*C^2 + 1)*s3^2 - 4*s3 + 4), z == -1/2*(2*C^2 - 1)*s3 + 1/2*sqrt((4*C^4 - 4*C^2 + 1)*s3^2 - 4*s3 + 4), z == -((s2*s3 - s3)*C + s2 - s3)/(C*s3 - s2 + s3), z == -s2 + 1]"
      ]
     },
     "metadata": {},
     "output_type": "display_data"
    },
    {
     "data": {
      "text/html": [
       "<html>\\(\\displaystyle \\verb|phi2|\\verb| |\\verb|=|\\verb| |\\verb|(2*C^2|\\verb| |\\verb|-|\\verb| |\\verb|1)*s3*z|\\verb| |\\verb|+|\\verb| |\\verb|z^2|\\verb| |\\verb|+|\\verb| |\\verb|s3|\\verb| |\\verb|-|\\verb| |\\verb|1|\\)</html>"
      ],
      "text/latex": [
       "$\\displaystyle \\verb|phi2|\\verb| |\\verb|=|\\verb| |\\verb|(2*C^2|\\verb| |\\verb|-|\\verb| |\\verb|1)*s3*z|\\verb| |\\verb|+|\\verb| |\\verb|z^2|\\verb| |\\verb|+|\\verb| |\\verb|s3|\\verb| |\\verb|-|\\verb| |\\verb|1|$"
      ],
      "text/plain": [
       "'phi2 = (2*C^2 - 1)*s3*z + z^2 + s3 - 1'"
      ]
     },
     "metadata": {},
     "output_type": "display_data"
    },
    {
     "data": {
      "text/html": [
       "<html>\\(\\displaystyle {\\left(2 \\, {\\mathcal{C}}^{2} - 1\\right)} {s_3} {z} + {\\left({s_3} - 1\\right)} {z}^{2} + 1\\)</html>"
      ],
      "text/latex": [
       "$\\displaystyle {\\left(2 \\, {\\mathcal{C}}^{2} - 1\\right)} {s_3} {z} + {\\left({s_3} - 1\\right)} {z}^{2} + 1$"
      ],
      "text/plain": [
       "(2*C^2 - 1)*s3*z + (s3 - 1)*z^2 + 1"
      ]
     },
     "metadata": {},
     "output_type": "display_data"
    },
    {
     "data": {
      "text/html": [
       "<html>\\(\\displaystyle \\verb|phi2Star|\\verb| |\\verb|=|\\verb| |\\verb|(2*C^2|\\verb| |\\verb|-|\\verb| |\\verb|1)*s3*z|\\verb| |\\verb|+|\\verb| |\\verb|(s3|\\verb| |\\verb|-|\\verb| |\\verb|1)*z^2|\\verb| |\\verb|+|\\verb| |\\verb|1|\\)</html>"
      ],
      "text/latex": [
       "$\\displaystyle \\verb|phi2Star|\\verb| |\\verb|=|\\verb| |\\verb|(2*C^2|\\verb| |\\verb|-|\\verb| |\\verb|1)*s3*z|\\verb| |\\verb|+|\\verb| |\\verb|(s3|\\verb| |\\verb|-|\\verb| |\\verb|1)*z^2|\\verb| |\\verb|+|\\verb| |\\verb|1|$"
      ],
      "text/plain": [
       "'phi2Star = (2*C^2 - 1)*s3*z + (s3 - 1)*z^2 + 1'"
      ]
     },
     "metadata": {},
     "output_type": "display_data"
    },
    {
     "data": {
      "text/html": [
       "<html>\\(\\displaystyle \\verb|phi2(0)|\\verb| |\\verb|=|\\verb| |\\verb|s3|\\verb| |\\verb|-|\\verb| |\\verb|1|\\)</html>"
      ],
      "text/latex": [
       "$\\displaystyle \\verb|phi2(0)|\\verb| |\\verb|=|\\verb| |\\verb|s3|\\verb| |\\verb|-|\\verb| |\\verb|1|$"
      ],
      "text/plain": [
       "'phi2(0) = s3 - 1'"
      ]
     },
     "metadata": {},
     "output_type": "display_data"
    },
    {
     "data": {
      "text/html": [
       "<html>\\(\\displaystyle \\verb|phi2Star(0)|\\verb| |\\verb|=|\\verb| |\\verb|1|\\)</html>"
      ],
      "text/latex": [
       "$\\displaystyle \\verb|phi2Star(0)|\\verb| |\\verb|=|\\verb| |\\verb|1|$"
      ],
      "text/plain": [
       "'phi2Star(0) = 1'"
      ]
     },
     "metadata": {},
     "output_type": "display_data"
    },
    {
     "name": "stdout",
     "output_type": "stream",
     "text": [
      "Root of phi1\n"
     ]
    },
    {
     "data": {
      "text/html": [
       "<html>\\(\\displaystyle \\left[{z} = -2 \\, {\\mathcal{C}}^{2} + 1\\right]\\)</html>"
      ],
      "text/latex": [
       "$\\displaystyle \\left[{z} = -2 \\, {\\mathcal{C}}^{2} + 1\\right]$"
      ],
      "text/plain": [
       "[z == -2*C^2 + 1]"
      ]
     },
     "metadata": {},
     "output_type": "display_data"
    },
    {
     "name": "stdout",
     "output_type": "stream",
     "text": [
      "Two steps anti Bounce back\n"
     ]
    },
    {
     "data": {
      "text/html": [
       "<html>\\(\\displaystyle \\left[\\left[{z} = 0, {\\kappa} = 0\\right], \\left[{z} = {s_2} - 1, {\\kappa} = \\left(-1\\right)\\right], \\left[{z} = -{s_2} + 1, {\\kappa} = 1\\right], \\left[{z} = -\\frac{{\\left({\\mathcal{C}} {s_2} - {\\mathcal{C}} - 1\\right)} {s_3} + {s_2}}{{\\left({\\mathcal{C}} + 1\\right)} {s_3} - {s_2}}, {\\kappa} = -\\frac{{\\left({\\mathcal{C}} {s_2} - {\\mathcal{C}} - 1\\right)} {s_3} + {s_2}}{{s_2}^{2} - {\\left({\\left({\\mathcal{C}} + 1\\right)} {s_2} - {\\mathcal{C}} - 1\\right)} {s_3} - {s_2}}\\right], \\left[{z} = -{s_3} + 1, {\\kappa} = 1\\right]\\right]\\)</html>"
      ],
      "text/latex": [
       "$\\displaystyle \\left[\\left[{z} = 0, {\\kappa} = 0\\right], \\left[{z} = {s_2} - 1, {\\kappa} = \\left(-1\\right)\\right], \\left[{z} = -{s_2} + 1, {\\kappa} = 1\\right], \\left[{z} = -\\frac{{\\left({\\mathcal{C}} {s_2} - {\\mathcal{C}} - 1\\right)} {s_3} + {s_2}}{{\\left({\\mathcal{C}} + 1\\right)} {s_3} - {s_2}}, {\\kappa} = -\\frac{{\\left({\\mathcal{C}} {s_2} - {\\mathcal{C}} - 1\\right)} {s_3} + {s_2}}{{s_2}^{2} - {\\left({\\left({\\mathcal{C}} + 1\\right)} {s_2} - {\\mathcal{C}} - 1\\right)} {s_3} - {s_2}}\\right], \\left[{z} = -{s_3} + 1, {\\kappa} = 1\\right]\\right]$"
      ],
      "text/plain": [
       "[[z == 0, kappa == 0], [z == s2 - 1, kappa == -1], [z == -s2 + 1, kappa == 1], [z == -((C*s2 - C - 1)*s3 + s2)/((C + 1)*s3 - s2), kappa == -((C*s2 - C - 1)*s3 + s2)/(s2^2 - ((C + 1)*s2 - C - 1)*s3 - s2)], [z == -s3 + 1, kappa == 1]]"
      ]
     },
     "metadata": {},
     "output_type": "display_data"
    },
    {
     "name": "stdout",
     "output_type": "stream",
     "text": [
      "Extrapolation sigma = 1\n"
     ]
    },
    {
     "data": {
      "text/html": [
       "<html>\\(\\displaystyle \\left[\\left[{z} = 1, {\\kappa} = 1\\right], \\left[{z} = -{s_3} + 1, {\\kappa} = 1\\right], \\left[{z} = -{s_2} + 1, {\\kappa} = 1\\right], \\left[{z} = -\\frac{{\\left({\\mathcal{C}} {s_2} - {\\mathcal{C}} + 1\\right)} {s_3} - {s_2}}{{\\left({\\mathcal{C}} - 1\\right)} {s_3} + {s_2}}, {\\kappa} = -\\frac{{\\left({\\mathcal{C}}^{2} {s_2} - {\\mathcal{C}}^{2} + {\\mathcal{C}}\\right)} {s_3}^{2} - {s_2}^{2} + {\\left({\\mathcal{C}} {s_2}^{2} - {\\left(2 \\, {\\mathcal{C}} - 1\\right)} {s_2}\\right)} {s_3}}{{\\left({\\mathcal{C}}^{2} - {\\left({\\mathcal{C}}^{2} - 1\\right)} {s_2} - {\\mathcal{C}}\\right)} {s_3}^{2} + {s_2}^{2} - {\\left({\\left({\\mathcal{C}} + 1\\right)} {s_2}^{2} - {\\left(2 \\, {\\mathcal{C}} - 1\\right)} {s_2}\\right)} {s_3}}\\right], \\left[{z} = -\\frac{{\\left({\\mathcal{C}} {s_2} - {\\mathcal{C}} - 1\\right)} {s_3} + {s_2}}{{\\left({\\mathcal{C}} + 1\\right)} {s_3} - {s_2}}, {\\kappa} = -\\frac{{\\left({\\mathcal{C}} {s_2} - {\\mathcal{C}} - 1\\right)} {s_3} + {s_2}}{{s_2}^{2} - {\\left({\\left({\\mathcal{C}} + 1\\right)} {s_2} - {\\mathcal{C}} - 1\\right)} {s_3} - {s_2}}\\right], \\left[{z} = 0, {\\kappa} = 0\\right]\\right]\\)</html>"
      ],
      "text/latex": [
       "$\\displaystyle \\left[\\left[{z} = 1, {\\kappa} = 1\\right], \\left[{z} = -{s_3} + 1, {\\kappa} = 1\\right], \\left[{z} = -{s_2} + 1, {\\kappa} = 1\\right], \\left[{z} = -\\frac{{\\left({\\mathcal{C}} {s_2} - {\\mathcal{C}} + 1\\right)} {s_3} - {s_2}}{{\\left({\\mathcal{C}} - 1\\right)} {s_3} + {s_2}}, {\\kappa} = -\\frac{{\\left({\\mathcal{C}}^{2} {s_2} - {\\mathcal{C}}^{2} + {\\mathcal{C}}\\right)} {s_3}^{2} - {s_2}^{2} + {\\left({\\mathcal{C}} {s_2}^{2} - {\\left(2 \\, {\\mathcal{C}} - 1\\right)} {s_2}\\right)} {s_3}}{{\\left({\\mathcal{C}}^{2} - {\\left({\\mathcal{C}}^{2} - 1\\right)} {s_2} - {\\mathcal{C}}\\right)} {s_3}^{2} + {s_2}^{2} - {\\left({\\left({\\mathcal{C}} + 1\\right)} {s_2}^{2} - {\\left(2 \\, {\\mathcal{C}} - 1\\right)} {s_2}\\right)} {s_3}}\\right], \\left[{z} = -\\frac{{\\left({\\mathcal{C}} {s_2} - {\\mathcal{C}} - 1\\right)} {s_3} + {s_2}}{{\\left({\\mathcal{C}} + 1\\right)} {s_3} - {s_2}}, {\\kappa} = -\\frac{{\\left({\\mathcal{C}} {s_2} - {\\mathcal{C}} - 1\\right)} {s_3} + {s_2}}{{s_2}^{2} - {\\left({\\left({\\mathcal{C}} + 1\\right)} {s_2} - {\\mathcal{C}} - 1\\right)} {s_3} - {s_2}}\\right], \\left[{z} = 0, {\\kappa} = 0\\right]\\right]$"
      ],
      "text/plain": [
       "[[z == 1, kappa == 1], [z == -s3 + 1, kappa == 1], [z == -s2 + 1, kappa == 1], [z == -((C*s2 - C + 1)*s3 - s2)/((C - 1)*s3 + s2), kappa == -((C^2*s2 - C^2 + C)*s3^2 - s2^2 + (C*s2^2 - (2*C - 1)*s2)*s3)/((C^2 - (C^2 - 1)*s2 - C)*s3^2 + s2^2 - ((C + 1)*s2^2 - (2*C - 1)*s2)*s3)], [z == -((C*s2 - C - 1)*s3 + s2)/((C + 1)*s3 - s2), kappa == -((C*s2 - C - 1)*s3 + s2)/(s2^2 - ((C + 1)*s2 - C - 1)*s3 - s2)], [z == 0, kappa == 0]]"
      ]
     },
     "metadata": {},
     "output_type": "display_data"
    },
    {
     "name": "stdout",
     "output_type": "stream",
     "text": [
      "Extrapolation sigma = 2\n"
     ]
    },
    {
     "data": {
      "text/html": [
       "<html>\\(\\displaystyle \\left[\\left[{z} = 1, {\\kappa} = 1\\right], \\left[{z} = -{s_3} + 1, {\\kappa} = 1\\right], \\left[{z} = -{s_2} + 1, {\\kappa} = 1\\right], \\left[{z} = -\\frac{{\\left({\\mathcal{C}} {s_2} - {\\mathcal{C}} + 1\\right)} {s_3} - {s_2}}{{\\left({\\mathcal{C}} - 1\\right)} {s_3} + {s_2}}, {\\kappa} = -\\frac{{\\left({\\mathcal{C}}^{2} {s_2} - {\\mathcal{C}}^{2} + {\\mathcal{C}}\\right)} {s_3}^{2} - {s_2}^{2} + {\\left({\\mathcal{C}} {s_2}^{2} - {\\left(2 \\, {\\mathcal{C}} - 1\\right)} {s_2}\\right)} {s_3}}{{\\left({\\mathcal{C}}^{2} - {\\left({\\mathcal{C}}^{2} - 1\\right)} {s_2} - {\\mathcal{C}}\\right)} {s_3}^{2} + {s_2}^{2} - {\\left({\\left({\\mathcal{C}} + 1\\right)} {s_2}^{2} - {\\left(2 \\, {\\mathcal{C}} - 1\\right)} {s_2}\\right)} {s_3}}\\right], \\left[{z} = -\\frac{{\\left({\\mathcal{C}} {s_2} - {\\mathcal{C}} - 1\\right)} {s_3} + {s_2}}{{\\left({\\mathcal{C}} + 1\\right)} {s_3} - {s_2}}, {\\kappa} = -\\frac{{\\left({\\mathcal{C}} {s_2} - {\\mathcal{C}} - 1\\right)} {s_3} + {s_2}}{{s_2}^{2} - {\\left({\\left({\\mathcal{C}} + 1\\right)} {s_2} - {\\mathcal{C}} - 1\\right)} {s_3} - {s_2}}\\right], \\left[{z} = 0, {\\kappa} = 0\\right]\\right]\\)</html>"
      ],
      "text/latex": [
       "$\\displaystyle \\left[\\left[{z} = 1, {\\kappa} = 1\\right], \\left[{z} = -{s_3} + 1, {\\kappa} = 1\\right], \\left[{z} = -{s_2} + 1, {\\kappa} = 1\\right], \\left[{z} = -\\frac{{\\left({\\mathcal{C}} {s_2} - {\\mathcal{C}} + 1\\right)} {s_3} - {s_2}}{{\\left({\\mathcal{C}} - 1\\right)} {s_3} + {s_2}}, {\\kappa} = -\\frac{{\\left({\\mathcal{C}}^{2} {s_2} - {\\mathcal{C}}^{2} + {\\mathcal{C}}\\right)} {s_3}^{2} - {s_2}^{2} + {\\left({\\mathcal{C}} {s_2}^{2} - {\\left(2 \\, {\\mathcal{C}} - 1\\right)} {s_2}\\right)} {s_3}}{{\\left({\\mathcal{C}}^{2} - {\\left({\\mathcal{C}}^{2} - 1\\right)} {s_2} - {\\mathcal{C}}\\right)} {s_3}^{2} + {s_2}^{2} - {\\left({\\left({\\mathcal{C}} + 1\\right)} {s_2}^{2} - {\\left(2 \\, {\\mathcal{C}} - 1\\right)} {s_2}\\right)} {s_3}}\\right], \\left[{z} = -\\frac{{\\left({\\mathcal{C}} {s_2} - {\\mathcal{C}} - 1\\right)} {s_3} + {s_2}}{{\\left({\\mathcal{C}} + 1\\right)} {s_3} - {s_2}}, {\\kappa} = -\\frac{{\\left({\\mathcal{C}} {s_2} - {\\mathcal{C}} - 1\\right)} {s_3} + {s_2}}{{s_2}^{2} - {\\left({\\left({\\mathcal{C}} + 1\\right)} {s_2} - {\\mathcal{C}} - 1\\right)} {s_3} - {s_2}}\\right], \\left[{z} = 0, {\\kappa} = 0\\right]\\right]$"
      ],
      "text/plain": [
       "[[z == 1, kappa == 1], [z == -s3 + 1, kappa == 1], [z == -s2 + 1, kappa == 1], [z == -((C*s2 - C + 1)*s3 - s2)/((C - 1)*s3 + s2), kappa == -((C^2*s2 - C^2 + C)*s3^2 - s2^2 + (C*s2^2 - (2*C - 1)*s2)*s3)/((C^2 - (C^2 - 1)*s2 - C)*s3^2 + s2^2 - ((C + 1)*s2^2 - (2*C - 1)*s2)*s3)], [z == -((C*s2 - C - 1)*s3 + s2)/((C + 1)*s3 - s2), kappa == -((C*s2 - C - 1)*s3 + s2)/(s2^2 - ((C + 1)*s2 - C - 1)*s3 - s2)], [z == 0, kappa == 0]]"
      ]
     },
     "metadata": {},
     "output_type": "display_data"
    },
    {
     "name": "stdout",
     "output_type": "stream",
     "text": [
      "Extrapolation sigma = 3\n"
     ]
    },
    {
     "data": {
      "text/html": [
       "<html>\\(\\displaystyle \\left[\\left[{z} = 1, {\\kappa} = 1\\right], \\left[{z} = -{s_3} + 1, {\\kappa} = 1\\right], \\left[{z} = -{s_2} + 1, {\\kappa} = 1\\right], \\left[{z} = -\\frac{{\\left({\\mathcal{C}} {s_2} - {\\mathcal{C}} + 1\\right)} {s_3} - {s_2}}{{\\left({\\mathcal{C}} - 1\\right)} {s_3} + {s_2}}, {\\kappa} = -\\frac{{\\left({\\mathcal{C}}^{2} {s_2} - {\\mathcal{C}}^{2} + {\\mathcal{C}}\\right)} {s_3}^{2} - {s_2}^{2} + {\\left({\\mathcal{C}} {s_2}^{2} - {\\left(2 \\, {\\mathcal{C}} - 1\\right)} {s_2}\\right)} {s_3}}{{\\left({\\mathcal{C}}^{2} - {\\left({\\mathcal{C}}^{2} - 1\\right)} {s_2} - {\\mathcal{C}}\\right)} {s_3}^{2} + {s_2}^{2} - {\\left({\\left({\\mathcal{C}} + 1\\right)} {s_2}^{2} - {\\left(2 \\, {\\mathcal{C}} - 1\\right)} {s_2}\\right)} {s_3}}\\right], \\left[{z} = -\\frac{{\\left({\\mathcal{C}} {s_2} - {\\mathcal{C}} - 1\\right)} {s_3} + {s_2}}{{\\left({\\mathcal{C}} + 1\\right)} {s_3} - {s_2}}, {\\kappa} = -\\frac{{\\left({\\mathcal{C}} {s_2} - {\\mathcal{C}} - 1\\right)} {s_3} + {s_2}}{{s_2}^{2} - {\\left({\\left({\\mathcal{C}} + 1\\right)} {s_2} - {\\mathcal{C}} - 1\\right)} {s_3} - {s_2}}\\right], \\left[{z} = 0, {\\kappa} = 0\\right]\\right]\\)</html>"
      ],
      "text/latex": [
       "$\\displaystyle \\left[\\left[{z} = 1, {\\kappa} = 1\\right], \\left[{z} = -{s_3} + 1, {\\kappa} = 1\\right], \\left[{z} = -{s_2} + 1, {\\kappa} = 1\\right], \\left[{z} = -\\frac{{\\left({\\mathcal{C}} {s_2} - {\\mathcal{C}} + 1\\right)} {s_3} - {s_2}}{{\\left({\\mathcal{C}} - 1\\right)} {s_3} + {s_2}}, {\\kappa} = -\\frac{{\\left({\\mathcal{C}}^{2} {s_2} - {\\mathcal{C}}^{2} + {\\mathcal{C}}\\right)} {s_3}^{2} - {s_2}^{2} + {\\left({\\mathcal{C}} {s_2}^{2} - {\\left(2 \\, {\\mathcal{C}} - 1\\right)} {s_2}\\right)} {s_3}}{{\\left({\\mathcal{C}}^{2} - {\\left({\\mathcal{C}}^{2} - 1\\right)} {s_2} - {\\mathcal{C}}\\right)} {s_3}^{2} + {s_2}^{2} - {\\left({\\left({\\mathcal{C}} + 1\\right)} {s_2}^{2} - {\\left(2 \\, {\\mathcal{C}} - 1\\right)} {s_2}\\right)} {s_3}}\\right], \\left[{z} = -\\frac{{\\left({\\mathcal{C}} {s_2} - {\\mathcal{C}} - 1\\right)} {s_3} + {s_2}}{{\\left({\\mathcal{C}} + 1\\right)} {s_3} - {s_2}}, {\\kappa} = -\\frac{{\\left({\\mathcal{C}} {s_2} - {\\mathcal{C}} - 1\\right)} {s_3} + {s_2}}{{s_2}^{2} - {\\left({\\left({\\mathcal{C}} + 1\\right)} {s_2} - {\\mathcal{C}} - 1\\right)} {s_3} - {s_2}}\\right], \\left[{z} = 0, {\\kappa} = 0\\right]\\right]$"
      ],
      "text/plain": [
       "[[z == 1, kappa == 1], [z == -s3 + 1, kappa == 1], [z == -s2 + 1, kappa == 1], [z == -((C*s2 - C + 1)*s3 - s2)/((C - 1)*s3 + s2), kappa == -((C^2*s2 - C^2 + C)*s3^2 - s2^2 + (C*s2^2 - (2*C - 1)*s2)*s3)/((C^2 - (C^2 - 1)*s2 - C)*s3^2 + s2^2 - ((C + 1)*s2^2 - (2*C - 1)*s2)*s3)], [z == -((C*s2 - C - 1)*s3 + s2)/((C + 1)*s3 - s2), kappa == -((C*s2 - C - 1)*s3 + s2)/(s2^2 - ((C + 1)*s2 - C - 1)*s3 - s2)], [z == 0, kappa == 0]]"
      ]
     },
     "metadata": {},
     "output_type": "display_data"
    },
    {
     "name": "stdout",
     "output_type": "stream",
     "text": [
      "Extrapolation sigma = 4\n"
     ]
    },
    {
     "data": {
      "text/html": [
       "<html>\\(\\displaystyle \\left[\\left[{z} = 1, {\\kappa} = 1\\right], \\left[{z} = -{s_3} + 1, {\\kappa} = 1\\right], \\left[{z} = -{s_2} + 1, {\\kappa} = 1\\right], \\left[{z} = -\\frac{{\\left({\\mathcal{C}} {s_2} - {\\mathcal{C}} + 1\\right)} {s_3} - {s_2}}{{\\left({\\mathcal{C}} - 1\\right)} {s_3} + {s_2}}, {\\kappa} = -\\frac{{\\left({\\mathcal{C}}^{2} {s_2} - {\\mathcal{C}}^{2} + {\\mathcal{C}}\\right)} {s_3}^{2} - {s_2}^{2} + {\\left({\\mathcal{C}} {s_2}^{2} - {\\left(2 \\, {\\mathcal{C}} - 1\\right)} {s_2}\\right)} {s_3}}{{\\left({\\mathcal{C}}^{2} - {\\left({\\mathcal{C}}^{2} - 1\\right)} {s_2} - {\\mathcal{C}}\\right)} {s_3}^{2} + {s_2}^{2} - {\\left({\\left({\\mathcal{C}} + 1\\right)} {s_2}^{2} - {\\left(2 \\, {\\mathcal{C}} - 1\\right)} {s_2}\\right)} {s_3}}\\right], \\left[{z} = -\\frac{{\\left({\\mathcal{C}} {s_2} - {\\mathcal{C}} - 1\\right)} {s_3} + {s_2}}{{\\left({\\mathcal{C}} + 1\\right)} {s_3} - {s_2}}, {\\kappa} = -\\frac{{\\left({\\mathcal{C}} {s_2} - {\\mathcal{C}} - 1\\right)} {s_3} + {s_2}}{{s_2}^{2} - {\\left({\\left({\\mathcal{C}} + 1\\right)} {s_2} - {\\mathcal{C}} - 1\\right)} {s_3} - {s_2}}\\right], \\left[{z} = 0, {\\kappa} = 0\\right]\\right]\\)</html>"
      ],
      "text/latex": [
       "$\\displaystyle \\left[\\left[{z} = 1, {\\kappa} = 1\\right], \\left[{z} = -{s_3} + 1, {\\kappa} = 1\\right], \\left[{z} = -{s_2} + 1, {\\kappa} = 1\\right], \\left[{z} = -\\frac{{\\left({\\mathcal{C}} {s_2} - {\\mathcal{C}} + 1\\right)} {s_3} - {s_2}}{{\\left({\\mathcal{C}} - 1\\right)} {s_3} + {s_2}}, {\\kappa} = -\\frac{{\\left({\\mathcal{C}}^{2} {s_2} - {\\mathcal{C}}^{2} + {\\mathcal{C}}\\right)} {s_3}^{2} - {s_2}^{2} + {\\left({\\mathcal{C}} {s_2}^{2} - {\\left(2 \\, {\\mathcal{C}} - 1\\right)} {s_2}\\right)} {s_3}}{{\\left({\\mathcal{C}}^{2} - {\\left({\\mathcal{C}}^{2} - 1\\right)} {s_2} - {\\mathcal{C}}\\right)} {s_3}^{2} + {s_2}^{2} - {\\left({\\left({\\mathcal{C}} + 1\\right)} {s_2}^{2} - {\\left(2 \\, {\\mathcal{C}} - 1\\right)} {s_2}\\right)} {s_3}}\\right], \\left[{z} = -\\frac{{\\left({\\mathcal{C}} {s_2} - {\\mathcal{C}} - 1\\right)} {s_3} + {s_2}}{{\\left({\\mathcal{C}} + 1\\right)} {s_3} - {s_2}}, {\\kappa} = -\\frac{{\\left({\\mathcal{C}} {s_2} - {\\mathcal{C}} - 1\\right)} {s_3} + {s_2}}{{s_2}^{2} - {\\left({\\left({\\mathcal{C}} + 1\\right)} {s_2} - {\\mathcal{C}} - 1\\right)} {s_3} - {s_2}}\\right], \\left[{z} = 0, {\\kappa} = 0\\right]\\right]$"
      ],
      "text/plain": [
       "[[z == 1, kappa == 1], [z == -s3 + 1, kappa == 1], [z == -s2 + 1, kappa == 1], [z == -((C*s2 - C + 1)*s3 - s2)/((C - 1)*s3 + s2), kappa == -((C^2*s2 - C^2 + C)*s3^2 - s2^2 + (C*s2^2 - (2*C - 1)*s2)*s3)/((C^2 - (C^2 - 1)*s2 - C)*s3^2 + s2^2 - ((C + 1)*s2^2 - (2*C - 1)*s2)*s3)], [z == -((C*s2 - C - 1)*s3 + s2)/((C + 1)*s3 - s2), kappa == -((C*s2 - C - 1)*s3 + s2)/(s2^2 - ((C + 1)*s2 - C - 1)*s3 - s2)], [z == 0, kappa == 0]]"
      ]
     },
     "metadata": {},
     "output_type": "display_data"
    },
    {
     "name": "stdout",
     "output_type": "stream",
     "text": [
      "Kinetic Dirichlet\n"
     ]
    },
    {
     "data": {
      "text/html": [
       "<html>\\(\\displaystyle \\left[\\left[{z} = 0, {\\kappa} = 0\\right], \\left[{z} = -\\frac{{\\left({\\mathcal{C}} {s_2} - {\\mathcal{C}} + 1\\right)} {s_3} - {s_2}}{{\\left({\\mathcal{C}} - 1\\right)} {s_3} + {s_2}}, {\\kappa} = -\\frac{{\\left({\\mathcal{C}}^{2} {s_2} - {\\mathcal{C}}^{2} + {\\mathcal{C}}\\right)} {s_3}^{2} - {s_2}^{2} + {\\left({\\mathcal{C}} {s_2}^{2} - {\\left(2 \\, {\\mathcal{C}} - 1\\right)} {s_2}\\right)} {s_3}}{{\\left({\\mathcal{C}}^{2} - {\\left({\\mathcal{C}}^{2} - 1\\right)} {s_2} - {\\mathcal{C}}\\right)} {s_3}^{2} + {s_2}^{2} - {\\left({\\left({\\mathcal{C}} + 1\\right)} {s_2}^{2} - {\\left(2 \\, {\\mathcal{C}} - 1\\right)} {s_2}\\right)} {s_3}}\\right], \\left[{z} = -\\frac{{\\left({\\mathcal{C}} {s_2} - {\\mathcal{C}} - 1\\right)} {s_3} + {s_2}}{{\\left({\\mathcal{C}} + 1\\right)} {s_3} - {s_2}}, {\\kappa} = -\\frac{{\\left({\\mathcal{C}} {s_2} - {\\mathcal{C}} - 1\\right)} {s_3} + {s_2}}{{s_2}^{2} - {\\left({\\left({\\mathcal{C}} + 1\\right)} {s_2} - {\\mathcal{C}} - 1\\right)} {s_3} - {s_2}}\\right]\\right]\\)</html>"
      ],
      "text/latex": [
       "$\\displaystyle \\left[\\left[{z} = 0, {\\kappa} = 0\\right], \\left[{z} = -\\frac{{\\left({\\mathcal{C}} {s_2} - {\\mathcal{C}} + 1\\right)} {s_3} - {s_2}}{{\\left({\\mathcal{C}} - 1\\right)} {s_3} + {s_2}}, {\\kappa} = -\\frac{{\\left({\\mathcal{C}}^{2} {s_2} - {\\mathcal{C}}^{2} + {\\mathcal{C}}\\right)} {s_3}^{2} - {s_2}^{2} + {\\left({\\mathcal{C}} {s_2}^{2} - {\\left(2 \\, {\\mathcal{C}} - 1\\right)} {s_2}\\right)} {s_3}}{{\\left({\\mathcal{C}}^{2} - {\\left({\\mathcal{C}}^{2} - 1\\right)} {s_2} - {\\mathcal{C}}\\right)} {s_3}^{2} + {s_2}^{2} - {\\left({\\left({\\mathcal{C}} + 1\\right)} {s_2}^{2} - {\\left(2 \\, {\\mathcal{C}} - 1\\right)} {s_2}\\right)} {s_3}}\\right], \\left[{z} = -\\frac{{\\left({\\mathcal{C}} {s_2} - {\\mathcal{C}} - 1\\right)} {s_3} + {s_2}}{{\\left({\\mathcal{C}} + 1\\right)} {s_3} - {s_2}}, {\\kappa} = -\\frac{{\\left({\\mathcal{C}} {s_2} - {\\mathcal{C}} - 1\\right)} {s_3} + {s_2}}{{s_2}^{2} - {\\left({\\left({\\mathcal{C}} + 1\\right)} {s_2} - {\\mathcal{C}} - 1\\right)} {s_3} - {s_2}}\\right]\\right]$"
      ],
      "text/plain": [
       "[[z == 0, kappa == 0], [z == -((C*s2 - C + 1)*s3 - s2)/((C - 1)*s3 + s2), kappa == -((C^2*s2 - C^2 + C)*s3^2 - s2^2 + (C*s2^2 - (2*C - 1)*s2)*s3)/((C^2 - (C^2 - 1)*s2 - C)*s3^2 + s2^2 - ((C + 1)*s2^2 - (2*C - 1)*s2)*s3)], [z == -((C*s2 - C - 1)*s3 + s2)/((C + 1)*s3 - s2), kappa == -((C*s2 - C - 1)*s3 + s2)/(s2^2 - ((C + 1)*s2 - C - 1)*s3 - s2)]]"
      ]
     },
     "metadata": {},
     "output_type": "display_data"
    }
   ],
   "source": [
    "##### We find the critical (z, k) eigenvalues between boundary and bulk\n",
    "print(\"Bounce back\")\n",
    "pretty_print(solve([charEq.full_simplify(), bdMat_BB.determinant().full_simplify()], (z, k)))\n",
    "print(\"Anti Bounce back\")\n",
    "#pretty_print(solve([charEq.full_simplify(), bdMat_ABB.determinant().full_simplify()], (z, k))) ### Gets stuck\n",
    "kABB = solve(bdMat_ABB.determinant().full_simplify(), k)[0].rhs().full_simplify()\n",
    "zABB = solve(charEq.full_simplify().subs(k==kABB), z)\n",
    "pretty_print(zABB)\n",
    "phi2 = ((z-zABB[0].rhs())*(z-zABB[1].rhs())).expand().full_simplify().collect(z)\n",
    "pretty_print(\"phi2 = \"+str(phi2))\n",
    "phi2Star = (z**2*phi2.subs(z==1/z)).full_simplify().collect(z)\n",
    "pretty_print(phi2Star)\n",
    "pretty_print(\"phi2Star = \"+str(phi2Star))\n",
    "pretty_print(\"phi2(0) = \"+str(phi2.subs(z==0)))\n",
    "pretty_print(\"phi2Star(0) = \"+str(phi2Star.subs(z==0)))\n",
    "phi1 = ((phi2Star.subs(z==0)*phi2 - phi2.subs(z==0)*phi2Star)/z).full_simplify().collect(z)\n",
    "print(\"Root of phi1\")\n",
    "pretty_print(solve(phi1, z))\n",
    "print(\"Two steps anti Bounce back\")\n",
    "pretty_print(solve([charEq.full_simplify(), bdMat_TwoABB.determinant().full_simplify()], (z, k)))\n",
    "print(\"Extrapolation sigma = 1\")\n",
    "pretty_print(solve([charEq.full_simplify(), bdMat_sigma1.determinant().full_simplify()], (z, k)))\n",
    "print(\"Extrapolation sigma = 2\")\n",
    "pretty_print(solve([charEq.full_simplify(), bdMat_sigma2.determinant().full_simplify()], (z, k)))\n",
    "print(\"Extrapolation sigma = 3\")\n",
    "pretty_print(solve([charEq.full_simplify(), bdMat_sigma3.determinant().full_simplify()], (z, k)))\n",
    "print(\"Extrapolation sigma = 4\")\n",
    "pretty_print(solve([charEq.full_simplify(), bdMat_sigma4.determinant().full_simplify()], (z, k)))\n",
    "print(\"Kinetic Dirichlet\")\n",
    "pretty_print(solve([charEq.full_simplify(), bdMat_kinDir.determinant().full_simplify()], (z, k)))"
   ]
  },
  {
   "cell_type": "code",
   "execution_count": 4,
   "id": "97237ef1",
   "metadata": {},
   "outputs": [
    {
     "name": "stdout",
     "output_type": "stream",
     "text": [
      "Bounce back\n"
     ]
    },
    {
     "data": {
      "text/html": [
       "<html>\\(\\displaystyle \\left[\\left[{z} = 0, {\\kappa} = 0\\right], \\left[{z} = 1, {\\kappa} = \\left(-\\frac{4}{7}\\right)\\right], \\left[{z} = \\left(-\\frac{1}{20}\\right), {\\kappa} = 1\\right], \\left[{z} = \\left(\\frac{1}{10}\\right), {\\kappa} = \\left(-1\\right)\\right], \\left[{z} = \\left(\\frac{3}{80}\\right), {\\kappa} = \\left(-\\frac{3}{8}\\right)\\right]\\right]\\)</html>"
      ],
      "text/latex": [
       "$\\displaystyle \\left[\\left[{z} = 0, {\\kappa} = 0\\right], \\left[{z} = 1, {\\kappa} = \\left(-\\frac{4}{7}\\right)\\right], \\left[{z} = \\left(-\\frac{1}{20}\\right), {\\kappa} = 1\\right], \\left[{z} = \\left(\\frac{1}{10}\\right), {\\kappa} = \\left(-1\\right)\\right], \\left[{z} = \\left(\\frac{3}{80}\\right), {\\kappa} = \\left(-\\frac{3}{8}\\right)\\right]\\right]$"
      ],
      "text/plain": [
       "[[z == 0, kappa == 0], [z == 1, kappa == (-4/7)], [z == (-1/20), kappa == 1], [z == (1/10), kappa == -1], [z == (3/80), kappa == (-3/8)]]"
      ]
     },
     "metadata": {},
     "output_type": "display_data"
    },
    {
     "name": "stdout",
     "output_type": "stream",
     "text": [
      "Anti Bounce back\n"
     ]
    },
    {
     "data": {
      "text/html": [
       "<html>\\(\\displaystyle \\left[{z} = \\left(\\frac{3}{80}\\right), {z} = \\left(-\\frac{1}{10}\\right), {z} = \\left(\\frac{3}{4}\\right), {z} = \\left(\\frac{1}{15}\\right)\\right]\\)</html>"
      ],
      "text/latex": [
       "$\\displaystyle \\left[{z} = \\left(\\frac{3}{80}\\right), {z} = \\left(-\\frac{1}{10}\\right), {z} = \\left(\\frac{3}{4}\\right), {z} = \\left(\\frac{1}{15}\\right)\\right]$"
      ],
      "text/plain": [
       "[z == (3/80), z == (-1/10), z == (3/4), z == (1/15)]"
      ]
     },
     "metadata": {},
     "output_type": "display_data"
    },
    {
     "data": {
      "text/html": [
       "<html>\\(\\displaystyle \\verb|phi2|\\verb| |\\verb|=|\\verb| |\\verb|z^2|\\verb| |\\verb|+|\\verb| |\\verb|1/16*z|\\verb| |\\verb|-|\\verb| |\\verb|3/800|\\)</html>"
      ],
      "text/latex": [
       "$\\displaystyle \\verb|phi2|\\verb| |\\verb|=|\\verb| |\\verb|z^2|\\verb| |\\verb|+|\\verb| |\\verb|1/16*z|\\verb| |\\verb|-|\\verb| |\\verb|3/800|$"
      ],
      "text/plain": [
       "'phi2 = z^2 + 1/16*z - 3/800'"
      ]
     },
     "metadata": {},
     "output_type": "display_data"
    },
    {
     "data": {
      "text/html": [
       "<html>\\(\\displaystyle -\\frac{3}{800} \\, {z}^{2} + \\frac{1}{16} \\, {z} + 1\\)</html>"
      ],
      "text/latex": [
       "$\\displaystyle -\\frac{3}{800} \\, {z}^{2} + \\frac{1}{16} \\, {z} + 1$"
      ],
      "text/plain": [
       "-3/800*z^2 + 1/16*z + 1"
      ]
     },
     "metadata": {},
     "output_type": "display_data"
    },
    {
     "data": {
      "text/html": [
       "<html>\\(\\displaystyle \\verb|phi2Star|\\verb| |\\verb|=|\\verb| |\\verb|-3/800*z^2|\\verb| |\\verb|+|\\verb| |\\verb|1/16*z|\\verb| |\\verb|+|\\verb| |\\verb|1|\\)</html>"
      ],
      "text/latex": [
       "$\\displaystyle \\verb|phi2Star|\\verb| |\\verb|=|\\verb| |\\verb|-3/800*z^2|\\verb| |\\verb|+|\\verb| |\\verb|1/16*z|\\verb| |\\verb|+|\\verb| |\\verb|1|$"
      ],
      "text/plain": [
       "'phi2Star = -3/800*z^2 + 1/16*z + 1'"
      ]
     },
     "metadata": {},
     "output_type": "display_data"
    },
    {
     "data": {
      "text/html": [
       "<html>\\(\\displaystyle \\verb|phi2(0)|\\verb| |\\verb|=|\\verb| |\\verb|-3/800|\\)</html>"
      ],
      "text/latex": [
       "$\\displaystyle \\verb|phi2(0)|\\verb| |\\verb|=|\\verb| |\\verb|-3/800|$"
      ],
      "text/plain": [
       "'phi2(0) = -3/800'"
      ]
     },
     "metadata": {},
     "output_type": "display_data"
    },
    {
     "data": {
      "text/html": [
       "<html>\\(\\displaystyle \\verb|phi2Star(0)|\\verb| |\\verb|=|\\verb| |\\verb|1|\\)</html>"
      ],
      "text/latex": [
       "$\\displaystyle \\verb|phi2Star(0)|\\verb| |\\verb|=|\\verb| |\\verb|1|$"
      ],
      "text/plain": [
       "'phi2Star(0) = 1'"
      ]
     },
     "metadata": {},
     "output_type": "display_data"
    },
    {
     "name": "stdout",
     "output_type": "stream",
     "text": [
      "Root of phi1\n"
     ]
    },
    {
     "data": {
      "text/html": [
       "<html>\\(\\displaystyle \\left[{z} = \\left(-\\frac{50}{797}\\right)\\right]\\)</html>"
      ],
      "text/latex": [
       "$\\displaystyle \\left[{z} = \\left(-\\frac{50}{797}\\right)\\right]$"
      ],
      "text/plain": [
       "[z == (-50/797)]"
      ]
     },
     "metadata": {},
     "output_type": "display_data"
    },
    {
     "name": "stdout",
     "output_type": "stream",
     "text": [
      "Two steps anti Bounce back\n"
     ]
    },
    {
     "data": {
      "text/html": [
       "<html>\\(\\displaystyle \\left[\\left[{z} = 0, {\\kappa} = 0\\right], \\left[{z} = \\left(\\frac{3}{80}\\right), {\\kappa} = \\left(-\\frac{3}{8}\\right)\\right], \\left[{z} = \\left(-\\frac{1}{10}\\right), {\\kappa} = 1\\right], \\left[{z} = \\left(\\frac{1}{10}\\right), {\\kappa} = \\left(-1\\right)\\right], \\left[{z} = \\left(-\\frac{1}{20}\\right), {\\kappa} = 1\\right]\\right]\\)</html>"
      ],
      "text/latex": [
       "$\\displaystyle \\left[\\left[{z} = 0, {\\kappa} = 0\\right], \\left[{z} = \\left(\\frac{3}{80}\\right), {\\kappa} = \\left(-\\frac{3}{8}\\right)\\right], \\left[{z} = \\left(-\\frac{1}{10}\\right), {\\kappa} = 1\\right], \\left[{z} = \\left(\\frac{1}{10}\\right), {\\kappa} = \\left(-1\\right)\\right], \\left[{z} = \\left(-\\frac{1}{20}\\right), {\\kappa} = 1\\right]\\right]$"
      ],
      "text/plain": [
       "[[z == 0, kappa == 0], [z == (3/80), kappa == (-3/8)], [z == (-1/10), kappa == 1], [z == (1/10), kappa == -1], [z == (-1/20), kappa == 1]]"
      ]
     },
     "metadata": {},
     "output_type": "display_data"
    },
    {
     "name": "stdout",
     "output_type": "stream",
     "text": [
      "Extrapolation sigma = 1\n"
     ]
    },
    {
     "data": {
      "text/html": [
       "<html>\\(\\displaystyle \\left[\\left[{z} = 1, {\\kappa} = 1\\right], \\left[{z} = \\left(-\\frac{1}{20}\\right), {\\kappa} = 1\\right], \\left[{z} = \\left(-\\frac{1}{10}\\right), {\\kappa} = 1\\right], \\left[{z} = \\left(-\\frac{17}{60}\\right), {\\kappa} = \\left(\\frac{85}{8}\\right)\\right], \\left[{z} = \\left(\\frac{3}{80}\\right), {\\kappa} = \\left(-\\frac{3}{8}\\right)\\right], \\left[{z} = 0, {\\kappa} = 0\\right]\\right]\\)</html>"
      ],
      "text/latex": [
       "$\\displaystyle \\left[\\left[{z} = 1, {\\kappa} = 1\\right], \\left[{z} = \\left(-\\frac{1}{20}\\right), {\\kappa} = 1\\right], \\left[{z} = \\left(-\\frac{1}{10}\\right), {\\kappa} = 1\\right], \\left[{z} = \\left(-\\frac{17}{60}\\right), {\\kappa} = \\left(\\frac{85}{8}\\right)\\right], \\left[{z} = \\left(\\frac{3}{80}\\right), {\\kappa} = \\left(-\\frac{3}{8}\\right)\\right], \\left[{z} = 0, {\\kappa} = 0\\right]\\right]$"
      ],
      "text/plain": [
       "[[z == 1, kappa == 1], [z == (-1/20), kappa == 1], [z == (-1/10), kappa == 1], [z == (-17/60), kappa == (85/8)], [z == (3/80), kappa == (-3/8)], [z == 0, kappa == 0]]"
      ]
     },
     "metadata": {},
     "output_type": "display_data"
    },
    {
     "name": "stdout",
     "output_type": "stream",
     "text": [
      "Extrapolation sigma = 2\n"
     ]
    },
    {
     "data": {
      "text/html": [
       "<html>\\(\\displaystyle \\left[\\left[{z} = 1, {\\kappa} = 1\\right], \\left[{z} = \\left(-\\frac{1}{20}\\right), {\\kappa} = 1\\right], \\left[{z} = \\left(-\\frac{1}{10}\\right), {\\kappa} = 1\\right], \\left[{z} = \\left(-\\frac{17}{60}\\right), {\\kappa} = \\left(\\frac{85}{8}\\right)\\right], \\left[{z} = \\left(\\frac{3}{80}\\right), {\\kappa} = \\left(-\\frac{3}{8}\\right)\\right], \\left[{z} = 0, {\\kappa} = 0\\right]\\right]\\)</html>"
      ],
      "text/latex": [
       "$\\displaystyle \\left[\\left[{z} = 1, {\\kappa} = 1\\right], \\left[{z} = \\left(-\\frac{1}{20}\\right), {\\kappa} = 1\\right], \\left[{z} = \\left(-\\frac{1}{10}\\right), {\\kappa} = 1\\right], \\left[{z} = \\left(-\\frac{17}{60}\\right), {\\kappa} = \\left(\\frac{85}{8}\\right)\\right], \\left[{z} = \\left(\\frac{3}{80}\\right), {\\kappa} = \\left(-\\frac{3}{8}\\right)\\right], \\left[{z} = 0, {\\kappa} = 0\\right]\\right]$"
      ],
      "text/plain": [
       "[[z == 1, kappa == 1], [z == (-1/20), kappa == 1], [z == (-1/10), kappa == 1], [z == (-17/60), kappa == (85/8)], [z == (3/80), kappa == (-3/8)], [z == 0, kappa == 0]]"
      ]
     },
     "metadata": {},
     "output_type": "display_data"
    },
    {
     "name": "stdout",
     "output_type": "stream",
     "text": [
      "Extrapolation sigma = 3\n"
     ]
    },
    {
     "data": {
      "text/html": [
       "<html>\\(\\displaystyle \\left[\\left[{z} = 1, {\\kappa} = 1\\right], \\left[{z} = \\left(-\\frac{1}{20}\\right), {\\kappa} = 1\\right], \\left[{z} = \\left(-\\frac{1}{10}\\right), {\\kappa} = 1\\right], \\left[{z} = \\left(-\\frac{17}{60}\\right), {\\kappa} = \\left(\\frac{85}{8}\\right)\\right], \\left[{z} = \\left(\\frac{3}{80}\\right), {\\kappa} = \\left(-\\frac{3}{8}\\right)\\right], \\left[{z} = 0, {\\kappa} = 0\\right]\\right]\\)</html>"
      ],
      "text/latex": [
       "$\\displaystyle \\left[\\left[{z} = 1, {\\kappa} = 1\\right], \\left[{z} = \\left(-\\frac{1}{20}\\right), {\\kappa} = 1\\right], \\left[{z} = \\left(-\\frac{1}{10}\\right), {\\kappa} = 1\\right], \\left[{z} = \\left(-\\frac{17}{60}\\right), {\\kappa} = \\left(\\frac{85}{8}\\right)\\right], \\left[{z} = \\left(\\frac{3}{80}\\right), {\\kappa} = \\left(-\\frac{3}{8}\\right)\\right], \\left[{z} = 0, {\\kappa} = 0\\right]\\right]$"
      ],
      "text/plain": [
       "[[z == 1, kappa == 1], [z == (-1/20), kappa == 1], [z == (-1/10), kappa == 1], [z == (-17/60), kappa == (85/8)], [z == (3/80), kappa == (-3/8)], [z == 0, kappa == 0]]"
      ]
     },
     "metadata": {},
     "output_type": "display_data"
    },
    {
     "name": "stdout",
     "output_type": "stream",
     "text": [
      "Extrapolation sigma = 4\n"
     ]
    },
    {
     "data": {
      "text/html": [
       "<html>\\(\\displaystyle \\left[\\left[{z} = 1, {\\kappa} = 1\\right], \\left[{z} = \\left(-\\frac{1}{20}\\right), {\\kappa} = 1\\right], \\left[{z} = \\left(-\\frac{1}{10}\\right), {\\kappa} = 1\\right], \\left[{z} = \\left(-\\frac{17}{60}\\right), {\\kappa} = \\left(\\frac{85}{8}\\right)\\right], \\left[{z} = \\left(\\frac{3}{80}\\right), {\\kappa} = \\left(-\\frac{3}{8}\\right)\\right], \\left[{z} = 0, {\\kappa} = 0\\right]\\right]\\)</html>"
      ],
      "text/latex": [
       "$\\displaystyle \\left[\\left[{z} = 1, {\\kappa} = 1\\right], \\left[{z} = \\left(-\\frac{1}{20}\\right), {\\kappa} = 1\\right], \\left[{z} = \\left(-\\frac{1}{10}\\right), {\\kappa} = 1\\right], \\left[{z} = \\left(-\\frac{17}{60}\\right), {\\kappa} = \\left(\\frac{85}{8}\\right)\\right], \\left[{z} = \\left(\\frac{3}{80}\\right), {\\kappa} = \\left(-\\frac{3}{8}\\right)\\right], \\left[{z} = 0, {\\kappa} = 0\\right]\\right]$"
      ],
      "text/plain": [
       "[[z == 1, kappa == 1], [z == (-1/20), kappa == 1], [z == (-1/10), kappa == 1], [z == (-17/60), kappa == (85/8)], [z == (3/80), kappa == (-3/8)], [z == 0, kappa == 0]]"
      ]
     },
     "metadata": {},
     "output_type": "display_data"
    },
    {
     "name": "stdout",
     "output_type": "stream",
     "text": [
      "Kinetic Dirichlet\n"
     ]
    },
    {
     "data": {
      "text/html": [
       "<html>\\(\\displaystyle \\left[\\left[{z} = 0, {\\kappa} = 0\\right], \\left[{z} = \\left(-\\frac{17}{60}\\right), {\\kappa} = \\left(\\frac{85}{8}\\right)\\right], \\left[{z} = \\left(\\frac{3}{80}\\right), {\\kappa} = \\left(-\\frac{3}{8}\\right)\\right]\\right]\\)</html>"
      ],
      "text/latex": [
       "$\\displaystyle \\left[\\left[{z} = 0, {\\kappa} = 0\\right], \\left[{z} = \\left(-\\frac{17}{60}\\right), {\\kappa} = \\left(\\frac{85}{8}\\right)\\right], \\left[{z} = \\left(\\frac{3}{80}\\right), {\\kappa} = \\left(-\\frac{3}{8}\\right)\\right]\\right]$"
      ],
      "text/plain": [
       "[[z == 0, kappa == 0], [z == (-17/60), kappa == (85/8)], [z == (3/80), kappa == (-3/8)]]"
      ]
     },
     "metadata": {},
     "output_type": "display_data"
    }
   ],
   "source": [
    "##### Sanity check : we set some values for s_2 and C and see if we find more\n",
    "##### Sometimes sagemath does not give all the roots\n",
    "s2_val = 11/10\n",
    "s3_val = 105/100\n",
    "C_val = -1/3\n",
    "\n",
    "print(\"Bounce back\")\n",
    "pretty_print(solve([charEq.subs(s2=s2_val, s3=s3_val, C=C_val).full_simplify(), bdMat_BB.subs(s2=s2_val, s3=s3_val, C=C_val).determinant().full_simplify()], (z, k)))\n",
    "print(\"Anti Bounce back\")\n",
    "#pretty_print(solve([charEq.full_simplify(), bdMat_ABB.determinant().full_simplify()], (z, k))) ### Gets stuck\n",
    "kABB = solve(bdMat_ABB.subs(s2=s2_val, s3=s3_val, C=C_val).determinant().full_simplify(), k)[0].rhs().full_simplify()\n",
    "zABB = solve(charEq.subs(s2=s2_val, s3=s3_val, C=C_val).full_simplify().subs(k==kABB), z)\n",
    "pretty_print(zABB)\n",
    "phi2 = ((z-zABB[0].rhs())*(z-zABB[1].rhs())).expand().full_simplify().collect(z)\n",
    "pretty_print(\"phi2 = \"+str(phi2))\n",
    "phi2Star = (z**2*phi2.subs(z==1/z)).full_simplify().collect(z)\n",
    "pretty_print(phi2Star)\n",
    "pretty_print(\"phi2Star = \"+str(phi2Star))\n",
    "pretty_print(\"phi2(0) = \"+str(phi2.subs(z==0)))\n",
    "pretty_print(\"phi2Star(0) = \"+str(phi2Star.subs(z==0)))\n",
    "phi1 = ((phi2Star.subs(z==0)*phi2 - phi2.subs(z==0)*phi2Star)/z).full_simplify().collect(z)\n",
    "print(\"Root of phi1\")\n",
    "pretty_print(solve(phi1, z))\n",
    "print(\"Two steps anti Bounce back\")\n",
    "pretty_print(solve([charEq.subs(s2=s2_val, s3=s3_val, C=C_val).full_simplify(), bdMat_TwoABB.subs(s2=s2_val, s3=s3_val, C=C_val).determinant().full_simplify()], (z, k)))\n",
    "print(\"Extrapolation sigma = 1\")\n",
    "pretty_print(solve([charEq.subs(s2=s2_val, s3=s3_val, C=C_val).full_simplify(), bdMat_sigma1.subs(s2=s2_val, s3=s3_val, C=C_val).determinant().full_simplify()], (z, k)))\n",
    "print(\"Extrapolation sigma = 2\")\n",
    "pretty_print(solve([charEq.subs(s2=s2_val, s3=s3_val, C=C_val).full_simplify(), bdMat_sigma2.subs(s2=s2_val, s3=s3_val, C=C_val).determinant().full_simplify()], (z, k)))\n",
    "print(\"Extrapolation sigma = 3\")\n",
    "pretty_print(solve([charEq.subs(s2=s2_val, s3=s3_val, C=C_val).full_simplify(), bdMat_sigma3.subs(s2=s2_val, s3=s3_val, C=C_val).determinant().full_simplify()], (z, k)))\n",
    "print(\"Extrapolation sigma = 4\")\n",
    "pretty_print(solve([charEq.subs(s2=s2_val, s3=s3_val, C=C_val).full_simplify(), bdMat_sigma4.subs(s2=s2_val, s3=s3_val, C=C_val).determinant().full_simplify()], (z, k)))\n",
    "print(\"Kinetic Dirichlet\")\n",
    "pretty_print(solve([charEq.subs(s2=s2_val, s3=s3_val, C=C_val).full_simplify(), bdMat_kinDir.subs(s2=s2_val, s3=s3_val, C=C_val).determinant().full_simplify()], (z, k)))"
   ]
  },
  {
   "cell_type": "code",
   "execution_count": 5,
   "id": "e35d7839",
   "metadata": {},
   "outputs": [
    {
     "data": {
      "text/html": [
       "<html>\\(\\displaystyle \\mathrm{RowSpan}_{\\text{SR}}\\left(\\begin{array}{rrr}\n",
       "1 & 0 & \\frac{{\\mathcal{C}}^{2} {s_3} + {\\mathcal{C}} {s_2}}{{s_3} - 1} \\\\\n",
       "0 & 1 & -\\frac{{s_2} - 1}{{s_3} - 1}\n",
       "\\end{array}\\right)\\)</html>"
      ],
      "text/latex": [
       "$\\displaystyle \\mathrm{RowSpan}_{\\text{SR}}\\left(\\begin{array}{rrr}\n",
       "1 & 0 & \\frac{{\\mathcal{C}}^{2} {s_3} + {\\mathcal{C}} {s_2}}{{s_3} - 1} \\\\\n",
       "0 & 1 & -\\frac{{s_2} - 1}{{s_3} - 1}\n",
       "\\end{array}\\right)$"
      ],
      "text/plain": [
       "Vector space of degree 3 and dimension 2 over Symbolic Ring\n",
       "Basis matrix:\n",
       "[                       1                        0 (C^2*s3 + C*s2)/(s3 - 1)]\n",
       "[                       0                        1       -(s2 - 1)/(s3 - 1)]"
      ]
     },
     "metadata": {},
     "output_type": "display_data"
    }
   ],
   "source": [
    "##### Construction of the eigenvector for k = 0\n",
    "pretty_print(Lz.subs(k==0).transpose().kernel())\n",
    "\n",
    "phi01 = matrix([[((s3-1)*Lz.subs(k==0).transpose().kernel().basis()[0][0]).full_simplify()], \\\n",
    "                [((s3-1)*Lz.subs(k==0).transpose().kernel().basis()[0][1]).full_simplify()], \\\n",
    "                [((s3-1)*Lz.subs(k==0).transpose().kernel().basis()[0][2]).full_simplify()]])\n",
    "phi02 = matrix([[((s3-1)*Lz.subs(k==0).transpose().kernel().basis()[1][0]).full_simplify()], \\\n",
    "                [((s3-1)*Lz.subs(k==0).transpose().kernel().basis()[1][1]).full_simplify()], \\\n",
    "                [((s3-1)*Lz.subs(k==0).transpose().kernel().basis()[1][2]).full_simplify()]])"
   ]
  },
  {
   "cell_type": "code",
   "execution_count": 6,
   "id": "0eb86c7b",
   "metadata": {},
   "outputs": [],
   "source": [
    "#### We make natural assumptions\n",
    "assume(s2>0)\n",
    "assume(s2<=2)\n",
    "assume(s3>0)\n",
    "assume(s3<=2)"
   ]
  },
  {
   "cell_type": "code",
   "execution_count": 7,
   "id": "1d0ccbe9",
   "metadata": {},
   "outputs": [
    {
     "name": "stdout",
     "output_type": "stream",
     "text": [
      "Value of kminus at z=1\n"
     ]
    },
    {
     "data": {
      "text/html": [
       "<html>\\(\\displaystyle 1\\)</html>"
      ],
      "text/latex": [
       "$\\displaystyle 1$"
      ],
      "text/plain": [
       "1"
      ]
     },
     "metadata": {},
     "output_type": "display_data"
    },
    {
     "name": "stdout",
     "output_type": "stream",
     "text": [
      "Value of kplus at z=1\n"
     ]
    },
    {
     "data": {
      "text/html": [
       "<html>\\(\\displaystyle \\frac{{\\left({\\mathcal{C}} - 1\\right)} {s_2} - 2 \\, {\\mathcal{C}}}{{\\left({\\mathcal{C}} + 1\\right)} {s_2} - 2 \\, {\\mathcal{C}}}\\)</html>"
      ],
      "text/latex": [
       "$\\displaystyle \\frac{{\\left({\\mathcal{C}} - 1\\right)} {s_2} - 2 \\, {\\mathcal{C}}}{{\\left({\\mathcal{C}} + 1\\right)} {s_2} - 2 \\, {\\mathcal{C}}}$"
      ],
      "text/plain": [
       "((C - 1)*s2 - 2*C)/((C + 1)*s2 - 2*C)"
      ]
     },
     "metadata": {},
     "output_type": "display_data"
    },
    {
     "name": "stdout",
     "output_type": "stream",
     "text": [
      "Boundary matrix on the stable subspace for bounce back at z = 1\n"
     ]
    },
    {
     "data": {
      "text/html": [
       "<html>\\(\\displaystyle \\left(\\begin{array}{rrr}\n",
       "0 & 0 & 0 \\\\\n",
       "0 & {\\mathcal{C}} {s_2} {s_3} - {\\mathcal{C}} {s_2} & -{\\left({s_2} - 2\\right)} {s_3} + {s_2} - 2 \\\\\n",
       "0 & {\\left({\\mathcal{C}}^{2} + {\\mathcal{C}} {s_2}\\right)} {s_3} & -{\\left({s_2} - 1\\right)} {s_3}\n",
       "\\end{array}\\right)\\)</html>"
      ],
      "text/latex": [
       "$\\displaystyle \\left(\\begin{array}{rrr}\n",
       "0 & 0 & 0 \\\\\n",
       "0 & {\\mathcal{C}} {s_2} {s_3} - {\\mathcal{C}} {s_2} & -{\\left({s_2} - 2\\right)} {s_3} + {s_2} - 2 \\\\\n",
       "0 & {\\left({\\mathcal{C}}^{2} + {\\mathcal{C}} {s_2}\\right)} {s_3} & -{\\left({s_2} - 1\\right)} {s_3}\n",
       "\\end{array}\\right)$"
      ],
      "text/plain": [
       "[                    0                     0                     0]\n",
       "[                    0        C*s2*s3 - C*s2 -(s2 - 2)*s3 + s2 - 2]\n",
       "[                    0       (C^2 + C*s2)*s3          -(s2 - 1)*s3]"
      ]
     },
     "metadata": {},
     "output_type": "display_data"
    }
   ],
   "source": [
    "#### Critical point z = 1, k = Pi for C<0\n",
    "\n",
    "assume(C<0)\n",
    "print(\"Value of kminus at z=1\")\n",
    "pretty_print(kminus.subs(z==1).expand().full_simplify()) ### This order is the only one which does not block the computation with these assumptions\n",
    "print(\"Value of kplus at z=1\")\n",
    "pretty_print(kplus.subs(z==1).expand().full_simplify())\n",
    "\n",
    "ks = kplus.full_simplify()\n",
    "\n",
    "### I do not compute Taylor expansions in z, too expensive (with three free parameters)\n",
    "### Still, the eigenvector does not have poles.\n",
    "\n",
    "LzLim = Lz.subs(k==Pi).subs(z==1)\n",
    "\n",
    "for i in range(q):\n",
    "    for j in range(q):\n",
    "        LzLim[i, j] = LzLim[i, j].full_simplify()\n",
    "     \n",
    "phiSLim = matrix([[LzLim.transpose().kernel().basis()[0][0]], \\\n",
    "                  [LzLim.transpose().kernel().basis()[0][1].full_simplify()], \\\n",
    "                  [LzLim.transpose().kernel().basis()[0][2].full_simplify()]])\n",
    "\n",
    "bd00  = matrix(SR, q, q)\n",
    "bd01 = matrix(SR, q, q)\n",
    "\n",
    "Bs = matrix(SR, q, q) #### Boundary matrix on the stable subspace\n",
    "\n",
    "#### Bounce back \n",
    "for i in range(q):\n",
    "    for j in range(q):\n",
    "        bd00[i, j] = bdMat_BB[i, j].full_simplify().collect(k).coefficient(k, 0)\n",
    "        bd01[i, j] = bdMat_BB[i, j].full_simplify().collect(k).coefficient(k, 1)\n",
    "        \n",
    "Bs[:, 0] = (bd00 + bd01*Pi).subs(z==1)*phiSLim ### First column\n",
    "Bs[:, 1] = (bd00).subs(z==1)*phi01 ### Second column\n",
    "Bs[:, 2] = (bd00).subs(z==1)*phi02 ### Third column\n",
    "\n",
    "for i in range(q):\n",
    "    for j in range(q):\n",
    "        Bs[i, j] = Bs[i, j].full_simplify()\n",
    "print(\"Boundary matrix on the stable subspace for bounce back at z = 1\")\n",
    "pretty_print(Bs)"
   ]
  },
  {
   "cell_type": "code",
   "execution_count": 13,
   "id": "2fb100fe",
   "metadata": {},
   "outputs": [
    {
     "name": "stdout",
     "output_type": "stream",
     "text": [
      "Value of kminus at z=1\n"
     ]
    },
    {
     "data": {
      "text/html": [
       "<html>\\(\\displaystyle \\frac{{\\left({\\mathcal{C}} - 1\\right)} {s_2} - 2 \\, {\\mathcal{C}}}{{\\left({\\mathcal{C}} + 1\\right)} {s_2} - 2 \\, {\\mathcal{C}}}\\)</html>"
      ],
      "text/latex": [
       "$\\displaystyle \\frac{{\\left({\\mathcal{C}} - 1\\right)} {s_2} - 2 \\, {\\mathcal{C}}}{{\\left({\\mathcal{C}} + 1\\right)} {s_2} - 2 \\, {\\mathcal{C}}}$"
      ],
      "text/plain": [
       "((C - 1)*s2 - 2*C)/((C + 1)*s2 - 2*C)"
      ]
     },
     "metadata": {},
     "output_type": "display_data"
    },
    {
     "name": "stdout",
     "output_type": "stream",
     "text": [
      "Value of kplus at z=1\n"
     ]
    },
    {
     "data": {
      "text/html": [
       "<html>\\(\\displaystyle 1\\)</html>"
      ],
      "text/latex": [
       "$\\displaystyle 1$"
      ],
      "text/plain": [
       "1"
      ]
     },
     "metadata": {},
     "output_type": "display_data"
    },
    {
     "name": "stdout",
     "output_type": "stream",
     "text": [
      "Boundary matrix on the stable subspace for extrapolation sigma = 1 at z = 1\n"
     ]
    },
    {
     "data": {
      "text/html": [
       "<html>\\(\\displaystyle \\left(\\begin{array}{rrr}\n",
       "0 & -{\\mathcal{C}} {s_2} {s_3} + {\\mathcal{C}} {s_2} & {\\left({s_2} - 1\\right)} {s_3} - {s_2} + 1 \\\\\n",
       "0 & 0 & {s_3} - 1 \\\\\n",
       "0 & {\\mathcal{C}}^{2} {s_3} + {\\mathcal{C}} {s_2} & -{s_2} + 1\n",
       "\\end{array}\\right)\\)</html>"
      ],
      "text/latex": [
       "$\\displaystyle \\left(\\begin{array}{rrr}\n",
       "0 & -{\\mathcal{C}} {s_2} {s_3} + {\\mathcal{C}} {s_2} & {\\left({s_2} - 1\\right)} {s_3} - {s_2} + 1 \\\\\n",
       "0 & 0 & {s_3} - 1 \\\\\n",
       "0 & {\\mathcal{C}}^{2} {s_3} + {\\mathcal{C}} {s_2} & -{s_2} + 1\n",
       "\\end{array}\\right)$"
      ],
      "text/plain": [
       "[                   0      -C*s2*s3 + C*s2 (s2 - 1)*s3 - s2 + 1]\n",
       "[                   0                    0               s3 - 1]\n",
       "[                   0        C^2*s3 + C*s2              -s2 + 1]"
      ]
     },
     "metadata": {},
     "output_type": "display_data"
    },
    {
     "name": "stdout",
     "output_type": "stream",
     "text": [
      "Boundary matrix on the stable subspace for extrapolation sigma = 2 at z = 1\n"
     ]
    },
    {
     "data": {
      "text/html": [
       "<html>\\(\\displaystyle \\left(\\begin{array}{rrr}\n",
       "0 & -{\\mathcal{C}} {s_2} {s_3} + {\\mathcal{C}} {s_2} & {\\left({s_2} - 1\\right)} {s_3} - {s_2} + 1 \\\\\n",
       "0 & 0 & {s_3} - 1 \\\\\n",
       "0 & {\\mathcal{C}}^{2} {s_3} + {\\mathcal{C}} {s_2} & -{s_2} + 1\n",
       "\\end{array}\\right)\\)</html>"
      ],
      "text/latex": [
       "$\\displaystyle \\left(\\begin{array}{rrr}\n",
       "0 & -{\\mathcal{C}} {s_2} {s_3} + {\\mathcal{C}} {s_2} & {\\left({s_2} - 1\\right)} {s_3} - {s_2} + 1 \\\\\n",
       "0 & 0 & {s_3} - 1 \\\\\n",
       "0 & {\\mathcal{C}}^{2} {s_3} + {\\mathcal{C}} {s_2} & -{s_2} + 1\n",
       "\\end{array}\\right)$"
      ],
      "text/plain": [
       "[                   0      -C*s2*s3 + C*s2 (s2 - 1)*s3 - s2 + 1]\n",
       "[                   0                    0               s3 - 1]\n",
       "[                   0        C^2*s3 + C*s2              -s2 + 1]"
      ]
     },
     "metadata": {},
     "output_type": "display_data"
    },
    {
     "name": "stdout",
     "output_type": "stream",
     "text": [
      "Boundary matrix on the stable subspace for extrapolation sigma = 3 at z = 1\n"
     ]
    },
    {
     "data": {
      "text/html": [
       "<html>\\(\\displaystyle \\left(\\begin{array}{rrr}\n",
       "0 & -{\\mathcal{C}} {s_2} {s_3} + {\\mathcal{C}} {s_2} & {\\left({s_2} - 1\\right)} {s_3} - {s_2} + 1 \\\\\n",
       "0 & 0 & {s_3} - 1 \\\\\n",
       "0 & {\\mathcal{C}}^{2} {s_3} + {\\mathcal{C}} {s_2} & -{s_2} + 1\n",
       "\\end{array}\\right)\\)</html>"
      ],
      "text/latex": [
       "$\\displaystyle \\left(\\begin{array}{rrr}\n",
       "0 & -{\\mathcal{C}} {s_2} {s_3} + {\\mathcal{C}} {s_2} & {\\left({s_2} - 1\\right)} {s_3} - {s_2} + 1 \\\\\n",
       "0 & 0 & {s_3} - 1 \\\\\n",
       "0 & {\\mathcal{C}}^{2} {s_3} + {\\mathcal{C}} {s_2} & -{s_2} + 1\n",
       "\\end{array}\\right)$"
      ],
      "text/plain": [
       "[                   0      -C*s2*s3 + C*s2 (s2 - 1)*s3 - s2 + 1]\n",
       "[                   0                    0               s3 - 1]\n",
       "[                   0        C^2*s3 + C*s2              -s2 + 1]"
      ]
     },
     "metadata": {},
     "output_type": "display_data"
    },
    {
     "name": "stdout",
     "output_type": "stream",
     "text": [
      "Boundary matrix on the stable subspace for extrapolation sigma = 4 at z = 1\n"
     ]
    },
    {
     "data": {
      "text/html": [
       "<html>\\(\\displaystyle \\left(\\begin{array}{rrr}\n",
       "0 & -{\\mathcal{C}} {s_2} {s_3} + {\\mathcal{C}} {s_2} & {\\left({s_2} - 1\\right)} {s_3} - {s_2} + 1 \\\\\n",
       "0 & 0 & {s_3} - 1 \\\\\n",
       "0 & {\\mathcal{C}}^{2} {s_3} + {\\mathcal{C}} {s_2} & -{s_2} + 1\n",
       "\\end{array}\\right)\\)</html>"
      ],
      "text/latex": [
       "$\\displaystyle \\left(\\begin{array}{rrr}\n",
       "0 & -{\\mathcal{C}} {s_2} {s_3} + {\\mathcal{C}} {s_2} & {\\left({s_2} - 1\\right)} {s_3} - {s_2} + 1 \\\\\n",
       "0 & 0 & {s_3} - 1 \\\\\n",
       "0 & {\\mathcal{C}}^{2} {s_3} + {\\mathcal{C}} {s_2} & -{s_2} + 1\n",
       "\\end{array}\\right)$"
      ],
      "text/plain": [
       "[                   0      -C*s2*s3 + C*s2 (s2 - 1)*s3 - s2 + 1]\n",
       "[                   0                    0               s3 - 1]\n",
       "[                   0        C^2*s3 + C*s2              -s2 + 1]"
      ]
     },
     "metadata": {},
     "output_type": "display_data"
    }
   ],
   "source": [
    "#### Critical point z = 1, k = 1 for C>0\n",
    "forget()\n",
    "assume(C>0)\n",
    "#### We make natural assumptions\n",
    "assume(s2>0)\n",
    "assume(s2<=2)\n",
    "assume(s3>0)\n",
    "assume(s3<=2)\n",
    "\n",
    "print(\"Value of kminus at z=1\")\n",
    "pretty_print(kminus.subs(z==1).expand().full_simplify()) ### This order is the only one which does not block the computation with these assumptions\n",
    "print(\"Value of kplus at z=1\")\n",
    "pretty_print(kplus.subs(z==1).expand().full_simplify())\n",
    "\n",
    "ks = kplus.full_simplify()\n",
    "\n",
    "\n",
    "### I do not compute Taylor expansions in z, too expensive (with three free parameters)\n",
    "### Still, the eigenvector does not have poles.\n",
    "\n",
    "LzLim = Lz.subs(k==1).subs(z==1)\n",
    "\n",
    "for i in range(q):\n",
    "    for j in range(q):\n",
    "        LzLim[i, j] = LzLim[i, j].full_simplify()\n",
    "     \n",
    "phiSLim = matrix([[LzLim.transpose().kernel().basis()[0][0]], \\\n",
    "                  [LzLim.transpose().kernel().basis()[0][1].full_simplify()], \\\n",
    "                  [LzLim.transpose().kernel().basis()[0][2].full_simplify()]])\n",
    "\n",
    "bd00  = matrix(SR, q, q)\n",
    "bd01 = matrix(SR, q, q)\n",
    "bd02 = matrix(SR, q, q)\n",
    "bd03 = matrix(SR, q, q)\n",
    "\n",
    "Bs = matrix(SR, q, q) #### Boundary matrix on the stable subspace\n",
    "\n",
    "#### Extrapolation sigma = 1\n",
    "for i in range(q):\n",
    "    for j in range(q):\n",
    "        bd00[i, j] = bdMat_sigma1[i, j].full_simplify().collect(k).coefficient(k, 0)\n",
    "        bd01[i, j] = bdMat_sigma1[i, j].full_simplify().collect(k).coefficient(k, 1)\n",
    "        \n",
    "Bs[:, 0] = (bd00 + bd01*1).subs(z==1)*phiSLim ### First column\n",
    "Bs[:, 1] = (bd00).subs(z==1)*phi01 ### Second column\n",
    "Bs[:, 2] = (bd00).subs(z==1)*phi02 ### Third column\n",
    "\n",
    "for i in range(q):\n",
    "    for j in range(q):\n",
    "        Bs[i, j] = Bs[i, j].full_simplify()\n",
    "print(\"Boundary matrix on the stable subspace for extrapolation sigma = 1 at z = 1\")\n",
    "pretty_print(Bs)\n",
    "\n",
    "#### Extrapolation sigma = 2\n",
    "for i in range(q):\n",
    "    for j in range(q):\n",
    "        bd00[i, j] = bdMat_sigma2[i, j].full_simplify().collect(k).coefficient(k, 0)\n",
    "        bd01[i, j] = bdMat_sigma2[i, j].full_simplify().collect(k).coefficient(k, 1)\n",
    "        \n",
    "Bs[:, 0] = (bd00 + bd01*1).subs(z==1)*phiSLim ### First column\n",
    "Bs[:, 1] = (bd00).subs(z==1)*phi01 ### Second column\n",
    "Bs[:, 2] = (bd00).subs(z==1)*phi02 ### Third column\n",
    "\n",
    "for i in range(q):\n",
    "    for j in range(q):\n",
    "        Bs[i, j] = Bs[i, j].full_simplify()\n",
    "print(\"Boundary matrix on the stable subspace for extrapolation sigma = 2 at z = 1\")\n",
    "pretty_print(Bs)\n",
    "\n",
    "#### Extrapolation sigma = 3\n",
    "for i in range(q):\n",
    "    for j in range(q):\n",
    "        bd00[i, j] = bdMat_sigma3[i, j].full_simplify().collect(k).coefficient(k, 0)\n",
    "        bd01[i, j] = bdMat_sigma3[i, j].full_simplify().collect(k).coefficient(k, 1)\n",
    "        bd02[i, j] = bdMat_sigma3[i, j].full_simplify().collect(k).coefficient(k, 2)\n",
    "        \n",
    "Bs[:, 0] = (bd00 + bd01*1 + bd02*1**2).subs(z==1)*phiSLim ### First column\n",
    "Bs[:, 1] = (bd00).subs(z==1)*phi01 ### Second column\n",
    "Bs[:, 2] = (bd00).subs(z==1)*phi02 ### Third column\n",
    "\n",
    "for i in range(q):\n",
    "    for j in range(q):\n",
    "        Bs[i, j] = Bs[i, j].full_simplify()\n",
    "print(\"Boundary matrix on the stable subspace for extrapolation sigma = 3 at z = 1\")\n",
    "pretty_print(Bs)\n",
    "\n",
    "#### Extrapolation sigma = 4\n",
    "for i in range(q):\n",
    "    for j in range(q):\n",
    "        bd00[i, j] = bdMat_sigma4[i, j].full_simplify().collect(k).coefficient(k, 0)\n",
    "        bd01[i, j] = bdMat_sigma4[i, j].full_simplify().collect(k).coefficient(k, 1)\n",
    "        bd02[i, j] = bdMat_sigma4[i, j].full_simplify().collect(k).coefficient(k, 2)\n",
    "        bd03[i, j] = bdMat_sigma4[i, j].full_simplify().collect(k).coefficient(k, 3)\n",
    "        \n",
    "Bs[:, 0] = (bd00 + bd01*1 + bd02*1**2 + bd03*1**3).subs(z==1)*phiSLim ### First column\n",
    "Bs[:, 1] = (bd00).subs(z==1)*phi01 ### Second column\n",
    "Bs[:, 2] = (bd00).subs(z==1)*phi02 ### Third column\n",
    "\n",
    "for i in range(q):\n",
    "    for j in range(q):\n",
    "        Bs[i, j] = Bs[i, j].full_simplify()\n",
    "print(\"Boundary matrix on the stable subspace for extrapolation sigma = 4 at z = 1\")\n",
    "pretty_print(Bs)"
   ]
  },
  {
   "cell_type": "code",
   "execution_count": null,
   "id": "a709865c",
   "metadata": {},
   "outputs": [],
   "source": []
  },
  {
   "cell_type": "code",
   "execution_count": null,
   "id": "c612a117",
   "metadata": {},
   "outputs": [],
   "source": []
  },
  {
   "cell_type": "code",
   "execution_count": null,
   "id": "1921e4d4",
   "metadata": {},
   "outputs": [],
   "source": []
  }
 ],
 "metadata": {
  "kernelspec": {
   "display_name": "SageMath 10.0",
   "language": "sage",
   "name": "sagemath"
  },
  "language_info": {
   "codemirror_mode": {
    "name": "ipython",
    "version": 3
   },
   "file_extension": ".py",
   "mimetype": "text/x-python",
   "name": "python",
   "nbconvert_exporter": "python",
   "pygments_lexer": "ipython3",
   "version": "3.11.9"
  }
 },
 "nbformat": 4,
 "nbformat_minor": 5
}
